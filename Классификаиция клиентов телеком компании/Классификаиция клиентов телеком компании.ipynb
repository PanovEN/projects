{
 "cells": [
  {
   "cell_type": "markdown",
   "metadata": {},
   "source": [
    "# Рекомендация тарифов"
   ]
  },
  {
   "cell_type": "markdown",
   "metadata": {},
   "source": [
    "В вашем распоряжении данные о поведении клиентов, которые уже перешли на эти тарифы (из проекта курса «Статистический анализ данных»). Нужно построить модель для задачи классификации, которая выберет подходящий тариф. Предобработка данных не понадобится — мы её уже сделали.\n",
    "\n",
    "Необходимо построить модель с максимально большим значением *accuracy*. Чтобы сдать проект успешно, нужно довести долю правильных ответов по крайней мере до 0.75. Проверьте *accuracy* на тестовой выборке самостоятельно."
   ]
  },
  {
   "cell_type": "markdown",
   "metadata": {},
   "source": [
    "## Откройте и изучите файл"
   ]
  },
  {
   "cell_type": "code",
   "execution_count": 1,
   "metadata": {},
   "outputs": [],
   "source": [
    "# Загружаем необходимые в работе библиотеки\n",
    "import pandas as pd\n",
    "import matplotlib.pyplot as plt\n",
    "from sklearn.tree import DecisionTreeClassifier\n",
    "from sklearn.model_selection import train_test_split\n",
    "from sklearn.metrics import accuracy_score\n",
    "from sklearn.ensemble import RandomForestClassifier\n",
    "from sklearn.linear_model import LogisticRegression\n",
    "from sklearn.dummy import DummyClassifier\n",
    "from sklearn import tree\n",
    "from tqdm import tqdm"
   ]
  },
  {
   "cell_type": "code",
   "execution_count": 2,
   "metadata": {},
   "outputs": [
    {
     "data": {
      "text/html": [
       "<div>\n",
       "<style scoped>\n",
       "    .dataframe tbody tr th:only-of-type {\n",
       "        vertical-align: middle;\n",
       "    }\n",
       "\n",
       "    .dataframe tbody tr th {\n",
       "        vertical-align: top;\n",
       "    }\n",
       "\n",
       "    .dataframe thead th {\n",
       "        text-align: right;\n",
       "    }\n",
       "</style>\n",
       "<table border=\"1\" class=\"dataframe\">\n",
       "  <thead>\n",
       "    <tr style=\"text-align: right;\">\n",
       "      <th></th>\n",
       "      <th>calls</th>\n",
       "      <th>minutes</th>\n",
       "      <th>messages</th>\n",
       "      <th>mb_used</th>\n",
       "      <th>is_ultra</th>\n",
       "    </tr>\n",
       "  </thead>\n",
       "  <tbody>\n",
       "    <tr>\n",
       "      <th>0</th>\n",
       "      <td>40.0</td>\n",
       "      <td>311.90</td>\n",
       "      <td>83.0</td>\n",
       "      <td>19915.42</td>\n",
       "      <td>0</td>\n",
       "    </tr>\n",
       "    <tr>\n",
       "      <th>1</th>\n",
       "      <td>85.0</td>\n",
       "      <td>516.75</td>\n",
       "      <td>56.0</td>\n",
       "      <td>22696.96</td>\n",
       "      <td>0</td>\n",
       "    </tr>\n",
       "    <tr>\n",
       "      <th>2</th>\n",
       "      <td>77.0</td>\n",
       "      <td>467.66</td>\n",
       "      <td>86.0</td>\n",
       "      <td>21060.45</td>\n",
       "      <td>0</td>\n",
       "    </tr>\n",
       "    <tr>\n",
       "      <th>3</th>\n",
       "      <td>106.0</td>\n",
       "      <td>745.53</td>\n",
       "      <td>81.0</td>\n",
       "      <td>8437.39</td>\n",
       "      <td>1</td>\n",
       "    </tr>\n",
       "    <tr>\n",
       "      <th>4</th>\n",
       "      <td>66.0</td>\n",
       "      <td>418.74</td>\n",
       "      <td>1.0</td>\n",
       "      <td>14502.75</td>\n",
       "      <td>0</td>\n",
       "    </tr>\n",
       "  </tbody>\n",
       "</table>\n",
       "</div>"
      ],
      "text/plain": [
       "   calls  minutes  messages   mb_used  is_ultra\n",
       "0   40.0   311.90      83.0  19915.42         0\n",
       "1   85.0   516.75      56.0  22696.96         0\n",
       "2   77.0   467.66      86.0  21060.45         0\n",
       "3  106.0   745.53      81.0   8437.39         1\n",
       "4   66.0   418.74       1.0  14502.75         0"
      ]
     },
     "execution_count": 2,
     "metadata": {},
     "output_type": "execute_result"
    }
   ],
   "source": [
    "df = pd.read_csv('/datasets/users_behavior.csv')\n",
    "df.head()"
   ]
  },
  {
   "cell_type": "code",
   "execution_count": 3,
   "metadata": {},
   "outputs": [
    {
     "name": "stdout",
     "output_type": "stream",
     "text": [
      "<class 'pandas.core.frame.DataFrame'>\n",
      "RangeIndex: 3214 entries, 0 to 3213\n",
      "Data columns (total 5 columns):\n",
      " #   Column    Non-Null Count  Dtype  \n",
      "---  ------    --------------  -----  \n",
      " 0   calls     3214 non-null   float64\n",
      " 1   minutes   3214 non-null   float64\n",
      " 2   messages  3214 non-null   float64\n",
      " 3   mb_used   3214 non-null   float64\n",
      " 4   is_ultra  3214 non-null   int64  \n",
      "dtypes: float64(4), int64(1)\n",
      "memory usage: 125.7 KB\n"
     ]
    }
   ],
   "source": [
    "df.info()"
   ]
  },
  {
   "cell_type": "code",
   "execution_count": 4,
   "metadata": {},
   "outputs": [
    {
     "data": {
      "text/html": [
       "<div>\n",
       "<style scoped>\n",
       "    .dataframe tbody tr th:only-of-type {\n",
       "        vertical-align: middle;\n",
       "    }\n",
       "\n",
       "    .dataframe tbody tr th {\n",
       "        vertical-align: top;\n",
       "    }\n",
       "\n",
       "    .dataframe thead th {\n",
       "        text-align: right;\n",
       "    }\n",
       "</style>\n",
       "<table border=\"1\" class=\"dataframe\">\n",
       "  <thead>\n",
       "    <tr style=\"text-align: right;\">\n",
       "      <th></th>\n",
       "      <th>calls</th>\n",
       "      <th>minutes</th>\n",
       "      <th>messages</th>\n",
       "      <th>mb_used</th>\n",
       "      <th>is_ultra</th>\n",
       "    </tr>\n",
       "  </thead>\n",
       "  <tbody>\n",
       "    <tr>\n",
       "      <th>count</th>\n",
       "      <td>3214.000000</td>\n",
       "      <td>3214.000000</td>\n",
       "      <td>3214.000000</td>\n",
       "      <td>3214.000000</td>\n",
       "      <td>3214.000000</td>\n",
       "    </tr>\n",
       "    <tr>\n",
       "      <th>mean</th>\n",
       "      <td>63.038892</td>\n",
       "      <td>438.208787</td>\n",
       "      <td>38.281269</td>\n",
       "      <td>17207.673836</td>\n",
       "      <td>0.306472</td>\n",
       "    </tr>\n",
       "    <tr>\n",
       "      <th>std</th>\n",
       "      <td>33.236368</td>\n",
       "      <td>234.569872</td>\n",
       "      <td>36.148326</td>\n",
       "      <td>7570.968246</td>\n",
       "      <td>0.461100</td>\n",
       "    </tr>\n",
       "    <tr>\n",
       "      <th>min</th>\n",
       "      <td>0.000000</td>\n",
       "      <td>0.000000</td>\n",
       "      <td>0.000000</td>\n",
       "      <td>0.000000</td>\n",
       "      <td>0.000000</td>\n",
       "    </tr>\n",
       "    <tr>\n",
       "      <th>25%</th>\n",
       "      <td>40.000000</td>\n",
       "      <td>274.575000</td>\n",
       "      <td>9.000000</td>\n",
       "      <td>12491.902500</td>\n",
       "      <td>0.000000</td>\n",
       "    </tr>\n",
       "    <tr>\n",
       "      <th>50%</th>\n",
       "      <td>62.000000</td>\n",
       "      <td>430.600000</td>\n",
       "      <td>30.000000</td>\n",
       "      <td>16943.235000</td>\n",
       "      <td>0.000000</td>\n",
       "    </tr>\n",
       "    <tr>\n",
       "      <th>75%</th>\n",
       "      <td>82.000000</td>\n",
       "      <td>571.927500</td>\n",
       "      <td>57.000000</td>\n",
       "      <td>21424.700000</td>\n",
       "      <td>1.000000</td>\n",
       "    </tr>\n",
       "    <tr>\n",
       "      <th>max</th>\n",
       "      <td>244.000000</td>\n",
       "      <td>1632.060000</td>\n",
       "      <td>224.000000</td>\n",
       "      <td>49745.730000</td>\n",
       "      <td>1.000000</td>\n",
       "    </tr>\n",
       "  </tbody>\n",
       "</table>\n",
       "</div>"
      ],
      "text/plain": [
       "             calls      minutes     messages       mb_used     is_ultra\n",
       "count  3214.000000  3214.000000  3214.000000   3214.000000  3214.000000\n",
       "mean     63.038892   438.208787    38.281269  17207.673836     0.306472\n",
       "std      33.236368   234.569872    36.148326   7570.968246     0.461100\n",
       "min       0.000000     0.000000     0.000000      0.000000     0.000000\n",
       "25%      40.000000   274.575000     9.000000  12491.902500     0.000000\n",
       "50%      62.000000   430.600000    30.000000  16943.235000     0.000000\n",
       "75%      82.000000   571.927500    57.000000  21424.700000     1.000000\n",
       "max     244.000000  1632.060000   224.000000  49745.730000     1.000000"
      ]
     },
     "execution_count": 4,
     "metadata": {},
     "output_type": "execute_result"
    }
   ],
   "source": [
    "df.describe()"
   ]
  },
  {
   "cell_type": "code",
   "execution_count": 5,
   "metadata": {
    "scrolled": true
   },
   "outputs": [
    {
     "data": {
      "text/plain": [
       "0    2229\n",
       "1     985\n",
       "Name: is_ultra, dtype: int64"
      ]
     },
     "execution_count": 5,
     "metadata": {},
     "output_type": "execute_result"
    }
   ],
   "source": [
    "df['is_ultra'].value_counts()"
   ]
  },
  {
   "cell_type": "markdown",
   "metadata": {},
   "source": [
    "**Выводы по предварительному изучению данных:**\n",
    "- имеем данные абонентов по количеству звонков, минут, отправленных сообщений, израсходованных мегабайт, факту подключения к тарифу \"Ультра\".\n",
    "- пропусков в датасете нет. Тип данных позволит без ограничений провести необходимый анализ (преобразовывать нет необходимости).\n",
    "- всего имеем 3214 записей данных абонентов, этого более, чем достаточно для анализа.\n",
    "- по количеству звонков, минут, отправленных сообщений, израсходованных мегабайт (наши признаки для анализа) - данные очень сильно разнятся.\n",
    "- касательно сбалансированности таргетов: к тарифу \"Ультра\" подключено всего 985 абонентов из 3214 (30,6%, несбалансирован)"
   ]
  },
  {
   "cell_type": "markdown",
   "metadata": {},
   "source": [
    "## Разбейте данные на выборки"
   ]
  },
  {
   "cell_type": "code",
   "execution_count": 6,
   "metadata": {},
   "outputs": [
    {
     "name": "stdout",
     "output_type": "stream",
     "text": [
      "Признаки в Обучающей выборке: (1928, 4) Цель Обучающей выборки: (1928,)\n",
      "Признаки в Валидационной выборке: (643, 4) Цель Валидационной выборки: (643,)\n",
      "Признаки в Тестовой выборке: (643, 4) Цель Тестовой выборки: (643,)\n"
     ]
    }
   ],
   "source": [
    "# Разделяем данные на свойства и цель\n",
    "features = df.drop(['is_ultra'], axis=1)\n",
    "target = df['is_ultra']\n",
    "# Делим выборки на Обучающие 60% и Тестовые\n",
    "features_train, features_test, target_train, target_test = train_test_split(features, target, test_size=0.4,\n",
    "                                                                            random_state=12345, stratify=target)\n",
    "# Тестовые выборки делим пополам, для получения Валидационных выборок\n",
    "features_valid, features_test, target_valid, target_test = train_test_split(\n",
    "    features_test, target_test, test_size=0.5, random_state=12345, stratify=target_test)\n",
    "print(\"Признаки в Обучающей выборке:\", features_train.shape, \"Цель Обучающей выборки:\", target_train.shape)\n",
    "print(\"Признаки в Валидационной выборке:\", features_valid.shape, \"Цель Валидационной выборки:\", target_valid.shape)\n",
    "print(\"Признаки в Тестовой выборке:\", features_test.shape, \"Цель Тестовой выборки:\", target_test.shape)"
   ]
  },
  {
   "cell_type": "markdown",
   "metadata": {},
   "source": [
    "## Исследуйте модели"
   ]
  },
  {
   "cell_type": "code",
   "execution_count": 7,
   "metadata": {},
   "outputs": [
    {
     "name": "stdout",
     "output_type": "stream",
     "text": [
      "accuracy наилучшей модели на валидационной выборке: 0.80248833592535 Глубина дерева: 8\n"
     ]
    },
    {
     "data": {
      "image/png": "[encoded data removed]",
      "text/plain": [
       "<Figure size 864x288 with 1 Axes>"
      ]
     },
     "metadata": {
      "needs_background": "light"
     },
     "output_type": "display_data"
    }
   ],
   "source": [
    "# Дерево решений\n",
    "best_model_tree = None\n",
    "best_accuracy_tree = 0\n",
    "best_depth_tree = 0\n",
    "list_train = []\n",
    "list_valid = []\n",
    "for depth in range(1,21):\n",
    "    model = DecisionTreeClassifier(random_state=12345, max_depth=depth)\n",
    "    model.fit(features_train, target_train)\n",
    "    \n",
    "    predictions_train = model.predict(features_train)\n",
    "    accuracy = accuracy_score(target_train, predictions_train)\n",
    "    list_train.append(accuracy)\n",
    "    \n",
    "    predictions_valid = model.predict(features_valid)\n",
    "    accuracy = accuracy_score(target_valid, predictions_valid)\n",
    "    list_valid.append(accuracy)\n",
    "    \n",
    "    if accuracy > best_accuracy_tree:\n",
    "        best_model_tree = model\n",
    "        best_accuracy_tree = accuracy\n",
    "        best_depth_tree = depth\n",
    "print(\"accuracy наилучшей модели на валидационной выборке:\", best_accuracy_tree, \"Глубина дерева:\", best_depth_tree)\n",
    "\n",
    "#  на основании двух списков строим график\n",
    "plt.figure(figsize=(12, 4))\n",
    "plt.plot(list_valid, label = 'Валидационная')\n",
    "plt.plot(list_train, label = 'Обучающая')\n",
    "plt.title('Зависимость точности модели от max_depth', size=20)\n",
    "plt.xlabel('Глубина дерева')\n",
    "plt.ylabel('Значение accuracy')\n",
    "plt.legend();"
   ]
  },
  {
   "cell_type": "code",
   "execution_count": 8,
   "metadata": {},
   "outputs": [
    {
     "data": {
      "image/png": "[encoded data removed]",
      "text/plain": [
       "<Figure size 432x288 with 1 Axes>"
      ]
     },
     "metadata": {
      "needs_background": "light"
     },
     "output_type": "display_data"
    }
   ],
   "source": [
    "# Строим дерево\n",
    "model = DecisionTreeClassifier(random_state=12345, max_depth=3)\n",
    "tr = model.fit(features_train, target_train)\n",
    "tree.plot_tree(tr, fontsize=8);"
   ]
  },
  {
   "cell_type": "code",
   "execution_count": 9,
   "metadata": {},
   "outputs": [
    {
     "name": "stderr",
     "output_type": "stream",
     "text": [
      "100%|██████████| 50/50 [00:30<00:00,  1.67it/s]"
     ]
    },
    {
     "name": "stdout",
     "output_type": "stream",
     "text": [
      "accuracy лучшей модели 'Случайный лес' на валидац. выборке: 0.8227060653188181 Количество деревьев: 39 Глубина деревьев: 9\n",
      "CPU times: user 29.7 s, sys: 298 ms, total: 30 s\n",
      "Wall time: 30 s\n"
     ]
    },
    {
     "name": "stderr",
     "output_type": "stream",
     "text": [
      "\n"
     ]
    }
   ],
   "source": [
    "%%time\n",
    "# Случайный лес\n",
    "best_model_forest = None\n",
    "best_accuracy_forest = 0\n",
    "best_est = 0\n",
    "best_depth_forest = 0\n",
    "for est in tqdm(range(1, 51)):\n",
    "    for depth in range (1, 11):\n",
    "        model = RandomForestClassifier(random_state=12345, n_estimators=est, max_depth=depth)\n",
    "        model.fit(features_train, target_train)\n",
    "        predictions_valid = model.predict(features_valid)\n",
    "        accuracy = accuracy_score(target_valid, predictions_valid)\n",
    "        if accuracy > best_accuracy_forest:\n",
    "            best_model_forest = model\n",
    "            best_accuracy_forest = accuracy\n",
    "            best_est = est\n",
    "            best_depth_forest = depth\n",
    "print(\"accuracy лучшей модели 'Случайный лес' на валидац. выборке:\", best_accuracy_forest, \"Количество деревьев:\",\n",
    "      best_est, \"Глубина деревьев:\", best_depth_forest)"
   ]
  },
  {
   "cell_type": "code",
   "execution_count": 10,
   "metadata": {},
   "outputs": [
    {
     "name": "stdout",
     "output_type": "stream",
     "text": [
      "accuracy модели Логистической регрессии на валидационной выборке: 0.7387247278382582\n"
     ]
    }
   ],
   "source": [
    "# Логистическая регрессия\n",
    "model_regr = LogisticRegression(random_state=12345, solver='lbfgs', max_iter=10000)\n",
    "model_regr.fit(features_train, target_train)\n",
    "predictions_valid_regr = model_regr.predict(features_valid)\n",
    "print(\"accuracy модели Логистической регрессии на валидационной выборке:\", accuracy_score(target_valid, predictions_valid_regr))"
   ]
  },
  {
   "cell_type": "markdown",
   "metadata": {},
   "source": [
    "<div class=\"alert alert-info\">\n",
    "Выводы:\n",
    "    \n",
    "- Применили три вида моделей: \"Дерево решений\"(DT), \"Случайный лес\"(RF), и \"Логистическая регрессия\"(LR).\n",
    "    \n",
    "- В модели DT на валидации при увеличении глубины дерева - метрика качества стала снижаться, в то время, как на обучающей выборке она растёт. Это связано с переобучением модели (т.е. модель хорошо запомнила ответы, но не поняла сути)\n",
    "\n",
    "- Наибольшая доля правильных ответов по метрике accuracy получилась с моделью \"Случайный лес\": 0,82, с 39 деревьями и глубиной 9. Это объяснимо, модели RF обычно показывают лучшие результаты: благодаря большому количеству независимых друг от друга деревьев и принятии решения на основе сравнения их результатов, это помогает улучшить результат предсказания и избежать переобучения.\n",
    "    \n",
    "- В модели LR слово «регрессия»  присутствует потому, что в процессе её обучения выявляется некая зависимость, устанавливающая соответствие между случайными переменными на входе. Таким способом решается задача классификации.\n",
    "    \n",
    "- Логистическая регрессия использует логистическую связь для соединения выходных и входных данных. В ней существует одна гладкая линейная граница принятия решения. Поэтому она показала нам результаты хуже, чем две другие модели.\n",
    "</div>"
   ]
  },
  {
   "cell_type": "markdown",
   "metadata": {},
   "source": [
    "<div class=\"alert alert-info\">\n",
    "Дообучим выбранную нами модель RF, на обучающей + валидационной выборке:\n",
    "</div>"
   ]
  },
  {
   "cell_type": "code",
   "execution_count": 11,
   "metadata": {},
   "outputs": [],
   "source": [
    "best_model_forest.fit(pd.concat([features_train, features_valid]), pd.concat([target_train, target_valid]));"
   ]
  },
  {
   "cell_type": "markdown",
   "metadata": {},
   "source": [
    "## Проверьте модель на тестовой выборке"
   ]
  },
  {
   "cell_type": "code",
   "execution_count": 12,
   "metadata": {},
   "outputs": [
    {
     "name": "stdout",
     "output_type": "stream",
     "text": [
      "accuracy: 0.8289269051321928\n"
     ]
    }
   ],
   "source": [
    "# Модель \"Случайный лес\"\n",
    "predictions_test = best_model_forest.predict(features_test)\n",
    "print('accuracy:', accuracy_score(target_test, predictions_test))"
   ]
  },
  {
   "cell_type": "markdown",
   "metadata": {},
   "source": [
    "<div class=\"alert alert-info\">\n",
    "На тестовой выборке, на Дообученной модели - результат получился даже лучше, чем на валидационной.\n",
    "</div>"
   ]
  },
  {
   "cell_type": "markdown",
   "metadata": {},
   "source": [
    "## (бонус) Проверьте модели на адекватность"
   ]
  },
  {
   "cell_type": "markdown",
   "metadata": {},
   "source": [
    "Для проверки используем классификатор DummyClassifier."
   ]
  },
  {
   "cell_type": "code",
   "execution_count": 13,
   "metadata": {},
   "outputs": [
    {
     "name": "stdout",
     "output_type": "stream",
     "text": [
      "Accuracy DummyClassifier: 0.6936236391912908\n"
     ]
    }
   ],
   "source": [
    "model_dc = DummyClassifier(strategy='most_frequent', random_state=12345)\n",
    "model_dc.fit(features_train, target_train)\n",
    "accuracy_dc = model_dc.score(features_valid, target_valid)\n",
    "print('Accuracy DummyClassifier:', accuracy_dc)"
   ]
  },
  {
   "cell_type": "markdown",
   "metadata": {},
   "source": [
    "**Вывод**\n",
    "Accuracy модели DummyClassifier (0.693) ниже, чем у нашей модели \"Случайный лес\" (0.829) - модель адекватна и эффективна."
   ]
  },
  {
   "cell_type": "markdown",
   "metadata": {},
   "source": [
    "<div class=\"alert alert-info\">\n",
    "Общий вывод\n",
    "    \n",
    "- Были исследованы модели  \"Дерево решений\", \"Случайный лес\", и \"Логистическая регрессия\";\n",
    "    \n",
    "- Наилучшую точность (accuracy = 0.827 на валидационной выборке) показала модель \"Случайный лес\" с гиперпараметрами: деревьев - 39, глубина деревьев - 9;\n",
    "    \n",
    "- Далее выбранная модель была дообучена, на объединённой выборке (тестовая + валидационная)\n",
    "    \n",
    "- Модели была проверена на тестовой выборке. Результат на дообученной модели теперь стал даже выше - Accuracy=0.8289;\n",
    "- Модель проверена на вменяемость. Для проверки использовалась модель DummyClassifier, которая показала результат Accuracy - 0.693.\n",
    "</div>"
   ]
  }
 ],
 "metadata": {
  "ExecuteTimeLog": [
   {
    "duration": 1069,
    "start_time": "2022-12-12T06:02:47.343Z"
   },
   {
    "duration": 154,
    "start_time": "2022-12-12T06:02:50.709Z"
   },
   {
    "duration": 6,
    "start_time": "2022-12-12T06:33:17.248Z"
   },
   {
    "duration": 9,
    "start_time": "2022-12-12T08:50:20.231Z"
   },
   {
    "duration": 1066,
    "start_time": "2022-12-12T08:50:48.839Z"
   },
   {
    "duration": 46,
    "start_time": "2022-12-12T08:50:54.497Z"
   },
   {
    "duration": 9,
    "start_time": "2022-12-12T08:51:03.807Z"
   },
   {
    "duration": 1145,
    "start_time": "2022-12-12T09:13:31.510Z"
   },
   {
    "duration": 47,
    "start_time": "2022-12-12T09:13:34.410Z"
   },
   {
    "duration": 9,
    "start_time": "2022-12-12T09:13:43.633Z"
   },
   {
    "duration": 63,
    "start_time": "2022-12-12T09:48:31.305Z"
   },
   {
    "duration": 12,
    "start_time": "2022-12-12T10:01:55.097Z"
   },
   {
    "duration": 37508,
    "start_time": "2022-12-12T10:11:50.800Z"
   },
   {
    "duration": 4,
    "start_time": "2022-12-12T10:16:19.467Z"
   },
   {
    "duration": 25,
    "start_time": "2022-12-12T10:30:45.397Z"
   },
   {
    "duration": 29,
    "start_time": "2022-12-12T10:31:00.989Z"
   },
   {
    "duration": 27,
    "start_time": "2022-12-12T10:31:07.605Z"
   },
   {
    "duration": 1100,
    "start_time": "2022-12-12T10:51:37.418Z"
   },
   {
    "duration": 45,
    "start_time": "2022-12-12T10:51:38.520Z"
   },
   {
    "duration": 9,
    "start_time": "2022-12-12T10:51:38.566Z"
   },
   {
    "duration": 116,
    "start_time": "2022-12-12T10:51:38.577Z"
   },
   {
    "duration": 0,
    "start_time": "2022-12-12T10:51:38.694Z"
   },
   {
    "duration": 0,
    "start_time": "2022-12-12T10:51:38.696Z"
   },
   {
    "duration": 65,
    "start_time": "2022-12-12T10:53:09.347Z"
   },
   {
    "duration": 34106,
    "start_time": "2022-12-12T10:53:15.213Z"
   },
   {
    "duration": 34672,
    "start_time": "2022-12-12T10:55:04.211Z"
   },
   {
    "duration": 29,
    "start_time": "2022-12-12T10:56:22.059Z"
   },
   {
    "duration": 1001,
    "start_time": "2022-12-13T04:41:11.671Z"
   },
   {
    "duration": 185,
    "start_time": "2022-12-13T04:41:12.674Z"
   },
   {
    "duration": 8,
    "start_time": "2022-12-13T04:41:12.861Z"
   },
   {
    "duration": 67,
    "start_time": "2022-12-13T04:41:12.871Z"
   },
   {
    "duration": 29168,
    "start_time": "2022-12-13T04:41:12.940Z"
   },
   {
    "duration": 28,
    "start_time": "2022-12-13T04:41:42.110Z"
   },
   {
    "duration": 54,
    "start_time": "2022-12-13T04:41:42.140Z"
   },
   {
    "duration": 11,
    "start_time": "2022-12-13T04:42:12.315Z"
   },
   {
    "duration": 5,
    "start_time": "2022-12-13T04:43:37.883Z"
   },
   {
    "duration": 5,
    "start_time": "2022-12-13T04:44:35.985Z"
   },
   {
    "duration": 93,
    "start_time": "2022-12-13T04:45:56.824Z"
   },
   {
    "duration": 9,
    "start_time": "2022-12-13T04:46:20.794Z"
   },
   {
    "duration": 12,
    "start_time": "2022-12-13T04:54:57.843Z"
   },
   {
    "duration": 8,
    "start_time": "2022-12-13T04:55:05.171Z"
   },
   {
    "duration": 6,
    "start_time": "2022-12-13T04:55:07.938Z"
   },
   {
    "duration": 67,
    "start_time": "2022-12-13T05:10:51.166Z"
   },
   {
    "duration": 46,
    "start_time": "2022-12-13T05:11:27.081Z"
   },
   {
    "duration": 53,
    "start_time": "2022-12-13T05:11:59.724Z"
   },
   {
    "duration": 52,
    "start_time": "2022-12-13T05:12:53.858Z"
   },
   {
    "duration": 41,
    "start_time": "2022-12-13T05:13:34.698Z"
   },
   {
    "duration": 38,
    "start_time": "2022-12-13T05:33:39.707Z"
   },
   {
    "duration": 34,
    "start_time": "2022-12-13T05:33:46.676Z"
   },
   {
    "duration": 26,
    "start_time": "2022-12-13T05:33:53.942Z"
   },
   {
    "duration": 34,
    "start_time": "2022-12-13T05:34:17.747Z"
   },
   {
    "duration": 1156,
    "start_time": "2022-12-13T05:34:31.818Z"
   },
   {
    "duration": 42,
    "start_time": "2022-12-13T05:34:32.976Z"
   },
   {
    "duration": 16,
    "start_time": "2022-12-13T05:34:33.023Z"
   },
   {
    "duration": 82,
    "start_time": "2022-12-13T05:34:33.041Z"
   },
   {
    "duration": 34223,
    "start_time": "2022-12-13T05:34:33.125Z"
   },
   {
    "duration": 39,
    "start_time": "2022-12-13T05:35:07.350Z"
   },
   {
    "duration": 28,
    "start_time": "2022-12-13T05:35:07.394Z"
   },
   {
    "duration": 16,
    "start_time": "2022-12-13T05:35:07.424Z"
   },
   {
    "duration": 16,
    "start_time": "2022-12-13T05:35:07.443Z"
   },
   {
    "duration": 34,
    "start_time": "2022-12-13T05:35:23.048Z"
   },
   {
    "duration": 3,
    "start_time": "2022-12-13T05:45:46.619Z"
   },
   {
    "duration": 6,
    "start_time": "2022-12-13T06:42:55.461Z"
   },
   {
    "duration": 1577,
    "start_time": "2022-12-13T10:42:08.030Z"
   },
   {
    "duration": 40,
    "start_time": "2022-12-13T10:42:09.609Z"
   },
   {
    "duration": 8,
    "start_time": "2022-12-13T10:42:09.651Z"
   },
   {
    "duration": 60,
    "start_time": "2022-12-13T10:42:09.662Z"
   },
   {
    "duration": 30109,
    "start_time": "2022-12-13T10:42:09.723Z"
   },
   {
    "duration": 22,
    "start_time": "2022-12-13T10:42:39.834Z"
   },
   {
    "duration": 11,
    "start_time": "2022-12-13T10:42:39.858Z"
   },
   {
    "duration": 7,
    "start_time": "2022-12-13T10:42:39.870Z"
   },
   {
    "duration": 7,
    "start_time": "2022-12-13T10:42:39.878Z"
   },
   {
    "duration": 7,
    "start_time": "2022-12-13T10:42:39.887Z"
   },
   {
    "duration": 67,
    "start_time": "2022-12-13T13:15:21.612Z"
   },
   {
    "duration": 1205,
    "start_time": "2022-12-13T13:15:32.547Z"
   },
   {
    "duration": 88,
    "start_time": "2022-12-13T13:15:41.386Z"
   },
   {
    "duration": 12,
    "start_time": "2022-12-13T13:15:45.713Z"
   },
   {
    "duration": 25,
    "start_time": "2022-12-13T13:16:18.224Z"
   },
   {
    "duration": 29,
    "start_time": "2022-12-13T13:16:33.556Z"
   },
   {
    "duration": 5,
    "start_time": "2022-12-13T13:17:46.907Z"
   },
   {
    "duration": 72,
    "start_time": "2022-12-13T13:19:22.882Z"
   },
   {
    "duration": 1207,
    "start_time": "2022-12-13T19:33:51.134Z"
   },
   {
    "duration": 52,
    "start_time": "2022-12-13T19:33:52.343Z"
   },
   {
    "duration": 15,
    "start_time": "2022-12-13T19:33:52.397Z"
   },
   {
    "duration": 29,
    "start_time": "2022-12-13T19:33:52.414Z"
   },
   {
    "duration": 6,
    "start_time": "2022-12-13T19:33:52.445Z"
   },
   {
    "duration": 132,
    "start_time": "2022-12-13T19:33:52.452Z"
   },
   {
    "duration": 0,
    "start_time": "2022-12-13T19:33:52.586Z"
   },
   {
    "duration": 0,
    "start_time": "2022-12-13T19:33:52.588Z"
   },
   {
    "duration": 0,
    "start_time": "2022-12-13T19:33:52.590Z"
   },
   {
    "duration": 0,
    "start_time": "2022-12-13T19:33:52.592Z"
   },
   {
    "duration": 0,
    "start_time": "2022-12-13T19:33:52.593Z"
   },
   {
    "duration": 0,
    "start_time": "2022-12-13T19:33:52.595Z"
   },
   {
    "duration": 0,
    "start_time": "2022-12-13T19:33:52.597Z"
   },
   {
    "duration": 17,
    "start_time": "2022-12-13T19:34:26.609Z"
   },
   {
    "duration": 12,
    "start_time": "2022-12-13T19:34:57.600Z"
   },
   {
    "duration": 14,
    "start_time": "2022-12-13T19:43:09.022Z"
   },
   {
    "duration": 11,
    "start_time": "2022-12-13T19:47:35.279Z"
   },
   {
    "duration": 273,
    "start_time": "2022-12-13T20:25:28.422Z"
   },
   {
    "duration": 602,
    "start_time": "2022-12-13T20:29:06.150Z"
   },
   {
    "duration": 510,
    "start_time": "2022-12-13T20:29:21.775Z"
   },
   {
    "duration": 427,
    "start_time": "2022-12-13T20:56:07.808Z"
   },
   {
    "duration": 514,
    "start_time": "2022-12-13T21:02:08.708Z"
   },
   {
    "duration": 5,
    "start_time": "2022-12-13T21:03:08.974Z"
   },
   {
    "duration": 818,
    "start_time": "2022-12-13T21:04:32.020Z"
   },
   {
    "duration": 998,
    "start_time": "2022-12-13T21:04:54.759Z"
   },
   {
    "duration": 653,
    "start_time": "2022-12-13T21:05:27.238Z"
   },
   {
    "duration": 633,
    "start_time": "2022-12-13T21:05:37.845Z"
   },
   {
    "duration": 1353,
    "start_time": "2022-12-13T21:06:27.838Z"
   },
   {
    "duration": 767,
    "start_time": "2022-12-13T21:06:41.333Z"
   },
   {
    "duration": 596,
    "start_time": "2022-12-13T21:11:03.721Z"
   },
   {
    "duration": 569,
    "start_time": "2022-12-13T21:11:28.532Z"
   },
   {
    "duration": 383,
    "start_time": "2022-12-13T21:12:53.641Z"
   },
   {
    "duration": 404,
    "start_time": "2022-12-13T21:13:21.009Z"
   },
   {
    "duration": 486,
    "start_time": "2022-12-13T21:15:03.017Z"
   },
   {
    "duration": 451,
    "start_time": "2022-12-13T21:15:22.211Z"
   },
   {
    "duration": 461,
    "start_time": "2022-12-13T21:15:42.671Z"
   },
   {
    "duration": 12,
    "start_time": "2022-12-13T21:24:14.949Z"
   },
   {
    "duration": 9,
    "start_time": "2022-12-13T21:25:44.782Z"
   },
   {
    "duration": 10,
    "start_time": "2022-12-13T21:29:04.223Z"
   },
   {
    "duration": 40491,
    "start_time": "2022-12-13T21:30:37.774Z"
   },
   {
    "duration": 40767,
    "start_time": "2022-12-13T21:31:59.327Z"
   },
   {
    "duration": 9,
    "start_time": "2022-12-13T21:36:20.331Z"
   },
   {
    "duration": 44557,
    "start_time": "2022-12-13T21:37:20.468Z"
   },
   {
    "duration": 46821,
    "start_time": "2022-12-13T21:39:11.286Z"
   },
   {
    "duration": 66,
    "start_time": "2022-12-13T21:45:59.374Z"
   },
   {
    "duration": 1448,
    "start_time": "2022-12-14T05:44:17.401Z"
   },
   {
    "duration": 136,
    "start_time": "2022-12-14T05:44:18.851Z"
   },
   {
    "duration": 13,
    "start_time": "2022-12-14T05:44:18.990Z"
   },
   {
    "duration": 27,
    "start_time": "2022-12-14T05:44:19.005Z"
   },
   {
    "duration": 6,
    "start_time": "2022-12-14T05:44:19.034Z"
   },
   {
    "duration": 19,
    "start_time": "2022-12-14T05:44:19.042Z"
   },
   {
    "duration": 375,
    "start_time": "2022-12-14T05:44:19.063Z"
   },
   {
    "duration": 402,
    "start_time": "2022-12-14T05:44:19.440Z"
   },
   {
    "duration": 30418,
    "start_time": "2022-12-14T05:44:19.844Z"
   },
   {
    "duration": 35,
    "start_time": "2022-12-14T05:44:50.264Z"
   },
   {
    "duration": 27,
    "start_time": "2022-12-14T05:44:50.300Z"
   },
   {
    "duration": 6,
    "start_time": "2022-12-14T05:44:50.329Z"
   },
   {
    "duration": 7,
    "start_time": "2022-12-14T05:44:50.336Z"
   },
   {
    "duration": 8,
    "start_time": "2022-12-14T05:44:50.345Z"
   },
   {
    "duration": 94,
    "start_time": "2022-12-14T06:55:44.962Z"
   },
   {
    "duration": 146,
    "start_time": "2022-12-14T06:57:17.564Z"
   },
   {
    "duration": 154,
    "start_time": "2022-12-14T06:57:48.453Z"
   },
   {
    "duration": 13,
    "start_time": "2022-12-14T06:57:57.174Z"
   },
   {
    "duration": 5,
    "start_time": "2022-12-14T07:15:06.539Z"
   },
   {
    "duration": 1254,
    "start_time": "2022-12-14T07:15:36.355Z"
   },
   {
    "duration": 38,
    "start_time": "2022-12-14T07:15:37.611Z"
   },
   {
    "duration": 10,
    "start_time": "2022-12-14T07:15:37.650Z"
   },
   {
    "duration": 44,
    "start_time": "2022-12-14T07:15:37.661Z"
   },
   {
    "duration": 6,
    "start_time": "2022-12-14T07:15:37.707Z"
   },
   {
    "duration": 35,
    "start_time": "2022-12-14T07:15:37.714Z"
   },
   {
    "duration": 363,
    "start_time": "2022-12-14T07:15:37.751Z"
   },
   {
    "duration": 388,
    "start_time": "2022-12-14T07:15:38.120Z"
   },
   {
    "duration": 30040,
    "start_time": "2022-12-14T07:15:38.510Z"
   },
   {
    "duration": 43,
    "start_time": "2022-12-14T07:16:08.553Z"
   },
   {
    "duration": 149,
    "start_time": "2022-12-14T07:16:08.598Z"
   },
   {
    "duration": 12,
    "start_time": "2022-12-14T07:16:08.749Z"
   },
   {
    "duration": 5,
    "start_time": "2022-12-14T07:16:08.763Z"
   }
  ],
  "kernelspec": {
   "display_name": "Python 3 (ipykernel)",
   "language": "python",
   "name": "python3"
  },
  "language_info": {
   "codemirror_mode": {
    "name": "ipython",
    "version": 3
   },
   "file_extension": ".py",
   "mimetype": "text/x-python",
   "name": "python",
   "nbconvert_exporter": "python",
   "pygments_lexer": "ipython3",
   "version": "3.9.16"
  },
  "toc": {
   "base_numbering": 1,
   "nav_menu": {},
   "number_sections": true,
   "sideBar": true,
   "skip_h1_title": true,
   "title_cell": "Table of Contents",
   "title_sidebar": "Contents",
   "toc_cell": false,
   "toc_position": {},
   "toc_section_display": true,
   "toc_window_display": false
  }
 },
 "nbformat": 4,
 "nbformat_minor": 2
}
