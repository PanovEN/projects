{
 "cells": [
  {
   "cell_type": "markdown",
   "metadata": {},
   "source": [
    "# Определение стоимости автомобилей"
   ]
  },
  {
   "cell_type": "markdown",
   "metadata": {},
   "source": [
    "Сервис по продаже автомобилей с пробегом «Не бит, не крашен» разрабатывает приложение для привлечения новых клиентов. В нём можно быстро узнать рыночную стоимость своего автомобиля. В вашем распоряжении исторические данные: технические характеристики, комплектации и цены автомобилей. Вам нужно построить модель для определения стоимости. \n",
    "\n",
    "Заказчику важны:\n",
    "\n",
    "- качество предсказания;\n",
    "- скорость предсказания;\n",
    "- время обучения."
   ]
  },
  {
   "cell_type": "markdown",
   "metadata": {},
   "source": [
    "## Подготовка данных"
   ]
  },
  {
   "cell_type": "code",
   "execution_count": 1,
   "metadata": {
    "scrolled": true
   },
   "outputs": [],
   "source": [
    "# Импортируем необходимые библиотеки.\n",
    "! pip install lightgbm\n",
    "! pip install sweetviz\n",
    "import lightgbm as lgb\n",
    "import numpy as np\n",
    "import pandas as pd\n",
    "import sweetviz as sv\n",
    "import time\n",
    "import warnings\n",
    "from catboost import CatBoostRegressor\n",
    "from lightgbm import LGBMRegressor\n",
    "from sklearn.linear_model import SGDRegressor\n",
    "from sklearn.metrics import mean_squared_error\n",
    "from sklearn.model_selection import train_test_split, GridSearchCV, KFold\n",
    "from sklearn.preprocessing import StandardScaler, OrdinalEncoder\n",
    "warnings.filterwarnings(\"ignore\")"
   ]
  },
  {
   "cell_type": "code",
   "execution_count": 2,
   "metadata": {},
   "outputs": [],
   "source": [
    "# Импортируем и изучим данные\n",
    "#df = pd.read_csv('/datasets/autos.csv')\n",
    "df = pd.read_csv('autos.csv')\n",
    "df.info()"
   ]
  },
  {
   "cell_type": "code",
   "execution_count": 3,
   "metadata": {},
   "outputs": [
    {
     "data": {},
     "execution_count": 3,
     "metadata": {},
     "output_type": "execute_result"
    }
   ],
   "source": [
    "df.head(10)"
   ]
  },
  {
   "cell_type": "code",
   "execution_count": 4,
   "metadata": {},
   "outputs": [
    {
     "data": {
      "application/vnd.jupyter.widget-view+json": {
       "model_id": "3cd9074e137540579b7efff5087a8def",
       "version_major": 2,
       "version_minor": 0
      }
     },
     "metadata": {},
     "output_type": "display_data"
    }
   ],
   "source": [
    "# Сделаем расширенный EDA-анализ\n",
    "report = sv.analyze([df, \" EDA-анализ данных\"])\n",
    "report.show_html('analysis.html')"
   ]
  },
  {
   "cell_type": "code",
   "execution_count": 5,
   "metadata": {
    "scrolled": true
   },
   "outputs": [
    {
     "data": {},
     "execution_count": 5,
     "metadata": {},
     "output_type": "execute_result"
    }
   ],
   "source": [
    "df.describe()"
   ]
  },
  {
   "cell_type": "markdown",
   "metadata": {},
   "source": [
    "Имеем 16 столбцов, 354 369 строк. Существуют пропуски некоторых данных.\n",
    "- Столбец Price (цена в Евро) имеет нули. Необходимо удалить строки с нулевыми ценами.\n",
    "- Столбец RegistrationYear (год регистрации авто) имеет годы более 2023 и 1000, что явно являются выбросами.\n",
    "- Столбец Power (мощность в л.с.) имеет нули, а также очень большие значения - до 20000. Это нереально много.\n",
    "- Столбец RegistrationMonth (месяц регистрации авто) имеет нули.\n",
    "- Столбец NumberOfPictures (Количество фотографий автомобиля) - во всех строках значение 0, поэтому избавимся от этого столбца.\n",
    "\n",
    "DateCrawled (дата скачивания анкеты из базы), DateCreated (дата создания анкеты), LastSeen (дата последней активности пользователя) - данные колонки в обучении моделей нам не пригодятся, их можно будет удалить."
   ]
  },
  {
   "cell_type": "code",
   "execution_count": 6,
   "metadata": {},
   "outputs": [
    {
     "data": {},
     "execution_count": 6,
     "metadata": {},
     "output_type": "execute_result"
    }
   ],
   "source": [
    "# Проверим на наличие дубликатов\n",
    "df.duplicated().sum()"
   ]
  },
  {
   "cell_type": "code",
   "execution_count": 7,
   "metadata": {},
   "outputs": [],
   "source": [
    "# Удалим явные дубликаты\n",
    "df.drop_duplicates(inplace=True)"
   ]
  },
  {
   "cell_type": "code",
   "execution_count": 8,
   "metadata": {},
   "outputs": [],
   "source": [
    "# Удалим колонки, не влияющие на дальнейшее обучение\n",
    "df.drop(columns = ['DateCrawled', 'DateCreated', 'NumberOfPictures', 'LastSeen', 'RegistrationMonth'], inplace=True)"
   ]
  },
  {
   "cell_type": "code",
   "execution_count": 9,
   "metadata": {},
   "outputs": [],
   "source": [
    "# Удаляем строки с нулевыми ценой, мощностью. \n",
    "df = df[df['Price'] != 0]\n",
    "df = df[df['Power'] != 0]"
   ]
  },
  {
   "cell_type": "code",
   "execution_count": 10,
   "metadata": {},
   "outputs": [],
   "source": [
    "# Удалим данные с годом регистрации до 1900 и после 2016 (максимальный год — дата скачивания анкеты (DateCrawled))\n",
    "df = df[df['RegistrationYear'] >= 1900]\n",
    "df = df[df['RegistrationYear'] <= 2016]"
   ]
  },
  {
   "cell_type": "code",
   "execution_count": 11,
   "metadata": {},
   "outputs": [],
   "source": [
    "# Посмотрим количество пропусков по столбцам\n",
    "print(\"Количество пропусков по столбцам \\n\", df.isnull().sum().sort_values(ascending = False))"
   ]
  },
  {
   "cell_type": "markdown",
   "metadata": {},
   "source": [
    "Больше всего пропусков в столбце Repaired (Была машина в ремонте или нет) - 43074 шт.\n",
    "\n",
    "Далее идут VehicleType (тип кузова), FuelType (тип топлива), Model (модель), Gearbox (тип коробки передач).\n",
    "\n",
    "Восстановить данные не представляется возможным, поэтому заполним их константным значением \"unknown\"."
   ]
  },
  {
   "cell_type": "code",
   "execution_count": 13,
   "metadata": {},
   "outputs": [],
   "source": [
    "# Заполним пропуски константным значением \"unknown\"\n",
    "df['Repaired'] = df['Repaired'].fillna('unknown')\n",
    "df['VehicleType'] = df['VehicleType'].fillna('unknown')\n",
    "df['FuelType'] = df['FuelType'].fillna('unknown')\n",
    "df['Model'] = df['Model'].fillna('unknown')\n",
    "df['Gearbox'] = df['Gearbox'].fillna('unknown')"
   ]
  },
  {
   "cell_type": "code",
   "execution_count": 14,
   "metadata": {},
   "outputs": [
    {
     "data": {},
     "execution_count": 14,
     "metadata": {},
     "output_type": "execute_result"
    },
    {
     "data": {
      "image/png": "[encoded data removed]"
     },
     "metadata": {},
     "output_type": "display_data"
    }
   ],
   "source": [
    "# Столбец Power (мощность в л.с.) имел слишком большие значения. Построим boxplot.\n",
    "df.boxplot(column = 'Power')"
   ]
  },
  {
   "cell_type": "code",
   "execution_count": 15,
   "metadata": {},
   "outputs": [
    {
     "data": {},
     "execution_count": 15,
     "metadata": {},
     "output_type": "execute_result"
    },
    {
     "data": {
      "image/png": "[encoded data removed]"
     },
     "metadata": {},
     "output_type": "display_data"
    }
   ],
   "source": [
    "# В данных много выбросов. Т.к. самый мощный авто в мире имеет мощность 1600 л.с., удалим всё, что больше этой цифры.\n",
    "df = df[df['Power'] <= 1600]\n",
    "df.boxplot(column = 'Power')"
   ]
  },
  {
   "cell_type": "code",
   "execution_count": 16,
   "metadata": {},
   "outputs": [
    {
     "data": {},
     "execution_count": 16,
     "metadata": {},
     "output_type": "execute_result"
    }
   ],
   "source": [
    "df.shape"
   ]
  },
  {
   "cell_type": "markdown",
   "metadata": {},
   "source": [
    "Было 16 столбцов, 354 369 строк, осталось 11 столбцов, 296 743 строк (84% от первоначального датасета).\n",
    "\n",
    "Данные очищены, осталось закодировать категориальные признаки, выделить целевой признак, и разделить датасет на обучающую, валидационную и тестовую выборки"
   ]
  },
  {
   "cell_type": "markdown",
   "metadata": {},
   "source": [
    "```python\n",
    "# порядковое кодирование\n",
    "encoder = OrdinalEncoder(handle_unknown='use_encoded_value', unknown_value=9999)\n",
    "cat_columns = [список всех категориальных признаков]\n",
    "encoder.fit(features_train[cat_columns])\n",
    "\n",
    "features_train_ord = features_train.copy()\n",
    "features_valid_ord = features_valid.copy()\n",
    "features_test_ord = features_test.copy()\n",
    "\n",
    "features_train_ord[cat_columns] = encoder.transform(features_train_ord[cat_columns])\n",
    "features_valid_ord[cat_columns] = encoder.transform(features_valid_ord[cat_columns])\n",
    "features_test_ord[cat_columns] = encoder.transform(features_test_ord[cat_columns])\n",
    "```"
   ]
  },
  {
   "cell_type": "code",
   "execution_count": 17,
   "metadata": {},
   "outputs": [],
   "source": [
    "# Выделим целевой признак\n",
    "features = df.drop(['Price'], axis=1)\n",
    "target = df['Price']"
   ]
  },
  {
   "cell_type": "code",
   "execution_count": 18,
   "metadata": {},
   "outputs": [],
   "source": [
    "# Разобъем датасет на обучающую, валидационную и тестовую выборки\n",
    "features_train, features_valid, target_train, target_valid = train_test_split(\n",
    "    features, target, test_size=0.4, random_state=12345)\n",
    "features_valid, features_test, target_valid, target_test = train_test_split(\n",
    "    features_valid, target_valid, test_size=0.5, random_state=12345)"
   ]
  },
  {
   "cell_type": "code",
   "execution_count": 19,
   "metadata": {
    "scrolled": true
   },
   "outputs": [],
   "source": [
    "# Для кодирования категориальных признаков применим технику Ordinal Encoding\n",
    "cat_columns = ['VehicleType', 'Gearbox', 'Model', 'FuelType', 'Brand', 'Repaired']\n",
    "encoder = OrdinalEncoder(handle_unknown='use_encoded_value', unknown_value=9999)\n",
    "encoder.fit(features_train[cat_columns])\n",
    "\n",
    "features_train_ord = features_train.copy()\n",
    "features_valid_ord = features_valid.copy()\n",
    "features_test_ord = features_test.copy()\n",
    "\n",
    "features_train_ord[cat_columns] = encoder.transform(features_train_ord[cat_columns])\n",
    "features_valid_ord[cat_columns] = encoder.transform(features_valid_ord[cat_columns])\n",
    "features_test_ord[cat_columns] = encoder.transform(features_test_ord[cat_columns])"
   ]
  },
  {
   "cell_type": "code",
   "execution_count": 20,
   "metadata": {},
   "outputs": [],
   "source": [
    "# Отмасштабируем числовые признаки методом стандартизации данных\n",
    "numeric = ['RegistrationYear', 'Power', 'Kilometer', 'PostalCode']\n",
    "scaler = StandardScaler()\n",
    "scaler.fit(features_train_ord[numeric])\n",
    "\n",
    "features_train = features_train_ord.copy()\n",
    "features_valid = features_valid_ord.copy()\n",
    "features_test = features_test_ord.copy()\n",
    "\n",
    "features_train[numeric] = scaler.transform(features_train[numeric])\n",
    "features_valid[numeric] = scaler.transform(features_valid[numeric])\n",
    "features_test[numeric] = scaler.transform(features_test[numeric])"
   ]
  },
  {
   "cell_type": "markdown",
   "metadata": {},
   "source": [
    "**Выводы**\n",
    "В первом разделе нами проделана следующая работа:\n",
    "- Загружены необходимые библиотеки.\n",
    "- Загружены данные.\n",
    "- Изучены данные. Сделан расширенный EDA-анализ.\n",
    "- Выявлено наличие пропусков в некоторых данных. Так как восстановить данные не представлялось возможным, заменили их на значение 'unknoun'.\n",
    "- Выявили и удалили явные дубликаты.\n",
    "- Удалили колонки, не влияющие на дальнейшее обучение.\n",
    "- Удалили строки с нулевыми ценой, мощностью и месяцем.\n",
    "- Удалили данные до 1900 года и после 2016 года (максимальный год скачивания анкеты)\n",
    "- Удалили выбросы по столбцу Power (по мощности свыше 1600 л.с.).\n",
    "- Для кодирования категориальных признаков применили технику Ordinal Encoding.\n",
    "- Выделили целевой признак.\n",
    "- Разбили датасет на обучающую, валидационную и тестовую выборки.\n",
    "- Отмасштабировали числовые признаки, методом стандартизации данных.\n",
    "\n",
    "Теперь наши данные готовы для обучения моделей."
   ]
  },
  {
   "cell_type": "markdown",
   "metadata": {},
   "source": [
    "## Обучение моделей"
   ]
  },
  {
   "cell_type": "markdown",
   "metadata": {},
   "source": [
    "**LightGBM**"
   ]
  },
  {
   "cell_type": "code",
   "execution_count": 21,
   "metadata": {},
   "outputs": [],
   "source": [
    "lgb_train = lgb.Dataset(features_train, target_train)\n",
    "lgb_valid = lgb.Dataset(features_valid, target_valid, reference=lgb_train)"
   ]
  },
  {
   "cell_type": "code",
   "execution_count": 22,
   "metadata": {},
   "outputs": [],
   "source": [
    "# Функция обучения модели LightGBM\n",
    "def mod_train(parametrs):\n",
    "    lgbm = lgb.train(parametrs, lgb_train, num_boost_round=40, valid_sets=lgb_valid, early_stopping_rounds=5)\n",
    "    return lgbm"
   ]
  },
  {
   "cell_type": "code",
   "execution_count": 23,
   "metadata": {},
   "outputs": [],
   "source": [
    "# Функция проверки предсказания и рассчёта RMSE\n",
    "def rmse(model):\n",
    "    targ_pred = model.predict(features_valid)\n",
    "    print('RMSE:', mean_squared_error(target_valid, targ_pred) ** 0.5)"
   ]
  },
  {
   "cell_type": "code",
   "execution_count": 24,
   "metadata": {
    "scrolled": true
   },
   "outputs": [
    {
     "data": {},
     "execution_count": 24,
     "metadata": {},
     "output_type": "execute_result"
    }
   ],
   "source": [
    "%%time\n",
    "# обучим модель с настройками по умолчанию\n",
    "param = {'metric': 'rmse', 'force_row_wise': True}\n",
    "mod_train(param)"
   ]
  },
  {
   "cell_type": "markdown",
   "metadata": {},
   "source": [
    "RMSE при обучении 1813.12, время обучения 0.89сек."
   ]
  },
  {
   "cell_type": "markdown",
   "metadata": {},
   "source": [
    "Попробуем разные гиперпараметры при обучении модели"
   ]
  },
  {
   "cell_type": "code",
   "execution_count": 25,
   "metadata": {},
   "outputs": [],
   "source": [
    "%%time\n",
    "# Попробуем менять скорость обучения\n",
    "for i in np.arange(0.38, 0.4, 0.01):\n",
    "    param = {'learning_rate':i, 'metric': 'rmse', 'force_row_wise': True}\n",
    "    mod_train(param)  "
   ]
  },
  {
   "cell_type": "markdown",
   "metadata": {},
   "source": [
    "Качество модели растёт с ростом скорости, но до значения 0.39 (RMSE: 1657.29), при дальнейшем повышении скорости качество ухудшается."
   ]
  },
  {
   "cell_type": "code",
   "execution_count": 26,
   "metadata": {
    "scrolled": true
   },
   "outputs": [],
   "source": [
    "%%time\n",
    "# Попробуем менять тип бустинга\n",
    "types = ['gbrt', 'dart', 'goss']\n",
    "for type in types:\n",
    "    param = {'boosting_type': type, 'learning_rate':0.39, 'metric': 'rmse', 'force_row_wise': True}\n",
    "    mod_train(param)    "
   ]
  },
  {
   "cell_type": "markdown",
   "metadata": {},
   "source": [
    "Самый низкий RMSE (1657.29) в режиме по-умолчанию: 'gbrt' (дерево решений с градиентным бустингом)"
   ]
  },
  {
   "cell_type": "code",
   "execution_count": 27,
   "metadata": {
    "scrolled": true
   },
   "outputs": [],
   "source": [
    "%%time\n",
    "# Попробуем менять глубину дерева и количество листьев\n",
    "for i in range(12,15):\n",
    "    param = {'max_depth':i, 'num_leaves':2**i, 'learning_rate':0.39, 'metric': 'rmse', 'force_row_wise': True, 'n_jobs':-1} \n",
    "    mod_train(param)   "
   ]
  },
  {
   "cell_type": "markdown",
   "metadata": {},
   "source": [
    "RMSE улучшается до глубины 13 деревьев (количество листьев 8192), далее модель начинает работать хуже. Лучшее значение RMSE при этом: 1579.48."
   ]
  },
  {
   "cell_type": "code",
   "execution_count": 28,
   "metadata": {},
   "outputs": [],
   "source": [
    "%%time\n",
    "# Теперь поиграем количеством деревьев\n",
    "trees = [10, 50, 100, 500, 1000, 5000]\n",
    "for i in trees:\n",
    "    param = {'n_estimators':i, 'max_depth':13, 'num_leaves':8192, 'learning_rate':0.39, 'metric': 'rmse',\n",
    "             'force_row_wise': True, 'n_jobs':-1}\n",
    "    mod_train(param)    "
   ]
  },
  {
   "cell_type": "markdown",
   "metadata": {},
   "source": [
    "Для нашего набора данных производительность улучшается до 32 деревьев (RMSE:1579.48)."
   ]
  },
  {
   "cell_type": "code",
   "execution_count": 29,
   "metadata": {
    "scrolled": true
   },
   "outputs": [],
   "source": [
    "%%time\n",
    "# Попробуем модель с оптимальными настройками на основе проведённых исследований\n",
    "param = {'n_estimators':32, 'max_depth':13, 'num_leaves':8192, 'learning_rate':0.39, 'metric': 'rmse',\n",
    "         'force_row_wise': True, 'n_jobs':-1}\n",
    "best_lgbm = mod_train(param)  "
   ]
  },
  {
   "cell_type": "markdown",
   "metadata": {},
   "source": [
    "Точность обучения RMSE: 1579.48;\n",
    "Время обучения: 3.45 сек.\n",
    "Это лучшая модель"
   ]
  },
  {
   "cell_type": "code",
   "execution_count": 30,
   "metadata": {},
   "outputs": [],
   "source": [
    "%%time\n",
    "# Проверим предсказание и RMSE\n",
    "rmse(best_lgbm)"
   ]
  },
  {
   "cell_type": "markdown",
   "metadata": {},
   "source": [
    "Точность предсказания RMSE: 1579.48\n",
    "Время предсказания: 0,34 сек"
   ]
  },
  {
   "cell_type": "markdown",
   "metadata": {},
   "source": [
    "Итак, для модели \"LightGBM\", оптимальные настройки: 'boosting_type': 'gbrt', 'n_estimators': 32, 'max_depth': 13, 'num_leaves': 8192, 'learning_rate':0.39. RMSE тренировки и предсказания: 1579.48. Время тренировки: 3.45сек., время предсказания: 0,34сек."
   ]
  },
  {
   "cell_type": "markdown",
   "metadata": {},
   "source": [
    "**CatBoost**"
   ]
  },
  {
   "cell_type": "code",
   "execution_count": 31,
   "metadata": {},
   "outputs": [],
   "source": [
    "# Функция обучения модели CatBoost\n",
    "def catboost_train(parametrs):\n",
    "    cbr = CatBoostRegressor(**parametrs)\n",
    "    cb = cbr.fit(features_train, target_train, eval_set=(features_valid, target_valid))\n",
    "    return cb"
   ]
  },
  {
   "cell_type": "code",
   "execution_count": 32,
   "metadata": {},
   "outputs": [
    {
     "data": {},
     "execution_count": 32,
     "metadata": {},
     "output_type": "execute_result"
    }
   ],
   "source": [
    "%%time\n",
    "# обучим модель с настройками по умолчанию\n",
    "param = {'loss_function':'RMSE', 'random_state': 12345}\n",
    "catboost_train(param)"
   ]
  },
  {
   "cell_type": "markdown",
   "metadata": {},
   "source": [
    "Точность на обучении RMSE: 1575.10\n",
    "Время обучения: 47.7 сек."
   ]
  },
  {
   "cell_type": "code",
   "execution_count": 33,
   "metadata": {
    "scrolled": true
   },
   "outputs": [],
   "source": [
    "%%time\n",
    "# Попробуем менять принцип жадного алгоритма поиска.\n",
    "gp = ['SymmetricTree', 'Depthwise', 'Lossguide']\n",
    "for i in gp:\n",
    "    param = {'grow_policy':i, 'loss_function':'RMSE', 'random_state': 12345}\n",
    "    catboost_train(param)    "
   ]
  },
  {
   "cell_type": "markdown",
   "metadata": {},
   "source": [
    "Лучшие показатели - в режиме \"Depthwise\" (дерево строится шаг за шагом, пока не достигнет нужной глубины, листья разделяются с использованием условия, приводящего к лушему уменьшению потерь). RMSE=1532.75, 999 итераций."
   ]
  },
  {
   "cell_type": "code",
   "execution_count": 34,
   "metadata": {},
   "outputs": [],
   "source": [
    "%%time\n",
    "# Попробуем подобрать глубину деревьев\n",
    "for i in range(11,14):\n",
    "    param = {'depth':i, 'grow_policy':'Depthwise', 'loss_function':'RMSE', 'random_state': 12345}\n",
    "    catboost_train(param)    "
   ]
  },
  {
   "cell_type": "markdown",
   "metadata": {},
   "source": [
    "Самый низкий RMSE=1489,83 получился у нас при глубине 12, далее RMSE начал ухудшаться. Количество итераций 619."
   ]
  },
  {
   "cell_type": "code",
   "execution_count": 35,
   "metadata": {},
   "outputs": [],
   "source": [
    "%%time\n",
    "# Попробуем подобрать скорость обучения\n",
    "for i in np.arange(0.06, 0.08, 0.01):\n",
    "    param = {'learning_rate':i, 'grow_policy':'Depthwise', 'depth':12, 'loss_function':'RMSE', 'random_state': 12345}\n",
    "    catboost_train(param)    "
   ]
  },
  {
   "cell_type": "markdown",
   "metadata": {},
   "source": [
    "При увеличении скорости обучения - RMSE уменьшается, до скорости 0,07 (RMSE=1482,82, 933 итерации), при дальнейшем увеличении скорости - RMSE ухудшается."
   ]
  },
  {
   "cell_type": "code",
   "execution_count": 36,
   "metadata": {},
   "outputs": [],
   "source": [
    "%%time\n",
    "# Попробуем модель с оптимальными настройками на основе проведённых исследований\n",
    "param = {'grow_policy':'Depthwise', 'depth':12, 'learning_rate':0.07, 'iterations':934, 'loss_function':'RMSE',\n",
    "         'random_state': 12345}\n",
    "best_catboost = catboost_train(param)"
   ]
  },
  {
   "cell_type": "markdown",
   "metadata": {},
   "source": [
    "RMSE сохранилась (1482,82), скорость обучения 13 мин. 31 сек. Это лучшая модель.\n",
    "\n",
    "Оптимальные параметры: 'grow_policy': 'Depthwise', 'depth': 12, 'learning_rate': 0.07, 'iterations': 934."
   ]
  },
  {
   "cell_type": "code",
   "execution_count": 37,
   "metadata": {},
   "outputs": [],
   "source": [
    "%%time\n",
    "# Проверим предсказание и RMSE\n",
    "rmse(best_catboost)"
   ]
  },
  {
   "cell_type": "markdown",
   "metadata": {},
   "source": [
    "Точность предсказания RMSE: 1482.82\n",
    "Время предсказания: 3.11 сек."
   ]
  },
  {
   "cell_type": "markdown",
   "metadata": {},
   "source": [
    "**SGDRegressor**"
   ]
  },
  {
   "cell_type": "code",
   "execution_count": 38,
   "metadata": {},
   "outputs": [],
   "source": [
    "# Создаём модель\n",
    "sgd = SGDRegressor(random_state=12345)"
   ]
  },
  {
   "cell_type": "code",
   "execution_count": 39,
   "metadata": {},
   "outputs": [],
   "source": [
    "# создадим кросс-валидатор для последующего обучения моделей\n",
    "cv = KFold(n_splits=3, shuffle=True, random_state=12345)"
   ]
  },
  {
   "cell_type": "code",
   "execution_count": 40,
   "metadata": {},
   "outputs": [],
   "source": [
    "# Создадим словарь, в котором определим параметры модели, которые мы хотим передать через GridSearchCV,\n",
    "# чтобы получить наилучшие параметры.\n",
    "parameters = {'loss' : ['squared_loss', 'huber', 'epsilon_insensitive'],\n",
    "              'learning_rate' : ['constant', 'optimal', 'invscaling', 'adaptive'],\n",
    "              'max_iter' : [i for i in range(121,124)],\n",
    "              'penalty' : ['l2', 'l1', 'elasticnet']\n",
    "             }"
   ]
  },
  {
   "cell_type": "code",
   "execution_count": 41,
   "metadata": {},
   "outputs": [],
   "source": [
    "# Создаем объект grid_sgd для GridSearchCV и подгоняем набор данных\n",
    "grid_sgd = GridSearchCV(estimator=sgd, param_grid = parameters, cv = cv, n_jobs=-1)"
   ]
  },
  {
   "cell_type": "code",
   "execution_count": 42,
   "metadata": {},
   "outputs": [
    {
     "data": {},
     "execution_count": 42,
     "metadata": {},
     "output_type": "execute_result"
    }
   ],
   "source": [
    "%%time\n",
    "# Обучим grid_sgd\n",
    "grid_sgd.fit(features_train, target_train)"
   ]
  },
  {
   "cell_type": "code",
   "execution_count": 43,
   "metadata": {},
   "outputs": [],
   "source": [
    "# Отобразим результаты работы GridSearchCV\n",
    "print(\"\\n Лучшая оценка:\\n\", grid_sgd.best_score_)\n",
    "print(\"\\n Наилучшие параметры:\\n\", grid_sgd.best_params_)"
   ]
  },
  {
   "cell_type": "code",
   "execution_count": 44,
   "metadata": {},
   "outputs": [],
   "source": [
    "%%time\n",
    "# Применим найденные оптимальные настройки:\n",
    "param = {'random_state':12345, 'loss':'epsilon_insensitive', 'learning_rate':'constant', 'penalty':'l1', 'max_iter':122}\n",
    "sgd = SGDRegressor(**param)\n",
    "best_sgd = sgd.fit(features_train, target_train)"
   ]
  },
  {
   "cell_type": "code",
   "execution_count": 53,
   "metadata": {},
   "outputs": [],
   "source": [
    "%%time\n",
    "rmse(best_sgd)"
   ]
  },
  {
   "cell_type": "markdown",
   "metadata": {},
   "source": [
    "RMSE=3142.76, скорость обучения 3,66 сек., скорость предсказания 31 миллисекунда. Это лучшая модель.\n",
    "\n",
    "Оптимальные параметры: 'loss': 'epsilon_insensitive', 'learning_rate': 'constant', 'penalty': 'l1', 'max_iter': 122."
   ]
  },
  {
   "cell_type": "markdown",
   "metadata": {},
   "source": [
    "**Выводы**\n",
    "В процессе исследования были применены 3 модели: LightGBM, CatBoost, SGDRegressor.\n",
    "- LightGBM. Лучшие настройки: 'boosting_type': 'gbrt', 'n_estimators': 32, 'max_depth': 13, 'num_leaves': 8192, 'learning_rate':0.39. RMSE тренировки и предсказания: 1579.48. Время тренировки: 3.45сек., время предсказания: 0,34сек.\n",
    "- CatBoost. Лучшие настройки: 'grow_policy': 'Depthwise', 'depth': 12, 'learning_rate': 0.07, 'iterations': 934. RMSE тренировки и предсказания: 1482.82. Время тренировки: 13 мин. 31 сек., время предсказания: 3.11сек.\n",
    "- SGDRegressor. Лучшие настройки: 'loss': 'epsilon_insensitive', 'learning_rate': 'constant', 'penalty': 'l1', 'max_iter': 122. RMSE тренировки и предсказания: 3142.70. Время тренировки: 3.66 сек., время предсказания: 31 миллисекунда."
   ]
  },
  {
   "cell_type": "markdown",
   "metadata": {},
   "source": [
    "## Анализ моделей"
   ]
  },
  {
   "cell_type": "code",
   "execution_count": 54,
   "metadata": {},
   "outputs": [],
   "source": [
    "# Запишем данные всех моделей вместе\n",
    "models = []\n",
    "models.append([1579.48, 3.45, 0.34])\n",
    "models.append([1482.82, 811.0, 3.11])\n",
    "models.append([3142.70, 3.66, 0.31])"
   ]
  },
  {
   "cell_type": "code",
   "execution_count": 55,
   "metadata": {},
   "outputs": [],
   "source": [
    "model_table = pd.DataFrame(data=models, index=['LightGBM', 'CatBoost', 'SGDRegressor'],\n",
    "                           columns=['RMSE', 'Время тренировки', 'Время предсказания'])"
   ]
  },
  {
   "cell_type": "code",
   "execution_count": 56,
   "metadata": {},
   "outputs": [
    {
     "data": {},
     "execution_count": 56,
     "metadata": {},
     "output_type": "execute_result"
    }
   ],
   "source": [
    "model_table"
   ]
  },
  {
   "cell_type": "markdown",
   "metadata": {},
   "source": [
    "**Выводы**\n",
    "Самое лучшее RMSE - у модели CatBoost (1482,82), но модель работает очень медленно по сравнению с остальными, как при тренировке, так и при предсказании. Модель LightGBM имеет чуть хуже RMSE (1579,48), но незначительно. Зато данная модель показывает хорошие результаты по быстродействию (время тренировки 3,45сек., время предсказания 0,34 сек.), поэтому в качестве лучшей модели рекомендую её."
   ]
  },
  {
   "cell_type": "markdown",
   "metadata": {},
   "source": [
    "## Тестирование лучшей модели"
   ]
  },
  {
   "cell_type": "markdown",
   "metadata": {},
   "source": [
    "Проверим качество данной модели на тестовой выборке:"
   ]
  },
  {
   "cell_type": "code",
   "execution_count": 57,
   "metadata": {},
   "outputs": [],
   "source": [
    "print('RMSE модели LightGBM на тестовой выборке:', mean_squared_error(target_test, best_lgbm.predict(features_test)) ** 0.5)"
   ]
  },
  {
   "cell_type": "markdown",
   "metadata": {},
   "source": [
    "**Вывод**\n",
    "RMSE рекомендуемой нами модели LightGBM на тестовой выборке: 1600.78. Немного хуже, чем на валидационной (1579,48), но значение допустимо, и не превышает требования в задании (RMSE не должно превышать 2500). Рекомендую заказчику данную модель для использования."
   ]
  }
 ],
 "metadata": {
  "ExecuteTimeLog": [
   {
    "duration": 462,
    "start_time": "2023-03-09T11:02:31.859Z"
   },
   {
    "duration": 3216,
    "start_time": "2023-03-09T11:02:33.828Z"
   },
   {
    "duration": 21,
    "start_time": "2023-03-09T11:02:45.902Z"
   },
   {
    "duration": 5663,
    "start_time": "2023-03-09T11:05:16.719Z"
   },
   {
    "duration": 29818,
    "start_time": "2023-03-09T11:05:31.568Z"
   },
   {
    "duration": 128,
    "start_time": "2023-03-09T11:11:11.462Z"
   },
   {
    "duration": 27870,
    "start_time": "2023-03-09T11:14:51.383Z"
   },
   {
    "duration": 2216,
    "start_time": "2023-03-09T11:32:09.676Z"
   },
   {
    "duration": 995,
    "start_time": "2023-03-09T11:32:20.066Z"
   },
   {
    "duration": 19,
    "start_time": "2023-03-09T11:32:27.275Z"
   },
   {
    "duration": 27905,
    "start_time": "2023-03-09T11:32:32.803Z"
   },
   {
    "duration": 28014,
    "start_time": "2023-03-09T11:39:24.981Z"
   },
   {
    "duration": 51,
    "start_time": "2023-03-10T06:25:52.628Z"
   },
   {
    "duration": 6902,
    "start_time": "2023-03-10T06:26:08.977Z"
   },
   {
    "duration": 1307,
    "start_time": "2023-03-10T06:27:17.036Z"
   },
   {
    "duration": 18,
    "start_time": "2023-03-10T06:27:21.956Z"
   },
   {
    "duration": 449,
    "start_time": "2023-03-10T06:27:31.346Z"
   },
   {
    "duration": 582,
    "start_time": "2023-03-10T06:53:01.649Z"
   },
   {
    "duration": 516,
    "start_time": "2023-03-10T06:53:06.597Z"
   },
   {
    "duration": 38,
    "start_time": "2023-03-10T07:06:08.270Z"
   },
   {
    "duration": 5838,
    "start_time": "2023-03-11T03:08:57.409Z"
   },
   {
    "duration": 1046,
    "start_time": "2023-03-11T03:09:08.069Z"
   },
   {
    "duration": 15,
    "start_time": "2023-03-11T03:09:14.426Z"
   },
   {
    "duration": 27726,
    "start_time": "2023-03-11T03:09:20.490Z"
   },
   {
    "duration": 362,
    "start_time": "2023-03-11T03:14:08.010Z"
   },
   {
    "duration": 443,
    "start_time": "2023-03-11T03:14:13.145Z"
   },
   {
    "duration": 38,
    "start_time": "2023-03-11T03:14:46.056Z"
   },
   {
    "duration": 801,
    "start_time": "2023-03-11T03:40:37.818Z"
   },
   {
    "duration": 87,
    "start_time": "2023-03-11T03:44:20.615Z"
   },
   {
    "duration": 2106,
    "start_time": "2023-03-11T04:02:12.716Z"
   },
   {
    "duration": 19,
    "start_time": "2023-03-11T04:02:40.419Z"
   },
   {
    "duration": 69,
    "start_time": "2023-03-11T04:02:43.718Z"
   },
   {
    "duration": 67,
    "start_time": "2023-03-11T05:22:41.992Z"
   },
   {
    "duration": 18,
    "start_time": "2023-03-11T05:26:00.414Z"
   },
   {
    "duration": 3311,
    "start_time": "2023-03-11T08:11:04.338Z"
   },
   {
    "duration": 1024,
    "start_time": "2023-03-11T08:11:11.559Z"
   },
   {
    "duration": 15,
    "start_time": "2023-03-11T08:11:18.046Z"
   },
   {
    "duration": 87,
    "start_time": "2023-03-11T08:11:37.247Z"
   },
   {
    "duration": 4,
    "start_time": "2023-03-11T08:42:51.199Z"
   },
   {
    "duration": 414,
    "start_time": "2023-03-11T08:42:56.386Z"
   },
   {
    "duration": 412,
    "start_time": "2023-03-11T08:45:51.212Z"
   },
   {
    "duration": 521,
    "start_time": "2023-03-11T08:45:54.404Z"
   },
   {
    "duration": 443,
    "start_time": "2023-03-11T08:48:16.703Z"
   },
   {
    "duration": 32,
    "start_time": "2023-03-11T09:08:12.802Z"
   },
   {
    "duration": 11,
    "start_time": "2023-03-11T09:11:32.457Z"
   },
   {
    "duration": 13,
    "start_time": "2023-03-11T09:11:42.345Z"
   },
   {
    "duration": 10,
    "start_time": "2023-03-11T09:18:39.401Z"
   },
   {
    "duration": 10,
    "start_time": "2023-03-11T09:18:50.917Z"
   },
   {
    "duration": 9,
    "start_time": "2023-03-11T09:18:56.800Z"
   },
   {
    "duration": 64,
    "start_time": "2023-03-11T09:20:01.810Z"
   },
   {
    "duration": 8,
    "start_time": "2023-03-11T09:20:08.334Z"
   },
   {
    "duration": 73,
    "start_time": "2023-03-11T09:24:18.537Z"
   },
   {
    "duration": 10,
    "start_time": "2023-03-11T10:21:38.675Z"
   },
   {
    "duration": 3496,
    "start_time": "2023-03-11T10:29:06.613Z"
   },
   {
    "duration": 919,
    "start_time": "2023-03-11T10:29:13.513Z"
   },
   {
    "duration": 19,
    "start_time": "2023-03-11T10:29:18.729Z"
   },
   {
    "duration": 28821,
    "start_time": "2023-03-11T10:29:24.057Z"
   },
   {
    "duration": 103,
    "start_time": "2023-03-11T10:30:00.444Z"
   },
   {
    "duration": 20,
    "start_time": "2023-03-11T10:30:10.215Z"
   },
   {
    "duration": 79,
    "start_time": "2023-03-11T10:30:13.373Z"
   },
   {
    "duration": 8,
    "start_time": "2023-03-11T10:30:16.248Z"
   },
   {
    "duration": 173,
    "start_time": "2023-03-11T10:30:22.774Z"
   },
   {
    "duration": 154,
    "start_time": "2023-03-11T10:31:46.216Z"
   },
   {
    "duration": 3643,
    "start_time": "2023-03-11T10:33:31.270Z"
   },
   {
    "duration": 962,
    "start_time": "2023-03-11T10:33:40.170Z"
   },
   {
    "duration": 17,
    "start_time": "2023-03-11T10:33:44.510Z"
   },
   {
    "duration": 93,
    "start_time": "2023-03-11T10:33:50.323Z"
   },
   {
    "duration": 481,
    "start_time": "2023-03-11T10:33:56.737Z"
   },
   {
    "duration": 513,
    "start_time": "2023-03-11T10:34:03.111Z"
   },
   {
    "duration": 45,
    "start_time": "2023-03-11T10:34:07.946Z"
   },
   {
    "duration": 79,
    "start_time": "2023-03-11T10:34:13.541Z"
   },
   {
    "duration": 14,
    "start_time": "2023-03-11T10:34:18.271Z"
   },
   {
    "duration": 4,
    "start_time": "2023-03-11T10:34:29.436Z"
   },
   {
    "duration": 4,
    "start_time": "2023-03-11T10:38:31.708Z"
   },
   {
    "duration": 234,
    "start_time": "2023-03-11T10:38:34.025Z"
   },
   {
    "duration": 49,
    "start_time": "2023-03-11T10:41:00.497Z"
   },
   {
    "duration": 244,
    "start_time": "2023-03-11T10:41:25.855Z"
   },
   {
    "duration": 173,
    "start_time": "2023-03-11T10:41:37.856Z"
   },
   {
    "duration": 175,
    "start_time": "2023-03-11T10:41:51.742Z"
   },
   {
    "duration": 172,
    "start_time": "2023-03-11T10:42:13.151Z"
   },
   {
    "duration": 3,
    "start_time": "2023-03-11T10:43:53.391Z"
   },
   {
    "duration": 58,
    "start_time": "2023-03-11T10:43:55.179Z"
   },
   {
    "duration": 115,
    "start_time": "2023-03-11T10:45:58.340Z"
   },
   {
    "duration": 56,
    "start_time": "2023-03-11T10:47:00.010Z"
   },
   {
    "duration": 69,
    "start_time": "2023-03-11T10:53:46.807Z"
   },
   {
    "duration": 64,
    "start_time": "2023-03-11T10:53:58.869Z"
   },
   {
    "duration": 10,
    "start_time": "2023-03-11T11:05:49.927Z"
   },
   {
    "duration": 303,
    "start_time": "2023-03-11T11:11:15.906Z"
   },
   {
    "duration": 408,
    "start_time": "2023-03-11T11:20:18.603Z"
   },
   {
    "duration": 4,
    "start_time": "2023-03-11T11:28:51.481Z"
   },
   {
    "duration": 338,
    "start_time": "2023-03-11T11:40:42.698Z"
   },
   {
    "duration": 101,
    "start_time": "2023-03-11T12:05:44.919Z"
   },
   {
    "duration": 212,
    "start_time": "2023-03-11T12:05:47.063Z"
   },
   {
    "duration": 2168,
    "start_time": "2023-03-11T12:13:43.501Z"
   },
   {
    "duration": 14,
    "start_time": "2023-03-11T12:18:32.860Z"
   },
   {
    "duration": 162,
    "start_time": "2023-03-11T12:19:11.493Z"
   },
   {
    "duration": 2006,
    "start_time": "2023-03-11T12:20:13.458Z"
   },
   {
    "duration": 155,
    "start_time": "2023-03-11T12:20:24.793Z"
   },
   {
    "duration": 17,
    "start_time": "2023-03-11T12:42:00.239Z"
   },
   {
    "duration": 1458,
    "start_time": "2023-03-11T12:42:39.114Z"
   },
   {
    "duration": 2233,
    "start_time": "2023-03-11T12:42:40.574Z"
   },
   {
    "duration": 945,
    "start_time": "2023-03-11T12:42:42.810Z"
   },
   {
    "duration": 46,
    "start_time": "2023-03-11T12:42:43.757Z"
   },
   {
    "duration": 28913,
    "start_time": "2023-03-11T12:42:43.808Z"
   },
   {
    "duration": 92,
    "start_time": "2023-03-11T12:43:12.723Z"
   },
   {
    "duration": 398,
    "start_time": "2023-03-11T12:43:12.817Z"
   },
   {
    "duration": 489,
    "start_time": "2023-03-11T12:43:13.217Z"
   },
   {
    "duration": 43,
    "start_time": "2023-03-11T12:43:13.708Z"
   },
   {
    "duration": 90,
    "start_time": "2023-03-11T12:43:13.753Z"
   },
   {
    "duration": 7,
    "start_time": "2023-03-11T12:43:13.845Z"
   },
   {
    "duration": 75,
    "start_time": "2023-03-11T12:43:13.854Z"
   },
   {
    "duration": 71,
    "start_time": "2023-03-11T12:43:13.931Z"
   },
   {
    "duration": 253,
    "start_time": "2023-03-11T12:43:14.007Z"
   },
   {
    "duration": 277,
    "start_time": "2023-03-11T12:43:14.261Z"
   },
   {
    "duration": 4,
    "start_time": "2023-03-11T12:43:14.540Z"
   },
   {
    "duration": 343,
    "start_time": "2023-03-11T12:43:14.546Z"
   },
   {
    "duration": 107,
    "start_time": "2023-03-11T12:43:14.890Z"
   },
   {
    "duration": 166,
    "start_time": "2023-03-11T12:43:14.998Z"
   },
   {
    "duration": 162,
    "start_time": "2023-03-11T12:43:15.166Z"
   },
   {
    "duration": 6709,
    "start_time": "2023-03-12T06:46:40.360Z"
   },
   {
    "duration": 2412,
    "start_time": "2023-03-12T06:48:14.253Z"
   },
   {
    "duration": 4052,
    "start_time": "2023-03-12T06:51:51.892Z"
   },
   {
    "duration": 1421,
    "start_time": "2023-03-12T06:52:03.057Z"
   },
   {
    "duration": 22,
    "start_time": "2023-03-12T06:52:11.168Z"
   },
   {
    "duration": 156,
    "start_time": "2023-03-12T06:52:38.051Z"
   },
   {
    "duration": 552,
    "start_time": "2023-03-12T06:52:46.994Z"
   },
   {
    "duration": 593,
    "start_time": "2023-03-12T06:52:50.172Z"
   },
   {
    "duration": 48,
    "start_time": "2023-03-12T06:52:53.650Z"
   },
   {
    "duration": 92,
    "start_time": "2023-03-12T06:52:56.075Z"
   },
   {
    "duration": 7,
    "start_time": "2023-03-12T06:52:59.896Z"
   },
   {
    "duration": 77,
    "start_time": "2023-03-12T06:53:51.696Z"
   },
   {
    "duration": 117,
    "start_time": "2023-03-12T06:54:12.349Z"
   },
   {
    "duration": 344,
    "start_time": "2023-03-12T06:54:18.901Z"
   },
   {
    "duration": 307,
    "start_time": "2023-03-12T06:55:32.006Z"
   },
   {
    "duration": 5,
    "start_time": "2023-03-12T06:55:51.901Z"
   },
   {
    "duration": 628,
    "start_time": "2023-03-12T06:56:43.695Z"
   },
   {
    "duration": 12,
    "start_time": "2023-03-12T06:57:55.601Z"
   },
   {
    "duration": 134,
    "start_time": "2023-03-12T07:21:19.031Z"
   },
   {
    "duration": 6,
    "start_time": "2023-03-12T07:22:19.720Z"
   },
   {
    "duration": 5,
    "start_time": "2023-03-12T07:23:05.635Z"
   },
   {
    "duration": 7,
    "start_time": "2023-03-12T07:23:26.146Z"
   },
   {
    "duration": 6,
    "start_time": "2023-03-12T07:25:06.973Z"
   },
   {
    "duration": 14,
    "start_time": "2023-03-12T07:26:28.217Z"
   },
   {
    "duration": 6,
    "start_time": "2023-03-12T07:26:50.095Z"
   },
   {
    "duration": 457,
    "start_time": "2023-03-12T07:31:21.125Z"
   },
   {
    "duration": 378,
    "start_time": "2023-03-12T07:35:16.209Z"
   },
   {
    "duration": 450,
    "start_time": "2023-03-12T07:59:34.585Z"
   },
   {
    "duration": 13,
    "start_time": "2023-03-12T08:04:17.451Z"
   },
   {
    "duration": 33,
    "start_time": "2023-03-12T08:06:41.871Z"
   },
   {
    "duration": 58,
    "start_time": "2023-03-12T08:10:51.874Z"
   },
   {
    "duration": 28,
    "start_time": "2023-03-12T08:11:12.618Z"
   },
   {
    "duration": 22,
    "start_time": "2023-03-12T08:44:26.318Z"
   },
   {
    "duration": 35,
    "start_time": "2023-03-12T10:48:09.703Z"
   },
   {
    "duration": 41,
    "start_time": "2023-03-12T10:52:02.777Z"
   },
   {
    "duration": 29,
    "start_time": "2023-03-12T10:54:02.986Z"
   },
   {
    "duration": 29,
    "start_time": "2023-03-12T10:54:49.118Z"
   },
   {
    "duration": 4053,
    "start_time": "2023-03-12T10:55:40.305Z"
   },
   {
    "duration": 1142,
    "start_time": "2023-03-12T10:55:50.432Z"
   },
   {
    "duration": 31,
    "start_time": "2023-03-12T10:55:57.170Z"
   },
   {
    "duration": 32331,
    "start_time": "2023-03-12T10:56:03.376Z"
   },
   {
    "duration": 105,
    "start_time": "2023-03-12T10:57:30.318Z"
   },
   {
    "duration": 490,
    "start_time": "2023-03-12T10:58:15.401Z"
   },
   {
    "duration": 585,
    "start_time": "2023-03-12T10:58:22.299Z"
   },
   {
    "duration": 42,
    "start_time": "2023-03-12T10:58:26.972Z"
   },
   {
    "duration": 71,
    "start_time": "2023-03-12T10:58:33.859Z"
   },
   {
    "duration": 7,
    "start_time": "2023-03-12T10:58:41.730Z"
   },
   {
    "duration": 77,
    "start_time": "2023-03-12T10:58:48.222Z"
   },
   {
    "duration": 97,
    "start_time": "2023-03-12T10:59:02.434Z"
   },
   {
    "duration": 307,
    "start_time": "2023-03-12T10:59:08.259Z"
   },
   {
    "duration": 320,
    "start_time": "2023-03-12T10:59:13.473Z"
   },
   {
    "duration": 67,
    "start_time": "2023-03-12T10:59:31.165Z"
   },
   {
    "duration": 5,
    "start_time": "2023-03-12T10:59:42.026Z"
   },
   {
    "duration": 528,
    "start_time": "2023-03-12T11:00:16.121Z"
   },
   {
    "duration": 466,
    "start_time": "2023-03-12T11:02:41.692Z"
   },
   {
    "duration": 11,
    "start_time": "2023-03-12T11:03:11.158Z"
   },
   {
    "duration": 445,
    "start_time": "2023-03-12T11:03:37.472Z"
   },
   {
    "duration": 14,
    "start_time": "2023-03-12T11:05:36.289Z"
   },
   {
    "duration": 54,
    "start_time": "2023-03-12T11:05:54.148Z"
   },
   {
    "duration": 185,
    "start_time": "2023-03-12T11:07:06.860Z"
   },
   {
    "duration": 15,
    "start_time": "2023-03-12T11:12:07.701Z"
   },
   {
    "duration": 48,
    "start_time": "2023-03-12T11:12:12.177Z"
   },
   {
    "duration": 438,
    "start_time": "2023-03-12T11:20:26.737Z"
   },
   {
    "duration": 501,
    "start_time": "2023-03-12T11:38:02.695Z"
   },
   {
    "duration": 453,
    "start_time": "2023-03-12T11:42:23.279Z"
   },
   {
    "duration": 15,
    "start_time": "2023-03-12T11:43:04.628Z"
   },
   {
    "duration": 35,
    "start_time": "2023-03-12T11:43:09.734Z"
   },
   {
    "duration": 200,
    "start_time": "2023-03-12T11:43:20.287Z"
   }
  ],
  "kernelspec": {
   "display_name": "Python 3 (ipykernel)",
   "language": "python",
   "name": "python3"
  },
  "language_info": {
   "codemirror_mode": {
    "name": "ipython",
    "version": 3
   },
   "file_extension": ".py",
   "mimetype": "text/x-python",
   "name": "python",
   "nbconvert_exporter": "python",
   "pygments_lexer": "ipython3",
   "version": "3.9.16"
  },
  "toc": {
   "base_numbering": 1,
   "nav_menu": {},
   "number_sections": true,
   "sideBar": true,
   "skip_h1_title": true,
   "title_cell": "Table of Contents",
   "title_sidebar": "Contents",
   "toc_cell": false,
   "toc_position": {},
   "toc_section_display": true,
   "toc_window_display": false
  },
  "vscode": {
   "interpreter": {
    "hash": "e4cce46d6be9934fbd27f9ca0432556941ea5bdf741d4f4d64c6cd7f8dfa8fba"
   }
  }
 },
 "nbformat": 4,
 "nbformat_minor": 2
}
