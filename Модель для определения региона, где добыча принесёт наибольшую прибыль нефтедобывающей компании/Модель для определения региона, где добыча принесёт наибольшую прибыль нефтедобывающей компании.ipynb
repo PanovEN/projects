{
 "cells": [
  {
   "cell_type": "markdown",
   "metadata": {},
   "source": [
    "# Выбор локации для скважины"
   ]
  },
  {
   "cell_type": "markdown",
   "metadata": {},
   "source": [
    "Допустим, вы работаете в добывающей компании «ГлавРосГосНефть». Нужно решить, где бурить новую скважину.\n",
    "\n",
    "Вам предоставлены пробы нефти в трёх регионах: в каждом 10 000 месторождений, где измерили качество нефти и объём её запасов. Постройте модель машинного обучения, которая поможет определить регион, где добыча принесёт наибольшую прибыль. Проанализируйте возможную прибыль и риски техникой *Bootstrap.*\n",
    "\n",
    "Шаги для выбора локации:\n",
    "\n",
    "- В избранном регионе ищут месторождения, для каждого определяют значения признаков;\n",
    "- Строят модель и оценивают объём запасов;\n",
    "- Выбирают месторождения с самым высокими оценками значений. Количество месторождений зависит от бюджета компании и стоимости разработки одной скважины;\n",
    "- Прибыль равна суммарной прибыли отобранных месторождений."
   ]
  },
  {
   "cell_type": "markdown",
   "metadata": {},
   "source": [
    "## Загрузка и подготовка данных"
   ]
  },
  {
   "cell_type": "code",
   "execution_count": 1,
   "metadata": {},
   "outputs": [],
   "source": [
    "# Импортируем необходимые библиотеки.\n",
    "! pip install pandas_profiling\n",
    "import pandas as pd\n",
    "import numpy as np\n",
    "from pandas_profiling import ProfileReport\n",
    "from sklearn.model_selection import train_test_split\n",
    "from sklearn.metrics import mean_squared_error\n",
    "from sklearn.linear_model import LinearRegression\n",
    "from scipy import stats as st"
   ]
  },
  {
   "cell_type": "code",
   "execution_count": 3,
   "metadata": {},
   "outputs": [],
   "source": [
    "# Импорт данных  \n",
    "df_0 = pd.read_csv('/datasets/geo_data_0.csv')\n",
    "df_1 = pd.read_csv('/datasets/geo_data_1.csv')\n",
    "df_2 = pd.read_csv('/datasets/geo_data_2.csv')"
   ]
  },
  {
   "cell_type": "markdown",
   "metadata": {},
   "source": [
    "Изучим данные:"
   ]
  },
  {
   "cell_type": "code",
   "execution_count": null,
   "metadata": {},
   "outputs": [],
   "source": [
    "df_0.head()"
   ]
  },
  {
   "cell_type": "code",
   "execution_count": null,
   "metadata": {},
   "outputs": [],
   "source": [
    "df_1.head()"
   ]
  },
  {
   "cell_type": "code",
   "execution_count": null,
   "metadata": {},
   "outputs": [],
   "source": [
    "df_2.head()"
   ]
  },
  {
   "cell_type": "code",
   "execution_count": null,
   "metadata": {},
   "outputs": [],
   "source": [
    "df_0.info()\n",
    "df_1.info()\n",
    "df_2.info()"
   ]
  },
  {
   "cell_type": "code",
   "execution_count": null,
   "metadata": {},
   "outputs": [],
   "source": [
    "# проверим данные на наличие дубликатов в колонке id\n",
    "df_0['id'].duplicated().sum()"
   ]
  },
  {
   "cell_type": "code",
   "execution_count": null,
   "metadata": {},
   "outputs": [],
   "source": [
    "df_1['id'].duplicated().sum()"
   ]
  },
  {
   "cell_type": "code",
   "execution_count": null,
   "metadata": {},
   "outputs": [],
   "source": [
    "df_2['id'].duplicated().sum()"
   ]
  },
  {
   "cell_type": "code",
   "execution_count": 6,
   "metadata": {},
   "outputs": [
    {
     "data": {
      "text/plain": [
       "0"
      ]
     },
     "execution_count": 6,
     "metadata": {},
     "output_type": "execute_result"
    }
   ],
   "source": [
    "# Удаляем строки с дупликатами\n",
    "df_0.drop(df_0.query('id.duplicated() == True').index, inplace=True)\n",
    "df_0['id'].duplicated().sum()"
   ]
  },
  {
   "cell_type": "code",
   "execution_count": 7,
   "metadata": {},
   "outputs": [
    {
     "data": {
      "text/plain": [
       "0"
      ]
     },
     "execution_count": 7,
     "metadata": {},
     "output_type": "execute_result"
    }
   ],
   "source": [
    "df_1.drop(df_1.query('id.duplicated() == True').index, inplace=True)\n",
    "df_1['id'].duplicated().sum()"
   ]
  },
  {
   "cell_type": "code",
   "execution_count": 8,
   "metadata": {},
   "outputs": [
    {
     "data": {
      "text/plain": [
       "0"
      ]
     },
     "execution_count": 8,
     "metadata": {},
     "output_type": "execute_result"
    }
   ],
   "source": [
    "df_2.drop(df_2.query('id.duplicated() == True').index, inplace=True)\n",
    "df_2['id'].duplicated().sum()"
   ]
  },
  {
   "cell_type": "code",
   "execution_count": null,
   "metadata": {},
   "outputs": [],
   "source": [
    "ProfileReport(df_0)"
   ]
  },
  {
   "cell_type": "code",
   "execution_count": null,
   "metadata": {},
   "outputs": [],
   "source": [
    "ProfileReport(df_1)"
   ]
  },
  {
   "cell_type": "code",
   "execution_count": null,
   "metadata": {
    "scrolled": false
   },
   "outputs": [],
   "source": [
    "ProfileReport(df_2)"
   ]
  },
  {
   "cell_type": "markdown",
   "metadata": {},
   "source": [
    "<div class=\"alert alert-block alert-warning\">\n",
    "<b>ВЫВОДЫ:</b> \n",
    "    \n",
    "Имеем 3 датасета с данными по трём регионам в отдельности.\n",
    "-   Чтобы избежать ошибок, в датасетах были удалены строки с дублирующимися id. В результате осталось 99 990 строк, чего достаточно для проведения анализа.\n",
    "-   Теперь данные готовы для исследования.\n",
    "-\tДля каждого региона были выделены независимые и целевые признаки\n",
    "-   Изучив тепловые карты для каждого региона, удалось обнаружить высокую корреляцию между признаком f2 и целевым признаком product в регионе \"1\".\n",
    "</div>"
   ]
  },
  {
   "cell_type": "markdown",
   "metadata": {},
   "source": [
    "## Обучение и проверка модели"
   ]
  },
  {
   "cell_type": "code",
   "execution_count": 9,
   "metadata": {},
   "outputs": [],
   "source": [
    "#создаем модель линейной регрессии.\n",
    "model = LinearRegression()"
   ]
  },
  {
   "cell_type": "code",
   "execution_count": 17,
   "metadata": {},
   "outputs": [],
   "source": [
    "# Функция: делим данные на обуч. и валид. выборки, обучим модель на данных регионах,\n",
    "# делаем предсказания на валидационной выборке, рассчитаем RMSE.\n",
    "def model_predict(df):\n",
    "    features = df.drop(['product','id'], axis=1)\n",
    "    target = df['product']\n",
    "    features_train, features_valid, target_train, target_valid = train_test_split(\n",
    "        features, target, test_size=0.25, random_state=12345)\n",
    "    model.fit(features_train, target_train)\n",
    "    predicted = model.predict(features_valid)\n",
    "    predict_mean = predicted.mean()\n",
    "    rmse = (mean_squared_error(target_valid, predicted))**0.5\n",
    "    print('Средний запас предсказанного сырья:', predict_mean, 'RMSE:', rmse)\n",
    "    return target_valid, predicted, predict_mean"
   ]
  },
  {
   "cell_type": "code",
   "execution_count": 18,
   "metadata": {},
   "outputs": [
    {
     "name": "stdout",
     "output_type": "stream",
     "text": [
      "Средний запас предсказанного сырья: 92.78915638280621 RMSE: 37.853527328872964\n"
     ]
    }
   ],
   "source": [
    "# Применим функцию к региону \"0\"\n",
    "df_0_target_valid, reg_0_predicted, reg_0_predict_mean = model_predict(df_0)"
   ]
  },
  {
   "cell_type": "code",
   "execution_count": 19,
   "metadata": {},
   "outputs": [
    {
     "name": "stdout",
     "output_type": "stream",
     "text": [
      "Средний запас предсказанного сырья: 69.17831957030432 RMSE: 0.892059264771703\n"
     ]
    }
   ],
   "source": [
    "# Применим функцию к региону \"1\"\n",
    "df_1_target_valid, reg_1_predicted, reg_1_predict_mean = model_predict(df_1)"
   ]
  },
  {
   "cell_type": "code",
   "execution_count": 20,
   "metadata": {},
   "outputs": [
    {
     "name": "stdout",
     "output_type": "stream",
     "text": [
      "Средний запас предсказанного сырья: 94.86572480562035 RMSE: 40.07585073246016\n"
     ]
    }
   ],
   "source": [
    "# Применим функцию к региону \"2\"\n",
    "df_2_target_valid, reg_2_predicted, reg_2_predict_mean = model_predict(df_2)"
   ]
  },
  {
   "cell_type": "markdown",
   "metadata": {},
   "source": [
    "**Выводы**\n",
    "\n",
    "В регионе \"0\" средний запас предсказанного сырья: 92,8 тыс.баррелей, RMSE = 37,85;\n",
    "\n",
    "В регионе \"1\" средний запас предсказанного сырья: 69,2 тыс.баррелей, RMSE = 0,89;\n",
    "\n",
    "В регионе \"2\" средний запас предсказанного сырья: 94,9 тыс.баррелей, RMSE = 40,08.\n",
    "\n",
    "В регионе \"2\" прогнозируется наибольший запас сырья, но и наибольшая среднеквадратичная ошибка.\n",
    "В регионе \"1\" прогнозируется самый низкий из трёх запас сырья, в то время, как среднеквадратичная ошибка очень низкая."
   ]
  },
  {
   "cell_type": "markdown",
   "metadata": {},
   "source": [
    "## Подготовка к расчёту прибыли"
   ]
  },
  {
   "cell_type": "code",
   "execution_count": 14,
   "metadata": {},
   "outputs": [],
   "source": [
    "# Сохраним ключевые значения для расчётов в отдельных переменных:\n",
    "BEST_COUNT = 200 # Количество лучших точек\n",
    "BUDGET = 10_000_000_000 # Бюджет на разработку скважин в регионе\n",
    "INCOME_UNIT = 450_000 # Доход с каждой единицы продукта "
   ]
  },
  {
   "cell_type": "code",
   "execution_count": 16,
   "metadata": {},
   "outputs": [
    {
     "data": {
      "text/plain": [
       "111.11"
      ]
     },
     "execution_count": 16,
     "metadata": {},
     "output_type": "execute_result"
    }
   ],
   "source": [
    "# Рассчитаем достаточный объём сырья для безубыточной разработки одной новой скважины:\n",
    "volume_raw = (BUDGET / INCOME_UNIT) / BEST_COUNT\n",
    "round(volume_raw,2)"
   ]
  },
  {
   "cell_type": "code",
   "execution_count": 21,
   "metadata": {},
   "outputs": [
    {
     "name": "stdout",
     "output_type": "stream",
     "text": [
      "Средний предсказанный запас в регионе \"0\" меньше нужного объёма для безубыточной разработки на 18.32\n",
      "Средний предсказанный запас в регионе \"1\" меньше нужного объёма для безубыточной разработки на 41.93\n",
      "Средний предсказанный запас в регионе \"2\" меньше нужного объёма для безубыточной разработки на 16.25\n"
     ]
    }
   ],
   "source": [
    "# Сравним объём, достаточный для безубыточной разработки, со средним запасом в каждом регионе: \n",
    "print('Средний предсказанный запас в регионе \"0\" меньше нужного объёма для безубыточной разработки на',\n",
    "      round(volume_raw - reg_0_predict_mean,2))\n",
    "print('Средний предсказанный запас в регионе \"1\" меньше нужного объёма для безубыточной разработки на',\n",
    "      round(volume_raw - reg_1_predict_mean,2))\n",
    "print('Средний предсказанный запас в регионе \"2\" меньше нужного объёма для безубыточной разработки на',\n",
    "      round(volume_raw - reg_2_predict_mean,2))"
   ]
  },
  {
   "cell_type": "markdown",
   "metadata": {},
   "source": [
    "**Выводы**\n",
    "\n",
    "После сравнения средних предсказанных моделю запасов сырья в каждом регионе с достаточным объёмом сырья для безубыточной разработки, выяснилось, что среднее значение запасов во всех трех регионах меньше необходимого количества для безубыточной разработки.\n",
    "\n",
    "Ближе всего к необходимому количеству предсказанные запасы в регионе \"2\", меньше всего предсказанных запасов в регионе \"1\"."
   ]
  },
  {
   "cell_type": "markdown",
   "metadata": {},
   "source": [
    "## Расчёт прибыли и рисков "
   ]
  },
  {
   "cell_type": "markdown",
   "metadata": {},
   "source": [
    "**Расчёт прибыли по выбранным скважинам и предсказаниям модели**"
   ]
  },
  {
   "cell_type": "code",
   "execution_count": 24,
   "metadata": {},
   "outputs": [],
   "source": [
    "# Функция расчёта прибыли по выбранным скважинам и предсказаниям модели:\n",
    "def profit_calculation(target, predict):\n",
    "    target = pd.Series(target).reset_index(drop=True)\n",
    "    predict = pd.Series(predict).reset_index(drop=True)\n",
    "    predict_max = predict.sort_values(ascending=False)[:BEST_COUNT].index\n",
    "    return round((target[predict_max].sum() - volume_raw * BEST_COUNT) * INCOME_UNIT / 1000000, 2)"
   ]
  },
  {
   "cell_type": "code",
   "execution_count": 25,
   "metadata": {},
   "outputs": [
    {
     "name": "stdout",
     "output_type": "stream",
     "text": [
      "Прибыль с 200 лучших скважин региона \"0\": 3365.19 млн.руб.\n"
     ]
    }
   ],
   "source": [
    "\n",
    "print('Прибыль с 200 лучших скважин региона \"0\":', profit_calculation(df_0_target_valid, reg_0_predicted), 'млн.руб.')"
   ]
  },
  {
   "cell_type": "code",
   "execution_count": 26,
   "metadata": {},
   "outputs": [
    {
     "name": "stdout",
     "output_type": "stream",
     "text": [
      "Прибыль с 200 лучших скважин региона \"1\": 2415.09 млн.руб.\n"
     ]
    }
   ],
   "source": [
    "print('Прибыль с 200 лучших скважин региона \"1\":', profit_calculation(df_1_target_valid, reg_1_predicted), 'млн.руб.')"
   ]
  },
  {
   "cell_type": "code",
   "execution_count": 27,
   "metadata": {},
   "outputs": [
    {
     "name": "stdout",
     "output_type": "stream",
     "text": [
      "Прибыль с 200 лучших скважин региона \"2\": 2501.28 млн.руб.\n"
     ]
    }
   ],
   "source": [
    "print('Прибыль с 200 лучших скважин региона \"2\":', profit_calculation(df_2_target_valid, reg_2_predicted), 'млн.руб.')"
   ]
  },
  {
   "cell_type": "markdown",
   "metadata": {},
   "source": [
    "Наибольшая прибыль прогнозируется из региона \"0\", наименьшая - из региона \"1\""
   ]
  },
  {
   "cell_type": "markdown",
   "metadata": {},
   "source": [
    "**Риски и прибыль для каждого региона**"
   ]
  },
  {
   "cell_type": "code",
   "execution_count": 30,
   "metadata": {},
   "outputs": [],
   "source": [
    "# Напишем функцию, применяющую технику Bootstrap с 1000 выборок, для получения распределения прибыли.\n",
    "# Рассчитаем в этой же функции среднюю прибыль,95-й доверительный интервал, риск убытков (отрицательную прибыль).\n",
    "def bootstrap(target, probabilities):\n",
    "    state = np.random.RandomState(12345)\n",
    "    profit = []\n",
    "    for i in range(1000):\n",
    "        target_subsample = target.sample(n=500, random_state=state, replace=True)\n",
    "        probs_subsample = probabilities[target_subsample.index]\n",
    "        profit.append(profit_calculation(target_subsample, probs_subsample))\n",
    "\n",
    "    profit = pd.Series(profit)\n",
    "    loss = (profit < 0).mean()\n",
    "    mean = profit.mean()\n",
    "    #confidence_interval = st.t.interval(0.95, df=len(profit)-1, loc=profit.mean(), scale=profit.sem())\n",
    "    quantile_interval = (profit.quantile(0.025), profit.quantile(0.975))\n",
    "    \n",
    "    return round(mean, 2), quantile_interval, round(loss*100, 2)"
   ]
  },
  {
   "cell_type": "code",
   "execution_count": 31,
   "metadata": {},
   "outputs": [
    {
     "name": "stdout",
     "output_type": "stream",
     "text": [
      "Регион \"0\" средняя прибыль: 380.61 млн.руб.\n",
      "Регион \"0\" 95%-й доверительный интервал: (-142.94025, 890.9769999999999) млн.руб.\n",
      "Регион \"0\" Риск убытков: 7.7 %\n"
     ]
    }
   ],
   "source": [
    "# прибыль, 95-й доверительный интервал, риск убытков Региона \"0\"\n",
    "reg_0_mean, reg_0_interval, reg_0_loss = bootstrap(df_0_target_valid.reset_index(drop=True), reg_0_predicted)\n",
    "print('Регион \"0\" средняя прибыль:', reg_0_mean, 'млн.руб.')\n",
    "print('Регион \"0\" 95%-й доверительный интервал:', reg_0_interval, 'млн.руб.')\n",
    "print('Регион \"0\" Риск убытков:', reg_0_loss, '%')"
   ]
  },
  {
   "cell_type": "code",
   "execution_count": 32,
   "metadata": {},
   "outputs": [
    {
     "name": "stdout",
     "output_type": "stream",
     "text": [
      "Регион \"1\" средняя прибыль: 478.48 млн.руб.\n",
      "Регион \"1\" 95%-й доверительный интервал: (89.52575, 866.6072499999999) млн.руб.\n",
      "Регион \"1\" Риск убытков: 1.2 %\n"
     ]
    }
   ],
   "source": [
    "# прибыль, 95-й доверительный интервал, риск убытков Региона \"1\"\n",
    "reg_1_mean, reg_1_interval, reg_1_loss = bootstrap(df_1_target_valid.reset_index(drop=True), reg_1_predicted)\n",
    "print('Регион \"1\" средняя прибыль:', reg_1_mean, 'млн.руб.')\n",
    "print('Регион \"1\" 95%-й доверительный интервал:', reg_1_interval, 'млн.руб.')\n",
    "print('Регион \"1\" Риск убытков:', reg_1_loss, '%')"
   ]
  },
  {
   "cell_type": "code",
   "execution_count": 33,
   "metadata": {
    "scrolled": true
   },
   "outputs": [
    {
     "name": "stdout",
     "output_type": "stream",
     "text": [
      "Регион \"2\" средняя прибыль: 330.55 млн.руб.\n",
      "Регион \"2\" 95%-й доверительный интервал: (-190.36775, 840.4722499999998) млн.руб.\n",
      "Регион \"2\" Риск убытков: 11.3 %\n"
     ]
    }
   ],
   "source": [
    "# прибыль, 95-й доверительный интервал, риск убытков Региона \"2\"\n",
    "reg_2_mean, reg_2_interval, reg_2_loss = bootstrap(df_2_target_valid.reset_index(drop=True), reg_2_predicted)\n",
    "print('Регион \"2\" средняя прибыль:', reg_2_mean, 'млн.руб.')\n",
    "print('Регион \"2\" 95%-й доверительный интервал:', reg_2_interval, 'млн.руб.')\n",
    "print('Регион \"2\" Риск убытков:', reg_2_loss, '%')"
   ]
  },
  {
   "cell_type": "markdown",
   "metadata": {},
   "source": [
    "<div class=\"alert alert-block alert-warning\">\n",
    "**ВЫВОДЫ**\n",
    "\n",
    "В условиях нашей задачи сказано, что вероятность убытков не должна превышать 2,5%. Данному критерию удовлетворяет только регион \"1\". К тому же данный регион имеет наилучший прогноз по средней прибыли,<b> нет отрицательных значений в доверительном интервале прибыли.</b>\n",
    "\n",
    "Наиболее перспективным будет разработка месторождений в регионе 1.\n",
    "</div>"
   ]
  }
 ],
 "metadata": {
  "ExecuteTimeLog": [
   {
    "duration": 425,
    "start_time": "2023-01-18T09:11:18.989Z"
   },
   {
    "duration": 913,
    "start_time": "2023-01-18T09:11:20.970Z"
   },
   {
    "duration": 33,
    "start_time": "2023-01-18T09:11:23.389Z"
   },
   {
    "duration": 15,
    "start_time": "2023-01-18T09:14:16.237Z"
   },
   {
    "duration": 10,
    "start_time": "2023-01-18T09:14:32.706Z"
   },
   {
    "duration": 9,
    "start_time": "2023-01-18T09:14:46.704Z"
   },
   {
    "duration": 8,
    "start_time": "2023-01-18T09:15:03.024Z"
   },
   {
    "duration": 47,
    "start_time": "2023-01-18T09:28:30.810Z"
   },
   {
    "duration": 53,
    "start_time": "2023-01-18T09:29:20.371Z"
   },
   {
    "duration": 40,
    "start_time": "2023-01-18T09:29:34.231Z"
   },
   {
    "duration": 42,
    "start_time": "2023-01-18T09:29:43.045Z"
   },
   {
    "duration": 18,
    "start_time": "2023-01-18T09:30:41.877Z"
   },
   {
    "duration": 37,
    "start_time": "2023-01-18T09:51:19.274Z"
   },
   {
    "duration": 13,
    "start_time": "2023-01-18T09:51:37.296Z"
   },
   {
    "duration": 43,
    "start_time": "2023-01-18T09:54:12.814Z"
   },
   {
    "duration": 29,
    "start_time": "2023-01-18T09:54:26.928Z"
   },
   {
    "duration": 17,
    "start_time": "2023-01-18T09:54:49.374Z"
   },
   {
    "duration": 25,
    "start_time": "2023-01-18T09:54:57.673Z"
   },
   {
    "duration": 35,
    "start_time": "2023-01-18T09:55:50.046Z"
   },
   {
    "duration": 41,
    "start_time": "2023-01-18T09:57:07.430Z"
   },
   {
    "duration": 11,
    "start_time": "2023-01-18T10:06:05.839Z"
   },
   {
    "duration": 66,
    "start_time": "2023-01-18T10:23:20.053Z"
   },
   {
    "duration": 700,
    "start_time": "2023-01-18T10:24:21.679Z"
   },
   {
    "duration": 65,
    "start_time": "2023-01-18T10:24:32.775Z"
   },
   {
    "duration": 67,
    "start_time": "2023-01-18T10:26:51.153Z"
   },
   {
    "duration": 36,
    "start_time": "2023-01-18T10:27:22.738Z"
   },
   {
    "duration": 534,
    "start_time": "2023-01-18T10:35:47.017Z"
   },
   {
    "duration": 2,
    "start_time": "2023-01-18T10:36:11.874Z"
   },
   {
    "duration": 67,
    "start_time": "2023-01-18T10:51:28.652Z"
   },
   {
    "duration": 15,
    "start_time": "2023-01-18T10:53:49.792Z"
   },
   {
    "duration": 18,
    "start_time": "2023-01-18T10:56:28.100Z"
   },
   {
    "duration": 3,
    "start_time": "2023-01-18T11:46:32.317Z"
   },
   {
    "duration": 4,
    "start_time": "2023-01-18T11:54:43.251Z"
   },
   {
    "duration": 25,
    "start_time": "2023-01-18T12:14:12.974Z"
   },
   {
    "duration": 5,
    "start_time": "2023-01-18T12:15:05.924Z"
   },
   {
    "duration": 5,
    "start_time": "2023-01-18T12:15:09.992Z"
   },
   {
    "duration": 5,
    "start_time": "2023-01-18T12:16:02.930Z"
   },
   {
    "duration": 5,
    "start_time": "2023-01-18T12:16:45.653Z"
   },
   {
    "duration": 988,
    "start_time": "2023-01-19T03:38:24.911Z"
   },
   {
    "duration": 1477,
    "start_time": "2023-01-19T03:38:28.576Z"
   },
   {
    "duration": 16,
    "start_time": "2023-01-19T03:38:34.943Z"
   },
   {
    "duration": 10,
    "start_time": "2023-01-19T03:38:37.322Z"
   },
   {
    "duration": 9,
    "start_time": "2023-01-19T03:38:39.354Z"
   },
   {
    "duration": 32,
    "start_time": "2023-01-19T03:38:45.192Z"
   },
   {
    "duration": 17,
    "start_time": "2023-01-19T03:38:51.719Z"
   },
   {
    "duration": 16,
    "start_time": "2023-01-19T03:38:53.574Z"
   },
   {
    "duration": 16,
    "start_time": "2023-01-19T03:38:57.968Z"
   },
   {
    "duration": 33,
    "start_time": "2023-01-19T03:39:01.055Z"
   },
   {
    "duration": 33,
    "start_time": "2023-01-19T03:39:07.842Z"
   },
   {
    "duration": 33,
    "start_time": "2023-01-19T03:39:09.665Z"
   },
   {
    "duration": 10,
    "start_time": "2023-01-19T03:39:15.683Z"
   },
   {
    "duration": 30,
    "start_time": "2023-01-19T03:39:24.607Z"
   },
   {
    "duration": 3,
    "start_time": "2023-01-19T03:39:27.428Z"
   },
   {
    "duration": 22,
    "start_time": "2023-01-19T03:39:29.640Z"
   },
   {
    "duration": 18,
    "start_time": "2023-01-19T03:39:32.444Z"
   },
   {
    "duration": 17,
    "start_time": "2023-01-19T03:39:36.583Z"
   },
   {
    "duration": 2,
    "start_time": "2023-01-19T03:39:43.698Z"
   },
   {
    "duration": 4,
    "start_time": "2023-01-19T03:39:47.696Z"
   },
   {
    "duration": 5,
    "start_time": "2023-01-19T03:39:50.835Z"
   },
   {
    "duration": 782,
    "start_time": "2023-01-19T03:59:38.251Z"
   },
   {
    "duration": 3,
    "start_time": "2023-01-19T04:00:04.145Z"
   },
   {
    "duration": 824,
    "start_time": "2023-01-19T04:00:16.007Z"
   },
   {
    "duration": 4,
    "start_time": "2023-01-19T04:00:42.577Z"
   },
   {
    "duration": 4,
    "start_time": "2023-01-19T04:03:12.570Z"
   },
   {
    "duration": 3,
    "start_time": "2023-01-19T04:21:00.293Z"
   },
   {
    "duration": 9,
    "start_time": "2023-01-19T04:23:23.961Z"
   },
   {
    "duration": 8,
    "start_time": "2023-01-19T04:23:47.218Z"
   },
   {
    "duration": 3,
    "start_time": "2023-01-19T04:25:18.879Z"
   },
   {
    "duration": 7,
    "start_time": "2023-01-19T04:25:20.715Z"
   },
   {
    "duration": 4,
    "start_time": "2023-01-19T04:27:05.765Z"
   },
   {
    "duration": 7,
    "start_time": "2023-01-19T04:27:06.807Z"
   },
   {
    "duration": 4,
    "start_time": "2023-01-19T04:27:19.461Z"
   },
   {
    "duration": 8,
    "start_time": "2023-01-19T04:27:20.466Z"
   },
   {
    "duration": 7,
    "start_time": "2023-01-19T04:30:14.590Z"
   },
   {
    "duration": 8,
    "start_time": "2023-01-19T04:31:23.560Z"
   },
   {
    "duration": 8,
    "start_time": "2023-01-19T04:31:30.314Z"
   },
   {
    "duration": 5,
    "start_time": "2023-01-19T08:17:31.162Z"
   },
   {
    "duration": 5,
    "start_time": "2023-01-19T08:19:19.033Z"
   },
   {
    "duration": 5,
    "start_time": "2023-01-19T08:33:42.540Z"
   },
   {
    "duration": 11,
    "start_time": "2023-01-19T08:33:45.241Z"
   },
   {
    "duration": 1012,
    "start_time": "2023-01-19T08:36:23.324Z"
   },
   {
    "duration": 8,
    "start_time": "2023-01-19T08:38:10.481Z"
   },
   {
    "duration": 992,
    "start_time": "2023-01-19T08:38:12.975Z"
   },
   {
    "duration": 5,
    "start_time": "2023-01-19T08:38:51.432Z"
   },
   {
    "duration": 985,
    "start_time": "2023-01-19T08:38:53.180Z"
   },
   {
    "duration": 949,
    "start_time": "2023-01-19T08:41:32.318Z"
   },
   {
    "duration": 902,
    "start_time": "2023-01-19T08:42:57.388Z"
   },
   {
    "duration": 954,
    "start_time": "2023-01-19T08:43:28.978Z"
   },
   {
    "duration": 5,
    "start_time": "2023-01-19T08:45:44.733Z"
   },
   {
    "duration": 969,
    "start_time": "2023-01-19T08:45:47.101Z"
   },
   {
    "duration": 946,
    "start_time": "2023-01-19T08:45:51.518Z"
   },
   {
    "duration": 921,
    "start_time": "2023-01-19T08:45:54.544Z"
   },
   {
    "duration": 7,
    "start_time": "2023-01-19T09:07:06.746Z"
   },
   {
    "duration": 8,
    "start_time": "2023-01-19T09:07:55.845Z"
   },
   {
    "duration": 8,
    "start_time": "2023-01-19T09:08:25.308Z"
   },
   {
    "duration": 8,
    "start_time": "2023-01-19T09:08:32.477Z"
   },
   {
    "duration": 4,
    "start_time": "2023-01-19T09:09:21.668Z"
   },
   {
    "duration": 8,
    "start_time": "2023-01-19T09:09:52.095Z"
   },
   {
    "duration": 8,
    "start_time": "2023-01-19T09:10:16.766Z"
   },
   {
    "duration": 8,
    "start_time": "2023-01-19T09:13:39.766Z"
   },
   {
    "duration": 8,
    "start_time": "2023-01-19T09:13:46.105Z"
   },
   {
    "duration": 8,
    "start_time": "2023-01-19T09:17:41.509Z"
   },
   {
    "duration": 4,
    "start_time": "2023-01-19T09:27:01.580Z"
   },
   {
    "duration": 8,
    "start_time": "2023-01-19T09:27:03.722Z"
   },
   {
    "duration": 3,
    "start_time": "2023-01-19T09:27:49.838Z"
   },
   {
    "duration": 8,
    "start_time": "2023-01-19T09:27:52.083Z"
   },
   {
    "duration": 4,
    "start_time": "2023-01-19T09:58:43.399Z"
   },
   {
    "duration": 8,
    "start_time": "2023-01-19T09:58:47.165Z"
   },
   {
    "duration": 7,
    "start_time": "2023-01-19T09:58:56.273Z"
   },
   {
    "duration": 7,
    "start_time": "2023-01-19T09:59:00.902Z"
   },
   {
    "duration": 4,
    "start_time": "2023-01-19T10:50:32.022Z"
   },
   {
    "duration": 7,
    "start_time": "2023-01-19T10:50:34.638Z"
   },
   {
    "duration": 8,
    "start_time": "2023-01-19T10:50:40.271Z"
   },
   {
    "duration": 8,
    "start_time": "2023-01-19T10:50:46.114Z"
   },
   {
    "duration": 5,
    "start_time": "2023-01-19T10:58:39.011Z"
   },
   {
    "duration": 878,
    "start_time": "2023-01-19T10:58:41.815Z"
   },
   {
    "duration": 4,
    "start_time": "2023-01-19T11:00:41.973Z"
   },
   {
    "duration": 4,
    "start_time": "2023-01-19T11:03:58.638Z"
   },
   {
    "duration": 7,
    "start_time": "2023-01-19T11:04:01.036Z"
   },
   {
    "duration": 7,
    "start_time": "2023-01-19T11:04:21.273Z"
   },
   {
    "duration": 7,
    "start_time": "2023-01-19T11:05:01.582Z"
   },
   {
    "duration": 8,
    "start_time": "2023-01-19T11:05:37.498Z"
   },
   {
    "duration": 5,
    "start_time": "2023-01-19T11:06:02.977Z"
   },
   {
    "duration": 888,
    "start_time": "2023-01-19T11:06:19.834Z"
   },
   {
    "duration": 4,
    "start_time": "2023-01-19T11:09:34.081Z"
   },
   {
    "duration": 896,
    "start_time": "2023-01-19T11:09:35.481Z"
   },
   {
    "duration": 6,
    "start_time": "2023-01-19T11:10:59.880Z"
   },
   {
    "duration": 974,
    "start_time": "2023-01-19T11:11:02.178Z"
   },
   {
    "duration": 5,
    "start_time": "2023-01-19T11:11:48.698Z"
   },
   {
    "duration": 923,
    "start_time": "2023-01-19T11:11:50.538Z"
   },
   {
    "duration": 890,
    "start_time": "2023-01-19T11:12:49.205Z"
   },
   {
    "duration": 948,
    "start_time": "2023-01-19T11:14:23.789Z"
   },
   {
    "duration": 46,
    "start_time": "2023-01-19T11:15:03.635Z"
   },
   {
    "duration": 936,
    "start_time": "2023-01-19T11:15:23.044Z"
   },
   {
    "duration": 921,
    "start_time": "2023-01-19T11:15:47.077Z"
   },
   {
    "duration": 990,
    "start_time": "2023-01-19T11:16:42.483Z"
   },
   {
    "duration": 934,
    "start_time": "2023-01-19T11:17:00.692Z"
   },
   {
    "duration": 940,
    "start_time": "2023-01-19T11:17:11.263Z"
   },
   {
    "duration": 905,
    "start_time": "2023-01-19T11:17:52.165Z"
   },
   {
    "duration": 950,
    "start_time": "2023-01-19T11:18:02.998Z"
   },
   {
    "duration": 902,
    "start_time": "2023-01-19T11:18:12.182Z"
   },
   {
    "duration": 4,
    "start_time": "2023-01-19T11:25:11.156Z"
   },
   {
    "duration": 939,
    "start_time": "2023-01-19T11:25:15.884Z"
   },
   {
    "duration": 3,
    "start_time": "2023-01-19T11:36:09.544Z"
   },
   {
    "duration": 7,
    "start_time": "2023-01-19T11:36:13.305Z"
   },
   {
    "duration": 3,
    "start_time": "2023-01-19T11:38:25.045Z"
   },
   {
    "duration": 7,
    "start_time": "2023-01-19T11:38:28.589Z"
   },
   {
    "duration": 4,
    "start_time": "2023-01-19T11:44:16.563Z"
   },
   {
    "duration": 938,
    "start_time": "2023-01-19T11:44:34.370Z"
   },
   {
    "duration": 5,
    "start_time": "2023-01-19T11:44:57.641Z"
   },
   {
    "duration": 879,
    "start_time": "2023-01-19T11:44:59.714Z"
   },
   {
    "duration": 5,
    "start_time": "2023-01-19T11:47:21.380Z"
   },
   {
    "duration": 937,
    "start_time": "2023-01-19T11:47:23.794Z"
   },
   {
    "duration": 4,
    "start_time": "2023-01-19T11:47:53.662Z"
   },
   {
    "duration": 928,
    "start_time": "2023-01-19T11:47:58.278Z"
   },
   {
    "duration": 5,
    "start_time": "2023-01-19T11:48:13.657Z"
   },
   {
    "duration": 887,
    "start_time": "2023-01-19T11:48:18.457Z"
   },
   {
    "duration": 4,
    "start_time": "2023-01-19T11:48:55.807Z"
   },
   {
    "duration": 921,
    "start_time": "2023-01-19T11:48:57.668Z"
   },
   {
    "duration": 922,
    "start_time": "2023-01-19T11:49:24.351Z"
   },
   {
    "duration": 918,
    "start_time": "2023-01-19T11:49:38.654Z"
   },
   {
    "duration": 1020,
    "start_time": "2023-01-19T11:55:48.790Z"
   },
   {
    "duration": 371,
    "start_time": "2023-01-19T11:55:49.812Z"
   },
   {
    "duration": 15,
    "start_time": "2023-01-19T11:55:50.185Z"
   },
   {
    "duration": 9,
    "start_time": "2023-01-19T11:55:50.201Z"
   },
   {
    "duration": 13,
    "start_time": "2023-01-19T11:55:50.212Z"
   },
   {
    "duration": 49,
    "start_time": "2023-01-19T11:55:50.226Z"
   },
   {
    "duration": 17,
    "start_time": "2023-01-19T11:55:50.277Z"
   },
   {
    "duration": 20,
    "start_time": "2023-01-19T11:55:50.296Z"
   },
   {
    "duration": 39,
    "start_time": "2023-01-19T11:55:50.318Z"
   },
   {
    "duration": 76,
    "start_time": "2023-01-19T11:55:50.359Z"
   },
   {
    "duration": 46,
    "start_time": "2023-01-19T11:55:50.437Z"
   },
   {
    "duration": 37,
    "start_time": "2023-01-19T11:55:50.486Z"
   },
   {
    "duration": 24,
    "start_time": "2023-01-19T11:55:50.525Z"
   },
   {
    "duration": 35,
    "start_time": "2023-01-19T11:55:50.553Z"
   },
   {
    "duration": 3,
    "start_time": "2023-01-19T11:55:50.590Z"
   },
   {
    "duration": 57,
    "start_time": "2023-01-19T11:55:50.594Z"
   },
   {
    "duration": 102,
    "start_time": "2023-01-19T11:55:50.656Z"
   },
   {
    "duration": 197,
    "start_time": "2023-01-19T11:55:50.762Z"
   },
   {
    "duration": 187,
    "start_time": "2023-01-19T11:55:50.963Z"
   },
   {
    "duration": 16,
    "start_time": "2023-01-19T11:55:51.152Z"
   },
   {
    "duration": 8,
    "start_time": "2023-01-19T11:55:51.170Z"
   },
   {
    "duration": 14,
    "start_time": "2023-01-19T11:55:51.179Z"
   },
   {
    "duration": 12,
    "start_time": "2023-01-19T11:55:51.194Z"
   },
   {
    "duration": 8,
    "start_time": "2023-01-19T11:55:51.208Z"
   },
   {
    "duration": 10,
    "start_time": "2023-01-19T11:55:51.218Z"
   },
   {
    "duration": 11,
    "start_time": "2023-01-19T11:55:51.229Z"
   },
   {
    "duration": 941,
    "start_time": "2023-01-19T11:55:51.241Z"
   },
   {
    "duration": 920,
    "start_time": "2023-01-19T11:55:52.184Z"
   },
   {
    "duration": 929,
    "start_time": "2023-01-19T11:55:53.106Z"
   },
   {
    "duration": 1065,
    "start_time": "2023-01-19T11:57:09.542Z"
   },
   {
    "duration": 378,
    "start_time": "2023-01-19T11:57:10.608Z"
   },
   {
    "duration": 16,
    "start_time": "2023-01-19T11:57:10.987Z"
   },
   {
    "duration": 8,
    "start_time": "2023-01-19T11:57:11.005Z"
   },
   {
    "duration": 11,
    "start_time": "2023-01-19T11:57:11.016Z"
   },
   {
    "duration": 50,
    "start_time": "2023-01-19T11:57:11.028Z"
   },
   {
    "duration": 18,
    "start_time": "2023-01-19T11:57:11.080Z"
   },
   {
    "duration": 23,
    "start_time": "2023-01-19T11:57:11.100Z"
   },
   {
    "duration": 30,
    "start_time": "2023-01-19T11:57:11.125Z"
   },
   {
    "duration": 39,
    "start_time": "2023-01-19T11:57:11.157Z"
   },
   {
    "duration": 35,
    "start_time": "2023-01-19T11:57:11.198Z"
   },
   {
    "duration": 46,
    "start_time": "2023-01-19T11:57:11.235Z"
   },
   {
    "duration": 11,
    "start_time": "2023-01-19T11:57:11.282Z"
   },
   {
    "duration": 31,
    "start_time": "2023-01-19T11:57:11.297Z"
   },
   {
    "duration": 20,
    "start_time": "2023-01-19T11:57:11.329Z"
   },
   {
    "duration": 30,
    "start_time": "2023-01-19T11:57:11.350Z"
   },
   {
    "duration": 109,
    "start_time": "2023-01-19T11:57:11.450Z"
   },
   {
    "duration": 189,
    "start_time": "2023-01-19T11:57:11.561Z"
   },
   {
    "duration": 98,
    "start_time": "2023-01-19T11:57:11.752Z"
   },
   {
    "duration": 7,
    "start_time": "2023-01-19T11:57:11.851Z"
   },
   {
    "duration": 7,
    "start_time": "2023-01-19T11:57:11.859Z"
   },
   {
    "duration": 7,
    "start_time": "2023-01-19T11:57:11.867Z"
   },
   {
    "duration": 15,
    "start_time": "2023-01-19T11:57:11.876Z"
   },
   {
    "duration": 7,
    "start_time": "2023-01-19T11:57:11.892Z"
   },
   {
    "duration": 8,
    "start_time": "2023-01-19T11:57:11.901Z"
   },
   {
    "duration": 5,
    "start_time": "2023-01-19T11:57:11.911Z"
   },
   {
    "duration": 953,
    "start_time": "2023-01-19T11:57:11.918Z"
   },
   {
    "duration": 920,
    "start_time": "2023-01-19T11:57:12.873Z"
   },
   {
    "duration": 900,
    "start_time": "2023-01-19T11:57:13.794Z"
   },
   {
    "duration": 11,
    "start_time": "2023-01-19T12:37:17.273Z"
   },
   {
    "duration": 96,
    "start_time": "2023-01-19T12:37:52.876Z"
   },
   {
    "duration": 9,
    "start_time": "2023-01-19T12:48:37.517Z"
   },
   {
    "duration": 8,
    "start_time": "2023-01-19T12:50:01.876Z"
   },
   {
    "duration": 8,
    "start_time": "2023-01-19T12:50:26.341Z"
   },
   {
    "duration": 9,
    "start_time": "2023-01-19T12:52:29.560Z"
   },
   {
    "duration": 9,
    "start_time": "2023-01-19T13:16:22.584Z"
   },
   {
    "duration": 9,
    "start_time": "2023-01-19T13:25:54.876Z"
   },
   {
    "duration": 9,
    "start_time": "2023-01-19T13:28:16.086Z"
   },
   {
    "duration": 44,
    "start_time": "2023-01-19T13:33:09.245Z"
   },
   {
    "duration": 9,
    "start_time": "2023-01-19T13:34:14.545Z"
   },
   {
    "duration": 58,
    "start_time": "2023-01-19T13:34:45.276Z"
   },
   {
    "duration": 51,
    "start_time": "2023-01-19T13:35:06.579Z"
   },
   {
    "duration": 47,
    "start_time": "2023-01-19T13:35:48.464Z"
   },
   {
    "duration": 8,
    "start_time": "2023-01-19T13:36:03.451Z"
   },
   {
    "duration": 42,
    "start_time": "2023-01-19T13:39:38.746Z"
   },
   {
    "duration": 4533,
    "start_time": "2023-01-19T13:39:54.589Z"
   },
   {
    "duration": 17030,
    "start_time": "2023-01-19T13:43:05.246Z"
   },
   {
    "duration": 8934,
    "start_time": "2023-01-19T13:45:01.992Z"
   },
   {
    "duration": 8127,
    "start_time": "2023-01-19T13:48:10.938Z"
   },
   {
    "duration": 8315,
    "start_time": "2023-01-19T13:48:30.466Z"
   },
   {
    "duration": 4202,
    "start_time": "2023-01-19T13:53:02.449Z"
   },
   {
    "duration": 403,
    "start_time": "2023-01-19T13:53:06.653Z"
   },
   {
    "duration": 13,
    "start_time": "2023-01-19T13:53:07.058Z"
   },
   {
    "duration": 10,
    "start_time": "2023-01-19T13:53:07.074Z"
   },
   {
    "duration": 9,
    "start_time": "2023-01-19T13:53:07.086Z"
   },
   {
    "duration": 54,
    "start_time": "2023-01-19T13:53:07.097Z"
   },
   {
    "duration": 17,
    "start_time": "2023-01-19T13:53:07.153Z"
   },
   {
    "duration": 17,
    "start_time": "2023-01-19T13:53:07.172Z"
   },
   {
    "duration": 23,
    "start_time": "2023-01-19T13:53:07.191Z"
   },
   {
    "duration": 52,
    "start_time": "2023-01-19T13:53:07.217Z"
   },
   {
    "duration": 33,
    "start_time": "2023-01-19T13:53:07.271Z"
   },
   {
    "duration": 51,
    "start_time": "2023-01-19T13:53:07.305Z"
   },
   {
    "duration": 10,
    "start_time": "2023-01-19T13:53:07.358Z"
   },
   {
    "duration": 9247,
    "start_time": "2023-01-19T13:53:07.370Z"
   },
   {
    "duration": 8115,
    "start_time": "2023-01-19T13:53:16.619Z"
   },
   {
    "duration": 8868,
    "start_time": "2023-01-19T13:53:24.735Z"
   },
   {
    "duration": 53,
    "start_time": "2023-01-19T13:53:33.604Z"
   },
   {
    "duration": 3,
    "start_time": "2023-01-19T13:53:33.659Z"
   },
   {
    "duration": 86,
    "start_time": "2023-01-19T13:53:33.663Z"
   },
   {
    "duration": 110,
    "start_time": "2023-01-19T13:53:33.751Z"
   },
   {
    "duration": 188,
    "start_time": "2023-01-19T13:53:33.864Z"
   },
   {
    "duration": 93,
    "start_time": "2023-01-19T13:53:34.055Z"
   },
   {
    "duration": 4,
    "start_time": "2023-01-19T13:53:34.151Z"
   },
   {
    "duration": 7,
    "start_time": "2023-01-19T13:53:34.156Z"
   },
   {
    "duration": 12,
    "start_time": "2023-01-19T13:53:34.165Z"
   },
   {
    "duration": 10,
    "start_time": "2023-01-19T13:53:34.179Z"
   },
   {
    "duration": 7,
    "start_time": "2023-01-19T13:53:34.190Z"
   },
   {
    "duration": 7,
    "start_time": "2023-01-19T13:53:34.250Z"
   },
   {
    "duration": 5,
    "start_time": "2023-01-19T13:53:34.258Z"
   },
   {
    "duration": 1008,
    "start_time": "2023-01-19T13:53:34.265Z"
   },
   {
    "duration": 987,
    "start_time": "2023-01-19T13:53:35.275Z"
   },
   {
    "duration": 986,
    "start_time": "2023-01-19T13:53:36.263Z"
   },
   {
    "duration": 1200,
    "start_time": "2023-01-19T16:00:47.748Z"
   },
   {
    "duration": 4394,
    "start_time": "2023-01-19T16:01:19.589Z"
   },
   {
    "duration": 1607,
    "start_time": "2023-01-19T16:01:29.315Z"
   },
   {
    "duration": 4063,
    "start_time": "2023-01-19T16:04:18.073Z"
   },
   {
    "duration": 4256,
    "start_time": "2023-01-19T16:09:17.528Z"
   },
   {
    "duration": 46,
    "start_time": "2023-01-19T16:10:52.770Z"
   },
   {
    "duration": 40,
    "start_time": "2023-01-19T16:10:58.025Z"
   },
   {
    "duration": 43,
    "start_time": "2023-01-19T16:11:00.582Z"
   },
   {
    "duration": 3,
    "start_time": "2023-01-19T16:13:50.165Z"
   },
   {
    "duration": 5,
    "start_time": "2023-01-19T16:14:00.042Z"
   },
   {
    "duration": 93,
    "start_time": "2023-01-19T16:18:46.656Z"
   },
   {
    "duration": 36,
    "start_time": "2023-01-19T16:23:34.629Z"
   },
   {
    "duration": 37,
    "start_time": "2023-01-19T16:23:39.015Z"
   },
   {
    "duration": 3,
    "start_time": "2023-01-19T16:31:33.931Z"
   },
   {
    "duration": 124,
    "start_time": "2023-01-19T16:31:46.365Z"
   },
   {
    "duration": 5,
    "start_time": "2023-01-19T16:32:53.525Z"
   },
   {
    "duration": 5,
    "start_time": "2023-01-19T16:36:14.191Z"
   },
   {
    "duration": 119,
    "start_time": "2023-01-19T16:36:16.532Z"
   },
   {
    "duration": 107,
    "start_time": "2023-01-19T16:36:19.432Z"
   },
   {
    "duration": 76,
    "start_time": "2023-01-19T16:36:24.163Z"
   },
   {
    "duration": 7,
    "start_time": "2023-01-19T16:36:47.673Z"
   },
   {
    "duration": 4,
    "start_time": "2023-01-19T16:37:00.383Z"
   },
   {
    "duration": 17,
    "start_time": "2023-01-19T16:37:21.618Z"
   },
   {
    "duration": 4,
    "start_time": "2023-01-19T16:39:09.728Z"
   },
   {
    "duration": 8,
    "start_time": "2023-01-19T16:39:14.834Z"
   },
   {
    "duration": 8,
    "start_time": "2023-01-19T16:39:24.224Z"
   },
   {
    "duration": 9,
    "start_time": "2023-01-19T16:39:25.769Z"
   },
   {
    "duration": 7,
    "start_time": "2023-01-19T16:40:25.340Z"
   },
   {
    "duration": 5,
    "start_time": "2023-01-19T16:46:00.583Z"
   },
   {
    "duration": 6,
    "start_time": "2023-01-19T16:46:33.095Z"
   },
   {
    "duration": 999,
    "start_time": "2023-01-19T16:46:40.565Z"
   },
   {
    "duration": 1029,
    "start_time": "2023-01-19T16:47:50.120Z"
   },
   {
    "duration": 1068,
    "start_time": "2023-01-19T16:47:58.365Z"
   }
  ],
  "kernelspec": {
   "display_name": "Python 3 (ipykernel)",
   "language": "python",
   "name": "python3"
  },
  "language_info": {
   "codemirror_mode": {
    "name": "ipython",
    "version": 3
   },
   "file_extension": ".py",
   "mimetype": "text/x-python",
   "name": "python",
   "nbconvert_exporter": "python",
   "pygments_lexer": "ipython3",
   "version": "3.9.16"
  },
  "toc": {
   "base_numbering": 1,
   "nav_menu": {},
   "number_sections": true,
   "sideBar": true,
   "skip_h1_title": true,
   "title_cell": "Table of Contents",
   "title_sidebar": "Contents",
   "toc_cell": false,
   "toc_position": {},
   "toc_section_display": true,
   "toc_window_display": false
  }
 },
 "nbformat": 4,
 "nbformat_minor": 2
}
