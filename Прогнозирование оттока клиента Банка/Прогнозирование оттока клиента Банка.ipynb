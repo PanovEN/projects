{
 "cells": [
  {
   "cell_type": "markdown",
   "metadata": {
    "toc": true
   },
   "source": [
    "<h1>Содержание<span class=\"tocSkip\"></span></h1>\n",
    "<div class=\"toc\"><ul class=\"toc-item\"><li><span><a href=\"#Подготовка-данных\" data-toc-modified-id=\"Подготовка-данных-1\"><span class=\"toc-item-num\">1&nbsp;&nbsp;</span>Подготовка данных</a></span></li><li><span><a href=\"#Исследование-задачи\" data-toc-modified-id=\"Исследование-задачи-2\"><span class=\"toc-item-num\">2&nbsp;&nbsp;</span>Исследование задачи</a></span></li><li><span><a href=\"#Борьба-с-дисбалансом\" data-toc-modified-id=\"Борьба-с-дисбалансом-3\"><span class=\"toc-item-num\">3&nbsp;&nbsp;</span>Борьба с дисбалансом</a></span></li><li><span><a href=\"#Тестирование-модели\" data-toc-modified-id=\"Тестирование-модели-4\"><span class=\"toc-item-num\">4&nbsp;&nbsp;</span>Тестирование модели</a></span></li></ul></div>"
   ]
  },
  {
   "cell_type": "markdown",
   "metadata": {},
   "source": [
    "# Отток клиентов"
   ]
  },
  {
   "cell_type": "markdown",
   "metadata": {},
   "source": [
    "Из «Бета-Банка» стали уходить клиенты. Каждый месяц. Немного, но заметно. Банковские маркетологи посчитали: сохранять текущих клиентов дешевле, чем привлекать новых.\n",
    "\n",
    "Нужно спрогнозировать, уйдёт клиент из банка в ближайшее время или нет. Предоставлены исторические данные о поведении клиентов и расторжении договоров с банком. \n",
    "\n",
    "**Цели:**\n",
    "- Построить модель с предельно большим значением *F1*-меры. Нужно довести метрику до 0.59. Проверить *F1*-меру на тестовой выборке.\n",
    "\n",
    "- Дополнительно измерить *AUC-ROC*, сравнить её значение с *F1*-мерой.\n",
    "\n",
    "Источник данных: [https://www.kaggle.com/barelydedicated/bank-customer-churn-modeling](https://www.kaggle.com/barelydedicated/bank-customer-churn-modeling)"
   ]
  },
  {
   "cell_type": "markdown",
   "metadata": {},
   "source": [
    "## Подготовка данных"
   ]
  },
  {
   "cell_type": "code",
   "execution_count": 1,
   "metadata": {},
   "outputs": [
    {
     "name": "stdout",
     "output_type": "stream",
     "text": [
      "Requirement already satisfied: imblearn in /opt/conda/lib/python3.9/site-packages (0.0)\n",
      "Requirement already satisfied: imbalanced-learn in /opt/conda/lib/python3.9/site-packages (from imblearn) (0.10.1)\n",
      "Requirement already satisfied: numpy>=1.17.3 in /opt/conda/lib/python3.9/site-packages (from imbalanced-learn->imblearn) (1.21.1)\n",
      "Requirement already satisfied: scikit-learn>=1.0.2 in /opt/conda/lib/python3.9/site-packages (from imbalanced-learn->imblearn) (1.2.0)\n",
      "Requirement already satisfied: threadpoolctl>=2.0.0 in /opt/conda/lib/python3.9/site-packages (from imbalanced-learn->imblearn) (3.1.0)\n",
      "Requirement already satisfied: scipy>=1.3.2 in /opt/conda/lib/python3.9/site-packages (from imbalanced-learn->imblearn) (1.9.1)\n",
      "Requirement already satisfied: joblib>=1.1.1 in /opt/conda/lib/python3.9/site-packages (from imbalanced-learn->imblearn) (1.2.0)\n"
     ]
    }
   ],
   "source": [
    "# Импортирую необходимые библиотеки.  \n",
    "!pip install imblearn\n",
    "import pandas as pd\n",
    "import numpy as np\n",
    "from tqdm import trange\n",
    "from imblearn.over_sampling import SMOTE\n",
    "from imblearn.under_sampling import RandomUnderSampler\n",
    "from sklearn.model_selection import train_test_split\n",
    "from sklearn.utils import shuffle\n",
    "from sklearn.linear_model import LogisticRegression\n",
    "from sklearn.ensemble import RandomForestClassifier\n",
    "from sklearn.tree import DecisionTreeClassifier\n",
    "from sklearn.dummy import DummyClassifier\n",
    "from sklearn.preprocessing import StandardScaler\n",
    "from sklearn.metrics import (\n",
    "    f1_score,\n",
    "    roc_auc_score,\n",
    "    precision_score,\n",
    "    recall_score\n",
    "    );"
   ]
  },
  {
   "cell_type": "code",
   "execution_count": 2,
   "metadata": {},
   "outputs": [],
   "source": [
    "# Импорт данных  \n",
    "data = pd.read_csv('/datasets/Churn.csv')"
   ]
  },
  {
   "cell_type": "markdown",
   "metadata": {},
   "source": [
    "Изучу данные датасета"
   ]
  },
  {
   "cell_type": "code",
   "execution_count": 3,
   "metadata": {},
   "outputs": [
    {
     "data": {
      "text/html": [
       "<div>\n",
       "<style scoped>\n",
       "    .dataframe tbody tr th:only-of-type {\n",
       "        vertical-align: middle;\n",
       "    }\n",
       "\n",
       "    .dataframe tbody tr th {\n",
       "        vertical-align: top;\n",
       "    }\n",
       "\n",
       "    .dataframe thead th {\n",
       "        text-align: right;\n",
       "    }\n",
       "</style>\n",
       "<table border=\"1\" class=\"dataframe\">\n",
       "  <thead>\n",
       "    <tr style=\"text-align: right;\">\n",
       "      <th></th>\n",
       "      <th>RowNumber</th>\n",
       "      <th>CustomerId</th>\n",
       "      <th>Surname</th>\n",
       "      <th>CreditScore</th>\n",
       "      <th>Geography</th>\n",
       "      <th>Gender</th>\n",
       "      <th>Age</th>\n",
       "      <th>Tenure</th>\n",
       "      <th>Balance</th>\n",
       "      <th>NumOfProducts</th>\n",
       "      <th>HasCrCard</th>\n",
       "      <th>IsActiveMember</th>\n",
       "      <th>EstimatedSalary</th>\n",
       "      <th>Exited</th>\n",
       "    </tr>\n",
       "  </thead>\n",
       "  <tbody>\n",
       "    <tr>\n",
       "      <th>0</th>\n",
       "      <td>1</td>\n",
       "      <td>15634602</td>\n",
       "      <td>Hargrave</td>\n",
       "      <td>619</td>\n",
       "      <td>France</td>\n",
       "      <td>Female</td>\n",
       "      <td>42</td>\n",
       "      <td>2.0</td>\n",
       "      <td>0.00</td>\n",
       "      <td>1</td>\n",
       "      <td>1</td>\n",
       "      <td>1</td>\n",
       "      <td>101348.88</td>\n",
       "      <td>1</td>\n",
       "    </tr>\n",
       "    <tr>\n",
       "      <th>1</th>\n",
       "      <td>2</td>\n",
       "      <td>15647311</td>\n",
       "      <td>Hill</td>\n",
       "      <td>608</td>\n",
       "      <td>Spain</td>\n",
       "      <td>Female</td>\n",
       "      <td>41</td>\n",
       "      <td>1.0</td>\n",
       "      <td>83807.86</td>\n",
       "      <td>1</td>\n",
       "      <td>0</td>\n",
       "      <td>1</td>\n",
       "      <td>112542.58</td>\n",
       "      <td>0</td>\n",
       "    </tr>\n",
       "    <tr>\n",
       "      <th>2</th>\n",
       "      <td>3</td>\n",
       "      <td>15619304</td>\n",
       "      <td>Onio</td>\n",
       "      <td>502</td>\n",
       "      <td>France</td>\n",
       "      <td>Female</td>\n",
       "      <td>42</td>\n",
       "      <td>8.0</td>\n",
       "      <td>159660.80</td>\n",
       "      <td>3</td>\n",
       "      <td>1</td>\n",
       "      <td>0</td>\n",
       "      <td>113931.57</td>\n",
       "      <td>1</td>\n",
       "    </tr>\n",
       "    <tr>\n",
       "      <th>3</th>\n",
       "      <td>4</td>\n",
       "      <td>15701354</td>\n",
       "      <td>Boni</td>\n",
       "      <td>699</td>\n",
       "      <td>France</td>\n",
       "      <td>Female</td>\n",
       "      <td>39</td>\n",
       "      <td>1.0</td>\n",
       "      <td>0.00</td>\n",
       "      <td>2</td>\n",
       "      <td>0</td>\n",
       "      <td>0</td>\n",
       "      <td>93826.63</td>\n",
       "      <td>0</td>\n",
       "    </tr>\n",
       "    <tr>\n",
       "      <th>4</th>\n",
       "      <td>5</td>\n",
       "      <td>15737888</td>\n",
       "      <td>Mitchell</td>\n",
       "      <td>850</td>\n",
       "      <td>Spain</td>\n",
       "      <td>Female</td>\n",
       "      <td>43</td>\n",
       "      <td>2.0</td>\n",
       "      <td>125510.82</td>\n",
       "      <td>1</td>\n",
       "      <td>1</td>\n",
       "      <td>1</td>\n",
       "      <td>79084.10</td>\n",
       "      <td>0</td>\n",
       "    </tr>\n",
       "  </tbody>\n",
       "</table>\n",
       "</div>"
      ],
      "text/plain": [
       "   RowNumber  CustomerId   Surname  CreditScore Geography  Gender  Age  \\\n",
       "0          1    15634602  Hargrave          619    France  Female   42   \n",
       "1          2    15647311      Hill          608     Spain  Female   41   \n",
       "2          3    15619304      Onio          502    France  Female   42   \n",
       "3          4    15701354      Boni          699    France  Female   39   \n",
       "4          5    15737888  Mitchell          850     Spain  Female   43   \n",
       "\n",
       "   Tenure    Balance  NumOfProducts  HasCrCard  IsActiveMember  \\\n",
       "0     2.0       0.00              1          1               1   \n",
       "1     1.0   83807.86              1          0               1   \n",
       "2     8.0  159660.80              3          1               0   \n",
       "3     1.0       0.00              2          0               0   \n",
       "4     2.0  125510.82              1          1               1   \n",
       "\n",
       "   EstimatedSalary  Exited  \n",
       "0        101348.88       1  \n",
       "1        112542.58       0  \n",
       "2        113931.57       1  \n",
       "3         93826.63       0  \n",
       "4         79084.10       0  "
      ]
     },
     "execution_count": 3,
     "metadata": {},
     "output_type": "execute_result"
    }
   ],
   "source": [
    "data.head()"
   ]
  },
  {
   "cell_type": "code",
   "execution_count": 4,
   "metadata": {},
   "outputs": [
    {
     "name": "stdout",
     "output_type": "stream",
     "text": [
      "<class 'pandas.core.frame.DataFrame'>\n",
      "RangeIndex: 10000 entries, 0 to 9999\n",
      "Data columns (total 14 columns):\n",
      " #   Column           Non-Null Count  Dtype  \n",
      "---  ------           --------------  -----  \n",
      " 0   RowNumber        10000 non-null  int64  \n",
      " 1   CustomerId       10000 non-null  int64  \n",
      " 2   Surname          10000 non-null  object \n",
      " 3   CreditScore      10000 non-null  int64  \n",
      " 4   Geography        10000 non-null  object \n",
      " 5   Gender           10000 non-null  object \n",
      " 6   Age              10000 non-null  int64  \n",
      " 7   Tenure           9091 non-null   float64\n",
      " 8   Balance          10000 non-null  float64\n",
      " 9   NumOfProducts    10000 non-null  int64  \n",
      " 10  HasCrCard        10000 non-null  int64  \n",
      " 11  IsActiveMember   10000 non-null  int64  \n",
      " 12  EstimatedSalary  10000 non-null  float64\n",
      " 13  Exited           10000 non-null  int64  \n",
      "dtypes: float64(3), int64(8), object(3)\n",
      "memory usage: 1.1+ MB\n"
     ]
    }
   ],
   "source": [
    "data.info()"
   ]
  },
  {
   "cell_type": "markdown",
   "metadata": {},
   "source": [
    "1) Видно, что в нескольких столбцах признаки категориальные, которые без дополнительного преобразования обработать не получится.\n",
    "\n",
    "2) Количество данных: 10000, этого достаточно для проведения анализа.\n",
    "\n",
    "3) В столбце \"Tenure\" (сколько лет клиент является клиентом банка) имеются пропуски. Заполню их медианным значением:  "
   ]
  },
  {
   "cell_type": "code",
   "execution_count": 5,
   "metadata": {},
   "outputs": [],
   "source": [
    "data['Tenure'] = data['Tenure'].fillna(data['Tenure'].median())"
   ]
  },
  {
   "cell_type": "code",
   "execution_count": 1,
   "metadata": {},
   "outputs": [
    {
     "ename": "NameError",
     "evalue": "name 'data' is not defined",
     "output_type": "error",
     "traceback": [
      "\u001b[1;31m---------------------------------------------------------------------------\u001b[0m",
      "\u001b[1;31mNameError\u001b[0m                                 Traceback (most recent call last)",
      "Cell \u001b[1;32mIn[1], line 2\u001b[0m\n\u001b[0;32m      1\u001b[0m \u001b[38;5;66;03m# Избавлюсь от ненужных столбцов\u001b[39;00m\n\u001b[1;32m----> 2\u001b[0m data \u001b[38;5;241m=\u001b[39m \u001b[43mdata\u001b[49m\u001b[38;5;241m.\u001b[39mdrop([\u001b[38;5;124m'\u001b[39m\u001b[38;5;124mRowNumber\u001b[39m\u001b[38;5;124m'\u001b[39m, \u001b[38;5;124m'\u001b[39m\u001b[38;5;124mCustomerId\u001b[39m\u001b[38;5;124m'\u001b[39m, \u001b[38;5;124m'\u001b[39m\u001b[38;5;124mSurname\u001b[39m\u001b[38;5;124m'\u001b[39m] , axis\u001b[38;5;241m=\u001b[39m\u001b[38;5;241m1\u001b[39m)\n\u001b[0;32m      3\u001b[0m data\u001b[38;5;241m.\u001b[39minfo()\n",
      "\u001b[1;31mNameError\u001b[0m: name 'data' is not defined"
     ]
    }
   ],
   "source": [
    "# Избавлюсь от ненужных столбцов\n",
    "data = data.drop(['RowNumber', 'CustomerId', 'Surname'] , axis=1)\n",
    "data.info()"
   ]
  },
  {
   "cell_type": "code",
   "execution_count": 7,
   "metadata": {},
   "outputs": [],
   "source": [
    "# Преобразую категориальные признаки в численные, техникой прямого кодирования.  \n",
    "data_ohe = pd.get_dummies (data, drop_first= True )"
   ]
  },
  {
   "cell_type": "code",
   "execution_count": 8,
   "metadata": {},
   "outputs": [
    {
     "data": {
      "text/html": [
       "<div>\n",
       "<style scoped>\n",
       "    .dataframe tbody tr th:only-of-type {\n",
       "        vertical-align: middle;\n",
       "    }\n",
       "\n",
       "    .dataframe tbody tr th {\n",
       "        vertical-align: top;\n",
       "    }\n",
       "\n",
       "    .dataframe thead th {\n",
       "        text-align: right;\n",
       "    }\n",
       "</style>\n",
       "<table border=\"1\" class=\"dataframe\">\n",
       "  <thead>\n",
       "    <tr style=\"text-align: right;\">\n",
       "      <th></th>\n",
       "      <th>CreditScore</th>\n",
       "      <th>Age</th>\n",
       "      <th>Tenure</th>\n",
       "      <th>Balance</th>\n",
       "      <th>NumOfProducts</th>\n",
       "      <th>HasCrCard</th>\n",
       "      <th>IsActiveMember</th>\n",
       "      <th>EstimatedSalary</th>\n",
       "      <th>Exited</th>\n",
       "      <th>Geography_Germany</th>\n",
       "      <th>Geography_Spain</th>\n",
       "      <th>Gender_Male</th>\n",
       "    </tr>\n",
       "  </thead>\n",
       "  <tbody>\n",
       "    <tr>\n",
       "      <th>0</th>\n",
       "      <td>619</td>\n",
       "      <td>42</td>\n",
       "      <td>2.0</td>\n",
       "      <td>0.00</td>\n",
       "      <td>1</td>\n",
       "      <td>1</td>\n",
       "      <td>1</td>\n",
       "      <td>101348.88</td>\n",
       "      <td>1</td>\n",
       "      <td>0</td>\n",
       "      <td>0</td>\n",
       "      <td>0</td>\n",
       "    </tr>\n",
       "    <tr>\n",
       "      <th>1</th>\n",
       "      <td>608</td>\n",
       "      <td>41</td>\n",
       "      <td>1.0</td>\n",
       "      <td>83807.86</td>\n",
       "      <td>1</td>\n",
       "      <td>0</td>\n",
       "      <td>1</td>\n",
       "      <td>112542.58</td>\n",
       "      <td>0</td>\n",
       "      <td>0</td>\n",
       "      <td>1</td>\n",
       "      <td>0</td>\n",
       "    </tr>\n",
       "    <tr>\n",
       "      <th>2</th>\n",
       "      <td>502</td>\n",
       "      <td>42</td>\n",
       "      <td>8.0</td>\n",
       "      <td>159660.80</td>\n",
       "      <td>3</td>\n",
       "      <td>1</td>\n",
       "      <td>0</td>\n",
       "      <td>113931.57</td>\n",
       "      <td>1</td>\n",
       "      <td>0</td>\n",
       "      <td>0</td>\n",
       "      <td>0</td>\n",
       "    </tr>\n",
       "    <tr>\n",
       "      <th>3</th>\n",
       "      <td>699</td>\n",
       "      <td>39</td>\n",
       "      <td>1.0</td>\n",
       "      <td>0.00</td>\n",
       "      <td>2</td>\n",
       "      <td>0</td>\n",
       "      <td>0</td>\n",
       "      <td>93826.63</td>\n",
       "      <td>0</td>\n",
       "      <td>0</td>\n",
       "      <td>0</td>\n",
       "      <td>0</td>\n",
       "    </tr>\n",
       "    <tr>\n",
       "      <th>4</th>\n",
       "      <td>850</td>\n",
       "      <td>43</td>\n",
       "      <td>2.0</td>\n",
       "      <td>125510.82</td>\n",
       "      <td>1</td>\n",
       "      <td>1</td>\n",
       "      <td>1</td>\n",
       "      <td>79084.10</td>\n",
       "      <td>0</td>\n",
       "      <td>0</td>\n",
       "      <td>1</td>\n",
       "      <td>0</td>\n",
       "    </tr>\n",
       "  </tbody>\n",
       "</table>\n",
       "</div>"
      ],
      "text/plain": [
       "   CreditScore  Age  Tenure    Balance  NumOfProducts  HasCrCard  \\\n",
       "0          619   42     2.0       0.00              1          1   \n",
       "1          608   41     1.0   83807.86              1          0   \n",
       "2          502   42     8.0  159660.80              3          1   \n",
       "3          699   39     1.0       0.00              2          0   \n",
       "4          850   43     2.0  125510.82              1          1   \n",
       "\n",
       "   IsActiveMember  EstimatedSalary  Exited  Geography_Germany  \\\n",
       "0               1        101348.88       1                  0   \n",
       "1               1        112542.58       0                  0   \n",
       "2               0        113931.57       1                  0   \n",
       "3               0         93826.63       0                  0   \n",
       "4               1         79084.10       0                  0   \n",
       "\n",
       "   Geography_Spain  Gender_Male  \n",
       "0                0            0  \n",
       "1                1            0  \n",
       "2                0            0  \n",
       "3                0            0  \n",
       "4                1            0  "
      ]
     },
     "execution_count": 8,
     "metadata": {},
     "output_type": "execute_result"
    }
   ],
   "source": [
    "data_ohe.head()"
   ]
  },
  {
   "cell_type": "code",
   "execution_count": 9,
   "metadata": {},
   "outputs": [
    {
     "name": "stdout",
     "output_type": "stream",
     "text": [
      "<class 'pandas.core.frame.DataFrame'>\n",
      "RangeIndex: 10000 entries, 0 to 9999\n",
      "Data columns (total 12 columns):\n",
      " #   Column             Non-Null Count  Dtype  \n",
      "---  ------             --------------  -----  \n",
      " 0   CreditScore        10000 non-null  int64  \n",
      " 1   Age                10000 non-null  int64  \n",
      " 2   Tenure             10000 non-null  float64\n",
      " 3   Balance            10000 non-null  float64\n",
      " 4   NumOfProducts      10000 non-null  int64  \n",
      " 5   HasCrCard          10000 non-null  int64  \n",
      " 6   IsActiveMember     10000 non-null  int64  \n",
      " 7   EstimatedSalary    10000 non-null  float64\n",
      " 8   Exited             10000 non-null  int64  \n",
      " 9   Geography_Germany  10000 non-null  uint8  \n",
      " 10  Geography_Spain    10000 non-null  uint8  \n",
      " 11  Gender_Male        10000 non-null  uint8  \n",
      "dtypes: float64(3), int64(6), uint8(3)\n",
      "memory usage: 732.5 KB\n"
     ]
    }
   ],
   "source": [
    "data_ohe.info()"
   ]
  },
  {
   "cell_type": "code",
   "execution_count": 10,
   "metadata": {},
   "outputs": [
    {
     "data": {
      "text/html": [
       "<div>\n",
       "<style scoped>\n",
       "    .dataframe tbody tr th:only-of-type {\n",
       "        vertical-align: middle;\n",
       "    }\n",
       "\n",
       "    .dataframe tbody tr th {\n",
       "        vertical-align: top;\n",
       "    }\n",
       "\n",
       "    .dataframe thead th {\n",
       "        text-align: right;\n",
       "    }\n",
       "</style>\n",
       "<table border=\"1\" class=\"dataframe\">\n",
       "  <thead>\n",
       "    <tr style=\"text-align: right;\">\n",
       "      <th></th>\n",
       "      <th>CreditScore</th>\n",
       "      <th>Age</th>\n",
       "      <th>Tenure</th>\n",
       "      <th>Balance</th>\n",
       "      <th>NumOfProducts</th>\n",
       "      <th>HasCrCard</th>\n",
       "      <th>IsActiveMember</th>\n",
       "      <th>EstimatedSalary</th>\n",
       "      <th>Exited</th>\n",
       "      <th>Geography_Germany</th>\n",
       "      <th>Geography_Spain</th>\n",
       "      <th>Gender_Male</th>\n",
       "    </tr>\n",
       "  </thead>\n",
       "  <tbody>\n",
       "    <tr>\n",
       "      <th>count</th>\n",
       "      <td>10000.000000</td>\n",
       "      <td>10000.000000</td>\n",
       "      <td>10000.00000</td>\n",
       "      <td>10000.000000</td>\n",
       "      <td>10000.000000</td>\n",
       "      <td>10000.00000</td>\n",
       "      <td>10000.000000</td>\n",
       "      <td>10000.000000</td>\n",
       "      <td>10000.000000</td>\n",
       "      <td>10000.000000</td>\n",
       "      <td>10000.000000</td>\n",
       "      <td>10000.000000</td>\n",
       "    </tr>\n",
       "    <tr>\n",
       "      <th>mean</th>\n",
       "      <td>650.528800</td>\n",
       "      <td>38.921800</td>\n",
       "      <td>4.99790</td>\n",
       "      <td>76485.889288</td>\n",
       "      <td>1.530200</td>\n",
       "      <td>0.70550</td>\n",
       "      <td>0.515100</td>\n",
       "      <td>100090.239881</td>\n",
       "      <td>0.203700</td>\n",
       "      <td>0.250900</td>\n",
       "      <td>0.247700</td>\n",
       "      <td>0.545700</td>\n",
       "    </tr>\n",
       "    <tr>\n",
       "      <th>std</th>\n",
       "      <td>96.653299</td>\n",
       "      <td>10.487806</td>\n",
       "      <td>2.76001</td>\n",
       "      <td>62397.405202</td>\n",
       "      <td>0.581654</td>\n",
       "      <td>0.45584</td>\n",
       "      <td>0.499797</td>\n",
       "      <td>57510.492818</td>\n",
       "      <td>0.402769</td>\n",
       "      <td>0.433553</td>\n",
       "      <td>0.431698</td>\n",
       "      <td>0.497932</td>\n",
       "    </tr>\n",
       "    <tr>\n",
       "      <th>min</th>\n",
       "      <td>350.000000</td>\n",
       "      <td>18.000000</td>\n",
       "      <td>0.00000</td>\n",
       "      <td>0.000000</td>\n",
       "      <td>1.000000</td>\n",
       "      <td>0.00000</td>\n",
       "      <td>0.000000</td>\n",
       "      <td>11.580000</td>\n",
       "      <td>0.000000</td>\n",
       "      <td>0.000000</td>\n",
       "      <td>0.000000</td>\n",
       "      <td>0.000000</td>\n",
       "    </tr>\n",
       "    <tr>\n",
       "      <th>25%</th>\n",
       "      <td>584.000000</td>\n",
       "      <td>32.000000</td>\n",
       "      <td>3.00000</td>\n",
       "      <td>0.000000</td>\n",
       "      <td>1.000000</td>\n",
       "      <td>0.00000</td>\n",
       "      <td>0.000000</td>\n",
       "      <td>51002.110000</td>\n",
       "      <td>0.000000</td>\n",
       "      <td>0.000000</td>\n",
       "      <td>0.000000</td>\n",
       "      <td>0.000000</td>\n",
       "    </tr>\n",
       "    <tr>\n",
       "      <th>50%</th>\n",
       "      <td>652.000000</td>\n",
       "      <td>37.000000</td>\n",
       "      <td>5.00000</td>\n",
       "      <td>97198.540000</td>\n",
       "      <td>1.000000</td>\n",
       "      <td>1.00000</td>\n",
       "      <td>1.000000</td>\n",
       "      <td>100193.915000</td>\n",
       "      <td>0.000000</td>\n",
       "      <td>0.000000</td>\n",
       "      <td>0.000000</td>\n",
       "      <td>1.000000</td>\n",
       "    </tr>\n",
       "    <tr>\n",
       "      <th>75%</th>\n",
       "      <td>718.000000</td>\n",
       "      <td>44.000000</td>\n",
       "      <td>7.00000</td>\n",
       "      <td>127644.240000</td>\n",
       "      <td>2.000000</td>\n",
       "      <td>1.00000</td>\n",
       "      <td>1.000000</td>\n",
       "      <td>149388.247500</td>\n",
       "      <td>0.000000</td>\n",
       "      <td>1.000000</td>\n",
       "      <td>0.000000</td>\n",
       "      <td>1.000000</td>\n",
       "    </tr>\n",
       "    <tr>\n",
       "      <th>max</th>\n",
       "      <td>850.000000</td>\n",
       "      <td>92.000000</td>\n",
       "      <td>10.00000</td>\n",
       "      <td>250898.090000</td>\n",
       "      <td>4.000000</td>\n",
       "      <td>1.00000</td>\n",
       "      <td>1.000000</td>\n",
       "      <td>199992.480000</td>\n",
       "      <td>1.000000</td>\n",
       "      <td>1.000000</td>\n",
       "      <td>1.000000</td>\n",
       "      <td>1.000000</td>\n",
       "    </tr>\n",
       "  </tbody>\n",
       "</table>\n",
       "</div>"
      ],
      "text/plain": [
       "        CreditScore           Age       Tenure        Balance  NumOfProducts  \\\n",
       "count  10000.000000  10000.000000  10000.00000   10000.000000   10000.000000   \n",
       "mean     650.528800     38.921800      4.99790   76485.889288       1.530200   \n",
       "std       96.653299     10.487806      2.76001   62397.405202       0.581654   \n",
       "min      350.000000     18.000000      0.00000       0.000000       1.000000   \n",
       "25%      584.000000     32.000000      3.00000       0.000000       1.000000   \n",
       "50%      652.000000     37.000000      5.00000   97198.540000       1.000000   \n",
       "75%      718.000000     44.000000      7.00000  127644.240000       2.000000   \n",
       "max      850.000000     92.000000     10.00000  250898.090000       4.000000   \n",
       "\n",
       "         HasCrCard  IsActiveMember  EstimatedSalary        Exited  \\\n",
       "count  10000.00000    10000.000000     10000.000000  10000.000000   \n",
       "mean       0.70550        0.515100    100090.239881      0.203700   \n",
       "std        0.45584        0.499797     57510.492818      0.402769   \n",
       "min        0.00000        0.000000        11.580000      0.000000   \n",
       "25%        0.00000        0.000000     51002.110000      0.000000   \n",
       "50%        1.00000        1.000000    100193.915000      0.000000   \n",
       "75%        1.00000        1.000000    149388.247500      0.000000   \n",
       "max        1.00000        1.000000    199992.480000      1.000000   \n",
       "\n",
       "       Geography_Germany  Geography_Spain   Gender_Male  \n",
       "count       10000.000000     10000.000000  10000.000000  \n",
       "mean            0.250900         0.247700      0.545700  \n",
       "std             0.433553         0.431698      0.497932  \n",
       "min             0.000000         0.000000      0.000000  \n",
       "25%             0.000000         0.000000      0.000000  \n",
       "50%             0.000000         0.000000      1.000000  \n",
       "75%             1.000000         0.000000      1.000000  \n",
       "max             1.000000         1.000000      1.000000  "
      ]
     },
     "execution_count": 10,
     "metadata": {},
     "output_type": "execute_result"
    }
   ],
   "source": [
    "data_ohe.describe()"
   ]
  },
  {
   "cell_type": "code",
   "execution_count": 11,
   "metadata": {},
   "outputs": [],
   "source": [
    "# Выделю из данных \"Признаки\" и \"Целевой признак\".  \n",
    "target = data_ohe['Exited']\n",
    "features = data_ohe.drop(['Exited'] , axis=1)"
   ]
  },
  {
   "cell_type": "code",
   "execution_count": 12,
   "metadata": {},
   "outputs": [],
   "source": [
    "# Разделю данные на \"Обучающую выборку\" 60% и \"Валидационную выборку\".  \n",
    "features_train, features_valid, target_train, target_valid = train_test_split(\n",
    "    features, target, test_size=0.4, random_state=12345, stratify=target) "
   ]
  },
  {
   "cell_type": "code",
   "execution_count": 13,
   "metadata": {},
   "outputs": [
    {
     "name": "stdout",
     "output_type": "stream",
     "text": [
      "Признаки в Обучающей выборке: (6000, 11) Цель Обучающей выборки: (6000,)\n",
      "Признаки в Валидационной выборке: (4000, 11) Цель Валидационной выборки: (4000,)\n"
     ]
    }
   ],
   "source": [
    "# Проверю качество разбиения.  \n",
    "print(\"Признаки в Обучающей выборке:\", features_train.shape, \"Цель Обучающей выборки:\", target_train.shape)\n",
    "print(\"Признаки в Валидационной выборке:\", features_valid.shape, \"Цель Валидационной выборки:\", target_valid.shape)"
   ]
  },
  {
   "cell_type": "code",
   "execution_count": 14,
   "metadata": {},
   "outputs": [],
   "source": [
    "# Из \"Валидационной выборки\" выделю 20% на \"Тестовую выборку\".  \n",
    "features_test, features_valid, target_test, target_valid = train_test_split(\n",
    "    features_valid, target_valid, test_size=0.5, random_state=12345, stratify=target_valid)"
   ]
  },
  {
   "cell_type": "code",
   "execution_count": 15,
   "metadata": {},
   "outputs": [
    {
     "name": "stdout",
     "output_type": "stream",
     "text": [
      "Признаки в Валидационной выборке: (2000, 11) Цель Валидационной выборки: (2000,)\n",
      "Признаки в Тестовой выборке: (2000, 11) Цель Тестовой выборки: (2000,)\n"
     ]
    }
   ],
   "source": [
    "# Проверю качество разбиения.  \n",
    "print(\"Признаки в Валидационной выборке:\", features_valid.shape, \"Цель Валидационной выборки:\", target_valid.shape)\n",
    "print(\"Признаки в Тестовой выборке:\", features_test.shape, \"Цель Тестовой выборки:\", target_test.shape)"
   ]
  },
  {
   "cell_type": "markdown",
   "metadata": {},
   "source": [
    "<div class=\"alert alert-info\">\n",
    "В процессе предобработки данных, выполнил следующее:\n",
    "    \n",
    "- избавился от пропусков в столбце Tenure (сколько лет клиент работает с банком), заменив их медианным значением,\n",
    "- преобразовал категориальные признаки (столбцы Surname (фамилия), Geography (страна проживания) и Gender (пол) в численные, техникой прямого кодирования,\n",
    "- избавился от ненужных столбцов RowNumber (индекс строки в данных) и CustomerId (уникальный идентификатор клиента),\n",
    "- из массива данных выделил признаки (2942столбца) и целевой признак (Exited - факт ухода клиента. Данные в нём категориальные, поэтому в дальнейшем буду использовать методы классификации),\n",
    "- все данные поделил на Обучающую выборку (60%, 6000 строк), валидационную (20%, 2000 строк) и Тестовую (20%, 2000 строк)\n",
    "\n",
    "Все данные предварительно подготовлены для проведения дальнейшего исследования, данных достаточно для обучения, проверки и тестирования моделей.\n",
    "</div>"
   ]
  },
  {
   "cell_type": "markdown",
   "metadata": {},
   "source": [
    "## Исследование задачи"
   ]
  },
  {
   "cell_type": "code",
   "execution_count": 16,
   "metadata": {},
   "outputs": [
    {
     "data": {
      "text/plain": [
       "0    0.796333\n",
       "1    0.203667\n",
       "Name: Exited, dtype: float64"
      ]
     },
     "execution_count": 16,
     "metadata": {},
     "output_type": "execute_result"
    }
   ],
   "source": [
    "# Проверю целевой признак на наличие дисбаланса\n",
    "target_train.value_counts(normalize=True)"
   ]
  },
  {
   "cell_type": "markdown",
   "metadata": {},
   "source": [
    "Имею довольно сильный дисбаланс (четырёхкратный), с которым в дальнейшем необходимо будет поработать."
   ]
  },
  {
   "cell_type": "markdown",
   "metadata": {},
   "source": [
    "Так как у наших признаков 'CreditScore', 'Age', 'Tenure', 'Balance', 'EstimatedSalary' разный масштаб, их необходимо стандартизовать (масштабировать) с помощью StandardScaler."
   ]
  },
  {
   "cell_type": "code",
   "execution_count": 17,
   "metadata": {},
   "outputs": [
    {
     "data": {
      "text/html": [
       "<div>\n",
       "<style scoped>\n",
       "    .dataframe tbody tr th:only-of-type {\n",
       "        vertical-align: middle;\n",
       "    }\n",
       "\n",
       "    .dataframe tbody tr th {\n",
       "        vertical-align: top;\n",
       "    }\n",
       "\n",
       "    .dataframe thead th {\n",
       "        text-align: right;\n",
       "    }\n",
       "</style>\n",
       "<table border=\"1\" class=\"dataframe\">\n",
       "  <thead>\n",
       "    <tr style=\"text-align: right;\">\n",
       "      <th></th>\n",
       "      <th>CreditScore</th>\n",
       "      <th>Age</th>\n",
       "      <th>Tenure</th>\n",
       "      <th>Balance</th>\n",
       "      <th>NumOfProducts</th>\n",
       "      <th>HasCrCard</th>\n",
       "      <th>IsActiveMember</th>\n",
       "      <th>EstimatedSalary</th>\n",
       "      <th>Geography_Germany</th>\n",
       "      <th>Geography_Spain</th>\n",
       "      <th>Gender_Male</th>\n",
       "    </tr>\n",
       "  </thead>\n",
       "  <tbody>\n",
       "    <tr>\n",
       "      <th>2837</th>\n",
       "      <td>-1.040434</td>\n",
       "      <td>0.953312</td>\n",
       "      <td>0.360600</td>\n",
       "      <td>0.774657</td>\n",
       "      <td>1</td>\n",
       "      <td>0</td>\n",
       "      <td>1</td>\n",
       "      <td>-0.119110</td>\n",
       "      <td>1</td>\n",
       "      <td>0</td>\n",
       "      <td>0</td>\n",
       "    </tr>\n",
       "    <tr>\n",
       "      <th>9925</th>\n",
       "      <td>0.454006</td>\n",
       "      <td>-0.095244</td>\n",
       "      <td>-0.002786</td>\n",
       "      <td>1.910540</td>\n",
       "      <td>1</td>\n",
       "      <td>1</td>\n",
       "      <td>1</td>\n",
       "      <td>-0.258658</td>\n",
       "      <td>0</td>\n",
       "      <td>0</td>\n",
       "      <td>0</td>\n",
       "    </tr>\n",
       "    <tr>\n",
       "      <th>8746</th>\n",
       "      <td>0.103585</td>\n",
       "      <td>-0.476537</td>\n",
       "      <td>1.087371</td>\n",
       "      <td>0.481608</td>\n",
       "      <td>2</td>\n",
       "      <td>0</td>\n",
       "      <td>1</td>\n",
       "      <td>1.422836</td>\n",
       "      <td>0</td>\n",
       "      <td>0</td>\n",
       "      <td>1</td>\n",
       "    </tr>\n",
       "    <tr>\n",
       "      <th>660</th>\n",
       "      <td>-0.184996</td>\n",
       "      <td>0.190726</td>\n",
       "      <td>-0.002786</td>\n",
       "      <td>0.088439</td>\n",
       "      <td>1</td>\n",
       "      <td>1</td>\n",
       "      <td>1</td>\n",
       "      <td>-1.160427</td>\n",
       "      <td>1</td>\n",
       "      <td>0</td>\n",
       "      <td>0</td>\n",
       "    </tr>\n",
       "    <tr>\n",
       "      <th>3610</th>\n",
       "      <td>-0.720933</td>\n",
       "      <td>1.620574</td>\n",
       "      <td>-1.456328</td>\n",
       "      <td>0.879129</td>\n",
       "      <td>1</td>\n",
       "      <td>1</td>\n",
       "      <td>0</td>\n",
       "      <td>0.113236</td>\n",
       "      <td>0</td>\n",
       "      <td>0</td>\n",
       "      <td>0</td>\n",
       "    </tr>\n",
       "  </tbody>\n",
       "</table>\n",
       "</div>"
      ],
      "text/plain": [
       "      CreditScore       Age    Tenure   Balance  NumOfProducts  HasCrCard  \\\n",
       "2837    -1.040434  0.953312  0.360600  0.774657              1          0   \n",
       "9925     0.454006 -0.095244 -0.002786  1.910540              1          1   \n",
       "8746     0.103585 -0.476537  1.087371  0.481608              2          0   \n",
       "660     -0.184996  0.190726 -0.002786  0.088439              1          1   \n",
       "3610    -0.720933  1.620574 -1.456328  0.879129              1          1   \n",
       "\n",
       "      IsActiveMember  EstimatedSalary  Geography_Germany  Geography_Spain  \\\n",
       "2837               1        -0.119110                  1                0   \n",
       "9925               1        -0.258658                  0                0   \n",
       "8746               1         1.422836                  0                0   \n",
       "660                1        -1.160427                  1                0   \n",
       "3610               0         0.113236                  0                0   \n",
       "\n",
       "      Gender_Male  \n",
       "2837            0  \n",
       "9925            0  \n",
       "8746            1  \n",
       "660             0  \n",
       "3610            0  "
      ]
     },
     "execution_count": 17,
     "metadata": {},
     "output_type": "execute_result"
    }
   ],
   "source": [
    "# Выберу столбцы, к которым применить скалирование, и применю его к обучающей, валидационной и тестовой выборкам\n",
    "numeric = ['CreditScore', 'Age', 'Tenure', 'Balance', 'EstimatedSalary']\n",
    "scaler = StandardScaler()\n",
    "scaler.fit(features_train[numeric])\n",
    "features_train[numeric] = scaler.transform(features_train[numeric])\n",
    "features_valid[numeric] = scaler.transform(features_valid[numeric])\n",
    "features_test[numeric] = scaler.transform(features_test[numeric])\n",
    "features_train.head()"
   ]
  },
  {
   "cell_type": "markdown",
   "metadata": {},
   "source": [
    "<div class=\"alert alert-info\">\n",
    "Для бизнеса важно спрогнозировать, уйдёт ли клиент из банка в ближайшее время, или нет (т.е. спрогнозировать 1, положительный ответ (класс)). Для оценки качества прогноза положительного класса, использую метрики \"Полнота\" (Recall, описывает, как хорошо модель разобралась в особенностях этого положительного класса и распознала его) и \"Точность\" (Precision, выявляет, не переусердствует ли модель, присваивая положительные метки). Но используется F1-мера, а она агрегирует обе эти метрики.\n",
    "\n",
    "Метрика качества AUC-ROC показывает, как сильно наша модель отличается от случайной (AUC-ROC случайной модели равна 0.5).\n",
    "\n",
    "</div>"
   ]
  },
  {
   "cell_type": "code",
   "execution_count": 18,
   "metadata": {},
   "outputs": [
    {
     "name": "stdout",
     "output_type": "stream",
     "text": [
      "f1 DummyClassifier: 0.7965\n"
     ]
    }
   ],
   "source": [
    "# Проверю модели на адекватность классификатором DummyClassifier.\n",
    "model_dc = DummyClassifier(strategy='most_frequent', random_state=12345)\n",
    "model_dc.fit(features_train, target_train)\n",
    "f1_dc = model_dc.score(features_valid, target_valid)\n",
    "print('f1 DummyClassifier:', f1_dc)"
   ]
  },
  {
   "cell_type": "code",
   "execution_count": 19,
   "metadata": {},
   "outputs": [
    {
     "name": "stdout",
     "output_type": "stream",
     "text": [
      "F1: 0.2932330827067669\n",
      "AUC-ROC: 0.7504484453636997\n"
     ]
    }
   ],
   "source": [
    "# Построю модель Логистической регрессии, обучу её и предскажу значения на валидационной выборке, проверю F1 и AUC-ROC\n",
    "model = LogisticRegression(random_state=12345, solver='liblinear', max_iter=1000)\n",
    "model.fit(features_train, target_train)\n",
    "predicted_valid = model.predict(features_valid)\n",
    "print('F1:', f1_score(target_valid, predicted_valid))\n",
    "probabilities_valid = model.predict_proba(features_valid)\n",
    "print('AUC-ROC:', roc_auc_score(target_valid, probabilities_valid[:, 1]))"
   ]
  },
  {
   "cell_type": "markdown",
   "metadata": {},
   "source": [
    "F1-мера довольно низка (0,29). Метрика AUC-ROC получилась немного лучше 0,75 - выше, чем у случайной модели (0,5). F1-мера модели DummyClassifier (0.7965) выше, чем 0.29, значит данная модель неадекватна и неэффективна."
   ]
  },
  {
   "cell_type": "code",
   "execution_count": 20,
   "metadata": {},
   "outputs": [
    {
     "name": "stderr",
     "output_type": "stream",
     "text": [
      "100%|██████████| 15/15 [00:00<00:00, 51.24it/s]"
     ]
    },
    {
     "name": "stdout",
     "output_type": "stream",
     "text": [
      "f1 наилучшей модели на валидационной выборке: 0.5533834586466165 Глубина дерева: 7\n",
      "AUC-ROC: 0.8118303203048964\n"
     ]
    },
    {
     "name": "stderr",
     "output_type": "stream",
     "text": [
      "\n"
     ]
    }
   ],
   "source": [
    "# Попробую применить модель \"Дерево решений\":  \n",
    "best_f1 = 0\n",
    "best_depth_tree = 0\n",
    "best_model_tree = None\n",
    "\n",
    "for depth in trange(1,16):\n",
    "    model = DecisionTreeClassifier(random_state=12345, max_depth=depth)\n",
    "    model.fit(features_train, target_train)\n",
    "    \n",
    "    predicted_valid = model.predict(features_valid)\n",
    "    f1 = f1_score(target_valid, predicted_valid)\n",
    "    \n",
    "    if f1 > best_f1:\n",
    "        best_f1 = f1\n",
    "        best_depth_tree = depth\n",
    "        best_model_tree = model\n",
    "print(\"f1 наилучшей модели на валидационной выборке:\", best_f1, \"Глубина дерева:\", best_depth_tree)\n",
    "probabilities_valid = best_model_tree.predict_proba(features_valid)\n",
    "print('AUC-ROC:', roc_auc_score(target_valid, probabilities_valid[:, 1]))"
   ]
  },
  {
   "cell_type": "markdown",
   "metadata": {},
   "source": [
    "Показатели данной модели значительно выше. F1-мера уже поднялась до 0,55, но ниже пока требуемого значения в 0,59. Метрика AUC-ROC получилась уже 0,81. Оптимальная глубина дерева - 7.\n",
    "\n",
    "F1-мера модели DummyClassifier (0.7965) выше, чем наша 0.56, данная модель неадекватна и неэффективна."
   ]
  },
  {
   "cell_type": "code",
   "execution_count": 23,
   "metadata": {},
   "outputs": [
    {
     "name": "stderr",
     "output_type": "stream",
     "text": [
      "100%|██████████| 9/9 [00:20<00:00,  2.25s/it]"
     ]
    },
    {
     "name": "stdout",
     "output_type": "stream",
     "text": [
      "f1 лучшей модели: 0.5744360902255639 Наилучшая глубина дерева: 19 Оптимальное количество деревьев: 31\n",
      "AUC-ROC: 0.8363016329118023\n"
     ]
    },
    {
     "name": "stderr",
     "output_type": "stream",
     "text": [
      "\n"
     ]
    }
   ],
   "source": [
    "# Попробую применить модель \"Случайный лес\":  \n",
    "best_f1_forest = 0\n",
    "best_est = 0\n",
    "best_depth_forest = 0\n",
    "best_model_forest = None\n",
    "\n",
    "for est in trange(27, 36):\n",
    "    for depth in range(15, 25):\n",
    "        model = RandomForestClassifier(n_estimators=est, max_depth=depth, random_state=12345)\n",
    "        model.fit(features_train, target_train)\n",
    "        predicted_valid = model.predict(features_valid)\n",
    "        f1 = f1_score(target_valid, predicted_valid)\n",
    "    \n",
    "        if f1 > best_f1_forest:\n",
    "            best_f1_forest = f1\n",
    "            best_depth_forest = depth\n",
    "            best_est = est\n",
    "            best_model_forest = model\n",
    "\n",
    "print(\"f1 лучшей модели:\", best_f1_forest,\"Наилучшая глубина дерева:\", best_depth_forest,\n",
    "      'Оптимальное количество деревьев:', best_est)\n",
    "probabilities_valid = best_model_forest.predict_proba(features_valid)\n",
    "print('AUC-ROC:', roc_auc_score(target_valid, probabilities_valid[:, 1]))"
   ]
  },
  {
   "cell_type": "markdown",
   "metadata": {},
   "source": [
    "F1-мера у данной модели 0,5744 - выше, чем у Дерева решений. Метрика AUC-ROC на 0,02 поднялась: 0,83.\n",
    "\n",
    "Оптимальная глубина дерева - 19, оптимальное количество деревьев: 31.\n",
    "\n",
    "F1-мера модели DummyClassifier (0.7965) выше, чем 0.5744 данной модели, следовательно модель неадекватна и неэффективна."
   ]
  },
  {
   "cell_type": "markdown",
   "metadata": {},
   "source": [
    "## Борьба с дисбалансом"
   ]
  },
  {
   "cell_type": "markdown",
   "metadata": {},
   "source": [
    "**Вначале сделаю апсемплинг данных**"
   ]
  },
  {
   "cell_type": "code",
   "execution_count": 25,
   "metadata": {},
   "outputs": [],
   "source": [
    "oversample = SMOTE(random_state=12345)\n",
    "features_train_up, target_train_up = oversample.fit_resample(features_train, target_train)"
   ]
  },
  {
   "cell_type": "code",
   "execution_count": 26,
   "metadata": {},
   "outputs": [
    {
     "data": {
      "text/plain": [
       "0    0.5\n",
       "1    0.5\n",
       "Name: Exited, dtype: float64"
      ]
     },
     "execution_count": 26,
     "metadata": {},
     "output_type": "execute_result"
    }
   ],
   "source": [
    "# Заново проверю дисбаланс\n",
    "target_train_up.value_counts(normalize=True)"
   ]
  },
  {
   "cell_type": "markdown",
   "metadata": {},
   "source": [
    "Дисбаланс устранён. Обучу модели на новых данных"
   ]
  },
  {
   "cell_type": "code",
   "execution_count": 27,
   "metadata": {
    "scrolled": true
   },
   "outputs": [
    {
     "name": "stdout",
     "output_type": "stream",
     "text": [
      "F1: 0.46648793565683644\n",
      "AUC-ROC: 0.7357388204845832\n"
     ]
    }
   ],
   "source": [
    "# Логистическая регрессия\n",
    "model_logist_up = LogisticRegression(random_state=12345, solver='liblinear', max_iter=1000)\n",
    "model_logist_up.fit(features_train_up, target_train_up)\n",
    "predicted_valid = model_logist_up.predict(features_valid)\n",
    "print('F1:', f1_score(target_valid, predicted_valid))\n",
    "probabilities_valid = model_logist_up.predict_proba(features_valid)\n",
    "print('AUC-ROC:', roc_auc_score(target_valid, probabilities_valid[:, 1]))"
   ]
  },
  {
   "cell_type": "markdown",
   "metadata": {},
   "source": [
    "F1-мера хотя и выше, чем у модели с дисбалансом, но ещё не превысила необходимый нам порог в 0,59.\n",
    "\n",
    "AUC-ROC наоборот немного ухудшилась (0,7357 против 0,7504 у модели с дисбалансом)."
   ]
  },
  {
   "cell_type": "code",
   "execution_count": 29,
   "metadata": {},
   "outputs": [
    {
     "name": "stderr",
     "output_type": "stream",
     "text": [
      "100%|██████████| 10/10 [00:00<00:00, 30.04it/s]"
     ]
    },
    {
     "name": "stdout",
     "output_type": "stream",
     "text": [
      "f1 наилучшей модели на валидационной выборке: 0.5681818181818182 Глубина дерева: 6\n",
      "AUC-ROC: 0.8298336857658892\n"
     ]
    },
    {
     "name": "stderr",
     "output_type": "stream",
     "text": [
      "\n"
     ]
    }
   ],
   "source": [
    "# модель \"Дерево решений\":  \n",
    "best_f1 = 0\n",
    "best_depth_tree = 0\n",
    "best_model_tree_up = None\n",
    "\n",
    "for depth in trange(1,11):\n",
    "    model = DecisionTreeClassifier(random_state=12345, max_depth=depth)\n",
    "    model.fit(features_train_up, target_train_up)\n",
    "    \n",
    "    predicted_valid = model.predict(features_valid)\n",
    "    f1 = f1_score(target_valid, predicted_valid)\n",
    "    \n",
    "    if f1 > best_f1:\n",
    "        best_f1 = f1\n",
    "        best_depth_tree = depth\n",
    "        best_model_tree_up = model\n",
    "print(\"f1 наилучшей модели на валидационной выборке:\", best_f1, \"Глубина дерева:\", best_depth_tree)\n",
    "probabilities_valid = best_model_tree_up.predict_proba(features_valid)\n",
    "print('AUC-ROC:', roc_auc_score(target_valid, probabilities_valid[:, 1]))"
   ]
  },
  {
   "cell_type": "markdown",
   "metadata": {},
   "source": [
    "С данной моделью F1 и AUC-ROC получились чуть лучше, чем у модели с дисбалансом. Глубина дерева 6 "
   ]
  },
  {
   "cell_type": "code",
   "execution_count": 31,
   "metadata": {},
   "outputs": [
    {
     "name": "stderr",
     "output_type": "stream",
     "text": [
      "100%|██████████| 7/7 [00:03<00:00,  2.00it/s]"
     ]
    },
    {
     "name": "stdout",
     "output_type": "stream",
     "text": [
      "f1 лучшей модели: 0.6051282051282052 Наилучшая глубина дерева: 6 Оптимальное количество деревьев: 11\n",
      "AUC-ROC: 0.8397565516209583\n"
     ]
    },
    {
     "name": "stderr",
     "output_type": "stream",
     "text": [
      "\n"
     ]
    }
   ],
   "source": [
    "# Попробую применить модель \"Случайный лес\":  \n",
    "best_f1_forest = 0\n",
    "best_est = 0\n",
    "best_depth_forest = 0\n",
    "best_model_forest_up = None\n",
    "\n",
    "for est in trange(8, 15):\n",
    "    for depth in range(4, 10):\n",
    "        model = RandomForestClassifier(n_estimators=est, max_depth=depth, random_state=12345)\n",
    "        model.fit(features_train_up, target_train_up)\n",
    "        predicted_valid = model.predict(features_valid)\n",
    "        f1 = f1_score(target_valid, predicted_valid)\n",
    "    \n",
    "        if f1 > best_f1_forest:\n",
    "            best_f1_forest = f1\n",
    "            best_depth_forest = depth\n",
    "            best_est = est\n",
    "            best_model_forest_up = model\n",
    "\n",
    "print(\"f1 лучшей модели:\", best_f1_forest,\"Наилучшая глубина дерева:\", best_depth_forest,\n",
    "      'Оптимальное количество деревьев:', best_est)\n",
    "probabilities_valid = best_model_forest_up.predict_proba(features_valid)\n",
    "print('AUC-ROC:', roc_auc_score(target_valid, probabilities_valid[:, 1]))"
   ]
  },
  {
   "cell_type": "markdown",
   "metadata": {},
   "source": [
    "С данной моделью F1 стала чуть выше (0,605128), чем у модели с дисбалансом, и наконец превысила уровень 0,59. AUC-ROC также немного подросла."
   ]
  },
  {
   "cell_type": "markdown",
   "metadata": {},
   "source": [
    "**Сделаю under-sampling данных**"
   ]
  },
  {
   "cell_type": "code",
   "execution_count": 32,
   "metadata": {},
   "outputs": [],
   "source": [
    "rus = RandomUnderSampler(random_state=12345)\n",
    "features_train_down, target_train_down = rus.fit_resample(features_train, target_train)"
   ]
  },
  {
   "cell_type": "code",
   "execution_count": 33,
   "metadata": {},
   "outputs": [
    {
     "data": {
      "text/plain": [
       "0    0.5\n",
       "1    0.5\n",
       "Name: Exited, dtype: float64"
      ]
     },
     "execution_count": 33,
     "metadata": {},
     "output_type": "execute_result"
    }
   ],
   "source": [
    "# Заново проверю дисбаланс\n",
    "target_train_down.value_counts(normalize=True)"
   ]
  },
  {
   "cell_type": "code",
   "execution_count": 34,
   "metadata": {
    "scrolled": true
   },
   "outputs": [
    {
     "name": "stdout",
     "output_type": "stream",
     "text": [
      "F1: 0.47709593777009507\n",
      "AUC-ROC: 0.7525213965891931\n"
     ]
    }
   ],
   "source": [
    "# Логистическая регрессия\n",
    "model_logist_down = LogisticRegression(random_state=12345, solver='liblinear', max_iter=1000)\n",
    "model_logist_down.fit(features_train_down, target_train_down)\n",
    "predicted_valid = model_logist_down.predict(features_valid)\n",
    "print('F1:', f1_score(target_valid, predicted_valid))\n",
    "probabilities_valid = model_logist_down.predict_proba(features_valid)\n",
    "print('AUC-ROC:', roc_auc_score(target_valid, probabilities_valid[:, 1]))"
   ]
  },
  {
   "cell_type": "markdown",
   "metadata": {},
   "source": [
    "И F1 и AUC-ROC чуть выше, чем при апсемплинге, но другие модели (дерево решений и случайный лес) показали себя более эффективно.  "
   ]
  },
  {
   "cell_type": "code",
   "execution_count": 36,
   "metadata": {},
   "outputs": [
    {
     "name": "stderr",
     "output_type": "stream",
     "text": [
      "100%|██████████| 10/10 [00:00<00:00, 97.72it/s]"
     ]
    },
    {
     "name": "stdout",
     "output_type": "stream",
     "text": [
      "f1 наилучшей модели на валидационной выборке: 0.5637583892617449 Глубина дерева: 6\n",
      "AUC-ROC: 0.8217562709088133\n"
     ]
    },
    {
     "name": "stderr",
     "output_type": "stream",
     "text": [
      "\n"
     ]
    }
   ],
   "source": [
    "# модель \"Дерево решений\":  \n",
    "best_f1 = 0\n",
    "best_depth_tree = 0\n",
    "best_model_tree_down = None\n",
    "\n",
    "for depth in trange(1,11):\n",
    "    model = DecisionTreeClassifier(random_state=12345, max_depth=depth)\n",
    "    model.fit(features_train_down, target_train_down)\n",
    "    \n",
    "    predicted_valid = model.predict(features_valid)\n",
    "    f1 = f1_score(target_valid, predicted_valid)\n",
    "    \n",
    "    if f1 > best_f1:\n",
    "        best_f1 = f1\n",
    "        best_depth_tree = depth\n",
    "        best_model_tree_down = model\n",
    "print(\"f1 наилучшей модели на валидационной выборке:\", best_f1, \"Глубина дерева:\", best_depth_tree)\n",
    "probabilities_valid = best_model_tree_down.predict_proba(features_valid)\n",
    "print('AUC-ROC:', roc_auc_score(target_valid, probabilities_valid[:, 1]))"
   ]
  },
  {
   "cell_type": "markdown",
   "metadata": {},
   "source": [
    "F1 и AUC-ROC получились практически такие же, но чуть хуже, чем при апсемплинге. Глубина дерева 6 "
   ]
  },
  {
   "cell_type": "code",
   "execution_count": 38,
   "metadata": {},
   "outputs": [
    {
     "name": "stderr",
     "output_type": "stream",
     "text": [
      "100%|██████████| 7/7 [00:04<00:00,  1.58it/s]"
     ]
    },
    {
     "name": "stdout",
     "output_type": "stream",
     "text": [
      "f1 лучшей модели: 0.5952153110047846 Наилучшая глубина дерева: 8 Оптимальное количество деревьев: 27\n",
      "AUC-ROC: 0.8454571674910657\n"
     ]
    },
    {
     "name": "stderr",
     "output_type": "stream",
     "text": [
      "\n"
     ]
    }
   ],
   "source": [
    "# Попробую применить модель \"Случайный лес\":  \n",
    "best_f1_forest = 0\n",
    "best_est = 0\n",
    "best_depth_forest = 0\n",
    "best_model_forest_down = None\n",
    "\n",
    "for est in trange(24, 31):\n",
    "    for depth in range(5, 12):\n",
    "        model = RandomForestClassifier(n_estimators=est, max_depth=depth, random_state=12345)\n",
    "        model.fit(features_train_down, target_train_down)\n",
    "        predicted_valid = model.predict(features_valid)\n",
    "        f1 = f1_score(target_valid, predicted_valid)\n",
    "    \n",
    "        if f1 > best_f1_forest:\n",
    "            best_f1_forest = f1\n",
    "            best_depth_forest = depth\n",
    "            best_est = est\n",
    "            best_model_forest_down = model\n",
    "\n",
    "print(\"f1 лучшей модели:\", best_f1_forest,\"Наилучшая глубина дерева:\", best_depth_forest,\n",
    "      'Оптимальное количество деревьев:', best_est)\n",
    "probabilities_valid = best_model_forest_down.predict_proba(features_valid)\n",
    "print('AUC-ROC:', roc_auc_score(target_valid, probabilities_valid[:, 1]))"
   ]
  },
  {
   "cell_type": "markdown",
   "metadata": {},
   "source": [
    "С данной моделью F1 чуть ниже (0,5952), чем у модели с апсемплингом (0,60513), и также превысила уровень 0,59. AUC-ROC по сравнению с апсемплингом немного подросла. Глубина дерева 8, количество деревьев 27."
   ]
  },
  {
   "cell_type": "markdown",
   "metadata": {},
   "source": [
    "**Сделаю проверку моделей встроенной балансировкой классов, без устранения дисбаланса**"
   ]
  },
  {
   "cell_type": "code",
   "execution_count": 39,
   "metadata": {
    "scrolled": true
   },
   "outputs": [
    {
     "name": "stdout",
     "output_type": "stream",
     "text": [
      "F1: 0.47478260869565214\n",
      "AUC-ROC: 0.7541779067202796\n"
     ]
    }
   ],
   "source": [
    "# Логистическая регрессия\n",
    "model_logist_weigh = LogisticRegression(random_state=12345, class_weight='balanced', solver='liblinear', max_iter=1000)\n",
    "model_logist_weigh.fit(features_train, target_train)\n",
    "predicted_valid = model_logist_weigh.predict(features_valid)\n",
    "print('F1:', f1_score(target_valid, predicted_valid))\n",
    "probabilities_valid = model_logist_weigh.predict_proba(features_valid)\n",
    "print('AUC-ROC:', roc_auc_score(target_valid, probabilities_valid[:, 1]))"
   ]
  },
  {
   "cell_type": "markdown",
   "metadata": {},
   "source": [
    "F1 немного проигрывает регрессии с даунсемплингом, но лучше двух остальных (с дисбалансом и с апсемплингом) (0,4748), до уровня 0,59 не дотягивает.\n",
    "AUC-ROC здесь получили немного лучше даунсемплинга."
   ]
  },
  {
   "cell_type": "code",
   "execution_count": 41,
   "metadata": {},
   "outputs": [
    {
     "name": "stderr",
     "output_type": "stream",
     "text": [
      "100%|██████████| 7/7 [00:00<00:00, 47.49it/s]"
     ]
    },
    {
     "name": "stdout",
     "output_type": "stream",
     "text": [
      "f1 наилучшей модели на валидационной выборке: 0.5456204379562044 Глубина дерева: 7\n",
      "AUC-ROC: 0.7920347157635294\n"
     ]
    },
    {
     "name": "stderr",
     "output_type": "stream",
     "text": [
      "\n"
     ]
    }
   ],
   "source": [
    "# модель \"Дерево решений\":  \n",
    "best_f1 = 0\n",
    "best_depth_tree = 0\n",
    "best_model_tree_weigh = None\n",
    "\n",
    "for depth in trange(4,11):\n",
    "    model = DecisionTreeClassifier(random_state=12345, class_weight='balanced', max_depth=depth)\n",
    "    model.fit(features_train, target_train)\n",
    "    \n",
    "    predicted_valid = model.predict(features_valid)\n",
    "    f1 = f1_score(target_valid, predicted_valid)\n",
    "    \n",
    "    if f1 > best_f1:\n",
    "        best_f1 = f1\n",
    "        best_depth_tree = depth\n",
    "        best_model_tree_weigh = model\n",
    "print(\"f1 наилучшей модели на валидационной выборке:\", best_f1, \"Глубина дерева:\", best_depth_tree)\n",
    "probabilities_valid = best_model_tree_weigh.predict_proba(features_valid)\n",
    "print('AUC-ROC:', roc_auc_score(target_valid, probabilities_valid[:, 1]))"
   ]
  },
  {
   "cell_type": "markdown",
   "metadata": {},
   "source": [
    "F1 получил даже хуже, чем в модели без какого-либо устранения дисбаланса (0,55338).\n",
    "\n",
    "AUC-ROC имеем также наихудший результат среди всех моделей \"Дерево решений\".\n",
    "\n",
    "Глубина дерева 7."
   ]
  },
  {
   "cell_type": "code",
   "execution_count": 43,
   "metadata": {},
   "outputs": [
    {
     "name": "stderr",
     "output_type": "stream",
     "text": [
      "100%|██████████| 7/7 [00:03<00:00,  1.78it/s]"
     ]
    },
    {
     "name": "stdout",
     "output_type": "stream",
     "text": [
      "f1 лучшей модели: 0.6139534883720931 Наилучшая глубина дерева: 9 Оптимальное количество деревьев: 13\n",
      "AUC-ROC: 0.8487940945568064\n"
     ]
    },
    {
     "name": "stderr",
     "output_type": "stream",
     "text": [
      "\n"
     ]
    }
   ],
   "source": [
    "# Попробую применить модель \"Случайный лес\":  \n",
    "best_f1_forest = 0\n",
    "best_est = 0\n",
    "best_depth_forest = 0\n",
    "best_model_forest_weigh = None\n",
    "\n",
    "for est in trange(10, 17):\n",
    "    for depth in range(6, 13):\n",
    "        model = RandomForestClassifier(n_estimators=est, max_depth=depth, class_weight='balanced', random_state=12345)\n",
    "        model.fit(features_train, target_train)\n",
    "        predicted_valid = model.predict(features_valid)\n",
    "        f1 = f1_score(target_valid, predicted_valid)\n",
    "    \n",
    "        if f1 > best_f1_forest:\n",
    "            best_f1_forest = f1\n",
    "            best_depth_forest = depth\n",
    "            best_est = est\n",
    "            best_model_forest_weigh = model\n",
    "\n",
    "print(\"f1 лучшей модели:\", best_f1_forest,\"Наилучшая глубина дерева:\", best_depth_forest,\n",
    "      'Оптимальное количество деревьев:', best_est)\n",
    "probabilities_valid = best_model_forest_weigh.predict_proba(features_valid)\n",
    "print('AUC-ROC:', roc_auc_score(target_valid, probabilities_valid[:, 1]))"
   ]
  },
  {
   "cell_type": "markdown",
   "metadata": {},
   "source": [
    "F1 (0,6139) и AUC-ROC (0,8488) данной модели имеют самые высокие значения среди всех рассмотренных. Условие по превышению метрикой F1 значения 0,59 выполнено."
   ]
  },
  {
   "cell_type": "markdown",
   "metadata": {},
   "source": [
    "**Итак, наилучшие результаты были достигнуты при использовании встроенной балансировки классов, с моделью \"Случайный лес\", при использовании гиперпараметров: оптимальная глубина дерева - 9, оптимальное количество деревьев: 13.**"
   ]
  },
  {
   "cell_type": "code",
   "execution_count": 44,
   "metadata": {},
   "outputs": [],
   "source": [
    "# Дообучу выбранную модель RF, на обучающей + валидационной выборке:\n",
    "best_model_forest_weigh.fit(pd.concat([features_train_up, features_valid]), pd.concat([target_train_up, target_valid]));"
   ]
  },
  {
   "cell_type": "code",
   "execution_count": 45,
   "metadata": {},
   "outputs": [
    {
     "name": "stdout",
     "output_type": "stream",
     "text": [
      "f1 дообученной модели на валидационной выборке: 0.6711259754738015\n",
      "AUC-ROC дообученной модели на валидационной выборке: 0.9086883493663156\n"
     ]
    }
   ],
   "source": [
    "probabilities_valid = best_model_forest_weigh.predict_proba(features_valid)\n",
    "print(\"f1 дообученной модели на валидационной выборке:\", f1_score(target_valid,\n",
    "                                                             best_model_forest_weigh.predict(features_valid)))\n",
    "print('AUC-ROC дообученной модели на валидационной выборке:', roc_auc_score(target_valid, probabilities_valid[:, 1]))"
   ]
  },
  {
   "cell_type": "markdown",
   "metadata": {},
   "source": [
    "И f1, и AUC-ROC теперь значительно увеличились."
   ]
  },
  {
   "cell_type": "code",
   "execution_count": 46,
   "metadata": {},
   "outputs": [
    {
     "name": "stdout",
     "output_type": "stream",
     "text": [
      "Recall: 0.7395577395577395\n"
     ]
    }
   ],
   "source": [
    "# Рассчитаю метрику RECALL (Полнота)\n",
    "print('Recall:', recall_score(target_valid, best_model_forest_weigh.predict(features_valid), pos_label=1))"
   ]
  },
  {
   "cell_type": "markdown",
   "metadata": {},
   "source": [
    "**Вывод:**\n",
    "\n",
    "F1=0.67, это максимальное значение, которого удалось добиться. Цель довести метрику до 0,59 достигнута.\n",
    "\n",
    "Recall=0.74, а данная метрика показывает долю истинно-положительных ответов (хорошее значение).\n",
    "\n",
    "AUC-ROC= 0.91 ~ 1, а это площадь под ROC-кривой, и если она равна 1, имеем \"идеальную\" модель. AUC-ROC случайной модели = 0,5"
   ]
  },
  {
   "cell_type": "markdown",
   "metadata": {},
   "source": [
    "## Тестирование модели"
   ]
  },
  {
   "cell_type": "code",
   "execution_count": 47,
   "metadata": {},
   "outputs": [
    {
     "name": "stdout",
     "output_type": "stream",
     "text": [
      "f1 на тестовой выборке с использованием встроенной балансировки классов: 0.6277056277056278\n",
      "AUC-ROC на тестовой выборке с использованием встроенной балансировки классов: 0.8587968950142871\n"
     ]
    }
   ],
   "source": [
    "probabiliti = best_model_forest_weigh.predict(features_test)\n",
    "print('f1 на тестовой выборке с использованием встроенной балансировки классов:', f1_score(target_test, probabiliti))\n",
    "probabilities_test = best_model_forest_weigh.predict_proba(features_test)\n",
    "print('AUC-ROC на тестовой выборке с использованием встроенной балансировки классов:',\n",
    "      roc_auc_score(target_test, probabilities_test[:, 1]))"
   ]
  },
  {
   "cell_type": "markdown",
   "metadata": {},
   "source": [
    "f1 и AUC-ROC на тестовой выборке получились чуть ниже, чем на валидационной + обучающей выборках, но довольно высоки, f1-мера выше требуемого в задании порога в 0,59."
   ]
  },
  {
   "cell_type": "code",
   "execution_count": 48,
   "metadata": {},
   "outputs": [
    {
     "name": "stdout",
     "output_type": "stream",
     "text": [
      "Количество клиентов, покинувших банк: 2037\n"
     ]
    }
   ],
   "source": [
    "print('Количество клиентов, покинувших банк:', sum(target))"
   ]
  },
  {
   "cell_type": "code",
   "execution_count": 49,
   "metadata": {},
   "outputs": [
    {
     "name": "stdout",
     "output_type": "stream",
     "text": [
      "Прогнозируемое количество клиентов, которые ещё могут уйти из банка в ближайшее время: 1012\n"
     ]
    }
   ],
   "source": [
    "print('Прогнозируемое количество клиентов, которые ещё могут уйти из банка в ближайшее время:',\n",
    "      sum(best_model_forest_weigh.predict(features)) - sum(target))"
   ]
  },
  {
   "cell_type": "markdown",
   "metadata": {},
   "source": [
    "**ИТОГОВЫЕ ВЫВОДЫ по прогнозированию оттока клиентов**\n",
    "Итак, в результате проведённой работы выбраны следующие параметры:\n",
    "- так как в данных имеем сильный четырёхкратный дисбаланс классов, к ним поочерёдно применял апсемплинг методом SMOTE, даунсемплинг методом RANDOMUNDERSAMPLER, а также использовал встроенные средства моделей для балансировки классов.\n",
    "- наилучшие результаты показала модель \"Случайный лес\", при использовании следующих гиперпараметров: глубина дерева - 79 (по умолчанию нет, ветвление идёт только вширь по количеству деревьев), количество деревьев: 31 (по умолчанию 100), с включенным встроенным средством балансировки.\n",
    "- благодаря таким настройкам данная модель показывает высокие основные для нашей модели метрики \"Полнота\" и \"Точность\", характеризующие качество предсказания положительного класса (\"клиент покинул банк\")\n",
    "- после обучения, валидации и тестирования модели, на имеющихся данных (10 000 клиентов, из которых 2 037 уже покинуло банк), модель спрогнозировала уход ещё 1012 клиентов."
   ]
  },
  {
   "cell_type": "code",
   "execution_count": null,
   "metadata": {},
   "outputs": [],
   "source": []
  }
 ],
 "metadata": {
  "ExecuteTimeLog": [
   {
    "duration": 1126,
    "start_time": "2022-12-25T23:35:01.964Z"
   },
   {
    "duration": 91,
    "start_time": "2022-12-25T23:35:04.613Z"
   },
   {
    "duration": 101,
    "start_time": "2022-12-25T23:35:37.909Z"
   },
   {
    "duration": 22,
    "start_time": "2022-12-25T23:35:48.430Z"
   },
   {
    "duration": 14,
    "start_time": "2022-12-25T23:41:38.998Z"
   },
   {
    "duration": 14,
    "start_time": "2022-12-26T00:03:10.079Z"
   },
   {
    "duration": 6,
    "start_time": "2022-12-26T00:21:54.043Z"
   },
   {
    "duration": 3,
    "start_time": "2022-12-26T01:45:18.003Z"
   },
   {
    "duration": 10,
    "start_time": "2022-12-26T01:50:07.604Z"
   },
   {
    "duration": 3,
    "start_time": "2022-12-26T01:51:45.467Z"
   },
   {
    "duration": 19,
    "start_time": "2022-12-26T01:51:52.257Z"
   },
   {
    "duration": 718,
    "start_time": "2022-12-26T01:59:19.929Z"
   },
   {
    "duration": 734,
    "start_time": "2022-12-26T01:59:58.934Z"
   },
   {
    "duration": 19,
    "start_time": "2022-12-26T02:00:13.799Z"
   },
   {
    "duration": 353,
    "start_time": "2022-12-26T02:00:45.183Z"
   },
   {
    "duration": 6,
    "start_time": "2022-12-26T02:01:33.762Z"
   },
   {
    "duration": 2,
    "start_time": "2022-12-26T02:09:09.506Z"
   },
   {
    "duration": 10,
    "start_time": "2022-12-26T02:20:24.406Z"
   },
   {
    "duration": 9,
    "start_time": "2022-12-26T02:21:01.799Z"
   },
   {
    "duration": 9,
    "start_time": "2022-12-26T02:21:16.992Z"
   },
   {
    "duration": 20,
    "start_time": "2022-12-26T02:21:39.008Z"
   },
   {
    "duration": 5,
    "start_time": "2022-12-26T02:24:28.163Z"
   },
   {
    "duration": 1050,
    "start_time": "2022-12-26T02:31:21.350Z"
   },
   {
    "duration": 40,
    "start_time": "2022-12-26T02:31:25.067Z"
   },
   {
    "duration": 18,
    "start_time": "2022-12-26T02:31:31.356Z"
   },
   {
    "duration": 13,
    "start_time": "2022-12-26T02:31:36.189Z"
   },
   {
    "duration": 5,
    "start_time": "2022-12-26T02:31:42.713Z"
   },
   {
    "duration": 11,
    "start_time": "2022-12-26T02:31:46.618Z"
   },
   {
    "duration": 3,
    "start_time": "2022-12-26T02:31:57.470Z"
   },
   {
    "duration": 9,
    "start_time": "2022-12-26T02:32:19.622Z"
   },
   {
    "duration": 8,
    "start_time": "2022-12-26T02:32:22.413Z"
   },
   {
    "duration": 98,
    "start_time": "2022-12-26T02:32:35.509Z"
   },
   {
    "duration": 21,
    "start_time": "2022-12-26T02:34:18.496Z"
   },
   {
    "duration": 18,
    "start_time": "2022-12-26T02:37:12.340Z"
   },
   {
    "duration": 197,
    "start_time": "2022-12-26T02:58:15.054Z"
   },
   {
    "duration": 69,
    "start_time": "2022-12-26T02:58:38.859Z"
   },
   {
    "duration": 64,
    "start_time": "2022-12-26T02:58:48.982Z"
   },
   {
    "duration": 38,
    "start_time": "2022-12-26T02:58:51.431Z"
   },
   {
    "duration": 113,
    "start_time": "2022-12-26T02:58:57.463Z"
   },
   {
    "duration": 194,
    "start_time": "2022-12-26T03:00:39.185Z"
   },
   {
    "duration": 218,
    "start_time": "2022-12-26T03:00:52.545Z"
   },
   {
    "duration": 3,
    "start_time": "2022-12-26T03:14:00.497Z"
   },
   {
    "duration": 228,
    "start_time": "2022-12-26T04:38:53.453Z"
   },
   {
    "duration": 3,
    "start_time": "2022-12-26T04:45:04.229Z"
   },
   {
    "duration": 2373,
    "start_time": "2022-12-26T04:47:27.144Z"
   },
   {
    "duration": 10,
    "start_time": "2022-12-26T04:47:42.362Z"
   },
   {
    "duration": 2376,
    "start_time": "2022-12-26T04:48:01.549Z"
   },
   {
    "duration": 3156,
    "start_time": "2022-12-26T06:05:55.373Z"
   },
   {
    "duration": 2407,
    "start_time": "2022-12-26T06:06:18.319Z"
   },
   {
    "duration": 2992,
    "start_time": "2022-12-26T06:07:05.731Z"
   },
   {
    "duration": 2250,
    "start_time": "2022-12-26T06:07:21.480Z"
   },
   {
    "duration": 3139,
    "start_time": "2022-12-26T06:11:36.882Z"
   },
   {
    "duration": 678,
    "start_time": "2022-12-26T06:45:56.051Z"
   },
   {
    "duration": 579,
    "start_time": "2022-12-26T06:46:32.750Z"
   },
   {
    "duration": 5251,
    "start_time": "2022-12-26T09:33:19.851Z"
   },
   {
    "duration": 5,
    "start_time": "2022-12-26T10:09:51.687Z"
   },
   {
    "duration": 1041,
    "start_time": "2022-12-26T10:12:36.771Z"
   },
   {
    "duration": 40,
    "start_time": "2022-12-26T10:12:41.457Z"
   },
   {
    "duration": 20,
    "start_time": "2022-12-26T10:12:45.276Z"
   },
   {
    "duration": 13,
    "start_time": "2022-12-26T10:12:49.272Z"
   },
   {
    "duration": 6,
    "start_time": "2022-12-26T10:12:57.362Z"
   },
   {
    "duration": 205,
    "start_time": "2022-12-26T10:13:04.796Z"
   },
   {
    "duration": 5276,
    "start_time": "2022-12-26T10:13:14.500Z"
   },
   {
    "duration": 27,
    "start_time": "2022-12-26T10:13:30.044Z"
   },
   {
    "duration": 63,
    "start_time": "2022-12-26T10:13:34.139Z"
   },
   {
    "duration": 29,
    "start_time": "2022-12-26T10:13:45.397Z"
   },
   {
    "duration": 5,
    "start_time": "2022-12-26T10:13:48.437Z"
   },
   {
    "duration": 1084,
    "start_time": "2022-12-26T10:14:48.678Z"
   },
   {
    "duration": 48,
    "start_time": "2022-12-26T10:14:52.962Z"
   },
   {
    "duration": 19,
    "start_time": "2022-12-26T10:14:55.186Z"
   },
   {
    "duration": 13,
    "start_time": "2022-12-26T10:14:57.440Z"
   },
   {
    "duration": 6,
    "start_time": "2022-12-26T10:15:03.307Z"
   },
   {
    "duration": 223,
    "start_time": "2022-12-26T10:15:06.567Z"
   },
   {
    "duration": 5491,
    "start_time": "2022-12-26T10:15:10.088Z"
   },
   {
    "duration": 25,
    "start_time": "2022-12-26T10:15:22.296Z"
   },
   {
    "duration": 67,
    "start_time": "2022-12-26T10:15:25.632Z"
   },
   {
    "duration": 5,
    "start_time": "2022-12-26T10:15:35.767Z"
   },
   {
    "duration": 30,
    "start_time": "2022-12-26T10:17:01.585Z"
   },
   {
    "duration": 4,
    "start_time": "2022-12-26T10:17:03.665Z"
   },
   {
    "duration": 72,
    "start_time": "2022-12-26T10:17:51.869Z"
   },
   {
    "duration": 6,
    "start_time": "2022-12-26T10:17:53.418Z"
   },
   {
    "duration": 26,
    "start_time": "2022-12-26T10:17:56.897Z"
   },
   {
    "duration": 4,
    "start_time": "2022-12-26T10:18:00.699Z"
   },
   {
    "duration": 6,
    "start_time": "2022-12-26T10:18:16.441Z"
   },
   {
    "duration": 680,
    "start_time": "2022-12-26T10:18:24.043Z"
   },
   {
    "duration": 659,
    "start_time": "2022-12-26T10:28:38.158Z"
   },
   {
    "duration": 725,
    "start_time": "2022-12-26T10:36:57.893Z"
   },
   {
    "duration": 760,
    "start_time": "2022-12-26T10:40:44.768Z"
   },
   {
    "duration": 5,
    "start_time": "2022-12-26T10:41:33.216Z"
   },
   {
    "duration": 644,
    "start_time": "2022-12-26T10:41:44.376Z"
   },
   {
    "duration": 5,
    "start_time": "2022-12-26T10:42:44.266Z"
   },
   {
    "duration": 634,
    "start_time": "2022-12-26T10:42:53.320Z"
   },
   {
    "duration": 758,
    "start_time": "2022-12-26T10:43:34.774Z"
   },
   {
    "duration": 8,
    "start_time": "2022-12-26T11:01:23.438Z"
   },
   {
    "duration": 713,
    "start_time": "2022-12-26T11:02:38.204Z"
   },
   {
    "duration": 274,
    "start_time": "2022-12-26T11:03:40.542Z"
   },
   {
    "duration": 325,
    "start_time": "2022-12-26T11:08:18.962Z"
   },
   {
    "duration": 296,
    "start_time": "2022-12-26T11:09:06.607Z"
   },
   {
    "duration": 297,
    "start_time": "2022-12-26T11:09:20.451Z"
   },
   {
    "duration": 653,
    "start_time": "2022-12-26T11:15:41.363Z"
   },
   {
    "duration": 199,
    "start_time": "2022-12-26T11:30:08.761Z"
   },
   {
    "duration": 7701,
    "start_time": "2022-12-26T11:32:19.548Z"
   },
   {
    "duration": 7747,
    "start_time": "2022-12-26T11:37:38.565Z"
   },
   {
    "duration": 8077,
    "start_time": "2022-12-26T11:38:15.743Z"
   },
   {
    "duration": 1088,
    "start_time": "2022-12-28T02:59:51.425Z"
   },
   {
    "duration": 157,
    "start_time": "2022-12-28T03:00:03.296Z"
   },
   {
    "duration": 19,
    "start_time": "2022-12-28T03:00:07.974Z"
   },
   {
    "duration": 12,
    "start_time": "2022-12-28T03:00:11.550Z"
   },
   {
    "duration": 5,
    "start_time": "2022-12-28T03:00:17.126Z"
   },
   {
    "duration": 226,
    "start_time": "2022-12-28T03:00:20.262Z"
   },
   {
    "duration": 5069,
    "start_time": "2022-12-28T03:00:22.736Z"
   },
   {
    "duration": 23,
    "start_time": "2022-12-28T03:00:31.105Z"
   },
   {
    "duration": 58,
    "start_time": "2022-12-28T03:00:34.407Z"
   },
   {
    "duration": 3,
    "start_time": "2022-12-28T03:00:36.369Z"
   },
   {
    "duration": 27,
    "start_time": "2022-12-28T03:00:41.674Z"
   },
   {
    "duration": 4,
    "start_time": "2022-12-28T03:00:44.711Z"
   },
   {
    "duration": 6,
    "start_time": "2022-12-28T03:00:48.950Z"
   },
   {
    "duration": 596,
    "start_time": "2022-12-28T03:00:51.434Z"
   },
   {
    "duration": 733,
    "start_time": "2022-12-28T03:00:56.490Z"
   },
   {
    "duration": 624,
    "start_time": "2022-12-28T03:01:02.008Z"
   },
   {
    "duration": 87,
    "start_time": "2022-12-28T03:01:10.273Z"
   },
   {
    "duration": 8306,
    "start_time": "2022-12-28T03:15:19.228Z"
   },
   {
    "duration": 6,
    "start_time": "2022-12-28T03:17:10.069Z"
   },
   {
    "duration": 7767,
    "start_time": "2022-12-28T03:17:26.756Z"
   },
   {
    "duration": 9070,
    "start_time": "2022-12-28T03:44:10.931Z"
   },
   {
    "duration": 31928,
    "start_time": "2022-12-28T03:49:15.509Z"
   },
   {
    "duration": 31412,
    "start_time": "2022-12-28T03:51:14.272Z"
   },
   {
    "duration": 32186,
    "start_time": "2022-12-28T03:52:26.575Z"
   },
   {
    "duration": 2985,
    "start_time": "2022-12-28T03:58:20.624Z"
   },
   {
    "duration": 6206,
    "start_time": "2022-12-28T04:41:38.105Z"
   },
   {
    "duration": 14079,
    "start_time": "2022-12-28T04:42:39.597Z"
   },
   {
    "duration": 609856,
    "start_time": "2022-12-28T04:44:10.273Z"
   },
   {
    "duration": 2817455,
    "start_time": "2022-12-28T05:17:00.080Z"
   },
   {
    "duration": 255880,
    "start_time": "2022-12-28T06:06:16.910Z"
   },
   {
    "duration": 1063,
    "start_time": "2022-12-28T08:08:31.825Z"
   },
   {
    "duration": 46,
    "start_time": "2022-12-28T08:08:35.005Z"
   },
   {
    "duration": 19,
    "start_time": "2022-12-28T08:08:38.936Z"
   },
   {
    "duration": 14,
    "start_time": "2022-12-28T08:08:42.232Z"
   },
   {
    "duration": 4,
    "start_time": "2022-12-28T08:08:48.168Z"
   },
   {
    "duration": 198,
    "start_time": "2022-12-28T08:08:49.507Z"
   },
   {
    "duration": 4975,
    "start_time": "2022-12-28T08:08:51.398Z"
   },
   {
    "duration": 23,
    "start_time": "2022-12-28T08:08:59.708Z"
   },
   {
    "duration": 67,
    "start_time": "2022-12-28T08:09:01.597Z"
   },
   {
    "duration": 4,
    "start_time": "2022-12-28T08:09:04.010Z"
   },
   {
    "duration": 30,
    "start_time": "2022-12-28T08:09:08.275Z"
   },
   {
    "duration": 3,
    "start_time": "2022-12-28T08:09:11.042Z"
   },
   {
    "duration": 6,
    "start_time": "2022-12-28T08:09:16.897Z"
   },
   {
    "duration": 537,
    "start_time": "2022-12-28T08:09:21.297Z"
   },
   {
    "duration": 643,
    "start_time": "2022-12-28T08:09:28.378Z"
   },
   {
    "duration": 582,
    "start_time": "2022-12-28T08:09:36.961Z"
   },
   {
    "duration": 7690,
    "start_time": "2022-12-28T08:09:51.810Z"
   },
   {
    "duration": 45,
    "start_time": "2022-12-28T08:10:29.766Z"
   },
   {
    "duration": 176,
    "start_time": "2022-12-28T08:10:59.094Z"
   },
   {
    "duration": 1074,
    "start_time": "2022-12-29T07:10:58.226Z"
   },
   {
    "duration": 39,
    "start_time": "2022-12-29T07:10:59.302Z"
   },
   {
    "duration": 19,
    "start_time": "2022-12-29T07:10:59.343Z"
   },
   {
    "duration": 13,
    "start_time": "2022-12-29T07:10:59.364Z"
   },
   {
    "duration": 5,
    "start_time": "2022-12-29T07:10:59.378Z"
   },
   {
    "duration": 190,
    "start_time": "2022-12-29T07:10:59.384Z"
   },
   {
    "duration": 5002,
    "start_time": "2022-12-29T07:10:59.576Z"
   },
   {
    "duration": 23,
    "start_time": "2022-12-29T07:11:04.580Z"
   },
   {
    "duration": 72,
    "start_time": "2022-12-29T07:11:04.605Z"
   },
   {
    "duration": 4,
    "start_time": "2022-12-29T07:11:04.680Z"
   },
   {
    "duration": 46,
    "start_time": "2022-12-29T07:11:04.686Z"
   },
   {
    "duration": 4,
    "start_time": "2022-12-29T07:11:04.734Z"
   },
   {
    "duration": 8,
    "start_time": "2022-12-29T07:11:04.739Z"
   },
   {
    "duration": 593,
    "start_time": "2022-12-29T07:11:04.748Z"
   },
   {
    "duration": 851,
    "start_time": "2022-12-29T07:11:05.343Z"
   },
   {
    "duration": 640,
    "start_time": "2022-12-29T07:11:06.196Z"
   },
   {
    "duration": 7397,
    "start_time": "2022-12-29T07:11:07.012Z"
   },
   {
    "duration": 6,
    "start_time": "2022-12-29T07:11:14.411Z"
   },
   {
    "duration": 0,
    "start_time": "2022-12-29T07:11:14.419Z"
   },
   {
    "duration": 0,
    "start_time": "2022-12-29T07:11:14.420Z"
   },
   {
    "duration": 0,
    "start_time": "2022-12-29T07:11:14.421Z"
   },
   {
    "duration": 0,
    "start_time": "2022-12-29T07:11:14.422Z"
   },
   {
    "duration": 1010,
    "start_time": "2022-12-29T07:11:41.971Z"
   },
   {
    "duration": 38,
    "start_time": "2022-12-29T07:11:42.983Z"
   },
   {
    "duration": 20,
    "start_time": "2022-12-29T07:11:43.023Z"
   },
   {
    "duration": 11,
    "start_time": "2022-12-29T07:11:43.045Z"
   },
   {
    "duration": 4,
    "start_time": "2022-12-29T07:11:43.058Z"
   },
   {
    "duration": 208,
    "start_time": "2022-12-29T07:11:43.064Z"
   },
   {
    "duration": 5002,
    "start_time": "2022-12-29T07:11:43.274Z"
   },
   {
    "duration": 22,
    "start_time": "2022-12-29T07:11:48.277Z"
   },
   {
    "duration": 66,
    "start_time": "2022-12-29T07:11:48.301Z"
   },
   {
    "duration": 3,
    "start_time": "2022-12-29T07:11:48.370Z"
   },
   {
    "duration": 42,
    "start_time": "2022-12-29T07:11:48.375Z"
   },
   {
    "duration": 3,
    "start_time": "2022-12-29T07:11:48.419Z"
   },
   {
    "duration": 8,
    "start_time": "2022-12-29T07:11:48.424Z"
   },
   {
    "duration": 604,
    "start_time": "2022-12-29T07:11:48.434Z"
   },
   {
    "duration": 874,
    "start_time": "2022-12-29T07:11:49.040Z"
   },
   {
    "duration": 622,
    "start_time": "2022-12-29T07:11:49.916Z"
   },
   {
    "duration": 6,
    "start_time": "2022-12-29T07:11:50.614Z"
   },
   {
    "duration": 0,
    "start_time": "2022-12-29T07:11:50.622Z"
   },
   {
    "duration": 0,
    "start_time": "2022-12-29T07:11:50.623Z"
   },
   {
    "duration": 0,
    "start_time": "2022-12-29T07:11:50.623Z"
   },
   {
    "duration": 0,
    "start_time": "2022-12-29T07:11:50.624Z"
   },
   {
    "duration": 0,
    "start_time": "2022-12-29T07:11:50.624Z"
   },
   {
    "duration": 93,
    "start_time": "2022-12-29T08:03:59.595Z"
   },
   {
    "duration": 9,
    "start_time": "2022-12-29T08:04:46.463Z"
   },
   {
    "duration": 17,
    "start_time": "2022-12-29T08:05:33.298Z"
   },
   {
    "duration": 7744,
    "start_time": "2022-12-29T08:05:55.148Z"
   },
   {
    "duration": 7697,
    "start_time": "2022-12-29T08:06:32.452Z"
   },
   {
    "duration": 7853,
    "start_time": "2022-12-29T08:15:55.815Z"
   },
   {
    "duration": 7617,
    "start_time": "2022-12-29T08:16:26.045Z"
   },
   {
    "duration": 26814753,
    "start_time": "2022-12-29T08:29:41.844Z"
   },
   {
    "duration": 454973,
    "start_time": "2022-12-29T17:21:45.030Z"
   },
   {
    "duration": 397113,
    "start_time": "2022-12-29T17:30:50.646Z"
   },
   {
    "duration": 72367,
    "start_time": "2022-12-29T17:39:09.420Z"
   },
   {
    "duration": 73050,
    "start_time": "2022-12-29T18:03:34.603Z"
   },
   {
    "duration": 43,
    "start_time": "2022-12-30T03:32:09.117Z"
   },
   {
    "duration": 1021,
    "start_time": "2022-12-30T03:32:20.469Z"
   },
   {
    "duration": 79,
    "start_time": "2022-12-30T03:32:30.455Z"
   },
   {
    "duration": 20,
    "start_time": "2022-12-30T03:32:32.713Z"
   },
   {
    "duration": 12,
    "start_time": "2022-12-30T03:32:35.129Z"
   },
   {
    "duration": 4,
    "start_time": "2022-12-30T03:32:44.527Z"
   },
   {
    "duration": 190,
    "start_time": "2022-12-30T03:32:49.361Z"
   },
   {
    "duration": 5097,
    "start_time": "2022-12-30T03:32:50.809Z"
   },
   {
    "duration": 24,
    "start_time": "2022-12-30T03:33:00.346Z"
   },
   {
    "duration": 59,
    "start_time": "2022-12-30T03:33:03.537Z"
   },
   {
    "duration": 10,
    "start_time": "2022-12-30T03:33:06.169Z"
   },
   {
    "duration": 29,
    "start_time": "2022-12-30T03:33:12.714Z"
   },
   {
    "duration": 5,
    "start_time": "2022-12-30T03:33:14.723Z"
   },
   {
    "duration": 5,
    "start_time": "2022-12-30T03:33:19.530Z"
   },
   {
    "duration": 7,
    "start_time": "2022-12-30T03:33:24.792Z"
   },
   {
    "duration": 1108,
    "start_time": "2022-12-30T04:48:09.811Z"
   },
   {
    "duration": 42,
    "start_time": "2022-12-30T04:48:14.803Z"
   },
   {
    "duration": 19,
    "start_time": "2022-12-30T04:48:17.242Z"
   },
   {
    "duration": 13,
    "start_time": "2022-12-30T04:48:19.466Z"
   },
   {
    "duration": 4,
    "start_time": "2022-12-30T04:48:27.841Z"
   },
   {
    "duration": 209,
    "start_time": "2022-12-30T04:48:29.889Z"
   },
   {
    "duration": 5493,
    "start_time": "2022-12-30T04:48:32.083Z"
   },
   {
    "duration": 24,
    "start_time": "2022-12-30T04:48:41.538Z"
   },
   {
    "duration": 62,
    "start_time": "2022-12-30T04:48:43.902Z"
   },
   {
    "duration": 4,
    "start_time": "2022-12-30T04:48:47.771Z"
   },
   {
    "duration": 31,
    "start_time": "2022-12-30T04:49:00.164Z"
   },
   {
    "duration": 4,
    "start_time": "2022-12-30T04:49:07.785Z"
   },
   {
    "duration": 9,
    "start_time": "2022-12-30T04:51:01.343Z"
   },
   {
    "duration": 147,
    "start_time": "2022-12-30T05:26:16.740Z"
   },
   {
    "duration": 4,
    "start_time": "2022-12-30T05:28:50.671Z"
   },
   {
    "duration": 121,
    "start_time": "2022-12-30T05:29:00.740Z"
   },
   {
    "duration": 6,
    "start_time": "2022-12-30T05:29:07.053Z"
   },
   {
    "duration": 841,
    "start_time": "2022-12-30T05:38:56.783Z"
   },
   {
    "duration": 14,
    "start_time": "2022-12-30T05:43:04.251Z"
   },
   {
    "duration": 11481,
    "start_time": "2022-12-30T05:44:55.370Z"
   },
   {
    "duration": 8178,
    "start_time": "2022-12-30T05:52:31.558Z"
   },
   {
    "duration": 12542,
    "start_time": "2022-12-30T05:53:56.610Z"
   },
   {
    "duration": 1122,
    "start_time": "2022-12-30T16:31:38.739Z"
   },
   {
    "duration": 43,
    "start_time": "2022-12-30T16:31:39.863Z"
   },
   {
    "duration": 26,
    "start_time": "2022-12-30T16:31:39.908Z"
   },
   {
    "duration": 38,
    "start_time": "2022-12-30T16:31:39.935Z"
   },
   {
    "duration": 13,
    "start_time": "2022-12-30T16:31:39.976Z"
   },
   {
    "duration": 251,
    "start_time": "2022-12-30T16:31:39.991Z"
   },
   {
    "duration": 5671,
    "start_time": "2022-12-30T16:31:40.244Z"
   },
   {
    "duration": 25,
    "start_time": "2022-12-30T16:31:45.922Z"
   },
   {
    "duration": 86,
    "start_time": "2022-12-30T16:31:45.948Z"
   },
   {
    "duration": 4,
    "start_time": "2022-12-30T16:31:46.040Z"
   },
   {
    "duration": 70,
    "start_time": "2022-12-30T16:31:46.046Z"
   },
   {
    "duration": 9,
    "start_time": "2022-12-30T16:31:46.117Z"
   },
   {
    "duration": 29,
    "start_time": "2022-12-30T16:31:46.128Z"
   },
   {
    "duration": 680,
    "start_time": "2022-12-30T16:31:46.159Z"
   },
   {
    "duration": 292,
    "start_time": "2022-12-30T16:31:46.842Z"
   },
   {
    "duration": 8,
    "start_time": "2022-12-30T16:31:47.137Z"
   },
   {
    "duration": 902,
    "start_time": "2022-12-30T16:31:47.147Z"
   },
   {
    "duration": 13223,
    "start_time": "2022-12-30T16:31:48.113Z"
   },
   {
    "duration": 1000,
    "start_time": "2022-12-30T20:29:59.974Z"
   },
   {
    "duration": 42,
    "start_time": "2022-12-30T20:30:00.976Z"
   },
   {
    "duration": 52,
    "start_time": "2022-12-30T20:30:01.019Z"
   },
   {
    "duration": 145,
    "start_time": "2022-12-30T20:30:01.073Z"
   },
   {
    "duration": 73,
    "start_time": "2022-12-30T20:30:01.220Z"
   },
   {
    "duration": 222,
    "start_time": "2022-12-30T20:30:01.295Z"
   },
   {
    "duration": 5156,
    "start_time": "2022-12-30T20:30:01.518Z"
   },
   {
    "duration": 23,
    "start_time": "2022-12-30T20:30:06.675Z"
   },
   {
    "duration": 69,
    "start_time": "2022-12-30T20:30:06.700Z"
   },
   {
    "duration": 5,
    "start_time": "2022-12-30T20:30:06.771Z"
   },
   {
    "duration": 43,
    "start_time": "2022-12-30T20:30:06.777Z"
   },
   {
    "duration": 4,
    "start_time": "2022-12-30T20:30:06.822Z"
   },
   {
    "duration": 13,
    "start_time": "2022-12-30T20:30:06.828Z"
   },
   {
    "duration": 597,
    "start_time": "2022-12-30T20:30:06.843Z"
   },
   {
    "duration": 212,
    "start_time": "2022-12-30T20:30:07.513Z"
   },
   {
    "duration": 6,
    "start_time": "2022-12-30T20:30:07.726Z"
   },
   {
    "duration": 884,
    "start_time": "2022-12-30T20:30:07.733Z"
   },
   {
    "duration": 11541,
    "start_time": "2022-12-30T20:30:08.619Z"
   },
   {
    "duration": 1086,
    "start_time": "2022-12-30T21:11:23.492Z"
   },
   {
    "duration": 46,
    "start_time": "2022-12-30T21:11:24.580Z"
   },
   {
    "duration": 19,
    "start_time": "2022-12-30T21:11:24.628Z"
   },
   {
    "duration": 12,
    "start_time": "2022-12-30T21:11:24.648Z"
   },
   {
    "duration": 4,
    "start_time": "2022-12-30T21:11:24.662Z"
   },
   {
    "duration": 220,
    "start_time": "2022-12-30T21:11:24.667Z"
   },
   {
    "duration": 5161,
    "start_time": "2022-12-30T21:11:24.889Z"
   },
   {
    "duration": 24,
    "start_time": "2022-12-30T21:11:30.051Z"
   },
   {
    "duration": 72,
    "start_time": "2022-12-30T21:11:30.076Z"
   },
   {
    "duration": 4,
    "start_time": "2022-12-30T21:11:30.150Z"
   },
   {
    "duration": 58,
    "start_time": "2022-12-30T21:11:30.156Z"
   },
   {
    "duration": 5,
    "start_time": "2022-12-30T21:11:30.215Z"
   },
   {
    "duration": 19,
    "start_time": "2022-12-30T21:11:30.221Z"
   },
   {
    "duration": 596,
    "start_time": "2022-12-30T21:11:30.242Z"
   },
   {
    "duration": 276,
    "start_time": "2022-12-30T21:11:30.839Z"
   },
   {
    "duration": 5,
    "start_time": "2022-12-30T21:11:31.117Z"
   },
   {
    "duration": 811,
    "start_time": "2022-12-30T21:11:31.123Z"
   },
   {
    "duration": 11360,
    "start_time": "2022-12-30T21:11:31.935Z"
   },
   {
    "duration": 1024,
    "start_time": "2022-12-31T03:05:29.180Z"
   },
   {
    "duration": 42,
    "start_time": "2022-12-31T03:05:30.206Z"
   },
   {
    "duration": 20,
    "start_time": "2022-12-31T03:05:30.249Z"
   },
   {
    "duration": 13,
    "start_time": "2022-12-31T03:05:30.271Z"
   },
   {
    "duration": 9,
    "start_time": "2022-12-31T03:05:30.285Z"
   },
   {
    "duration": 196,
    "start_time": "2022-12-31T03:05:30.296Z"
   },
   {
    "duration": 5098,
    "start_time": "2022-12-31T03:05:30.493Z"
   },
   {
    "duration": 32,
    "start_time": "2022-12-31T03:05:35.594Z"
   },
   {
    "duration": 58,
    "start_time": "2022-12-31T03:05:35.628Z"
   },
   {
    "duration": 4,
    "start_time": "2022-12-31T03:05:35.689Z"
   },
   {
    "duration": 26,
    "start_time": "2022-12-31T03:05:35.712Z"
   },
   {
    "duration": 4,
    "start_time": "2022-12-31T03:05:35.740Z"
   },
   {
    "duration": 8,
    "start_time": "2022-12-31T03:05:35.746Z"
   },
   {
    "duration": 577,
    "start_time": "2022-12-31T03:05:35.756Z"
   },
   {
    "duration": 264,
    "start_time": "2022-12-31T03:05:36.335Z"
   },
   {
    "duration": 12,
    "start_time": "2022-12-31T03:05:36.601Z"
   },
   {
    "duration": 821,
    "start_time": "2022-12-31T03:05:36.615Z"
   },
   {
    "duration": 11309,
    "start_time": "2022-12-31T03:05:37.437Z"
   },
   {
    "duration": 57030122,
    "start_time": "2022-12-31T03:05:48.747Z"
   },
   {
    "duration": 13597,
    "start_time": "2022-12-31T18:56:18.871Z"
   },
   {
    "duration": 46,
    "start_time": "2023-01-01T08:18:47.847Z"
   },
   {
    "duration": 1040,
    "start_time": "2023-01-01T08:21:26.525Z"
   },
   {
    "duration": 75,
    "start_time": "2023-01-01T08:21:27.567Z"
   },
   {
    "duration": 19,
    "start_time": "2023-01-01T08:21:27.643Z"
   },
   {
    "duration": 11,
    "start_time": "2023-01-01T08:21:27.663Z"
   },
   {
    "duration": 4,
    "start_time": "2023-01-01T08:21:27.676Z"
   },
   {
    "duration": 192,
    "start_time": "2023-01-01T08:21:27.681Z"
   },
   {
    "duration": 4882,
    "start_time": "2023-01-01T08:21:27.875Z"
   },
   {
    "duration": 23,
    "start_time": "2023-01-01T08:21:32.759Z"
   },
   {
    "duration": 80,
    "start_time": "2023-01-01T08:21:32.784Z"
   },
   {
    "duration": 3,
    "start_time": "2023-01-01T08:21:32.866Z"
   },
   {
    "duration": 27,
    "start_time": "2023-01-01T08:21:32.871Z"
   },
   {
    "duration": 4,
    "start_time": "2023-01-01T08:21:32.900Z"
   },
   {
    "duration": 18,
    "start_time": "2023-01-01T08:21:32.905Z"
   },
   {
    "duration": 602,
    "start_time": "2023-01-01T08:21:32.926Z"
   },
   {
    "duration": 281,
    "start_time": "2023-01-01T08:21:33.530Z"
   },
   {
    "duration": 6,
    "start_time": "2023-01-01T08:21:33.820Z"
   },
   {
    "duration": 895,
    "start_time": "2023-01-01T08:21:33.827Z"
   },
   {
    "duration": 10915,
    "start_time": "2023-01-01T08:21:34.724Z"
   },
   {
    "duration": 5060549,
    "start_time": "2023-01-01T08:21:45.640Z"
   },
   {
    "duration": 13310,
    "start_time": "2023-01-01T09:46:06.191Z"
   },
   {
    "duration": 209,
    "start_time": "2023-01-01T09:46:19.502Z"
   },
   {
    "duration": 23192,
    "start_time": "2023-01-01T11:09:33.745Z"
   },
   {
    "duration": 219,
    "start_time": "2023-01-01T11:10:07.452Z"
   },
   {
    "duration": 415,
    "start_time": "2023-01-01T12:00:05.689Z"
   },
   {
    "duration": 438,
    "start_time": "2023-01-01T12:02:04.028Z"
   },
   {
    "duration": 1240,
    "start_time": "2023-01-05T09:43:56.642Z"
   },
   {
    "duration": 156,
    "start_time": "2023-01-05T09:43:57.884Z"
   },
   {
    "duration": 23,
    "start_time": "2023-01-05T09:43:58.042Z"
   },
   {
    "duration": 13,
    "start_time": "2023-01-05T09:43:58.068Z"
   },
   {
    "duration": 7,
    "start_time": "2023-01-05T09:43:58.083Z"
   },
   {
    "duration": 232,
    "start_time": "2023-01-05T09:43:58.092Z"
   },
   {
    "duration": 5802,
    "start_time": "2023-01-05T09:43:58.326Z"
   },
   {
    "duration": 33,
    "start_time": "2023-01-05T09:44:04.130Z"
   },
   {
    "duration": 72,
    "start_time": "2023-01-05T09:44:04.165Z"
   },
   {
    "duration": 5,
    "start_time": "2023-01-05T09:44:04.251Z"
   },
   {
    "duration": 35,
    "start_time": "2023-01-05T09:44:04.257Z"
   },
   {
    "duration": 5,
    "start_time": "2023-01-05T09:44:04.294Z"
   },
   {
    "duration": 9,
    "start_time": "2023-01-05T09:44:04.301Z"
   },
   {
    "duration": 673,
    "start_time": "2023-01-05T09:44:04.312Z"
   },
   {
    "duration": 216,
    "start_time": "2023-01-05T09:44:05.051Z"
   },
   {
    "duration": 6,
    "start_time": "2023-01-05T09:44:05.269Z"
   },
   {
    "duration": 975,
    "start_time": "2023-01-05T09:44:05.277Z"
   },
   {
    "duration": 12784,
    "start_time": "2023-01-05T09:44:06.255Z"
   },
   {
    "duration": 2580437,
    "start_time": "2023-01-05T09:44:19.042Z"
   },
   {
    "duration": 25703,
    "start_time": "2023-01-05T10:27:19.480Z"
   },
   {
    "duration": 491,
    "start_time": "2023-01-05T10:27:45.185Z"
   },
   {
    "duration": 492,
    "start_time": "2023-01-05T10:27:45.678Z"
   },
   {
    "duration": 69,
    "start_time": "2023-01-05T13:03:55.903Z"
   },
   {
    "duration": 47,
    "start_time": "2023-01-05T13:07:03.338Z"
   },
   {
    "duration": 52,
    "start_time": "2023-01-05T13:07:43.841Z"
   },
   {
    "duration": 1130,
    "start_time": "2023-01-05T13:08:05.788Z"
   },
   {
    "duration": 1296,
    "start_time": "2023-01-06T07:06:31.929Z"
   },
   {
    "duration": 119,
    "start_time": "2023-01-06T07:20:03.149Z"
   },
   {
    "duration": 166,
    "start_time": "2023-01-06T07:20:20.321Z"
   },
   {
    "duration": 21,
    "start_time": "2023-01-06T07:20:24.291Z"
   },
   {
    "duration": 14,
    "start_time": "2023-01-06T07:20:28.835Z"
   },
   {
    "duration": 5,
    "start_time": "2023-01-06T07:20:46.059Z"
   },
   {
    "duration": 232,
    "start_time": "2023-01-06T07:21:17.107Z"
   },
   {
    "duration": 182,
    "start_time": "2023-01-06T07:21:23.445Z"
   },
   {
    "duration": 22,
    "start_time": "2023-01-06T07:22:29.255Z"
   },
   {
    "duration": 21,
    "start_time": "2023-01-06T08:39:10.821Z"
   },
   {
    "duration": 13,
    "start_time": "2023-01-06T08:45:16.267Z"
   },
   {
    "duration": 1339,
    "start_time": "2023-01-06T08:46:15.141Z"
   },
   {
    "duration": 11,
    "start_time": "2023-01-06T08:46:59.146Z"
   },
   {
    "duration": 7,
    "start_time": "2023-01-06T08:47:22.766Z"
   },
   {
    "duration": 1216,
    "start_time": "2023-01-06T08:47:36.607Z"
   },
   {
    "duration": 9,
    "start_time": "2023-01-06T08:48:05.518Z"
   },
   {
    "duration": 5,
    "start_time": "2023-01-06T08:49:23.108Z"
   },
   {
    "duration": 3,
    "start_time": "2023-01-06T08:49:43.068Z"
   },
   {
    "duration": 26,
    "start_time": "2023-01-06T08:50:13.574Z"
   },
   {
    "duration": 4,
    "start_time": "2023-01-06T08:53:13.608Z"
   },
   {
    "duration": 9,
    "start_time": "2023-01-06T09:00:56.984Z"
   },
   {
    "duration": 8,
    "start_time": "2023-01-06T09:01:52.918Z"
   },
   {
    "duration": 12,
    "start_time": "2023-01-06T09:02:33.776Z"
   },
   {
    "duration": 4,
    "start_time": "2023-01-06T09:03:50.978Z"
   },
   {
    "duration": 4,
    "start_time": "2023-01-06T09:04:07.043Z"
   },
   {
    "duration": 5,
    "start_time": "2023-01-06T09:04:49.589Z"
   },
   {
    "duration": 4,
    "start_time": "2023-01-06T09:05:29.570Z"
   },
   {
    "duration": 5,
    "start_time": "2023-01-06T09:05:42.276Z"
   },
   {
    "duration": 4,
    "start_time": "2023-01-06T09:06:02.271Z"
   },
   {
    "duration": 15,
    "start_time": "2023-01-06T09:06:22.188Z"
   },
   {
    "duration": 4,
    "start_time": "2023-01-06T09:08:28.988Z"
   },
   {
    "duration": 175,
    "start_time": "2023-01-06T09:10:21.816Z"
   },
   {
    "duration": 5780,
    "start_time": "2023-01-06T09:14:49.956Z"
   },
   {
    "duration": 29,
    "start_time": "2023-01-06T09:15:07.850Z"
   },
   {
    "duration": 77,
    "start_time": "2023-01-06T09:15:11.731Z"
   },
   {
    "duration": 5,
    "start_time": "2023-01-06T09:15:15.035Z"
   },
   {
    "duration": 30,
    "start_time": "2023-01-06T09:15:18.407Z"
   },
   {
    "duration": 5,
    "start_time": "2023-01-06T09:15:20.966Z"
   },
   {
    "duration": 64,
    "start_time": "2023-01-07T13:50:25.811Z"
   },
   {
    "duration": 1049,
    "start_time": "2023-01-07T13:50:57.814Z"
   },
   {
    "duration": 169,
    "start_time": "2023-01-07T13:51:06.614Z"
   },
   {
    "duration": 18,
    "start_time": "2023-01-07T13:51:09.329Z"
   },
   {
    "duration": 11,
    "start_time": "2023-01-07T13:51:12.784Z"
   },
   {
    "duration": 5,
    "start_time": "2023-01-07T13:51:18.855Z"
   },
   {
    "duration": 185,
    "start_time": "2023-01-07T13:51:23.486Z"
   },
   {
    "duration": 190,
    "start_time": "2023-01-07T13:51:29.538Z"
   },
   {
    "duration": 4606,
    "start_time": "2023-01-07T13:51:40.500Z"
   },
   {
    "duration": 23,
    "start_time": "2023-01-07T13:51:53.878Z"
   },
   {
    "duration": 67,
    "start_time": "2023-01-07T13:51:56.207Z"
   },
   {
    "duration": 4,
    "start_time": "2023-01-07T13:52:00.906Z"
   },
   {
    "duration": 25,
    "start_time": "2023-01-07T13:52:05.453Z"
   },
   {
    "duration": 3,
    "start_time": "2023-01-07T13:52:07.903Z"
   },
   {
    "duration": 6,
    "start_time": "2023-01-07T13:52:16.429Z"
   },
   {
    "duration": 622,
    "start_time": "2023-01-07T13:52:38.398Z"
   },
   {
    "duration": 7650,
    "start_time": "2023-01-07T13:57:22.214Z"
   },
   {
    "duration": 26928,
    "start_time": "2023-01-07T14:21:23.613Z"
   },
   {
    "duration": 27959,
    "start_time": "2023-01-07T14:22:18.126Z"
   },
   {
    "duration": 247071,
    "start_time": "2023-01-07T14:24:05.398Z"
   },
   {
    "duration": 112317,
    "start_time": "2023-01-07T14:29:15.937Z"
   },
   {
    "duration": 456135,
    "start_time": "2023-01-07T14:33:18.306Z"
   },
   {
    "duration": 969310,
    "start_time": "2023-01-07T14:49:21.274Z"
   },
   {
    "duration": 6891,
    "start_time": "2023-01-07T15:18:20.216Z"
   },
   {
    "duration": 2032,
    "start_time": "2023-01-07T15:19:52.604Z"
   },
   {
    "duration": 80465,
    "start_time": "2023-01-07T15:25:03.326Z"
   },
   {
    "duration": 3,
    "start_time": "2023-01-07T15:35:37.774Z"
   },
   {
    "duration": 5,
    "start_time": "2023-01-07T15:39:46.343Z"
   },
   {
    "duration": 8,
    "start_time": "2023-01-07T15:53:01.237Z"
   },
   {
    "duration": 5,
    "start_time": "2023-01-07T15:53:31.842Z"
   },
   {
    "duration": 43,
    "start_time": "2023-01-10T03:49:42.768Z"
   },
   {
    "duration": 7204,
    "start_time": "2023-01-10T03:51:49.104Z"
   },
   {
    "duration": 1960,
    "start_time": "2023-01-10T03:52:22.448Z"
   },
   {
    "duration": 1974,
    "start_time": "2023-01-10T03:52:49.984Z"
   },
   {
    "duration": 1943,
    "start_time": "2023-01-10T03:53:09.906Z"
   },
   {
    "duration": 90,
    "start_time": "2023-01-10T03:53:24.496Z"
   },
   {
    "duration": 19,
    "start_time": "2023-01-10T03:53:27.801Z"
   },
   {
    "duration": 12,
    "start_time": "2023-01-10T03:53:31.161Z"
   },
   {
    "duration": 4,
    "start_time": "2023-01-10T03:53:36.026Z"
   },
   {
    "duration": 189,
    "start_time": "2023-01-10T03:53:40.072Z"
   },
   {
    "duration": 203,
    "start_time": "2023-01-10T03:53:43.886Z"
   },
   {
    "duration": 4761,
    "start_time": "2023-01-10T03:53:49.187Z"
   },
   {
    "duration": 22,
    "start_time": "2023-01-10T03:54:17.130Z"
   },
   {
    "duration": 59,
    "start_time": "2023-01-10T03:54:19.512Z"
   },
   {
    "duration": 3,
    "start_time": "2023-01-10T03:54:22.967Z"
   },
   {
    "duration": 27,
    "start_time": "2023-01-10T03:54:25.888Z"
   },
   {
    "duration": 4,
    "start_time": "2023-01-10T03:54:27.918Z"
   },
   {
    "duration": 6,
    "start_time": "2023-01-10T03:54:34.968Z"
   },
   {
    "duration": 5,
    "start_time": "2023-01-10T03:54:43.889Z"
   },
   {
    "duration": 665,
    "start_time": "2023-01-10T03:54:45.552Z"
   },
   {
    "duration": 7508,
    "start_time": "2023-01-10T03:54:52.275Z"
   },
   {
    "duration": 439747,
    "start_time": "2023-01-10T03:55:04.860Z"
   },
   {
    "duration": 76447,
    "start_time": "2023-01-10T04:03:26.770Z"
   },
   {
    "duration": 2158,
    "start_time": "2023-01-10T04:04:57.865Z"
   },
   {
    "duration": 6,
    "start_time": "2023-01-10T04:05:07.425Z"
   },
   {
    "duration": 3712,
    "start_time": "2023-01-10T04:08:45.157Z"
   },
   {
    "duration": 8,
    "start_time": "2023-01-10T04:09:09.006Z"
   },
   {
    "duration": 5,
    "start_time": "2023-01-10T04:09:55.757Z"
   },
   {
    "duration": 6,
    "start_time": "2023-01-10T04:09:58.164Z"
   },
   {
    "duration": 6,
    "start_time": "2023-01-10T04:10:02.964Z"
   },
   {
    "duration": 904,
    "start_time": "2023-01-10T04:15:18.012Z"
   },
   {
    "duration": 935,
    "start_time": "2023-01-10T04:27:48.481Z"
   },
   {
    "duration": 559,
    "start_time": "2023-01-10T04:32:23.489Z"
   },
   {
    "duration": 931,
    "start_time": "2023-01-10T04:38:53.085Z"
   },
   {
    "duration": 551,
    "start_time": "2023-01-10T04:39:04.892Z"
   },
   {
    "duration": 3822,
    "start_time": "2023-01-10T04:47:24.060Z"
   },
   {
    "duration": 2252,
    "start_time": "2023-01-10T05:56:54.477Z"
   },
   {
    "duration": 2153,
    "start_time": "2023-01-10T05:57:17.668Z"
   },
   {
    "duration": 2036,
    "start_time": "2023-01-10T05:58:46.428Z"
   },
   {
    "duration": 2002,
    "start_time": "2023-01-10T06:07:02.553Z"
   },
   {
    "duration": 6,
    "start_time": "2023-01-10T06:07:07.369Z"
   },
   {
    "duration": 6,
    "start_time": "2023-01-10T06:07:10.914Z"
   },
   {
    "duration": 6,
    "start_time": "2023-01-10T06:07:15.135Z"
   },
   {
    "duration": 332,
    "start_time": "2023-01-10T06:13:44.204Z"
   },
   {
    "duration": 145,
    "start_time": "2023-01-10T06:18:25.112Z"
   },
   {
    "duration": 792,
    "start_time": "2023-01-10T06:21:18.546Z"
   },
   {
    "duration": 713,
    "start_time": "2023-01-10T06:33:19.802Z"
   },
   {
    "duration": 434,
    "start_time": "2023-01-10T06:46:33.977Z"
   },
   {
    "duration": 2236,
    "start_time": "2023-01-10T06:54:35.065Z"
   },
   {
    "duration": 4892,
    "start_time": "2023-01-10T07:11:59.539Z"
   },
   {
    "duration": 135,
    "start_time": "2023-01-10T10:36:30.547Z"
   },
   {
    "duration": 235,
    "start_time": "2023-01-10T10:38:14.971Z"
   },
   {
    "duration": 127,
    "start_time": "2023-01-10T11:01:23.189Z"
   },
   {
    "duration": 148,
    "start_time": "2023-01-10T11:02:04.261Z"
   },
   {
    "duration": 124,
    "start_time": "2023-01-10T11:02:28.462Z"
   },
   {
    "duration": 267,
    "start_time": "2023-01-10T11:19:44.308Z"
   },
   {
    "duration": 4,
    "start_time": "2023-01-10T12:44:58.397Z"
   },
   {
    "duration": 775,
    "start_time": "2023-01-10T12:48:36.523Z"
   },
   {
    "duration": 11,
    "start_time": "2023-01-10T12:50:04.090Z"
   },
   {
    "duration": 9,
    "start_time": "2023-01-10T12:50:38.000Z"
   },
   {
    "duration": 4,
    "start_time": "2023-01-10T12:50:59.037Z"
   },
   {
    "duration": 123,
    "start_time": "2023-01-10T12:52:07.632Z"
   },
   {
    "duration": 10,
    "start_time": "2023-01-10T12:56:33.321Z"
   },
   {
    "duration": 9,
    "start_time": "2023-01-10T12:57:00.583Z"
   },
   {
    "duration": 4,
    "start_time": "2023-01-10T12:57:09.442Z"
   },
   {
    "duration": 230,
    "start_time": "2023-01-10T12:57:33.514Z"
   },
   {
    "duration": 3,
    "start_time": "2023-01-10T13:01:03.243Z"
   },
   {
    "duration": 3,
    "start_time": "2023-01-10T13:01:28.998Z"
   },
   {
    "duration": 6,
    "start_time": "2023-01-10T13:05:35.794Z"
   },
   {
    "duration": 3,
    "start_time": "2023-01-10T13:06:16.228Z"
   },
   {
    "duration": 3,
    "start_time": "2023-01-10T13:12:17.429Z"
   },
   {
    "duration": 337,
    "start_time": "2023-01-10T13:14:04.394Z"
   },
   {
    "duration": 336,
    "start_time": "2023-01-10T13:14:49.640Z"
   },
   {
    "duration": 52,
    "start_time": "2023-01-10T13:45:48.111Z"
   },
   {
    "duration": 7895,
    "start_time": "2023-01-10T13:46:11.910Z"
   },
   {
    "duration": 168,
    "start_time": "2023-01-10T13:46:19.807Z"
   },
   {
    "duration": 21,
    "start_time": "2023-01-10T13:46:19.977Z"
   },
   {
    "duration": 12,
    "start_time": "2023-01-10T13:46:20.000Z"
   },
   {
    "duration": 27,
    "start_time": "2023-01-10T13:46:20.014Z"
   },
   {
    "duration": 200,
    "start_time": "2023-01-10T13:46:20.043Z"
   },
   {
    "duration": 201,
    "start_time": "2023-01-10T13:46:20.245Z"
   },
   {
    "duration": 5208,
    "start_time": "2023-01-10T13:46:20.451Z"
   },
   {
    "duration": 24,
    "start_time": "2023-01-10T13:46:25.660Z"
   },
   {
    "duration": 76,
    "start_time": "2023-01-10T13:46:25.687Z"
   },
   {
    "duration": 5,
    "start_time": "2023-01-10T13:46:25.764Z"
   },
   {
    "duration": 33,
    "start_time": "2023-01-10T13:46:25.771Z"
   },
   {
    "duration": 5,
    "start_time": "2023-01-10T13:46:25.806Z"
   },
   {
    "duration": 14,
    "start_time": "2023-01-10T13:46:25.812Z"
   },
   {
    "duration": 27,
    "start_time": "2023-01-10T13:46:25.828Z"
   },
   {
    "duration": 624,
    "start_time": "2023-01-10T13:46:25.857Z"
   },
   {
    "duration": 8574,
    "start_time": "2023-01-10T13:46:26.483Z"
   },
   {
    "duration": 512083,
    "start_time": "2023-01-10T13:46:35.059Z"
   },
   {
    "duration": 94447,
    "start_time": "2023-01-10T13:55:07.153Z"
   },
   {
    "duration": 3,
    "start_time": "2023-01-10T13:56:41.601Z"
   },
   {
    "duration": 4255,
    "start_time": "2023-01-10T13:56:41.606Z"
   },
   {
    "duration": 11,
    "start_time": "2023-01-10T13:56:45.864Z"
   },
   {
    "duration": 7,
    "start_time": "2023-01-10T13:56:45.877Z"
   },
   {
    "duration": 19,
    "start_time": "2023-01-10T13:56:45.886Z"
   },
   {
    "duration": 959,
    "start_time": "2023-01-10T13:56:45.907Z"
   },
   {
    "duration": 755,
    "start_time": "2023-01-10T13:56:46.868Z"
   },
   {
    "duration": 4135,
    "start_time": "2023-01-10T13:56:47.625Z"
   },
   {
    "duration": 2265,
    "start_time": "2023-01-10T13:56:51.767Z"
   },
   {
    "duration": 7,
    "start_time": "2023-01-10T13:56:54.033Z"
   },
   {
    "duration": 36,
    "start_time": "2023-01-10T13:56:54.042Z"
   },
   {
    "duration": 15,
    "start_time": "2023-01-10T13:56:54.080Z"
   },
   {
    "duration": 370,
    "start_time": "2023-01-10T13:56:54.097Z"
   },
   {
    "duration": 345,
    "start_time": "2023-01-10T13:56:54.469Z"
   },
   {
    "duration": 1078,
    "start_time": "2023-01-10T13:56:54.817Z"
   },
   {
    "duration": 677,
    "start_time": "2023-01-10T13:56:55.897Z"
   },
   {
    "duration": 599,
    "start_time": "2023-01-10T13:56:56.577Z"
   },
   {
    "duration": 2489,
    "start_time": "2023-01-10T13:56:57.178Z"
   },
   {
    "duration": 5367,
    "start_time": "2023-01-10T13:56:59.671Z"
   },
   {
    "duration": 289,
    "start_time": "2023-01-10T13:57:05.040Z"
   },
   {
    "duration": 151,
    "start_time": "2023-01-10T13:57:05.331Z"
   },
   {
    "duration": 285,
    "start_time": "2023-01-10T13:57:05.484Z"
   },
   {
    "duration": 482,
    "start_time": "2023-01-10T13:57:05.772Z"
   },
   {
    "duration": 0,
    "start_time": "2023-01-10T13:57:06.260Z"
   },
   {
    "duration": 351,
    "start_time": "2023-01-10T14:28:09.273Z"
   },
   {
    "duration": 4,
    "start_time": "2023-01-10T14:30:08.391Z"
   },
   {
    "duration": 365,
    "start_time": "2023-01-10T14:30:22.591Z"
   },
   {
    "duration": 371,
    "start_time": "2023-01-10T14:30:44.423Z"
   },
   {
    "duration": 353,
    "start_time": "2023-01-10T14:30:56.472Z"
   },
   {
    "duration": 7457,
    "start_time": "2023-01-10T18:16:20.547Z"
   },
   {
    "duration": 95,
    "start_time": "2023-01-10T18:16:28.006Z"
   },
   {
    "duration": 22,
    "start_time": "2023-01-10T18:16:28.103Z"
   },
   {
    "duration": 12,
    "start_time": "2023-01-10T18:16:28.126Z"
   },
   {
    "duration": 4,
    "start_time": "2023-01-10T18:16:28.140Z"
   },
   {
    "duration": 209,
    "start_time": "2023-01-10T18:16:28.146Z"
   },
   {
    "duration": 203,
    "start_time": "2023-01-10T18:16:28.357Z"
   },
   {
    "duration": 17,
    "start_time": "2023-01-10T18:16:28.562Z"
   },
   {
    "duration": 7927,
    "start_time": "2023-01-10T19:27:50.477Z"
   },
   {
    "duration": 162,
    "start_time": "2023-01-10T19:28:09.959Z"
   },
   {
    "duration": 20,
    "start_time": "2023-01-10T19:28:17.872Z"
   },
   {
    "duration": 13,
    "start_time": "2023-01-10T19:28:21.254Z"
   },
   {
    "duration": 5,
    "start_time": "2023-01-10T19:28:29.458Z"
   },
   {
    "duration": 104,
    "start_time": "2023-01-10T19:28:36.872Z"
   },
   {
    "duration": 13,
    "start_time": "2023-01-10T19:30:05.038Z"
   },
   {
    "duration": 13,
    "start_time": "2023-01-10T19:30:43.081Z"
   },
   {
    "duration": 12,
    "start_time": "2023-01-10T19:30:56.804Z"
   },
   {
    "duration": 10,
    "start_time": "2023-01-10T19:32:14.446Z"
   },
   {
    "duration": 39,
    "start_time": "2023-01-10T19:32:44.810Z"
   },
   {
    "duration": 5,
    "start_time": "2023-01-10T19:32:55.724Z"
   },
   {
    "duration": 8,
    "start_time": "2023-01-10T19:33:23.879Z"
   },
   {
    "duration": 4,
    "start_time": "2023-01-10T19:33:25.116Z"
   },
   {
    "duration": 7,
    "start_time": "2023-01-10T19:33:30.381Z"
   },
   {
    "duration": 6,
    "start_time": "2023-01-10T19:33:31.645Z"
   },
   {
    "duration": 6,
    "start_time": "2023-01-10T19:34:19.053Z"
   },
   {
    "duration": 2098,
    "start_time": "2023-01-10T19:46:55.037Z"
   },
   {
    "duration": 36,
    "start_time": "2023-01-10T20:03:41.241Z"
   },
   {
    "duration": 7,
    "start_time": "2023-01-10T20:05:29.207Z"
   },
   {
    "duration": 43,
    "start_time": "2023-01-10T20:06:15.140Z"
   },
   {
    "duration": 458,
    "start_time": "2023-01-10T20:11:25.701Z"
   },
   {
    "duration": 72050,
    "start_time": "2023-01-10T20:13:46.055Z"
   },
   {
    "duration": 9134,
    "start_time": "2023-01-10T20:15:52.044Z"
   },
   {
    "duration": 42,
    "start_time": "2023-01-10T20:22:14.038Z"
   },
   {
    "duration": 5,
    "start_time": "2023-01-10T20:22:17.753Z"
   },
   {
    "duration": 29,
    "start_time": "2023-01-10T20:23:03.771Z"
   },
   {
    "duration": 35,
    "start_time": "2023-01-10T20:24:41.267Z"
   },
   {
    "duration": 43,
    "start_time": "2023-01-10T20:33:25.900Z"
   },
   {
    "duration": 345,
    "start_time": "2023-01-10T20:39:42.697Z"
   },
   {
    "duration": 9769,
    "start_time": "2023-01-11T04:30:39.411Z"
   },
   {
    "duration": 182,
    "start_time": "2023-01-11T04:30:56.311Z"
   },
   {
    "duration": 36,
    "start_time": "2023-01-11T04:30:59.711Z"
   },
   {
    "duration": 20,
    "start_time": "2023-01-11T04:31:03.549Z"
   },
   {
    "duration": 7,
    "start_time": "2023-01-11T04:31:09.008Z"
   },
   {
    "duration": 21,
    "start_time": "2023-01-11T04:31:13.013Z"
   },
   {
    "duration": 15,
    "start_time": "2023-01-11T04:31:16.463Z"
   },
   {
    "duration": 19,
    "start_time": "2023-01-11T04:31:22.181Z"
   },
   {
    "duration": 18,
    "start_time": "2023-01-11T04:31:31.421Z"
   },
   {
    "duration": 64,
    "start_time": "2023-01-11T04:31:36.374Z"
   },
   {
    "duration": 5,
    "start_time": "2023-01-11T04:31:39.865Z"
   },
   {
    "duration": 12,
    "start_time": "2023-01-11T04:31:42.654Z"
   },
   {
    "duration": 5,
    "start_time": "2023-01-11T04:31:45.304Z"
   },
   {
    "duration": 8,
    "start_time": "2023-01-11T04:31:50.094Z"
   },
   {
    "duration": 6,
    "start_time": "2023-01-11T04:31:54.332Z"
   },
   {
    "duration": 9,
    "start_time": "2023-01-11T04:31:59.831Z"
   },
   {
    "duration": 50,
    "start_time": "2023-01-11T04:32:09.562Z"
   },
   {
    "duration": 8,
    "start_time": "2023-01-11T04:32:24.061Z"
   },
   {
    "duration": 191,
    "start_time": "2023-01-11T04:32:27.167Z"
   },
   {
    "duration": 559,
    "start_time": "2023-01-11T04:32:35.527Z"
   },
   {
    "duration": 13841,
    "start_time": "2023-01-11T04:44:39.203Z"
   },
   {
    "duration": 33242,
    "start_time": "2023-01-11T04:45:56.356Z"
   },
   {
    "duration": 8400,
    "start_time": "2023-01-11T04:56:02.900Z"
   },
   {
    "duration": 11105,
    "start_time": "2023-01-11T05:01:04.133Z"
   },
   {
    "duration": 39099,
    "start_time": "2023-01-11T05:05:15.574Z"
   },
   {
    "duration": 10947,
    "start_time": "2023-01-11T05:06:46.386Z"
   },
   {
    "duration": 178674,
    "start_time": "2023-01-11T05:08:18.314Z"
   },
   {
    "duration": 161172,
    "start_time": "2023-01-11T05:12:31.263Z"
   },
   {
    "duration": 172994,
    "start_time": "2023-01-11T05:16:46.712Z"
   },
   {
    "duration": 11462,
    "start_time": "2023-01-11T05:21:07.418Z"
   },
   {
    "duration": 11606,
    "start_time": "2023-01-11T05:22:02.417Z"
   },
   {
    "duration": 8230,
    "start_time": "2023-01-11T05:23:58.171Z"
   },
   {
    "duration": 19708,
    "start_time": "2023-01-11T05:24:30.524Z"
   },
   {
    "duration": 11453,
    "start_time": "2023-01-11T05:28:19.287Z"
   },
   {
    "duration": 56,
    "start_time": "2023-01-11T05:32:18.955Z"
   },
   {
    "duration": 6,
    "start_time": "2023-01-11T05:32:26.465Z"
   },
   {
    "duration": 69,
    "start_time": "2023-01-11T05:33:06.084Z"
   },
   {
    "duration": 49,
    "start_time": "2023-01-11T05:36:52.423Z"
   },
   {
    "duration": 462,
    "start_time": "2023-01-11T05:38:38.366Z"
   },
   {
    "duration": 481,
    "start_time": "2023-01-11T05:43:36.388Z"
   },
   {
    "duration": 10212,
    "start_time": "2023-01-11T06:24:14.878Z"
   },
   {
    "duration": 299,
    "start_time": "2023-01-11T06:27:09.816Z"
   },
   {
    "duration": 113,
    "start_time": "2023-01-11T06:29:15.625Z"
   },
   {
    "duration": 11,
    "start_time": "2023-01-11T06:29:21.831Z"
   },
   {
    "duration": 6,
    "start_time": "2023-01-11T06:29:23.361Z"
   },
   {
    "duration": 26,
    "start_time": "2023-01-11T06:30:42.723Z"
   },
   {
    "duration": 23,
    "start_time": "2023-01-11T06:32:16.306Z"
   },
   {
    "duration": 166,
    "start_time": "2023-01-11T06:34:13.092Z"
   },
   {
    "duration": 167,
    "start_time": "2023-01-11T06:35:16.149Z"
   },
   {
    "duration": 97,
    "start_time": "2023-01-11T06:36:43.656Z"
   },
   {
    "duration": 61,
    "start_time": "2023-01-11T06:38:25.591Z"
   },
   {
    "duration": 34,
    "start_time": "2023-01-11T06:43:49.943Z"
   },
   {
    "duration": 270,
    "start_time": "2023-01-11T06:45:19.865Z"
   },
   {
    "duration": 178,
    "start_time": "2023-01-11T06:46:14.940Z"
   },
   {
    "duration": 12,
    "start_time": "2023-01-11T07:51:37.367Z"
   },
   {
    "duration": 284,
    "start_time": "2023-01-11T07:52:04.668Z"
   },
   {
    "duration": 43,
    "start_time": "2023-01-11T08:01:19.797Z"
   },
   {
    "duration": 20,
    "start_time": "2023-01-11T08:02:30.097Z"
   },
   {
    "duration": 36,
    "start_time": "2023-01-11T08:03:21.597Z"
   },
   {
    "duration": 4,
    "start_time": "2023-01-11T08:03:41.384Z"
   },
   {
    "duration": 33,
    "start_time": "2023-01-11T08:03:46.903Z"
   },
   {
    "duration": 31118,
    "start_time": "2023-01-11T08:06:27.397Z"
   },
   {
    "duration": 63001,
    "start_time": "2023-01-11T08:08:37.283Z"
   },
   {
    "duration": 32132,
    "start_time": "2023-01-11T08:10:32.309Z"
   },
   {
    "duration": 13083,
    "start_time": "2023-01-11T08:11:23.932Z"
   },
   {
    "duration": 123535,
    "start_time": "2023-01-11T08:12:25.716Z"
   },
   {
    "duration": 21905,
    "start_time": "2023-01-11T08:16:47.426Z"
   },
   {
    "duration": 39360,
    "start_time": "2023-01-11T08:22:12.268Z"
   },
   {
    "duration": 20949,
    "start_time": "2023-01-11T08:44:29.763Z"
   },
   {
    "duration": 8474,
    "start_time": "2023-01-11T08:45:20.465Z"
   },
   {
    "duration": 19720,
    "start_time": "2023-01-11T08:46:08.748Z"
   },
   {
    "duration": 11834,
    "start_time": "2023-01-11T08:46:38.404Z"
   },
   {
    "duration": 11229,
    "start_time": "2023-01-11T08:47:29.907Z"
   },
   {
    "duration": 505511,
    "start_time": "2023-01-11T08:48:12.828Z"
   },
   {
    "duration": 890499,
    "start_time": "2023-01-11T09:04:58.884Z"
   },
   {
    "duration": 323683,
    "start_time": "2023-01-11T09:21:06.437Z"
   },
   {
    "duration": 546680,
    "start_time": "2023-01-11T09:29:29.307Z"
   },
   {
    "duration": 7439,
    "start_time": "2023-01-11T10:21:40.545Z"
   },
   {
    "duration": 95,
    "start_time": "2023-01-11T10:21:47.986Z"
   },
   {
    "duration": 26,
    "start_time": "2023-01-11T10:21:48.083Z"
   },
   {
    "duration": 31,
    "start_time": "2023-01-11T10:21:48.112Z"
   },
   {
    "duration": 4,
    "start_time": "2023-01-11T10:21:48.145Z"
   },
   {
    "duration": 14,
    "start_time": "2023-01-11T10:21:48.151Z"
   },
   {
    "duration": 10,
    "start_time": "2023-01-11T10:21:48.166Z"
   },
   {
    "duration": 10,
    "start_time": "2023-01-11T10:21:48.177Z"
   },
   {
    "duration": 21,
    "start_time": "2023-01-11T10:21:48.188Z"
   },
   {
    "duration": 50,
    "start_time": "2023-01-11T10:21:48.211Z"
   },
   {
    "duration": 4,
    "start_time": "2023-01-11T10:21:48.262Z"
   },
   {
    "duration": 18,
    "start_time": "2023-01-11T10:21:48.268Z"
   },
   {
    "duration": 10,
    "start_time": "2023-01-11T10:21:48.287Z"
   },
   {
    "duration": 30,
    "start_time": "2023-01-11T10:21:48.300Z"
   },
   {
    "duration": 11,
    "start_time": "2023-01-11T10:21:48.331Z"
   },
   {
    "duration": 12,
    "start_time": "2023-01-11T10:21:48.344Z"
   },
   {
    "duration": 35,
    "start_time": "2023-01-11T10:21:48.358Z"
   },
   {
    "duration": 7,
    "start_time": "2023-01-11T10:21:48.394Z"
   },
   {
    "duration": 95,
    "start_time": "2023-01-11T10:21:48.404Z"
   },
   {
    "duration": 572,
    "start_time": "2023-01-11T10:21:48.504Z"
   },
   {
    "duration": 3,
    "start_time": "2023-01-11T10:21:49.077Z"
   },
   {
    "duration": 34,
    "start_time": "2023-01-11T10:21:49.097Z"
   },
   {
    "duration": 435624,
    "start_time": "2023-01-11T10:21:49.133Z"
   },
   {
    "duration": 3,
    "start_time": "2023-01-11T10:29:04.759Z"
   },
   {
    "duration": 61,
    "start_time": "2023-01-11T10:29:04.763Z"
   },
   {
    "duration": 6,
    "start_time": "2023-01-11T10:29:04.826Z"
   },
   {
    "duration": 74,
    "start_time": "2023-01-11T10:29:04.834Z"
   },
   {
    "duration": 3,
    "start_time": "2023-01-11T10:29:04.910Z"
   },
   {
    "duration": 874,
    "start_time": "2023-01-11T10:29:04.998Z"
   },
   {
    "duration": 2,
    "start_time": "2023-01-11T10:29:05.874Z"
   },
   {
    "duration": 684751,
    "start_time": "2023-01-11T10:29:05.878Z"
   },
   {
    "duration": 9,
    "start_time": "2023-01-11T10:40:30.631Z"
   },
   {
    "duration": 74,
    "start_time": "2023-01-11T10:40:30.642Z"
   },
   {
    "duration": 82,
    "start_time": "2023-01-11T10:40:30.718Z"
   },
   {
    "duration": 97,
    "start_time": "2023-01-11T10:40:30.802Z"
   },
   {
    "duration": 286,
    "start_time": "2023-01-11T10:40:30.901Z"
   },
   {
    "duration": 9,
    "start_time": "2023-01-11T10:40:31.189Z"
   },
   {
    "duration": 247230,
    "start_time": "2023-01-11T10:40:31.201Z"
   },
   {
    "duration": 71,
    "start_time": "2023-01-11T10:44:38.432Z"
   },
   {
    "duration": 3,
    "start_time": "2023-01-11T10:44:38.505Z"
   },
   {
    "duration": 599,
    "start_time": "2023-01-11T10:44:38.513Z"
   },
   {
    "duration": 2,
    "start_time": "2023-01-11T10:44:39.113Z"
   },
   {
    "duration": 441398,
    "start_time": "2023-01-11T10:44:39.117Z"
   },
   {
    "duration": 127,
    "start_time": "2023-01-11T10:52:00.518Z"
   },
   {
    "duration": 0,
    "start_time": "2023-01-11T10:52:00.646Z"
   },
   {
    "duration": 0,
    "start_time": "2023-01-11T10:52:00.647Z"
   },
   {
    "duration": 0,
    "start_time": "2023-01-11T10:52:00.648Z"
   },
   {
    "duration": 0,
    "start_time": "2023-01-11T10:52:00.650Z"
   },
   {
    "duration": 0,
    "start_time": "2023-01-11T10:52:00.650Z"
   },
   {
    "duration": 3149,
    "start_time": "2023-01-11T17:04:17.916Z"
   },
   {
    "duration": 47,
    "start_time": "2023-01-11T17:04:21.067Z"
   },
   {
    "duration": 19,
    "start_time": "2023-01-11T17:04:21.115Z"
   },
   {
    "duration": 12,
    "start_time": "2023-01-11T17:04:21.136Z"
   },
   {
    "duration": 4,
    "start_time": "2023-01-11T17:04:21.150Z"
   },
   {
    "duration": 15,
    "start_time": "2023-01-11T17:04:21.155Z"
   },
   {
    "duration": 10,
    "start_time": "2023-01-11T17:04:21.171Z"
   },
   {
    "duration": 11,
    "start_time": "2023-01-11T17:04:21.201Z"
   },
   {
    "duration": 11,
    "start_time": "2023-01-11T17:04:21.214Z"
   },
   {
    "duration": 37,
    "start_time": "2023-01-11T17:04:21.227Z"
   },
   {
    "duration": 3,
    "start_time": "2023-01-11T17:04:21.266Z"
   },
   {
    "duration": 18,
    "start_time": "2023-01-11T17:04:21.271Z"
   },
   {
    "duration": 11,
    "start_time": "2023-01-11T17:04:21.299Z"
   },
   {
    "duration": 23,
    "start_time": "2023-01-11T17:04:21.312Z"
   },
   {
    "duration": 10,
    "start_time": "2023-01-11T17:04:21.337Z"
   },
   {
    "duration": 16,
    "start_time": "2023-01-11T17:04:21.348Z"
   },
   {
    "duration": 46,
    "start_time": "2023-01-11T17:04:21.365Z"
   },
   {
    "duration": 7,
    "start_time": "2023-01-11T17:04:21.412Z"
   },
   {
    "duration": 85,
    "start_time": "2023-01-11T17:04:21.421Z"
   },
   {
    "duration": 411,
    "start_time": "2023-01-11T17:04:21.508Z"
   },
   {
    "duration": 3,
    "start_time": "2023-01-11T17:04:21.921Z"
   },
   {
    "duration": 9,
    "start_time": "2023-01-11T17:04:21.926Z"
   },
   {
    "duration": 20994,
    "start_time": "2023-01-11T17:04:21.936Z"
   },
   {
    "duration": 3,
    "start_time": "2023-01-11T17:04:42.932Z"
   },
   {
    "duration": 47,
    "start_time": "2023-01-11T17:04:42.936Z"
   },
   {
    "duration": 5,
    "start_time": "2023-01-11T17:04:42.985Z"
   },
   {
    "duration": 120,
    "start_time": "2023-01-11T17:04:42.991Z"
   },
   {
    "duration": 85,
    "start_time": "2023-01-11T17:04:43.116Z"
   },
   {
    "duration": 288,
    "start_time": "2023-01-11T17:04:43.206Z"
   },
   {
    "duration": 14,
    "start_time": "2023-01-11T17:04:43.495Z"
   },
   {
    "duration": 3552,
    "start_time": "2023-01-11T17:04:43.511Z"
   },
   {
    "duration": 8,
    "start_time": "2023-01-11T17:04:47.064Z"
   },
   {
    "duration": 8,
    "start_time": "2023-01-11T17:04:47.074Z"
   },
   {
    "duration": 38,
    "start_time": "2023-01-11T17:04:47.083Z"
   },
   {
    "duration": 3,
    "start_time": "2023-01-11T17:04:47.207Z"
   },
   {
    "duration": 206,
    "start_time": "2023-01-11T17:04:47.212Z"
   },
   {
    "duration": 3,
    "start_time": "2023-01-11T17:04:47.419Z"
   },
   {
    "duration": 4386,
    "start_time": "2023-01-11T17:04:47.424Z"
   },
   {
    "duration": 97,
    "start_time": "2023-01-11T17:04:51.812Z"
   },
   {
    "duration": 3,
    "start_time": "2023-01-11T17:04:51.912Z"
   },
   {
    "duration": 250,
    "start_time": "2023-01-11T17:04:51.916Z"
   },
   {
    "duration": 2,
    "start_time": "2023-01-11T17:04:52.168Z"
   },
   {
    "duration": 3873,
    "start_time": "2023-01-11T17:04:52.172Z"
   },
   {
    "duration": 154,
    "start_time": "2023-01-11T17:04:56.047Z"
   },
   {
    "duration": 113,
    "start_time": "2023-01-11T17:04:56.202Z"
   },
   {
    "duration": 0,
    "start_time": "2023-01-11T17:04:56.316Z"
   },
   {
    "duration": 0,
    "start_time": "2023-01-11T17:04:56.318Z"
   },
   {
    "duration": 0,
    "start_time": "2023-01-11T17:04:56.319Z"
   },
   {
    "duration": 0,
    "start_time": "2023-01-11T17:04:56.320Z"
   },
   {
    "duration": 20,
    "start_time": "2023-01-11T17:07:39.373Z"
   },
   {
    "duration": 12,
    "start_time": "2023-01-11T17:10:04.030Z"
   },
   {
    "duration": 22,
    "start_time": "2023-01-11T17:14:14.449Z"
   },
   {
    "duration": 21,
    "start_time": "2023-01-11T17:15:08.916Z"
   },
   {
    "duration": 22,
    "start_time": "2023-01-11T17:15:25.361Z"
   },
   {
    "duration": 5,
    "start_time": "2023-01-11T17:16:34.707Z"
   },
   {
    "duration": 21,
    "start_time": "2023-01-11T17:17:03.377Z"
   },
   {
    "duration": 3019,
    "start_time": "2023-01-11T17:34:44.647Z"
   },
   {
    "duration": 46,
    "start_time": "2023-01-11T17:34:47.668Z"
   },
   {
    "duration": 19,
    "start_time": "2023-01-11T17:34:47.715Z"
   },
   {
    "duration": 11,
    "start_time": "2023-01-11T17:34:47.735Z"
   },
   {
    "duration": 4,
    "start_time": "2023-01-11T17:34:47.748Z"
   },
   {
    "duration": 12,
    "start_time": "2023-01-11T17:34:47.753Z"
   },
   {
    "duration": 40,
    "start_time": "2023-01-11T17:34:47.766Z"
   },
   {
    "duration": 10,
    "start_time": "2023-01-11T17:34:47.808Z"
   },
   {
    "duration": 19,
    "start_time": "2023-01-11T17:34:47.819Z"
   },
   {
    "duration": 39,
    "start_time": "2023-01-11T17:34:47.840Z"
   },
   {
    "duration": 3,
    "start_time": "2023-01-11T17:34:47.881Z"
   },
   {
    "duration": 17,
    "start_time": "2023-01-11T17:34:47.886Z"
   },
   {
    "duration": 6,
    "start_time": "2023-01-11T17:34:47.905Z"
   },
   {
    "duration": 9,
    "start_time": "2023-01-11T17:34:47.914Z"
   },
   {
    "duration": 5,
    "start_time": "2023-01-11T17:34:47.925Z"
   },
   {
    "duration": 7,
    "start_time": "2023-01-11T17:34:47.937Z"
   },
   {
    "duration": 39,
    "start_time": "2023-01-11T17:34:47.946Z"
   },
   {
    "duration": 11,
    "start_time": "2023-01-11T17:34:47.986Z"
   },
   {
    "duration": 110,
    "start_time": "2023-01-11T17:34:47.998Z"
   },
   {
    "duration": 393,
    "start_time": "2023-01-11T17:34:48.116Z"
   },
   {
    "duration": 3,
    "start_time": "2023-01-11T17:34:48.511Z"
   },
   {
    "duration": 12,
    "start_time": "2023-01-11T17:34:48.516Z"
   },
   {
    "duration": 20277,
    "start_time": "2023-01-11T17:34:48.529Z"
   },
   {
    "duration": 2,
    "start_time": "2023-01-11T17:35:08.808Z"
   },
   {
    "duration": 60,
    "start_time": "2023-01-11T17:35:08.811Z"
   },
   {
    "duration": 6,
    "start_time": "2023-01-11T17:35:08.872Z"
   },
   {
    "duration": 126,
    "start_time": "2023-01-11T17:35:08.879Z"
   },
   {
    "duration": 4,
    "start_time": "2023-01-11T17:35:09.014Z"
   },
   {
    "duration": 442,
    "start_time": "2023-01-11T17:35:09.019Z"
   },
   {
    "duration": 2,
    "start_time": "2023-01-11T17:35:09.463Z"
   },
   {
    "duration": 3523,
    "start_time": "2023-01-11T17:35:09.467Z"
   },
   {
    "duration": 24,
    "start_time": "2023-01-11T17:35:12.991Z"
   },
   {
    "duration": 20,
    "start_time": "2023-01-11T17:35:13.017Z"
   },
   {
    "duration": 77,
    "start_time": "2023-01-11T17:35:13.038Z"
   },
   {
    "duration": 92,
    "start_time": "2023-01-11T17:35:13.117Z"
   },
   {
    "duration": 120,
    "start_time": "2023-01-11T17:35:13.211Z"
   },
   {
    "duration": 3,
    "start_time": "2023-01-11T17:35:13.332Z"
   },
   {
    "duration": 4442,
    "start_time": "2023-01-11T17:35:13.336Z"
   },
   {
    "duration": 45,
    "start_time": "2023-01-11T17:35:17.780Z"
   },
   {
    "duration": 9,
    "start_time": "2023-01-11T17:35:17.906Z"
   },
   {
    "duration": 238,
    "start_time": "2023-01-11T17:35:17.920Z"
   },
   {
    "duration": 2,
    "start_time": "2023-01-11T17:35:18.160Z"
   },
   {
    "duration": 3962,
    "start_time": "2023-01-11T17:35:18.164Z"
   },
   {
    "duration": 156,
    "start_time": "2023-01-11T17:35:22.128Z"
   },
   {
    "duration": 29,
    "start_time": "2023-01-11T17:35:22.286Z"
   },
   {
    "duration": 11,
    "start_time": "2023-01-11T17:35:22.317Z"
   },
   {
    "duration": 39,
    "start_time": "2023-01-11T17:35:22.330Z"
   },
   {
    "duration": 3,
    "start_time": "2023-01-11T17:35:22.371Z"
   },
   {
    "duration": 32,
    "start_time": "2023-01-11T17:35:22.376Z"
   }
  ],
  "kernelspec": {
   "display_name": "Python 3 (ipykernel)",
   "language": "python",
   "name": "python3"
  },
  "language_info": {
   "codemirror_mode": {
    "name": "ipython",
    "version": 3
   },
   "file_extension": ".py",
   "mimetype": "text/x-python",
   "name": "python",
   "nbconvert_exporter": "python",
   "pygments_lexer": "ipython3",
   "version": "3.9.16"
  },
  "toc": {
   "base_numbering": 1,
   "nav_menu": {
    "height": "131px",
    "width": "281px"
   },
   "number_sections": true,
   "sideBar": true,
   "skip_h1_title": true,
   "title_cell": "Содержание",
   "title_sidebar": "Contents",
   "toc_cell": true,
   "toc_position": {
    "height": "calc(100% - 180px)",
    "left": "10px",
    "top": "150px",
    "width": "165px"
   },
   "toc_section_display": true,
   "toc_window_display": false
  }
 },
 "nbformat": 4,
 "nbformat_minor": 2
}
