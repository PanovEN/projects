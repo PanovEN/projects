{
 "cells": [
  {
   "cell_type": "markdown",
   "metadata": {
    "toc": true
   },
   "source": [
    "<h1>Содержание<span class=\"tocSkip\"></span></h1>\n",
    "<div class=\"toc\"><ul class=\"toc-item\"><li><span><a href=\"#Восстановление-золота-из-руды\" data-toc-modified-id=\"Восстановление-золота-из-руды-1\"><span class=\"toc-item-num\">1&nbsp;&nbsp;</span>Восстановление золота из руды</a></span><ul class=\"toc-item\"><li><span><a href=\"#Подготовка-данных\" data-toc-modified-id=\"Подготовка-данных-1.1\"><span class=\"toc-item-num\">1.1&nbsp;&nbsp;</span>Подготовка данных</a></span></li><li><span><a href=\"#Анализ-данных\" data-toc-modified-id=\"Анализ-данных-1.2\"><span class=\"toc-item-num\">1.2&nbsp;&nbsp;</span>Анализ данных</a></span></li><li><span><a href=\"#Модель\" data-toc-modified-id=\"Модель-1.3\"><span class=\"toc-item-num\">1.3&nbsp;&nbsp;</span>Модель</a></span></li><li><span><a href=\"#Чек-лист-готовности-проекта\" data-toc-modified-id=\"Чек-лист-готовности-проекта-1.4\"><span class=\"toc-item-num\">1.4&nbsp;&nbsp;</span>Чек-лист готовности проекта</a></span></li></ul></li></ul></div>"
   ]
  },
  {
   "cell_type": "markdown",
   "metadata": {},
   "source": [
    "# Восстановление золота из руды"
   ]
  },
  {
   "cell_type": "markdown",
   "metadata": {},
   "source": [
    "Подготовьте прототип модели машинного обучения для «Цифры». Компания разрабатывает решения для эффективной работы промышленных предприятий.\n",
    "\n",
    "Модель должна предсказать коэффициент восстановления золота из золотосодержащей руды. Используйте данные с параметрами добычи и очистки. \n",
    "\n",
    "Модель поможет оптимизировать производство, чтобы не запускать предприятие с убыточными характеристиками.\n",
    "\n",
    "Вам нужно:\n",
    "\n",
    "1. Подготовить данные;\n",
    "2. Провести исследовательский анализ данных;\n",
    "3. Построить и обучить модель.\n",
    "\n",
    "Чтобы выполнить проект, обращайтесь к библиотекам *pandas*, *matplotlib* и *sklearn.* Вам поможет их документация."
   ]
  },
  {
   "cell_type": "markdown",
   "metadata": {},
   "source": [
    "## Подготовка данных"
   ]
  },
  {
   "cell_type": "code",
   "execution_count": 1,
   "metadata": {},
   "outputs": [
    {
     "name": "stdout",
     "output_type": "stream",
     "text": [
      "Collecting alive_progress\n",
      "  Using cached alive_progress-3.0.1-py3-none-any.whl (72 kB)\n",
      "Collecting grapheme==0.6.0\n",
      "  Using cached grapheme-0.6.0.tar.gz (207 kB)\n",
      "  Preparing metadata (setup.py): started\n",
      "  Preparing metadata (setup.py): finished with status 'done'\n",
      "Collecting about-time==4.2.1\n",
      "  Using cached about_time-4.2.1-py3-none-any.whl (13 kB)\n",
      "Building wheels for collected packages: grapheme\n",
      "  Building wheel for grapheme (setup.py): started\n",
      "  Building wheel for grapheme (setup.py): finished with status 'done'\n",
      "  Created wheel for grapheme: filename=grapheme-0.6.0-py3-none-any.whl size=210079 sha256=8efc886ad8cc3540a354778b6ce28a33410c406632f1e1a10522aa867673dd18\n",
      "  Stored in directory: c:\\users\\евгений\\appdata\\local\\pip\\cache\\wheels\\91\\a8\\bc\\5b55a10f763ee2c066ff2d94058d7dd64d570fc45adc027b3d\n",
      "Successfully built grapheme\n",
      "Installing collected packages: grapheme, about-time, alive_progress\n",
      "Successfully installed about-time-4.2.1 alive_progress-3.0.1 grapheme-0.6.0\n"
     ]
    }
   ],
   "source": [
    "# Импортируем необходимые библиотеки.\n",
    "! pip install -U \"alive_progress\"\n",
    "import pandas as pd\n",
    "import numpy as np\n",
    "import matplotlib.pyplot as plt\n",
    "from alive_progress import alive_bar\n",
    "from sklearn.dummy import DummyRegressor\n",
    "from sklearn.ensemble import RandomForestRegressor\n",
    "from sklearn.tree import DecisionTreeRegressor\n",
    "from sklearn.preprocessing import StandardScaler\n",
    "from sklearn.metrics import mean_absolute_error, make_scorer\n",
    "from sklearn.model_selection import train_test_split, GridSearchCV\n",
    "from sklearn.pipeline import Pipeline, make_pipeline\n",
    "from scipy import stats as st\n",
    "import warnings\n",
    "warnings.filterwarnings('ignore')"
   ]
  },
  {
   "cell_type": "code",
   "execution_count": 3,
   "metadata": {},
   "outputs": [
    {
     "ename": "FileNotFoundError",
     "evalue": "[Errno 2] No such file or directory: '/datasets/gold_recovery_train_new.csv'",
     "output_type": "error",
     "traceback": [
      "\u001b[1;31m---------------------------------------------------------------------------\u001b[0m",
      "\u001b[1;31mFileNotFoundError\u001b[0m                         Traceback (most recent call last)",
      "\u001b[1;32m~\\AppData\\Local\\Temp\\ipykernel_5804\\1945531096.py\u001b[0m in \u001b[0;36m<module>\u001b[1;34m\u001b[0m\n\u001b[0;32m      1\u001b[0m \u001b[1;31m# Импорт данных\u001b[0m\u001b[1;33m\u001b[0m\u001b[1;33m\u001b[0m\u001b[0m\n\u001b[1;32m----> 2\u001b[1;33m \u001b[0mdf_train\u001b[0m \u001b[1;33m=\u001b[0m \u001b[0mpd\u001b[0m\u001b[1;33m.\u001b[0m\u001b[0mread_csv\u001b[0m\u001b[1;33m(\u001b[0m\u001b[1;34m'/datasets/gold_recovery_train_new.csv'\u001b[0m\u001b[1;33m,\u001b[0m \u001b[0mindex_col\u001b[0m\u001b[1;33m=\u001b[0m\u001b[1;33m[\u001b[0m\u001b[1;34m'date'\u001b[0m\u001b[1;33m]\u001b[0m\u001b[1;33m)\u001b[0m\u001b[1;33m\u001b[0m\u001b[1;33m\u001b[0m\u001b[0m\n\u001b[0m\u001b[0;32m      3\u001b[0m \u001b[0mdf_test\u001b[0m \u001b[1;33m=\u001b[0m \u001b[0mpd\u001b[0m\u001b[1;33m.\u001b[0m\u001b[0mread_csv\u001b[0m\u001b[1;33m(\u001b[0m\u001b[1;34m'/datasets/gold_recovery_test_new.csv'\u001b[0m\u001b[1;33m,\u001b[0m \u001b[0mindex_col\u001b[0m\u001b[1;33m=\u001b[0m\u001b[1;33m[\u001b[0m\u001b[1;34m'date'\u001b[0m\u001b[1;33m]\u001b[0m\u001b[1;33m)\u001b[0m\u001b[1;33m\u001b[0m\u001b[1;33m\u001b[0m\u001b[0m\n\u001b[0;32m      4\u001b[0m \u001b[0mdf_full\u001b[0m \u001b[1;33m=\u001b[0m \u001b[0mpd\u001b[0m\u001b[1;33m.\u001b[0m\u001b[0mread_csv\u001b[0m\u001b[1;33m(\u001b[0m\u001b[1;34m'/datasets/gold_recovery_full_new.csv'\u001b[0m\u001b[1;33m,\u001b[0m \u001b[0mindex_col\u001b[0m\u001b[1;33m=\u001b[0m\u001b[1;33m[\u001b[0m\u001b[1;34m'date'\u001b[0m\u001b[1;33m]\u001b[0m\u001b[1;33m)\u001b[0m\u001b[1;33m\u001b[0m\u001b[1;33m\u001b[0m\u001b[0m\n",
      "\u001b[1;32mc:\\Anaconda3\\lib\\site-packages\\pandas\\util\\_decorators.py\u001b[0m in \u001b[0;36mwrapper\u001b[1;34m(*args, **kwargs)\u001b[0m\n\u001b[0;32m    309\u001b[0m                     \u001b[0mstacklevel\u001b[0m\u001b[1;33m=\u001b[0m\u001b[0mstacklevel\u001b[0m\u001b[1;33m,\u001b[0m\u001b[1;33m\u001b[0m\u001b[1;33m\u001b[0m\u001b[0m\n\u001b[0;32m    310\u001b[0m                 )\n\u001b[1;32m--> 311\u001b[1;33m             \u001b[1;32mreturn\u001b[0m \u001b[0mfunc\u001b[0m\u001b[1;33m(\u001b[0m\u001b[1;33m*\u001b[0m\u001b[0margs\u001b[0m\u001b[1;33m,\u001b[0m \u001b[1;33m**\u001b[0m\u001b[0mkwargs\u001b[0m\u001b[1;33m)\u001b[0m\u001b[1;33m\u001b[0m\u001b[1;33m\u001b[0m\u001b[0m\n\u001b[0m\u001b[0;32m    312\u001b[0m \u001b[1;33m\u001b[0m\u001b[0m\n\u001b[0;32m    313\u001b[0m         \u001b[1;32mreturn\u001b[0m \u001b[0mwrapper\u001b[0m\u001b[1;33m\u001b[0m\u001b[1;33m\u001b[0m\u001b[0m\n",
      "\u001b[1;32mc:\\Anaconda3\\lib\\site-packages\\pandas\\io\\parsers\\readers.py\u001b[0m in \u001b[0;36mread_csv\u001b[1;34m(filepath_or_buffer, sep, delimiter, header, names, index_col, usecols, squeeze, prefix, mangle_dupe_cols, dtype, engine, converters, true_values, false_values, skipinitialspace, skiprows, skipfooter, nrows, na_values, keep_default_na, na_filter, verbose, skip_blank_lines, parse_dates, infer_datetime_format, keep_date_col, date_parser, dayfirst, cache_dates, iterator, chunksize, compression, thousands, decimal, lineterminator, quotechar, quoting, doublequote, escapechar, comment, encoding, encoding_errors, dialect, error_bad_lines, warn_bad_lines, on_bad_lines, delim_whitespace, low_memory, memory_map, float_precision, storage_options)\u001b[0m\n\u001b[0;32m    676\u001b[0m     \u001b[0mkwds\u001b[0m\u001b[1;33m.\u001b[0m\u001b[0mupdate\u001b[0m\u001b[1;33m(\u001b[0m\u001b[0mkwds_defaults\u001b[0m\u001b[1;33m)\u001b[0m\u001b[1;33m\u001b[0m\u001b[1;33m\u001b[0m\u001b[0m\n\u001b[0;32m    677\u001b[0m \u001b[1;33m\u001b[0m\u001b[0m\n\u001b[1;32m--> 678\u001b[1;33m     \u001b[1;32mreturn\u001b[0m \u001b[0m_read\u001b[0m\u001b[1;33m(\u001b[0m\u001b[0mfilepath_or_buffer\u001b[0m\u001b[1;33m,\u001b[0m \u001b[0mkwds\u001b[0m\u001b[1;33m)\u001b[0m\u001b[1;33m\u001b[0m\u001b[1;33m\u001b[0m\u001b[0m\n\u001b[0m\u001b[0;32m    679\u001b[0m \u001b[1;33m\u001b[0m\u001b[0m\n\u001b[0;32m    680\u001b[0m \u001b[1;33m\u001b[0m\u001b[0m\n",
      "\u001b[1;32mc:\\Anaconda3\\lib\\site-packages\\pandas\\io\\parsers\\readers.py\u001b[0m in \u001b[0;36m_read\u001b[1;34m(filepath_or_buffer, kwds)\u001b[0m\n\u001b[0;32m    573\u001b[0m \u001b[1;33m\u001b[0m\u001b[0m\n\u001b[0;32m    574\u001b[0m     \u001b[1;31m# Create the parser.\u001b[0m\u001b[1;33m\u001b[0m\u001b[1;33m\u001b[0m\u001b[0m\n\u001b[1;32m--> 575\u001b[1;33m     \u001b[0mparser\u001b[0m \u001b[1;33m=\u001b[0m \u001b[0mTextFileReader\u001b[0m\u001b[1;33m(\u001b[0m\u001b[0mfilepath_or_buffer\u001b[0m\u001b[1;33m,\u001b[0m \u001b[1;33m**\u001b[0m\u001b[0mkwds\u001b[0m\u001b[1;33m)\u001b[0m\u001b[1;33m\u001b[0m\u001b[1;33m\u001b[0m\u001b[0m\n\u001b[0m\u001b[0;32m    576\u001b[0m \u001b[1;33m\u001b[0m\u001b[0m\n\u001b[0;32m    577\u001b[0m     \u001b[1;32mif\u001b[0m \u001b[0mchunksize\u001b[0m \u001b[1;32mor\u001b[0m \u001b[0miterator\u001b[0m\u001b[1;33m:\u001b[0m\u001b[1;33m\u001b[0m\u001b[1;33m\u001b[0m\u001b[0m\n",
      "\u001b[1;32mc:\\Anaconda3\\lib\\site-packages\\pandas\\io\\parsers\\readers.py\u001b[0m in \u001b[0;36m__init__\u001b[1;34m(self, f, engine, **kwds)\u001b[0m\n\u001b[0;32m    930\u001b[0m \u001b[1;33m\u001b[0m\u001b[0m\n\u001b[0;32m    931\u001b[0m         \u001b[0mself\u001b[0m\u001b[1;33m.\u001b[0m\u001b[0mhandles\u001b[0m\u001b[1;33m:\u001b[0m \u001b[0mIOHandles\u001b[0m \u001b[1;33m|\u001b[0m \u001b[1;32mNone\u001b[0m \u001b[1;33m=\u001b[0m \u001b[1;32mNone\u001b[0m\u001b[1;33m\u001b[0m\u001b[1;33m\u001b[0m\u001b[0m\n\u001b[1;32m--> 932\u001b[1;33m         \u001b[0mself\u001b[0m\u001b[1;33m.\u001b[0m\u001b[0m_engine\u001b[0m \u001b[1;33m=\u001b[0m \u001b[0mself\u001b[0m\u001b[1;33m.\u001b[0m\u001b[0m_make_engine\u001b[0m\u001b[1;33m(\u001b[0m\u001b[0mf\u001b[0m\u001b[1;33m,\u001b[0m \u001b[0mself\u001b[0m\u001b[1;33m.\u001b[0m\u001b[0mengine\u001b[0m\u001b[1;33m)\u001b[0m\u001b[1;33m\u001b[0m\u001b[1;33m\u001b[0m\u001b[0m\n\u001b[0m\u001b[0;32m    933\u001b[0m \u001b[1;33m\u001b[0m\u001b[0m\n\u001b[0;32m    934\u001b[0m     \u001b[1;32mdef\u001b[0m \u001b[0mclose\u001b[0m\u001b[1;33m(\u001b[0m\u001b[0mself\u001b[0m\u001b[1;33m)\u001b[0m\u001b[1;33m:\u001b[0m\u001b[1;33m\u001b[0m\u001b[1;33m\u001b[0m\u001b[0m\n",
      "\u001b[1;32mc:\\Anaconda3\\lib\\site-packages\\pandas\\io\\parsers\\readers.py\u001b[0m in \u001b[0;36m_make_engine\u001b[1;34m(self, f, engine)\u001b[0m\n\u001b[0;32m   1214\u001b[0m             \u001b[1;31m# \"Union[str, PathLike[str], ReadCsvBuffer[bytes], ReadCsvBuffer[str]]\"\u001b[0m\u001b[1;33m\u001b[0m\u001b[1;33m\u001b[0m\u001b[0m\n\u001b[0;32m   1215\u001b[0m             \u001b[1;31m# , \"str\", \"bool\", \"Any\", \"Any\", \"Any\", \"Any\", \"Any\"\u001b[0m\u001b[1;33m\u001b[0m\u001b[1;33m\u001b[0m\u001b[0m\n\u001b[1;32m-> 1216\u001b[1;33m             self.handles = get_handle(  # type: ignore[call-overload]\n\u001b[0m\u001b[0;32m   1217\u001b[0m                 \u001b[0mf\u001b[0m\u001b[1;33m,\u001b[0m\u001b[1;33m\u001b[0m\u001b[1;33m\u001b[0m\u001b[0m\n\u001b[0;32m   1218\u001b[0m                 \u001b[0mmode\u001b[0m\u001b[1;33m,\u001b[0m\u001b[1;33m\u001b[0m\u001b[1;33m\u001b[0m\u001b[0m\n",
      "\u001b[1;32mc:\\Anaconda3\\lib\\site-packages\\pandas\\io\\common.py\u001b[0m in \u001b[0;36mget_handle\u001b[1;34m(path_or_buf, mode, encoding, compression, memory_map, is_text, errors, storage_options)\u001b[0m\n\u001b[0;32m    784\u001b[0m         \u001b[1;32mif\u001b[0m \u001b[0mioargs\u001b[0m\u001b[1;33m.\u001b[0m\u001b[0mencoding\u001b[0m \u001b[1;32mand\u001b[0m \u001b[1;34m\"b\"\u001b[0m \u001b[1;32mnot\u001b[0m \u001b[1;32min\u001b[0m \u001b[0mioargs\u001b[0m\u001b[1;33m.\u001b[0m\u001b[0mmode\u001b[0m\u001b[1;33m:\u001b[0m\u001b[1;33m\u001b[0m\u001b[1;33m\u001b[0m\u001b[0m\n\u001b[0;32m    785\u001b[0m             \u001b[1;31m# Encoding\u001b[0m\u001b[1;33m\u001b[0m\u001b[1;33m\u001b[0m\u001b[0m\n\u001b[1;32m--> 786\u001b[1;33m             handle = open(\n\u001b[0m\u001b[0;32m    787\u001b[0m                 \u001b[0mhandle\u001b[0m\u001b[1;33m,\u001b[0m\u001b[1;33m\u001b[0m\u001b[1;33m\u001b[0m\u001b[0m\n\u001b[0;32m    788\u001b[0m                 \u001b[0mioargs\u001b[0m\u001b[1;33m.\u001b[0m\u001b[0mmode\u001b[0m\u001b[1;33m,\u001b[0m\u001b[1;33m\u001b[0m\u001b[1;33m\u001b[0m\u001b[0m\n",
      "\u001b[1;31mFileNotFoundError\u001b[0m: [Errno 2] No such file or directory: '/datasets/gold_recovery_train_new.csv'"
     ]
    }
   ],
   "source": [
    "# Импорт данных  \n",
    "df_train = pd.read_csv('/datasets/gold_recovery_train_new.csv', index_col=['date'])\n",
    "df_test = pd.read_csv('/datasets/gold_recovery_test_new.csv', index_col=['date'])\n",
    "df_full = pd.read_csv('/datasets/gold_recovery_full_new.csv', index_col=['date'])"
   ]
  },
  {
   "cell_type": "code",
   "execution_count": 3,
   "metadata": {},
   "outputs": [
    {
     "data": {
      "text/html": [
       "<div>\n",
       "<style scoped>\n",
       "    .dataframe tbody tr th:only-of-type {\n",
       "        vertical-align: middle;\n",
       "    }\n",
       "\n",
       "    .dataframe tbody tr th {\n",
       "        vertical-align: top;\n",
       "    }\n",
       "\n",
       "    .dataframe thead th {\n",
       "        text-align: right;\n",
       "    }\n",
       "</style>\n",
       "<table border=\"1\" class=\"dataframe\">\n",
       "  <thead>\n",
       "    <tr style=\"text-align: right;\">\n",
       "      <th></th>\n",
       "      <th>final.output.concentrate_ag</th>\n",
       "      <th>final.output.concentrate_pb</th>\n",
       "      <th>final.output.concentrate_sol</th>\n",
       "      <th>final.output.concentrate_au</th>\n",
       "      <th>final.output.recovery</th>\n",
       "      <th>final.output.tail_ag</th>\n",
       "      <th>final.output.tail_pb</th>\n",
       "      <th>final.output.tail_sol</th>\n",
       "      <th>final.output.tail_au</th>\n",
       "      <th>primary_cleaner.input.sulfate</th>\n",
       "      <th>...</th>\n",
       "      <th>secondary_cleaner.state.floatbank4_a_air</th>\n",
       "      <th>secondary_cleaner.state.floatbank4_a_level</th>\n",
       "      <th>secondary_cleaner.state.floatbank4_b_air</th>\n",
       "      <th>secondary_cleaner.state.floatbank4_b_level</th>\n",
       "      <th>secondary_cleaner.state.floatbank5_a_air</th>\n",
       "      <th>secondary_cleaner.state.floatbank5_a_level</th>\n",
       "      <th>secondary_cleaner.state.floatbank5_b_air</th>\n",
       "      <th>secondary_cleaner.state.floatbank5_b_level</th>\n",
       "      <th>secondary_cleaner.state.floatbank6_a_air</th>\n",
       "      <th>secondary_cleaner.state.floatbank6_a_level</th>\n",
       "    </tr>\n",
       "    <tr>\n",
       "      <th>date</th>\n",
       "      <th></th>\n",
       "      <th></th>\n",
       "      <th></th>\n",
       "      <th></th>\n",
       "      <th></th>\n",
       "      <th></th>\n",
       "      <th></th>\n",
       "      <th></th>\n",
       "      <th></th>\n",
       "      <th></th>\n",
       "      <th></th>\n",
       "      <th></th>\n",
       "      <th></th>\n",
       "      <th></th>\n",
       "      <th></th>\n",
       "      <th></th>\n",
       "      <th></th>\n",
       "      <th></th>\n",
       "      <th></th>\n",
       "      <th></th>\n",
       "      <th></th>\n",
       "    </tr>\n",
       "  </thead>\n",
       "  <tbody>\n",
       "    <tr>\n",
       "      <th>2016-01-15 00:00:00</th>\n",
       "      <td>6.055403</td>\n",
       "      <td>9.889648</td>\n",
       "      <td>5.507324</td>\n",
       "      <td>42.192020</td>\n",
       "      <td>70.541216</td>\n",
       "      <td>10.411962</td>\n",
       "      <td>0.895447</td>\n",
       "      <td>16.904297</td>\n",
       "      <td>2.143149</td>\n",
       "      <td>127.092003</td>\n",
       "      <td>...</td>\n",
       "      <td>14.016835</td>\n",
       "      <td>-502.488007</td>\n",
       "      <td>12.099931</td>\n",
       "      <td>-504.715942</td>\n",
       "      <td>9.925633</td>\n",
       "      <td>-498.310211</td>\n",
       "      <td>8.079666</td>\n",
       "      <td>-500.470978</td>\n",
       "      <td>14.151341</td>\n",
       "      <td>-605.841980</td>\n",
       "    </tr>\n",
       "    <tr>\n",
       "      <th>2016-01-15 01:00:00</th>\n",
       "      <td>6.029369</td>\n",
       "      <td>9.968944</td>\n",
       "      <td>5.257781</td>\n",
       "      <td>42.701629</td>\n",
       "      <td>69.266198</td>\n",
       "      <td>10.462676</td>\n",
       "      <td>0.927452</td>\n",
       "      <td>16.634514</td>\n",
       "      <td>2.224930</td>\n",
       "      <td>125.629232</td>\n",
       "      <td>...</td>\n",
       "      <td>13.992281</td>\n",
       "      <td>-505.503262</td>\n",
       "      <td>11.950531</td>\n",
       "      <td>-501.331529</td>\n",
       "      <td>10.039245</td>\n",
       "      <td>-500.169983</td>\n",
       "      <td>7.984757</td>\n",
       "      <td>-500.582168</td>\n",
       "      <td>13.998353</td>\n",
       "      <td>-599.787184</td>\n",
       "    </tr>\n",
       "    <tr>\n",
       "      <th>2016-01-15 02:00:00</th>\n",
       "      <td>6.055926</td>\n",
       "      <td>10.213995</td>\n",
       "      <td>5.383759</td>\n",
       "      <td>42.657501</td>\n",
       "      <td>68.116445</td>\n",
       "      <td>10.507046</td>\n",
       "      <td>0.953716</td>\n",
       "      <td>16.208849</td>\n",
       "      <td>2.257889</td>\n",
       "      <td>123.819808</td>\n",
       "      <td>...</td>\n",
       "      <td>14.015015</td>\n",
       "      <td>-502.520901</td>\n",
       "      <td>11.912783</td>\n",
       "      <td>-501.133383</td>\n",
       "      <td>10.070913</td>\n",
       "      <td>-500.129135</td>\n",
       "      <td>8.013877</td>\n",
       "      <td>-500.517572</td>\n",
       "      <td>14.028663</td>\n",
       "      <td>-601.427363</td>\n",
       "    </tr>\n",
       "    <tr>\n",
       "      <th>2016-01-15 03:00:00</th>\n",
       "      <td>6.047977</td>\n",
       "      <td>9.977019</td>\n",
       "      <td>4.858634</td>\n",
       "      <td>42.689819</td>\n",
       "      <td>68.347543</td>\n",
       "      <td>10.422762</td>\n",
       "      <td>0.883763</td>\n",
       "      <td>16.532835</td>\n",
       "      <td>2.146849</td>\n",
       "      <td>122.270188</td>\n",
       "      <td>...</td>\n",
       "      <td>14.036510</td>\n",
       "      <td>-500.857308</td>\n",
       "      <td>11.999550</td>\n",
       "      <td>-501.193686</td>\n",
       "      <td>9.970366</td>\n",
       "      <td>-499.201640</td>\n",
       "      <td>7.977324</td>\n",
       "      <td>-500.255908</td>\n",
       "      <td>14.005551</td>\n",
       "      <td>-599.996129</td>\n",
       "    </tr>\n",
       "    <tr>\n",
       "      <th>2016-01-15 04:00:00</th>\n",
       "      <td>6.148599</td>\n",
       "      <td>10.142511</td>\n",
       "      <td>4.939416</td>\n",
       "      <td>42.774141</td>\n",
       "      <td>66.927016</td>\n",
       "      <td>10.360302</td>\n",
       "      <td>0.792826</td>\n",
       "      <td>16.525686</td>\n",
       "      <td>2.055292</td>\n",
       "      <td>117.988169</td>\n",
       "      <td>...</td>\n",
       "      <td>14.027298</td>\n",
       "      <td>-499.838632</td>\n",
       "      <td>11.953070</td>\n",
       "      <td>-501.053894</td>\n",
       "      <td>9.925709</td>\n",
       "      <td>-501.686727</td>\n",
       "      <td>7.894242</td>\n",
       "      <td>-500.356035</td>\n",
       "      <td>13.996647</td>\n",
       "      <td>-601.496691</td>\n",
       "    </tr>\n",
       "  </tbody>\n",
       "</table>\n",
       "<p>5 rows × 86 columns</p>\n",
       "</div>"
      ],
      "text/plain": [
       "                     final.output.concentrate_ag  final.output.concentrate_pb  \\\n",
       "date                                                                            \n",
       "2016-01-15 00:00:00                     6.055403                     9.889648   \n",
       "2016-01-15 01:00:00                     6.029369                     9.968944   \n",
       "2016-01-15 02:00:00                     6.055926                    10.213995   \n",
       "2016-01-15 03:00:00                     6.047977                     9.977019   \n",
       "2016-01-15 04:00:00                     6.148599                    10.142511   \n",
       "\n",
       "                     final.output.concentrate_sol  \\\n",
       "date                                                \n",
       "2016-01-15 00:00:00                      5.507324   \n",
       "2016-01-15 01:00:00                      5.257781   \n",
       "2016-01-15 02:00:00                      5.383759   \n",
       "2016-01-15 03:00:00                      4.858634   \n",
       "2016-01-15 04:00:00                      4.939416   \n",
       "\n",
       "                     final.output.concentrate_au  final.output.recovery  \\\n",
       "date                                                                      \n",
       "2016-01-15 00:00:00                    42.192020              70.541216   \n",
       "2016-01-15 01:00:00                    42.701629              69.266198   \n",
       "2016-01-15 02:00:00                    42.657501              68.116445   \n",
       "2016-01-15 03:00:00                    42.689819              68.347543   \n",
       "2016-01-15 04:00:00                    42.774141              66.927016   \n",
       "\n",
       "                     final.output.tail_ag  final.output.tail_pb  \\\n",
       "date                                                              \n",
       "2016-01-15 00:00:00             10.411962              0.895447   \n",
       "2016-01-15 01:00:00             10.462676              0.927452   \n",
       "2016-01-15 02:00:00             10.507046              0.953716   \n",
       "2016-01-15 03:00:00             10.422762              0.883763   \n",
       "2016-01-15 04:00:00             10.360302              0.792826   \n",
       "\n",
       "                     final.output.tail_sol  final.output.tail_au  \\\n",
       "date                                                               \n",
       "2016-01-15 00:00:00              16.904297              2.143149   \n",
       "2016-01-15 01:00:00              16.634514              2.224930   \n",
       "2016-01-15 02:00:00              16.208849              2.257889   \n",
       "2016-01-15 03:00:00              16.532835              2.146849   \n",
       "2016-01-15 04:00:00              16.525686              2.055292   \n",
       "\n",
       "                     primary_cleaner.input.sulfate  ...  \\\n",
       "date                                                ...   \n",
       "2016-01-15 00:00:00                     127.092003  ...   \n",
       "2016-01-15 01:00:00                     125.629232  ...   \n",
       "2016-01-15 02:00:00                     123.819808  ...   \n",
       "2016-01-15 03:00:00                     122.270188  ...   \n",
       "2016-01-15 04:00:00                     117.988169  ...   \n",
       "\n",
       "                     secondary_cleaner.state.floatbank4_a_air  \\\n",
       "date                                                            \n",
       "2016-01-15 00:00:00                                 14.016835   \n",
       "2016-01-15 01:00:00                                 13.992281   \n",
       "2016-01-15 02:00:00                                 14.015015   \n",
       "2016-01-15 03:00:00                                 14.036510   \n",
       "2016-01-15 04:00:00                                 14.027298   \n",
       "\n",
       "                     secondary_cleaner.state.floatbank4_a_level  \\\n",
       "date                                                              \n",
       "2016-01-15 00:00:00                                 -502.488007   \n",
       "2016-01-15 01:00:00                                 -505.503262   \n",
       "2016-01-15 02:00:00                                 -502.520901   \n",
       "2016-01-15 03:00:00                                 -500.857308   \n",
       "2016-01-15 04:00:00                                 -499.838632   \n",
       "\n",
       "                     secondary_cleaner.state.floatbank4_b_air  \\\n",
       "date                                                            \n",
       "2016-01-15 00:00:00                                 12.099931   \n",
       "2016-01-15 01:00:00                                 11.950531   \n",
       "2016-01-15 02:00:00                                 11.912783   \n",
       "2016-01-15 03:00:00                                 11.999550   \n",
       "2016-01-15 04:00:00                                 11.953070   \n",
       "\n",
       "                     secondary_cleaner.state.floatbank4_b_level  \\\n",
       "date                                                              \n",
       "2016-01-15 00:00:00                                 -504.715942   \n",
       "2016-01-15 01:00:00                                 -501.331529   \n",
       "2016-01-15 02:00:00                                 -501.133383   \n",
       "2016-01-15 03:00:00                                 -501.193686   \n",
       "2016-01-15 04:00:00                                 -501.053894   \n",
       "\n",
       "                     secondary_cleaner.state.floatbank5_a_air  \\\n",
       "date                                                            \n",
       "2016-01-15 00:00:00                                  9.925633   \n",
       "2016-01-15 01:00:00                                 10.039245   \n",
       "2016-01-15 02:00:00                                 10.070913   \n",
       "2016-01-15 03:00:00                                  9.970366   \n",
       "2016-01-15 04:00:00                                  9.925709   \n",
       "\n",
       "                     secondary_cleaner.state.floatbank5_a_level  \\\n",
       "date                                                              \n",
       "2016-01-15 00:00:00                                 -498.310211   \n",
       "2016-01-15 01:00:00                                 -500.169983   \n",
       "2016-01-15 02:00:00                                 -500.129135   \n",
       "2016-01-15 03:00:00                                 -499.201640   \n",
       "2016-01-15 04:00:00                                 -501.686727   \n",
       "\n",
       "                     secondary_cleaner.state.floatbank5_b_air  \\\n",
       "date                                                            \n",
       "2016-01-15 00:00:00                                  8.079666   \n",
       "2016-01-15 01:00:00                                  7.984757   \n",
       "2016-01-15 02:00:00                                  8.013877   \n",
       "2016-01-15 03:00:00                                  7.977324   \n",
       "2016-01-15 04:00:00                                  7.894242   \n",
       "\n",
       "                     secondary_cleaner.state.floatbank5_b_level  \\\n",
       "date                                                              \n",
       "2016-01-15 00:00:00                                 -500.470978   \n",
       "2016-01-15 01:00:00                                 -500.582168   \n",
       "2016-01-15 02:00:00                                 -500.517572   \n",
       "2016-01-15 03:00:00                                 -500.255908   \n",
       "2016-01-15 04:00:00                                 -500.356035   \n",
       "\n",
       "                     secondary_cleaner.state.floatbank6_a_air  \\\n",
       "date                                                            \n",
       "2016-01-15 00:00:00                                 14.151341   \n",
       "2016-01-15 01:00:00                                 13.998353   \n",
       "2016-01-15 02:00:00                                 14.028663   \n",
       "2016-01-15 03:00:00                                 14.005551   \n",
       "2016-01-15 04:00:00                                 13.996647   \n",
       "\n",
       "                     secondary_cleaner.state.floatbank6_a_level  \n",
       "date                                                             \n",
       "2016-01-15 00:00:00                                 -605.841980  \n",
       "2016-01-15 01:00:00                                 -599.787184  \n",
       "2016-01-15 02:00:00                                 -601.427363  \n",
       "2016-01-15 03:00:00                                 -599.996129  \n",
       "2016-01-15 04:00:00                                 -601.496691  \n",
       "\n",
       "[5 rows x 86 columns]"
      ]
     },
     "execution_count": 3,
     "metadata": {},
     "output_type": "execute_result"
    }
   ],
   "source": [
    "# Изучим данные:\n",
    "df_train.head()"
   ]
  },
  {
   "cell_type": "code",
   "execution_count": 4,
   "metadata": {},
   "outputs": [
    {
     "data": {
      "text/html": [
       "<div>\n",
       "<style scoped>\n",
       "    .dataframe tbody tr th:only-of-type {\n",
       "        vertical-align: middle;\n",
       "    }\n",
       "\n",
       "    .dataframe tbody tr th {\n",
       "        vertical-align: top;\n",
       "    }\n",
       "\n",
       "    .dataframe thead th {\n",
       "        text-align: right;\n",
       "    }\n",
       "</style>\n",
       "<table border=\"1\" class=\"dataframe\">\n",
       "  <thead>\n",
       "    <tr style=\"text-align: right;\">\n",
       "      <th></th>\n",
       "      <th>primary_cleaner.input.sulfate</th>\n",
       "      <th>primary_cleaner.input.depressant</th>\n",
       "      <th>primary_cleaner.input.feed_size</th>\n",
       "      <th>primary_cleaner.input.xanthate</th>\n",
       "      <th>primary_cleaner.state.floatbank8_a_air</th>\n",
       "      <th>primary_cleaner.state.floatbank8_a_level</th>\n",
       "      <th>primary_cleaner.state.floatbank8_b_air</th>\n",
       "      <th>primary_cleaner.state.floatbank8_b_level</th>\n",
       "      <th>primary_cleaner.state.floatbank8_c_air</th>\n",
       "      <th>primary_cleaner.state.floatbank8_c_level</th>\n",
       "      <th>...</th>\n",
       "      <th>secondary_cleaner.state.floatbank4_a_air</th>\n",
       "      <th>secondary_cleaner.state.floatbank4_a_level</th>\n",
       "      <th>secondary_cleaner.state.floatbank4_b_air</th>\n",
       "      <th>secondary_cleaner.state.floatbank4_b_level</th>\n",
       "      <th>secondary_cleaner.state.floatbank5_a_air</th>\n",
       "      <th>secondary_cleaner.state.floatbank5_a_level</th>\n",
       "      <th>secondary_cleaner.state.floatbank5_b_air</th>\n",
       "      <th>secondary_cleaner.state.floatbank5_b_level</th>\n",
       "      <th>secondary_cleaner.state.floatbank6_a_air</th>\n",
       "      <th>secondary_cleaner.state.floatbank6_a_level</th>\n",
       "    </tr>\n",
       "    <tr>\n",
       "      <th>date</th>\n",
       "      <th></th>\n",
       "      <th></th>\n",
       "      <th></th>\n",
       "      <th></th>\n",
       "      <th></th>\n",
       "      <th></th>\n",
       "      <th></th>\n",
       "      <th></th>\n",
       "      <th></th>\n",
       "      <th></th>\n",
       "      <th></th>\n",
       "      <th></th>\n",
       "      <th></th>\n",
       "      <th></th>\n",
       "      <th></th>\n",
       "      <th></th>\n",
       "      <th></th>\n",
       "      <th></th>\n",
       "      <th></th>\n",
       "      <th></th>\n",
       "      <th></th>\n",
       "    </tr>\n",
       "  </thead>\n",
       "  <tbody>\n",
       "    <tr>\n",
       "      <th>2016-09-01 00:59:59</th>\n",
       "      <td>210.800909</td>\n",
       "      <td>14.993118</td>\n",
       "      <td>8.080000</td>\n",
       "      <td>1.005021</td>\n",
       "      <td>1398.981301</td>\n",
       "      <td>-500.225577</td>\n",
       "      <td>1399.144926</td>\n",
       "      <td>-499.919735</td>\n",
       "      <td>1400.102998</td>\n",
       "      <td>-500.704369</td>\n",
       "      <td>...</td>\n",
       "      <td>12.023554</td>\n",
       "      <td>-497.795834</td>\n",
       "      <td>8.016656</td>\n",
       "      <td>-501.289139</td>\n",
       "      <td>7.946562</td>\n",
       "      <td>-432.317850</td>\n",
       "      <td>4.872511</td>\n",
       "      <td>-500.037437</td>\n",
       "      <td>26.705889</td>\n",
       "      <td>-499.709414</td>\n",
       "    </tr>\n",
       "    <tr>\n",
       "      <th>2016-09-01 01:59:59</th>\n",
       "      <td>215.392455</td>\n",
       "      <td>14.987471</td>\n",
       "      <td>8.080000</td>\n",
       "      <td>0.990469</td>\n",
       "      <td>1398.777912</td>\n",
       "      <td>-500.057435</td>\n",
       "      <td>1398.055362</td>\n",
       "      <td>-499.778182</td>\n",
       "      <td>1396.151033</td>\n",
       "      <td>-499.240168</td>\n",
       "      <td>...</td>\n",
       "      <td>12.058140</td>\n",
       "      <td>-498.695773</td>\n",
       "      <td>8.130979</td>\n",
       "      <td>-499.634209</td>\n",
       "      <td>7.958270</td>\n",
       "      <td>-525.839648</td>\n",
       "      <td>4.878850</td>\n",
       "      <td>-500.162375</td>\n",
       "      <td>25.019940</td>\n",
       "      <td>-499.819438</td>\n",
       "    </tr>\n",
       "    <tr>\n",
       "      <th>2016-09-01 02:59:59</th>\n",
       "      <td>215.259946</td>\n",
       "      <td>12.884934</td>\n",
       "      <td>7.786667</td>\n",
       "      <td>0.996043</td>\n",
       "      <td>1398.493666</td>\n",
       "      <td>-500.868360</td>\n",
       "      <td>1398.860436</td>\n",
       "      <td>-499.764529</td>\n",
       "      <td>1398.075709</td>\n",
       "      <td>-502.151509</td>\n",
       "      <td>...</td>\n",
       "      <td>11.962366</td>\n",
       "      <td>-498.767484</td>\n",
       "      <td>8.096893</td>\n",
       "      <td>-500.827423</td>\n",
       "      <td>8.071056</td>\n",
       "      <td>-500.801673</td>\n",
       "      <td>4.905125</td>\n",
       "      <td>-499.828510</td>\n",
       "      <td>24.994862</td>\n",
       "      <td>-500.622559</td>\n",
       "    </tr>\n",
       "    <tr>\n",
       "      <th>2016-09-01 03:59:59</th>\n",
       "      <td>215.336236</td>\n",
       "      <td>12.006805</td>\n",
       "      <td>7.640000</td>\n",
       "      <td>0.863514</td>\n",
       "      <td>1399.618111</td>\n",
       "      <td>-498.863574</td>\n",
       "      <td>1397.440120</td>\n",
       "      <td>-499.211024</td>\n",
       "      <td>1400.129303</td>\n",
       "      <td>-498.355873</td>\n",
       "      <td>...</td>\n",
       "      <td>12.033091</td>\n",
       "      <td>-498.350935</td>\n",
       "      <td>8.074946</td>\n",
       "      <td>-499.474407</td>\n",
       "      <td>7.897085</td>\n",
       "      <td>-500.868509</td>\n",
       "      <td>4.931400</td>\n",
       "      <td>-499.963623</td>\n",
       "      <td>24.948919</td>\n",
       "      <td>-498.709987</td>\n",
       "    </tr>\n",
       "    <tr>\n",
       "      <th>2016-09-01 04:59:59</th>\n",
       "      <td>199.099327</td>\n",
       "      <td>10.682530</td>\n",
       "      <td>7.530000</td>\n",
       "      <td>0.805575</td>\n",
       "      <td>1401.268123</td>\n",
       "      <td>-500.808305</td>\n",
       "      <td>1398.128818</td>\n",
       "      <td>-499.504543</td>\n",
       "      <td>1402.172226</td>\n",
       "      <td>-500.810606</td>\n",
       "      <td>...</td>\n",
       "      <td>12.025367</td>\n",
       "      <td>-500.786497</td>\n",
       "      <td>8.054678</td>\n",
       "      <td>-500.397500</td>\n",
       "      <td>8.107890</td>\n",
       "      <td>-509.526725</td>\n",
       "      <td>4.957674</td>\n",
       "      <td>-500.360026</td>\n",
       "      <td>25.003331</td>\n",
       "      <td>-500.856333</td>\n",
       "    </tr>\n",
       "  </tbody>\n",
       "</table>\n",
       "<p>5 rows × 52 columns</p>\n",
       "</div>"
      ],
      "text/plain": [
       "                     primary_cleaner.input.sulfate  \\\n",
       "date                                                 \n",
       "2016-09-01 00:59:59                     210.800909   \n",
       "2016-09-01 01:59:59                     215.392455   \n",
       "2016-09-01 02:59:59                     215.259946   \n",
       "2016-09-01 03:59:59                     215.336236   \n",
       "2016-09-01 04:59:59                     199.099327   \n",
       "\n",
       "                     primary_cleaner.input.depressant  \\\n",
       "date                                                    \n",
       "2016-09-01 00:59:59                         14.993118   \n",
       "2016-09-01 01:59:59                         14.987471   \n",
       "2016-09-01 02:59:59                         12.884934   \n",
       "2016-09-01 03:59:59                         12.006805   \n",
       "2016-09-01 04:59:59                         10.682530   \n",
       "\n",
       "                     primary_cleaner.input.feed_size  \\\n",
       "date                                                   \n",
       "2016-09-01 00:59:59                         8.080000   \n",
       "2016-09-01 01:59:59                         8.080000   \n",
       "2016-09-01 02:59:59                         7.786667   \n",
       "2016-09-01 03:59:59                         7.640000   \n",
       "2016-09-01 04:59:59                         7.530000   \n",
       "\n",
       "                     primary_cleaner.input.xanthate  \\\n",
       "date                                                  \n",
       "2016-09-01 00:59:59                        1.005021   \n",
       "2016-09-01 01:59:59                        0.990469   \n",
       "2016-09-01 02:59:59                        0.996043   \n",
       "2016-09-01 03:59:59                        0.863514   \n",
       "2016-09-01 04:59:59                        0.805575   \n",
       "\n",
       "                     primary_cleaner.state.floatbank8_a_air  \\\n",
       "date                                                          \n",
       "2016-09-01 00:59:59                             1398.981301   \n",
       "2016-09-01 01:59:59                             1398.777912   \n",
       "2016-09-01 02:59:59                             1398.493666   \n",
       "2016-09-01 03:59:59                             1399.618111   \n",
       "2016-09-01 04:59:59                             1401.268123   \n",
       "\n",
       "                     primary_cleaner.state.floatbank8_a_level  \\\n",
       "date                                                            \n",
       "2016-09-01 00:59:59                               -500.225577   \n",
       "2016-09-01 01:59:59                               -500.057435   \n",
       "2016-09-01 02:59:59                               -500.868360   \n",
       "2016-09-01 03:59:59                               -498.863574   \n",
       "2016-09-01 04:59:59                               -500.808305   \n",
       "\n",
       "                     primary_cleaner.state.floatbank8_b_air  \\\n",
       "date                                                          \n",
       "2016-09-01 00:59:59                             1399.144926   \n",
       "2016-09-01 01:59:59                             1398.055362   \n",
       "2016-09-01 02:59:59                             1398.860436   \n",
       "2016-09-01 03:59:59                             1397.440120   \n",
       "2016-09-01 04:59:59                             1398.128818   \n",
       "\n",
       "                     primary_cleaner.state.floatbank8_b_level  \\\n",
       "date                                                            \n",
       "2016-09-01 00:59:59                               -499.919735   \n",
       "2016-09-01 01:59:59                               -499.778182   \n",
       "2016-09-01 02:59:59                               -499.764529   \n",
       "2016-09-01 03:59:59                               -499.211024   \n",
       "2016-09-01 04:59:59                               -499.504543   \n",
       "\n",
       "                     primary_cleaner.state.floatbank8_c_air  \\\n",
       "date                                                          \n",
       "2016-09-01 00:59:59                             1400.102998   \n",
       "2016-09-01 01:59:59                             1396.151033   \n",
       "2016-09-01 02:59:59                             1398.075709   \n",
       "2016-09-01 03:59:59                             1400.129303   \n",
       "2016-09-01 04:59:59                             1402.172226   \n",
       "\n",
       "                     primary_cleaner.state.floatbank8_c_level  ...  \\\n",
       "date                                                           ...   \n",
       "2016-09-01 00:59:59                               -500.704369  ...   \n",
       "2016-09-01 01:59:59                               -499.240168  ...   \n",
       "2016-09-01 02:59:59                               -502.151509  ...   \n",
       "2016-09-01 03:59:59                               -498.355873  ...   \n",
       "2016-09-01 04:59:59                               -500.810606  ...   \n",
       "\n",
       "                     secondary_cleaner.state.floatbank4_a_air  \\\n",
       "date                                                            \n",
       "2016-09-01 00:59:59                                 12.023554   \n",
       "2016-09-01 01:59:59                                 12.058140   \n",
       "2016-09-01 02:59:59                                 11.962366   \n",
       "2016-09-01 03:59:59                                 12.033091   \n",
       "2016-09-01 04:59:59                                 12.025367   \n",
       "\n",
       "                     secondary_cleaner.state.floatbank4_a_level  \\\n",
       "date                                                              \n",
       "2016-09-01 00:59:59                                 -497.795834   \n",
       "2016-09-01 01:59:59                                 -498.695773   \n",
       "2016-09-01 02:59:59                                 -498.767484   \n",
       "2016-09-01 03:59:59                                 -498.350935   \n",
       "2016-09-01 04:59:59                                 -500.786497   \n",
       "\n",
       "                     secondary_cleaner.state.floatbank4_b_air  \\\n",
       "date                                                            \n",
       "2016-09-01 00:59:59                                  8.016656   \n",
       "2016-09-01 01:59:59                                  8.130979   \n",
       "2016-09-01 02:59:59                                  8.096893   \n",
       "2016-09-01 03:59:59                                  8.074946   \n",
       "2016-09-01 04:59:59                                  8.054678   \n",
       "\n",
       "                     secondary_cleaner.state.floatbank4_b_level  \\\n",
       "date                                                              \n",
       "2016-09-01 00:59:59                                 -501.289139   \n",
       "2016-09-01 01:59:59                                 -499.634209   \n",
       "2016-09-01 02:59:59                                 -500.827423   \n",
       "2016-09-01 03:59:59                                 -499.474407   \n",
       "2016-09-01 04:59:59                                 -500.397500   \n",
       "\n",
       "                     secondary_cleaner.state.floatbank5_a_air  \\\n",
       "date                                                            \n",
       "2016-09-01 00:59:59                                  7.946562   \n",
       "2016-09-01 01:59:59                                  7.958270   \n",
       "2016-09-01 02:59:59                                  8.071056   \n",
       "2016-09-01 03:59:59                                  7.897085   \n",
       "2016-09-01 04:59:59                                  8.107890   \n",
       "\n",
       "                     secondary_cleaner.state.floatbank5_a_level  \\\n",
       "date                                                              \n",
       "2016-09-01 00:59:59                                 -432.317850   \n",
       "2016-09-01 01:59:59                                 -525.839648   \n",
       "2016-09-01 02:59:59                                 -500.801673   \n",
       "2016-09-01 03:59:59                                 -500.868509   \n",
       "2016-09-01 04:59:59                                 -509.526725   \n",
       "\n",
       "                     secondary_cleaner.state.floatbank5_b_air  \\\n",
       "date                                                            \n",
       "2016-09-01 00:59:59                                  4.872511   \n",
       "2016-09-01 01:59:59                                  4.878850   \n",
       "2016-09-01 02:59:59                                  4.905125   \n",
       "2016-09-01 03:59:59                                  4.931400   \n",
       "2016-09-01 04:59:59                                  4.957674   \n",
       "\n",
       "                     secondary_cleaner.state.floatbank5_b_level  \\\n",
       "date                                                              \n",
       "2016-09-01 00:59:59                                 -500.037437   \n",
       "2016-09-01 01:59:59                                 -500.162375   \n",
       "2016-09-01 02:59:59                                 -499.828510   \n",
       "2016-09-01 03:59:59                                 -499.963623   \n",
       "2016-09-01 04:59:59                                 -500.360026   \n",
       "\n",
       "                     secondary_cleaner.state.floatbank6_a_air  \\\n",
       "date                                                            \n",
       "2016-09-01 00:59:59                                 26.705889   \n",
       "2016-09-01 01:59:59                                 25.019940   \n",
       "2016-09-01 02:59:59                                 24.994862   \n",
       "2016-09-01 03:59:59                                 24.948919   \n",
       "2016-09-01 04:59:59                                 25.003331   \n",
       "\n",
       "                     secondary_cleaner.state.floatbank6_a_level  \n",
       "date                                                             \n",
       "2016-09-01 00:59:59                                 -499.709414  \n",
       "2016-09-01 01:59:59                                 -499.819438  \n",
       "2016-09-01 02:59:59                                 -500.622559  \n",
       "2016-09-01 03:59:59                                 -498.709987  \n",
       "2016-09-01 04:59:59                                 -500.856333  \n",
       "\n",
       "[5 rows x 52 columns]"
      ]
     },
     "execution_count": 4,
     "metadata": {},
     "output_type": "execute_result"
    }
   ],
   "source": [
    "df_test.head()"
   ]
  },
  {
   "cell_type": "code",
   "execution_count": 5,
   "metadata": {},
   "outputs": [
    {
     "data": {
      "text/html": [
       "<div>\n",
       "<style scoped>\n",
       "    .dataframe tbody tr th:only-of-type {\n",
       "        vertical-align: middle;\n",
       "    }\n",
       "\n",
       "    .dataframe tbody tr th {\n",
       "        vertical-align: top;\n",
       "    }\n",
       "\n",
       "    .dataframe thead th {\n",
       "        text-align: right;\n",
       "    }\n",
       "</style>\n",
       "<table border=\"1\" class=\"dataframe\">\n",
       "  <thead>\n",
       "    <tr style=\"text-align: right;\">\n",
       "      <th></th>\n",
       "      <th>final.output.concentrate_ag</th>\n",
       "      <th>final.output.concentrate_pb</th>\n",
       "      <th>final.output.concentrate_sol</th>\n",
       "      <th>final.output.concentrate_au</th>\n",
       "      <th>final.output.recovery</th>\n",
       "      <th>final.output.tail_ag</th>\n",
       "      <th>final.output.tail_pb</th>\n",
       "      <th>final.output.tail_sol</th>\n",
       "      <th>final.output.tail_au</th>\n",
       "      <th>primary_cleaner.input.sulfate</th>\n",
       "      <th>...</th>\n",
       "      <th>secondary_cleaner.state.floatbank4_a_air</th>\n",
       "      <th>secondary_cleaner.state.floatbank4_a_level</th>\n",
       "      <th>secondary_cleaner.state.floatbank4_b_air</th>\n",
       "      <th>secondary_cleaner.state.floatbank4_b_level</th>\n",
       "      <th>secondary_cleaner.state.floatbank5_a_air</th>\n",
       "      <th>secondary_cleaner.state.floatbank5_a_level</th>\n",
       "      <th>secondary_cleaner.state.floatbank5_b_air</th>\n",
       "      <th>secondary_cleaner.state.floatbank5_b_level</th>\n",
       "      <th>secondary_cleaner.state.floatbank6_a_air</th>\n",
       "      <th>secondary_cleaner.state.floatbank6_a_level</th>\n",
       "    </tr>\n",
       "    <tr>\n",
       "      <th>date</th>\n",
       "      <th></th>\n",
       "      <th></th>\n",
       "      <th></th>\n",
       "      <th></th>\n",
       "      <th></th>\n",
       "      <th></th>\n",
       "      <th></th>\n",
       "      <th></th>\n",
       "      <th></th>\n",
       "      <th></th>\n",
       "      <th></th>\n",
       "      <th></th>\n",
       "      <th></th>\n",
       "      <th></th>\n",
       "      <th></th>\n",
       "      <th></th>\n",
       "      <th></th>\n",
       "      <th></th>\n",
       "      <th></th>\n",
       "      <th></th>\n",
       "      <th></th>\n",
       "    </tr>\n",
       "  </thead>\n",
       "  <tbody>\n",
       "    <tr>\n",
       "      <th>2016-01-15 00:00:00</th>\n",
       "      <td>6.055403</td>\n",
       "      <td>9.889648</td>\n",
       "      <td>5.507324</td>\n",
       "      <td>42.192020</td>\n",
       "      <td>70.541216</td>\n",
       "      <td>10.411962</td>\n",
       "      <td>0.895447</td>\n",
       "      <td>16.904297</td>\n",
       "      <td>2.143149</td>\n",
       "      <td>127.092003</td>\n",
       "      <td>...</td>\n",
       "      <td>14.016835</td>\n",
       "      <td>-502.488007</td>\n",
       "      <td>12.099931</td>\n",
       "      <td>-504.715942</td>\n",
       "      <td>9.925633</td>\n",
       "      <td>-498.310211</td>\n",
       "      <td>8.079666</td>\n",
       "      <td>-500.470978</td>\n",
       "      <td>14.151341</td>\n",
       "      <td>-605.841980</td>\n",
       "    </tr>\n",
       "    <tr>\n",
       "      <th>2016-01-15 01:00:00</th>\n",
       "      <td>6.029369</td>\n",
       "      <td>9.968944</td>\n",
       "      <td>5.257781</td>\n",
       "      <td>42.701629</td>\n",
       "      <td>69.266198</td>\n",
       "      <td>10.462676</td>\n",
       "      <td>0.927452</td>\n",
       "      <td>16.634514</td>\n",
       "      <td>2.224930</td>\n",
       "      <td>125.629232</td>\n",
       "      <td>...</td>\n",
       "      <td>13.992281</td>\n",
       "      <td>-505.503262</td>\n",
       "      <td>11.950531</td>\n",
       "      <td>-501.331529</td>\n",
       "      <td>10.039245</td>\n",
       "      <td>-500.169983</td>\n",
       "      <td>7.984757</td>\n",
       "      <td>-500.582168</td>\n",
       "      <td>13.998353</td>\n",
       "      <td>-599.787184</td>\n",
       "    </tr>\n",
       "    <tr>\n",
       "      <th>2016-01-15 02:00:00</th>\n",
       "      <td>6.055926</td>\n",
       "      <td>10.213995</td>\n",
       "      <td>5.383759</td>\n",
       "      <td>42.657501</td>\n",
       "      <td>68.116445</td>\n",
       "      <td>10.507046</td>\n",
       "      <td>0.953716</td>\n",
       "      <td>16.208849</td>\n",
       "      <td>2.257889</td>\n",
       "      <td>123.819808</td>\n",
       "      <td>...</td>\n",
       "      <td>14.015015</td>\n",
       "      <td>-502.520901</td>\n",
       "      <td>11.912783</td>\n",
       "      <td>-501.133383</td>\n",
       "      <td>10.070913</td>\n",
       "      <td>-500.129135</td>\n",
       "      <td>8.013877</td>\n",
       "      <td>-500.517572</td>\n",
       "      <td>14.028663</td>\n",
       "      <td>-601.427363</td>\n",
       "    </tr>\n",
       "    <tr>\n",
       "      <th>2016-01-15 03:00:00</th>\n",
       "      <td>6.047977</td>\n",
       "      <td>9.977019</td>\n",
       "      <td>4.858634</td>\n",
       "      <td>42.689819</td>\n",
       "      <td>68.347543</td>\n",
       "      <td>10.422762</td>\n",
       "      <td>0.883763</td>\n",
       "      <td>16.532835</td>\n",
       "      <td>2.146849</td>\n",
       "      <td>122.270188</td>\n",
       "      <td>...</td>\n",
       "      <td>14.036510</td>\n",
       "      <td>-500.857308</td>\n",
       "      <td>11.999550</td>\n",
       "      <td>-501.193686</td>\n",
       "      <td>9.970366</td>\n",
       "      <td>-499.201640</td>\n",
       "      <td>7.977324</td>\n",
       "      <td>-500.255908</td>\n",
       "      <td>14.005551</td>\n",
       "      <td>-599.996129</td>\n",
       "    </tr>\n",
       "    <tr>\n",
       "      <th>2016-01-15 04:00:00</th>\n",
       "      <td>6.148599</td>\n",
       "      <td>10.142511</td>\n",
       "      <td>4.939416</td>\n",
       "      <td>42.774141</td>\n",
       "      <td>66.927016</td>\n",
       "      <td>10.360302</td>\n",
       "      <td>0.792826</td>\n",
       "      <td>16.525686</td>\n",
       "      <td>2.055292</td>\n",
       "      <td>117.988169</td>\n",
       "      <td>...</td>\n",
       "      <td>14.027298</td>\n",
       "      <td>-499.838632</td>\n",
       "      <td>11.953070</td>\n",
       "      <td>-501.053894</td>\n",
       "      <td>9.925709</td>\n",
       "      <td>-501.686727</td>\n",
       "      <td>7.894242</td>\n",
       "      <td>-500.356035</td>\n",
       "      <td>13.996647</td>\n",
       "      <td>-601.496691</td>\n",
       "    </tr>\n",
       "  </tbody>\n",
       "</table>\n",
       "<p>5 rows × 86 columns</p>\n",
       "</div>"
      ],
      "text/plain": [
       "                     final.output.concentrate_ag  final.output.concentrate_pb  \\\n",
       "date                                                                            \n",
       "2016-01-15 00:00:00                     6.055403                     9.889648   \n",
       "2016-01-15 01:00:00                     6.029369                     9.968944   \n",
       "2016-01-15 02:00:00                     6.055926                    10.213995   \n",
       "2016-01-15 03:00:00                     6.047977                     9.977019   \n",
       "2016-01-15 04:00:00                     6.148599                    10.142511   \n",
       "\n",
       "                     final.output.concentrate_sol  \\\n",
       "date                                                \n",
       "2016-01-15 00:00:00                      5.507324   \n",
       "2016-01-15 01:00:00                      5.257781   \n",
       "2016-01-15 02:00:00                      5.383759   \n",
       "2016-01-15 03:00:00                      4.858634   \n",
       "2016-01-15 04:00:00                      4.939416   \n",
       "\n",
       "                     final.output.concentrate_au  final.output.recovery  \\\n",
       "date                                                                      \n",
       "2016-01-15 00:00:00                    42.192020              70.541216   \n",
       "2016-01-15 01:00:00                    42.701629              69.266198   \n",
       "2016-01-15 02:00:00                    42.657501              68.116445   \n",
       "2016-01-15 03:00:00                    42.689819              68.347543   \n",
       "2016-01-15 04:00:00                    42.774141              66.927016   \n",
       "\n",
       "                     final.output.tail_ag  final.output.tail_pb  \\\n",
       "date                                                              \n",
       "2016-01-15 00:00:00             10.411962              0.895447   \n",
       "2016-01-15 01:00:00             10.462676              0.927452   \n",
       "2016-01-15 02:00:00             10.507046              0.953716   \n",
       "2016-01-15 03:00:00             10.422762              0.883763   \n",
       "2016-01-15 04:00:00             10.360302              0.792826   \n",
       "\n",
       "                     final.output.tail_sol  final.output.tail_au  \\\n",
       "date                                                               \n",
       "2016-01-15 00:00:00              16.904297              2.143149   \n",
       "2016-01-15 01:00:00              16.634514              2.224930   \n",
       "2016-01-15 02:00:00              16.208849              2.257889   \n",
       "2016-01-15 03:00:00              16.532835              2.146849   \n",
       "2016-01-15 04:00:00              16.525686              2.055292   \n",
       "\n",
       "                     primary_cleaner.input.sulfate  ...  \\\n",
       "date                                                ...   \n",
       "2016-01-15 00:00:00                     127.092003  ...   \n",
       "2016-01-15 01:00:00                     125.629232  ...   \n",
       "2016-01-15 02:00:00                     123.819808  ...   \n",
       "2016-01-15 03:00:00                     122.270188  ...   \n",
       "2016-01-15 04:00:00                     117.988169  ...   \n",
       "\n",
       "                     secondary_cleaner.state.floatbank4_a_air  \\\n",
       "date                                                            \n",
       "2016-01-15 00:00:00                                 14.016835   \n",
       "2016-01-15 01:00:00                                 13.992281   \n",
       "2016-01-15 02:00:00                                 14.015015   \n",
       "2016-01-15 03:00:00                                 14.036510   \n",
       "2016-01-15 04:00:00                                 14.027298   \n",
       "\n",
       "                     secondary_cleaner.state.floatbank4_a_level  \\\n",
       "date                                                              \n",
       "2016-01-15 00:00:00                                 -502.488007   \n",
       "2016-01-15 01:00:00                                 -505.503262   \n",
       "2016-01-15 02:00:00                                 -502.520901   \n",
       "2016-01-15 03:00:00                                 -500.857308   \n",
       "2016-01-15 04:00:00                                 -499.838632   \n",
       "\n",
       "                     secondary_cleaner.state.floatbank4_b_air  \\\n",
       "date                                                            \n",
       "2016-01-15 00:00:00                                 12.099931   \n",
       "2016-01-15 01:00:00                                 11.950531   \n",
       "2016-01-15 02:00:00                                 11.912783   \n",
       "2016-01-15 03:00:00                                 11.999550   \n",
       "2016-01-15 04:00:00                                 11.953070   \n",
       "\n",
       "                     secondary_cleaner.state.floatbank4_b_level  \\\n",
       "date                                                              \n",
       "2016-01-15 00:00:00                                 -504.715942   \n",
       "2016-01-15 01:00:00                                 -501.331529   \n",
       "2016-01-15 02:00:00                                 -501.133383   \n",
       "2016-01-15 03:00:00                                 -501.193686   \n",
       "2016-01-15 04:00:00                                 -501.053894   \n",
       "\n",
       "                     secondary_cleaner.state.floatbank5_a_air  \\\n",
       "date                                                            \n",
       "2016-01-15 00:00:00                                  9.925633   \n",
       "2016-01-15 01:00:00                                 10.039245   \n",
       "2016-01-15 02:00:00                                 10.070913   \n",
       "2016-01-15 03:00:00                                  9.970366   \n",
       "2016-01-15 04:00:00                                  9.925709   \n",
       "\n",
       "                     secondary_cleaner.state.floatbank5_a_level  \\\n",
       "date                                                              \n",
       "2016-01-15 00:00:00                                 -498.310211   \n",
       "2016-01-15 01:00:00                                 -500.169983   \n",
       "2016-01-15 02:00:00                                 -500.129135   \n",
       "2016-01-15 03:00:00                                 -499.201640   \n",
       "2016-01-15 04:00:00                                 -501.686727   \n",
       "\n",
       "                     secondary_cleaner.state.floatbank5_b_air  \\\n",
       "date                                                            \n",
       "2016-01-15 00:00:00                                  8.079666   \n",
       "2016-01-15 01:00:00                                  7.984757   \n",
       "2016-01-15 02:00:00                                  8.013877   \n",
       "2016-01-15 03:00:00                                  7.977324   \n",
       "2016-01-15 04:00:00                                  7.894242   \n",
       "\n",
       "                     secondary_cleaner.state.floatbank5_b_level  \\\n",
       "date                                                              \n",
       "2016-01-15 00:00:00                                 -500.470978   \n",
       "2016-01-15 01:00:00                                 -500.582168   \n",
       "2016-01-15 02:00:00                                 -500.517572   \n",
       "2016-01-15 03:00:00                                 -500.255908   \n",
       "2016-01-15 04:00:00                                 -500.356035   \n",
       "\n",
       "                     secondary_cleaner.state.floatbank6_a_air  \\\n",
       "date                                                            \n",
       "2016-01-15 00:00:00                                 14.151341   \n",
       "2016-01-15 01:00:00                                 13.998353   \n",
       "2016-01-15 02:00:00                                 14.028663   \n",
       "2016-01-15 03:00:00                                 14.005551   \n",
       "2016-01-15 04:00:00                                 13.996647   \n",
       "\n",
       "                     secondary_cleaner.state.floatbank6_a_level  \n",
       "date                                                             \n",
       "2016-01-15 00:00:00                                 -605.841980  \n",
       "2016-01-15 01:00:00                                 -599.787184  \n",
       "2016-01-15 02:00:00                                 -601.427363  \n",
       "2016-01-15 03:00:00                                 -599.996129  \n",
       "2016-01-15 04:00:00                                 -601.496691  \n",
       "\n",
       "[5 rows x 86 columns]"
      ]
     },
     "execution_count": 5,
     "metadata": {},
     "output_type": "execute_result"
    }
   ],
   "source": [
    "df_full.head()"
   ]
  },
  {
   "cell_type": "code",
   "execution_count": 6,
   "metadata": {},
   "outputs": [
    {
     "name": "stdout",
     "output_type": "stream",
     "text": [
      "<class 'pandas.core.frame.DataFrame'>\n",
      "Index: 14149 entries, 2016-01-15 00:00:00 to 2018-08-18 10:59:59\n",
      "Data columns (total 86 columns):\n",
      " #   Column                                              Non-Null Count  Dtype  \n",
      "---  ------                                              --------------  -----  \n",
      " 0   final.output.concentrate_ag                         14148 non-null  float64\n",
      " 1   final.output.concentrate_pb                         14148 non-null  float64\n",
      " 2   final.output.concentrate_sol                        13938 non-null  float64\n",
      " 3   final.output.concentrate_au                         14149 non-null  float64\n",
      " 4   final.output.recovery                               14149 non-null  float64\n",
      " 5   final.output.tail_ag                                14149 non-null  float64\n",
      " 6   final.output.tail_pb                                14049 non-null  float64\n",
      " 7   final.output.tail_sol                               14144 non-null  float64\n",
      " 8   final.output.tail_au                                14149 non-null  float64\n",
      " 9   primary_cleaner.input.sulfate                       14129 non-null  float64\n",
      " 10  primary_cleaner.input.depressant                    14117 non-null  float64\n",
      " 11  primary_cleaner.input.feed_size                     14149 non-null  float64\n",
      " 12  primary_cleaner.input.xanthate                      14049 non-null  float64\n",
      " 13  primary_cleaner.output.concentrate_ag               14149 non-null  float64\n",
      " 14  primary_cleaner.output.concentrate_pb               14063 non-null  float64\n",
      " 15  primary_cleaner.output.concentrate_sol              13863 non-null  float64\n",
      " 16  primary_cleaner.output.concentrate_au               14149 non-null  float64\n",
      " 17  primary_cleaner.output.tail_ag                      14148 non-null  float64\n",
      " 18  primary_cleaner.output.tail_pb                      14134 non-null  float64\n",
      " 19  primary_cleaner.output.tail_sol                     14103 non-null  float64\n",
      " 20  primary_cleaner.output.tail_au                      14149 non-null  float64\n",
      " 21  primary_cleaner.state.floatbank8_a_air              14145 non-null  float64\n",
      " 22  primary_cleaner.state.floatbank8_a_level            14148 non-null  float64\n",
      " 23  primary_cleaner.state.floatbank8_b_air              14145 non-null  float64\n",
      " 24  primary_cleaner.state.floatbank8_b_level            14148 non-null  float64\n",
      " 25  primary_cleaner.state.floatbank8_c_air              14147 non-null  float64\n",
      " 26  primary_cleaner.state.floatbank8_c_level            14148 non-null  float64\n",
      " 27  primary_cleaner.state.floatbank8_d_air              14146 non-null  float64\n",
      " 28  primary_cleaner.state.floatbank8_d_level            14148 non-null  float64\n",
      " 29  rougher.calculation.sulfate_to_au_concentrate       14148 non-null  float64\n",
      " 30  rougher.calculation.floatbank10_sulfate_to_au_feed  14148 non-null  float64\n",
      " 31  rougher.calculation.floatbank11_sulfate_to_au_feed  14148 non-null  float64\n",
      " 32  rougher.calculation.au_pb_ratio                     14149 non-null  float64\n",
      " 33  rougher.input.feed_ag                               14149 non-null  float64\n",
      " 34  rougher.input.feed_pb                               14049 non-null  float64\n",
      " 35  rougher.input.feed_rate                             14141 non-null  float64\n",
      " 36  rougher.input.feed_size                             14005 non-null  float64\n",
      " 37  rougher.input.feed_sol                              14071 non-null  float64\n",
      " 38  rougher.input.feed_au                               14149 non-null  float64\n",
      " 39  rougher.input.floatbank10_sulfate                   14120 non-null  float64\n",
      " 40  rougher.input.floatbank10_xanthate                  14141 non-null  float64\n",
      " 41  rougher.input.floatbank11_sulfate                   14113 non-null  float64\n",
      " 42  rougher.input.floatbank11_xanthate                  13721 non-null  float64\n",
      " 43  rougher.output.concentrate_ag                       14149 non-null  float64\n",
      " 44  rougher.output.concentrate_pb                       14149 non-null  float64\n",
      " 45  rougher.output.concentrate_sol                      14127 non-null  float64\n",
      " 46  rougher.output.concentrate_au                       14149 non-null  float64\n",
      " 47  rougher.output.recovery                             14149 non-null  float64\n",
      " 48  rougher.output.tail_ag                              14148 non-null  float64\n",
      " 49  rougher.output.tail_pb                              14149 non-null  float64\n",
      " 50  rougher.output.tail_sol                             14149 non-null  float64\n",
      " 51  rougher.output.tail_au                              14149 non-null  float64\n",
      " 52  rougher.state.floatbank10_a_air                     14148 non-null  float64\n",
      " 53  rougher.state.floatbank10_a_level                   14148 non-null  float64\n",
      " 54  rougher.state.floatbank10_b_air                     14148 non-null  float64\n",
      " 55  rougher.state.floatbank10_b_level                   14148 non-null  float64\n",
      " 56  rougher.state.floatbank10_c_air                     14148 non-null  float64\n",
      " 57  rougher.state.floatbank10_c_level                   14148 non-null  float64\n",
      " 58  rougher.state.floatbank10_d_air                     14149 non-null  float64\n",
      " 59  rougher.state.floatbank10_d_level                   14149 non-null  float64\n",
      " 60  rougher.state.floatbank10_e_air                     13713 non-null  float64\n",
      " 61  rougher.state.floatbank10_e_level                   14149 non-null  float64\n",
      " 62  rougher.state.floatbank10_f_air                     14149 non-null  float64\n",
      " 63  rougher.state.floatbank10_f_level                   14149 non-null  float64\n",
      " 64  secondary_cleaner.output.tail_ag                    14147 non-null  float64\n",
      " 65  secondary_cleaner.output.tail_pb                    14139 non-null  float64\n",
      " 66  secondary_cleaner.output.tail_sol                   12544 non-null  float64\n",
      " 67  secondary_cleaner.output.tail_au                    14149 non-null  float64\n",
      " 68  secondary_cleaner.state.floatbank2_a_air            13932 non-null  float64\n",
      " 69  secondary_cleaner.state.floatbank2_a_level          14148 non-null  float64\n",
      " 70  secondary_cleaner.state.floatbank2_b_air            14128 non-null  float64\n",
      " 71  secondary_cleaner.state.floatbank2_b_level          14148 non-null  float64\n",
      " 72  secondary_cleaner.state.floatbank3_a_air            14145 non-null  float64\n",
      " 73  secondary_cleaner.state.floatbank3_a_level          14148 non-null  float64\n",
      " 74  secondary_cleaner.state.floatbank3_b_air            14148 non-null  float64\n",
      " 75  secondary_cleaner.state.floatbank3_b_level          14148 non-null  float64\n",
      " 76  secondary_cleaner.state.floatbank4_a_air            14143 non-null  float64\n",
      " 77  secondary_cleaner.state.floatbank4_a_level          14148 non-null  float64\n",
      " 78  secondary_cleaner.state.floatbank4_b_air            14148 non-null  float64\n",
      " 79  secondary_cleaner.state.floatbank4_b_level          14148 non-null  float64\n",
      " 80  secondary_cleaner.state.floatbank5_a_air            14148 non-null  float64\n",
      " 81  secondary_cleaner.state.floatbank5_a_level          14148 non-null  float64\n",
      " 82  secondary_cleaner.state.floatbank5_b_air            14148 non-null  float64\n",
      " 83  secondary_cleaner.state.floatbank5_b_level          14148 non-null  float64\n",
      " 84  secondary_cleaner.state.floatbank6_a_air            14147 non-null  float64\n",
      " 85  secondary_cleaner.state.floatbank6_a_level          14148 non-null  float64\n",
      "dtypes: float64(86)\n",
      "memory usage: 9.4+ MB\n"
     ]
    }
   ],
   "source": [
    "df_train.info()"
   ]
  },
  {
   "cell_type": "code",
   "execution_count": 7,
   "metadata": {},
   "outputs": [
    {
     "name": "stdout",
     "output_type": "stream",
     "text": [
      "<class 'pandas.core.frame.DataFrame'>\n",
      "Index: 5290 entries, 2016-09-01 00:59:59 to 2017-12-31 23:59:59\n",
      "Data columns (total 52 columns):\n",
      " #   Column                                      Non-Null Count  Dtype  \n",
      "---  ------                                      --------------  -----  \n",
      " 0   primary_cleaner.input.sulfate               5286 non-null   float64\n",
      " 1   primary_cleaner.input.depressant            5285 non-null   float64\n",
      " 2   primary_cleaner.input.feed_size             5290 non-null   float64\n",
      " 3   primary_cleaner.input.xanthate              5286 non-null   float64\n",
      " 4   primary_cleaner.state.floatbank8_a_air      5290 non-null   float64\n",
      " 5   primary_cleaner.state.floatbank8_a_level    5290 non-null   float64\n",
      " 6   primary_cleaner.state.floatbank8_b_air      5290 non-null   float64\n",
      " 7   primary_cleaner.state.floatbank8_b_level    5290 non-null   float64\n",
      " 8   primary_cleaner.state.floatbank8_c_air      5290 non-null   float64\n",
      " 9   primary_cleaner.state.floatbank8_c_level    5290 non-null   float64\n",
      " 10  primary_cleaner.state.floatbank8_d_air      5290 non-null   float64\n",
      " 11  primary_cleaner.state.floatbank8_d_level    5290 non-null   float64\n",
      " 12  rougher.input.feed_ag                       5290 non-null   float64\n",
      " 13  rougher.input.feed_pb                       5290 non-null   float64\n",
      " 14  rougher.input.feed_rate                     5287 non-null   float64\n",
      " 15  rougher.input.feed_size                     5289 non-null   float64\n",
      " 16  rougher.input.feed_sol                      5269 non-null   float64\n",
      " 17  rougher.input.feed_au                       5290 non-null   float64\n",
      " 18  rougher.input.floatbank10_sulfate           5285 non-null   float64\n",
      " 19  rougher.input.floatbank10_xanthate          5290 non-null   float64\n",
      " 20  rougher.input.floatbank11_sulfate           5282 non-null   float64\n",
      " 21  rougher.input.floatbank11_xanthate          5265 non-null   float64\n",
      " 22  rougher.state.floatbank10_a_air             5290 non-null   float64\n",
      " 23  rougher.state.floatbank10_a_level           5290 non-null   float64\n",
      " 24  rougher.state.floatbank10_b_air             5290 non-null   float64\n",
      " 25  rougher.state.floatbank10_b_level           5290 non-null   float64\n",
      " 26  rougher.state.floatbank10_c_air             5290 non-null   float64\n",
      " 27  rougher.state.floatbank10_c_level           5290 non-null   float64\n",
      " 28  rougher.state.floatbank10_d_air             5290 non-null   float64\n",
      " 29  rougher.state.floatbank10_d_level           5290 non-null   float64\n",
      " 30  rougher.state.floatbank10_e_air             5290 non-null   float64\n",
      " 31  rougher.state.floatbank10_e_level           5290 non-null   float64\n",
      " 32  rougher.state.floatbank10_f_air             5290 non-null   float64\n",
      " 33  rougher.state.floatbank10_f_level           5290 non-null   float64\n",
      " 34  secondary_cleaner.state.floatbank2_a_air    5287 non-null   float64\n",
      " 35  secondary_cleaner.state.floatbank2_a_level  5290 non-null   float64\n",
      " 36  secondary_cleaner.state.floatbank2_b_air    5288 non-null   float64\n",
      " 37  secondary_cleaner.state.floatbank2_b_level  5290 non-null   float64\n",
      " 38  secondary_cleaner.state.floatbank3_a_air    5281 non-null   float64\n",
      " 39  secondary_cleaner.state.floatbank3_a_level  5290 non-null   float64\n",
      " 40  secondary_cleaner.state.floatbank3_b_air    5290 non-null   float64\n",
      " 41  secondary_cleaner.state.floatbank3_b_level  5290 non-null   float64\n",
      " 42  secondary_cleaner.state.floatbank4_a_air    5290 non-null   float64\n",
      " 43  secondary_cleaner.state.floatbank4_a_level  5290 non-null   float64\n",
      " 44  secondary_cleaner.state.floatbank4_b_air    5290 non-null   float64\n",
      " 45  secondary_cleaner.state.floatbank4_b_level  5290 non-null   float64\n",
      " 46  secondary_cleaner.state.floatbank5_a_air    5290 non-null   float64\n",
      " 47  secondary_cleaner.state.floatbank5_a_level  5290 non-null   float64\n",
      " 48  secondary_cleaner.state.floatbank5_b_air    5290 non-null   float64\n",
      " 49  secondary_cleaner.state.floatbank5_b_level  5290 non-null   float64\n",
      " 50  secondary_cleaner.state.floatbank6_a_air    5290 non-null   float64\n",
      " 51  secondary_cleaner.state.floatbank6_a_level  5290 non-null   float64\n",
      "dtypes: float64(52)\n",
      "memory usage: 2.1+ MB\n"
     ]
    }
   ],
   "source": [
    "df_test.info()"
   ]
  },
  {
   "cell_type": "code",
   "execution_count": 8,
   "metadata": {},
   "outputs": [
    {
     "name": "stdout",
     "output_type": "stream",
     "text": [
      "<class 'pandas.core.frame.DataFrame'>\n",
      "Index: 19439 entries, 2016-01-15 00:00:00 to 2018-08-18 10:59:59\n",
      "Data columns (total 86 columns):\n",
      " #   Column                                              Non-Null Count  Dtype  \n",
      "---  ------                                              --------------  -----  \n",
      " 0   final.output.concentrate_ag                         19438 non-null  float64\n",
      " 1   final.output.concentrate_pb                         19438 non-null  float64\n",
      " 2   final.output.concentrate_sol                        19228 non-null  float64\n",
      " 3   final.output.concentrate_au                         19439 non-null  float64\n",
      " 4   final.output.recovery                               19439 non-null  float64\n",
      " 5   final.output.tail_ag                                19438 non-null  float64\n",
      " 6   final.output.tail_pb                                19338 non-null  float64\n",
      " 7   final.output.tail_sol                               19433 non-null  float64\n",
      " 8   final.output.tail_au                                19439 non-null  float64\n",
      " 9   primary_cleaner.input.sulfate                       19415 non-null  float64\n",
      " 10  primary_cleaner.input.depressant                    19402 non-null  float64\n",
      " 11  primary_cleaner.input.feed_size                     19439 non-null  float64\n",
      " 12  primary_cleaner.input.xanthate                      19335 non-null  float64\n",
      " 13  primary_cleaner.output.concentrate_ag               19439 non-null  float64\n",
      " 14  primary_cleaner.output.concentrate_pb               19323 non-null  float64\n",
      " 15  primary_cleaner.output.concentrate_sol              19069 non-null  float64\n",
      " 16  primary_cleaner.output.concentrate_au               19439 non-null  float64\n",
      " 17  primary_cleaner.output.tail_ag                      19435 non-null  float64\n",
      " 18  primary_cleaner.output.tail_pb                      19418 non-null  float64\n",
      " 19  primary_cleaner.output.tail_sol                     19377 non-null  float64\n",
      " 20  primary_cleaner.output.tail_au                      19439 non-null  float64\n",
      " 21  primary_cleaner.state.floatbank8_a_air              19435 non-null  float64\n",
      " 22  primary_cleaner.state.floatbank8_a_level            19438 non-null  float64\n",
      " 23  primary_cleaner.state.floatbank8_b_air              19435 non-null  float64\n",
      " 24  primary_cleaner.state.floatbank8_b_level            19438 non-null  float64\n",
      " 25  primary_cleaner.state.floatbank8_c_air              19437 non-null  float64\n",
      " 26  primary_cleaner.state.floatbank8_c_level            19438 non-null  float64\n",
      " 27  primary_cleaner.state.floatbank8_d_air              19436 non-null  float64\n",
      " 28  primary_cleaner.state.floatbank8_d_level            19438 non-null  float64\n",
      " 29  rougher.calculation.sulfate_to_au_concentrate       19437 non-null  float64\n",
      " 30  rougher.calculation.floatbank10_sulfate_to_au_feed  19437 non-null  float64\n",
      " 31  rougher.calculation.floatbank11_sulfate_to_au_feed  19437 non-null  float64\n",
      " 32  rougher.calculation.au_pb_ratio                     19439 non-null  float64\n",
      " 33  rougher.input.feed_ag                               19439 non-null  float64\n",
      " 34  rougher.input.feed_pb                               19339 non-null  float64\n",
      " 35  rougher.input.feed_rate                             19428 non-null  float64\n",
      " 36  rougher.input.feed_size                             19294 non-null  float64\n",
      " 37  rougher.input.feed_sol                              19340 non-null  float64\n",
      " 38  rougher.input.feed_au                               19439 non-null  float64\n",
      " 39  rougher.input.floatbank10_sulfate                   19405 non-null  float64\n",
      " 40  rougher.input.floatbank10_xanthate                  19431 non-null  float64\n",
      " 41  rougher.input.floatbank11_sulfate                   19395 non-null  float64\n",
      " 42  rougher.input.floatbank11_xanthate                  18986 non-null  float64\n",
      " 43  rougher.output.concentrate_ag                       19439 non-null  float64\n",
      " 44  rougher.output.concentrate_pb                       19439 non-null  float64\n",
      " 45  rougher.output.concentrate_sol                      19416 non-null  float64\n",
      " 46  rougher.output.concentrate_au                       19439 non-null  float64\n",
      " 47  rougher.output.recovery                             19439 non-null  float64\n",
      " 48  rougher.output.tail_ag                              19438 non-null  float64\n",
      " 49  rougher.output.tail_pb                              19439 non-null  float64\n",
      " 50  rougher.output.tail_sol                             19439 non-null  float64\n",
      " 51  rougher.output.tail_au                              19439 non-null  float64\n",
      " 52  rougher.state.floatbank10_a_air                     19438 non-null  float64\n",
      " 53  rougher.state.floatbank10_a_level                   19438 non-null  float64\n",
      " 54  rougher.state.floatbank10_b_air                     19438 non-null  float64\n",
      " 55  rougher.state.floatbank10_b_level                   19438 non-null  float64\n",
      " 56  rougher.state.floatbank10_c_air                     19438 non-null  float64\n",
      " 57  rougher.state.floatbank10_c_level                   19438 non-null  float64\n",
      " 58  rougher.state.floatbank10_d_air                     19439 non-null  float64\n",
      " 59  rougher.state.floatbank10_d_level                   19439 non-null  float64\n",
      " 60  rougher.state.floatbank10_e_air                     19003 non-null  float64\n",
      " 61  rougher.state.floatbank10_e_level                   19439 non-null  float64\n",
      " 62  rougher.state.floatbank10_f_air                     19439 non-null  float64\n",
      " 63  rougher.state.floatbank10_f_level                   19439 non-null  float64\n",
      " 64  secondary_cleaner.output.tail_ag                    19437 non-null  float64\n",
      " 65  secondary_cleaner.output.tail_pb                    19427 non-null  float64\n",
      " 66  secondary_cleaner.output.tail_sol                   17691 non-null  float64\n",
      " 67  secondary_cleaner.output.tail_au                    19439 non-null  float64\n",
      " 68  secondary_cleaner.state.floatbank2_a_air            19219 non-null  float64\n",
      " 69  secondary_cleaner.state.floatbank2_a_level          19438 non-null  float64\n",
      " 70  secondary_cleaner.state.floatbank2_b_air            19416 non-null  float64\n",
      " 71  secondary_cleaner.state.floatbank2_b_level          19438 non-null  float64\n",
      " 72  secondary_cleaner.state.floatbank3_a_air            19426 non-null  float64\n",
      " 73  secondary_cleaner.state.floatbank3_a_level          19438 non-null  float64\n",
      " 74  secondary_cleaner.state.floatbank3_b_air            19438 non-null  float64\n",
      " 75  secondary_cleaner.state.floatbank3_b_level          19438 non-null  float64\n",
      " 76  secondary_cleaner.state.floatbank4_a_air            19433 non-null  float64\n",
      " 77  secondary_cleaner.state.floatbank4_a_level          19438 non-null  float64\n",
      " 78  secondary_cleaner.state.floatbank4_b_air            19438 non-null  float64\n",
      " 79  secondary_cleaner.state.floatbank4_b_level          19438 non-null  float64\n",
      " 80  secondary_cleaner.state.floatbank5_a_air            19438 non-null  float64\n",
      " 81  secondary_cleaner.state.floatbank5_a_level          19438 non-null  float64\n",
      " 82  secondary_cleaner.state.floatbank5_b_air            19438 non-null  float64\n",
      " 83  secondary_cleaner.state.floatbank5_b_level          19438 non-null  float64\n",
      " 84  secondary_cleaner.state.floatbank6_a_air            19437 non-null  float64\n",
      " 85  secondary_cleaner.state.floatbank6_a_level          19438 non-null  float64\n",
      "dtypes: float64(86)\n",
      "memory usage: 12.9+ MB\n"
     ]
    }
   ],
   "source": [
    "df_full.info()"
   ]
  },
  {
   "cell_type": "code",
   "execution_count": 9,
   "metadata": {},
   "outputs": [
    {
     "data": {
      "text/html": [
       "<div>\n",
       "<style scoped>\n",
       "    .dataframe tbody tr th:only-of-type {\n",
       "        vertical-align: middle;\n",
       "    }\n",
       "\n",
       "    .dataframe tbody tr th {\n",
       "        vertical-align: top;\n",
       "    }\n",
       "\n",
       "    .dataframe thead th {\n",
       "        text-align: right;\n",
       "    }\n",
       "</style>\n",
       "<table border=\"1\" class=\"dataframe\">\n",
       "  <thead>\n",
       "    <tr style=\"text-align: right;\">\n",
       "      <th></th>\n",
       "      <th>final.output.concentrate_ag</th>\n",
       "      <th>final.output.concentrate_pb</th>\n",
       "      <th>final.output.concentrate_sol</th>\n",
       "      <th>final.output.concentrate_au</th>\n",
       "      <th>final.output.recovery</th>\n",
       "      <th>final.output.tail_ag</th>\n",
       "      <th>final.output.tail_pb</th>\n",
       "      <th>final.output.tail_sol</th>\n",
       "      <th>final.output.tail_au</th>\n",
       "      <th>primary_cleaner.input.sulfate</th>\n",
       "      <th>...</th>\n",
       "      <th>secondary_cleaner.state.floatbank4_a_air</th>\n",
       "      <th>secondary_cleaner.state.floatbank4_a_level</th>\n",
       "      <th>secondary_cleaner.state.floatbank4_b_air</th>\n",
       "      <th>secondary_cleaner.state.floatbank4_b_level</th>\n",
       "      <th>secondary_cleaner.state.floatbank5_a_air</th>\n",
       "      <th>secondary_cleaner.state.floatbank5_a_level</th>\n",
       "      <th>secondary_cleaner.state.floatbank5_b_air</th>\n",
       "      <th>secondary_cleaner.state.floatbank5_b_level</th>\n",
       "      <th>secondary_cleaner.state.floatbank6_a_air</th>\n",
       "      <th>secondary_cleaner.state.floatbank6_a_level</th>\n",
       "    </tr>\n",
       "  </thead>\n",
       "  <tbody>\n",
       "    <tr>\n",
       "      <th>count</th>\n",
       "      <td>14148.000000</td>\n",
       "      <td>14148.000000</td>\n",
       "      <td>13938.000000</td>\n",
       "      <td>14149.000000</td>\n",
       "      <td>14149.000000</td>\n",
       "      <td>14149.000000</td>\n",
       "      <td>14049.000000</td>\n",
       "      <td>14144.000000</td>\n",
       "      <td>14149.000000</td>\n",
       "      <td>14129.000000</td>\n",
       "      <td>...</td>\n",
       "      <td>14143.000000</td>\n",
       "      <td>14148.000000</td>\n",
       "      <td>14148.000000</td>\n",
       "      <td>14148.000000</td>\n",
       "      <td>14148.000000</td>\n",
       "      <td>14148.000000</td>\n",
       "      <td>14148.000000</td>\n",
       "      <td>14148.000000</td>\n",
       "      <td>14147.000000</td>\n",
       "      <td>14148.000000</td>\n",
       "    </tr>\n",
       "    <tr>\n",
       "      <th>mean</th>\n",
       "      <td>5.142034</td>\n",
       "      <td>10.132960</td>\n",
       "      <td>9.202849</td>\n",
       "      <td>44.003792</td>\n",
       "      <td>66.518832</td>\n",
       "      <td>9.607035</td>\n",
       "      <td>2.597298</td>\n",
       "      <td>10.512122</td>\n",
       "      <td>2.918421</td>\n",
       "      <td>133.320659</td>\n",
       "      <td>...</td>\n",
       "      <td>19.985454</td>\n",
       "      <td>-478.696836</td>\n",
       "      <td>15.487065</td>\n",
       "      <td>-460.229416</td>\n",
       "      <td>16.775136</td>\n",
       "      <td>-483.956022</td>\n",
       "      <td>13.064590</td>\n",
       "      <td>-483.966564</td>\n",
       "      <td>19.577539</td>\n",
       "      <td>-506.798480</td>\n",
       "    </tr>\n",
       "    <tr>\n",
       "      <th>std</th>\n",
       "      <td>1.369586</td>\n",
       "      <td>1.654930</td>\n",
       "      <td>2.790516</td>\n",
       "      <td>4.905261</td>\n",
       "      <td>10.295402</td>\n",
       "      <td>2.319069</td>\n",
       "      <td>0.971843</td>\n",
       "      <td>3.003617</td>\n",
       "      <td>0.903712</td>\n",
       "      <td>39.431659</td>\n",
       "      <td>...</td>\n",
       "      <td>5.657723</td>\n",
       "      <td>50.736021</td>\n",
       "      <td>5.255655</td>\n",
       "      <td>58.843586</td>\n",
       "      <td>5.831906</td>\n",
       "      <td>37.892788</td>\n",
       "      <td>5.765617</td>\n",
       "      <td>39.207913</td>\n",
       "      <td>5.764417</td>\n",
       "      <td>37.079249</td>\n",
       "    </tr>\n",
       "    <tr>\n",
       "      <th>min</th>\n",
       "      <td>0.000000</td>\n",
       "      <td>0.000000</td>\n",
       "      <td>0.000000</td>\n",
       "      <td>0.000000</td>\n",
       "      <td>0.000000</td>\n",
       "      <td>0.000000</td>\n",
       "      <td>0.000000</td>\n",
       "      <td>0.000000</td>\n",
       "      <td>0.000000</td>\n",
       "      <td>0.003112</td>\n",
       "      <td>...</td>\n",
       "      <td>0.000000</td>\n",
       "      <td>-799.709069</td>\n",
       "      <td>0.000000</td>\n",
       "      <td>-799.889113</td>\n",
       "      <td>-0.372054</td>\n",
       "      <td>-797.142475</td>\n",
       "      <td>0.646208</td>\n",
       "      <td>-800.006180</td>\n",
       "      <td>0.195324</td>\n",
       "      <td>-809.398668</td>\n",
       "    </tr>\n",
       "    <tr>\n",
       "      <th>25%</th>\n",
       "      <td>4.211620</td>\n",
       "      <td>9.297355</td>\n",
       "      <td>7.484645</td>\n",
       "      <td>43.276111</td>\n",
       "      <td>62.545817</td>\n",
       "      <td>7.997429</td>\n",
       "      <td>1.905973</td>\n",
       "      <td>8.811324</td>\n",
       "      <td>2.368607</td>\n",
       "      <td>107.006651</td>\n",
       "      <td>...</td>\n",
       "      <td>14.990775</td>\n",
       "      <td>-500.628656</td>\n",
       "      <td>11.894558</td>\n",
       "      <td>-500.149000</td>\n",
       "      <td>11.083980</td>\n",
       "      <td>-500.363177</td>\n",
       "      <td>8.994405</td>\n",
       "      <td>-500.105994</td>\n",
       "      <td>14.989304</td>\n",
       "      <td>-500.745104</td>\n",
       "    </tr>\n",
       "    <tr>\n",
       "      <th>50%</th>\n",
       "      <td>4.994652</td>\n",
       "      <td>10.297144</td>\n",
       "      <td>8.845462</td>\n",
       "      <td>44.872436</td>\n",
       "      <td>67.432775</td>\n",
       "      <td>9.480270</td>\n",
       "      <td>2.592022</td>\n",
       "      <td>10.514621</td>\n",
       "      <td>2.851025</td>\n",
       "      <td>133.018328</td>\n",
       "      <td>...</td>\n",
       "      <td>20.001789</td>\n",
       "      <td>-499.681450</td>\n",
       "      <td>14.975536</td>\n",
       "      <td>-499.388738</td>\n",
       "      <td>17.932223</td>\n",
       "      <td>-499.702452</td>\n",
       "      <td>11.997547</td>\n",
       "      <td>-499.914556</td>\n",
       "      <td>19.984175</td>\n",
       "      <td>-500.061431</td>\n",
       "    </tr>\n",
       "    <tr>\n",
       "      <th>75%</th>\n",
       "      <td>5.859540</td>\n",
       "      <td>11.170603</td>\n",
       "      <td>10.487508</td>\n",
       "      <td>46.166425</td>\n",
       "      <td>72.346428</td>\n",
       "      <td>11.003707</td>\n",
       "      <td>3.241723</td>\n",
       "      <td>11.933009</td>\n",
       "      <td>3.434764</td>\n",
       "      <td>159.825396</td>\n",
       "      <td>...</td>\n",
       "      <td>24.990826</td>\n",
       "      <td>-477.472413</td>\n",
       "      <td>20.059375</td>\n",
       "      <td>-400.039008</td>\n",
       "      <td>21.346550</td>\n",
       "      <td>-487.712108</td>\n",
       "      <td>17.982903</td>\n",
       "      <td>-453.186936</td>\n",
       "      <td>24.991623</td>\n",
       "      <td>-499.536466</td>\n",
       "    </tr>\n",
       "    <tr>\n",
       "      <th>max</th>\n",
       "      <td>16.001945</td>\n",
       "      <td>17.031899</td>\n",
       "      <td>18.124851</td>\n",
       "      <td>52.756638</td>\n",
       "      <td>100.000000</td>\n",
       "      <td>19.552149</td>\n",
       "      <td>5.639565</td>\n",
       "      <td>22.317730</td>\n",
       "      <td>8.197408</td>\n",
       "      <td>250.127834</td>\n",
       "      <td>...</td>\n",
       "      <td>30.115735</td>\n",
       "      <td>-245.239184</td>\n",
       "      <td>24.007913</td>\n",
       "      <td>-145.071088</td>\n",
       "      <td>43.709931</td>\n",
       "      <td>-275.073125</td>\n",
       "      <td>27.926001</td>\n",
       "      <td>-157.396071</td>\n",
       "      <td>32.188906</td>\n",
       "      <td>-104.427459</td>\n",
       "    </tr>\n",
       "  </tbody>\n",
       "</table>\n",
       "<p>8 rows × 86 columns</p>\n",
       "</div>"
      ],
      "text/plain": [
       "       final.output.concentrate_ag  final.output.concentrate_pb  \\\n",
       "count                 14148.000000                 14148.000000   \n",
       "mean                      5.142034                    10.132960   \n",
       "std                       1.369586                     1.654930   \n",
       "min                       0.000000                     0.000000   \n",
       "25%                       4.211620                     9.297355   \n",
       "50%                       4.994652                    10.297144   \n",
       "75%                       5.859540                    11.170603   \n",
       "max                      16.001945                    17.031899   \n",
       "\n",
       "       final.output.concentrate_sol  final.output.concentrate_au  \\\n",
       "count                  13938.000000                 14149.000000   \n",
       "mean                       9.202849                    44.003792   \n",
       "std                        2.790516                     4.905261   \n",
       "min                        0.000000                     0.000000   \n",
       "25%                        7.484645                    43.276111   \n",
       "50%                        8.845462                    44.872436   \n",
       "75%                       10.487508                    46.166425   \n",
       "max                       18.124851                    52.756638   \n",
       "\n",
       "       final.output.recovery  final.output.tail_ag  final.output.tail_pb  \\\n",
       "count           14149.000000          14149.000000          14049.000000   \n",
       "mean               66.518832              9.607035              2.597298   \n",
       "std                10.295402              2.319069              0.971843   \n",
       "min                 0.000000              0.000000              0.000000   \n",
       "25%                62.545817              7.997429              1.905973   \n",
       "50%                67.432775              9.480270              2.592022   \n",
       "75%                72.346428             11.003707              3.241723   \n",
       "max               100.000000             19.552149              5.639565   \n",
       "\n",
       "       final.output.tail_sol  final.output.tail_au  \\\n",
       "count           14144.000000          14149.000000   \n",
       "mean               10.512122              2.918421   \n",
       "std                 3.003617              0.903712   \n",
       "min                 0.000000              0.000000   \n",
       "25%                 8.811324              2.368607   \n",
       "50%                10.514621              2.851025   \n",
       "75%                11.933009              3.434764   \n",
       "max                22.317730              8.197408   \n",
       "\n",
       "       primary_cleaner.input.sulfate  ...  \\\n",
       "count                   14129.000000  ...   \n",
       "mean                      133.320659  ...   \n",
       "std                        39.431659  ...   \n",
       "min                         0.003112  ...   \n",
       "25%                       107.006651  ...   \n",
       "50%                       133.018328  ...   \n",
       "75%                       159.825396  ...   \n",
       "max                       250.127834  ...   \n",
       "\n",
       "       secondary_cleaner.state.floatbank4_a_air  \\\n",
       "count                              14143.000000   \n",
       "mean                                  19.985454   \n",
       "std                                    5.657723   \n",
       "min                                    0.000000   \n",
       "25%                                   14.990775   \n",
       "50%                                   20.001789   \n",
       "75%                                   24.990826   \n",
       "max                                   30.115735   \n",
       "\n",
       "       secondary_cleaner.state.floatbank4_a_level  \\\n",
       "count                                14148.000000   \n",
       "mean                                  -478.696836   \n",
       "std                                     50.736021   \n",
       "min                                   -799.709069   \n",
       "25%                                   -500.628656   \n",
       "50%                                   -499.681450   \n",
       "75%                                   -477.472413   \n",
       "max                                   -245.239184   \n",
       "\n",
       "       secondary_cleaner.state.floatbank4_b_air  \\\n",
       "count                              14148.000000   \n",
       "mean                                  15.487065   \n",
       "std                                    5.255655   \n",
       "min                                    0.000000   \n",
       "25%                                   11.894558   \n",
       "50%                                   14.975536   \n",
       "75%                                   20.059375   \n",
       "max                                   24.007913   \n",
       "\n",
       "       secondary_cleaner.state.floatbank4_b_level  \\\n",
       "count                                14148.000000   \n",
       "mean                                  -460.229416   \n",
       "std                                     58.843586   \n",
       "min                                   -799.889113   \n",
       "25%                                   -500.149000   \n",
       "50%                                   -499.388738   \n",
       "75%                                   -400.039008   \n",
       "max                                   -145.071088   \n",
       "\n",
       "       secondary_cleaner.state.floatbank5_a_air  \\\n",
       "count                              14148.000000   \n",
       "mean                                  16.775136   \n",
       "std                                    5.831906   \n",
       "min                                   -0.372054   \n",
       "25%                                   11.083980   \n",
       "50%                                   17.932223   \n",
       "75%                                   21.346550   \n",
       "max                                   43.709931   \n",
       "\n",
       "       secondary_cleaner.state.floatbank5_a_level  \\\n",
       "count                                14148.000000   \n",
       "mean                                  -483.956022   \n",
       "std                                     37.892788   \n",
       "min                                   -797.142475   \n",
       "25%                                   -500.363177   \n",
       "50%                                   -499.702452   \n",
       "75%                                   -487.712108   \n",
       "max                                   -275.073125   \n",
       "\n",
       "       secondary_cleaner.state.floatbank5_b_air  \\\n",
       "count                              14148.000000   \n",
       "mean                                  13.064590   \n",
       "std                                    5.765617   \n",
       "min                                    0.646208   \n",
       "25%                                    8.994405   \n",
       "50%                                   11.997547   \n",
       "75%                                   17.982903   \n",
       "max                                   27.926001   \n",
       "\n",
       "       secondary_cleaner.state.floatbank5_b_level  \\\n",
       "count                                14148.000000   \n",
       "mean                                  -483.966564   \n",
       "std                                     39.207913   \n",
       "min                                   -800.006180   \n",
       "25%                                   -500.105994   \n",
       "50%                                   -499.914556   \n",
       "75%                                   -453.186936   \n",
       "max                                   -157.396071   \n",
       "\n",
       "       secondary_cleaner.state.floatbank6_a_air  \\\n",
       "count                              14147.000000   \n",
       "mean                                  19.577539   \n",
       "std                                    5.764417   \n",
       "min                                    0.195324   \n",
       "25%                                   14.989304   \n",
       "50%                                   19.984175   \n",
       "75%                                   24.991623   \n",
       "max                                   32.188906   \n",
       "\n",
       "       secondary_cleaner.state.floatbank6_a_level  \n",
       "count                                14148.000000  \n",
       "mean                                  -506.798480  \n",
       "std                                     37.079249  \n",
       "min                                   -809.398668  \n",
       "25%                                   -500.745104  \n",
       "50%                                   -500.061431  \n",
       "75%                                   -499.536466  \n",
       "max                                   -104.427459  \n",
       "\n",
       "[8 rows x 86 columns]"
      ]
     },
     "execution_count": 9,
     "metadata": {},
     "output_type": "execute_result"
    }
   ],
   "source": [
    "df_train.describe()"
   ]
  },
  {
   "cell_type": "code",
   "execution_count": 10,
   "metadata": {},
   "outputs": [
    {
     "data": {
      "text/html": [
       "<div>\n",
       "<style scoped>\n",
       "    .dataframe tbody tr th:only-of-type {\n",
       "        vertical-align: middle;\n",
       "    }\n",
       "\n",
       "    .dataframe tbody tr th {\n",
       "        vertical-align: top;\n",
       "    }\n",
       "\n",
       "    .dataframe thead th {\n",
       "        text-align: right;\n",
       "    }\n",
       "</style>\n",
       "<table border=\"1\" class=\"dataframe\">\n",
       "  <thead>\n",
       "    <tr style=\"text-align: right;\">\n",
       "      <th></th>\n",
       "      <th>primary_cleaner.input.sulfate</th>\n",
       "      <th>primary_cleaner.input.depressant</th>\n",
       "      <th>primary_cleaner.input.feed_size</th>\n",
       "      <th>primary_cleaner.input.xanthate</th>\n",
       "      <th>primary_cleaner.state.floatbank8_a_air</th>\n",
       "      <th>primary_cleaner.state.floatbank8_a_level</th>\n",
       "      <th>primary_cleaner.state.floatbank8_b_air</th>\n",
       "      <th>primary_cleaner.state.floatbank8_b_level</th>\n",
       "      <th>primary_cleaner.state.floatbank8_c_air</th>\n",
       "      <th>primary_cleaner.state.floatbank8_c_level</th>\n",
       "      <th>...</th>\n",
       "      <th>secondary_cleaner.state.floatbank4_a_air</th>\n",
       "      <th>secondary_cleaner.state.floatbank4_a_level</th>\n",
       "      <th>secondary_cleaner.state.floatbank4_b_air</th>\n",
       "      <th>secondary_cleaner.state.floatbank4_b_level</th>\n",
       "      <th>secondary_cleaner.state.floatbank5_a_air</th>\n",
       "      <th>secondary_cleaner.state.floatbank5_a_level</th>\n",
       "      <th>secondary_cleaner.state.floatbank5_b_air</th>\n",
       "      <th>secondary_cleaner.state.floatbank5_b_level</th>\n",
       "      <th>secondary_cleaner.state.floatbank6_a_air</th>\n",
       "      <th>secondary_cleaner.state.floatbank6_a_level</th>\n",
       "    </tr>\n",
       "  </thead>\n",
       "  <tbody>\n",
       "    <tr>\n",
       "      <th>count</th>\n",
       "      <td>5286.000000</td>\n",
       "      <td>5285.000000</td>\n",
       "      <td>5290.000000</td>\n",
       "      <td>5286.000000</td>\n",
       "      <td>5.290000e+03</td>\n",
       "      <td>5290.000000</td>\n",
       "      <td>5.290000e+03</td>\n",
       "      <td>5290.000000</td>\n",
       "      <td>5.290000e+03</td>\n",
       "      <td>5290.000000</td>\n",
       "      <td>...</td>\n",
       "      <td>5.290000e+03</td>\n",
       "      <td>5290.000000</td>\n",
       "      <td>5.290000e+03</td>\n",
       "      <td>5290.000000</td>\n",
       "      <td>5290.000000</td>\n",
       "      <td>5290.000000</td>\n",
       "      <td>5290.000000</td>\n",
       "      <td>5290.000000</td>\n",
       "      <td>5290.000000</td>\n",
       "      <td>5290.000000</td>\n",
       "    </tr>\n",
       "    <tr>\n",
       "      <th>mean</th>\n",
       "      <td>174.839652</td>\n",
       "      <td>8.683596</td>\n",
       "      <td>7.266339</td>\n",
       "      <td>1.383803</td>\n",
       "      <td>1.539494e+03</td>\n",
       "      <td>-497.665883</td>\n",
       "      <td>1.545174e+03</td>\n",
       "      <td>-500.273098</td>\n",
       "      <td>1.527272e+03</td>\n",
       "      <td>-498.330680</td>\n",
       "      <td>...</td>\n",
       "      <td>1.632007e+01</td>\n",
       "      <td>-505.144570</td>\n",
       "      <td>1.373544e+01</td>\n",
       "      <td>-463.349858</td>\n",
       "      <td>12.804186</td>\n",
       "      <td>-501.329122</td>\n",
       "      <td>9.881145</td>\n",
       "      <td>-495.663398</td>\n",
       "      <td>17.304935</td>\n",
       "      <td>-501.793193</td>\n",
       "    </tr>\n",
       "    <tr>\n",
       "      <th>std</th>\n",
       "      <td>43.027080</td>\n",
       "      <td>3.072050</td>\n",
       "      <td>0.610219</td>\n",
       "      <td>0.643474</td>\n",
       "      <td>1.167979e+02</td>\n",
       "      <td>19.952431</td>\n",
       "      <td>1.222246e+02</td>\n",
       "      <td>32.968307</td>\n",
       "      <td>1.225380e+02</td>\n",
       "      <td>21.964876</td>\n",
       "      <td>...</td>\n",
       "      <td>3.493583e+00</td>\n",
       "      <td>31.427337</td>\n",
       "      <td>3.430484e+00</td>\n",
       "      <td>86.189107</td>\n",
       "      <td>3.026591</td>\n",
       "      <td>17.951495</td>\n",
       "      <td>2.868205</td>\n",
       "      <td>34.535007</td>\n",
       "      <td>4.536544</td>\n",
       "      <td>39.044215</td>\n",
       "    </tr>\n",
       "    <tr>\n",
       "      <th>min</th>\n",
       "      <td>2.566156</td>\n",
       "      <td>0.003839</td>\n",
       "      <td>5.650000</td>\n",
       "      <td>0.004984</td>\n",
       "      <td>5.445860e-32</td>\n",
       "      <td>-795.316337</td>\n",
       "      <td>6.647490e-32</td>\n",
       "      <td>-799.997015</td>\n",
       "      <td>4.033736e-32</td>\n",
       "      <td>-799.960571</td>\n",
       "      <td>...</td>\n",
       "      <td>1.079872e-16</td>\n",
       "      <td>-799.798523</td>\n",
       "      <td>2.489718e-17</td>\n",
       "      <td>-800.836914</td>\n",
       "      <td>0.069227</td>\n",
       "      <td>-797.323986</td>\n",
       "      <td>0.528083</td>\n",
       "      <td>-800.220337</td>\n",
       "      <td>-0.079426</td>\n",
       "      <td>-809.741464</td>\n",
       "    </tr>\n",
       "    <tr>\n",
       "      <th>25%</th>\n",
       "      <td>147.121401</td>\n",
       "      <td>6.489555</td>\n",
       "      <td>6.890000</td>\n",
       "      <td>0.907623</td>\n",
       "      <td>1.498936e+03</td>\n",
       "      <td>-500.357298</td>\n",
       "      <td>1.498971e+03</td>\n",
       "      <td>-500.703002</td>\n",
       "      <td>1.473230e+03</td>\n",
       "      <td>-501.018117</td>\n",
       "      <td>...</td>\n",
       "      <td>1.403618e+01</td>\n",
       "      <td>-500.868258</td>\n",
       "      <td>1.202862e+01</td>\n",
       "      <td>-500.323028</td>\n",
       "      <td>10.914838</td>\n",
       "      <td>-500.726841</td>\n",
       "      <td>8.036719</td>\n",
       "      <td>-500.194668</td>\n",
       "      <td>13.997317</td>\n",
       "      <td>-500.690984</td>\n",
       "    </tr>\n",
       "    <tr>\n",
       "      <th>50%</th>\n",
       "      <td>177.828489</td>\n",
       "      <td>8.052207</td>\n",
       "      <td>7.250000</td>\n",
       "      <td>1.197610</td>\n",
       "      <td>1.585129e+03</td>\n",
       "      <td>-499.969164</td>\n",
       "      <td>1.595622e+03</td>\n",
       "      <td>-500.028514</td>\n",
       "      <td>1.549595e+03</td>\n",
       "      <td>-500.017711</td>\n",
       "      <td>...</td>\n",
       "      <td>1.700847e+01</td>\n",
       "      <td>-500.115727</td>\n",
       "      <td>1.496486e+01</td>\n",
       "      <td>-499.576513</td>\n",
       "      <td>12.954182</td>\n",
       "      <td>-499.990332</td>\n",
       "      <td>10.004301</td>\n",
       "      <td>-499.990535</td>\n",
       "      <td>16.014935</td>\n",
       "      <td>-500.007126</td>\n",
       "    </tr>\n",
       "    <tr>\n",
       "      <th>75%</th>\n",
       "      <td>208.125438</td>\n",
       "      <td>10.027764</td>\n",
       "      <td>7.600000</td>\n",
       "      <td>1.797819</td>\n",
       "      <td>1.602077e+03</td>\n",
       "      <td>-499.568951</td>\n",
       "      <td>1.602324e+03</td>\n",
       "      <td>-499.293257</td>\n",
       "      <td>1.601144e+03</td>\n",
       "      <td>-498.994130</td>\n",
       "      <td>...</td>\n",
       "      <td>1.803862e+01</td>\n",
       "      <td>-499.404224</td>\n",
       "      <td>1.596213e+01</td>\n",
       "      <td>-400.933805</td>\n",
       "      <td>15.097528</td>\n",
       "      <td>-499.283191</td>\n",
       "      <td>11.997467</td>\n",
       "      <td>-499.719913</td>\n",
       "      <td>21.020013</td>\n",
       "      <td>-499.373018</td>\n",
       "    </tr>\n",
       "    <tr>\n",
       "      <th>max</th>\n",
       "      <td>265.983123</td>\n",
       "      <td>40.000000</td>\n",
       "      <td>15.500000</td>\n",
       "      <td>4.102454</td>\n",
       "      <td>2.103104e+03</td>\n",
       "      <td>-57.195404</td>\n",
       "      <td>1.813084e+03</td>\n",
       "      <td>-142.527229</td>\n",
       "      <td>1.715054e+03</td>\n",
       "      <td>-150.937035</td>\n",
       "      <td>...</td>\n",
       "      <td>3.005180e+01</td>\n",
       "      <td>-401.565212</td>\n",
       "      <td>3.126971e+01</td>\n",
       "      <td>-6.506986</td>\n",
       "      <td>25.258848</td>\n",
       "      <td>-244.483566</td>\n",
       "      <td>14.086866</td>\n",
       "      <td>-137.740004</td>\n",
       "      <td>26.705889</td>\n",
       "      <td>-123.307487</td>\n",
       "    </tr>\n",
       "  </tbody>\n",
       "</table>\n",
       "<p>8 rows × 52 columns</p>\n",
       "</div>"
      ],
      "text/plain": [
       "       primary_cleaner.input.sulfate  primary_cleaner.input.depressant  \\\n",
       "count                    5286.000000                       5285.000000   \n",
       "mean                      174.839652                          8.683596   \n",
       "std                        43.027080                          3.072050   \n",
       "min                         2.566156                          0.003839   \n",
       "25%                       147.121401                          6.489555   \n",
       "50%                       177.828489                          8.052207   \n",
       "75%                       208.125438                         10.027764   \n",
       "max                       265.983123                         40.000000   \n",
       "\n",
       "       primary_cleaner.input.feed_size  primary_cleaner.input.xanthate  \\\n",
       "count                      5290.000000                     5286.000000   \n",
       "mean                          7.266339                        1.383803   \n",
       "std                           0.610219                        0.643474   \n",
       "min                           5.650000                        0.004984   \n",
       "25%                           6.890000                        0.907623   \n",
       "50%                           7.250000                        1.197610   \n",
       "75%                           7.600000                        1.797819   \n",
       "max                          15.500000                        4.102454   \n",
       "\n",
       "       primary_cleaner.state.floatbank8_a_air  \\\n",
       "count                            5.290000e+03   \n",
       "mean                             1.539494e+03   \n",
       "std                              1.167979e+02   \n",
       "min                              5.445860e-32   \n",
       "25%                              1.498936e+03   \n",
       "50%                              1.585129e+03   \n",
       "75%                              1.602077e+03   \n",
       "max                              2.103104e+03   \n",
       "\n",
       "       primary_cleaner.state.floatbank8_a_level  \\\n",
       "count                               5290.000000   \n",
       "mean                                -497.665883   \n",
       "std                                   19.952431   \n",
       "min                                 -795.316337   \n",
       "25%                                 -500.357298   \n",
       "50%                                 -499.969164   \n",
       "75%                                 -499.568951   \n",
       "max                                  -57.195404   \n",
       "\n",
       "       primary_cleaner.state.floatbank8_b_air  \\\n",
       "count                            5.290000e+03   \n",
       "mean                             1.545174e+03   \n",
       "std                              1.222246e+02   \n",
       "min                              6.647490e-32   \n",
       "25%                              1.498971e+03   \n",
       "50%                              1.595622e+03   \n",
       "75%                              1.602324e+03   \n",
       "max                              1.813084e+03   \n",
       "\n",
       "       primary_cleaner.state.floatbank8_b_level  \\\n",
       "count                               5290.000000   \n",
       "mean                                -500.273098   \n",
       "std                                   32.968307   \n",
       "min                                 -799.997015   \n",
       "25%                                 -500.703002   \n",
       "50%                                 -500.028514   \n",
       "75%                                 -499.293257   \n",
       "max                                 -142.527229   \n",
       "\n",
       "       primary_cleaner.state.floatbank8_c_air  \\\n",
       "count                            5.290000e+03   \n",
       "mean                             1.527272e+03   \n",
       "std                              1.225380e+02   \n",
       "min                              4.033736e-32   \n",
       "25%                              1.473230e+03   \n",
       "50%                              1.549595e+03   \n",
       "75%                              1.601144e+03   \n",
       "max                              1.715054e+03   \n",
       "\n",
       "       primary_cleaner.state.floatbank8_c_level  ...  \\\n",
       "count                               5290.000000  ...   \n",
       "mean                                -498.330680  ...   \n",
       "std                                   21.964876  ...   \n",
       "min                                 -799.960571  ...   \n",
       "25%                                 -501.018117  ...   \n",
       "50%                                 -500.017711  ...   \n",
       "75%                                 -498.994130  ...   \n",
       "max                                 -150.937035  ...   \n",
       "\n",
       "       secondary_cleaner.state.floatbank4_a_air  \\\n",
       "count                              5.290000e+03   \n",
       "mean                               1.632007e+01   \n",
       "std                                3.493583e+00   \n",
       "min                                1.079872e-16   \n",
       "25%                                1.403618e+01   \n",
       "50%                                1.700847e+01   \n",
       "75%                                1.803862e+01   \n",
       "max                                3.005180e+01   \n",
       "\n",
       "       secondary_cleaner.state.floatbank4_a_level  \\\n",
       "count                                 5290.000000   \n",
       "mean                                  -505.144570   \n",
       "std                                     31.427337   \n",
       "min                                   -799.798523   \n",
       "25%                                   -500.868258   \n",
       "50%                                   -500.115727   \n",
       "75%                                   -499.404224   \n",
       "max                                   -401.565212   \n",
       "\n",
       "       secondary_cleaner.state.floatbank4_b_air  \\\n",
       "count                              5.290000e+03   \n",
       "mean                               1.373544e+01   \n",
       "std                                3.430484e+00   \n",
       "min                                2.489718e-17   \n",
       "25%                                1.202862e+01   \n",
       "50%                                1.496486e+01   \n",
       "75%                                1.596213e+01   \n",
       "max                                3.126971e+01   \n",
       "\n",
       "       secondary_cleaner.state.floatbank4_b_level  \\\n",
       "count                                 5290.000000   \n",
       "mean                                  -463.349858   \n",
       "std                                     86.189107   \n",
       "min                                   -800.836914   \n",
       "25%                                   -500.323028   \n",
       "50%                                   -499.576513   \n",
       "75%                                   -400.933805   \n",
       "max                                     -6.506986   \n",
       "\n",
       "       secondary_cleaner.state.floatbank5_a_air  \\\n",
       "count                               5290.000000   \n",
       "mean                                  12.804186   \n",
       "std                                    3.026591   \n",
       "min                                    0.069227   \n",
       "25%                                   10.914838   \n",
       "50%                                   12.954182   \n",
       "75%                                   15.097528   \n",
       "max                                   25.258848   \n",
       "\n",
       "       secondary_cleaner.state.floatbank5_a_level  \\\n",
       "count                                 5290.000000   \n",
       "mean                                  -501.329122   \n",
       "std                                     17.951495   \n",
       "min                                   -797.323986   \n",
       "25%                                   -500.726841   \n",
       "50%                                   -499.990332   \n",
       "75%                                   -499.283191   \n",
       "max                                   -244.483566   \n",
       "\n",
       "       secondary_cleaner.state.floatbank5_b_air  \\\n",
       "count                               5290.000000   \n",
       "mean                                   9.881145   \n",
       "std                                    2.868205   \n",
       "min                                    0.528083   \n",
       "25%                                    8.036719   \n",
       "50%                                   10.004301   \n",
       "75%                                   11.997467   \n",
       "max                                   14.086866   \n",
       "\n",
       "       secondary_cleaner.state.floatbank5_b_level  \\\n",
       "count                                 5290.000000   \n",
       "mean                                  -495.663398   \n",
       "std                                     34.535007   \n",
       "min                                   -800.220337   \n",
       "25%                                   -500.194668   \n",
       "50%                                   -499.990535   \n",
       "75%                                   -499.719913   \n",
       "max                                   -137.740004   \n",
       "\n",
       "       secondary_cleaner.state.floatbank6_a_air  \\\n",
       "count                               5290.000000   \n",
       "mean                                  17.304935   \n",
       "std                                    4.536544   \n",
       "min                                   -0.079426   \n",
       "25%                                   13.997317   \n",
       "50%                                   16.014935   \n",
       "75%                                   21.020013   \n",
       "max                                   26.705889   \n",
       "\n",
       "       secondary_cleaner.state.floatbank6_a_level  \n",
       "count                                 5290.000000  \n",
       "mean                                  -501.793193  \n",
       "std                                     39.044215  \n",
       "min                                   -809.741464  \n",
       "25%                                   -500.690984  \n",
       "50%                                   -500.007126  \n",
       "75%                                   -499.373018  \n",
       "max                                   -123.307487  \n",
       "\n",
       "[8 rows x 52 columns]"
      ]
     },
     "execution_count": 10,
     "metadata": {},
     "output_type": "execute_result"
    }
   ],
   "source": [
    "df_test.describe()"
   ]
  },
  {
   "cell_type": "code",
   "execution_count": 11,
   "metadata": {},
   "outputs": [
    {
     "data": {
      "text/html": [
       "<div>\n",
       "<style scoped>\n",
       "    .dataframe tbody tr th:only-of-type {\n",
       "        vertical-align: middle;\n",
       "    }\n",
       "\n",
       "    .dataframe tbody tr th {\n",
       "        vertical-align: top;\n",
       "    }\n",
       "\n",
       "    .dataframe thead th {\n",
       "        text-align: right;\n",
       "    }\n",
       "</style>\n",
       "<table border=\"1\" class=\"dataframe\">\n",
       "  <thead>\n",
       "    <tr style=\"text-align: right;\">\n",
       "      <th></th>\n",
       "      <th>final.output.concentrate_ag</th>\n",
       "      <th>final.output.concentrate_pb</th>\n",
       "      <th>final.output.concentrate_sol</th>\n",
       "      <th>final.output.concentrate_au</th>\n",
       "      <th>final.output.recovery</th>\n",
       "      <th>final.output.tail_ag</th>\n",
       "      <th>final.output.tail_pb</th>\n",
       "      <th>final.output.tail_sol</th>\n",
       "      <th>final.output.tail_au</th>\n",
       "      <th>primary_cleaner.input.sulfate</th>\n",
       "      <th>...</th>\n",
       "      <th>secondary_cleaner.state.floatbank4_a_air</th>\n",
       "      <th>secondary_cleaner.state.floatbank4_a_level</th>\n",
       "      <th>secondary_cleaner.state.floatbank4_b_air</th>\n",
       "      <th>secondary_cleaner.state.floatbank4_b_level</th>\n",
       "      <th>secondary_cleaner.state.floatbank5_a_air</th>\n",
       "      <th>secondary_cleaner.state.floatbank5_a_level</th>\n",
       "      <th>secondary_cleaner.state.floatbank5_b_air</th>\n",
       "      <th>secondary_cleaner.state.floatbank5_b_level</th>\n",
       "      <th>secondary_cleaner.state.floatbank6_a_air</th>\n",
       "      <th>secondary_cleaner.state.floatbank6_a_level</th>\n",
       "    </tr>\n",
       "  </thead>\n",
       "  <tbody>\n",
       "    <tr>\n",
       "      <th>count</th>\n",
       "      <td>19438.000000</td>\n",
       "      <td>19438.000000</td>\n",
       "      <td>19228.000000</td>\n",
       "      <td>19439.000000</td>\n",
       "      <td>19439.000000</td>\n",
       "      <td>19438.000000</td>\n",
       "      <td>19338.000000</td>\n",
       "      <td>19433.000000</td>\n",
       "      <td>19439.000000</td>\n",
       "      <td>19415.000000</td>\n",
       "      <td>...</td>\n",
       "      <td>19433.000000</td>\n",
       "      <td>19438.000000</td>\n",
       "      <td>19438.000000</td>\n",
       "      <td>19438.000000</td>\n",
       "      <td>19438.000000</td>\n",
       "      <td>19438.000000</td>\n",
       "      <td>19438.000000</td>\n",
       "      <td>19438.000000</td>\n",
       "      <td>19437.000000</td>\n",
       "      <td>19438.000000</td>\n",
       "    </tr>\n",
       "    <tr>\n",
       "      <th>mean</th>\n",
       "      <td>5.168470</td>\n",
       "      <td>9.978895</td>\n",
       "      <td>9.501224</td>\n",
       "      <td>44.076513</td>\n",
       "      <td>67.050208</td>\n",
       "      <td>9.688589</td>\n",
       "      <td>2.705795</td>\n",
       "      <td>10.583728</td>\n",
       "      <td>3.042467</td>\n",
       "      <td>144.624774</td>\n",
       "      <td>...</td>\n",
       "      <td>18.987674</td>\n",
       "      <td>-485.894516</td>\n",
       "      <td>15.010366</td>\n",
       "      <td>-461.078636</td>\n",
       "      <td>15.694452</td>\n",
       "      <td>-488.684065</td>\n",
       "      <td>12.198224</td>\n",
       "      <td>-487.149827</td>\n",
       "      <td>18.959024</td>\n",
       "      <td>-505.436305</td>\n",
       "    </tr>\n",
       "    <tr>\n",
       "      <th>std</th>\n",
       "      <td>1.372348</td>\n",
       "      <td>1.669240</td>\n",
       "      <td>2.787537</td>\n",
       "      <td>5.129784</td>\n",
       "      <td>10.125840</td>\n",
       "      <td>2.328642</td>\n",
       "      <td>0.949077</td>\n",
       "      <td>2.868782</td>\n",
       "      <td>0.922808</td>\n",
       "      <td>44.464071</td>\n",
       "      <td>...</td>\n",
       "      <td>5.411058</td>\n",
       "      <td>47.758570</td>\n",
       "      <td>4.890228</td>\n",
       "      <td>67.405524</td>\n",
       "      <td>5.510974</td>\n",
       "      <td>34.533396</td>\n",
       "      <td>5.333024</td>\n",
       "      <td>38.347312</td>\n",
       "      <td>5.550498</td>\n",
       "      <td>37.689057</td>\n",
       "    </tr>\n",
       "    <tr>\n",
       "      <th>min</th>\n",
       "      <td>0.000000</td>\n",
       "      <td>0.000000</td>\n",
       "      <td>0.000000</td>\n",
       "      <td>0.000000</td>\n",
       "      <td>0.000000</td>\n",
       "      <td>0.000000</td>\n",
       "      <td>0.000000</td>\n",
       "      <td>0.000000</td>\n",
       "      <td>0.000000</td>\n",
       "      <td>0.003112</td>\n",
       "      <td>...</td>\n",
       "      <td>0.000000</td>\n",
       "      <td>-799.798523</td>\n",
       "      <td>0.000000</td>\n",
       "      <td>-800.836914</td>\n",
       "      <td>-0.372054</td>\n",
       "      <td>-797.323986</td>\n",
       "      <td>0.528083</td>\n",
       "      <td>-800.220337</td>\n",
       "      <td>-0.079426</td>\n",
       "      <td>-809.741464</td>\n",
       "    </tr>\n",
       "    <tr>\n",
       "      <th>25%</th>\n",
       "      <td>4.251240</td>\n",
       "      <td>9.137262</td>\n",
       "      <td>7.722820</td>\n",
       "      <td>43.402215</td>\n",
       "      <td>63.299712</td>\n",
       "      <td>8.062878</td>\n",
       "      <td>2.040119</td>\n",
       "      <td>8.938947</td>\n",
       "      <td>2.461138</td>\n",
       "      <td>114.107029</td>\n",
       "      <td>...</td>\n",
       "      <td>14.975734</td>\n",
       "      <td>-500.704892</td>\n",
       "      <td>11.940294</td>\n",
       "      <td>-500.187742</td>\n",
       "      <td>10.988606</td>\n",
       "      <td>-500.458467</td>\n",
       "      <td>8.971105</td>\n",
       "      <td>-500.129462</td>\n",
       "      <td>14.983037</td>\n",
       "      <td>-500.728067</td>\n",
       "    </tr>\n",
       "    <tr>\n",
       "      <th>50%</th>\n",
       "      <td>5.066094</td>\n",
       "      <td>10.102433</td>\n",
       "      <td>9.218961</td>\n",
       "      <td>45.011244</td>\n",
       "      <td>68.172738</td>\n",
       "      <td>9.743623</td>\n",
       "      <td>2.748730</td>\n",
       "      <td>10.622456</td>\n",
       "      <td>2.984909</td>\n",
       "      <td>143.232103</td>\n",
       "      <td>...</td>\n",
       "      <td>18.017481</td>\n",
       "      <td>-499.837793</td>\n",
       "      <td>14.971014</td>\n",
       "      <td>-499.459786</td>\n",
       "      <td>15.000036</td>\n",
       "      <td>-499.802605</td>\n",
       "      <td>11.019433</td>\n",
       "      <td>-499.935317</td>\n",
       "      <td>19.960541</td>\n",
       "      <td>-500.048400</td>\n",
       "    </tr>\n",
       "    <tr>\n",
       "      <th>75%</th>\n",
       "      <td>5.895527</td>\n",
       "      <td>11.035769</td>\n",
       "      <td>10.947813</td>\n",
       "      <td>46.275313</td>\n",
       "      <td>72.686642</td>\n",
       "      <td>11.134294</td>\n",
       "      <td>3.333216</td>\n",
       "      <td>12.104271</td>\n",
       "      <td>3.571351</td>\n",
       "      <td>175.075656</td>\n",
       "      <td>...</td>\n",
       "      <td>23.012470</td>\n",
       "      <td>-498.249730</td>\n",
       "      <td>19.034162</td>\n",
       "      <td>-400.118106</td>\n",
       "      <td>18.026190</td>\n",
       "      <td>-498.384187</td>\n",
       "      <td>14.019088</td>\n",
       "      <td>-499.436708</td>\n",
       "      <td>24.003170</td>\n",
       "      <td>-499.495378</td>\n",
       "    </tr>\n",
       "    <tr>\n",
       "      <th>max</th>\n",
       "      <td>16.001945</td>\n",
       "      <td>17.031899</td>\n",
       "      <td>19.615720</td>\n",
       "      <td>52.756638</td>\n",
       "      <td>100.000000</td>\n",
       "      <td>19.552149</td>\n",
       "      <td>5.804178</td>\n",
       "      <td>22.317730</td>\n",
       "      <td>8.245022</td>\n",
       "      <td>265.983123</td>\n",
       "      <td>...</td>\n",
       "      <td>30.115735</td>\n",
       "      <td>-245.239184</td>\n",
       "      <td>31.269706</td>\n",
       "      <td>-6.506986</td>\n",
       "      <td>43.709931</td>\n",
       "      <td>-244.483566</td>\n",
       "      <td>27.926001</td>\n",
       "      <td>-137.740004</td>\n",
       "      <td>32.188906</td>\n",
       "      <td>-104.427459</td>\n",
       "    </tr>\n",
       "  </tbody>\n",
       "</table>\n",
       "<p>8 rows × 86 columns</p>\n",
       "</div>"
      ],
      "text/plain": [
       "       final.output.concentrate_ag  final.output.concentrate_pb  \\\n",
       "count                 19438.000000                 19438.000000   \n",
       "mean                      5.168470                     9.978895   \n",
       "std                       1.372348                     1.669240   \n",
       "min                       0.000000                     0.000000   \n",
       "25%                       4.251240                     9.137262   \n",
       "50%                       5.066094                    10.102433   \n",
       "75%                       5.895527                    11.035769   \n",
       "max                      16.001945                    17.031899   \n",
       "\n",
       "       final.output.concentrate_sol  final.output.concentrate_au  \\\n",
       "count                  19228.000000                 19439.000000   \n",
       "mean                       9.501224                    44.076513   \n",
       "std                        2.787537                     5.129784   \n",
       "min                        0.000000                     0.000000   \n",
       "25%                        7.722820                    43.402215   \n",
       "50%                        9.218961                    45.011244   \n",
       "75%                       10.947813                    46.275313   \n",
       "max                       19.615720                    52.756638   \n",
       "\n",
       "       final.output.recovery  final.output.tail_ag  final.output.tail_pb  \\\n",
       "count           19439.000000          19438.000000          19338.000000   \n",
       "mean               67.050208              9.688589              2.705795   \n",
       "std                10.125840              2.328642              0.949077   \n",
       "min                 0.000000              0.000000              0.000000   \n",
       "25%                63.299712              8.062878              2.040119   \n",
       "50%                68.172738              9.743623              2.748730   \n",
       "75%                72.686642             11.134294              3.333216   \n",
       "max               100.000000             19.552149              5.804178   \n",
       "\n",
       "       final.output.tail_sol  final.output.tail_au  \\\n",
       "count           19433.000000          19439.000000   \n",
       "mean               10.583728              3.042467   \n",
       "std                 2.868782              0.922808   \n",
       "min                 0.000000              0.000000   \n",
       "25%                 8.938947              2.461138   \n",
       "50%                10.622456              2.984909   \n",
       "75%                12.104271              3.571351   \n",
       "max                22.317730              8.245022   \n",
       "\n",
       "       primary_cleaner.input.sulfate  ...  \\\n",
       "count                   19415.000000  ...   \n",
       "mean                      144.624774  ...   \n",
       "std                        44.464071  ...   \n",
       "min                         0.003112  ...   \n",
       "25%                       114.107029  ...   \n",
       "50%                       143.232103  ...   \n",
       "75%                       175.075656  ...   \n",
       "max                       265.983123  ...   \n",
       "\n",
       "       secondary_cleaner.state.floatbank4_a_air  \\\n",
       "count                              19433.000000   \n",
       "mean                                  18.987674   \n",
       "std                                    5.411058   \n",
       "min                                    0.000000   \n",
       "25%                                   14.975734   \n",
       "50%                                   18.017481   \n",
       "75%                                   23.012470   \n",
       "max                                   30.115735   \n",
       "\n",
       "       secondary_cleaner.state.floatbank4_a_level  \\\n",
       "count                                19438.000000   \n",
       "mean                                  -485.894516   \n",
       "std                                     47.758570   \n",
       "min                                   -799.798523   \n",
       "25%                                   -500.704892   \n",
       "50%                                   -499.837793   \n",
       "75%                                   -498.249730   \n",
       "max                                   -245.239184   \n",
       "\n",
       "       secondary_cleaner.state.floatbank4_b_air  \\\n",
       "count                              19438.000000   \n",
       "mean                                  15.010366   \n",
       "std                                    4.890228   \n",
       "min                                    0.000000   \n",
       "25%                                   11.940294   \n",
       "50%                                   14.971014   \n",
       "75%                                   19.034162   \n",
       "max                                   31.269706   \n",
       "\n",
       "       secondary_cleaner.state.floatbank4_b_level  \\\n",
       "count                                19438.000000   \n",
       "mean                                  -461.078636   \n",
       "std                                     67.405524   \n",
       "min                                   -800.836914   \n",
       "25%                                   -500.187742   \n",
       "50%                                   -499.459786   \n",
       "75%                                   -400.118106   \n",
       "max                                     -6.506986   \n",
       "\n",
       "       secondary_cleaner.state.floatbank5_a_air  \\\n",
       "count                              19438.000000   \n",
       "mean                                  15.694452   \n",
       "std                                    5.510974   \n",
       "min                                   -0.372054   \n",
       "25%                                   10.988606   \n",
       "50%                                   15.000036   \n",
       "75%                                   18.026190   \n",
       "max                                   43.709931   \n",
       "\n",
       "       secondary_cleaner.state.floatbank5_a_level  \\\n",
       "count                                19438.000000   \n",
       "mean                                  -488.684065   \n",
       "std                                     34.533396   \n",
       "min                                   -797.323986   \n",
       "25%                                   -500.458467   \n",
       "50%                                   -499.802605   \n",
       "75%                                   -498.384187   \n",
       "max                                   -244.483566   \n",
       "\n",
       "       secondary_cleaner.state.floatbank5_b_air  \\\n",
       "count                              19438.000000   \n",
       "mean                                  12.198224   \n",
       "std                                    5.333024   \n",
       "min                                    0.528083   \n",
       "25%                                    8.971105   \n",
       "50%                                   11.019433   \n",
       "75%                                   14.019088   \n",
       "max                                   27.926001   \n",
       "\n",
       "       secondary_cleaner.state.floatbank5_b_level  \\\n",
       "count                                19438.000000   \n",
       "mean                                  -487.149827   \n",
       "std                                     38.347312   \n",
       "min                                   -800.220337   \n",
       "25%                                   -500.129462   \n",
       "50%                                   -499.935317   \n",
       "75%                                   -499.436708   \n",
       "max                                   -137.740004   \n",
       "\n",
       "       secondary_cleaner.state.floatbank6_a_air  \\\n",
       "count                              19437.000000   \n",
       "mean                                  18.959024   \n",
       "std                                    5.550498   \n",
       "min                                   -0.079426   \n",
       "25%                                   14.983037   \n",
       "50%                                   19.960541   \n",
       "75%                                   24.003170   \n",
       "max                                   32.188906   \n",
       "\n",
       "       secondary_cleaner.state.floatbank6_a_level  \n",
       "count                                19438.000000  \n",
       "mean                                  -505.436305  \n",
       "std                                     37.689057  \n",
       "min                                   -809.741464  \n",
       "25%                                   -500.728067  \n",
       "50%                                   -500.048400  \n",
       "75%                                   -499.495378  \n",
       "max                                   -104.427459  \n",
       "\n",
       "[8 rows x 86 columns]"
      ]
     },
     "execution_count": 11,
     "metadata": {},
     "output_type": "execute_result"
    }
   ],
   "source": [
    "df_full.describe()"
   ]
  },
  {
   "cell_type": "markdown",
   "metadata": {},
   "source": [
    "Проверим наличие явных дубликатов"
   ]
  },
  {
   "cell_type": "code",
   "execution_count": 12,
   "metadata": {},
   "outputs": [
    {
     "data": {
      "text/plain": [
       "0"
      ]
     },
     "execution_count": 12,
     "metadata": {},
     "output_type": "execute_result"
    }
   ],
   "source": [
    "df_train.duplicated().sum()"
   ]
  },
  {
   "cell_type": "code",
   "execution_count": 13,
   "metadata": {},
   "outputs": [
    {
     "data": {
      "text/plain": [
       "0"
      ]
     },
     "execution_count": 13,
     "metadata": {},
     "output_type": "execute_result"
    }
   ],
   "source": [
    "df_test.duplicated().sum()"
   ]
  },
  {
   "cell_type": "code",
   "execution_count": 14,
   "metadata": {},
   "outputs": [
    {
     "data": {
      "text/plain": [
       "0"
      ]
     },
     "execution_count": 14,
     "metadata": {},
     "output_type": "execute_result"
    }
   ],
   "source": [
    "df_full.duplicated().sum()"
   ]
  },
  {
   "cell_type": "markdown",
   "metadata": {},
   "source": [
    "**Выводы**\n",
    "\n",
    "Мы импортировали необходимые для исследования библиотеки, загрузили 3 блока данных: df_test - обучающая выборка, df_train - тестовая выборка, df_full - исходные данные. При загрузке столбец с датой/временем сразу преобразовали в индекс. Провели предварительный EDA-анализ, в результате которого выяснили:\n",
    "- все столбцы содержат вещественные данные.\n",
    "- в датасетах df_train и df_full - одинаковое число столбцов (86), в то время, как в df_test всего 52 столбца (отсутствуют столбцы с финальными характеристиками final).\n",
    "- в некоторых из них имеются пропуски. Заполним их предыдущими значениями:"
   ]
  },
  {
   "cell_type": "code",
   "execution_count": 15,
   "metadata": {},
   "outputs": [
    {
     "data": {
      "text/plain": [
       "final.output.concentrate_ag                   0\n",
       "final.output.concentrate_pb                   0\n",
       "final.output.concentrate_sol                  0\n",
       "final.output.concentrate_au                   0\n",
       "final.output.recovery                         0\n",
       "                                             ..\n",
       "secondary_cleaner.state.floatbank5_a_level    0\n",
       "secondary_cleaner.state.floatbank5_b_air      0\n",
       "secondary_cleaner.state.floatbank5_b_level    0\n",
       "secondary_cleaner.state.floatbank6_a_air      0\n",
       "secondary_cleaner.state.floatbank6_a_level    0\n",
       "Length: 86, dtype: int64"
      ]
     },
     "execution_count": 15,
     "metadata": {},
     "output_type": "execute_result"
    }
   ],
   "source": [
    "df_train = df_train.fillna(method = \"ffill\")\n",
    "df_train.isna().sum()"
   ]
  },
  {
   "cell_type": "code",
   "execution_count": 16,
   "metadata": {},
   "outputs": [
    {
     "data": {
      "text/plain": [
       "primary_cleaner.input.sulfate                 0\n",
       "primary_cleaner.input.depressant              0\n",
       "primary_cleaner.input.feed_size               0\n",
       "primary_cleaner.input.xanthate                0\n",
       "primary_cleaner.state.floatbank8_a_air        0\n",
       "primary_cleaner.state.floatbank8_a_level      0\n",
       "primary_cleaner.state.floatbank8_b_air        0\n",
       "primary_cleaner.state.floatbank8_b_level      0\n",
       "primary_cleaner.state.floatbank8_c_air        0\n",
       "primary_cleaner.state.floatbank8_c_level      0\n",
       "primary_cleaner.state.floatbank8_d_air        0\n",
       "primary_cleaner.state.floatbank8_d_level      0\n",
       "rougher.input.feed_ag                         0\n",
       "rougher.input.feed_pb                         0\n",
       "rougher.input.feed_rate                       0\n",
       "rougher.input.feed_size                       0\n",
       "rougher.input.feed_sol                        0\n",
       "rougher.input.feed_au                         0\n",
       "rougher.input.floatbank10_sulfate             0\n",
       "rougher.input.floatbank10_xanthate            0\n",
       "rougher.input.floatbank11_sulfate             0\n",
       "rougher.input.floatbank11_xanthate            0\n",
       "rougher.state.floatbank10_a_air               0\n",
       "rougher.state.floatbank10_a_level             0\n",
       "rougher.state.floatbank10_b_air               0\n",
       "rougher.state.floatbank10_b_level             0\n",
       "rougher.state.floatbank10_c_air               0\n",
       "rougher.state.floatbank10_c_level             0\n",
       "rougher.state.floatbank10_d_air               0\n",
       "rougher.state.floatbank10_d_level             0\n",
       "rougher.state.floatbank10_e_air               0\n",
       "rougher.state.floatbank10_e_level             0\n",
       "rougher.state.floatbank10_f_air               0\n",
       "rougher.state.floatbank10_f_level             0\n",
       "secondary_cleaner.state.floatbank2_a_air      0\n",
       "secondary_cleaner.state.floatbank2_a_level    0\n",
       "secondary_cleaner.state.floatbank2_b_air      0\n",
       "secondary_cleaner.state.floatbank2_b_level    0\n",
       "secondary_cleaner.state.floatbank3_a_air      0\n",
       "secondary_cleaner.state.floatbank3_a_level    0\n",
       "secondary_cleaner.state.floatbank3_b_air      0\n",
       "secondary_cleaner.state.floatbank3_b_level    0\n",
       "secondary_cleaner.state.floatbank4_a_air      0\n",
       "secondary_cleaner.state.floatbank4_a_level    0\n",
       "secondary_cleaner.state.floatbank4_b_air      0\n",
       "secondary_cleaner.state.floatbank4_b_level    0\n",
       "secondary_cleaner.state.floatbank5_a_air      0\n",
       "secondary_cleaner.state.floatbank5_a_level    0\n",
       "secondary_cleaner.state.floatbank5_b_air      0\n",
       "secondary_cleaner.state.floatbank5_b_level    0\n",
       "secondary_cleaner.state.floatbank6_a_air      0\n",
       "secondary_cleaner.state.floatbank6_a_level    0\n",
       "dtype: int64"
      ]
     },
     "execution_count": 16,
     "metadata": {},
     "output_type": "execute_result"
    }
   ],
   "source": [
    "df_test = df_test.fillna(method=\"ffill\")\n",
    "df_test.isna().sum()"
   ]
  },
  {
   "cell_type": "code",
   "execution_count": 17,
   "metadata": {},
   "outputs": [
    {
     "data": {
      "text/plain": [
       "final.output.concentrate_ag                   0\n",
       "final.output.concentrate_pb                   0\n",
       "final.output.concentrate_sol                  0\n",
       "final.output.concentrate_au                   0\n",
       "final.output.recovery                         0\n",
       "                                             ..\n",
       "secondary_cleaner.state.floatbank5_a_level    0\n",
       "secondary_cleaner.state.floatbank5_b_air      0\n",
       "secondary_cleaner.state.floatbank5_b_level    0\n",
       "secondary_cleaner.state.floatbank6_a_air      0\n",
       "secondary_cleaner.state.floatbank6_a_level    0\n",
       "Length: 86, dtype: int64"
      ]
     },
     "execution_count": 17,
     "metadata": {},
     "output_type": "execute_result"
    }
   ],
   "source": [
    "df_full = df_full.fillna(method=\"ffill\")\n",
    "df_full.isna().sum()"
   ]
  },
  {
   "cell_type": "markdown",
   "metadata": {},
   "source": [
    "**Рассчитаем эффективность обогащения на обучающей выборке для признака rougher.output.recovery. Найдём MAE между нашими рассчётами и значением признака.**"
   ]
  },
  {
   "cell_type": "code",
   "execution_count": 18,
   "metadata": {},
   "outputs": [
    {
     "name": "stdout",
     "output_type": "stream",
     "text": [
      "Эффективность обогащения: \n",
      " date\n",
      "2016-01-15 00:00:00    87.107763\n",
      "2016-01-15 01:00:00    86.843261\n",
      "2016-01-15 02:00:00    86.842308\n",
      "2016-01-15 03:00:00    87.226430\n",
      "2016-01-15 04:00:00    86.688794\n",
      "                         ...    \n",
      "2018-08-18 06:59:59    89.574376\n",
      "2018-08-18 07:59:59    87.724007\n",
      "2018-08-18 08:59:59    88.890579\n",
      "2018-08-18 09:59:59    89.858126\n",
      "2018-08-18 10:59:59    89.514960\n",
      "Length: 14149, dtype: float64\n",
      "MAE: 1.0748911125799084e-14\n"
     ]
    }
   ],
   "source": [
    "concentrate_au = df_train['rougher.output.concentrate_au']\n",
    "feed_au = df_train['rougher.input.feed_au']\n",
    "tail_au = df_train['rougher.output.tail_au']\n",
    "output_recovery = df_train['rougher.output.recovery']\n",
    "calculated_recovery = (concentrate_au * (feed_au - tail_au) / feed_au \n",
    "                        / (concentrate_au - tail_au) * 100)\n",
    "print('Эффективность обогащения: \\n', calculated_recovery)\n",
    "print('MAE:', mean_absolute_error(output_recovery, calculated_recovery))"
   ]
  },
  {
   "cell_type": "markdown",
   "metadata": {},
   "source": [
    "MAE имеет очень малое отклонение (1.0748911125799084e-14) - это значит, что расчетное значение rougher.output.recovery совпадает с данными из столбца."
   ]
  },
  {
   "cell_type": "markdown",
   "metadata": {},
   "source": [
    "Исходя из задания Некоторые параметры недоступны, потому что замеряются и/или рассчитываются значительно позже. Из-за этого в тестовой выборке отсутствуют некоторые признаки, которые могут быть в обучающей. Также в тестовом наборе нет целевых признаков. Столбцы этапов rougher.output, rougher.calculation, final.output, primary_cleaner.output и secondary_cleaner.output отсутсвуют в тестовой выборке, так как заполняются после тех. процессов.\n",
    "\n",
    "Изучим данные, которые необходимо будет спрогнозировать: Эффективность обогащения чернового концентрата \"rougher.output.recovery\" и Эффективность обогащения финального концентрата \"final.output.recovery\":"
   ]
  },
  {
   "cell_type": "code",
   "execution_count": 19,
   "metadata": {
    "scrolled": true
   },
   "outputs": [
    {
     "data": {
      "image/png": "[encoded data removed]",
      "text/plain": [
       "<Figure size 864x648 with 1 Axes>"
      ]
     },
     "metadata": {
      "needs_background": "light"
     },
     "output_type": "display_data"
    }
   ],
   "source": [
    "# Построим гистограмму эффективности обогащения чернового концентрата\n",
    "plt.figure(figsize=[12,9])\n",
    "\n",
    "plt.hist(df_train['rougher.output.recovery'], bins=90)\n",
    "\n",
    "plt.xlim([0, 105])\n",
    "plt.ylim([0, 900])\n",
    "\n",
    "plt.xlabel(\"Эффективность обогащения чернового концентрата \")\n",
    "plt.ylabel(\"Количество\")\n",
    "\n",
    "plt.title(\"Гистограмма распределения по эффективности обогащения чернового концентрата\")\n",
    "plt.show()"
   ]
  },
  {
   "cell_type": "code",
   "execution_count": 20,
   "metadata": {},
   "outputs": [
    {
     "data": {
      "image/png": "[encoded data removed]",
      "text/plain": [
       "<Figure size 864x648 with 1 Axes>"
      ]
     },
     "metadata": {
      "needs_background": "light"
     },
     "output_type": "display_data"
    }
   ],
   "source": [
    "# Построим гистограмму эффективности обогащения финального концентрата\n",
    "plt.figure(figsize=[12,9])\n",
    "\n",
    "plt.hist(df_train['final.output.recovery'], bins=100)\n",
    "\n",
    "plt.xlim([0, 110])\n",
    "plt.ylim([0, 900])\n",
    "\n",
    "plt.xlabel(\"Эффективность обогащения финального концентрата \")\n",
    "plt.ylabel(\"Количество\")\n",
    "\n",
    "plt.title(\"Гистограмма распределения по эффективности обогащения финального концентрата\")\n",
    "plt.show()"
   ]
  },
  {
   "cell_type": "code",
   "execution_count": 21,
   "metadata": {},
   "outputs": [
    {
     "data": {
      "text/html": [
       "<div>\n",
       "<style scoped>\n",
       "    .dataframe tbody tr th:only-of-type {\n",
       "        vertical-align: middle;\n",
       "    }\n",
       "\n",
       "    .dataframe tbody tr th {\n",
       "        vertical-align: top;\n",
       "    }\n",
       "\n",
       "    .dataframe thead th {\n",
       "        text-align: right;\n",
       "    }\n",
       "</style>\n",
       "<table border=\"1\" class=\"dataframe\">\n",
       "  <thead>\n",
       "    <tr style=\"text-align: right;\">\n",
       "      <th></th>\n",
       "      <th>final.output.concentrate_ag</th>\n",
       "      <th>final.output.concentrate_pb</th>\n",
       "      <th>final.output.concentrate_sol</th>\n",
       "      <th>final.output.concentrate_au</th>\n",
       "      <th>final.output.recovery</th>\n",
       "      <th>final.output.tail_ag</th>\n",
       "      <th>final.output.tail_pb</th>\n",
       "      <th>final.output.tail_sol</th>\n",
       "      <th>final.output.tail_au</th>\n",
       "      <th>primary_cleaner.input.sulfate</th>\n",
       "      <th>...</th>\n",
       "      <th>secondary_cleaner.state.floatbank4_a_air</th>\n",
       "      <th>secondary_cleaner.state.floatbank4_a_level</th>\n",
       "      <th>secondary_cleaner.state.floatbank4_b_air</th>\n",
       "      <th>secondary_cleaner.state.floatbank4_b_level</th>\n",
       "      <th>secondary_cleaner.state.floatbank5_a_air</th>\n",
       "      <th>secondary_cleaner.state.floatbank5_a_level</th>\n",
       "      <th>secondary_cleaner.state.floatbank5_b_air</th>\n",
       "      <th>secondary_cleaner.state.floatbank5_b_level</th>\n",
       "      <th>secondary_cleaner.state.floatbank6_a_air</th>\n",
       "      <th>secondary_cleaner.state.floatbank6_a_level</th>\n",
       "    </tr>\n",
       "    <tr>\n",
       "      <th>date</th>\n",
       "      <th></th>\n",
       "      <th></th>\n",
       "      <th></th>\n",
       "      <th></th>\n",
       "      <th></th>\n",
       "      <th></th>\n",
       "      <th></th>\n",
       "      <th></th>\n",
       "      <th></th>\n",
       "      <th></th>\n",
       "      <th></th>\n",
       "      <th></th>\n",
       "      <th></th>\n",
       "      <th></th>\n",
       "      <th></th>\n",
       "      <th></th>\n",
       "      <th></th>\n",
       "      <th></th>\n",
       "      <th></th>\n",
       "      <th></th>\n",
       "      <th></th>\n",
       "    </tr>\n",
       "  </thead>\n",
       "  <tbody>\n",
       "    <tr>\n",
       "      <th>2016-01-16 21:00:00</th>\n",
       "      <td>4.566664</td>\n",
       "      <td>10.406178</td>\n",
       "      <td>4.588698</td>\n",
       "      <td>46.614456</td>\n",
       "      <td>68.403877</td>\n",
       "      <td>10.705777</td>\n",
       "      <td>1.509070</td>\n",
       "      <td>17.875134</td>\n",
       "      <td>2.509776</td>\n",
       "      <td>131.251366</td>\n",
       "      <td>...</td>\n",
       "      <td>14.025588</td>\n",
       "      <td>-550.404242</td>\n",
       "      <td>12.028925</td>\n",
       "      <td>-550.570104</td>\n",
       "      <td>10.052072</td>\n",
       "      <td>-500.797905</td>\n",
       "      <td>7.984500</td>\n",
       "      <td>-499.581046</td>\n",
       "      <td>11.982025</td>\n",
       "      <td>-599.161228</td>\n",
       "    </tr>\n",
       "    <tr>\n",
       "      <th>2016-01-16 22:00:00</th>\n",
       "      <td>4.577832</td>\n",
       "      <td>10.691605</td>\n",
       "      <td>5.274175</td>\n",
       "      <td>46.250638</td>\n",
       "      <td>70.675633</td>\n",
       "      <td>10.728531</td>\n",
       "      <td>1.641216</td>\n",
       "      <td>18.349339</td>\n",
       "      <td>2.540843</td>\n",
       "      <td>141.184039</td>\n",
       "      <td>...</td>\n",
       "      <td>14.094808</td>\n",
       "      <td>-550.676337</td>\n",
       "      <td>12.004728</td>\n",
       "      <td>-550.496522</td>\n",
       "      <td>9.953139</td>\n",
       "      <td>-500.330920</td>\n",
       "      <td>8.012074</td>\n",
       "      <td>-500.133530</td>\n",
       "      <td>11.975316</td>\n",
       "      <td>-598.839683</td>\n",
       "    </tr>\n",
       "    <tr>\n",
       "      <th>2016-01-16 23:00:00</th>\n",
       "      <td>4.591462</td>\n",
       "      <td>10.628846</td>\n",
       "      <td>5.688961</td>\n",
       "      <td>46.663335</td>\n",
       "      <td>55.088448</td>\n",
       "      <td>10.694584</td>\n",
       "      <td>1.671644</td>\n",
       "      <td>17.910312</td>\n",
       "      <td>2.686782</td>\n",
       "      <td>126.397495</td>\n",
       "      <td>...</td>\n",
       "      <td>13.997488</td>\n",
       "      <td>-551.224653</td>\n",
       "      <td>11.971272</td>\n",
       "      <td>-550.095619</td>\n",
       "      <td>9.981163</td>\n",
       "      <td>-502.869109</td>\n",
       "      <td>7.941184</td>\n",
       "      <td>-500.623610</td>\n",
       "      <td>12.018837</td>\n",
       "      <td>-600.916665</td>\n",
       "    </tr>\n",
       "    <tr>\n",
       "      <th>2016-01-17 00:00:00</th>\n",
       "      <td>5.296830</td>\n",
       "      <td>10.597469</td>\n",
       "      <td>5.688961</td>\n",
       "      <td>44.015642</td>\n",
       "      <td>41.962008</td>\n",
       "      <td>11.975654</td>\n",
       "      <td>1.846558</td>\n",
       "      <td>8.138408</td>\n",
       "      <td>2.889469</td>\n",
       "      <td>69.411904</td>\n",
       "      <td>...</td>\n",
       "      <td>14.006476</td>\n",
       "      <td>-549.388727</td>\n",
       "      <td>11.975967</td>\n",
       "      <td>-550.778624</td>\n",
       "      <td>9.989726</td>\n",
       "      <td>-499.607365</td>\n",
       "      <td>7.958252</td>\n",
       "      <td>-498.882560</td>\n",
       "      <td>11.967977</td>\n",
       "      <td>-599.440603</td>\n",
       "    </tr>\n",
       "    <tr>\n",
       "      <th>2016-01-17 02:00:00</th>\n",
       "      <td>8.162896</td>\n",
       "      <td>8.877528</td>\n",
       "      <td>5.688961</td>\n",
       "      <td>40.715973</td>\n",
       "      <td>49.884856</td>\n",
       "      <td>10.381465</td>\n",
       "      <td>1.024030</td>\n",
       "      <td>12.974257</td>\n",
       "      <td>2.739224</td>\n",
       "      <td>116.517762</td>\n",
       "      <td>...</td>\n",
       "      <td>13.984906</td>\n",
       "      <td>-550.563329</td>\n",
       "      <td>11.999730</td>\n",
       "      <td>-550.549773</td>\n",
       "      <td>9.941869</td>\n",
       "      <td>-503.282068</td>\n",
       "      <td>8.018850</td>\n",
       "      <td>-500.970716</td>\n",
       "      <td>11.991078</td>\n",
       "      <td>-598.475929</td>\n",
       "    </tr>\n",
       "  </tbody>\n",
       "</table>\n",
       "<p>5 rows × 86 columns</p>\n",
       "</div>"
      ],
      "text/plain": [
       "                     final.output.concentrate_ag  final.output.concentrate_pb  \\\n",
       "date                                                                            \n",
       "2016-01-16 21:00:00                     4.566664                    10.406178   \n",
       "2016-01-16 22:00:00                     4.577832                    10.691605   \n",
       "2016-01-16 23:00:00                     4.591462                    10.628846   \n",
       "2016-01-17 00:00:00                     5.296830                    10.597469   \n",
       "2016-01-17 02:00:00                     8.162896                     8.877528   \n",
       "\n",
       "                     final.output.concentrate_sol  \\\n",
       "date                                                \n",
       "2016-01-16 21:00:00                      4.588698   \n",
       "2016-01-16 22:00:00                      5.274175   \n",
       "2016-01-16 23:00:00                      5.688961   \n",
       "2016-01-17 00:00:00                      5.688961   \n",
       "2016-01-17 02:00:00                      5.688961   \n",
       "\n",
       "                     final.output.concentrate_au  final.output.recovery  \\\n",
       "date                                                                      \n",
       "2016-01-16 21:00:00                    46.614456              68.403877   \n",
       "2016-01-16 22:00:00                    46.250638              70.675633   \n",
       "2016-01-16 23:00:00                    46.663335              55.088448   \n",
       "2016-01-17 00:00:00                    44.015642              41.962008   \n",
       "2016-01-17 02:00:00                    40.715973              49.884856   \n",
       "\n",
       "                     final.output.tail_ag  final.output.tail_pb  \\\n",
       "date                                                              \n",
       "2016-01-16 21:00:00             10.705777              1.509070   \n",
       "2016-01-16 22:00:00             10.728531              1.641216   \n",
       "2016-01-16 23:00:00             10.694584              1.671644   \n",
       "2016-01-17 00:00:00             11.975654              1.846558   \n",
       "2016-01-17 02:00:00             10.381465              1.024030   \n",
       "\n",
       "                     final.output.tail_sol  final.output.tail_au  \\\n",
       "date                                                               \n",
       "2016-01-16 21:00:00              17.875134              2.509776   \n",
       "2016-01-16 22:00:00              18.349339              2.540843   \n",
       "2016-01-16 23:00:00              17.910312              2.686782   \n",
       "2016-01-17 00:00:00               8.138408              2.889469   \n",
       "2016-01-17 02:00:00              12.974257              2.739224   \n",
       "\n",
       "                     primary_cleaner.input.sulfate  ...  \\\n",
       "date                                                ...   \n",
       "2016-01-16 21:00:00                     131.251366  ...   \n",
       "2016-01-16 22:00:00                     141.184039  ...   \n",
       "2016-01-16 23:00:00                     126.397495  ...   \n",
       "2016-01-17 00:00:00                      69.411904  ...   \n",
       "2016-01-17 02:00:00                     116.517762  ...   \n",
       "\n",
       "                     secondary_cleaner.state.floatbank4_a_air  \\\n",
       "date                                                            \n",
       "2016-01-16 21:00:00                                 14.025588   \n",
       "2016-01-16 22:00:00                                 14.094808   \n",
       "2016-01-16 23:00:00                                 13.997488   \n",
       "2016-01-17 00:00:00                                 14.006476   \n",
       "2016-01-17 02:00:00                                 13.984906   \n",
       "\n",
       "                     secondary_cleaner.state.floatbank4_a_level  \\\n",
       "date                                                              \n",
       "2016-01-16 21:00:00                                 -550.404242   \n",
       "2016-01-16 22:00:00                                 -550.676337   \n",
       "2016-01-16 23:00:00                                 -551.224653   \n",
       "2016-01-17 00:00:00                                 -549.388727   \n",
       "2016-01-17 02:00:00                                 -550.563329   \n",
       "\n",
       "                     secondary_cleaner.state.floatbank4_b_air  \\\n",
       "date                                                            \n",
       "2016-01-16 21:00:00                                 12.028925   \n",
       "2016-01-16 22:00:00                                 12.004728   \n",
       "2016-01-16 23:00:00                                 11.971272   \n",
       "2016-01-17 00:00:00                                 11.975967   \n",
       "2016-01-17 02:00:00                                 11.999730   \n",
       "\n",
       "                     secondary_cleaner.state.floatbank4_b_level  \\\n",
       "date                                                              \n",
       "2016-01-16 21:00:00                                 -550.570104   \n",
       "2016-01-16 22:00:00                                 -550.496522   \n",
       "2016-01-16 23:00:00                                 -550.095619   \n",
       "2016-01-17 00:00:00                                 -550.778624   \n",
       "2016-01-17 02:00:00                                 -550.549773   \n",
       "\n",
       "                     secondary_cleaner.state.floatbank5_a_air  \\\n",
       "date                                                            \n",
       "2016-01-16 21:00:00                                 10.052072   \n",
       "2016-01-16 22:00:00                                  9.953139   \n",
       "2016-01-16 23:00:00                                  9.981163   \n",
       "2016-01-17 00:00:00                                  9.989726   \n",
       "2016-01-17 02:00:00                                  9.941869   \n",
       "\n",
       "                     secondary_cleaner.state.floatbank5_a_level  \\\n",
       "date                                                              \n",
       "2016-01-16 21:00:00                                 -500.797905   \n",
       "2016-01-16 22:00:00                                 -500.330920   \n",
       "2016-01-16 23:00:00                                 -502.869109   \n",
       "2016-01-17 00:00:00                                 -499.607365   \n",
       "2016-01-17 02:00:00                                 -503.282068   \n",
       "\n",
       "                     secondary_cleaner.state.floatbank5_b_air  \\\n",
       "date                                                            \n",
       "2016-01-16 21:00:00                                  7.984500   \n",
       "2016-01-16 22:00:00                                  8.012074   \n",
       "2016-01-16 23:00:00                                  7.941184   \n",
       "2016-01-17 00:00:00                                  7.958252   \n",
       "2016-01-17 02:00:00                                  8.018850   \n",
       "\n",
       "                     secondary_cleaner.state.floatbank5_b_level  \\\n",
       "date                                                              \n",
       "2016-01-16 21:00:00                                 -499.581046   \n",
       "2016-01-16 22:00:00                                 -500.133530   \n",
       "2016-01-16 23:00:00                                 -500.623610   \n",
       "2016-01-17 00:00:00                                 -498.882560   \n",
       "2016-01-17 02:00:00                                 -500.970716   \n",
       "\n",
       "                     secondary_cleaner.state.floatbank6_a_air  \\\n",
       "date                                                            \n",
       "2016-01-16 21:00:00                                 11.982025   \n",
       "2016-01-16 22:00:00                                 11.975316   \n",
       "2016-01-16 23:00:00                                 12.018837   \n",
       "2016-01-17 00:00:00                                 11.967977   \n",
       "2016-01-17 02:00:00                                 11.991078   \n",
       "\n",
       "                     secondary_cleaner.state.floatbank6_a_level  \n",
       "date                                                             \n",
       "2016-01-16 21:00:00                                 -599.161228  \n",
       "2016-01-16 22:00:00                                 -598.839683  \n",
       "2016-01-16 23:00:00                                 -600.916665  \n",
       "2016-01-17 00:00:00                                 -599.440603  \n",
       "2016-01-17 02:00:00                                 -598.475929  \n",
       "\n",
       "[5 rows x 86 columns]"
      ]
     },
     "execution_count": 21,
     "metadata": {},
     "output_type": "execute_result"
    }
   ],
   "source": [
    "df_train[df_train['rougher.output.recovery'] < 1].head()"
   ]
  },
  {
   "cell_type": "code",
   "execution_count": 22,
   "metadata": {},
   "outputs": [
    {
     "data": {
      "text/html": [
       "<div>\n",
       "<style scoped>\n",
       "    .dataframe tbody tr th:only-of-type {\n",
       "        vertical-align: middle;\n",
       "    }\n",
       "\n",
       "    .dataframe tbody tr th {\n",
       "        vertical-align: top;\n",
       "    }\n",
       "\n",
       "    .dataframe thead th {\n",
       "        text-align: right;\n",
       "    }\n",
       "</style>\n",
       "<table border=\"1\" class=\"dataframe\">\n",
       "  <thead>\n",
       "    <tr style=\"text-align: right;\">\n",
       "      <th></th>\n",
       "      <th>final.output.concentrate_ag</th>\n",
       "      <th>final.output.concentrate_pb</th>\n",
       "      <th>final.output.concentrate_sol</th>\n",
       "      <th>final.output.concentrate_au</th>\n",
       "      <th>final.output.recovery</th>\n",
       "      <th>final.output.tail_ag</th>\n",
       "      <th>final.output.tail_pb</th>\n",
       "      <th>final.output.tail_sol</th>\n",
       "      <th>final.output.tail_au</th>\n",
       "      <th>primary_cleaner.input.sulfate</th>\n",
       "      <th>...</th>\n",
       "      <th>secondary_cleaner.state.floatbank4_a_air</th>\n",
       "      <th>secondary_cleaner.state.floatbank4_a_level</th>\n",
       "      <th>secondary_cleaner.state.floatbank4_b_air</th>\n",
       "      <th>secondary_cleaner.state.floatbank4_b_level</th>\n",
       "      <th>secondary_cleaner.state.floatbank5_a_air</th>\n",
       "      <th>secondary_cleaner.state.floatbank5_a_level</th>\n",
       "      <th>secondary_cleaner.state.floatbank5_b_air</th>\n",
       "      <th>secondary_cleaner.state.floatbank5_b_level</th>\n",
       "      <th>secondary_cleaner.state.floatbank6_a_air</th>\n",
       "      <th>secondary_cleaner.state.floatbank6_a_level</th>\n",
       "    </tr>\n",
       "    <tr>\n",
       "      <th>date</th>\n",
       "      <th></th>\n",
       "      <th></th>\n",
       "      <th></th>\n",
       "      <th></th>\n",
       "      <th></th>\n",
       "      <th></th>\n",
       "      <th></th>\n",
       "      <th></th>\n",
       "      <th></th>\n",
       "      <th></th>\n",
       "      <th></th>\n",
       "      <th></th>\n",
       "      <th></th>\n",
       "      <th></th>\n",
       "      <th></th>\n",
       "      <th></th>\n",
       "      <th></th>\n",
       "      <th></th>\n",
       "      <th></th>\n",
       "      <th></th>\n",
       "      <th></th>\n",
       "    </tr>\n",
       "  </thead>\n",
       "  <tbody>\n",
       "    <tr>\n",
       "      <th>2016-02-13 11:00:00</th>\n",
       "      <td>0.000000</td>\n",
       "      <td>0.000000</td>\n",
       "      <td>0.000000</td>\n",
       "      <td>0.000000</td>\n",
       "      <td>0.000000</td>\n",
       "      <td>8.894029</td>\n",
       "      <td>0.843584</td>\n",
       "      <td>15.417342</td>\n",
       "      <td>1.779052</td>\n",
       "      <td>133.610147</td>\n",
       "      <td>...</td>\n",
       "      <td>21.991762</td>\n",
       "      <td>-399.587122</td>\n",
       "      <td>21.988937</td>\n",
       "      <td>-401.366408</td>\n",
       "      <td>22.995012</td>\n",
       "      <td>-399.370680</td>\n",
       "      <td>20.966863</td>\n",
       "      <td>-399.308354</td>\n",
       "      <td>24.987274</td>\n",
       "      <td>-399.619808</td>\n",
       "    </tr>\n",
       "    <tr>\n",
       "      <th>2016-03-02 11:00:00</th>\n",
       "      <td>4.637727</td>\n",
       "      <td>12.557566</td>\n",
       "      <td>7.821058</td>\n",
       "      <td>41.529734</td>\n",
       "      <td>0.463711</td>\n",
       "      <td>11.388568</td>\n",
       "      <td>1.893716</td>\n",
       "      <td>7.735606</td>\n",
       "      <td>4.115341</td>\n",
       "      <td>87.298736</td>\n",
       "      <td>...</td>\n",
       "      <td>13.974818</td>\n",
       "      <td>-578.520549</td>\n",
       "      <td>14.065672</td>\n",
       "      <td>-501.248199</td>\n",
       "      <td>12.011447</td>\n",
       "      <td>-500.417855</td>\n",
       "      <td>10.025794</td>\n",
       "      <td>-499.889108</td>\n",
       "      <td>20.033958</td>\n",
       "      <td>-499.999036</td>\n",
       "    </tr>\n",
       "    <tr>\n",
       "      <th>2016-03-11 10:00:00</th>\n",
       "      <td>0.000000</td>\n",
       "      <td>0.000000</td>\n",
       "      <td>0.000000</td>\n",
       "      <td>0.000000</td>\n",
       "      <td>0.000000</td>\n",
       "      <td>10.817313</td>\n",
       "      <td>1.462800</td>\n",
       "      <td>16.407607</td>\n",
       "      <td>2.984504</td>\n",
       "      <td>111.502432</td>\n",
       "      <td>...</td>\n",
       "      <td>11.979352</td>\n",
       "      <td>-453.431061</td>\n",
       "      <td>12.003445</td>\n",
       "      <td>-450.179844</td>\n",
       "      <td>11.982937</td>\n",
       "      <td>-449.856468</td>\n",
       "      <td>9.927727</td>\n",
       "      <td>-450.521700</td>\n",
       "      <td>19.971682</td>\n",
       "      <td>-500.685521</td>\n",
       "    </tr>\n",
       "    <tr>\n",
       "      <th>2016-03-11 11:00:00</th>\n",
       "      <td>0.000000</td>\n",
       "      <td>0.000000</td>\n",
       "      <td>0.000000</td>\n",
       "      <td>0.000000</td>\n",
       "      <td>0.000000</td>\n",
       "      <td>10.436792</td>\n",
       "      <td>1.207636</td>\n",
       "      <td>17.800392</td>\n",
       "      <td>2.747294</td>\n",
       "      <td>110.586754</td>\n",
       "      <td>...</td>\n",
       "      <td>12.034636</td>\n",
       "      <td>-446.590944</td>\n",
       "      <td>12.130405</td>\n",
       "      <td>-449.684812</td>\n",
       "      <td>11.844983</td>\n",
       "      <td>-450.881424</td>\n",
       "      <td>9.916784</td>\n",
       "      <td>-449.542871</td>\n",
       "      <td>20.004767</td>\n",
       "      <td>-500.137068</td>\n",
       "    </tr>\n",
       "    <tr>\n",
       "      <th>2016-03-11 12:00:00</th>\n",
       "      <td>0.000000</td>\n",
       "      <td>0.000000</td>\n",
       "      <td>0.000000</td>\n",
       "      <td>0.000000</td>\n",
       "      <td>0.000000</td>\n",
       "      <td>10.637073</td>\n",
       "      <td>1.405778</td>\n",
       "      <td>17.195897</td>\n",
       "      <td>2.791440</td>\n",
       "      <td>104.202288</td>\n",
       "      <td>...</td>\n",
       "      <td>12.016716</td>\n",
       "      <td>-496.613149</td>\n",
       "      <td>12.055535</td>\n",
       "      <td>-496.908551</td>\n",
       "      <td>12.091144</td>\n",
       "      <td>-496.404140</td>\n",
       "      <td>9.976074</td>\n",
       "      <td>-496.783155</td>\n",
       "      <td>19.921634</td>\n",
       "      <td>-500.769011</td>\n",
       "    </tr>\n",
       "  </tbody>\n",
       "</table>\n",
       "<p>5 rows × 86 columns</p>\n",
       "</div>"
      ],
      "text/plain": [
       "                     final.output.concentrate_ag  final.output.concentrate_pb  \\\n",
       "date                                                                            \n",
       "2016-02-13 11:00:00                     0.000000                     0.000000   \n",
       "2016-03-02 11:00:00                     4.637727                    12.557566   \n",
       "2016-03-11 10:00:00                     0.000000                     0.000000   \n",
       "2016-03-11 11:00:00                     0.000000                     0.000000   \n",
       "2016-03-11 12:00:00                     0.000000                     0.000000   \n",
       "\n",
       "                     final.output.concentrate_sol  \\\n",
       "date                                                \n",
       "2016-02-13 11:00:00                      0.000000   \n",
       "2016-03-02 11:00:00                      7.821058   \n",
       "2016-03-11 10:00:00                      0.000000   \n",
       "2016-03-11 11:00:00                      0.000000   \n",
       "2016-03-11 12:00:00                      0.000000   \n",
       "\n",
       "                     final.output.concentrate_au  final.output.recovery  \\\n",
       "date                                                                      \n",
       "2016-02-13 11:00:00                     0.000000               0.000000   \n",
       "2016-03-02 11:00:00                    41.529734               0.463711   \n",
       "2016-03-11 10:00:00                     0.000000               0.000000   \n",
       "2016-03-11 11:00:00                     0.000000               0.000000   \n",
       "2016-03-11 12:00:00                     0.000000               0.000000   \n",
       "\n",
       "                     final.output.tail_ag  final.output.tail_pb  \\\n",
       "date                                                              \n",
       "2016-02-13 11:00:00              8.894029              0.843584   \n",
       "2016-03-02 11:00:00             11.388568              1.893716   \n",
       "2016-03-11 10:00:00             10.817313              1.462800   \n",
       "2016-03-11 11:00:00             10.436792              1.207636   \n",
       "2016-03-11 12:00:00             10.637073              1.405778   \n",
       "\n",
       "                     final.output.tail_sol  final.output.tail_au  \\\n",
       "date                                                               \n",
       "2016-02-13 11:00:00              15.417342              1.779052   \n",
       "2016-03-02 11:00:00               7.735606              4.115341   \n",
       "2016-03-11 10:00:00              16.407607              2.984504   \n",
       "2016-03-11 11:00:00              17.800392              2.747294   \n",
       "2016-03-11 12:00:00              17.195897              2.791440   \n",
       "\n",
       "                     primary_cleaner.input.sulfate  ...  \\\n",
       "date                                                ...   \n",
       "2016-02-13 11:00:00                     133.610147  ...   \n",
       "2016-03-02 11:00:00                      87.298736  ...   \n",
       "2016-03-11 10:00:00                     111.502432  ...   \n",
       "2016-03-11 11:00:00                     110.586754  ...   \n",
       "2016-03-11 12:00:00                     104.202288  ...   \n",
       "\n",
       "                     secondary_cleaner.state.floatbank4_a_air  \\\n",
       "date                                                            \n",
       "2016-02-13 11:00:00                                 21.991762   \n",
       "2016-03-02 11:00:00                                 13.974818   \n",
       "2016-03-11 10:00:00                                 11.979352   \n",
       "2016-03-11 11:00:00                                 12.034636   \n",
       "2016-03-11 12:00:00                                 12.016716   \n",
       "\n",
       "                     secondary_cleaner.state.floatbank4_a_level  \\\n",
       "date                                                              \n",
       "2016-02-13 11:00:00                                 -399.587122   \n",
       "2016-03-02 11:00:00                                 -578.520549   \n",
       "2016-03-11 10:00:00                                 -453.431061   \n",
       "2016-03-11 11:00:00                                 -446.590944   \n",
       "2016-03-11 12:00:00                                 -496.613149   \n",
       "\n",
       "                     secondary_cleaner.state.floatbank4_b_air  \\\n",
       "date                                                            \n",
       "2016-02-13 11:00:00                                 21.988937   \n",
       "2016-03-02 11:00:00                                 14.065672   \n",
       "2016-03-11 10:00:00                                 12.003445   \n",
       "2016-03-11 11:00:00                                 12.130405   \n",
       "2016-03-11 12:00:00                                 12.055535   \n",
       "\n",
       "                     secondary_cleaner.state.floatbank4_b_level  \\\n",
       "date                                                              \n",
       "2016-02-13 11:00:00                                 -401.366408   \n",
       "2016-03-02 11:00:00                                 -501.248199   \n",
       "2016-03-11 10:00:00                                 -450.179844   \n",
       "2016-03-11 11:00:00                                 -449.684812   \n",
       "2016-03-11 12:00:00                                 -496.908551   \n",
       "\n",
       "                     secondary_cleaner.state.floatbank5_a_air  \\\n",
       "date                                                            \n",
       "2016-02-13 11:00:00                                 22.995012   \n",
       "2016-03-02 11:00:00                                 12.011447   \n",
       "2016-03-11 10:00:00                                 11.982937   \n",
       "2016-03-11 11:00:00                                 11.844983   \n",
       "2016-03-11 12:00:00                                 12.091144   \n",
       "\n",
       "                     secondary_cleaner.state.floatbank5_a_level  \\\n",
       "date                                                              \n",
       "2016-02-13 11:00:00                                 -399.370680   \n",
       "2016-03-02 11:00:00                                 -500.417855   \n",
       "2016-03-11 10:00:00                                 -449.856468   \n",
       "2016-03-11 11:00:00                                 -450.881424   \n",
       "2016-03-11 12:00:00                                 -496.404140   \n",
       "\n",
       "                     secondary_cleaner.state.floatbank5_b_air  \\\n",
       "date                                                            \n",
       "2016-02-13 11:00:00                                 20.966863   \n",
       "2016-03-02 11:00:00                                 10.025794   \n",
       "2016-03-11 10:00:00                                  9.927727   \n",
       "2016-03-11 11:00:00                                  9.916784   \n",
       "2016-03-11 12:00:00                                  9.976074   \n",
       "\n",
       "                     secondary_cleaner.state.floatbank5_b_level  \\\n",
       "date                                                              \n",
       "2016-02-13 11:00:00                                 -399.308354   \n",
       "2016-03-02 11:00:00                                 -499.889108   \n",
       "2016-03-11 10:00:00                                 -450.521700   \n",
       "2016-03-11 11:00:00                                 -449.542871   \n",
       "2016-03-11 12:00:00                                 -496.783155   \n",
       "\n",
       "                     secondary_cleaner.state.floatbank6_a_air  \\\n",
       "date                                                            \n",
       "2016-02-13 11:00:00                                 24.987274   \n",
       "2016-03-02 11:00:00                                 20.033958   \n",
       "2016-03-11 10:00:00                                 19.971682   \n",
       "2016-03-11 11:00:00                                 20.004767   \n",
       "2016-03-11 12:00:00                                 19.921634   \n",
       "\n",
       "                     secondary_cleaner.state.floatbank6_a_level  \n",
       "date                                                             \n",
       "2016-02-13 11:00:00                                 -399.619808  \n",
       "2016-03-02 11:00:00                                 -499.999036  \n",
       "2016-03-11 10:00:00                                 -500.685521  \n",
       "2016-03-11 11:00:00                                 -500.137068  \n",
       "2016-03-11 12:00:00                                 -500.769011  \n",
       "\n",
       "[5 rows x 86 columns]"
      ]
     },
     "execution_count": 22,
     "metadata": {},
     "output_type": "execute_result"
    }
   ],
   "source": [
    "df_train[df_train['final.output.recovery'] < 1].head()"
   ]
  },
  {
   "cell_type": "markdown",
   "metadata": {},
   "source": [
    "На обеих гистограммах видны нулевые значения. Видим, что по столбцам, где проходит этап \"rougher\" нет никаких данных, следовательно можем их удалить.\n",
    "\n",
    "В эффективности обогащения финального концентрата также видим, что отсутсвуют данные в столбцах \"rougher\", следовательно также можем их удалить\n",
    "Для 'final.output.recovery' видим такие же шумы (нулевые значения) в районе 100. Также их удалим."
   ]
  },
  {
   "cell_type": "code",
   "execution_count": 23,
   "metadata": {},
   "outputs": [],
   "source": [
    "df_train = df_train.drop(df_train[df_train['rougher.output.recovery'] == 0].index)"
   ]
  },
  {
   "cell_type": "code",
   "execution_count": 24,
   "metadata": {},
   "outputs": [],
   "source": [
    "df_train = df_train.drop(df_train[df_train['final.output.recovery'] == 0].index)"
   ]
  },
  {
   "cell_type": "markdown",
   "metadata": {},
   "source": [
    "Избавимся от аномалий в нулевых значениях концентраций всех веществ на стадии первичной очистки."
   ]
  },
  {
   "cell_type": "code",
   "execution_count": 25,
   "metadata": {},
   "outputs": [],
   "source": [
    "df_train = df_train.drop(df_train[df_train['primary_cleaner.output.concentrate_au'] < 1].index)"
   ]
  },
  {
   "cell_type": "code",
   "execution_count": 26,
   "metadata": {},
   "outputs": [],
   "source": [
    "df_train = df_train.drop(df_train[df_train['primary_cleaner.output.concentrate_ag'] < 1].index)"
   ]
  },
  {
   "cell_type": "code",
   "execution_count": 27,
   "metadata": {},
   "outputs": [],
   "source": [
    "df_train = df_train.drop(df_train[df_train['primary_cleaner.output.concentrate_pb'] < 1].index)"
   ]
  },
  {
   "cell_type": "code",
   "execution_count": 28,
   "metadata": {},
   "outputs": [],
   "source": [
    "df_train = df_train.drop(df_train[df_train['primary_cleaner.output.concentrate_sol'] < 1].index)"
   ]
  },
  {
   "cell_type": "code",
   "execution_count": 29,
   "metadata": {},
   "outputs": [
    {
     "name": "stdout",
     "output_type": "stream",
     "text": [
      "<class 'pandas.core.frame.DataFrame'>\n",
      "Index: 13537 entries, 2016-01-15 00:00:00 to 2018-08-18 10:59:59\n",
      "Data columns (total 86 columns):\n",
      " #   Column                                              Non-Null Count  Dtype  \n",
      "---  ------                                              --------------  -----  \n",
      " 0   final.output.concentrate_ag                         13537 non-null  float64\n",
      " 1   final.output.concentrate_pb                         13537 non-null  float64\n",
      " 2   final.output.concentrate_sol                        13537 non-null  float64\n",
      " 3   final.output.concentrate_au                         13537 non-null  float64\n",
      " 4   final.output.recovery                               13537 non-null  float64\n",
      " 5   final.output.tail_ag                                13537 non-null  float64\n",
      " 6   final.output.tail_pb                                13537 non-null  float64\n",
      " 7   final.output.tail_sol                               13537 non-null  float64\n",
      " 8   final.output.tail_au                                13537 non-null  float64\n",
      " 9   primary_cleaner.input.sulfate                       13537 non-null  float64\n",
      " 10  primary_cleaner.input.depressant                    13537 non-null  float64\n",
      " 11  primary_cleaner.input.feed_size                     13537 non-null  float64\n",
      " 12  primary_cleaner.input.xanthate                      13537 non-null  float64\n",
      " 13  primary_cleaner.output.concentrate_ag               13537 non-null  float64\n",
      " 14  primary_cleaner.output.concentrate_pb               13537 non-null  float64\n",
      " 15  primary_cleaner.output.concentrate_sol              13537 non-null  float64\n",
      " 16  primary_cleaner.output.concentrate_au               13537 non-null  float64\n",
      " 17  primary_cleaner.output.tail_ag                      13537 non-null  float64\n",
      " 18  primary_cleaner.output.tail_pb                      13537 non-null  float64\n",
      " 19  primary_cleaner.output.tail_sol                     13537 non-null  float64\n",
      " 20  primary_cleaner.output.tail_au                      13537 non-null  float64\n",
      " 21  primary_cleaner.state.floatbank8_a_air              13537 non-null  float64\n",
      " 22  primary_cleaner.state.floatbank8_a_level            13537 non-null  float64\n",
      " 23  primary_cleaner.state.floatbank8_b_air              13537 non-null  float64\n",
      " 24  primary_cleaner.state.floatbank8_b_level            13537 non-null  float64\n",
      " 25  primary_cleaner.state.floatbank8_c_air              13537 non-null  float64\n",
      " 26  primary_cleaner.state.floatbank8_c_level            13537 non-null  float64\n",
      " 27  primary_cleaner.state.floatbank8_d_air              13537 non-null  float64\n",
      " 28  primary_cleaner.state.floatbank8_d_level            13537 non-null  float64\n",
      " 29  rougher.calculation.sulfate_to_au_concentrate       13537 non-null  float64\n",
      " 30  rougher.calculation.floatbank10_sulfate_to_au_feed  13537 non-null  float64\n",
      " 31  rougher.calculation.floatbank11_sulfate_to_au_feed  13537 non-null  float64\n",
      " 32  rougher.calculation.au_pb_ratio                     13537 non-null  float64\n",
      " 33  rougher.input.feed_ag                               13537 non-null  float64\n",
      " 34  rougher.input.feed_pb                               13537 non-null  float64\n",
      " 35  rougher.input.feed_rate                             13537 non-null  float64\n",
      " 36  rougher.input.feed_size                             13537 non-null  float64\n",
      " 37  rougher.input.feed_sol                              13537 non-null  float64\n",
      " 38  rougher.input.feed_au                               13537 non-null  float64\n",
      " 39  rougher.input.floatbank10_sulfate                   13537 non-null  float64\n",
      " 40  rougher.input.floatbank10_xanthate                  13537 non-null  float64\n",
      " 41  rougher.input.floatbank11_sulfate                   13537 non-null  float64\n",
      " 42  rougher.input.floatbank11_xanthate                  13537 non-null  float64\n",
      " 43  rougher.output.concentrate_ag                       13537 non-null  float64\n",
      " 44  rougher.output.concentrate_pb                       13537 non-null  float64\n",
      " 45  rougher.output.concentrate_sol                      13537 non-null  float64\n",
      " 46  rougher.output.concentrate_au                       13537 non-null  float64\n",
      " 47  rougher.output.recovery                             13537 non-null  float64\n",
      " 48  rougher.output.tail_ag                              13537 non-null  float64\n",
      " 49  rougher.output.tail_pb                              13537 non-null  float64\n",
      " 50  rougher.output.tail_sol                             13537 non-null  float64\n",
      " 51  rougher.output.tail_au                              13537 non-null  float64\n",
      " 52  rougher.state.floatbank10_a_air                     13537 non-null  float64\n",
      " 53  rougher.state.floatbank10_a_level                   13537 non-null  float64\n",
      " 54  rougher.state.floatbank10_b_air                     13537 non-null  float64\n",
      " 55  rougher.state.floatbank10_b_level                   13537 non-null  float64\n",
      " 56  rougher.state.floatbank10_c_air                     13537 non-null  float64\n",
      " 57  rougher.state.floatbank10_c_level                   13537 non-null  float64\n",
      " 58  rougher.state.floatbank10_d_air                     13537 non-null  float64\n",
      " 59  rougher.state.floatbank10_d_level                   13537 non-null  float64\n",
      " 60  rougher.state.floatbank10_e_air                     13537 non-null  float64\n",
      " 61  rougher.state.floatbank10_e_level                   13537 non-null  float64\n",
      " 62  rougher.state.floatbank10_f_air                     13537 non-null  float64\n",
      " 63  rougher.state.floatbank10_f_level                   13537 non-null  float64\n",
      " 64  secondary_cleaner.output.tail_ag                    13537 non-null  float64\n",
      " 65  secondary_cleaner.output.tail_pb                    13537 non-null  float64\n",
      " 66  secondary_cleaner.output.tail_sol                   13537 non-null  float64\n",
      " 67  secondary_cleaner.output.tail_au                    13537 non-null  float64\n",
      " 68  secondary_cleaner.state.floatbank2_a_air            13537 non-null  float64\n",
      " 69  secondary_cleaner.state.floatbank2_a_level          13537 non-null  float64\n",
      " 70  secondary_cleaner.state.floatbank2_b_air            13537 non-null  float64\n",
      " 71  secondary_cleaner.state.floatbank2_b_level          13537 non-null  float64\n",
      " 72  secondary_cleaner.state.floatbank3_a_air            13537 non-null  float64\n",
      " 73  secondary_cleaner.state.floatbank3_a_level          13537 non-null  float64\n",
      " 74  secondary_cleaner.state.floatbank3_b_air            13537 non-null  float64\n",
      " 75  secondary_cleaner.state.floatbank3_b_level          13537 non-null  float64\n",
      " 76  secondary_cleaner.state.floatbank4_a_air            13537 non-null  float64\n",
      " 77  secondary_cleaner.state.floatbank4_a_level          13537 non-null  float64\n",
      " 78  secondary_cleaner.state.floatbank4_b_air            13537 non-null  float64\n",
      " 79  secondary_cleaner.state.floatbank4_b_level          13537 non-null  float64\n",
      " 80  secondary_cleaner.state.floatbank5_a_air            13537 non-null  float64\n",
      " 81  secondary_cleaner.state.floatbank5_a_level          13537 non-null  float64\n",
      " 82  secondary_cleaner.state.floatbank5_b_air            13537 non-null  float64\n",
      " 83  secondary_cleaner.state.floatbank5_b_level          13537 non-null  float64\n",
      " 84  secondary_cleaner.state.floatbank6_a_air            13537 non-null  float64\n",
      " 85  secondary_cleaner.state.floatbank6_a_level          13537 non-null  float64\n",
      "dtypes: float64(86)\n",
      "memory usage: 9.0+ MB\n"
     ]
    }
   ],
   "source": [
    "# Проверим датафрейм\n",
    "df_train.info()"
   ]
  },
  {
   "cell_type": "markdown",
   "metadata": {},
   "source": [
    "Датафрейм уже не содержит пропусков и нулевых значений. Можно переходить к анализу данных."
   ]
  },
  {
   "cell_type": "markdown",
   "metadata": {},
   "source": [
    "## Анализ данных"
   ]
  },
  {
   "cell_type": "markdown",
   "metadata": {},
   "source": [
    "**Анализ концентрации металлов (Au, Ag, Pb) на различных этапах очистки путём построения гистограмм**"
   ]
  },
  {
   "cell_type": "code",
   "execution_count": 30,
   "metadata": {},
   "outputs": [
    {
     "data": {
      "image/png": "[encoded data removed]",
      "text/plain": [
       "<Figure size 864x648 with 1 Axes>"
      ]
     },
     "metadata": {
      "needs_background": "light"
     },
     "output_type": "display_data"
    }
   ],
   "source": [
    "# Для Золота:\n",
    "plt.figure(figsize=[12,9])\n",
    "\n",
    "plt.hist(df_train['final.output.concentrate_au'], bins=100, label = 'final.output', alpha=0.5)\n",
    "plt.hist(df_train['primary_cleaner.output.concentrate_au'], bins=100, label = 'primary_cleaner.output', alpha=0.5)\n",
    "plt.hist(df_train['rougher.output.concentrate_au'], bins=100, label = 'rougher.output', alpha=0.5)\n",
    "\n",
    "plt.xlim([0, 60])\n",
    "plt.ylim([0, 1000])\n",
    "\n",
    "plt.xlabel(\"Концентрация золота\")\n",
    "plt.ylabel(\"Количество\")\n",
    "\n",
    "plt.legend(loc='upper left', fontsize='x-large')\n",
    "\n",
    "plt.title(\"Гистограмма распределения концентрации золота на различных этапах очистки\")\n",
    "plt.show()"
   ]
  },
  {
   "cell_type": "code",
   "execution_count": 31,
   "metadata": {},
   "outputs": [
    {
     "data": {
      "image/png": "[encoded data removed]",
      "text/plain": [
       "<Figure size 864x648 with 1 Axes>"
      ]
     },
     "metadata": {
      "needs_background": "light"
     },
     "output_type": "display_data"
    }
   ],
   "source": [
    "# Для Серебра:\n",
    "plt.figure(figsize=[12,9])\n",
    "\n",
    "plt.hist(df_train['final.output.concentrate_ag'], bins=110, label = 'final.output', alpha=0.5)\n",
    "plt.hist(df_train['primary_cleaner.output.concentrate_ag'], bins=110, label = 'primary_cleaner.output', alpha=0.5)\n",
    "plt.hist(df_train['rougher.output.concentrate_ag'], bins=110, label = 'rougher.output', alpha=0.5)\n",
    "\n",
    "plt.xlim([0, 25])\n",
    "plt.ylim([0, 700])\n",
    "\n",
    "plt.xlabel(\"Концентрация серебра\")\n",
    "plt.ylabel(\"Количество\")\n",
    "\n",
    "plt.legend(loc='upper right', fontsize='x-large')\n",
    "\n",
    "plt.title(\"Гистограмма распределения концентрации серебра на различных этапах очистки\")\n",
    "plt.show()"
   ]
  },
  {
   "cell_type": "code",
   "execution_count": 32,
   "metadata": {},
   "outputs": [
    {
     "data": {
      "image/png": "[encoded data removed]",
      "text/plain": [
       "<Figure size 864x720 with 1 Axes>"
      ]
     },
     "metadata": {
      "needs_background": "light"
     },
     "output_type": "display_data"
    }
   ],
   "source": [
    "# Для Свинца:\n",
    "plt.figure(figsize=[12,10])\n",
    "\n",
    "plt.hist(df_train['final.output.concentrate_pb'], bins=100, label = 'final.output', alpha=0.5)\n",
    "plt.hist(df_train['primary_cleaner.output.concentrate_pb'], bins=100, label = 'primary_cleaner.output', alpha=0.5)\n",
    "plt.hist(df_train['rougher.output.concentrate_pb'], bins=100, label = 'rougher.output', alpha=0.5)\n",
    "\n",
    "plt.xlim([0, 20])\n",
    "plt.ylim([0, 600])\n",
    "\n",
    "plt.xlabel(\"Концентрация свинца\")\n",
    "plt.ylabel(\"Количество\")\n",
    "\n",
    "plt.legend(loc='upper left', fontsize='x-large')\n",
    "\n",
    "plt.title(\"Гистограмма распределения концентрации свинца на различных этапах очистки\")\n",
    "plt.show()"
   ]
  },
  {
   "cell_type": "markdown",
   "metadata": {},
   "source": [
    "**Выводы**\n",
    "\n",
    "- Концентарция золота повышается с каждой стадией обогащения и очистки, золото обогащается.\n",
    "- Концентрация серебра наоборот понижается с каждым этапом, т.к. мы обогащаем именно золото.\n",
    "- Концентрация свинца после первичной очистки по сравнению с флотацией повысилась, а в результате вторичной очистки практически не изменилась, но увеличилось его количество."
   ]
  },
  {
   "cell_type": "markdown",
   "metadata": {},
   "source": [
    "**Сравним распределения размеров гранул сырья на обучающей и тестовой выборках.**"
   ]
  },
  {
   "cell_type": "code",
   "execution_count": 33,
   "metadata": {},
   "outputs": [
    {
     "data": {
      "image/png": "[encoded data removed]",
      "text/plain": [
       "<Figure size 936x720 with 1 Axes>"
      ]
     },
     "metadata": {
      "needs_background": "light"
     },
     "output_type": "display_data"
    }
   ],
   "source": [
    "# Перед флотацией\n",
    "plt.figure(figsize=[13,10])\n",
    "\n",
    "plt.hist(df_train['rougher.input.feed_size'], bins=220, label = 'Train rougher.input.feed_size', alpha=0.5, density=True)\n",
    "plt.hist(df_test['rougher.input.feed_size'], bins=220, label = 'Test rougher.input.feed_size', alpha=0.5, density=True)\n",
    "\n",
    "plt.xlim([0, 200])\n",
    "\n",
    "plt.xlabel(\"Размер гранул сырья\")\n",
    "plt.ylabel(\"Доля\")\n",
    "\n",
    "plt.legend(loc='upper right', fontsize='x-large')\n",
    "\n",
    "plt.title(\"Гистограмма распределения доли гранул сырья на обучающей и тестовой выборках перед флотацией\")\n",
    "plt.show()"
   ]
  },
  {
   "cell_type": "code",
   "execution_count": 34,
   "metadata": {},
   "outputs": [
    {
     "data": {
      "image/png": "[encoded data removed]",
      "text/plain": [
       "<Figure size 864x648 with 1 Axes>"
      ]
     },
     "metadata": {
      "needs_background": "light"
     },
     "output_type": "display_data"
    }
   ],
   "source": [
    "# Перед первичной очисткой\n",
    "plt.figure(figsize=[12,9])\n",
    "\n",
    "plt.hist(df_train['primary_cleaner.input.feed_size'], bins=100, label = 'Train primary_cleaner.input.feed_size',\n",
    "         alpha=0.5, density=True)\n",
    "plt.hist(df_test['primary_cleaner.input.feed_size'], bins=100, label = 'Test primary_cleaner.input.feed_size',\n",
    "         alpha=0.5, density=True)\n",
    "\n",
    "plt.xlim([0, 12])\n",
    "\n",
    "plt.xlabel(\"Размер гранул сырья\")\n",
    "plt.ylabel(\"Доля\")\n",
    "\n",
    "plt.legend(loc='upper left', fontsize='x-large')\n",
    "\n",
    "plt.title(\"Гистограмма распределения доли гранул сырья на обучающей и тестовой выборках перед первичной очисткой\")\n",
    "plt.show()"
   ]
  },
  {
   "cell_type": "markdown",
   "metadata": {},
   "source": [
    "- Перед флотацией видим нормальное распеделение со смещением влево.\n",
    "- Перед первичной очисткой видим также нормальное распеделение, размер нормализовался. Доля на тестовой выборке и на тренировочной примерно одинаковы."
   ]
  },
  {
   "cell_type": "markdown",
   "metadata": {},
   "source": [
    "**Исследуем суммарную концентрацию всех веществ на разных стадиях: в сырье, в черновом, и в финальном концентратах.**"
   ]
  },
  {
   "cell_type": "code",
   "execution_count": 35,
   "metadata": {},
   "outputs": [],
   "source": [
    "# Подготовим столбцы с концентрациями материалов в обучающей выборке на разных стадиях:\n",
    "final_output_concentrate_sum_train = (df_train['final.output.concentrate_au'] + df_train['final.output.concentrate_ag'] + \n",
    "                                      df_train['final.output.concentrate_pb'] + df_train['final.output.concentrate_sol'])\n",
    "primary_cleaner_output_concentrate_sum_train = (df_train['primary_cleaner.output.concentrate_au'] +\n",
    "                                                df_train['primary_cleaner.output.concentrate_ag'] + \n",
    "                                                df_train['primary_cleaner.output.concentrate_pb'] +\n",
    "                                                df_train['primary_cleaner.output.concentrate_sol'])\n",
    "rougher_output_concentrate_sum_train = (df_train['rougher.output.concentrate_au'] + df_train['rougher.output.concentrate_ag'] + \n",
    "                                        df_train['rougher.output.concentrate_pb'] + df_train['rougher.output.concentrate_sol'])"
   ]
  },
  {
   "cell_type": "code",
   "execution_count": 36,
   "metadata": {},
   "outputs": [
    {
     "data": {
      "image/png": "[encoded data removed]",
      "text/plain": [
       "<Figure size 864x648 with 1 Axes>"
      ]
     },
     "metadata": {
      "needs_background": "light"
     },
     "output_type": "display_data"
    }
   ],
   "source": [
    "# Строим гистограмму:\n",
    "plt.figure(figsize=[12,9])\n",
    "\n",
    "plt.hist(final_output_concentrate_sum_train, bins=100, label = 'final_output', alpha=.4)\n",
    "plt.hist(primary_cleaner_output_concentrate_sum_train, bins=100, label = 'primary_cleaner_output', alpha=.5)\n",
    "plt.hist(rougher_output_concentrate_sum_train, bins=100, label = 'rougher_output', alpha=.4)\n",
    "\n",
    "plt.xlim([0, 100])\n",
    "plt.ylim([0, 2000])\n",
    "\n",
    "plt.xlabel(\"Суммарная концентрация\")\n",
    "plt.ylabel(\"Количество\")\n",
    "\n",
    "plt.legend(loc='upper left', fontsize='x-large')\n",
    "\n",
    "plt.title(\"Гистограмма распределения суммарных концентраций всех веществ на разных стадиях очистки\")\n",
    "plt.show()"
   ]
  },
  {
   "cell_type": "markdown",
   "metadata": {},
   "source": [
    "На всех стадиях обработки суммарная концентрация имеет нормальное распределение, без ярко-выраженных аномалий. На финальной стадии очистки количество резко возрасло."
   ]
  },
  {
   "cell_type": "markdown",
   "metadata": {},
   "source": [
    "**Вывод**\n",
    "\n",
    "В результате анализа было изучено:\n",
    "- Тенденции изменения концентрации металлов (Au, Ag, Pb) на различных этапах очистки.\n",
    "- Распределение рзмеров гранул сырья на обучающей и тестовой выборках\n",
    "- Исследована суммарная концентрация всех веществ на разных стадиях: в сырье, в черновом и финальном концентратах.\n",
    "\n",
    "Данные готовы к обучению."
   ]
  },
  {
   "cell_type": "markdown",
   "metadata": {},
   "source": [
    "## Модель"
   ]
  },
  {
   "cell_type": "code",
   "execution_count": 37,
   "metadata": {},
   "outputs": [],
   "source": [
    "# Функция для вычисления sMAPE:\n",
    "def smape(target, predict): \n",
    "    return np.mean(abs(target - predict)/((abs(target)+abs(predict))/2))*100"
   ]
  },
  {
   "cell_type": "code",
   "execution_count": 38,
   "metadata": {},
   "outputs": [],
   "source": [
    "# Функция вычисления Итогового sMAPE:\n",
    "def final_smape(smape_rougher,smape_final):\n",
    "    return (0.25*smape_rougher + 0.75*smape_final)"
   ]
  },
  {
   "cell_type": "code",
   "execution_count": 39,
   "metadata": {},
   "outputs": [],
   "source": [
    "# Создадим features и target для train выборок\n",
    "feat_train = df_train.drop(['rougher.output.recovery', 'final.output.recovery'], axis=1)\n",
    "feat_train.reset_index(inplace=True, drop=True)\n",
    "targ_train = df_train[['rougher.output.recovery', 'final.output.recovery']]\n",
    "targ_train.reset_index(inplace=True, drop=True)"
   ]
  },
  {
   "cell_type": "code",
   "execution_count": 40,
   "metadata": {},
   "outputs": [],
   "source": [
    "# Готовим признаки для final.output.recovery\n",
    "columns_delete = set(df_train.columns) - set(df_test.columns)\n",
    "feat_train_final = df_train.drop(columns_delete, axis=1)\n",
    "targ_train_final = targ_train['final.output.recovery']"
   ]
  },
  {
   "cell_type": "code",
   "execution_count": 41,
   "metadata": {},
   "outputs": [],
   "source": [
    "# Готовим признаки для rougher.output.recovery:\n",
    "feat_rougher_columns = set(df_test.columns[29:64]) # Данные из столбцов rougher\n",
    "columns_delete = set(feat_train_final.columns) - feat_rougher_columns\n",
    "feat_train_rougher = feat_train_final.drop(columns_delete, axis=1)\n",
    "targ_train_rougher = targ_train['rougher.output.recovery']"
   ]
  },
  {
   "cell_type": "code",
   "execution_count": 42,
   "metadata": {},
   "outputs": [],
   "source": [
    "# Скорер для оценки модели\n",
    "custom_score = make_scorer(smape,greater_is_better=False)"
   ]
  },
  {
   "cell_type": "code",
   "execution_count": 43,
   "metadata": {},
   "outputs": [],
   "source": [
    "# Используем конвейеры для предотвращения утечки\n",
    "model1 = make_pipeline(StandardScaler(),RandomForestRegressor(random_state=12345)) # Случайный лес\n",
    "model2 = make_pipeline(StandardScaler(),DecisionTreeRegressor(random_state=12345)) # Дерево решений"
   ]
  },
  {
   "cell_type": "code",
   "execution_count": 44,
   "metadata": {},
   "outputs": [],
   "source": [
    "# Инициализация параметров для GridSearchCV\n",
    "params_DT= {\"decisiontreeregressor__max_depth\":[1,10]}\n",
    "params_RF = {\"randomforestregressor__n_estimators\":[5,100],\n",
    "             \"randomforestregressor__max_depth\":[1,10]}"
   ]
  },
  {
   "cell_type": "code",
   "execution_count": 45,
   "metadata": {},
   "outputs": [],
   "source": [
    "grid_rougher_DT = GridSearchCV(model2,param_grid = params_DT,scoring=custom_score,n_jobs=-1)\n",
    "grid_final_DT = GridSearchCV(model2,param_grid = params_DT,scoring=custom_score,n_jobs=-1)\n",
    "grid_rougher_RF = GridSearchCV(model1,param_grid = params_RF,scoring=custom_score,n_jobs=-1)\n",
    "grid_final_RF = GridSearchCV(model1,param_grid = params_RF,scoring=custom_score,n_jobs=-1)"
   ]
  },
  {
   "cell_type": "code",
   "execution_count": 46,
   "metadata": {},
   "outputs": [
    {
     "name": "stdout",
     "output_type": "stream",
     "text": [
      "|████████████████████████████████████████| 4/4 [100%] in 4:57.7 (0.01/s)                                                \n"
     ]
    }
   ],
   "source": [
    "# Обучаем\n",
    "with alive_bar(4, force_tty=True) as bar:\n",
    "    grid_rougher_DT.fit(feat_train_rougher,targ_train_rougher)\n",
    "    bar()\n",
    "    grid_final_DT.fit(feat_train_final,targ_train_final)\n",
    "    bar()\n",
    "    grid_rougher_RF.fit(feat_train_rougher,targ_train_rougher)\n",
    "    bar()\n",
    "    grid_final_RF.fit(feat_train_final,targ_train_final)\n",
    "    bar()"
   ]
  },
  {
   "cell_type": "code",
   "execution_count": 47,
   "metadata": {},
   "outputs": [
    {
     "name": "stdout",
     "output_type": "stream",
     "text": [
      "Лучшие модели\n",
      "Pipeline(steps=[('standardscaler', StandardScaler()),\n",
      "                ('decisiontreeregressor',\n",
      "                 DecisionTreeRegressor(max_depth=1, random_state=12345))])\n",
      "Pipeline(steps=[('standardscaler', StandardScaler()),\n",
      "                ('decisiontreeregressor',\n",
      "                 DecisionTreeRegressor(max_depth=1, random_state=12345))])\n",
      "Pipeline(steps=[('standardscaler', StandardScaler()),\n",
      "                ('randomforestregressor',\n",
      "                 RandomForestRegressor(max_depth=1, n_estimators=5,\n",
      "                                       random_state=12345))])\n",
      "Pipeline(steps=[('standardscaler', StandardScaler()),\n",
      "                ('randomforestregressor',\n",
      "                 RandomForestRegressor(max_depth=10, random_state=12345))])\n"
     ]
    }
   ],
   "source": [
    "print(\"Лучшие модели\")\n",
    "print(grid_rougher_DT.best_estimator_)\n",
    "print(grid_final_DT.best_estimator_)\n",
    "print(grid_rougher_RF.best_estimator_)\n",
    "print(grid_final_RF.best_estimator_)"
   ]
  },
  {
   "cell_type": "code",
   "execution_count": 48,
   "metadata": {},
   "outputs": [],
   "source": [
    "best_score_rougher_DT = grid_rougher_DT.best_score_\n",
    "best_score_final_DT = grid_final_DT.best_score_\n",
    "best_score_rougher_RF = grid_rougher_RF.best_score_\n",
    "best_score_final_RF = grid_final_RF.best_score_"
   ]
  },
  {
   "cell_type": "code",
   "execution_count": 49,
   "metadata": {},
   "outputs": [
    {
     "name": "stdout",
     "output_type": "stream",
     "text": [
      "rougher, лучший результат:\n",
      "RandomForest -6.960605393085517 DecisionTree -6.731402288907693\n",
      "final, лучший результат:\n",
      "RandomForest -9.40145870529707 DecisionTree -9.454545597089425\n"
     ]
    }
   ],
   "source": [
    "# Определяем лучшую модель для каждого целевого признака\n",
    "print(\"rougher, лучший результат:\")\n",
    "print(\"RandomForest\",best_score_rougher_RF,\"DecisionTree\",best_score_rougher_DT)\n",
    "print(\"final, лучший результат:\")\n",
    "print(\"RandomForest\",best_score_final_RF,\"DecisionTree\",best_score_final_DT)"
   ]
  },
  {
   "cell_type": "markdown",
   "metadata": {},
   "source": [
    "На этапе флотации лучше всего справляется Решающее дерево (DT), а на финальной стадии - случайный лес (RF)., будем использовать их на соответствующих данных."
   ]
  },
  {
   "cell_type": "markdown",
   "metadata": {},
   "source": [
    "**Лучшие результаты на тренировочной выборке**"
   ]
  },
  {
   "cell_type": "code",
   "execution_count": 50,
   "metadata": {},
   "outputs": [
    {
     "data": {
      "text/plain": [
       "-8.791245377244183"
      ]
     },
     "execution_count": 50,
     "metadata": {},
     "output_type": "execute_result"
    }
   ],
   "source": [
    "# Финальный sMAPE RandomForest\n",
    "final_smape(best_score_rougher_RF,best_score_final_RF)"
   ]
  },
  {
   "cell_type": "code",
   "execution_count": 51,
   "metadata": {},
   "outputs": [
    {
     "data": {
      "text/plain": [
       "-8.773759770043991"
      ]
     },
     "execution_count": 51,
     "metadata": {},
     "output_type": "execute_result"
    }
   ],
   "source": [
    "# Финальный sMAPE DecisionTree\n",
    "final_smape(best_score_rougher_DT,best_score_final_DT)"
   ]
  },
  {
   "cell_type": "code",
   "execution_count": 52,
   "metadata": {},
   "outputs": [],
   "source": [
    "# Создадим features и target для test выборок rougher\n",
    "columns_delete = set(df_test.columns) - feat_rougher_columns\n",
    "test_full_united = df_test.merge(df_full.loc[:,[\"rougher.output.recovery\",\n",
    "                                                           \"final.output.recovery\"]],on = 'date')\n",
    "feat_test_rougher = df_test.drop(columns_delete, axis=1)\n",
    "targ_test_rougher = test_full_united[\"rougher.output.recovery\"]"
   ]
  },
  {
   "cell_type": "code",
   "execution_count": 53,
   "metadata": {},
   "outputs": [],
   "source": [
    "# Создадим features и target для test выборок final\n",
    "feat_test_final = df_test\n",
    "targ_test_final = test_full_united[\"final.output.recovery\"]"
   ]
  },
  {
   "cell_type": "code",
   "execution_count": 54,
   "metadata": {},
   "outputs": [],
   "source": [
    "not_nan_index = set(feat_test_rougher.index)\n",
    "rougher_recovery_real = df_full.loc[not_nan_index,'rougher.output.recovery']\n",
    "final_recovery_real = df_full.loc[feat_test_final.index,'final.output.recovery']\n",
    "not_nan_index = not_nan_index.intersection(set(final_recovery_real.index), set(rougher_recovery_real.index))\n",
    "final_recovery_real = df_full.loc[not_nan_index,'final.output.recovery']\n",
    "feat_test_rougher = feat_test_rougher.loc[not_nan_index,:]\n",
    "feat_test_final = feat_test_final.loc[not_nan_index,:]\n",
    "test_rogher = grid_rougher_DT.predict(feat_test_rougher)\n",
    "test_final = grid_final_RF.predict(feat_test_final)"
   ]
  },
  {
   "cell_type": "markdown",
   "metadata": {},
   "source": [
    "**Финальная ошибка на тестовой выборке**"
   ]
  },
  {
   "cell_type": "code",
   "execution_count": 55,
   "metadata": {},
   "outputs": [
    {
     "data": {
      "text/plain": [
       "9.730129223851792"
      ]
     },
     "execution_count": 55,
     "metadata": {},
     "output_type": "execute_result"
    }
   ],
   "source": [
    "smape(targ_test_rougher,test_rogher)"
   ]
  },
  {
   "cell_type": "code",
   "execution_count": 56,
   "metadata": {},
   "outputs": [
    {
     "data": {
      "text/plain": [
       "11.146770019840838"
      ]
     },
     "execution_count": 56,
     "metadata": {},
     "output_type": "execute_result"
    }
   ],
   "source": [
    "smape(targ_test_final,test_final)"
   ]
  },
  {
   "cell_type": "code",
   "execution_count": 57,
   "metadata": {},
   "outputs": [
    {
     "data": {
      "text/plain": [
       "10.792609820843577"
      ]
     },
     "execution_count": 57,
     "metadata": {},
     "output_type": "execute_result"
    }
   ],
   "source": [
    "final_smape(smape(targ_test_rougher,test_rogher), smape(targ_test_final,test_final))"
   ]
  },
  {
   "cell_type": "markdown",
   "metadata": {},
   "source": [
    "**Константная модель, сравнение, анализ. Проверим модель на адекватность**"
   ]
  },
  {
   "cell_type": "code",
   "execution_count": 58,
   "metadata": {},
   "outputs": [
    {
     "name": "stdout",
     "output_type": "stream",
     "text": [
      "8.519545691335512\n"
     ]
    }
   ],
   "source": [
    "dummy_regressor_rougher = DummyRegressor(strategy=\"median\")\n",
    "dummy_regressor_rougher.fit(feat_train_rougher,targ_train_rougher)\n",
    "smape_dummy_rougher = smape(targ_test_rougher, dummy_regressor_rougher.predict(test_rogher))\n",
    "print(smape_dummy_rougher)"
   ]
  },
  {
   "cell_type": "code",
   "execution_count": 59,
   "metadata": {},
   "outputs": [
    {
     "name": "stdout",
     "output_type": "stream",
     "text": [
      "9.75154259916478\n"
     ]
    }
   ],
   "source": [
    "dummy_regressor_final = DummyRegressor(strategy=\"median\")\n",
    "dummy_regressor_final.fit(feat_train_final,targ_train_final)\n",
    "smape_dummy_final = smape(targ_test_final, dummy_regressor_final.predict(test_final))\n",
    "print(smape_dummy_final) "
   ]
  },
  {
   "cell_type": "code",
   "execution_count": 60,
   "metadata": {},
   "outputs": [
    {
     "name": "stdout",
     "output_type": "stream",
     "text": [
      "9.135544145250147\n"
     ]
    }
   ],
   "source": [
    "final_smape_dummy = (smape_dummy_final + smape_dummy_rougher)/2\n",
    "print(final_smape_dummy)"
   ]
  },
  {
   "cell_type": "markdown",
   "metadata": {},
   "source": [
    "**Вывод**\n",
    "\n",
    "Итоговая модель построена на алгоритме \"Решающее дерево\" (DT) на этапе флотации, и \"RandomForest\" (Случайный лес) на финальном этапе.\n",
    "\n",
    "Финальная ошибка на тестовой выборке (10,79) получилась выше, чем на тренировочной (Финальный sMAPE RandomForest= -8.79; Финальный sMAPE DecisionTree= -8.77).\n",
    "\n",
    "Финальная ошибка на тестовой выборке: 10,79, на константной 9,13\n",
    "\n",
    "Параметры алгоритма:\n",
    "\n",
    "Pipeline(steps=[('standardscaler', StandardScaler()),\n",
    "                ('decisiontreeregressor',\n",
    "                 DecisionTreeRegressor(max_depth=1, random_state=12345))]) - для этапа флотации;\n",
    "                 \n",
    "Pipeline(steps=[('standardscaler', StandardScaler()), ('randomforestregressor',\n",
    "                 RandomForestRegressor(max_depth=10, random_state=12345))]) - для финального обогащения."
   ]
  }
 ],
 "metadata": {
  "ExecuteTimeLog": [
   {
    "duration": 1068,
    "start_time": "2023-01-20T04:03:46.137Z"
   },
   {
    "duration": 20549,
    "start_time": "2023-01-20T04:06:45.917Z"
   },
   {
    "duration": 3045,
    "start_time": "2023-01-20T04:11:29.371Z"
   },
   {
    "duration": 2451,
    "start_time": "2023-01-20T04:20:39.980Z"
   },
   {
    "duration": 1058,
    "start_time": "2023-01-20T04:49:45.757Z"
   },
   {
    "duration": 3111,
    "start_time": "2023-01-20T04:53:21.803Z"
   },
   {
    "duration": 29,
    "start_time": "2023-01-20T04:55:23.193Z"
   },
   {
    "duration": 19,
    "start_time": "2023-01-20T04:56:22.111Z"
   },
   {
    "duration": 28,
    "start_time": "2023-01-20T04:58:23.092Z"
   },
   {
    "duration": 21,
    "start_time": "2023-01-20T04:58:49.326Z"
   },
   {
    "duration": 21,
    "start_time": "2023-01-20T04:59:02.304Z"
   },
   {
    "duration": 24,
    "start_time": "2023-01-20T04:59:26.689Z"
   },
   {
    "duration": 29,
    "start_time": "2023-01-20T04:59:30.006Z"
   },
   {
    "duration": 36,
    "start_time": "2023-01-20T04:59:33.635Z"
   },
   {
    "duration": 16,
    "start_time": "2023-01-20T04:59:50.680Z"
   },
   {
    "duration": 12,
    "start_time": "2023-01-20T05:00:10.513Z"
   },
   {
    "duration": 17,
    "start_time": "2023-01-20T05:00:14.597Z"
   },
   {
    "duration": 7978,
    "start_time": "2023-01-20T05:30:38.749Z"
   },
   {
    "duration": 140,
    "start_time": "2023-01-20T05:33:40.249Z"
   },
   {
    "duration": 23,
    "start_time": "2023-01-20T05:33:48.849Z"
   },
   {
    "duration": 123,
    "start_time": "2023-01-20T05:33:59.039Z"
   },
   {
    "duration": 102,
    "start_time": "2023-01-20T05:34:27.436Z"
   },
   {
    "duration": 152,
    "start_time": "2023-01-20T05:37:02.887Z"
   },
   {
    "duration": 233,
    "start_time": "2023-01-20T05:37:10.888Z"
   },
   {
    "duration": 344,
    "start_time": "2023-01-20T05:37:14.979Z"
   },
   {
    "duration": 1169,
    "start_time": "2023-01-23T05:36:53.941Z"
   },
   {
    "duration": 1963,
    "start_time": "2023-01-23T05:36:58.190Z"
   },
   {
    "duration": 28,
    "start_time": "2023-01-23T05:37:09.510Z"
   },
   {
    "duration": 23,
    "start_time": "2023-01-23T05:37:25.722Z"
   },
   {
    "duration": 655,
    "start_time": "2023-01-23T05:37:48.158Z"
   },
   {
    "duration": 36,
    "start_time": "2023-01-23T05:37:53.808Z"
   },
   {
    "duration": 26,
    "start_time": "2023-01-23T05:37:56.336Z"
   },
   {
    "duration": 22,
    "start_time": "2023-01-23T05:37:58.953Z"
   },
   {
    "duration": 16,
    "start_time": "2023-01-23T05:38:04.233Z"
   },
   {
    "duration": 16,
    "start_time": "2023-01-23T05:38:12.144Z"
   },
   {
    "duration": 14,
    "start_time": "2023-01-23T05:38:46.242Z"
   },
   {
    "duration": 134,
    "start_time": "2023-01-23T05:39:06.754Z"
   },
   {
    "duration": 240,
    "start_time": "2023-01-23T05:39:21.146Z"
   },
   {
    "duration": 266,
    "start_time": "2023-01-23T05:39:28.556Z"
   },
   {
    "duration": 22,
    "start_time": "2023-01-23T05:39:53.542Z"
   },
   {
    "duration": 114,
    "start_time": "2023-01-23T05:39:55.032Z"
   },
   {
    "duration": 108,
    "start_time": "2023-01-23T05:39:56.377Z"
   },
   {
    "duration": 6,
    "start_time": "2023-01-24T00:32:09.155Z"
   },
   {
    "duration": 1297,
    "start_time": "2023-01-24T00:32:09.178Z"
   },
   {
    "duration": 2011,
    "start_time": "2023-01-24T00:32:10.478Z"
   },
   {
    "duration": 31,
    "start_time": "2023-01-24T00:32:12.491Z"
   },
   {
    "duration": 31,
    "start_time": "2023-01-24T00:32:12.525Z"
   },
   {
    "duration": 42,
    "start_time": "2023-01-24T00:32:12.559Z"
   },
   {
    "duration": 21,
    "start_time": "2023-01-24T00:32:12.603Z"
   },
   {
    "duration": 16,
    "start_time": "2023-01-24T00:32:12.626Z"
   },
   {
    "duration": 60,
    "start_time": "2023-01-24T00:32:12.645Z"
   },
   {
    "duration": 291,
    "start_time": "2023-01-24T00:32:12.708Z"
   },
   {
    "duration": 153,
    "start_time": "2023-01-24T00:32:13.001Z"
   },
   {
    "duration": 305,
    "start_time": "2023-01-24T00:32:13.157Z"
   },
   {
    "duration": 145,
    "start_time": "2023-01-24T00:32:13.464Z"
   },
   {
    "duration": 29,
    "start_time": "2023-01-24T00:32:13.611Z"
   },
   {
    "duration": 115,
    "start_time": "2023-01-24T00:32:13.644Z"
   },
   {
    "duration": 23,
    "start_time": "2023-01-24T00:32:13.762Z"
   },
   {
    "duration": 13,
    "start_time": "2023-01-24T00:46:59.532Z"
   },
   {
    "duration": 109,
    "start_time": "2023-01-24T00:47:03.286Z"
   },
   {
    "duration": 4,
    "start_time": "2023-01-24T00:48:37.580Z"
   },
   {
    "duration": 93,
    "start_time": "2023-01-24T00:49:36.572Z"
   },
   {
    "duration": 15,
    "start_time": "2023-01-24T00:52:47.024Z"
   },
   {
    "duration": 15,
    "start_time": "2023-01-24T00:53:19.604Z"
   },
   {
    "duration": 4,
    "start_time": "2023-01-24T00:55:32.616Z"
   },
   {
    "duration": 1083,
    "start_time": "2023-01-24T00:55:32.625Z"
   },
   {
    "duration": 767,
    "start_time": "2023-01-24T00:55:33.710Z"
   },
   {
    "duration": 30,
    "start_time": "2023-01-24T00:55:34.479Z"
   },
   {
    "duration": 22,
    "start_time": "2023-01-24T00:55:34.511Z"
   },
   {
    "duration": 25,
    "start_time": "2023-01-24T00:55:34.535Z"
   },
   {
    "duration": 39,
    "start_time": "2023-01-24T00:55:34.561Z"
   },
   {
    "duration": 13,
    "start_time": "2023-01-24T00:55:34.602Z"
   },
   {
    "duration": 17,
    "start_time": "2023-01-24T00:55:34.617Z"
   },
   {
    "duration": 279,
    "start_time": "2023-01-24T00:55:34.635Z"
   },
   {
    "duration": 141,
    "start_time": "2023-01-24T00:55:34.917Z"
   },
   {
    "duration": 268,
    "start_time": "2023-01-24T00:55:35.060Z"
   },
   {
    "duration": 130,
    "start_time": "2023-01-24T00:55:35.329Z"
   },
   {
    "duration": 30,
    "start_time": "2023-01-24T00:55:35.461Z"
   },
   {
    "duration": 107,
    "start_time": "2023-01-24T00:55:35.493Z"
   },
   {
    "duration": 2,
    "start_time": "2023-01-24T00:55:35.602Z"
   },
   {
    "duration": 30,
    "start_time": "2023-01-24T00:55:35.606Z"
   },
   {
    "duration": 4,
    "start_time": "2023-01-24T00:59:40.899Z"
   },
   {
    "duration": 1099,
    "start_time": "2023-01-24T00:59:40.905Z"
   },
   {
    "duration": 774,
    "start_time": "2023-01-24T00:59:42.006Z"
   },
   {
    "duration": 28,
    "start_time": "2023-01-24T00:59:42.784Z"
   },
   {
    "duration": 22,
    "start_time": "2023-01-24T00:59:42.814Z"
   },
   {
    "duration": 23,
    "start_time": "2023-01-24T00:59:42.838Z"
   },
   {
    "duration": 39,
    "start_time": "2023-01-24T00:59:42.863Z"
   },
   {
    "duration": 12,
    "start_time": "2023-01-24T00:59:42.904Z"
   },
   {
    "duration": 17,
    "start_time": "2023-01-24T00:59:42.918Z"
   },
   {
    "duration": 268,
    "start_time": "2023-01-24T00:59:42.936Z"
   },
   {
    "duration": 137,
    "start_time": "2023-01-24T00:59:43.207Z"
   },
   {
    "duration": 268,
    "start_time": "2023-01-24T00:59:43.346Z"
   },
   {
    "duration": 129,
    "start_time": "2023-01-24T00:59:43.616Z"
   },
   {
    "duration": 21,
    "start_time": "2023-01-24T00:59:43.747Z"
   },
   {
    "duration": 103,
    "start_time": "2023-01-24T00:59:43.770Z"
   },
   {
    "duration": 19,
    "start_time": "2023-01-24T00:59:43.875Z"
   },
   {
    "duration": 9,
    "start_time": "2023-01-24T01:07:47.812Z"
   },
   {
    "duration": 37,
    "start_time": "2023-01-24T01:08:28.281Z"
   },
   {
    "duration": 10,
    "start_time": "2023-01-24T01:09:20.286Z"
   },
   {
    "duration": 9,
    "start_time": "2023-01-24T01:09:24.580Z"
   },
   {
    "duration": 22,
    "start_time": "2023-01-24T01:10:19.079Z"
   },
   {
    "duration": 14,
    "start_time": "2023-01-24T01:10:23.453Z"
   },
   {
    "duration": 16,
    "start_time": "2023-01-24T01:11:19.183Z"
   },
   {
    "duration": 4,
    "start_time": "2023-01-24T01:32:53.470Z"
   },
   {
    "duration": 3,
    "start_time": "2023-01-24T01:35:02.675Z"
   },
   {
    "duration": 3,
    "start_time": "2023-01-24T01:39:52.364Z"
   },
   {
    "duration": 5,
    "start_time": "2023-01-24T01:43:46.766Z"
   },
   {
    "duration": 4,
    "start_time": "2023-01-24T01:46:23.590Z"
   },
   {
    "duration": 4,
    "start_time": "2023-01-24T01:47:27.210Z"
   },
   {
    "duration": 110,
    "start_time": "2023-01-24T02:14:14.954Z"
   },
   {
    "duration": 461,
    "start_time": "2023-01-24T02:14:57.619Z"
   },
   {
    "duration": 288,
    "start_time": "2023-01-24T02:15:06.887Z"
   },
   {
    "duration": 24,
    "start_time": "2023-01-24T02:17:15.025Z"
   },
   {
    "duration": 312,
    "start_time": "2023-01-24T02:17:37.505Z"
   },
   {
    "duration": 24,
    "start_time": "2023-01-24T02:21:21.698Z"
   },
   {
    "duration": 24,
    "start_time": "2023-01-24T02:23:34.684Z"
   },
   {
    "duration": 30,
    "start_time": "2023-01-24T02:30:13.328Z"
   },
   {
    "duration": 19,
    "start_time": "2023-01-24T02:30:18.329Z"
   },
   {
    "duration": 107,
    "start_time": "2023-01-24T02:31:33.864Z"
   },
   {
    "duration": 599,
    "start_time": "2023-01-24T03:53:36.812Z"
   },
   {
    "duration": 282,
    "start_time": "2023-01-24T03:56:44.551Z"
   },
   {
    "duration": 321,
    "start_time": "2023-01-24T03:57:09.091Z"
   },
   {
    "duration": 838,
    "start_time": "2023-01-24T03:57:40.740Z"
   },
   {
    "duration": 698,
    "start_time": "2023-01-24T04:01:34.526Z"
   },
   {
    "duration": 706,
    "start_time": "2023-01-24T04:05:13.403Z"
   },
   {
    "duration": 857,
    "start_time": "2023-01-24T04:08:04.593Z"
   },
   {
    "duration": 799,
    "start_time": "2023-01-24T05:06:37.879Z"
   },
   {
    "duration": 1014,
    "start_time": "2023-01-24T05:07:39.291Z"
   },
   {
    "duration": 771,
    "start_time": "2023-01-24T05:07:53.624Z"
   },
   {
    "duration": 1002,
    "start_time": "2023-01-24T05:08:03.482Z"
   },
   {
    "duration": 790,
    "start_time": "2023-01-24T05:08:15.514Z"
   },
   {
    "duration": 709,
    "start_time": "2023-01-24T05:08:45.417Z"
   },
   {
    "duration": 798,
    "start_time": "2023-01-24T05:09:02.566Z"
   },
   {
    "duration": 983,
    "start_time": "2023-01-24T05:11:36.848Z"
   },
   {
    "duration": 472,
    "start_time": "2023-01-24T05:11:52.565Z"
   },
   {
    "duration": 516,
    "start_time": "2023-01-24T05:12:21.768Z"
   },
   {
    "duration": 570,
    "start_time": "2023-01-24T05:12:46.258Z"
   },
   {
    "duration": 8,
    "start_time": "2023-01-24T05:30:25.737Z"
   },
   {
    "duration": 650,
    "start_time": "2023-01-24T05:33:27.317Z"
   },
   {
    "duration": 21,
    "start_time": "2023-01-24T05:48:15.853Z"
   },
   {
    "duration": 29,
    "start_time": "2023-01-24T05:51:26.569Z"
   },
   {
    "duration": 20,
    "start_time": "2023-01-24T05:52:09.387Z"
   },
   {
    "duration": 18,
    "start_time": "2023-01-24T05:52:35.562Z"
   },
   {
    "duration": 21,
    "start_time": "2023-01-24T05:52:48.298Z"
   },
   {
    "duration": 766,
    "start_time": "2023-01-24T05:53:09.512Z"
   },
   {
    "duration": 892,
    "start_time": "2023-01-24T05:54:26.113Z"
   },
   {
    "duration": 662,
    "start_time": "2023-01-24T05:54:34.535Z"
   },
   {
    "duration": 959,
    "start_time": "2023-01-24T05:54:48.010Z"
   },
   {
    "duration": 513,
    "start_time": "2023-01-24T05:54:58.954Z"
   },
   {
    "duration": 8,
    "start_time": "2023-01-24T05:55:13.937Z"
   },
   {
    "duration": 711,
    "start_time": "2023-01-24T05:55:17.508Z"
   },
   {
    "duration": 20,
    "start_time": "2023-01-24T05:56:41.206Z"
   },
   {
    "duration": 42,
    "start_time": "2023-01-24T05:57:00.381Z"
   },
   {
    "duration": 36,
    "start_time": "2023-01-24T06:02:09.767Z"
   },
   {
    "duration": 32,
    "start_time": "2023-01-24T06:02:48.136Z"
   },
   {
    "duration": 38,
    "start_time": "2023-01-24T06:04:19.179Z"
   },
   {
    "duration": 17,
    "start_time": "2023-01-24T06:04:58.512Z"
   },
   {
    "duration": 17,
    "start_time": "2023-01-24T06:05:11.545Z"
   },
   {
    "duration": 17,
    "start_time": "2023-01-24T06:05:21.963Z"
   },
   {
    "duration": 197,
    "start_time": "2023-01-24T06:05:39.232Z"
   },
   {
    "duration": 15,
    "start_time": "2023-01-24T06:05:52.411Z"
   },
   {
    "duration": 635,
    "start_time": "2023-01-24T06:07:33.518Z"
   },
   {
    "duration": 702,
    "start_time": "2023-01-24T06:07:48.208Z"
   },
   {
    "duration": 853,
    "start_time": "2023-01-24T06:07:56.911Z"
   },
   {
    "duration": 898,
    "start_time": "2023-01-24T06:08:10.376Z"
   },
   {
    "duration": 524,
    "start_time": "2023-01-24T06:08:25.327Z"
   },
   {
    "duration": 10,
    "start_time": "2023-01-24T06:08:49.655Z"
   },
   {
    "duration": 834,
    "start_time": "2023-01-24T06:08:58.413Z"
   },
   {
    "duration": 3,
    "start_time": "2023-01-24T06:36:00.442Z"
   },
   {
    "duration": 4,
    "start_time": "2023-01-26T03:35:05.791Z"
   },
   {
    "duration": 1465,
    "start_time": "2023-01-26T03:35:05.802Z"
   },
   {
    "duration": 2970,
    "start_time": "2023-01-26T03:35:07.269Z"
   },
   {
    "duration": 25,
    "start_time": "2023-01-26T03:35:10.240Z"
   },
   {
    "duration": 19,
    "start_time": "2023-01-26T03:35:10.267Z"
   },
   {
    "duration": 24,
    "start_time": "2023-01-26T03:35:10.288Z"
   },
   {
    "duration": 19,
    "start_time": "2023-01-26T03:35:10.314Z"
   },
   {
    "duration": 9,
    "start_time": "2023-01-26T03:35:10.335Z"
   },
   {
    "duration": 31,
    "start_time": "2023-01-26T03:35:10.346Z"
   },
   {
    "duration": 235,
    "start_time": "2023-01-26T03:35:10.379Z"
   },
   {
    "duration": 123,
    "start_time": "2023-01-26T03:35:10.618Z"
   },
   {
    "duration": 233,
    "start_time": "2023-01-26T03:35:10.742Z"
   },
   {
    "duration": 118,
    "start_time": "2023-01-26T03:35:10.976Z"
   },
   {
    "duration": 18,
    "start_time": "2023-01-26T03:35:11.096Z"
   },
   {
    "duration": 94,
    "start_time": "2023-01-26T03:35:11.116Z"
   },
   {
    "duration": 14,
    "start_time": "2023-01-26T03:35:11.211Z"
   },
   {
    "duration": 12,
    "start_time": "2023-01-26T03:35:11.226Z"
   },
   {
    "duration": 37,
    "start_time": "2023-01-26T03:35:11.240Z"
   },
   {
    "duration": 8,
    "start_time": "2023-01-26T03:35:11.278Z"
   },
   {
    "duration": 244,
    "start_time": "2023-01-26T03:35:11.288Z"
   },
   {
    "duration": 268,
    "start_time": "2023-01-26T03:35:11.533Z"
   },
   {
    "duration": 22,
    "start_time": "2023-01-26T03:35:11.803Z"
   },
   {
    "duration": 23,
    "start_time": "2023-01-26T03:35:11.826Z"
   },
   {
    "duration": 23,
    "start_time": "2023-01-26T03:35:11.851Z"
   },
   {
    "duration": 8,
    "start_time": "2023-01-26T03:35:11.876Z"
   },
   {
    "duration": 8,
    "start_time": "2023-01-26T03:35:11.886Z"
   },
   {
    "duration": 14,
    "start_time": "2023-01-26T03:35:11.895Z"
   },
   {
    "duration": 11,
    "start_time": "2023-01-26T03:35:11.910Z"
   },
   {
    "duration": 8,
    "start_time": "2023-01-26T03:35:11.925Z"
   },
   {
    "duration": 17,
    "start_time": "2023-01-26T03:35:11.935Z"
   },
   {
    "duration": 543,
    "start_time": "2023-01-26T03:35:11.968Z"
   },
   {
    "duration": 554,
    "start_time": "2023-01-26T03:35:12.513Z"
   },
   {
    "duration": 657,
    "start_time": "2023-01-26T03:35:13.069Z"
   },
   {
    "duration": 682,
    "start_time": "2023-01-26T03:35:13.728Z"
   },
   {
    "duration": 410,
    "start_time": "2023-01-26T03:35:14.411Z"
   },
   {
    "duration": 8,
    "start_time": "2023-01-26T03:35:14.823Z"
   },
   {
    "duration": 669,
    "start_time": "2023-01-26T03:35:14.833Z"
   },
   {
    "duration": 3,
    "start_time": "2023-01-26T03:35:15.503Z"
   },
   {
    "duration": 19,
    "start_time": "2023-01-26T03:35:15.508Z"
   },
   {
    "duration": 19,
    "start_time": "2023-01-26T03:35:15.528Z"
   },
   {
    "duration": 27,
    "start_time": "2023-01-26T03:35:15.549Z"
   },
   {
    "duration": 99,
    "start_time": "2023-01-26T03:35:15.578Z"
   },
   {
    "duration": 0,
    "start_time": "2023-01-26T03:35:15.679Z"
   },
   {
    "duration": 0,
    "start_time": "2023-01-26T03:35:15.680Z"
   },
   {
    "duration": 3,
    "start_time": "2023-01-26T04:54:51.518Z"
   },
   {
    "duration": 9,
    "start_time": "2023-01-26T05:50:11.091Z"
   },
   {
    "duration": 9,
    "start_time": "2023-01-26T05:50:17.634Z"
   },
   {
    "duration": 6,
    "start_time": "2023-01-26T05:50:38.041Z"
   },
   {
    "duration": 6,
    "start_time": "2023-01-26T05:50:42.561Z"
   },
   {
    "duration": 3,
    "start_time": "2023-01-26T07:02:42.525Z"
   },
   {
    "duration": 4,
    "start_time": "2023-01-26T07:03:48.789Z"
   },
   {
    "duration": 5,
    "start_time": "2023-01-26T07:41:03.179Z"
   },
   {
    "duration": 2,
    "start_time": "2023-01-26T08:52:53.069Z"
   },
   {
    "duration": 10,
    "start_time": "2023-01-26T08:59:36.064Z"
   },
   {
    "duration": 43,
    "start_time": "2023-01-26T09:01:34.452Z"
   },
   {
    "duration": 4,
    "start_time": "2023-01-26T09:02:27.805Z"
   },
   {
    "duration": 3,
    "start_time": "2023-01-26T09:02:55.597Z"
   },
   {
    "duration": 6,
    "start_time": "2023-01-26T09:04:25.880Z"
   },
   {
    "duration": 4,
    "start_time": "2023-01-26T09:06:03.184Z"
   },
   {
    "duration": 3,
    "start_time": "2023-01-26T09:11:08.168Z"
   },
   {
    "duration": 337364,
    "start_time": "2023-01-26T09:13:45.921Z"
   },
   {
    "duration": 340201,
    "start_time": "2023-01-26T09:19:57.698Z"
   },
   {
    "duration": 15,
    "start_time": "2023-01-26T09:31:52.043Z"
   },
   {
    "duration": 51,
    "start_time": "2023-01-26T09:40:13.159Z"
   },
   {
    "duration": 3736,
    "start_time": "2023-01-26T09:41:20.144Z"
   },
   {
    "duration": 43,
    "start_time": "2023-01-26T09:44:09.968Z"
   },
   {
    "duration": 23843,
    "start_time": "2023-01-26T09:45:54.248Z"
   },
   {
    "duration": 337862,
    "start_time": "2023-01-26T09:46:30.044Z"
   },
   {
    "duration": 347698,
    "start_time": "2023-01-26T09:56:59.594Z"
   },
   {
    "duration": 32202,
    "start_time": "2023-01-26T10:03:58.584Z"
   },
   {
    "duration": 30078,
    "start_time": "2023-01-26T10:04:44.797Z"
   },
   {
    "duration": 130814,
    "start_time": "2023-01-26T10:06:30.549Z"
   },
   {
    "duration": 103322,
    "start_time": "2023-01-26T10:09:22.835Z"
   },
   {
    "duration": 100324,
    "start_time": "2023-01-26T10:11:29.159Z"
   },
   {
    "duration": 348888,
    "start_time": "2023-01-26T10:19:41.031Z"
   },
   {
    "duration": 9,
    "start_time": "2023-01-26T10:25:46.986Z"
   },
   {
    "duration": 9,
    "start_time": "2023-01-26T10:31:30.400Z"
   },
   {
    "duration": 2,
    "start_time": "2023-01-26T10:32:41.526Z"
   },
   {
    "duration": 5,
    "start_time": "2023-01-26T10:33:08.147Z"
   },
   {
    "duration": 11,
    "start_time": "2023-01-26T10:34:35.230Z"
   },
   {
    "duration": 4,
    "start_time": "2023-01-26T10:34:52.726Z"
   },
   {
    "duration": 6,
    "start_time": "2023-01-26T10:35:09.928Z"
   },
   {
    "duration": 17,
    "start_time": "2023-01-26T10:38:35.299Z"
   },
   {
    "duration": 13,
    "start_time": "2023-01-26T10:48:52.457Z"
   },
   {
    "duration": 792,
    "start_time": "2023-01-26T10:49:11.694Z"
   },
   {
    "duration": 23,
    "start_time": "2023-01-26T10:50:48.506Z"
   },
   {
    "duration": 15,
    "start_time": "2023-01-26T11:52:32.692Z"
   },
   {
    "duration": 15,
    "start_time": "2023-01-26T11:54:08.026Z"
   },
   {
    "duration": 22,
    "start_time": "2023-01-26T11:54:25.070Z"
   },
   {
    "duration": 25,
    "start_time": "2023-01-26T11:54:38.253Z"
   },
   {
    "duration": 22,
    "start_time": "2023-01-26T11:54:42.490Z"
   },
   {
    "duration": 16,
    "start_time": "2023-01-26T11:55:19.065Z"
   },
   {
    "duration": 20,
    "start_time": "2023-01-26T11:55:20.399Z"
   },
   {
    "duration": 7,
    "start_time": "2023-01-26T11:58:57.697Z"
   },
   {
    "duration": 8358,
    "start_time": "2023-01-27T03:40:13.747Z"
   },
   {
    "duration": 2038,
    "start_time": "2023-01-27T03:40:26.992Z"
   },
   {
    "duration": 34,
    "start_time": "2023-01-27T03:40:32.375Z"
   },
   {
    "duration": 23,
    "start_time": "2023-01-27T03:40:35.671Z"
   },
   {
    "duration": 26,
    "start_time": "2023-01-27T03:40:39.103Z"
   },
   {
    "duration": 19,
    "start_time": "2023-01-27T03:40:42.406Z"
   },
   {
    "duration": 15,
    "start_time": "2023-01-27T03:40:48.015Z"
   },
   {
    "duration": 29,
    "start_time": "2023-01-27T03:40:52.032Z"
   },
   {
    "duration": 278,
    "start_time": "2023-01-27T03:40:56.044Z"
   },
   {
    "duration": 148,
    "start_time": "2023-01-27T03:40:58.915Z"
   },
   {
    "duration": 260,
    "start_time": "2023-01-27T03:41:01.705Z"
   },
   {
    "duration": 122,
    "start_time": "2023-01-27T03:41:07.552Z"
   },
   {
    "duration": 23,
    "start_time": "2023-01-27T03:41:09.172Z"
   },
   {
    "duration": 96,
    "start_time": "2023-01-27T03:41:10.466Z"
   },
   {
    "duration": 16,
    "start_time": "2023-01-27T03:41:14.152Z"
   },
   {
    "duration": 17,
    "start_time": "2023-01-27T03:41:17.040Z"
   },
   {
    "duration": 21,
    "start_time": "2023-01-27T03:41:19.660Z"
   },
   {
    "duration": 11,
    "start_time": "2023-01-27T03:41:27.119Z"
   },
   {
    "duration": 288,
    "start_time": "2023-01-27T03:41:32.521Z"
   },
   {
    "duration": 343,
    "start_time": "2023-01-27T03:41:36.609Z"
   },
   {
    "duration": 25,
    "start_time": "2023-01-27T03:41:44.152Z"
   },
   {
    "duration": 28,
    "start_time": "2023-01-27T03:41:47.708Z"
   },
   {
    "duration": 11,
    "start_time": "2023-01-27T03:41:52.495Z"
   },
   {
    "duration": 11,
    "start_time": "2023-01-27T03:41:55.997Z"
   },
   {
    "duration": 12,
    "start_time": "2023-01-27T03:41:59.654Z"
   },
   {
    "duration": 9,
    "start_time": "2023-01-27T03:42:02.547Z"
   },
   {
    "duration": 8,
    "start_time": "2023-01-27T03:42:03.670Z"
   },
   {
    "duration": 8,
    "start_time": "2023-01-27T03:42:04.750Z"
   },
   {
    "duration": 100,
    "start_time": "2023-01-27T03:42:06.240Z"
   },
   {
    "duration": 601,
    "start_time": "2023-01-27T03:42:12.552Z"
   },
   {
    "duration": 644,
    "start_time": "2023-01-27T03:42:16.801Z"
   },
   {
    "duration": 742,
    "start_time": "2023-01-27T03:42:20.895Z"
   },
   {
    "duration": 796,
    "start_time": "2023-01-27T03:42:26.201Z"
   },
   {
    "duration": 465,
    "start_time": "2023-01-27T03:42:30.057Z"
   },
   {
    "duration": 7,
    "start_time": "2023-01-27T03:42:34.961Z"
   },
   {
    "duration": 721,
    "start_time": "2023-01-27T03:42:37.673Z"
   },
   {
    "duration": 4,
    "start_time": "2023-01-27T03:42:44.348Z"
   },
   {
    "duration": 3,
    "start_time": "2023-01-27T03:42:46.930Z"
   },
   {
    "duration": 10,
    "start_time": "2023-01-27T03:42:49.679Z"
   },
   {
    "duration": 8,
    "start_time": "2023-01-27T03:42:54.749Z"
   },
   {
    "duration": 6,
    "start_time": "2023-01-27T03:42:58.307Z"
   },
   {
    "duration": 3,
    "start_time": "2023-01-27T03:43:03.454Z"
   },
   {
    "duration": 3,
    "start_time": "2023-01-27T03:43:06.434Z"
   },
   {
    "duration": 3,
    "start_time": "2023-01-27T03:43:10.321Z"
   },
   {
    "duration": 4,
    "start_time": "2023-01-27T03:43:12.509Z"
   },
   {
    "duration": 390542,
    "start_time": "2023-01-27T03:43:20.171Z"
   },
   {
    "duration": 12,
    "start_time": "2023-01-27T03:58:33.817Z"
   },
   {
    "duration": 4,
    "start_time": "2023-01-27T03:59:37.927Z"
   },
   {
    "duration": 4,
    "start_time": "2023-01-27T03:59:41.165Z"
   },
   {
    "duration": 4,
    "start_time": "2023-01-27T03:59:55.125Z"
   },
   {
    "duration": 2161462,
    "start_time": "2023-01-27T04:00:11.349Z"
   },
   {
    "duration": 16,
    "start_time": "2023-01-27T04:41:10.575Z"
   },
   {
    "duration": 3,
    "start_time": "2023-01-27T04:42:15.545Z"
   },
   {
    "duration": 6,
    "start_time": "2023-01-27T04:42:20.408Z"
   },
   {
    "duration": 4,
    "start_time": "2023-01-27T07:59:59.382Z"
   },
   {
    "duration": 4,
    "start_time": "2023-01-27T08:00:05.031Z"
   },
   {
    "duration": 61,
    "start_time": "2023-01-27T08:00:24.302Z"
   },
   {
    "duration": 480,
    "start_time": "2023-01-27T08:00:26.736Z"
   },
   {
    "duration": 4,
    "start_time": "2023-01-27T08:02:39.915Z"
   },
   {
    "duration": 10,
    "start_time": "2023-01-27T08:02:45.794Z"
   },
   {
    "duration": 138,
    "start_time": "2023-01-27T08:02:51.311Z"
   },
   {
    "duration": 4,
    "start_time": "2023-01-27T08:08:41.320Z"
   },
   {
    "duration": 4,
    "start_time": "2023-01-27T08:08:45.007Z"
   },
   {
    "duration": 5,
    "start_time": "2023-01-27T08:08:54.952Z"
   },
   {
    "duration": 10727958,
    "start_time": "2023-01-27T08:08:58.650Z"
   },
   {
    "duration": 11,
    "start_time": "2023-01-27T11:37:40.911Z"
   },
   {
    "duration": 4,
    "start_time": "2023-01-27T11:39:01.036Z"
   },
   {
    "duration": 6,
    "start_time": "2023-01-27T11:39:05.730Z"
   },
   {
    "duration": 4,
    "start_time": "2023-01-27T11:41:07.994Z"
   },
   {
    "duration": 4278,
    "start_time": "2023-01-27T11:41:08.003Z"
   },
   {
    "duration": 790,
    "start_time": "2023-01-27T11:41:12.283Z"
   },
   {
    "duration": 31,
    "start_time": "2023-01-27T11:41:13.075Z"
   },
   {
    "duration": 25,
    "start_time": "2023-01-27T11:41:13.108Z"
   },
   {
    "duration": 49,
    "start_time": "2023-01-27T11:41:13.135Z"
   },
   {
    "duration": 23,
    "start_time": "2023-01-27T11:41:13.186Z"
   },
   {
    "duration": 13,
    "start_time": "2023-01-27T11:41:13.211Z"
   },
   {
    "duration": 18,
    "start_time": "2023-01-27T11:41:13.226Z"
   },
   {
    "duration": 308,
    "start_time": "2023-01-27T11:41:13.247Z"
   },
   {
    "duration": 239,
    "start_time": "2023-01-27T11:41:13.558Z"
   },
   {
    "duration": 288,
    "start_time": "2023-01-27T11:41:13.800Z"
   },
   {
    "duration": 134,
    "start_time": "2023-01-27T11:41:14.090Z"
   },
   {
    "duration": 23,
    "start_time": "2023-01-27T11:41:14.227Z"
   },
   {
    "duration": 120,
    "start_time": "2023-01-27T11:41:14.253Z"
   },
   {
    "duration": 27,
    "start_time": "2023-01-27T11:41:14.376Z"
   },
   {
    "duration": 24,
    "start_time": "2023-01-27T11:41:14.405Z"
   },
   {
    "duration": 25,
    "start_time": "2023-01-27T11:41:14.431Z"
   },
   {
    "duration": 40,
    "start_time": "2023-01-27T11:41:14.459Z"
   },
   {
    "duration": 329,
    "start_time": "2023-01-27T11:41:14.501Z"
   },
   {
    "duration": 442,
    "start_time": "2023-01-27T11:41:14.832Z"
   },
   {
    "duration": 31,
    "start_time": "2023-01-27T11:41:15.276Z"
   },
   {
    "duration": 49,
    "start_time": "2023-01-27T11:41:15.310Z"
   },
   {
    "duration": 30,
    "start_time": "2023-01-27T11:41:15.361Z"
   },
   {
    "duration": 35,
    "start_time": "2023-01-27T11:41:15.393Z"
   },
   {
    "duration": 14,
    "start_time": "2023-01-27T11:41:15.430Z"
   },
   {
    "duration": 15,
    "start_time": "2023-01-27T11:41:15.446Z"
   },
   {
    "duration": 17,
    "start_time": "2023-01-27T11:41:15.463Z"
   },
   {
    "duration": 11,
    "start_time": "2023-01-27T11:41:15.482Z"
   },
   {
    "duration": 34,
    "start_time": "2023-01-27T11:41:15.495Z"
   },
   {
    "duration": 645,
    "start_time": "2023-01-27T11:41:15.532Z"
   },
   {
    "duration": 693,
    "start_time": "2023-01-27T11:41:16.183Z"
   },
   {
    "duration": 790,
    "start_time": "2023-01-27T11:41:16.879Z"
   },
   {
    "duration": 806,
    "start_time": "2023-01-27T11:41:17.671Z"
   },
   {
    "duration": 628,
    "start_time": "2023-01-27T11:41:18.483Z"
   },
   {
    "duration": 9,
    "start_time": "2023-01-27T11:41:19.113Z"
   },
   {
    "duration": 714,
    "start_time": "2023-01-27T11:41:19.124Z"
   },
   {
    "duration": 5,
    "start_time": "2023-01-27T11:41:19.840Z"
   },
   {
    "duration": 58,
    "start_time": "2023-01-27T11:41:19.848Z"
   },
   {
    "duration": 69,
    "start_time": "2023-01-27T11:41:19.908Z"
   },
   {
    "duration": 39,
    "start_time": "2023-01-27T11:41:19.980Z"
   },
   {
    "duration": 42,
    "start_time": "2023-01-27T11:41:20.025Z"
   },
   {
    "duration": 72,
    "start_time": "2023-01-27T11:41:20.070Z"
   },
   {
    "duration": 20,
    "start_time": "2023-01-27T11:41:20.144Z"
   },
   {
    "duration": 47,
    "start_time": "2023-01-27T11:41:20.166Z"
   },
   {
    "duration": 38,
    "start_time": "2023-01-27T11:41:20.215Z"
   },
   {
    "duration": 19764873,
    "start_time": "2023-01-27T11:41:20.256Z"
   },
   {
    "duration": 12,
    "start_time": "2023-01-27T17:10:45.131Z"
   },
   {
    "duration": 8,
    "start_time": "2023-01-27T17:10:45.145Z"
   },
   {
    "duration": 10,
    "start_time": "2023-01-27T17:10:45.155Z"
   },
   {
    "duration": 10,
    "start_time": "2023-01-27T17:10:45.167Z"
   },
   {
    "duration": 23,
    "start_time": "2023-01-27T17:10:45.179Z"
   },
   {
    "duration": 9,
    "start_time": "2023-01-27T17:10:45.204Z"
   },
   {
    "duration": 5,
    "start_time": "2023-01-27T17:10:45.215Z"
   },
   {
    "duration": 126,
    "start_time": "2023-01-27T17:10:45.222Z"
   },
   {
    "duration": 0,
    "start_time": "2023-01-27T17:10:45.350Z"
   },
   {
    "duration": 0,
    "start_time": "2023-01-27T17:10:45.351Z"
   },
   {
    "duration": 0,
    "start_time": "2023-01-27T17:10:45.352Z"
   },
   {
    "duration": 0,
    "start_time": "2023-01-27T17:10:45.354Z"
   },
   {
    "duration": 0,
    "start_time": "2023-01-27T17:10:45.355Z"
   },
   {
    "duration": 0,
    "start_time": "2023-01-27T17:10:45.356Z"
   },
   {
    "duration": 0,
    "start_time": "2023-01-27T17:10:45.357Z"
   },
   {
    "duration": 5488,
    "start_time": "2023-01-30T00:44:10.337Z"
   },
   {
    "duration": 3051,
    "start_time": "2023-01-30T00:44:22.417Z"
   },
   {
    "duration": 23,
    "start_time": "2023-01-30T00:44:29.079Z"
   },
   {
    "duration": 19,
    "start_time": "2023-01-30T00:44:32.949Z"
   },
   {
    "duration": 24,
    "start_time": "2023-01-30T00:44:36.343Z"
   },
   {
    "duration": 16,
    "start_time": "2023-01-30T00:44:40.457Z"
   },
   {
    "duration": 12,
    "start_time": "2023-01-30T00:44:49.357Z"
   },
   {
    "duration": 15,
    "start_time": "2023-01-30T00:44:56.813Z"
   },
   {
    "duration": 216,
    "start_time": "2023-01-30T00:45:04.633Z"
   },
   {
    "duration": 125,
    "start_time": "2023-01-30T00:45:08.416Z"
   },
   {
    "duration": 222,
    "start_time": "2023-01-30T00:45:12.971Z"
   },
   {
    "duration": 104,
    "start_time": "2023-01-30T00:45:19.062Z"
   },
   {
    "duration": 20,
    "start_time": "2023-01-30T00:45:21.603Z"
   },
   {
    "duration": 82,
    "start_time": "2023-01-30T00:45:23.817Z"
   },
   {
    "duration": 14,
    "start_time": "2023-01-30T00:45:28.317Z"
   },
   {
    "duration": 15,
    "start_time": "2023-01-30T00:45:31.062Z"
   },
   {
    "duration": 16,
    "start_time": "2023-01-30T00:45:33.713Z"
   },
   {
    "duration": 8,
    "start_time": "2023-01-30T00:45:39.017Z"
   },
   {
    "duration": 282,
    "start_time": "2023-01-30T00:45:46.768Z"
   },
   {
    "duration": 324,
    "start_time": "2023-01-30T00:45:52.704Z"
   },
   {
    "duration": 22,
    "start_time": "2023-01-30T00:45:59.392Z"
   },
   {
    "duration": 31,
    "start_time": "2023-01-30T00:46:02.896Z"
   },
   {
    "duration": 9,
    "start_time": "2023-01-30T00:46:08.161Z"
   },
   {
    "duration": 10,
    "start_time": "2023-01-30T00:46:10.374Z"
   },
   {
    "duration": 8,
    "start_time": "2023-01-30T00:46:13.853Z"
   },
   {
    "duration": 7,
    "start_time": "2023-01-30T00:46:15.727Z"
   },
   {
    "duration": 7,
    "start_time": "2023-01-30T00:46:20.462Z"
   },
   {
    "duration": 6,
    "start_time": "2023-01-30T00:46:21.919Z"
   },
   {
    "duration": 13,
    "start_time": "2023-01-30T00:46:26.118Z"
   },
   {
    "duration": 486,
    "start_time": "2023-01-30T00:46:37.515Z"
   },
   {
    "duration": 515,
    "start_time": "2023-01-30T00:46:45.088Z"
   },
   {
    "duration": 591,
    "start_time": "2023-01-30T00:46:51.051Z"
   },
   {
    "duration": 621,
    "start_time": "2023-01-30T00:47:01.136Z"
   },
   {
    "duration": 484,
    "start_time": "2023-01-30T00:47:08.174Z"
   },
   {
    "duration": 6,
    "start_time": "2023-01-30T00:47:16.599Z"
   },
   {
    "duration": 493,
    "start_time": "2023-01-30T00:47:20.115Z"
   },
   {
    "duration": 3,
    "start_time": "2023-01-30T00:47:29.287Z"
   },
   {
    "duration": 3,
    "start_time": "2023-01-30T00:47:36.205Z"
   },
   {
    "duration": 7,
    "start_time": "2023-01-30T00:47:41.822Z"
   },
   {
    "duration": 46,
    "start_time": "2023-01-30T05:08:52.357Z"
   },
   {
    "duration": 6160,
    "start_time": "2023-01-30T05:33:04.519Z"
   },
   {
    "duration": 1787,
    "start_time": "2023-01-30T05:33:19.227Z"
   },
   {
    "duration": 27,
    "start_time": "2023-01-30T05:33:25.579Z"
   },
   {
    "duration": 20,
    "start_time": "2023-01-30T05:33:30.129Z"
   },
   {
    "duration": 23,
    "start_time": "2023-01-30T05:33:34.152Z"
   },
   {
    "duration": 20,
    "start_time": "2023-01-30T05:33:37.693Z"
   },
   {
    "duration": 12,
    "start_time": "2023-01-30T05:33:54.603Z"
   },
   {
    "duration": 17,
    "start_time": "2023-01-30T05:33:58.304Z"
   },
   {
    "duration": 223,
    "start_time": "2023-01-30T05:34:02.531Z"
   },
   {
    "duration": 123,
    "start_time": "2023-01-30T05:34:05.292Z"
   },
   {
    "duration": 230,
    "start_time": "2023-01-30T05:34:07.793Z"
   },
   {
    "duration": 112,
    "start_time": "2023-01-30T05:34:12.079Z"
   },
   {
    "duration": 22,
    "start_time": "2023-01-30T05:34:14.359Z"
   },
   {
    "duration": 89,
    "start_time": "2023-01-30T05:34:16.386Z"
   },
   {
    "duration": 15,
    "start_time": "2023-01-30T05:34:20.629Z"
   },
   {
    "duration": 15,
    "start_time": "2023-01-30T05:34:23.535Z"
   },
   {
    "duration": 16,
    "start_time": "2023-01-30T05:34:30.399Z"
   },
   {
    "duration": 13,
    "start_time": "2023-01-30T05:34:34.009Z"
   },
   {
    "duration": 259,
    "start_time": "2023-01-30T05:34:38.638Z"
   },
   {
    "duration": 298,
    "start_time": "2023-01-30T05:34:42.673Z"
   },
   {
    "duration": 35,
    "start_time": "2023-01-30T05:34:46.212Z"
   },
   {
    "duration": 33,
    "start_time": "2023-01-30T05:34:49.002Z"
   },
   {
    "duration": 13,
    "start_time": "2023-01-30T05:34:53.487Z"
   },
   {
    "duration": 10,
    "start_time": "2023-01-30T05:34:56.649Z"
   },
   {
    "duration": 11,
    "start_time": "2023-01-30T05:35:00.281Z"
   },
   {
    "duration": 10,
    "start_time": "2023-01-30T05:35:02.080Z"
   },
   {
    "duration": 9,
    "start_time": "2023-01-30T05:35:03.240Z"
   },
   {
    "duration": 8,
    "start_time": "2023-01-30T05:35:05.599Z"
   },
   {
    "duration": 104,
    "start_time": "2023-01-30T05:35:07.392Z"
   },
   {
    "duration": 551,
    "start_time": "2023-01-30T05:35:14.662Z"
   },
   {
    "duration": 568,
    "start_time": "2023-01-30T05:35:17.968Z"
   },
   {
    "duration": 645,
    "start_time": "2023-01-30T05:35:21.257Z"
   },
   {
    "duration": 869,
    "start_time": "2023-01-30T05:35:26.917Z"
   },
   {
    "duration": 463,
    "start_time": "2023-01-30T05:35:31.328Z"
   },
   {
    "duration": 7,
    "start_time": "2023-01-30T05:35:38.207Z"
   },
   {
    "duration": 699,
    "start_time": "2023-01-30T05:35:43.785Z"
   },
   {
    "duration": 3,
    "start_time": "2023-01-30T05:35:54.184Z"
   },
   {
    "duration": 4,
    "start_time": "2023-01-30T05:35:56.581Z"
   },
   {
    "duration": 7,
    "start_time": "2023-01-30T05:36:41.406Z"
   },
   {
    "duration": 8,
    "start_time": "2023-01-30T05:41:54.035Z"
   },
   {
    "duration": 6,
    "start_time": "2023-01-30T05:48:56.954Z"
   },
   {
    "duration": 5,
    "start_time": "2023-01-30T05:50:19.545Z"
   },
   {
    "duration": 4,
    "start_time": "2023-01-30T05:50:42.370Z"
   },
   {
    "duration": 3,
    "start_time": "2023-01-30T06:10:35.670Z"
   },
   {
    "duration": 4,
    "start_time": "2023-01-30T06:13:16.035Z"
   },
   {
    "duration": 3,
    "start_time": "2023-01-30T06:20:44.806Z"
   },
   {
    "duration": 3,
    "start_time": "2023-01-30T06:26:50.030Z"
   },
   {
    "duration": 406189,
    "start_time": "2023-01-30T06:29:08.287Z"
   },
   {
    "duration": 16,
    "start_time": "2023-01-30T06:39:06.506Z"
   },
   {
    "duration": 3,
    "start_time": "2023-01-30T06:42:10.433Z"
   },
   {
    "duration": 5,
    "start_time": "2023-01-30T06:42:50.867Z"
   },
   {
    "duration": 4,
    "start_time": "2023-01-30T06:52:23.336Z"
   },
   {
    "duration": 4,
    "start_time": "2023-01-30T06:52:30.502Z"
   },
   {
    "duration": 5,
    "start_time": "2023-01-30T08:19:16.262Z"
   },
   {
    "duration": 108,
    "start_time": "2023-01-30T08:27:58.622Z"
   },
   {
    "duration": 14,
    "start_time": "2023-01-30T09:06:00.802Z"
   },
   {
    "duration": 19,
    "start_time": "2023-01-30T09:18:16.334Z"
   },
   {
    "duration": 3,
    "start_time": "2023-01-30T09:18:54.945Z"
   },
   {
    "duration": 24,
    "start_time": "2023-01-30T09:18:57.323Z"
   },
   {
    "duration": 48,
    "start_time": "2023-01-30T09:21:18.336Z"
   },
   {
    "duration": 173,
    "start_time": "2023-01-30T09:24:07.225Z"
   },
   {
    "duration": 170,
    "start_time": "2023-01-30T09:24:08.773Z"
   },
   {
    "duration": 3,
    "start_time": "2023-01-30T10:07:13.291Z"
   },
   {
    "duration": 324,
    "start_time": "2023-01-30T10:07:16.388Z"
   },
   {
    "duration": 299,
    "start_time": "2023-01-30T10:10:28.802Z"
   },
   {
    "duration": 316,
    "start_time": "2023-01-30T10:11:38.132Z"
   },
   {
    "duration": 7,
    "start_time": "2023-01-30T10:11:44.550Z"
   },
   {
    "duration": 11,
    "start_time": "2023-01-30T10:15:35.306Z"
   },
   {
    "duration": 3190,
    "start_time": "2023-01-30T10:16:46.051Z"
   },
   {
    "duration": 7,
    "start_time": "2023-01-30T10:17:03.956Z"
   },
   {
    "duration": 8,
    "start_time": "2023-01-30T10:20:53.503Z"
   },
   {
    "duration": 4,
    "start_time": "2023-01-30T10:20:57.216Z"
   },
   {
    "duration": 4006,
    "start_time": "2023-01-30T10:30:43.243Z"
   },
   {
    "duration": 1823,
    "start_time": "2023-01-30T10:30:47.251Z"
   },
   {
    "duration": 25,
    "start_time": "2023-01-30T10:30:49.076Z"
   },
   {
    "duration": 21,
    "start_time": "2023-01-30T10:30:49.102Z"
   },
   {
    "duration": 30,
    "start_time": "2023-01-30T10:30:49.124Z"
   },
   {
    "duration": 19,
    "start_time": "2023-01-30T10:30:49.156Z"
   },
   {
    "duration": 11,
    "start_time": "2023-01-30T10:30:49.176Z"
   },
   {
    "duration": 16,
    "start_time": "2023-01-30T10:30:49.188Z"
   },
   {
    "duration": 254,
    "start_time": "2023-01-30T10:30:49.205Z"
   },
   {
    "duration": 154,
    "start_time": "2023-01-30T10:30:49.462Z"
   },
   {
    "duration": 283,
    "start_time": "2023-01-30T10:30:49.617Z"
   },
   {
    "duration": 116,
    "start_time": "2023-01-30T10:30:49.902Z"
   },
   {
    "duration": 20,
    "start_time": "2023-01-30T10:30:50.019Z"
   },
   {
    "duration": 86,
    "start_time": "2023-01-30T10:30:50.053Z"
   },
   {
    "duration": 22,
    "start_time": "2023-01-30T10:30:50.141Z"
   },
   {
    "duration": 15,
    "start_time": "2023-01-30T10:30:50.165Z"
   },
   {
    "duration": 14,
    "start_time": "2023-01-30T10:30:50.182Z"
   },
   {
    "duration": 9,
    "start_time": "2023-01-30T10:30:50.198Z"
   },
   {
    "duration": 299,
    "start_time": "2023-01-30T10:30:50.209Z"
   },
   {
    "duration": 364,
    "start_time": "2023-01-30T10:30:50.509Z"
   },
   {
    "duration": 29,
    "start_time": "2023-01-30T10:30:50.874Z"
   },
   {
    "duration": 28,
    "start_time": "2023-01-30T10:30:50.905Z"
   },
   {
    "duration": 19,
    "start_time": "2023-01-30T10:30:50.935Z"
   },
   {
    "duration": 23,
    "start_time": "2023-01-30T10:30:50.956Z"
   },
   {
    "duration": 11,
    "start_time": "2023-01-30T10:30:50.980Z"
   },
   {
    "duration": 11,
    "start_time": "2023-01-30T10:30:50.992Z"
   },
   {
    "duration": 14,
    "start_time": "2023-01-30T10:30:51.005Z"
   },
   {
    "duration": 22,
    "start_time": "2023-01-30T10:30:51.023Z"
   },
   {
    "duration": 19,
    "start_time": "2023-01-30T10:30:51.047Z"
   },
   {
    "duration": 550,
    "start_time": "2023-01-30T10:30:51.068Z"
   },
   {
    "duration": 565,
    "start_time": "2023-01-30T10:30:51.620Z"
   },
   {
    "duration": 662,
    "start_time": "2023-01-30T10:30:52.187Z"
   },
   {
    "duration": 685,
    "start_time": "2023-01-30T10:30:52.851Z"
   },
   {
    "duration": 518,
    "start_time": "2023-01-30T10:30:53.538Z"
   },
   {
    "duration": 6,
    "start_time": "2023-01-30T10:30:54.058Z"
   },
   {
    "duration": 520,
    "start_time": "2023-01-30T10:30:54.066Z"
   },
   {
    "duration": 3,
    "start_time": "2023-01-30T10:30:54.588Z"
   },
   {
    "duration": 23,
    "start_time": "2023-01-30T10:30:54.593Z"
   },
   {
    "duration": 38,
    "start_time": "2023-01-30T10:30:54.618Z"
   },
   {
    "duration": 37,
    "start_time": "2023-01-30T10:30:54.658Z"
   },
   {
    "duration": 21,
    "start_time": "2023-01-30T10:30:54.697Z"
   },
   {
    "duration": 51,
    "start_time": "2023-01-30T10:30:54.720Z"
   },
   {
    "duration": 28,
    "start_time": "2023-01-30T10:30:54.773Z"
   },
   {
    "duration": 13,
    "start_time": "2023-01-30T10:30:54.803Z"
   },
   {
    "duration": 39,
    "start_time": "2023-01-30T10:30:54.818Z"
   },
   {
    "duration": 3966,
    "start_time": "2023-01-30T10:37:16.619Z"
   },
   {
    "duration": 749,
    "start_time": "2023-01-30T10:37:20.587Z"
   },
   {
    "duration": 32,
    "start_time": "2023-01-30T10:37:21.337Z"
   },
   {
    "duration": 20,
    "start_time": "2023-01-30T10:37:21.371Z"
   },
   {
    "duration": 29,
    "start_time": "2023-01-30T10:37:21.392Z"
   },
   {
    "duration": 26,
    "start_time": "2023-01-30T10:37:21.423Z"
   },
   {
    "duration": 11,
    "start_time": "2023-01-30T10:37:21.453Z"
   },
   {
    "duration": 14,
    "start_time": "2023-01-30T10:37:21.465Z"
   },
   {
    "duration": 263,
    "start_time": "2023-01-30T10:37:21.481Z"
   },
   {
    "duration": 149,
    "start_time": "2023-01-30T10:37:21.752Z"
   },
   {
    "duration": 265,
    "start_time": "2023-01-30T10:37:21.903Z"
   },
   {
    "duration": 132,
    "start_time": "2023-01-30T10:37:22.170Z"
   },
   {
    "duration": 23,
    "start_time": "2023-01-30T10:37:22.304Z"
   },
   {
    "duration": 107,
    "start_time": "2023-01-30T10:37:22.330Z"
   },
   {
    "duration": 24,
    "start_time": "2023-01-30T10:37:22.438Z"
   },
   {
    "duration": 20,
    "start_time": "2023-01-30T10:37:22.463Z"
   },
   {
    "duration": 21,
    "start_time": "2023-01-30T10:37:22.484Z"
   },
   {
    "duration": 10,
    "start_time": "2023-01-30T10:37:22.506Z"
   },
   {
    "duration": 289,
    "start_time": "2023-01-30T10:37:22.517Z"
   },
   {
    "duration": 368,
    "start_time": "2023-01-30T10:37:22.808Z"
   },
   {
    "duration": 21,
    "start_time": "2023-01-30T10:37:23.178Z"
   },
   {
    "duration": 27,
    "start_time": "2023-01-30T10:37:23.200Z"
   },
   {
    "duration": 25,
    "start_time": "2023-01-30T10:37:23.228Z"
   },
   {
    "duration": 10,
    "start_time": "2023-01-30T10:37:23.255Z"
   },
   {
    "duration": 10,
    "start_time": "2023-01-30T10:37:23.266Z"
   },
   {
    "duration": 8,
    "start_time": "2023-01-30T10:37:23.278Z"
   },
   {
    "duration": 13,
    "start_time": "2023-01-30T10:37:23.288Z"
   },
   {
    "duration": 6,
    "start_time": "2023-01-30T10:37:23.305Z"
   },
   {
    "duration": 17,
    "start_time": "2023-01-30T10:37:23.313Z"
   },
   {
    "duration": 563,
    "start_time": "2023-01-30T10:37:23.331Z"
   },
   {
    "duration": 561,
    "start_time": "2023-01-30T10:37:23.896Z"
   },
   {
    "duration": 653,
    "start_time": "2023-01-30T10:37:24.459Z"
   },
   {
    "duration": 681,
    "start_time": "2023-01-30T10:37:25.114Z"
   },
   {
    "duration": 558,
    "start_time": "2023-01-30T10:37:25.796Z"
   },
   {
    "duration": 6,
    "start_time": "2023-01-30T10:37:26.356Z"
   },
   {
    "duration": 544,
    "start_time": "2023-01-30T10:37:26.363Z"
   },
   {
    "duration": 4,
    "start_time": "2023-01-30T10:37:26.909Z"
   },
   {
    "duration": 13,
    "start_time": "2023-01-30T10:37:26.915Z"
   },
   {
    "duration": 9,
    "start_time": "2023-01-30T10:37:26.930Z"
   },
   {
    "duration": 18,
    "start_time": "2023-01-30T10:37:26.940Z"
   },
   {
    "duration": 6,
    "start_time": "2023-01-30T10:37:26.959Z"
   },
   {
    "duration": 8,
    "start_time": "2023-01-30T10:37:26.966Z"
   },
   {
    "duration": 7,
    "start_time": "2023-01-30T10:37:26.975Z"
   },
   {
    "duration": 5,
    "start_time": "2023-01-30T10:37:26.984Z"
   },
   {
    "duration": 5,
    "start_time": "2023-01-30T10:37:26.990Z"
   },
   {
    "duration": 3863,
    "start_time": "2023-01-30T10:38:41.856Z"
   },
   {
    "duration": 720,
    "start_time": "2023-01-30T10:38:45.722Z"
   },
   {
    "duration": 31,
    "start_time": "2023-01-30T10:38:46.443Z"
   },
   {
    "duration": 21,
    "start_time": "2023-01-30T10:38:46.476Z"
   },
   {
    "duration": 21,
    "start_time": "2023-01-30T10:38:46.499Z"
   },
   {
    "duration": 39,
    "start_time": "2023-01-30T10:38:46.522Z"
   },
   {
    "duration": 28,
    "start_time": "2023-01-30T10:38:46.563Z"
   },
   {
    "duration": 32,
    "start_time": "2023-01-30T10:38:46.594Z"
   },
   {
    "duration": 247,
    "start_time": "2023-01-30T10:38:46.628Z"
   },
   {
    "duration": 124,
    "start_time": "2023-01-30T10:38:46.878Z"
   },
   {
    "duration": 243,
    "start_time": "2023-01-30T10:38:47.004Z"
   },
   {
    "duration": 120,
    "start_time": "2023-01-30T10:38:47.252Z"
   },
   {
    "duration": 21,
    "start_time": "2023-01-30T10:38:47.374Z"
   },
   {
    "duration": 108,
    "start_time": "2023-01-30T10:38:47.397Z"
   },
   {
    "duration": 16,
    "start_time": "2023-01-30T10:38:47.507Z"
   },
   {
    "duration": 28,
    "start_time": "2023-01-30T10:38:47.525Z"
   },
   {
    "duration": 15,
    "start_time": "2023-01-30T10:38:47.555Z"
   },
   {
    "duration": 8,
    "start_time": "2023-01-30T10:38:47.572Z"
   },
   {
    "duration": 332,
    "start_time": "2023-01-30T10:38:47.582Z"
   },
   {
    "duration": 350,
    "start_time": "2023-01-30T10:38:47.916Z"
   },
   {
    "duration": 20,
    "start_time": "2023-01-30T10:38:48.268Z"
   },
   {
    "duration": 41,
    "start_time": "2023-01-30T10:38:48.289Z"
   },
   {
    "duration": 18,
    "start_time": "2023-01-30T10:38:48.332Z"
   },
   {
    "duration": 34,
    "start_time": "2023-01-30T10:38:48.351Z"
   },
   {
    "duration": 30,
    "start_time": "2023-01-30T10:38:48.387Z"
   },
   {
    "duration": 20,
    "start_time": "2023-01-30T10:38:48.419Z"
   },
   {
    "duration": 13,
    "start_time": "2023-01-30T10:38:48.440Z"
   },
   {
    "duration": 36,
    "start_time": "2023-01-30T10:38:48.457Z"
   },
   {
    "duration": 27,
    "start_time": "2023-01-30T10:38:48.495Z"
   },
   {
    "duration": 520,
    "start_time": "2023-01-30T10:38:48.523Z"
   },
   {
    "duration": 600,
    "start_time": "2023-01-30T10:38:49.044Z"
   },
   {
    "duration": 668,
    "start_time": "2023-01-30T10:38:49.646Z"
   },
   {
    "duration": 686,
    "start_time": "2023-01-30T10:38:50.316Z"
   },
   {
    "duration": 560,
    "start_time": "2023-01-30T10:38:51.004Z"
   },
   {
    "duration": 7,
    "start_time": "2023-01-30T10:38:51.566Z"
   },
   {
    "duration": 561,
    "start_time": "2023-01-30T10:38:51.574Z"
   },
   {
    "duration": 3,
    "start_time": "2023-01-30T10:38:52.137Z"
   },
   {
    "duration": 6,
    "start_time": "2023-01-30T10:38:52.141Z"
   },
   {
    "duration": 15,
    "start_time": "2023-01-30T10:38:52.154Z"
   },
   {
    "duration": 42,
    "start_time": "2023-01-30T10:38:52.171Z"
   },
   {
    "duration": 26,
    "start_time": "2023-01-30T10:38:52.215Z"
   },
   {
    "duration": 47,
    "start_time": "2023-01-30T10:38:52.243Z"
   },
   {
    "duration": 28,
    "start_time": "2023-01-30T10:38:52.292Z"
   },
   {
    "duration": 19,
    "start_time": "2023-01-30T10:38:52.322Z"
   },
   {
    "duration": 21,
    "start_time": "2023-01-30T10:38:52.343Z"
   },
   {
    "duration": 359322,
    "start_time": "2023-01-30T10:38:52.366Z"
   },
   {
    "duration": 10,
    "start_time": "2023-01-30T10:44:51.690Z"
   },
   {
    "duration": 6,
    "start_time": "2023-01-30T10:44:51.701Z"
   },
   {
    "duration": 11,
    "start_time": "2023-01-30T10:44:51.708Z"
   },
   {
    "duration": 22,
    "start_time": "2023-01-30T10:44:51.720Z"
   },
   {
    "duration": 8,
    "start_time": "2023-01-30T10:44:51.744Z"
   },
   {
    "duration": 27,
    "start_time": "2023-01-30T10:44:51.754Z"
   },
   {
    "duration": 13,
    "start_time": "2023-01-30T10:44:51.782Z"
   },
   {
    "duration": 382,
    "start_time": "2023-01-30T10:44:51.797Z"
   },
   {
    "duration": 8,
    "start_time": "2023-01-30T10:44:52.181Z"
   },
   {
    "duration": 8,
    "start_time": "2023-01-30T10:44:52.190Z"
   },
   {
    "duration": 13,
    "start_time": "2023-01-30T10:44:52.199Z"
   },
   {
    "duration": 23,
    "start_time": "2023-01-30T10:44:52.214Z"
   },
   {
    "duration": 3,
    "start_time": "2023-01-30T10:56:02.067Z"
   },
   {
    "duration": 4,
    "start_time": "2023-01-30T11:00:49.181Z"
   },
   {
    "duration": 7,
    "start_time": "2023-01-30T11:01:45.078Z"
   },
   {
    "duration": 7,
    "start_time": "2023-01-30T11:11:26.297Z"
   },
   {
    "duration": 5793,
    "start_time": "2023-01-31T12:52:31.124Z"
   },
   {
    "duration": 1829,
    "start_time": "2023-01-31T12:52:36.919Z"
   },
   {
    "duration": 26,
    "start_time": "2023-01-31T12:52:38.750Z"
   },
   {
    "duration": 20,
    "start_time": "2023-01-31T12:52:38.778Z"
   },
   {
    "duration": 29,
    "start_time": "2023-01-31T12:52:38.800Z"
   },
   {
    "duration": 31,
    "start_time": "2023-01-31T12:52:38.831Z"
   },
   {
    "duration": 12,
    "start_time": "2023-01-31T12:52:38.864Z"
   },
   {
    "duration": 25,
    "start_time": "2023-01-31T12:52:38.877Z"
   },
   {
    "duration": 230,
    "start_time": "2023-01-31T12:52:38.904Z"
   },
   {
    "duration": 130,
    "start_time": "2023-01-31T12:52:39.137Z"
   },
   {
    "duration": 258,
    "start_time": "2023-01-31T12:52:39.268Z"
   },
   {
    "duration": 133,
    "start_time": "2023-01-31T12:52:39.528Z"
   },
   {
    "duration": 20,
    "start_time": "2023-01-31T12:52:39.663Z"
   },
   {
    "duration": 100,
    "start_time": "2023-01-31T12:52:39.685Z"
   },
   {
    "duration": 120,
    "start_time": "2023-01-31T12:52:39.786Z"
   },
   {
    "duration": 0,
    "start_time": "2023-01-31T12:52:39.909Z"
   },
   {
    "duration": 0,
    "start_time": "2023-01-31T12:52:39.910Z"
   },
   {
    "duration": 0,
    "start_time": "2023-01-31T12:52:39.911Z"
   },
   {
    "duration": 0,
    "start_time": "2023-01-31T12:52:39.913Z"
   },
   {
    "duration": 0,
    "start_time": "2023-01-31T12:52:39.914Z"
   },
   {
    "duration": 0,
    "start_time": "2023-01-31T12:52:39.915Z"
   },
   {
    "duration": 0,
    "start_time": "2023-01-31T12:52:39.916Z"
   },
   {
    "duration": 0,
    "start_time": "2023-01-31T12:52:39.917Z"
   },
   {
    "duration": 0,
    "start_time": "2023-01-31T12:52:39.918Z"
   },
   {
    "duration": 0,
    "start_time": "2023-01-31T12:52:39.920Z"
   },
   {
    "duration": 0,
    "start_time": "2023-01-31T12:52:39.921Z"
   },
   {
    "duration": 0,
    "start_time": "2023-01-31T12:52:39.922Z"
   },
   {
    "duration": 0,
    "start_time": "2023-01-31T12:52:39.923Z"
   },
   {
    "duration": 0,
    "start_time": "2023-01-31T12:52:39.953Z"
   },
   {
    "duration": 0,
    "start_time": "2023-01-31T12:52:39.954Z"
   },
   {
    "duration": 0,
    "start_time": "2023-01-31T12:52:39.955Z"
   },
   {
    "duration": 0,
    "start_time": "2023-01-31T12:52:39.956Z"
   },
   {
    "duration": 0,
    "start_time": "2023-01-31T12:52:39.958Z"
   },
   {
    "duration": 0,
    "start_time": "2023-01-31T12:52:39.958Z"
   },
   {
    "duration": 0,
    "start_time": "2023-01-31T12:52:39.959Z"
   },
   {
    "duration": 0,
    "start_time": "2023-01-31T12:52:39.960Z"
   },
   {
    "duration": 0,
    "start_time": "2023-01-31T12:52:39.961Z"
   },
   {
    "duration": 0,
    "start_time": "2023-01-31T12:52:39.962Z"
   },
   {
    "duration": 0,
    "start_time": "2023-01-31T12:52:39.963Z"
   },
   {
    "duration": 0,
    "start_time": "2023-01-31T12:52:39.964Z"
   },
   {
    "duration": 0,
    "start_time": "2023-01-31T12:52:39.965Z"
   },
   {
    "duration": 0,
    "start_time": "2023-01-31T12:52:39.966Z"
   },
   {
    "duration": 0,
    "start_time": "2023-01-31T12:52:39.967Z"
   },
   {
    "duration": 0,
    "start_time": "2023-01-31T12:52:39.968Z"
   },
   {
    "duration": 0,
    "start_time": "2023-01-31T12:52:39.969Z"
   },
   {
    "duration": 0,
    "start_time": "2023-01-31T12:52:39.970Z"
   },
   {
    "duration": 0,
    "start_time": "2023-01-31T12:52:39.971Z"
   },
   {
    "duration": 0,
    "start_time": "2023-01-31T12:52:39.972Z"
   },
   {
    "duration": 0,
    "start_time": "2023-01-31T12:52:39.973Z"
   },
   {
    "duration": 0,
    "start_time": "2023-01-31T12:52:39.974Z"
   },
   {
    "duration": 0,
    "start_time": "2023-01-31T12:52:39.975Z"
   },
   {
    "duration": 0,
    "start_time": "2023-01-31T12:52:39.976Z"
   },
   {
    "duration": 0,
    "start_time": "2023-01-31T12:52:39.977Z"
   },
   {
    "duration": 0,
    "start_time": "2023-01-31T12:52:39.978Z"
   },
   {
    "duration": 0,
    "start_time": "2023-01-31T12:52:39.979Z"
   },
   {
    "duration": 0,
    "start_time": "2023-01-31T12:52:39.979Z"
   },
   {
    "duration": 0,
    "start_time": "2023-01-31T12:52:39.981Z"
   },
   {
    "duration": 0,
    "start_time": "2023-01-31T12:52:39.981Z"
   },
   {
    "duration": 0,
    "start_time": "2023-01-31T12:52:39.982Z"
   },
   {
    "duration": 0,
    "start_time": "2023-01-31T12:52:39.983Z"
   },
   {
    "duration": 9,
    "start_time": "2023-01-31T12:56:35.325Z"
   },
   {
    "duration": 19,
    "start_time": "2023-01-31T12:58:46.171Z"
   },
   {
    "duration": 13,
    "start_time": "2023-01-31T13:44:39.808Z"
   },
   {
    "duration": 19,
    "start_time": "2023-01-31T13:45:56.158Z"
   },
   {
    "duration": 11,
    "start_time": "2023-01-31T13:46:22.465Z"
   },
   {
    "duration": 272,
    "start_time": "2023-01-31T13:52:53.063Z"
   },
   {
    "duration": 333,
    "start_time": "2023-01-31T13:53:25.088Z"
   },
   {
    "duration": 254,
    "start_time": "2023-01-31T13:54:12.680Z"
   },
   {
    "duration": 339,
    "start_time": "2023-01-31T13:54:43.487Z"
   },
   {
    "duration": 321,
    "start_time": "2023-01-31T13:55:03.840Z"
   },
   {
    "duration": 250,
    "start_time": "2023-01-31T13:55:20.297Z"
   },
   {
    "duration": 271,
    "start_time": "2023-01-31T13:55:41.721Z"
   },
   {
    "duration": 22,
    "start_time": "2023-01-31T13:57:51.289Z"
   },
   {
    "duration": 21,
    "start_time": "2023-01-31T13:58:23.909Z"
   },
   {
    "duration": 24,
    "start_time": "2023-01-31T14:07:51.313Z"
   },
   {
    "duration": 13,
    "start_time": "2023-01-31T14:10:59.851Z"
   },
   {
    "duration": 12,
    "start_time": "2023-01-31T14:15:47.966Z"
   },
   {
    "duration": 13,
    "start_time": "2023-01-31T14:15:53.246Z"
   },
   {
    "duration": 9,
    "start_time": "2023-01-31T14:16:01.478Z"
   },
   {
    "duration": 9,
    "start_time": "2023-01-31T14:16:03.749Z"
   },
   {
    "duration": 9,
    "start_time": "2023-01-31T14:16:04.758Z"
   },
   {
    "duration": 9,
    "start_time": "2023-01-31T14:16:05.638Z"
   },
   {
    "duration": 110,
    "start_time": "2023-01-31T14:16:06.599Z"
   },
   {
    "duration": 544,
    "start_time": "2023-01-31T14:16:46.649Z"
   },
   {
    "duration": 555,
    "start_time": "2023-01-31T14:16:56.336Z"
   },
   {
    "duration": 682,
    "start_time": "2023-01-31T14:17:01.690Z"
   },
   {
    "duration": 726,
    "start_time": "2023-01-31T14:18:43.811Z"
   },
   {
    "duration": 412,
    "start_time": "2023-01-31T14:18:58.381Z"
   },
   {
    "duration": 838,
    "start_time": "2023-01-31T14:24:46.137Z"
   },
   {
    "duration": 789,
    "start_time": "2023-01-31T14:32:46.349Z"
   },
   {
    "duration": 691,
    "start_time": "2023-01-31T14:34:05.686Z"
   },
   {
    "duration": 405,
    "start_time": "2023-01-31T14:35:30.539Z"
   },
   {
    "duration": 6,
    "start_time": "2023-01-31T14:38:08.461Z"
   },
   {
    "duration": 673,
    "start_time": "2023-01-31T14:38:12.131Z"
   },
   {
    "duration": 526,
    "start_time": "2023-01-31T14:39:50.977Z"
   },
   {
    "duration": 565,
    "start_time": "2023-01-31T14:39:59.538Z"
   },
   {
    "duration": 661,
    "start_time": "2023-01-31T14:40:12.243Z"
   },
   {
    "duration": 3,
    "start_time": "2023-01-31T14:40:53.675Z"
   },
   {
    "duration": 3,
    "start_time": "2023-01-31T14:40:56.249Z"
   },
   {
    "duration": 7,
    "start_time": "2023-01-31T14:40:58.691Z"
   },
   {
    "duration": 6,
    "start_time": "2023-01-31T14:41:02.514Z"
   },
   {
    "duration": 7,
    "start_time": "2023-01-31T14:41:09.809Z"
   },
   {
    "duration": 2,
    "start_time": "2023-01-31T14:41:20.052Z"
   },
   {
    "duration": 2,
    "start_time": "2023-01-31T14:41:34.980Z"
   },
   {
    "duration": 2,
    "start_time": "2023-01-31T14:41:37.571Z"
   },
   {
    "duration": 4,
    "start_time": "2023-01-31T14:41:42.459Z"
   },
   {
    "duration": 291404,
    "start_time": "2023-01-31T14:41:47.100Z"
   },
   {
    "duration": 11,
    "start_time": "2023-01-31T14:48:50.619Z"
   },
   {
    "duration": 4,
    "start_time": "2023-01-31T14:49:30.666Z"
   },
   {
    "duration": 5,
    "start_time": "2023-01-31T14:49:34.569Z"
   },
   {
    "duration": 46,
    "start_time": "2023-01-31T15:53:21.352Z"
   },
   {
    "duration": 3981,
    "start_time": "2023-01-31T15:53:27.706Z"
   },
   {
    "duration": 702,
    "start_time": "2023-01-31T15:53:36.065Z"
   },
   {
    "duration": 27,
    "start_time": "2023-01-31T15:53:39.482Z"
   },
   {
    "duration": 21,
    "start_time": "2023-01-31T15:53:41.784Z"
   },
   {
    "duration": 21,
    "start_time": "2023-01-31T15:53:45.070Z"
   },
   {
    "duration": 17,
    "start_time": "2023-01-31T15:53:50.202Z"
   },
   {
    "duration": 12,
    "start_time": "2023-01-31T15:53:58.987Z"
   },
   {
    "duration": 21,
    "start_time": "2023-01-31T15:54:03.561Z"
   },
   {
    "duration": 225,
    "start_time": "2023-01-31T15:54:11.018Z"
   },
   {
    "duration": 133,
    "start_time": "2023-01-31T15:54:15.429Z"
   },
   {
    "duration": 254,
    "start_time": "2023-01-31T15:54:18.345Z"
   },
   {
    "duration": 110,
    "start_time": "2023-01-31T15:54:23.361Z"
   },
   {
    "duration": 22,
    "start_time": "2023-01-31T15:54:24.968Z"
   },
   {
    "duration": 91,
    "start_time": "2023-01-31T15:54:25.937Z"
   },
   {
    "duration": 14,
    "start_time": "2023-01-31T15:54:36.203Z"
   },
   {
    "duration": 8,
    "start_time": "2023-01-31T15:54:43.379Z"
   },
   {
    "duration": 19,
    "start_time": "2023-01-31T15:55:09.458Z"
   },
   {
    "duration": 11,
    "start_time": "2023-01-31T15:55:25.804Z"
   },
   {
    "duration": 270,
    "start_time": "2023-01-31T15:55:36.740Z"
   },
   {
    "duration": 282,
    "start_time": "2023-01-31T15:56:10.529Z"
   },
   {
    "duration": 22,
    "start_time": "2023-01-31T15:56:17.182Z"
   },
   {
    "duration": 23,
    "start_time": "2023-01-31T15:56:21.187Z"
   },
   {
    "duration": 12,
    "start_time": "2023-01-31T15:56:59.267Z"
   },
   {
    "duration": 11,
    "start_time": "2023-01-31T15:57:00.980Z"
   },
   {
    "duration": 342,
    "start_time": "2023-01-31T15:57:19.196Z"
   },
   {
    "duration": 293,
    "start_time": "2023-01-31T15:57:28.437Z"
   },
   {
    "duration": 23,
    "start_time": "2023-01-31T15:59:26.800Z"
   },
   {
    "duration": 8,
    "start_time": "2023-01-31T16:01:20.750Z"
   },
   {
    "duration": 8,
    "start_time": "2023-01-31T16:01:29.417Z"
   },
   {
    "duration": 322,
    "start_time": "2023-01-31T16:01:35.656Z"
   },
   {
    "duration": 9,
    "start_time": "2023-01-31T16:06:55.082Z"
   },
   {
    "duration": 9,
    "start_time": "2023-01-31T16:06:56.507Z"
   },
   {
    "duration": 9,
    "start_time": "2023-01-31T16:06:57.664Z"
   },
   {
    "duration": 10,
    "start_time": "2023-01-31T16:06:58.730Z"
   },
   {
    "duration": 14,
    "start_time": "2023-01-31T16:07:03.872Z"
   },
   {
    "duration": 533,
    "start_time": "2023-01-31T16:07:20.245Z"
   },
   {
    "duration": 694,
    "start_time": "2023-01-31T16:07:26.269Z"
   },
   {
    "duration": 588,
    "start_time": "2023-01-31T16:07:54.135Z"
   },
   {
    "duration": 858,
    "start_time": "2023-01-31T16:08:06.165Z"
   },
   {
    "duration": 430,
    "start_time": "2023-01-31T16:08:15.876Z"
   },
   {
    "duration": 7,
    "start_time": "2023-01-31T16:08:41.494Z"
   },
   {
    "duration": 550,
    "start_time": "2023-01-31T16:08:55.068Z"
   },
   {
    "duration": 2,
    "start_time": "2023-01-31T16:09:30.700Z"
   },
   {
    "duration": 3,
    "start_time": "2023-01-31T16:09:32.048Z"
   },
   {
    "duration": 9,
    "start_time": "2023-01-31T16:09:34.325Z"
   },
   {
    "duration": 7,
    "start_time": "2023-01-31T16:09:37.564Z"
   },
   {
    "duration": 7,
    "start_time": "2023-01-31T16:09:44.878Z"
   },
   {
    "duration": 2,
    "start_time": "2023-01-31T16:09:49.741Z"
   },
   {
    "duration": 3,
    "start_time": "2023-01-31T16:10:23.656Z"
   },
   {
    "duration": 2,
    "start_time": "2023-01-31T16:10:26.290Z"
   },
   {
    "duration": 4,
    "start_time": "2023-01-31T16:10:29.390Z"
   },
   {
    "duration": 291907,
    "start_time": "2023-01-31T16:10:34.637Z"
   },
   {
    "duration": 9,
    "start_time": "2023-01-31T16:16:14.687Z"
   },
   {
    "duration": 3,
    "start_time": "2023-01-31T16:16:20.858Z"
   },
   {
    "duration": 4,
    "start_time": "2023-01-31T16:16:26.675Z"
   },
   {
    "duration": 5,
    "start_time": "2023-01-31T16:20:40.062Z"
   },
   {
    "duration": 4,
    "start_time": "2023-01-31T16:20:43.518Z"
   },
   {
    "duration": 1361,
    "start_time": "2023-01-31T16:21:56.846Z"
   },
   {
    "duration": 1159,
    "start_time": "2023-01-31T16:42:30.769Z"
   },
   {
    "duration": 22,
    "start_time": "2023-01-31T16:44:04.537Z"
   },
   {
    "duration": 14,
    "start_time": "2023-01-31T16:44:55.021Z"
   },
   {
    "duration": 24,
    "start_time": "2023-01-31T16:44:59.482Z"
   },
   {
    "duration": 4,
    "start_time": "2023-01-31T16:47:31.119Z"
   },
   {
    "duration": 1348,
    "start_time": "2023-01-31T16:47:59.911Z"
   },
   {
    "duration": 15,
    "start_time": "2023-01-31T16:52:11.754Z"
   },
   {
    "duration": 2,
    "start_time": "2023-01-31T16:52:23.348Z"
   },
   {
    "duration": 102,
    "start_time": "2023-01-31T16:53:12.515Z"
   },
   {
    "duration": 85,
    "start_time": "2023-01-31T16:57:17.885Z"
   },
   {
    "duration": 9,
    "start_time": "2023-01-31T16:58:44.574Z"
   },
   {
    "duration": 7,
    "start_time": "2023-01-31T16:58:50.343Z"
   },
   {
    "duration": 9,
    "start_time": "2023-01-31T16:59:03.105Z"
   },
   {
    "duration": 6,
    "start_time": "2023-01-31T16:59:34.680Z"
   },
   {
    "duration": 7,
    "start_time": "2023-01-31T16:59:45.603Z"
   },
   {
    "duration": 4,
    "start_time": "2023-01-31T16:59:55.162Z"
   },
   {
    "duration": 10,
    "start_time": "2023-01-31T17:33:15.176Z"
   },
   {
    "duration": 4138,
    "start_time": "2023-01-31T17:37:38.833Z"
   },
   {
    "duration": 724,
    "start_time": "2023-01-31T17:37:42.973Z"
   },
   {
    "duration": 24,
    "start_time": "2023-01-31T17:37:43.698Z"
   },
   {
    "duration": 32,
    "start_time": "2023-01-31T17:37:43.724Z"
   },
   {
    "duration": 28,
    "start_time": "2023-01-31T17:37:43.758Z"
   },
   {
    "duration": 20,
    "start_time": "2023-01-31T17:37:43.788Z"
   },
   {
    "duration": 12,
    "start_time": "2023-01-31T17:37:43.810Z"
   },
   {
    "duration": 33,
    "start_time": "2023-01-31T17:37:43.823Z"
   },
   {
    "duration": 227,
    "start_time": "2023-01-31T17:37:43.858Z"
   },
   {
    "duration": 133,
    "start_time": "2023-01-31T17:37:44.088Z"
   },
   {
    "duration": 252,
    "start_time": "2023-01-31T17:37:44.223Z"
   },
   {
    "duration": 130,
    "start_time": "2023-01-31T17:37:44.477Z"
   },
   {
    "duration": 20,
    "start_time": "2023-01-31T17:37:44.609Z"
   },
   {
    "duration": 100,
    "start_time": "2023-01-31T17:37:44.631Z"
   },
   {
    "duration": 21,
    "start_time": "2023-01-31T17:37:44.733Z"
   },
   {
    "duration": 7,
    "start_time": "2023-01-31T17:37:44.756Z"
   },
   {
    "duration": 21,
    "start_time": "2023-01-31T17:37:44.765Z"
   },
   {
    "duration": 13,
    "start_time": "2023-01-31T17:37:44.787Z"
   },
   {
    "duration": 308,
    "start_time": "2023-01-31T17:37:44.802Z"
   },
   {
    "duration": 372,
    "start_time": "2023-01-31T17:37:45.111Z"
   },
   {
    "duration": 23,
    "start_time": "2023-01-31T17:37:45.485Z"
   },
   {
    "duration": 30,
    "start_time": "2023-01-31T17:37:45.510Z"
   },
   {
    "duration": 28,
    "start_time": "2023-01-31T17:37:45.542Z"
   },
   {
    "duration": 11,
    "start_time": "2023-01-31T17:37:45.572Z"
   },
   {
    "duration": 26,
    "start_time": "2023-01-31T17:37:45.584Z"
   },
   {
    "duration": 19,
    "start_time": "2023-01-31T17:37:45.611Z"
   },
   {
    "duration": 15,
    "start_time": "2023-01-31T17:37:45.632Z"
   },
   {
    "duration": 9,
    "start_time": "2023-01-31T17:37:45.653Z"
   },
   {
    "duration": 10,
    "start_time": "2023-01-31T17:37:45.664Z"
   },
   {
    "duration": 19,
    "start_time": "2023-01-31T17:37:45.676Z"
   },
   {
    "duration": 29,
    "start_time": "2023-01-31T17:37:45.697Z"
   },
   {
    "duration": 552,
    "start_time": "2023-01-31T17:37:45.728Z"
   },
   {
    "duration": 599,
    "start_time": "2023-01-31T17:37:46.282Z"
   },
   {
    "duration": 680,
    "start_time": "2023-01-31T17:37:46.883Z"
   },
   {
    "duration": 758,
    "start_time": "2023-01-31T17:37:47.564Z"
   },
   {
    "duration": 567,
    "start_time": "2023-01-31T17:37:48.324Z"
   },
   {
    "duration": 7,
    "start_time": "2023-01-31T17:37:48.894Z"
   },
   {
    "duration": 546,
    "start_time": "2023-01-31T17:37:48.903Z"
   },
   {
    "duration": 4,
    "start_time": "2023-01-31T17:37:49.452Z"
   },
   {
    "duration": 25,
    "start_time": "2023-01-31T17:37:49.457Z"
   },
   {
    "duration": 22,
    "start_time": "2023-01-31T17:37:49.484Z"
   },
   {
    "duration": 15,
    "start_time": "2023-01-31T17:37:49.507Z"
   },
   {
    "duration": 23,
    "start_time": "2023-01-31T17:37:49.523Z"
   },
   {
    "duration": 10,
    "start_time": "2023-01-31T17:37:49.548Z"
   },
   {
    "duration": 8,
    "start_time": "2023-01-31T17:37:49.560Z"
   },
   {
    "duration": 6,
    "start_time": "2023-01-31T17:37:49.570Z"
   },
   {
    "duration": 35,
    "start_time": "2023-01-31T17:37:49.578Z"
   },
   {
    "duration": 291933,
    "start_time": "2023-01-31T17:37:49.616Z"
   },
   {
    "duration": 10,
    "start_time": "2023-01-31T17:42:41.551Z"
   },
   {
    "duration": 3,
    "start_time": "2023-01-31T17:42:41.563Z"
   },
   {
    "duration": 13,
    "start_time": "2023-01-31T17:42:41.567Z"
   },
   {
    "duration": 10,
    "start_time": "2023-01-31T17:42:41.581Z"
   },
   {
    "duration": 21,
    "start_time": "2023-01-31T17:42:41.593Z"
   },
   {
    "duration": 19,
    "start_time": "2023-01-31T17:42:41.616Z"
   },
   {
    "duration": 11,
    "start_time": "2023-01-31T17:42:41.637Z"
   },
   {
    "duration": 91,
    "start_time": "2023-01-31T17:42:41.650Z"
   },
   {
    "duration": 6,
    "start_time": "2023-01-31T17:42:41.742Z"
   },
   {
    "duration": 11,
    "start_time": "2023-01-31T17:42:41.750Z"
   },
   {
    "duration": 9,
    "start_time": "2023-01-31T17:42:41.762Z"
   },
   {
    "duration": 8,
    "start_time": "2023-01-31T17:42:41.772Z"
   },
   {
    "duration": 10,
    "start_time": "2023-01-31T17:42:41.781Z"
   },
   {
    "duration": 6,
    "start_time": "2023-01-31T17:42:41.793Z"
   },
   {
    "duration": 17262,
    "start_time": "2023-02-01T06:11:28.198Z"
   },
   {
    "duration": 1997,
    "start_time": "2023-02-01T06:11:45.462Z"
   },
   {
    "duration": 32,
    "start_time": "2023-02-01T06:11:47.460Z"
   },
   {
    "duration": 26,
    "start_time": "2023-02-01T06:11:47.493Z"
   },
   {
    "duration": 31,
    "start_time": "2023-02-01T06:11:47.526Z"
   },
   {
    "duration": 23,
    "start_time": "2023-02-01T06:11:47.558Z"
   },
   {
    "duration": 12,
    "start_time": "2023-02-01T06:11:47.582Z"
   },
   {
    "duration": 29,
    "start_time": "2023-02-01T06:11:47.595Z"
   },
   {
    "duration": 236,
    "start_time": "2023-02-01T06:11:47.626Z"
   },
   {
    "duration": 134,
    "start_time": "2023-02-01T06:11:47.863Z"
   },
   {
    "duration": 245,
    "start_time": "2023-02-01T06:11:47.998Z"
   },
   {
    "duration": 118,
    "start_time": "2023-02-01T06:11:48.244Z"
   },
   {
    "duration": 19,
    "start_time": "2023-02-01T06:11:48.363Z"
   },
   {
    "duration": 101,
    "start_time": "2023-02-01T06:11:48.385Z"
   },
   {
    "duration": 14,
    "start_time": "2023-02-01T06:11:48.487Z"
   },
   {
    "duration": 7,
    "start_time": "2023-02-01T06:11:48.502Z"
   },
   {
    "duration": 20,
    "start_time": "2023-02-01T06:11:48.529Z"
   },
   {
    "duration": 23,
    "start_time": "2023-02-01T06:11:48.551Z"
   },
   {
    "duration": 295,
    "start_time": "2023-02-01T06:11:48.575Z"
   },
   {
    "duration": 389,
    "start_time": "2023-02-01T06:11:48.872Z"
   },
   {
    "duration": 24,
    "start_time": "2023-02-01T06:11:49.263Z"
   },
   {
    "duration": 52,
    "start_time": "2023-02-01T06:11:49.289Z"
   },
   {
    "duration": 31,
    "start_time": "2023-02-01T06:11:49.342Z"
   },
   {
    "duration": 16,
    "start_time": "2023-02-01T06:11:49.375Z"
   },
   {
    "duration": 14,
    "start_time": "2023-02-01T06:11:49.393Z"
   },
   {
    "duration": 9,
    "start_time": "2023-02-01T06:11:49.409Z"
   },
   {
    "duration": 28,
    "start_time": "2023-02-01T06:11:49.420Z"
   },
   {
    "duration": 11,
    "start_time": "2023-02-01T06:11:49.450Z"
   },
   {
    "duration": 13,
    "start_time": "2023-02-01T06:11:49.462Z"
   },
   {
    "duration": 14,
    "start_time": "2023-02-01T06:11:49.477Z"
   },
   {
    "duration": 21,
    "start_time": "2023-02-01T06:11:49.493Z"
   },
   {
    "duration": 561,
    "start_time": "2023-02-01T06:11:49.516Z"
   },
   {
    "duration": 679,
    "start_time": "2023-02-01T06:11:50.079Z"
   },
   {
    "duration": 690,
    "start_time": "2023-02-01T06:11:50.759Z"
   },
   {
    "duration": 735,
    "start_time": "2023-02-01T06:11:51.450Z"
   },
   {
    "duration": 556,
    "start_time": "2023-02-01T06:11:52.186Z"
   },
   {
    "duration": 8,
    "start_time": "2023-02-01T06:11:52.744Z"
   },
   {
    "duration": 589,
    "start_time": "2023-02-01T06:11:52.753Z"
   },
   {
    "duration": 4,
    "start_time": "2023-02-01T06:11:53.343Z"
   },
   {
    "duration": 7,
    "start_time": "2023-02-01T06:11:53.348Z"
   },
   {
    "duration": 8,
    "start_time": "2023-02-01T06:11:53.359Z"
   },
   {
    "duration": 12,
    "start_time": "2023-02-01T06:11:53.369Z"
   },
   {
    "duration": 12,
    "start_time": "2023-02-01T06:11:53.383Z"
   },
   {
    "duration": 28,
    "start_time": "2023-02-01T06:15:15.040Z"
   },
   {
    "duration": 16,
    "start_time": "2023-02-01T06:15:30.082Z"
   },
   {
    "duration": 3,
    "start_time": "2023-02-01T06:15:31.061Z"
   },
   {
    "duration": 127,
    "start_time": "2023-02-01T06:15:33.080Z"
   },
   {
    "duration": 2,
    "start_time": "2023-02-01T06:15:37.696Z"
   },
   {
    "duration": 27,
    "start_time": "2023-02-01T06:15:42.049Z"
   },
   {
    "duration": 28,
    "start_time": "2023-02-01T06:15:49.979Z"
   },
   {
    "duration": 19,
    "start_time": "2023-02-01T06:16:18.438Z"
   },
   {
    "duration": 19,
    "start_time": "2023-02-01T06:16:33.923Z"
   },
   {
    "duration": 27,
    "start_time": "2023-02-01T06:16:49.960Z"
   },
   {
    "duration": 13,
    "start_time": "2023-02-01T06:18:14.239Z"
   },
   {
    "duration": 32,
    "start_time": "2023-02-01T06:18:23.518Z"
   },
   {
    "duration": 29,
    "start_time": "2023-02-01T06:18:34.285Z"
   },
   {
    "duration": 27,
    "start_time": "2023-02-01T06:18:40.544Z"
   },
   {
    "duration": 33,
    "start_time": "2023-02-01T06:18:43.389Z"
   },
   {
    "duration": 26,
    "start_time": "2023-02-01T06:18:50.024Z"
   },
   {
    "duration": 5698,
    "start_time": "2023-02-01T08:13:07.933Z"
   },
   {
    "duration": 3217,
    "start_time": "2023-02-01T08:13:18.247Z"
   },
   {
    "duration": 30,
    "start_time": "2023-02-01T08:13:26.351Z"
   },
   {
    "duration": 21,
    "start_time": "2023-02-01T08:13:32.275Z"
   },
   {
    "duration": 21,
    "start_time": "2023-02-01T08:13:43.646Z"
   },
   {
    "duration": 17,
    "start_time": "2023-02-01T08:13:48.848Z"
   },
   {
    "duration": 12,
    "start_time": "2023-02-01T08:14:01.054Z"
   },
   {
    "duration": 15,
    "start_time": "2023-02-01T08:14:10.452Z"
   },
   {
    "duration": 225,
    "start_time": "2023-02-01T08:14:37.217Z"
   },
   {
    "duration": 121,
    "start_time": "2023-02-01T08:14:41.171Z"
   },
   {
    "duration": 265,
    "start_time": "2023-02-01T08:14:47.488Z"
   },
   {
    "duration": 127,
    "start_time": "2023-02-01T08:14:57.827Z"
   },
   {
    "duration": 20,
    "start_time": "2023-02-01T08:15:02.360Z"
   },
   {
    "duration": 85,
    "start_time": "2023-02-01T08:15:27.444Z"
   },
   {
    "duration": 14,
    "start_time": "2023-02-01T08:15:33.419Z"
   },
   {
    "duration": 7,
    "start_time": "2023-02-01T08:15:38.179Z"
   },
   {
    "duration": 19,
    "start_time": "2023-02-01T08:15:49.988Z"
   },
   {
    "duration": 11,
    "start_time": "2023-02-01T08:15:58.568Z"
   },
   {
    "duration": 295,
    "start_time": "2023-02-01T08:16:08.822Z"
   },
   {
    "duration": 344,
    "start_time": "2023-02-01T08:16:21.252Z"
   },
   {
    "duration": 23,
    "start_time": "2023-02-01T08:16:31.005Z"
   },
   {
    "duration": 22,
    "start_time": "2023-02-01T08:16:43.860Z"
   },
   {
    "duration": 11,
    "start_time": "2023-02-01T08:17:01.060Z"
   },
   {
    "duration": 12,
    "start_time": "2023-02-01T08:17:05.255Z"
   },
   {
    "duration": 9,
    "start_time": "2023-02-01T08:17:31.969Z"
   },
   {
    "duration": 9,
    "start_time": "2023-02-01T08:17:33.685Z"
   },
   {
    "duration": 10,
    "start_time": "2023-02-01T08:17:36.390Z"
   },
   {
    "duration": 9,
    "start_time": "2023-02-01T08:17:39.168Z"
   },
   {
    "duration": 16,
    "start_time": "2023-02-01T08:17:47.383Z"
   },
   {
    "duration": 555,
    "start_time": "2023-02-01T08:19:14.229Z"
   },
   {
    "duration": 566,
    "start_time": "2023-02-01T08:19:28.547Z"
   },
   {
    "duration": 663,
    "start_time": "2023-02-01T08:19:44.324Z"
   },
   {
    "duration": 799,
    "start_time": "2023-02-01T08:20:06.044Z"
   },
   {
    "duration": 531,
    "start_time": "2023-02-01T08:20:16.507Z"
   },
   {
    "duration": 7,
    "start_time": "2023-02-01T08:20:31.741Z"
   },
   {
    "duration": 550,
    "start_time": "2023-02-01T08:21:31.960Z"
   },
   {
    "duration": 4,
    "start_time": "2023-02-01T08:23:15.326Z"
   },
   {
    "duration": 3,
    "start_time": "2023-02-01T08:23:20.265Z"
   },
   {
    "duration": 9,
    "start_time": "2023-02-01T08:23:25.110Z"
   },
   {
    "duration": 9,
    "start_time": "2023-02-01T08:26:55.882Z"
   },
   {
    "duration": 8,
    "start_time": "2023-02-01T09:06:29.472Z"
   },
   {
    "duration": 3,
    "start_time": "2023-02-01T09:06:51.182Z"
   },
   {
    "duration": 4,
    "start_time": "2023-02-01T09:06:55.389Z"
   },
   {
    "duration": 2,
    "start_time": "2023-02-01T09:07:02.904Z"
   },
   {
    "duration": 3,
    "start_time": "2023-02-01T09:07:06.116Z"
   },
   {
    "duration": 687370,
    "start_time": "2023-02-01T09:07:26.988Z"
   },
   {
    "duration": 11,
    "start_time": "2023-02-01T09:29:57.120Z"
   },
   {
    "duration": 3,
    "start_time": "2023-02-01T09:30:12.323Z"
   },
   {
    "duration": 5,
    "start_time": "2023-02-01T09:31:08.627Z"
   },
   {
    "duration": 3,
    "start_time": "2023-02-01T09:34:44.903Z"
   },
   {
    "duration": 4,
    "start_time": "2023-02-01T09:34:50.099Z"
   },
   {
    "duration": 149,
    "start_time": "2023-02-01T09:46:23.364Z"
   },
   {
    "duration": 3,
    "start_time": "2023-02-01T09:48:14.553Z"
   },
   {
    "duration": 16,
    "start_time": "2023-02-01T09:49:56.583Z"
   },
   {
    "duration": 9,
    "start_time": "2023-02-01T09:56:20.539Z"
   },
   {
    "duration": 14,
    "start_time": "2023-02-01T09:59:17.213Z"
   },
   {
    "duration": 3,
    "start_time": "2023-02-01T10:01:10.667Z"
   },
   {
    "duration": 39,
    "start_time": "2023-02-01T10:01:31.270Z"
   },
   {
    "duration": 38,
    "start_time": "2023-02-01T10:03:43.193Z"
   },
   {
    "duration": 3,
    "start_time": "2023-02-01T10:10:49.518Z"
   },
   {
    "duration": 17,
    "start_time": "2023-02-01T10:12:11.901Z"
   },
   {
    "duration": 7,
    "start_time": "2023-02-01T10:31:46.382Z"
   },
   {
    "duration": 4,
    "start_time": "2023-02-01T10:31:50.450Z"
   },
   {
    "duration": 4,
    "start_time": "2023-02-01T10:31:57.424Z"
   },
   {
    "duration": 3,
    "start_time": "2023-02-01T10:32:03.505Z"
   },
   {
    "duration": 4,
    "start_time": "2023-02-01T10:32:06.653Z"
   },
   {
    "duration": 5,
    "start_time": "2023-02-01T10:32:15.676Z"
   },
   {
    "duration": 301638,
    "start_time": "2023-02-01T10:32:19.636Z"
   },
   {
    "duration": 11,
    "start_time": "2023-02-01T10:40:43.305Z"
   },
   {
    "duration": 3,
    "start_time": "2023-02-01T10:40:48.699Z"
   },
   {
    "duration": 5,
    "start_time": "2023-02-01T10:40:53.651Z"
   },
   {
    "duration": 4,
    "start_time": "2023-02-01T10:41:59.314Z"
   },
   {
    "duration": 5,
    "start_time": "2023-02-01T10:42:03.731Z"
   },
   {
    "duration": 15,
    "start_time": "2023-02-01T10:42:20.062Z"
   },
   {
    "duration": 3,
    "start_time": "2023-02-01T10:48:15.684Z"
   },
   {
    "duration": 80,
    "start_time": "2023-02-01T10:48:37.094Z"
   },
   {
    "duration": 6,
    "start_time": "2023-02-01T10:48:47.888Z"
   },
   {
    "duration": 5,
    "start_time": "2023-02-01T10:48:54.793Z"
   },
   {
    "duration": 7,
    "start_time": "2023-02-01T10:48:57.827Z"
   },
   {
    "duration": 6,
    "start_time": "2023-02-01T10:49:04.639Z"
   },
   {
    "duration": 6,
    "start_time": "2023-02-01T10:49:07.501Z"
   },
   {
    "duration": 3,
    "start_time": "2023-02-01T10:49:11.192Z"
   },
   {
    "duration": 84,
    "start_time": "2023-02-01T10:51:05.617Z"
   },
   {
    "duration": 5,
    "start_time": "2023-02-01T10:51:11.999Z"
   },
   {
    "duration": 6,
    "start_time": "2023-02-01T10:51:15.455Z"
   },
   {
    "duration": 7,
    "start_time": "2023-02-01T10:51:20.795Z"
   },
   {
    "duration": 5,
    "start_time": "2023-02-01T10:51:26.137Z"
   },
   {
    "duration": 6,
    "start_time": "2023-02-01T10:51:29.437Z"
   },
   {
    "duration": 9,
    "start_time": "2023-02-01T10:51:32.554Z"
   },
   {
    "duration": 84,
    "start_time": "2023-02-01T11:02:00.130Z"
   },
   {
    "duration": 3610,
    "start_time": "2023-02-01T11:02:17.229Z"
   },
   {
    "duration": 671,
    "start_time": "2023-02-01T11:02:20.841Z"
   },
   {
    "duration": 23,
    "start_time": "2023-02-01T11:02:21.514Z"
   },
   {
    "duration": 27,
    "start_time": "2023-02-01T11:02:21.539Z"
   },
   {
    "duration": 23,
    "start_time": "2023-02-01T11:02:21.567Z"
   },
   {
    "duration": 20,
    "start_time": "2023-02-01T11:02:21.592Z"
   },
   {
    "duration": 12,
    "start_time": "2023-02-01T11:02:21.613Z"
   },
   {
    "duration": 44,
    "start_time": "2023-02-01T11:02:21.626Z"
   },
   {
    "duration": 250,
    "start_time": "2023-02-01T11:02:21.671Z"
   },
   {
    "duration": 129,
    "start_time": "2023-02-01T11:02:21.924Z"
   },
   {
    "duration": 253,
    "start_time": "2023-02-01T11:02:22.054Z"
   },
   {
    "duration": 119,
    "start_time": "2023-02-01T11:02:22.309Z"
   },
   {
    "duration": 29,
    "start_time": "2023-02-01T11:02:22.430Z"
   },
   {
    "duration": 92,
    "start_time": "2023-02-01T11:02:22.460Z"
   },
   {
    "duration": 13,
    "start_time": "2023-02-01T11:02:22.554Z"
   },
   {
    "duration": 9,
    "start_time": "2023-02-01T11:02:22.568Z"
   },
   {
    "duration": 19,
    "start_time": "2023-02-01T11:02:22.579Z"
   },
   {
    "duration": 11,
    "start_time": "2023-02-01T11:02:22.600Z"
   },
   {
    "duration": 322,
    "start_time": "2023-02-01T11:02:22.612Z"
   },
   {
    "duration": 355,
    "start_time": "2023-02-01T11:02:22.935Z"
   },
   {
    "duration": 23,
    "start_time": "2023-02-01T11:02:23.292Z"
   },
   {
    "duration": 41,
    "start_time": "2023-02-01T11:02:23.316Z"
   },
   {
    "duration": 14,
    "start_time": "2023-02-01T11:02:23.359Z"
   },
   {
    "duration": 18,
    "start_time": "2023-02-01T11:02:23.374Z"
   },
   {
    "duration": 20,
    "start_time": "2023-02-01T11:02:23.394Z"
   },
   {
    "duration": 51,
    "start_time": "2023-02-01T11:02:23.418Z"
   },
   {
    "duration": 23,
    "start_time": "2023-02-01T11:02:23.471Z"
   },
   {
    "duration": 12,
    "start_time": "2023-02-01T11:02:23.499Z"
   },
   {
    "duration": 31,
    "start_time": "2023-02-01T11:02:23.513Z"
   },
   {
    "duration": 558,
    "start_time": "2023-02-01T11:02:23.546Z"
   },
   {
    "duration": 580,
    "start_time": "2023-02-01T11:02:24.105Z"
   },
   {
    "duration": 679,
    "start_time": "2023-02-01T11:02:24.687Z"
   },
   {
    "duration": 720,
    "start_time": "2023-02-01T11:02:25.368Z"
   },
   {
    "duration": 603,
    "start_time": "2023-02-01T11:02:26.090Z"
   },
   {
    "duration": 7,
    "start_time": "2023-02-01T11:02:26.695Z"
   },
   {
    "duration": 561,
    "start_time": "2023-02-01T11:02:26.706Z"
   },
   {
    "duration": 3,
    "start_time": "2023-02-01T11:02:27.269Z"
   },
   {
    "duration": 8,
    "start_time": "2023-02-01T11:02:27.273Z"
   },
   {
    "duration": 13,
    "start_time": "2023-02-01T11:02:27.284Z"
   },
   {
    "duration": 9,
    "start_time": "2023-02-01T11:02:27.298Z"
   },
   {
    "duration": 8,
    "start_time": "2023-02-01T11:02:27.309Z"
   },
   {
    "duration": 8,
    "start_time": "2023-02-01T11:02:27.319Z"
   },
   {
    "duration": 7,
    "start_time": "2023-02-01T11:02:27.329Z"
   },
   {
    "duration": 12,
    "start_time": "2023-02-01T11:02:27.338Z"
   },
   {
    "duration": 6,
    "start_time": "2023-02-01T11:02:27.351Z"
   },
   {
    "duration": 297728,
    "start_time": "2023-02-01T11:02:27.359Z"
   },
   {
    "duration": 10,
    "start_time": "2023-02-01T11:07:25.089Z"
   },
   {
    "duration": 3,
    "start_time": "2023-02-01T11:07:25.101Z"
   },
   {
    "duration": 14,
    "start_time": "2023-02-01T11:07:25.105Z"
   },
   {
    "duration": 21,
    "start_time": "2023-02-01T11:07:25.121Z"
   },
   {
    "duration": 11,
    "start_time": "2023-02-01T11:07:25.143Z"
   },
   {
    "duration": 34,
    "start_time": "2023-02-01T11:07:25.156Z"
   },
   {
    "duration": 3,
    "start_time": "2023-02-01T11:07:25.192Z"
   },
   {
    "duration": 95,
    "start_time": "2023-02-01T11:07:25.196Z"
   },
   {
    "duration": 5,
    "start_time": "2023-02-01T11:07:25.293Z"
   },
   {
    "duration": 21,
    "start_time": "2023-02-01T11:07:25.300Z"
   },
   {
    "duration": 28,
    "start_time": "2023-02-01T11:07:25.322Z"
   },
   {
    "duration": 11,
    "start_time": "2023-02-01T11:07:25.352Z"
   },
   {
    "duration": 14,
    "start_time": "2023-02-01T11:07:25.364Z"
   },
   {
    "duration": 9,
    "start_time": "2023-02-01T11:07:25.380Z"
   },
   {
    "duration": 10043,
    "start_time": "2023-02-02T06:04:43.368Z"
   },
   {
    "duration": 1876,
    "start_time": "2023-02-02T06:04:53.414Z"
   },
   {
    "duration": 27,
    "start_time": "2023-02-02T06:04:55.291Z"
   },
   {
    "duration": 31,
    "start_time": "2023-02-02T06:04:55.319Z"
   },
   {
    "duration": 43,
    "start_time": "2023-02-02T06:04:55.353Z"
   },
   {
    "duration": 32,
    "start_time": "2023-02-02T06:04:55.397Z"
   },
   {
    "duration": 13,
    "start_time": "2023-02-02T06:04:55.431Z"
   },
   {
    "duration": 17,
    "start_time": "2023-02-02T06:04:55.446Z"
   },
   {
    "duration": 277,
    "start_time": "2023-02-02T06:04:55.465Z"
   },
   {
    "duration": 141,
    "start_time": "2023-02-02T06:04:55.744Z"
   },
   {
    "duration": 265,
    "start_time": "2023-02-02T06:04:55.887Z"
   },
   {
    "duration": 123,
    "start_time": "2023-02-02T06:04:56.154Z"
   },
   {
    "duration": 23,
    "start_time": "2023-02-02T06:04:56.279Z"
   },
   {
    "duration": 102,
    "start_time": "2023-02-02T06:04:56.305Z"
   },
   {
    "duration": 13,
    "start_time": "2023-02-02T06:04:56.409Z"
   },
   {
    "duration": 7,
    "start_time": "2023-02-02T06:04:56.424Z"
   },
   {
    "duration": 19,
    "start_time": "2023-02-02T06:04:56.432Z"
   },
   {
    "duration": 35,
    "start_time": "2023-02-02T06:04:56.453Z"
   },
   {
    "duration": 309,
    "start_time": "2023-02-02T06:04:56.490Z"
   },
   {
    "duration": 388,
    "start_time": "2023-02-02T06:04:56.802Z"
   },
   {
    "duration": 25,
    "start_time": "2023-02-02T06:04:57.192Z"
   },
   {
    "duration": 29,
    "start_time": "2023-02-02T06:04:57.218Z"
   },
   {
    "duration": 25,
    "start_time": "2023-02-02T06:04:57.249Z"
   },
   {
    "duration": 33,
    "start_time": "2023-02-02T06:04:57.276Z"
   },
   {
    "duration": 14,
    "start_time": "2023-02-02T06:04:57.310Z"
   },
   {
    "duration": 20,
    "start_time": "2023-02-02T06:04:57.326Z"
   },
   {
    "duration": 18,
    "start_time": "2023-02-02T06:04:57.347Z"
   },
   {
    "duration": 48,
    "start_time": "2023-02-02T06:04:57.367Z"
   },
   {
    "duration": 25,
    "start_time": "2023-02-02T06:04:57.416Z"
   },
   {
    "duration": 571,
    "start_time": "2023-02-02T06:04:57.443Z"
   },
   {
    "duration": 610,
    "start_time": "2023-02-02T06:04:58.016Z"
   },
   {
    "duration": 699,
    "start_time": "2023-02-02T06:04:58.627Z"
   },
   {
    "duration": 839,
    "start_time": "2023-02-02T06:04:59.328Z"
   },
   {
    "duration": 618,
    "start_time": "2023-02-02T06:05:00.169Z"
   },
   {
    "duration": 9,
    "start_time": "2023-02-02T06:05:00.790Z"
   },
   {
    "duration": 732,
    "start_time": "2023-02-02T06:05:00.801Z"
   }
  ],
  "kernelspec": {
   "display_name": "Python 3 (ipykernel)",
   "language": "python",
   "name": "python3"
  },
  "language_info": {
   "codemirror_mode": {
    "name": "ipython",
    "version": 3
   },
   "file_extension": ".py",
   "mimetype": "text/x-python",
   "name": "python",
   "nbconvert_exporter": "python",
   "pygments_lexer": "ipython3",
   "version": "3.9.16"
  },
  "toc": {
   "base_numbering": 1,
   "nav_menu": {
    "height": "54px",
    "width": "251px"
   },
   "number_sections": true,
   "sideBar": false,
   "skip_h1_title": false,
   "title_cell": "Содержание",
   "title_sidebar": "Contents",
   "toc_cell": true,
   "toc_position": {
    "height": "261px",
    "left": "22px",
    "top": "537.125px",
    "width": "165px"
   },
   "toc_section_display": true,
   "toc_window_display": false
  },
  "vscode": {
   "interpreter": {
    "hash": "e4cce46d6be9934fbd27f9ca0432556941ea5bdf741d4f4d64c6cd7f8dfa8fba"
   }
  }
 },
 "nbformat": 4,
 "nbformat_minor": 2
}
