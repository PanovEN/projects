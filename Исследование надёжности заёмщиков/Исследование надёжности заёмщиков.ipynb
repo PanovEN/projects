{
 "cells": [
  {
   "cell_type": "markdown",
   "id": "96cf65f5",
   "metadata": {
    "deletable": false,
    "editable": false,
    "id": "c81daeeb"
   },
   "source": [
    "# Исследование надежности заемщиков\n"
   ]
  },
  {
   "cell_type": "markdown",
   "id": "228618c3",
   "metadata": {
    "deletable": false,
    "editable": false,
    "id": "827c20bf"
   },
   "source": [
    "Во второй части проекта вы выполните шаги 3 и 4. Их вручную проверит ревьюер.\n",
    "Чтобы вам не пришлось писать код заново для шагов 1 и 2, мы добавили авторские решения в ячейки с кодом. \n",
    "\n"
   ]
  },
  {
   "cell_type": "markdown",
   "id": "92264775",
   "metadata": {
    "deletable": false,
    "editable": false,
    "id": "744d7639"
   },
   "source": [
    "## Откройте таблицу и изучите общую информацию о данных"
   ]
  },
  {
   "cell_type": "markdown",
   "id": "99144695",
   "metadata": {
    "deletable": false,
    "editable": false,
    "id": "e7a14c31"
   },
   "source": [
    "**Задание 1. Импортируйте библиотеку pandas. Считайте данные из csv-файла в датафрейм и сохраните в переменную `data`. Путь к файлу:**\n",
    "\n",
    "`/datasets/data.csv`"
   ]
  },
  {
   "cell_type": "code",
   "execution_count": 1,
   "id": "e5b02d06",
   "metadata": {
    "deletable": false,
    "id": "7bcf75c9"
   },
   "outputs": [],
   "source": [
    "import pandas as pd\n",
    "\n",
    "try:\n",
    "    data = pd.read_csv('/datasets/data.csv')\n",
    "except:\n",
    "    data = pd.read_csv('https://code.s3.yandex.net/datasets/data.csv')"
   ]
  },
  {
   "cell_type": "markdown",
   "id": "f77d2392",
   "metadata": {
    "deletable": false,
    "editable": false,
    "id": "b8038fe3"
   },
   "source": [
    "**Задание 2. Выведите первые 20 строчек датафрейма `data` на экран.**"
   ]
  },
  {
   "cell_type": "code",
   "execution_count": 2,
   "id": "58c5a4b4",
   "metadata": {
    "deletable": false,
    "id": "2a7cab99",
    "outputId": "1a8f3ef2-d323-4ec2-ddf7-89670b5944c4"
   },
   "outputs": [
    {
     "data": {
      "text/html": [
       "<div>\n",
       "<style scoped>\n",
       "    .dataframe tbody tr th:only-of-type {\n",
       "        vertical-align: middle;\n",
       "    }\n",
       "\n",
       "    .dataframe tbody tr th {\n",
       "        vertical-align: top;\n",
       "    }\n",
       "\n",
       "    .dataframe thead th {\n",
       "        text-align: right;\n",
       "    }\n",
       "</style>\n",
       "<table border=\"1\" class=\"dataframe\">\n",
       "  <thead>\n",
       "    <tr style=\"text-align: right;\">\n",
       "      <th></th>\n",
       "      <th>children</th>\n",
       "      <th>days_employed</th>\n",
       "      <th>dob_years</th>\n",
       "      <th>education</th>\n",
       "      <th>education_id</th>\n",
       "      <th>family_status</th>\n",
       "      <th>family_status_id</th>\n",
       "      <th>gender</th>\n",
       "      <th>income_type</th>\n",
       "      <th>debt</th>\n",
       "      <th>total_income</th>\n",
       "      <th>purpose</th>\n",
       "    </tr>\n",
       "  </thead>\n",
       "  <tbody>\n",
       "    <tr>\n",
       "      <th>0</th>\n",
       "      <td>1</td>\n",
       "      <td>-8437.673028</td>\n",
       "      <td>42</td>\n",
       "      <td>высшее</td>\n",
       "      <td>0</td>\n",
       "      <td>женат / замужем</td>\n",
       "      <td>0</td>\n",
       "      <td>F</td>\n",
       "      <td>сотрудник</td>\n",
       "      <td>0</td>\n",
       "      <td>253875.639453</td>\n",
       "      <td>покупка жилья</td>\n",
       "    </tr>\n",
       "    <tr>\n",
       "      <th>1</th>\n",
       "      <td>1</td>\n",
       "      <td>-4024.803754</td>\n",
       "      <td>36</td>\n",
       "      <td>среднее</td>\n",
       "      <td>1</td>\n",
       "      <td>женат / замужем</td>\n",
       "      <td>0</td>\n",
       "      <td>F</td>\n",
       "      <td>сотрудник</td>\n",
       "      <td>0</td>\n",
       "      <td>112080.014102</td>\n",
       "      <td>приобретение автомобиля</td>\n",
       "    </tr>\n",
       "    <tr>\n",
       "      <th>2</th>\n",
       "      <td>0</td>\n",
       "      <td>-5623.422610</td>\n",
       "      <td>33</td>\n",
       "      <td>Среднее</td>\n",
       "      <td>1</td>\n",
       "      <td>женат / замужем</td>\n",
       "      <td>0</td>\n",
       "      <td>M</td>\n",
       "      <td>сотрудник</td>\n",
       "      <td>0</td>\n",
       "      <td>145885.952297</td>\n",
       "      <td>покупка жилья</td>\n",
       "    </tr>\n",
       "    <tr>\n",
       "      <th>3</th>\n",
       "      <td>3</td>\n",
       "      <td>-4124.747207</td>\n",
       "      <td>32</td>\n",
       "      <td>среднее</td>\n",
       "      <td>1</td>\n",
       "      <td>женат / замужем</td>\n",
       "      <td>0</td>\n",
       "      <td>M</td>\n",
       "      <td>сотрудник</td>\n",
       "      <td>0</td>\n",
       "      <td>267628.550329</td>\n",
       "      <td>дополнительное образование</td>\n",
       "    </tr>\n",
       "    <tr>\n",
       "      <th>4</th>\n",
       "      <td>0</td>\n",
       "      <td>340266.072047</td>\n",
       "      <td>53</td>\n",
       "      <td>среднее</td>\n",
       "      <td>1</td>\n",
       "      <td>гражданский брак</td>\n",
       "      <td>1</td>\n",
       "      <td>F</td>\n",
       "      <td>пенсионер</td>\n",
       "      <td>0</td>\n",
       "      <td>158616.077870</td>\n",
       "      <td>сыграть свадьбу</td>\n",
       "    </tr>\n",
       "    <tr>\n",
       "      <th>5</th>\n",
       "      <td>0</td>\n",
       "      <td>-926.185831</td>\n",
       "      <td>27</td>\n",
       "      <td>высшее</td>\n",
       "      <td>0</td>\n",
       "      <td>гражданский брак</td>\n",
       "      <td>1</td>\n",
       "      <td>M</td>\n",
       "      <td>компаньон</td>\n",
       "      <td>0</td>\n",
       "      <td>255763.565419</td>\n",
       "      <td>покупка жилья</td>\n",
       "    </tr>\n",
       "    <tr>\n",
       "      <th>6</th>\n",
       "      <td>0</td>\n",
       "      <td>-2879.202052</td>\n",
       "      <td>43</td>\n",
       "      <td>высшее</td>\n",
       "      <td>0</td>\n",
       "      <td>женат / замужем</td>\n",
       "      <td>0</td>\n",
       "      <td>F</td>\n",
       "      <td>компаньон</td>\n",
       "      <td>0</td>\n",
       "      <td>240525.971920</td>\n",
       "      <td>операции с жильем</td>\n",
       "    </tr>\n",
       "    <tr>\n",
       "      <th>7</th>\n",
       "      <td>0</td>\n",
       "      <td>-152.779569</td>\n",
       "      <td>50</td>\n",
       "      <td>СРЕДНЕЕ</td>\n",
       "      <td>1</td>\n",
       "      <td>женат / замужем</td>\n",
       "      <td>0</td>\n",
       "      <td>M</td>\n",
       "      <td>сотрудник</td>\n",
       "      <td>0</td>\n",
       "      <td>135823.934197</td>\n",
       "      <td>образование</td>\n",
       "    </tr>\n",
       "    <tr>\n",
       "      <th>8</th>\n",
       "      <td>2</td>\n",
       "      <td>-6929.865299</td>\n",
       "      <td>35</td>\n",
       "      <td>ВЫСШЕЕ</td>\n",
       "      <td>0</td>\n",
       "      <td>гражданский брак</td>\n",
       "      <td>1</td>\n",
       "      <td>F</td>\n",
       "      <td>сотрудник</td>\n",
       "      <td>0</td>\n",
       "      <td>95856.832424</td>\n",
       "      <td>на проведение свадьбы</td>\n",
       "    </tr>\n",
       "    <tr>\n",
       "      <th>9</th>\n",
       "      <td>0</td>\n",
       "      <td>-2188.756445</td>\n",
       "      <td>41</td>\n",
       "      <td>среднее</td>\n",
       "      <td>1</td>\n",
       "      <td>женат / замужем</td>\n",
       "      <td>0</td>\n",
       "      <td>M</td>\n",
       "      <td>сотрудник</td>\n",
       "      <td>0</td>\n",
       "      <td>144425.938277</td>\n",
       "      <td>покупка жилья для семьи</td>\n",
       "    </tr>\n",
       "    <tr>\n",
       "      <th>10</th>\n",
       "      <td>2</td>\n",
       "      <td>-4171.483647</td>\n",
       "      <td>36</td>\n",
       "      <td>высшее</td>\n",
       "      <td>0</td>\n",
       "      <td>женат / замужем</td>\n",
       "      <td>0</td>\n",
       "      <td>M</td>\n",
       "      <td>компаньон</td>\n",
       "      <td>0</td>\n",
       "      <td>113943.491460</td>\n",
       "      <td>покупка недвижимости</td>\n",
       "    </tr>\n",
       "    <tr>\n",
       "      <th>11</th>\n",
       "      <td>0</td>\n",
       "      <td>-792.701887</td>\n",
       "      <td>40</td>\n",
       "      <td>среднее</td>\n",
       "      <td>1</td>\n",
       "      <td>женат / замужем</td>\n",
       "      <td>0</td>\n",
       "      <td>F</td>\n",
       "      <td>сотрудник</td>\n",
       "      <td>0</td>\n",
       "      <td>77069.234271</td>\n",
       "      <td>покупка коммерческой недвижимости</td>\n",
       "    </tr>\n",
       "    <tr>\n",
       "      <th>12</th>\n",
       "      <td>0</td>\n",
       "      <td>NaN</td>\n",
       "      <td>65</td>\n",
       "      <td>среднее</td>\n",
       "      <td>1</td>\n",
       "      <td>гражданский брак</td>\n",
       "      <td>1</td>\n",
       "      <td>M</td>\n",
       "      <td>пенсионер</td>\n",
       "      <td>0</td>\n",
       "      <td>NaN</td>\n",
       "      <td>сыграть свадьбу</td>\n",
       "    </tr>\n",
       "    <tr>\n",
       "      <th>13</th>\n",
       "      <td>0</td>\n",
       "      <td>-1846.641941</td>\n",
       "      <td>54</td>\n",
       "      <td>неоконченное высшее</td>\n",
       "      <td>2</td>\n",
       "      <td>женат / замужем</td>\n",
       "      <td>0</td>\n",
       "      <td>F</td>\n",
       "      <td>сотрудник</td>\n",
       "      <td>0</td>\n",
       "      <td>130458.228857</td>\n",
       "      <td>приобретение автомобиля</td>\n",
       "    </tr>\n",
       "    <tr>\n",
       "      <th>14</th>\n",
       "      <td>0</td>\n",
       "      <td>-1844.956182</td>\n",
       "      <td>56</td>\n",
       "      <td>высшее</td>\n",
       "      <td>0</td>\n",
       "      <td>гражданский брак</td>\n",
       "      <td>1</td>\n",
       "      <td>F</td>\n",
       "      <td>компаньон</td>\n",
       "      <td>1</td>\n",
       "      <td>165127.911772</td>\n",
       "      <td>покупка жилой недвижимости</td>\n",
       "    </tr>\n",
       "    <tr>\n",
       "      <th>15</th>\n",
       "      <td>1</td>\n",
       "      <td>-972.364419</td>\n",
       "      <td>26</td>\n",
       "      <td>среднее</td>\n",
       "      <td>1</td>\n",
       "      <td>женат / замужем</td>\n",
       "      <td>0</td>\n",
       "      <td>F</td>\n",
       "      <td>сотрудник</td>\n",
       "      <td>0</td>\n",
       "      <td>116820.904450</td>\n",
       "      <td>строительство собственной недвижимости</td>\n",
       "    </tr>\n",
       "    <tr>\n",
       "      <th>16</th>\n",
       "      <td>0</td>\n",
       "      <td>-1719.934226</td>\n",
       "      <td>35</td>\n",
       "      <td>среднее</td>\n",
       "      <td>1</td>\n",
       "      <td>женат / замужем</td>\n",
       "      <td>0</td>\n",
       "      <td>F</td>\n",
       "      <td>сотрудник</td>\n",
       "      <td>0</td>\n",
       "      <td>289202.704229</td>\n",
       "      <td>недвижимость</td>\n",
       "    </tr>\n",
       "    <tr>\n",
       "      <th>17</th>\n",
       "      <td>0</td>\n",
       "      <td>-2369.999720</td>\n",
       "      <td>33</td>\n",
       "      <td>высшее</td>\n",
       "      <td>0</td>\n",
       "      <td>гражданский брак</td>\n",
       "      <td>1</td>\n",
       "      <td>M</td>\n",
       "      <td>сотрудник</td>\n",
       "      <td>0</td>\n",
       "      <td>90410.586745</td>\n",
       "      <td>строительство недвижимости</td>\n",
       "    </tr>\n",
       "    <tr>\n",
       "      <th>18</th>\n",
       "      <td>0</td>\n",
       "      <td>400281.136913</td>\n",
       "      <td>53</td>\n",
       "      <td>среднее</td>\n",
       "      <td>1</td>\n",
       "      <td>вдовец / вдова</td>\n",
       "      <td>2</td>\n",
       "      <td>F</td>\n",
       "      <td>пенсионер</td>\n",
       "      <td>0</td>\n",
       "      <td>56823.777243</td>\n",
       "      <td>на покупку подержанного автомобиля</td>\n",
       "    </tr>\n",
       "    <tr>\n",
       "      <th>19</th>\n",
       "      <td>0</td>\n",
       "      <td>-10038.818549</td>\n",
       "      <td>48</td>\n",
       "      <td>СРЕДНЕЕ</td>\n",
       "      <td>1</td>\n",
       "      <td>в разводе</td>\n",
       "      <td>3</td>\n",
       "      <td>F</td>\n",
       "      <td>сотрудник</td>\n",
       "      <td>0</td>\n",
       "      <td>242831.107982</td>\n",
       "      <td>на покупку своего автомобиля</td>\n",
       "    </tr>\n",
       "  </tbody>\n",
       "</table>\n",
       "</div>"
      ],
      "text/plain": [
       "    children  days_employed  dob_years            education  education_id  \\\n",
       "0          1   -8437.673028         42               высшее             0   \n",
       "1          1   -4024.803754         36              среднее             1   \n",
       "2          0   -5623.422610         33              Среднее             1   \n",
       "3          3   -4124.747207         32              среднее             1   \n",
       "4          0  340266.072047         53              среднее             1   \n",
       "5          0    -926.185831         27               высшее             0   \n",
       "6          0   -2879.202052         43               высшее             0   \n",
       "7          0    -152.779569         50              СРЕДНЕЕ             1   \n",
       "8          2   -6929.865299         35               ВЫСШЕЕ             0   \n",
       "9          0   -2188.756445         41              среднее             1   \n",
       "10         2   -4171.483647         36               высшее             0   \n",
       "11         0    -792.701887         40              среднее             1   \n",
       "12         0            NaN         65              среднее             1   \n",
       "13         0   -1846.641941         54  неоконченное высшее             2   \n",
       "14         0   -1844.956182         56               высшее             0   \n",
       "15         1    -972.364419         26              среднее             1   \n",
       "16         0   -1719.934226         35              среднее             1   \n",
       "17         0   -2369.999720         33               высшее             0   \n",
       "18         0  400281.136913         53              среднее             1   \n",
       "19         0  -10038.818549         48              СРЕДНЕЕ             1   \n",
       "\n",
       "       family_status  family_status_id gender income_type  debt  \\\n",
       "0    женат / замужем                 0      F   сотрудник     0   \n",
       "1    женат / замужем                 0      F   сотрудник     0   \n",
       "2    женат / замужем                 0      M   сотрудник     0   \n",
       "3    женат / замужем                 0      M   сотрудник     0   \n",
       "4   гражданский брак                 1      F   пенсионер     0   \n",
       "5   гражданский брак                 1      M   компаньон     0   \n",
       "6    женат / замужем                 0      F   компаньон     0   \n",
       "7    женат / замужем                 0      M   сотрудник     0   \n",
       "8   гражданский брак                 1      F   сотрудник     0   \n",
       "9    женат / замужем                 0      M   сотрудник     0   \n",
       "10   женат / замужем                 0      M   компаньон     0   \n",
       "11   женат / замужем                 0      F   сотрудник     0   \n",
       "12  гражданский брак                 1      M   пенсионер     0   \n",
       "13   женат / замужем                 0      F   сотрудник     0   \n",
       "14  гражданский брак                 1      F   компаньон     1   \n",
       "15   женат / замужем                 0      F   сотрудник     0   \n",
       "16   женат / замужем                 0      F   сотрудник     0   \n",
       "17  гражданский брак                 1      M   сотрудник     0   \n",
       "18    вдовец / вдова                 2      F   пенсионер     0   \n",
       "19         в разводе                 3      F   сотрудник     0   \n",
       "\n",
       "     total_income                                 purpose  \n",
       "0   253875.639453                           покупка жилья  \n",
       "1   112080.014102                 приобретение автомобиля  \n",
       "2   145885.952297                           покупка жилья  \n",
       "3   267628.550329              дополнительное образование  \n",
       "4   158616.077870                         сыграть свадьбу  \n",
       "5   255763.565419                           покупка жилья  \n",
       "6   240525.971920                       операции с жильем  \n",
       "7   135823.934197                             образование  \n",
       "8    95856.832424                   на проведение свадьбы  \n",
       "9   144425.938277                 покупка жилья для семьи  \n",
       "10  113943.491460                    покупка недвижимости  \n",
       "11   77069.234271       покупка коммерческой недвижимости  \n",
       "12            NaN                         сыграть свадьбу  \n",
       "13  130458.228857                 приобретение автомобиля  \n",
       "14  165127.911772              покупка жилой недвижимости  \n",
       "15  116820.904450  строительство собственной недвижимости  \n",
       "16  289202.704229                            недвижимость  \n",
       "17   90410.586745              строительство недвижимости  \n",
       "18   56823.777243      на покупку подержанного автомобиля  \n",
       "19  242831.107982            на покупку своего автомобиля  "
      ]
     },
     "execution_count": 2,
     "metadata": {},
     "output_type": "execute_result"
    }
   ],
   "source": [
    "data.head(20)"
   ]
  },
  {
   "cell_type": "markdown",
   "id": "fc113439",
   "metadata": {
    "deletable": false,
    "editable": false,
    "id": "1c12e233"
   },
   "source": [
    "**Задание 3. Выведите основную информацию о датафрейме с помощью метода `info()`.**"
   ]
  },
  {
   "cell_type": "code",
   "execution_count": 3,
   "id": "e582a6ce",
   "metadata": {
    "deletable": false,
    "id": "2b757bca",
    "outputId": "15376089-8dad-46c9-b520-c05248d43158"
   },
   "outputs": [
    {
     "name": "stdout",
     "output_type": "stream",
     "text": [
      "<class 'pandas.core.frame.DataFrame'>\n",
      "RangeIndex: 21525 entries, 0 to 21524\n",
      "Data columns (total 12 columns):\n",
      " #   Column            Non-Null Count  Dtype  \n",
      "---  ------            --------------  -----  \n",
      " 0   children          21525 non-null  int64  \n",
      " 1   days_employed     19351 non-null  float64\n",
      " 2   dob_years         21525 non-null  int64  \n",
      " 3   education         21525 non-null  object \n",
      " 4   education_id      21525 non-null  int64  \n",
      " 5   family_status     21525 non-null  object \n",
      " 6   family_status_id  21525 non-null  int64  \n",
      " 7   gender            21525 non-null  object \n",
      " 8   income_type       21525 non-null  object \n",
      " 9   debt              21525 non-null  int64  \n",
      " 10  total_income      19351 non-null  float64\n",
      " 11  purpose           21525 non-null  object \n",
      "dtypes: float64(2), int64(5), object(5)\n",
      "memory usage: 2.0+ MB\n"
     ]
    }
   ],
   "source": [
    "data.info()"
   ]
  },
  {
   "cell_type": "markdown",
   "id": "13307ccf",
   "metadata": {
    "deletable": false,
    "editable": false,
    "id": "333ec665"
   },
   "source": [
    "## Предобработка данных"
   ]
  },
  {
   "cell_type": "markdown",
   "id": "ec0e8e28",
   "metadata": {
    "deletable": false,
    "editable": false,
    "id": "02d92d53"
   },
   "source": [
    "### Удаление пропусков"
   ]
  },
  {
   "cell_type": "markdown",
   "id": "3392c841",
   "metadata": {
    "deletable": false,
    "editable": false,
    "id": "cd84967c"
   },
   "source": [
    "**Задание 4. Выведите количество пропущенных значений для каждого столбца. Используйте комбинацию двух методов.**"
   ]
  },
  {
   "cell_type": "code",
   "execution_count": 4,
   "id": "ab9d3fc2",
   "metadata": {
    "deletable": false,
    "id": "7f9b2309",
    "outputId": "81f4d817-781c-465c-ed15-91ce4446810d"
   },
   "outputs": [
    {
     "data": {
      "text/plain": [
       "children               0\n",
       "days_employed       2174\n",
       "dob_years              0\n",
       "education              0\n",
       "education_id           0\n",
       "family_status          0\n",
       "family_status_id       0\n",
       "gender                 0\n",
       "income_type            0\n",
       "debt                   0\n",
       "total_income        2174\n",
       "purpose                0\n",
       "dtype: int64"
      ]
     },
     "execution_count": 4,
     "metadata": {},
     "output_type": "execute_result"
    }
   ],
   "source": [
    "data.isna().sum()"
   ]
  },
  {
   "cell_type": "markdown",
   "id": "a535a101",
   "metadata": {
    "deletable": false,
    "editable": false,
    "id": "db86e27b"
   },
   "source": [
    "**Задание 5. В двух столбцах есть пропущенные значения. Один из них — `days_employed`. Пропуски в этом столбце вы обработаете на следующем этапе. Другой столбец с пропущенными значениями — `total_income` — хранит данные о доходах. На сумму дохода сильнее всего влияет тип занятости, поэтому заполнить пропуски в этом столбце нужно медианным значением по каждому типу из столбца `income_type`. Например, у человека с типом занятости `сотрудник` пропуск в столбце `total_income` должен быть заполнен медианным доходом среди всех записей с тем же типом.**"
   ]
  },
  {
   "cell_type": "code",
   "execution_count": 5,
   "id": "316cd062",
   "metadata": {
    "deletable": false,
    "id": "dc3f7ee8",
    "scrolled": true
   },
   "outputs": [
    {
     "name": "stdout",
     "output_type": "stream",
     "text": [
      "['пенсионер' 'госслужащий' 'компаньон' 'сотрудник' 'предприниматель']\n"
     ]
    }
   ],
   "source": [
    "# Перед заполнением пропуска - попытаемся определить по какой причине они возникли\n",
    "print(data[data['days_employed'].isna()]['income_type'].unique())"
   ]
  },
  {
   "cell_type": "code",
   "execution_count": 6,
   "id": "39da7d05",
   "metadata": {
    "deletable": false,
    "id": "42006a93"
   },
   "outputs": [],
   "source": [
    "for t in data['income_type'].unique():\n",
    "    data.loc[(data['income_type'] == t) & (data['total_income'].isna()), 'total_income'] = \\\n",
    "    data.loc[(data['income_type'] == t), 'total_income'].median()"
   ]
  },
  {
   "cell_type": "markdown",
   "id": "8420b630",
   "metadata": {
    "deletable": false,
    "editable": false,
    "id": "89da5ece"
   },
   "source": [
    "### Обработка аномальных значений"
   ]
  },
  {
   "cell_type": "markdown",
   "id": "7c6c6865",
   "metadata": {
    "deletable": false,
    "editable": false,
    "id": "57964554"
   },
   "source": [
    "**Задание 6. В данных могут встречаться артефакты (аномалии) — значения, которые не отражают действительность и появились по какой-то ошибке. таким артефактом будет отрицательное количество дней трудового стажа в столбце `days_employed`. Для реальных данных это нормально. Обработайте значения в этом столбце: замените все отрицательные значения положительными с помощью метода `abs()`.**"
   ]
  },
  {
   "cell_type": "code",
   "execution_count": 7,
   "id": "a77ffd3a",
   "metadata": {
    "deletable": false,
    "id": "f6f055bf"
   },
   "outputs": [],
   "source": [
    "data['days_employed'] = data['days_employed'].abs()"
   ]
  },
  {
   "cell_type": "markdown",
   "id": "c8945d4f",
   "metadata": {
    "deletable": false,
    "editable": false,
    "id": "6107dd2f"
   },
   "source": [
    "**Задание 7. Для каждого типа занятости выведите медианное значение трудового стажа `days_employed` в днях.**"
   ]
  },
  {
   "cell_type": "code",
   "execution_count": 8,
   "id": "6584e6fb",
   "metadata": {
    "deletable": false,
    "id": "85a5faf6",
    "outputId": "801ef80e-522b-4668-f34e-565af7432bcf"
   },
   "outputs": [
    {
     "data": {
      "text/plain": [
       "income_type\n",
       "безработный        366413.652744\n",
       "в декрете            3296.759962\n",
       "госслужащий          2689.368353\n",
       "компаньон            1547.382223\n",
       "пенсионер          365213.306266\n",
       "предприниматель       520.848083\n",
       "сотрудник            1574.202821\n",
       "студент               578.751554\n",
       "Name: days_employed, dtype: float64"
      ]
     },
     "execution_count": 8,
     "metadata": {},
     "output_type": "execute_result"
    }
   ],
   "source": [
    "data.groupby('income_type')['days_employed'].agg('median')"
   ]
  },
  {
   "cell_type": "markdown",
   "id": "6f181a04",
   "metadata": {
    "deletable": false,
    "editable": false,
    "id": "38d1a030"
   },
   "source": [
    "У двух типов (безработные и пенсионеры) получатся аномально большие значения. Исправить такие значения сложно, поэтому оставьте их как есть. Тем более этот столбец не понадобится вам для исследования."
   ]
  },
  {
   "cell_type": "markdown",
   "id": "608ddc9c",
   "metadata": {
    "deletable": false,
    "editable": false,
    "id": "d8a9f147"
   },
   "source": [
    "**Задание 8. Выведите перечень уникальных значений столбца `children`.**"
   ]
  },
  {
   "cell_type": "code",
   "execution_count": 9,
   "id": "0f127179",
   "metadata": {
    "deletable": false,
    "id": "ef5056eb",
    "outputId": "6975b15c-7f95-4697-d16d-a0c79b657b03"
   },
   "outputs": [
    {
     "data": {
      "text/plain": [
       "array([ 1,  0,  3,  2, -1,  4, 20,  5])"
      ]
     },
     "execution_count": 9,
     "metadata": {},
     "output_type": "execute_result"
    }
   ],
   "source": [
    "data['children'].unique()"
   ]
  },
  {
   "cell_type": "markdown",
   "id": "02553baa",
   "metadata": {
    "deletable": false,
    "editable": false,
    "id": "40b9ebf2"
   },
   "source": [
    "**Задание 9. В столбце `children` есть два аномальных значения. Удалите строки, в которых встречаются такие аномальные значения из датафрейма `data`.**"
   ]
  },
  {
   "cell_type": "code",
   "execution_count": 10,
   "id": "ff1e739d",
   "metadata": {
    "deletable": false,
    "id": "3ff9801d"
   },
   "outputs": [],
   "source": [
    "data = data[(data['children'] != -1) & (data['children'] != 20)]"
   ]
  },
  {
   "cell_type": "markdown",
   "id": "de35237c",
   "metadata": {
    "deletable": false,
    "editable": false,
    "id": "bbc4d0ce"
   },
   "source": [
    "**Задание 10. Ещё раз выведите перечень уникальных значений столбца `children`, чтобы убедиться, что артефакты удалены.**"
   ]
  },
  {
   "cell_type": "code",
   "execution_count": 11,
   "id": "7a154095",
   "metadata": {
    "deletable": false,
    "id": "ad4fa8b7",
    "outputId": "b2097101-d49d-44d9-901b-32a65c9463d1"
   },
   "outputs": [
    {
     "data": {
      "text/plain": [
       "array([1, 0, 3, 2, 4, 5])"
      ]
     },
     "execution_count": 11,
     "metadata": {},
     "output_type": "execute_result"
    }
   ],
   "source": [
    "data['children'].unique()"
   ]
  },
  {
   "cell_type": "markdown",
   "id": "6038be24",
   "metadata": {
    "deletable": false,
    "editable": false,
    "id": "75440b63"
   },
   "source": [
    "### Удаление пропусков (продолжение)"
   ]
  },
  {
   "cell_type": "markdown",
   "id": "6cce90b2",
   "metadata": {
    "deletable": false,
    "editable": false,
    "id": "f4ea573f"
   },
   "source": [
    "**Задание 11. Заполните пропуски в столбце `days_employed` медианными значениями по каждого типа занятости `income_type`.**"
   ]
  },
  {
   "cell_type": "code",
   "execution_count": 12,
   "id": "746a8543",
   "metadata": {
    "deletable": false,
    "id": "af6b1a7e"
   },
   "outputs": [],
   "source": [
    "for t in data['income_type'].unique():\n",
    "    data.loc[(data['income_type'] == t) & (data['days_employed'].isna()), 'days_employed'] = \\\n",
    "    data.loc[(data['income_type'] == t), 'days_employed'].median()"
   ]
  },
  {
   "cell_type": "markdown",
   "id": "dd714af5",
   "metadata": {
    "deletable": false,
    "editable": false,
    "id": "2753f40d"
   },
   "source": [
    "**Задание 12. Убедитесь, что все пропуски заполнены. Проверьте себя и ещё раз выведите количество пропущенных значений для каждого столбца с помощью двух методов.**"
   ]
  },
  {
   "cell_type": "code",
   "execution_count": 13,
   "id": "29acb65f",
   "metadata": {
    "deletable": false,
    "id": "55f78bc2",
    "outputId": "8da1e4e1-358e-4e87-98c9-f261bce0a7b2"
   },
   "outputs": [
    {
     "data": {
      "text/plain": [
       "children            0\n",
       "days_employed       0\n",
       "dob_years           0\n",
       "education           0\n",
       "education_id        0\n",
       "family_status       0\n",
       "family_status_id    0\n",
       "gender              0\n",
       "income_type         0\n",
       "debt                0\n",
       "total_income        0\n",
       "purpose             0\n",
       "dtype: int64"
      ]
     },
     "execution_count": 13,
     "metadata": {},
     "output_type": "execute_result"
    }
   ],
   "source": [
    "data.isna().sum()"
   ]
  },
  {
   "cell_type": "markdown",
   "id": "c99c18ba",
   "metadata": {
    "deletable": false,
    "editable": false,
    "id": "ddc81e43"
   },
   "source": [
    "### Изменение типов данных"
   ]
  },
  {
   "cell_type": "markdown",
   "id": "8b6117e4",
   "metadata": {
    "deletable": false,
    "editable": false,
    "id": "42d19d24"
   },
   "source": [
    "**Задание 13. Замените вещественный тип данных в столбце `total_income` на целочисленный с помощью метода `astype()`.**"
   ]
  },
  {
   "cell_type": "code",
   "execution_count": 14,
   "id": "d9992a16",
   "metadata": {
    "deletable": false,
    "id": "920b65ad"
   },
   "outputs": [],
   "source": [
    "data['total_income'] = data['total_income'].astype(int)"
   ]
  },
  {
   "cell_type": "markdown",
   "id": "a934518f",
   "metadata": {
    "deletable": false,
    "editable": false,
    "id": "80c420ba"
   },
   "source": [
    "### Обработка дубликатов"
   ]
  },
  {
   "cell_type": "markdown",
   "id": "a82c0863",
   "metadata": {
    "deletable": false,
    "editable": false
   },
   "source": [
    "**Задание 14. Обработайте неявные дубликаты в столбце `education`. В этом столбце есть одни и те же значения, но записанные по-разному: с использованием заглавных и строчных букв. Приведите их к нижнему регистру. Проверьте остальные столбцы.**"
   ]
  },
  {
   "cell_type": "code",
   "execution_count": 15,
   "id": "3a589d77",
   "metadata": {
    "deletable": false
   },
   "outputs": [],
   "source": [
    "data['education'] = data['education'].str.lower()"
   ]
  },
  {
   "cell_type": "markdown",
   "id": "f2192d05",
   "metadata": {
    "deletable": false,
    "editable": false,
    "id": "dc587695"
   },
   "source": [
    "**Задание 15. Выведите на экран количество строк-дубликатов в данных. Если такие строки присутствуют, удалите их.**"
   ]
  },
  {
   "cell_type": "code",
   "execution_count": 16,
   "id": "4833abc1",
   "metadata": {
    "deletable": false,
    "id": "3ee445e4",
    "outputId": "9684deba-1934-42d1-99e1-cda61740f822"
   },
   "outputs": [
    {
     "data": {
      "text/plain": [
       "71"
      ]
     },
     "execution_count": 16,
     "metadata": {},
     "output_type": "execute_result"
    }
   ],
   "source": [
    "data.duplicated().sum()"
   ]
  },
  {
   "cell_type": "code",
   "execution_count": 17,
   "id": "00f1d958",
   "metadata": {
    "deletable": false,
    "id": "8575fe05"
   },
   "outputs": [],
   "source": [
    "data = data.drop_duplicates()"
   ]
  },
  {
   "cell_type": "markdown",
   "id": "e98d4179",
   "metadata": {
    "deletable": false,
    "editable": false,
    "id": "9904cf55"
   },
   "source": [
    "### Категоризация данных"
   ]
  },
  {
   "cell_type": "markdown",
   "id": "21bd286a",
   "metadata": {
    "deletable": false,
    "editable": false,
    "id": "72fcc8a2"
   },
   "source": [
    "**Задание 16. На основании диапазонов, указанных ниже, создайте в датафрейме `data` столбец `total_income_category` с категориями:**\n",
    "\n",
    "- 0–30000 — `'E'`;\n",
    "- 30001–50000 — `'D'`;\n",
    "- 50001–200000 — `'C'`;\n",
    "- 200001–1000000 — `'B'`;\n",
    "- 1000001 и выше — `'A'`.\n",
    "\n",
    "\n",
    "**Например, кредитополучателю с доходом 25000 нужно назначить категорию `'E'`, а клиенту, получающему 235000, — `'B'`. Используйте собственную функцию с именем `categorize_income()` и метод `apply()`.**"
   ]
  },
  {
   "cell_type": "code",
   "execution_count": 18,
   "id": "c1a7aa55",
   "metadata": {
    "deletable": false,
    "id": "e1771346"
   },
   "outputs": [],
   "source": [
    "def categorize_income(income):\n",
    "    try:\n",
    "        if 0 <= income <= 30000:\n",
    "            return 'E'\n",
    "        elif 30001 <= income <= 50000:\n",
    "            return 'D'\n",
    "        elif 50001 <= income <= 200000:\n",
    "            return 'C'\n",
    "        elif 200001 <= income <= 1000000:\n",
    "            return 'B'\n",
    "        elif income >= 1000001:\n",
    "            return 'A'\n",
    "    except:\n",
    "        pass"
   ]
  },
  {
   "cell_type": "code",
   "execution_count": 19,
   "id": "43bf9320",
   "metadata": {
    "deletable": false,
    "id": "d5f3586d"
   },
   "outputs": [],
   "source": [
    "data['total_income_category'] = data['total_income'].apply(categorize_income)"
   ]
  },
  {
   "cell_type": "markdown",
   "id": "5df5613e",
   "metadata": {
    "deletable": false,
    "editable": false,
    "id": "dde49b5c"
   },
   "source": [
    "**Задание 17. Выведите на экран перечень уникальных целей взятия кредита из столбца `purpose`.**"
   ]
  },
  {
   "cell_type": "code",
   "execution_count": 20,
   "id": "7ac82c88",
   "metadata": {
    "deletable": false,
    "id": "f67ce9b3",
    "outputId": "673c12d9-7d7e-4ae0-9812-c622c89dd244"
   },
   "outputs": [
    {
     "data": {
      "text/plain": [
       "array(['покупка жилья', 'приобретение автомобиля',\n",
       "       'дополнительное образование', 'сыграть свадьбу',\n",
       "       'операции с жильем', 'образование', 'на проведение свадьбы',\n",
       "       'покупка жилья для семьи', 'покупка недвижимости',\n",
       "       'покупка коммерческой недвижимости', 'покупка жилой недвижимости',\n",
       "       'строительство собственной недвижимости', 'недвижимость',\n",
       "       'строительство недвижимости', 'на покупку подержанного автомобиля',\n",
       "       'на покупку своего автомобиля',\n",
       "       'операции с коммерческой недвижимостью',\n",
       "       'строительство жилой недвижимости', 'жилье',\n",
       "       'операции со своей недвижимостью', 'автомобили',\n",
       "       'заняться образованием', 'сделка с подержанным автомобилем',\n",
       "       'получение образования', 'автомобиль', 'свадьба',\n",
       "       'получение дополнительного образования', 'покупка своего жилья',\n",
       "       'операции с недвижимостью', 'получение высшего образования',\n",
       "       'свой автомобиль', 'сделка с автомобилем',\n",
       "       'профильное образование', 'высшее образование',\n",
       "       'покупка жилья для сдачи', 'на покупку автомобиля', 'ремонт жилью',\n",
       "       'заняться высшим образованием'], dtype=object)"
      ]
     },
     "execution_count": 20,
     "metadata": {},
     "output_type": "execute_result"
    }
   ],
   "source": [
    "data['purpose'].unique()"
   ]
  },
  {
   "cell_type": "markdown",
   "id": "d170bcb4",
   "metadata": {
    "deletable": false,
    "editable": false,
    "id": "85d0aef0"
   },
   "source": [
    "**Задание 18. Создайте функцию, которая на основании данных из столбца `purpose` сформирует новый столбец `purpose_category`, в который войдут следующие категории:**\n",
    "\n",
    "- `'операции с автомобилем'`,\n",
    "- `'операции с недвижимостью'`,\n",
    "- `'проведение свадьбы'`,\n",
    "- `'получение образования'`.\n",
    "\n",
    "**Например, если в столбце `purpose` находится подстрока `'на покупку автомобиля'`, то в столбце `purpose_category` должна появиться строка `'операции с автомобилем'`.**\n",
    "\n",
    "**Используйте собственную функцию с именем `categorize_purpose()` и метод `apply()`. Изучите данные в столбце `purpose` и определите, какие подстроки помогут вам правильно определить категорию.**"
   ]
  },
  {
   "cell_type": "code",
   "execution_count": 21,
   "id": "162dbc86",
   "metadata": {
    "deletable": false,
    "id": "e149fab4"
   },
   "outputs": [],
   "source": [
    "def categorize_purpose(row):\n",
    "    try:\n",
    "        if 'автом' in row:\n",
    "            return 'операции с автомобилем'\n",
    "        elif 'жил' in row or 'недвиж' in row:\n",
    "            return 'операции с недвижимостью'\n",
    "        elif 'свад' in row:\n",
    "            return 'проведение свадьбы'\n",
    "        elif 'образов' in row:\n",
    "            return 'получение образования'\n",
    "    except:\n",
    "        return 'нет категории'"
   ]
  },
  {
   "cell_type": "code",
   "execution_count": 22,
   "id": "bec823a3",
   "metadata": {
    "deletable": false,
    "id": "bf36e69b"
   },
   "outputs": [],
   "source": [
    "data['purpose_category'] = data['purpose'].apply(categorize_purpose)"
   ]
  },
  {
   "cell_type": "markdown",
   "id": "5a9dd10a",
   "metadata": {
    "deletable": false,
    "editable": false,
    "id": "09b242bf"
   },
   "source": [
    "### Шаг 3. Исследуйте данные и ответьте на вопросы"
   ]
  },
  {
   "cell_type": "markdown",
   "id": "9e40e873",
   "metadata": {
    "deletable": false,
    "editable": false,
    "id": "c5d66278"
   },
   "source": [
    "#### 3.1 Есть ли зависимость между количеством детей и возвратом кредита в срок?"
   ]
  },
  {
   "cell_type": "code",
   "execution_count": 23,
   "id": "54025bf4",
   "metadata": {
    "deletable": false,
    "id": "2cacfc4a"
   },
   "outputs": [
    {
     "name": "stdout",
     "output_type": "stream",
     "text": [
      "debt            0       1\n",
      "children                 \n",
      "0         13028.0  1063.0\n",
      "1          4364.0   444.0\n",
      "2          1858.0   194.0\n",
      "3           303.0    27.0\n",
      "4            37.0     4.0\n",
      "5             9.0     NaN\n"
     ]
    }
   ],
   "source": [
    "# Сформируем сводную таблицу \"количество детей / задолденность\"\n",
    "debt_children = data.pivot_table(index=['children'], columns='debt', values='dob_years', aggfunc='count')\n",
    "print(debt_children)"
   ]
  },
  {
   "cell_type": "code",
   "execution_count": 24,
   "id": "6662d4d6",
   "metadata": {},
   "outputs": [],
   "source": [
    "# Функция расчёта процента должников к общему количеству заёмщиков\n",
    "def percent_count(row):\n",
    "    return round(row[1] * 100 / (row[0] + row[1]),2)"
   ]
  },
  {
   "cell_type": "code",
   "execution_count": 25,
   "id": "b62201b8",
   "metadata": {},
   "outputs": [
    {
     "name": "stdout",
     "output_type": "stream",
     "text": [
      "debt            0       1  percent\n",
      "children                          \n",
      "0         13028.0  1063.0     7.54\n",
      "1          4364.0   444.0     9.23\n",
      "2          1858.0   194.0     9.45\n",
      "3           303.0    27.0     8.18\n",
      "4            37.0     4.0     9.76\n",
      "5             9.0     NaN      NaN\n"
     ]
    }
   ],
   "source": [
    "# Применим функцию, выведем результат\n",
    "debt_children['percent'] = debt_children.apply(percent_count, axis=1)\n",
    "print(debt_children)"
   ]
  },
  {
   "cell_type": "code",
   "execution_count": 33,
   "id": "b09e8252",
   "metadata": {},
   "outputs": [
    {
     "data": {
      "text/html": [
       "<div>\n",
       "<style scoped>\n",
       "    .dataframe tbody tr th:only-of-type {\n",
       "        vertical-align: middle;\n",
       "    }\n",
       "\n",
       "    .dataframe tbody tr th {\n",
       "        vertical-align: top;\n",
       "    }\n",
       "\n",
       "    .dataframe thead tr th {\n",
       "        text-align: left;\n",
       "    }\n",
       "\n",
       "    .dataframe thead tr:last-of-type th {\n",
       "        text-align: right;\n",
       "    }\n",
       "</style>\n",
       "<table border=\"1\" class=\"dataframe\">\n",
       "  <thead>\n",
       "    <tr>\n",
       "      <th></th>\n",
       "      <th>count</th>\n",
       "      <th>sum</th>\n",
       "      <th>mean</th>\n",
       "    </tr>\n",
       "    <tr>\n",
       "      <th></th>\n",
       "      <th>debt</th>\n",
       "      <th>debt</th>\n",
       "      <th>debt</th>\n",
       "    </tr>\n",
       "    <tr>\n",
       "      <th>children</th>\n",
       "      <th></th>\n",
       "      <th></th>\n",
       "      <th></th>\n",
       "    </tr>\n",
       "  </thead>\n",
       "  <tbody>\n",
       "    <tr>\n",
       "      <th>0</th>\n",
       "      <td>14091</td>\n",
       "      <td>1063</td>\n",
       "      <td>0.075438</td>\n",
       "    </tr>\n",
       "    <tr>\n",
       "      <th>1</th>\n",
       "      <td>4808</td>\n",
       "      <td>444</td>\n",
       "      <td>0.092346</td>\n",
       "    </tr>\n",
       "    <tr>\n",
       "      <th>2</th>\n",
       "      <td>2052</td>\n",
       "      <td>194</td>\n",
       "      <td>0.094542</td>\n",
       "    </tr>\n",
       "    <tr>\n",
       "      <th>3</th>\n",
       "      <td>330</td>\n",
       "      <td>27</td>\n",
       "      <td>0.081818</td>\n",
       "    </tr>\n",
       "    <tr>\n",
       "      <th>4</th>\n",
       "      <td>41</td>\n",
       "      <td>4</td>\n",
       "      <td>0.097561</td>\n",
       "    </tr>\n",
       "    <tr>\n",
       "      <th>5</th>\n",
       "      <td>9</td>\n",
       "      <td>0</td>\n",
       "      <td>0.000000</td>\n",
       "    </tr>\n",
       "  </tbody>\n",
       "</table>\n",
       "</div>"
      ],
      "text/plain": [
       "          count   sum      mean\n",
       "           debt  debt      debt\n",
       "children                       \n",
       "0         14091  1063  0.075438\n",
       "1          4808   444  0.092346\n",
       "2          2052   194  0.094542\n",
       "3           330    27  0.081818\n",
       "4            41     4  0.097561\n",
       "5             9     0  0.000000"
      ]
     },
     "execution_count": 33,
     "metadata": {},
     "output_type": "execute_result"
    }
   ],
   "source": [
    "data.pivot_table(index=['children'], values='debt', aggfunc=['count', 'sum', 'mean'])"
   ]
  },
  {
   "cell_type": "markdown",
   "id": "03b5734f",
   "metadata": {
    "deletable": false,
    "id": "3a6b99ec"
   },
   "source": [
    "**Вывод:** \n",
    "Доля должников, не имеющих детей, составляет 7,5% от общего числа заёмщиков, в то время, как доля должников с детьми 8,1...9,75%. Общая закономерность: должников с детьми в среднем на 2% больше по сравнению с должниками без детей. Исключение составляют заёмщики с тремя детьми, они более ответственны в кредитных обязательствах."
   ]
  },
  {
   "cell_type": "markdown",
   "id": "39df8b1a",
   "metadata": {
    "deletable": false,
    "editable": false,
    "id": "97be82ca"
   },
   "source": [
    "#### 3.2 Есть ли зависимость между семейным положением и возвратом кредита в срок?"
   ]
  },
  {
   "cell_type": "code",
   "execution_count": 27,
   "id": "f9c0e706",
   "metadata": {},
   "outputs": [
    {
     "name": "stdout",
     "output_type": "stream",
     "text": [
      "debt                       0    1\n",
      "family_status                    \n",
      "Не женат / не замужем   2523  273\n",
      "в разводе               1105   84\n",
      "вдовец / вдова           888   63\n",
      "гражданский брак        3749  385\n",
      "женат / замужем        11334  927\n"
     ]
    }
   ],
   "source": [
    "# Сформируем сводную таблицу \"Семейное положение / задолженность\"\n",
    "debt_family_status = data.pivot_table(index=['family_status'], columns='debt', values='dob_years', aggfunc='count')\n",
    "print(debt_family_status)"
   ]
  },
  {
   "cell_type": "code",
   "execution_count": 28,
   "id": "545b177e",
   "metadata": {},
   "outputs": [
    {
     "name": "stdout",
     "output_type": "stream",
     "text": [
      "debt                       0    1  percent\n",
      "family_status                             \n",
      "Не женат / не замужем   2523  273     9.76\n",
      "в разводе               1105   84     7.06\n",
      "вдовец / вдова           888   63     6.62\n",
      "гражданский брак        3749  385     9.31\n",
      "женат / замужем        11334  927     7.56\n"
     ]
    }
   ],
   "source": [
    "# Применим функцию расчёта процентов, выведем результат\n",
    "debt_family_status['percent'] = debt_family_status.apply(percent_count, axis=1)\n",
    "print(debt_family_status)"
   ]
  },
  {
   "cell_type": "markdown",
   "id": "5ff6f6d5",
   "metadata": {
    "deletable": false,
    "id": "1cef7837"
   },
   "source": [
    "**Вывод:** \n",
    "Из таблицы видим, что при статусе \"не женат/не за мужем\" и в статусе \"гражданский брак\" - процент дебиторки на 2,5% выше по сравнению с другими статусами. При оформлении кредита лицам из данных категорий - нужно быть крайне осторожными."
   ]
  },
  {
   "cell_type": "markdown",
   "id": "2e37c037",
   "metadata": {
    "deletable": false,
    "editable": false,
    "id": "1e8b2fca"
   },
   "source": [
    "#### 3.3 Есть ли зависимость между уровнем дохода и возвратом кредита в срок?"
   ]
  },
  {
   "cell_type": "code",
   "execution_count": 29,
   "id": "a4ff8ec4",
   "metadata": {
    "deletable": false,
    "id": "cd7e3720"
   },
   "outputs": [
    {
     "name": "stdout",
     "output_type": "stream",
     "text": [
      "debt                       0     1  percent\n",
      "total_income_category                      \n",
      "A                         23     2     8.00\n",
      "B                       4660   354     7.06\n",
      "C                      14568  1353     8.50\n",
      "D                        328    21     6.02\n",
      "E                         20     2     9.09\n"
     ]
    }
   ],
   "source": [
    "income_debt = data.pivot_table(index=['total_income_category'], columns='debt', values='dob_years', aggfunc='count')\n",
    "income_debt['percent'] = income_debt.apply(percent_count, axis=1)\n",
    "print(income_debt)"
   ]
  },
  {
   "cell_type": "markdown",
   "id": "d7cf8754",
   "metadata": {
    "deletable": false,
    "id": "e8593def"
   },
   "source": [
    "**Вывод:** Основная масса заёмщиков - в категории доходов \"С\" (от 50 до 200 тыс.руб) и \"В\" (от 200 тыс.руб. до 1млн.руб). Клиенты из категории \"В\" - на 1,5% более обязательны в выполнении своих кредитных обязательств."
   ]
  },
  {
   "cell_type": "markdown",
   "id": "2393c565",
   "metadata": {
    "deletable": false,
    "editable": false,
    "id": "99ecbd1f"
   },
   "source": [
    "#### 3.4 Как разные цели кредита влияют на его возврат в срок?"
   ]
  },
  {
   "cell_type": "code",
   "execution_count": 30,
   "id": "c4fb1bf4",
   "metadata": {
    "deletable": false,
    "id": "2b687290"
   },
   "outputs": [
    {
     "name": "stdout",
     "output_type": "stream",
     "text": [
      "debt                         0    1  percent\n",
      "purpose_category                            \n",
      "операции с автомобилем    3879  400     9.35\n",
      "операции с недвижимостью  9971  780     7.26\n",
      "получение образования     3619  369     9.25\n",
      "проведение свадьбы        2130  183     7.91\n"
     ]
    }
   ],
   "source": [
    "purpose_debt = data.pivot_table(index=['purpose_category'], columns='debt', values='dob_years', aggfunc='count')\n",
    "purpose_debt['percent'] = purpose_debt.apply(percent_count, axis=1)\n",
    "print(purpose_debt)"
   ]
  },
  {
   "cell_type": "markdown",
   "id": "407a156f",
   "metadata": {
    "deletable": false,
    "id": "b4bb2ce6"
   },
   "source": [
    "**Вывод:** самый высокий процент просроченной дебиторской задолженности - в категориях \"операции с автомобилем\" и \"получение образования\" (9,3% и 9,2% соответственно). На 2% ниже - в категории \"операции с недвижимостью\""
   ]
  },
  {
   "cell_type": "markdown",
   "id": "bfd6f386",
   "metadata": {
    "deletable": false,
    "editable": false,
    "id": "09c3ac4c"
   },
   "source": [
    "#### 3.5 Приведите возможные причины появления пропусков в исходных данных."
   ]
  },
  {
   "cell_type": "markdown",
   "id": "a0d51c8e",
   "metadata": {
    "deletable": false,
    "id": "9da2ceda"
   },
   "source": [
    "*Ответ:* Пропуски были в двух столбцах: \"Ежемесячный доход\" и \"Трудовой стаж\". При чём, количество пропусков в каждом столбце одинаково. Возможные причины появления данных пропусков: - \"человеческий фактор\" (данные ячейки не заполнил сотрудник банка при оформлении кредита), недоработанная форма на сайте (при оформлении кредита на сайте банка, технологический фактор), либо потеря данных при сохранении/импорте/переносе (также технологический фактор). Также, перед заполнением пропусков в п.2.1 данного исследования, мы проанализировали ячейки \"тип занятости\". Оказалось, что строки с пропусками имеют заёмщики со статусом 'пенсионер', 'госслужащий', 'компаньон', 'сотрудник' и 'предприниматель'. Предполагаю, что данные физлица при оформлении кредита находились на социальной службе, либо работали в благотворительных организациях, с отсутствующим окладом."
   ]
  },
  {
   "cell_type": "markdown",
   "id": "e197d0e7",
   "metadata": {
    "deletable": false,
    "editable": false,
    "id": "7b0487d6"
   },
   "source": [
    "#### 3.6 Объясните, почему заполнить пропуски медианным значением — лучшее решение для количественных переменных."
   ]
  },
  {
   "cell_type": "markdown",
   "id": "090e258c",
   "metadata": {
    "deletable": false,
    "id": "7ecf2b8e"
   },
   "source": [
    "*Ответ:* В остальных столбцах строк с пропусками - для нас существуют ценные данные, просто удалить строки недопустимо. Также строк с пропусками 2174 шт. их 21525 записей (10% данных). Если заполнить пропуски средним арифметическим - вариант не совсем удачный, т.к. возможные выбросы в зарплатах группы могут сильно исказить наши данные. Медиана более точно определяет среднее значение данных внутри группы."
   ]
  },
  {
   "cell_type": "markdown",
   "id": "6fffe0f5",
   "metadata": {
    "deletable": false,
    "editable": false,
    "id": "6db5255a"
   },
   "source": [
    "### Шаг 4: общий вывод."
   ]
  },
  {
   "cell_type": "markdown",
   "id": "6c6e0fab",
   "metadata": {
    "deletable": false,
    "id": "bad65432"
   },
   "source": [
    "1. Наличие детей - увеличивает риск возникновения задолженности на 2%. Исключение составляют заёмщики с тремя детьми, они более ответственны в кредитных обязательствах (разница с заёмщиками без детей всего 0,6%).\n",
    "2. При статусе \"не женат/не за мужем\" и \"гражданский брак\" - процент дебиторки на 2,5% выше по сравнению с другими статусами семейного положения.\n",
    "3. Наиболее ответственные заёмщики - в категории \"В\" (доход от 200 тыс.руб. до 1млн.руб). Заёмщики из категории \"С\" (от 50 до 200 тыс.руб) на 1,5% менее обязательны в выполнении кредитных обязательств.\n",
    "4. Самый высокий процент просроченной дебиторской задолженности - в категориях \"операции с автомобилем\" и \"получение образования\"."
   ]
  }
 ],
 "metadata": {
  "ExecuteTimeLog": [
   {
    "duration": 439,
    "start_time": "2022-10-28T13:06:56.497Z"
   },
   {
    "duration": 23,
    "start_time": "2022-10-28T13:07:05.631Z"
   },
   {
    "duration": 16,
    "start_time": "2022-10-28T13:07:33.213Z"
   },
   {
    "duration": 10,
    "start_time": "2022-10-28T13:07:45.187Z"
   },
   {
    "duration": 69,
    "start_time": "2022-10-28T13:19:49.416Z"
   },
   {
    "duration": 15,
    "start_time": "2022-10-28T13:19:52.484Z"
   },
   {
    "duration": 573,
    "start_time": "2022-10-28T13:20:56.923Z"
   },
   {
    "duration": 23,
    "start_time": "2022-10-28T13:20:57.498Z"
   },
   {
    "duration": 28,
    "start_time": "2022-10-28T13:20:57.523Z"
   },
   {
    "duration": 9,
    "start_time": "2022-10-28T13:20:57.554Z"
   },
   {
    "duration": 33,
    "start_time": "2022-10-28T13:20:57.565Z"
   },
   {
    "duration": 3,
    "start_time": "2022-10-28T13:20:57.600Z"
   },
   {
    "duration": 38,
    "start_time": "2022-10-28T13:20:57.605Z"
   },
   {
    "duration": 5,
    "start_time": "2022-10-28T13:20:57.644Z"
   },
   {
    "duration": 9,
    "start_time": "2022-10-28T13:20:57.650Z"
   },
   {
    "duration": 4,
    "start_time": "2022-10-28T13:20:57.662Z"
   },
   {
    "duration": 37,
    "start_time": "2022-10-28T13:20:57.668Z"
   },
   {
    "duration": 35,
    "start_time": "2022-10-28T13:20:57.707Z"
   },
   {
    "duration": 4,
    "start_time": "2022-10-28T13:20:57.744Z"
   },
   {
    "duration": 12,
    "start_time": "2022-10-28T13:20:57.750Z"
   },
   {
    "duration": 24,
    "start_time": "2022-10-28T13:20:57.764Z"
   },
   {
    "duration": 17,
    "start_time": "2022-10-28T13:20:57.790Z"
   },
   {
    "duration": 33,
    "start_time": "2022-10-28T13:20:57.809Z"
   },
   {
    "duration": 15,
    "start_time": "2022-10-28T13:20:57.844Z"
   },
   {
    "duration": 6,
    "start_time": "2022-10-28T13:20:57.860Z"
   },
   {
    "duration": 3,
    "start_time": "2022-10-28T13:20:57.868Z"
   },
   {
    "duration": 11,
    "start_time": "2022-10-28T13:20:57.872Z"
   },
   {
    "duration": 5,
    "start_time": "2022-10-28T13:20:57.885Z"
   },
   {
    "duration": 4,
    "start_time": "2022-10-28T13:20:57.892Z"
   },
   {
    "duration": 9,
    "start_time": "2022-10-28T13:20:57.898Z"
   },
   {
    "duration": 5,
    "start_time": "2022-10-28T13:20:57.908Z"
   },
   {
    "duration": 22,
    "start_time": "2022-10-28T13:47:11.837Z"
   },
   {
    "duration": 510,
    "start_time": "2022-10-28T13:48:06.411Z"
   },
   {
    "duration": 3,
    "start_time": "2022-10-28T13:50:05.541Z"
   },
   {
    "duration": 4,
    "start_time": "2022-10-28T13:50:42.949Z"
   },
   {
    "duration": 5,
    "start_time": "2022-10-28T14:33:03.605Z"
   },
   {
    "duration": 51,
    "start_time": "2022-10-28T14:33:23.060Z"
   },
   {
    "duration": 50,
    "start_time": "2022-10-28T14:33:54.184Z"
   },
   {
    "duration": 445,
    "start_time": "2022-10-28T15:24:35.701Z"
   },
   {
    "duration": 21,
    "start_time": "2022-10-28T15:24:36.148Z"
   },
   {
    "duration": 15,
    "start_time": "2022-10-28T15:24:36.171Z"
   },
   {
    "duration": 10,
    "start_time": "2022-10-28T15:24:36.188Z"
   },
   {
    "duration": 64,
    "start_time": "2022-10-28T15:24:36.199Z"
   },
   {
    "duration": 3,
    "start_time": "2022-10-28T15:24:36.265Z"
   },
   {
    "duration": 14,
    "start_time": "2022-10-28T15:24:36.269Z"
   },
   {
    "duration": 4,
    "start_time": "2022-10-28T15:24:36.285Z"
   },
   {
    "duration": 13,
    "start_time": "2022-10-28T15:24:36.291Z"
   },
   {
    "duration": 4,
    "start_time": "2022-10-28T15:24:36.307Z"
   },
   {
    "duration": 58,
    "start_time": "2022-10-28T15:24:36.313Z"
   },
   {
    "duration": 11,
    "start_time": "2022-10-28T15:24:36.372Z"
   },
   {
    "duration": 4,
    "start_time": "2022-10-28T15:24:36.385Z"
   },
   {
    "duration": 15,
    "start_time": "2022-10-28T15:24:36.390Z"
   },
   {
    "duration": 56,
    "start_time": "2022-10-28T15:24:36.407Z"
   },
   {
    "duration": 18,
    "start_time": "2022-10-28T15:24:36.465Z"
   },
   {
    "duration": 4,
    "start_time": "2022-10-28T15:24:36.485Z"
   },
   {
    "duration": 17,
    "start_time": "2022-10-28T15:24:36.490Z"
   },
   {
    "duration": 8,
    "start_time": "2022-10-28T15:24:36.509Z"
   },
   {
    "duration": 5,
    "start_time": "2022-10-28T15:24:36.540Z"
   },
   {
    "duration": 15,
    "start_time": "2022-10-28T15:24:36.547Z"
   },
   {
    "duration": 6,
    "start_time": "2022-10-28T15:24:36.564Z"
   },
   {
    "duration": 9,
    "start_time": "2022-10-28T15:24:36.572Z"
   },
   {
    "duration": 6,
    "start_time": "2022-10-28T15:24:36.583Z"
   },
   {
    "duration": 5,
    "start_time": "2022-10-28T15:24:36.590Z"
   },
   {
    "duration": 37,
    "start_time": "2022-10-28T15:25:27.214Z"
   },
   {
    "duration": 823,
    "start_time": "2022-10-28T15:26:42.134Z"
   },
   {
    "duration": 10,
    "start_time": "2022-10-28T15:27:03.956Z"
   },
   {
    "duration": 13,
    "start_time": "2022-10-28T15:29:25.439Z"
   },
   {
    "duration": 48,
    "start_time": "2022-10-29T03:49:51.630Z"
   },
   {
    "duration": 702,
    "start_time": "2022-10-29T03:50:18.911Z"
   },
   {
    "duration": 26,
    "start_time": "2022-10-29T03:50:19.615Z"
   },
   {
    "duration": 14,
    "start_time": "2022-10-29T03:50:19.642Z"
   },
   {
    "duration": 9,
    "start_time": "2022-10-29T03:50:19.658Z"
   },
   {
    "duration": 38,
    "start_time": "2022-10-29T03:50:19.668Z"
   },
   {
    "duration": 4,
    "start_time": "2022-10-29T03:50:19.708Z"
   },
   {
    "duration": 11,
    "start_time": "2022-10-29T03:50:19.713Z"
   },
   {
    "duration": 5,
    "start_time": "2022-10-29T03:50:19.726Z"
   },
   {
    "duration": 16,
    "start_time": "2022-10-29T03:50:19.732Z"
   },
   {
    "duration": 4,
    "start_time": "2022-10-29T03:50:19.750Z"
   },
   {
    "duration": 57,
    "start_time": "2022-10-29T03:50:19.756Z"
   },
   {
    "duration": 10,
    "start_time": "2022-10-29T03:50:19.814Z"
   },
   {
    "duration": 4,
    "start_time": "2022-10-29T03:50:19.826Z"
   },
   {
    "duration": 13,
    "start_time": "2022-10-29T03:50:19.832Z"
   },
   {
    "duration": 49,
    "start_time": "2022-10-29T03:50:19.847Z"
   },
   {
    "duration": 17,
    "start_time": "2022-10-29T03:50:19.898Z"
   },
   {
    "duration": 3,
    "start_time": "2022-10-29T03:50:19.917Z"
   },
   {
    "duration": 11,
    "start_time": "2022-10-29T03:50:19.922Z"
   },
   {
    "duration": 6,
    "start_time": "2022-10-29T03:50:19.934Z"
   },
   {
    "duration": 4,
    "start_time": "2022-10-29T03:50:19.941Z"
   },
   {
    "duration": 35,
    "start_time": "2022-10-29T03:50:19.946Z"
   },
   {
    "duration": 8,
    "start_time": "2022-10-29T03:50:19.983Z"
   },
   {
    "duration": 18,
    "start_time": "2022-10-29T03:50:19.993Z"
   },
   {
    "duration": 8,
    "start_time": "2022-10-29T03:50:20.012Z"
   },
   {
    "duration": 5,
    "start_time": "2022-10-29T03:50:20.022Z"
   },
   {
    "duration": 7,
    "start_time": "2022-10-29T03:50:40.531Z"
   },
   {
    "duration": 13,
    "start_time": "2022-10-29T03:51:31.525Z"
   },
   {
    "duration": 4,
    "start_time": "2022-10-29T03:52:47.510Z"
   },
   {
    "duration": 14,
    "start_time": "2022-10-29T03:53:32.429Z"
   },
   {
    "duration": 59,
    "start_time": "2022-10-29T03:54:09.078Z"
   },
   {
    "duration": 5,
    "start_time": "2022-10-29T03:54:24.708Z"
   },
   {
    "duration": 47,
    "start_time": "2022-10-29T04:01:54.716Z"
   },
   {
    "duration": 17,
    "start_time": "2022-10-29T04:02:35.712Z"
   },
   {
    "duration": 15,
    "start_time": "2022-10-29T04:04:05.990Z"
   },
   {
    "duration": 51,
    "start_time": "2022-10-29T04:08:42.719Z"
   },
   {
    "duration": 8,
    "start_time": "2022-10-29T04:08:56.150Z"
   },
   {
    "duration": 8,
    "start_time": "2022-10-29T04:09:58.657Z"
   },
   {
    "duration": 54,
    "start_time": "2022-10-29T04:15:14.585Z"
   },
   {
    "duration": 5,
    "start_time": "2022-10-29T04:15:26.664Z"
   },
   {
    "duration": 4,
    "start_time": "2022-10-29T04:25:41.764Z"
   },
   {
    "duration": 8,
    "start_time": "2022-10-29T04:26:10.029Z"
   },
   {
    "duration": 7,
    "start_time": "2022-10-29T04:27:18.072Z"
   },
   {
    "duration": 6,
    "start_time": "2022-10-29T04:27:32.792Z"
   },
   {
    "duration": 12,
    "start_time": "2022-10-29T04:27:44.630Z"
   },
   {
    "duration": 3,
    "start_time": "2022-10-29T04:27:48.743Z"
   },
   {
    "duration": 6,
    "start_time": "2022-10-29T04:27:50.841Z"
   },
   {
    "duration": 10,
    "start_time": "2022-10-29T04:28:05.996Z"
   },
   {
    "duration": 14,
    "start_time": "2022-10-29T04:30:08.256Z"
   },
   {
    "duration": 5,
    "start_time": "2022-10-29T04:55:36.930Z"
   },
   {
    "duration": 16,
    "start_time": "2022-10-29T04:58:37.500Z"
   },
   {
    "duration": 7,
    "start_time": "2022-10-29T05:07:25.170Z"
   },
   {
    "duration": 486,
    "start_time": "2022-10-29T06:15:58.452Z"
   },
   {
    "duration": 22,
    "start_time": "2022-10-29T06:15:58.940Z"
   },
   {
    "duration": 13,
    "start_time": "2022-10-29T06:15:58.963Z"
   },
   {
    "duration": 9,
    "start_time": "2022-10-29T06:15:58.978Z"
   },
   {
    "duration": 35,
    "start_time": "2022-10-29T06:15:58.989Z"
   },
   {
    "duration": 3,
    "start_time": "2022-10-29T06:15:59.025Z"
   },
   {
    "duration": 10,
    "start_time": "2022-10-29T06:15:59.029Z"
   },
   {
    "duration": 4,
    "start_time": "2022-10-29T06:15:59.040Z"
   },
   {
    "duration": 31,
    "start_time": "2022-10-29T06:15:59.046Z"
   },
   {
    "duration": 5,
    "start_time": "2022-10-29T06:15:59.080Z"
   },
   {
    "duration": 32,
    "start_time": "2022-10-29T06:15:59.087Z"
   },
   {
    "duration": 9,
    "start_time": "2022-10-29T06:15:59.120Z"
   },
   {
    "duration": 3,
    "start_time": "2022-10-29T06:15:59.130Z"
   },
   {
    "duration": 12,
    "start_time": "2022-10-29T06:15:59.135Z"
   },
   {
    "duration": 41,
    "start_time": "2022-10-29T06:15:59.148Z"
   },
   {
    "duration": 15,
    "start_time": "2022-10-29T06:15:59.191Z"
   },
   {
    "duration": 5,
    "start_time": "2022-10-29T06:15:59.208Z"
   },
   {
    "duration": 15,
    "start_time": "2022-10-29T06:15:59.214Z"
   },
   {
    "duration": 5,
    "start_time": "2022-10-29T06:15:59.231Z"
   },
   {
    "duration": 4,
    "start_time": "2022-10-29T06:15:59.237Z"
   },
   {
    "duration": 40,
    "start_time": "2022-10-29T06:15:59.242Z"
   },
   {
    "duration": 16,
    "start_time": "2022-10-29T06:15:59.284Z"
   },
   {
    "duration": 2,
    "start_time": "2022-10-29T06:15:59.302Z"
   },
   {
    "duration": 9,
    "start_time": "2022-10-29T06:15:59.306Z"
   },
   {
    "duration": 8,
    "start_time": "2022-10-29T06:15:59.317Z"
   },
   {
    "duration": 14,
    "start_time": "2022-10-29T06:15:59.326Z"
   },
   {
    "duration": 5,
    "start_time": "2022-10-29T06:15:59.342Z"
   },
   {
    "duration": 2,
    "start_time": "2022-10-29T06:15:59.377Z"
   },
   {
    "duration": 7,
    "start_time": "2022-10-29T06:15:59.380Z"
   },
   {
    "duration": 5,
    "start_time": "2022-10-29T06:29:58.934Z"
   },
   {
    "duration": 5,
    "start_time": "2022-10-29T06:32:10.588Z"
   },
   {
    "duration": 4,
    "start_time": "2022-10-29T06:32:38.123Z"
   },
   {
    "duration": 4,
    "start_time": "2022-10-29T06:39:35.807Z"
   },
   {
    "duration": 66,
    "start_time": "2022-10-29T06:40:17.448Z"
   },
   {
    "duration": 7,
    "start_time": "2022-10-29T06:40:28.592Z"
   },
   {
    "duration": 7,
    "start_time": "2022-10-29T06:51:45.681Z"
   },
   {
    "duration": 4,
    "start_time": "2022-10-29T06:53:10.288Z"
   },
   {
    "duration": 3,
    "start_time": "2022-10-29T06:54:36.489Z"
   },
   {
    "duration": 7,
    "start_time": "2022-10-29T06:55:20.793Z"
   },
   {
    "duration": 15,
    "start_time": "2022-10-29T06:57:33.344Z"
   },
   {
    "duration": 23,
    "start_time": "2022-10-29T07:01:49.377Z"
   },
   {
    "duration": 16,
    "start_time": "2022-10-29T07:20:46.175Z"
   },
   {
    "duration": 18,
    "start_time": "2022-10-29T07:22:09.284Z"
   },
   {
    "duration": 488,
    "start_time": "2022-10-29T07:55:07.459Z"
   },
   {
    "duration": 23,
    "start_time": "2022-10-29T07:55:13.277Z"
   },
   {
    "duration": 58,
    "start_time": "2022-10-29T08:04:18.329Z"
   },
   {
    "duration": 7,
    "start_time": "2022-10-29T08:05:16.066Z"
   },
   {
    "duration": 5,
    "start_time": "2022-10-29T08:06:09.028Z"
   },
   {
    "duration": 70,
    "start_time": "2022-10-29T08:06:27.500Z"
   },
   {
    "duration": 16,
    "start_time": "2022-10-29T08:06:30.842Z"
   },
   {
    "duration": 24,
    "start_time": "2022-10-29T08:06:36.822Z"
   },
   {
    "duration": 9,
    "start_time": "2022-10-29T08:06:42.786Z"
   },
   {
    "duration": 5,
    "start_time": "2022-10-29T08:06:48.835Z"
   },
   {
    "duration": 5,
    "start_time": "2022-10-29T08:07:00.511Z"
   },
   {
    "duration": 14,
    "start_time": "2022-10-29T08:08:02.916Z"
   },
   {
    "duration": 12,
    "start_time": "2022-10-29T08:08:51.438Z"
   },
   {
    "duration": 555,
    "start_time": "2022-10-29T08:10:31.464Z"
   },
   {
    "duration": 365,
    "start_time": "2022-10-29T08:11:06.678Z"
   },
   {
    "duration": 391,
    "start_time": "2022-10-29T08:11:57.963Z"
   },
   {
    "duration": 7,
    "start_time": "2022-10-29T08:12:28.586Z"
   },
   {
    "duration": 513,
    "start_time": "2022-10-29T08:33:42.565Z"
   },
   {
    "duration": 23,
    "start_time": "2022-10-29T08:33:43.080Z"
   },
   {
    "duration": 14,
    "start_time": "2022-10-29T08:33:43.104Z"
   },
   {
    "duration": 9,
    "start_time": "2022-10-29T08:33:43.120Z"
   },
   {
    "duration": 6,
    "start_time": "2022-10-29T08:33:43.131Z"
   },
   {
    "duration": 65,
    "start_time": "2022-10-29T08:33:43.139Z"
   },
   {
    "duration": 4,
    "start_time": "2022-10-29T08:33:43.205Z"
   },
   {
    "duration": 26,
    "start_time": "2022-10-29T08:33:43.212Z"
   },
   {
    "duration": 15,
    "start_time": "2022-10-29T08:33:43.240Z"
   },
   {
    "duration": 11,
    "start_time": "2022-10-29T08:33:43.259Z"
   },
   {
    "duration": 7,
    "start_time": "2022-10-29T08:33:43.272Z"
   },
   {
    "duration": 43,
    "start_time": "2022-10-29T08:33:43.281Z"
   },
   {
    "duration": 11,
    "start_time": "2022-10-29T08:33:43.326Z"
   },
   {
    "duration": 15,
    "start_time": "2022-10-29T08:33:43.338Z"
   },
   {
    "duration": 22,
    "start_time": "2022-10-29T08:33:43.355Z"
   },
   {
    "duration": 31,
    "start_time": "2022-10-29T08:33:43.379Z"
   },
   {
    "duration": 28,
    "start_time": "2022-10-29T08:33:43.412Z"
   },
   {
    "duration": 4,
    "start_time": "2022-10-29T08:33:43.442Z"
   },
   {
    "duration": 12,
    "start_time": "2022-10-29T08:33:43.447Z"
   },
   {
    "duration": 21,
    "start_time": "2022-10-29T08:33:43.461Z"
   },
   {
    "duration": 8,
    "start_time": "2022-10-29T08:33:43.484Z"
   },
   {
    "duration": 11,
    "start_time": "2022-10-29T08:33:43.494Z"
   },
   {
    "duration": 22,
    "start_time": "2022-10-29T08:33:43.507Z"
   },
   {
    "duration": 3,
    "start_time": "2022-10-29T08:33:43.531Z"
   },
   {
    "duration": 94,
    "start_time": "2022-10-29T08:33:43.536Z"
   },
   {
    "duration": 0,
    "start_time": "2022-10-29T08:33:43.632Z"
   },
   {
    "duration": 0,
    "start_time": "2022-10-29T08:33:43.634Z"
   },
   {
    "duration": 0,
    "start_time": "2022-10-29T08:33:43.635Z"
   },
   {
    "duration": 0,
    "start_time": "2022-10-29T08:33:43.637Z"
   },
   {
    "duration": 3,
    "start_time": "2022-10-29T08:36:02.651Z"
   },
   {
    "duration": 20,
    "start_time": "2022-10-29T08:36:14.933Z"
   },
   {
    "duration": 3,
    "start_time": "2022-10-29T08:39:04.894Z"
   },
   {
    "duration": 12,
    "start_time": "2022-10-29T08:39:08.825Z"
   },
   {
    "duration": 3,
    "start_time": "2022-10-29T08:42:20.754Z"
   },
   {
    "duration": 7,
    "start_time": "2022-10-29T08:42:23.887Z"
   },
   {
    "duration": 5,
    "start_time": "2022-10-29T08:45:08.323Z"
   },
   {
    "duration": 10,
    "start_time": "2022-10-29T08:45:11.542Z"
   },
   {
    "duration": 3,
    "start_time": "2022-10-29T08:45:46.215Z"
   },
   {
    "duration": 7,
    "start_time": "2022-10-29T08:45:48.471Z"
   },
   {
    "duration": 19,
    "start_time": "2022-10-29T08:46:15.330Z"
   },
   {
    "duration": 9,
    "start_time": "2022-10-29T08:46:23.217Z"
   },
   {
    "duration": 27,
    "start_time": "2022-10-29T08:46:32.295Z"
   },
   {
    "duration": 17,
    "start_time": "2022-10-29T08:46:37.328Z"
   },
   {
    "duration": 56,
    "start_time": "2022-10-29T11:46:40.084Z"
   },
   {
    "duration": 1374,
    "start_time": "2022-10-29T11:54:13.460Z"
   },
   {
    "duration": 23,
    "start_time": "2022-10-29T11:54:14.836Z"
   },
   {
    "duration": 15,
    "start_time": "2022-10-29T11:54:14.861Z"
   },
   {
    "duration": 9,
    "start_time": "2022-10-29T11:54:14.878Z"
   },
   {
    "duration": 5,
    "start_time": "2022-10-29T11:54:14.888Z"
   },
   {
    "duration": 60,
    "start_time": "2022-10-29T11:54:14.895Z"
   },
   {
    "duration": 2,
    "start_time": "2022-10-29T11:54:14.957Z"
   },
   {
    "duration": 12,
    "start_time": "2022-10-29T11:54:14.961Z"
   },
   {
    "duration": 6,
    "start_time": "2022-10-29T11:54:14.975Z"
   },
   {
    "duration": 7,
    "start_time": "2022-10-29T11:54:14.984Z"
   },
   {
    "duration": 5,
    "start_time": "2022-10-29T11:54:14.992Z"
   },
   {
    "duration": 56,
    "start_time": "2022-10-29T11:54:14.998Z"
   },
   {
    "duration": 11,
    "start_time": "2022-10-29T11:54:15.056Z"
   },
   {
    "duration": 9,
    "start_time": "2022-10-29T11:54:15.069Z"
   },
   {
    "duration": 17,
    "start_time": "2022-10-29T11:54:15.079Z"
   },
   {
    "duration": 22,
    "start_time": "2022-10-29T11:54:15.098Z"
   },
   {
    "duration": 18,
    "start_time": "2022-10-29T11:54:15.134Z"
   },
   {
    "duration": 4,
    "start_time": "2022-10-29T11:54:15.153Z"
   },
   {
    "duration": 20,
    "start_time": "2022-10-29T11:54:15.159Z"
   },
   {
    "duration": 11,
    "start_time": "2022-10-29T11:54:15.180Z"
   },
   {
    "duration": 4,
    "start_time": "2022-10-29T11:54:15.193Z"
   },
   {
    "duration": 11,
    "start_time": "2022-10-29T11:54:15.199Z"
   },
   {
    "duration": 40,
    "start_time": "2022-10-29T11:54:15.211Z"
   },
   {
    "duration": 2,
    "start_time": "2022-10-29T11:54:15.253Z"
   },
   {
    "duration": 11,
    "start_time": "2022-10-29T11:54:15.257Z"
   },
   {
    "duration": 15,
    "start_time": "2022-10-29T11:54:15.270Z"
   },
   {
    "duration": 7,
    "start_time": "2022-10-29T11:54:15.286Z"
   },
   {
    "duration": 50,
    "start_time": "2022-10-29T11:54:15.296Z"
   },
   {
    "duration": 16,
    "start_time": "2022-10-29T11:54:15.348Z"
   },
   {
    "duration": 72,
    "start_time": "2022-10-29T11:54:41.856Z"
   },
   {
    "duration": 17,
    "start_time": "2022-10-29T11:55:12.024Z"
   },
   {
    "duration": 49,
    "start_time": "2022-10-30T13:19:40.607Z"
   },
   {
    "duration": 542,
    "start_time": "2022-10-30T13:19:52.384Z"
   },
   {
    "duration": 29,
    "start_time": "2022-10-30T13:19:52.928Z"
   },
   {
    "duration": 17,
    "start_time": "2022-10-30T13:19:52.959Z"
   },
   {
    "duration": 9,
    "start_time": "2022-10-30T13:19:52.978Z"
   },
   {
    "duration": 5,
    "start_time": "2022-10-30T13:19:52.989Z"
   },
   {
    "duration": 52,
    "start_time": "2022-10-30T13:19:52.995Z"
   },
   {
    "duration": 3,
    "start_time": "2022-10-30T13:19:53.049Z"
   },
   {
    "duration": 16,
    "start_time": "2022-10-30T13:19:53.054Z"
   },
   {
    "duration": 8,
    "start_time": "2022-10-30T13:19:53.071Z"
   },
   {
    "duration": 10,
    "start_time": "2022-10-30T13:19:53.083Z"
   },
   {
    "duration": 8,
    "start_time": "2022-10-30T13:19:53.094Z"
   },
   {
    "duration": 49,
    "start_time": "2022-10-30T13:19:53.103Z"
   },
   {
    "duration": 9,
    "start_time": "2022-10-30T13:19:53.154Z"
   },
   {
    "duration": 4,
    "start_time": "2022-10-30T13:19:53.164Z"
   },
   {
    "duration": 13,
    "start_time": "2022-10-30T13:19:53.169Z"
   },
   {
    "duration": 41,
    "start_time": "2022-10-30T13:19:53.184Z"
   },
   {
    "duration": 18,
    "start_time": "2022-10-30T13:19:53.230Z"
   },
   {
    "duration": 5,
    "start_time": "2022-10-30T13:19:53.250Z"
   },
   {
    "duration": 20,
    "start_time": "2022-10-30T13:19:53.257Z"
   },
   {
    "duration": 9,
    "start_time": "2022-10-30T13:19:53.279Z"
   },
   {
    "duration": 5,
    "start_time": "2022-10-30T13:19:53.290Z"
   },
   {
    "duration": 13,
    "start_time": "2022-10-30T13:19:53.321Z"
   },
   {
    "duration": 26,
    "start_time": "2022-10-30T13:19:53.339Z"
   },
   {
    "duration": 37,
    "start_time": "2022-10-30T13:19:53.367Z"
   },
   {
    "duration": 15,
    "start_time": "2022-10-30T13:19:53.405Z"
   },
   {
    "duration": 14,
    "start_time": "2022-10-30T13:19:53.425Z"
   },
   {
    "duration": 22,
    "start_time": "2022-10-30T13:19:53.440Z"
   },
   {
    "duration": 5,
    "start_time": "2022-10-30T13:19:53.465Z"
   },
   {
    "duration": 18,
    "start_time": "2022-10-30T13:19:53.472Z"
   },
   {
    "duration": 15,
    "start_time": "2022-10-30T13:19:53.492Z"
   },
   {
    "duration": 13,
    "start_time": "2022-10-30T13:20:46.243Z"
   },
   {
    "duration": 87,
    "start_time": "2022-10-30T13:38:29.911Z"
   },
   {
    "duration": 14,
    "start_time": "2022-10-30T13:38:51.889Z"
   },
   {
    "duration": 19,
    "start_time": "2022-10-30T13:39:22.811Z"
   },
   {
    "duration": 31,
    "start_time": "2022-10-30T13:40:35.038Z"
   },
   {
    "duration": 13,
    "start_time": "2022-10-30T13:51:48.837Z"
   },
   {
    "duration": 5,
    "start_time": "2022-10-30T14:00:28.918Z"
   },
   {
    "duration": 6,
    "start_time": "2022-10-30T14:03:48.792Z"
   },
   {
    "duration": 12,
    "start_time": "2022-10-30T14:07:16.086Z"
   },
   {
    "duration": 20,
    "start_time": "2022-10-30T14:07:51.821Z"
   },
   {
    "duration": 6,
    "start_time": "2022-10-30T14:08:22.004Z"
   },
   {
    "duration": 1332,
    "start_time": "2022-10-30T14:08:31.333Z"
   },
   {
    "duration": 15,
    "start_time": "2022-10-30T14:10:09.801Z"
   },
   {
    "duration": 14,
    "start_time": "2022-10-30T14:10:40.104Z"
   },
   {
    "duration": 447,
    "start_time": "2022-10-30T14:13:04.264Z"
   },
   {
    "duration": 27,
    "start_time": "2022-10-30T14:13:04.713Z"
   },
   {
    "duration": 24,
    "start_time": "2022-10-30T14:13:04.745Z"
   },
   {
    "duration": 9,
    "start_time": "2022-10-30T14:13:04.771Z"
   },
   {
    "duration": 5,
    "start_time": "2022-10-30T14:13:04.781Z"
   },
   {
    "duration": 47,
    "start_time": "2022-10-30T14:13:04.788Z"
   },
   {
    "duration": 3,
    "start_time": "2022-10-30T14:13:04.837Z"
   },
   {
    "duration": 18,
    "start_time": "2022-10-30T14:13:04.842Z"
   },
   {
    "duration": 4,
    "start_time": "2022-10-30T14:13:04.861Z"
   },
   {
    "duration": 5,
    "start_time": "2022-10-30T14:13:04.868Z"
   },
   {
    "duration": 4,
    "start_time": "2022-10-30T14:13:04.875Z"
   },
   {
    "duration": 27,
    "start_time": "2022-10-30T14:13:04.880Z"
   },
   {
    "duration": 21,
    "start_time": "2022-10-30T14:13:04.908Z"
   },
   {
    "duration": 23,
    "start_time": "2022-10-30T14:13:04.931Z"
   },
   {
    "duration": 10,
    "start_time": "2022-10-30T14:13:04.955Z"
   },
   {
    "duration": 18,
    "start_time": "2022-10-30T14:13:04.967Z"
   },
   {
    "duration": 14,
    "start_time": "2022-10-30T14:13:04.987Z"
   },
   {
    "duration": 3,
    "start_time": "2022-10-30T14:13:05.002Z"
   },
   {
    "duration": 21,
    "start_time": "2022-10-30T14:13:05.006Z"
   },
   {
    "duration": 16,
    "start_time": "2022-10-30T14:13:05.029Z"
   },
   {
    "duration": 8,
    "start_time": "2022-10-30T14:13:05.046Z"
   },
   {
    "duration": 11,
    "start_time": "2022-10-30T14:13:05.055Z"
   },
   {
    "duration": 2,
    "start_time": "2022-10-30T14:13:05.067Z"
   },
   {
    "duration": 6,
    "start_time": "2022-10-30T14:13:05.070Z"
   },
   {
    "duration": 14,
    "start_time": "2022-10-30T14:13:05.077Z"
   },
   {
    "duration": 12,
    "start_time": "2022-10-30T14:13:05.092Z"
   },
   {
    "duration": 1339,
    "start_time": "2022-10-30T14:13:05.105Z"
   },
   {
    "duration": 0,
    "start_time": "2022-10-30T14:13:06.447Z"
   },
   {
    "duration": 0,
    "start_time": "2022-10-30T14:13:06.449Z"
   },
   {
    "duration": 0,
    "start_time": "2022-10-30T14:13:06.449Z"
   },
   {
    "duration": 0,
    "start_time": "2022-10-30T14:13:06.451Z"
   },
   {
    "duration": 8,
    "start_time": "2022-10-30T14:14:25.756Z"
   },
   {
    "duration": 1268,
    "start_time": "2022-10-30T14:14:59.614Z"
   },
   {
    "duration": 6,
    "start_time": "2022-10-30T14:17:42.789Z"
   },
   {
    "duration": 3,
    "start_time": "2022-10-30T14:18:07.650Z"
   },
   {
    "duration": 9,
    "start_time": "2022-10-30T14:18:12.369Z"
   },
   {
    "duration": 7,
    "start_time": "2022-10-30T14:18:30.890Z"
   },
   {
    "duration": 6,
    "start_time": "2022-10-30T14:18:35.499Z"
   },
   {
    "duration": 259,
    "start_time": "2022-10-30T14:24:59.017Z"
   },
   {
    "duration": 9,
    "start_time": "2022-10-30T14:25:08.657Z"
   },
   {
    "duration": 9,
    "start_time": "2022-10-30T14:25:41.392Z"
   },
   {
    "duration": 12,
    "start_time": "2022-10-30T14:26:16.446Z"
   },
   {
    "duration": 8,
    "start_time": "2022-10-30T14:26:57.510Z"
   },
   {
    "duration": 9,
    "start_time": "2022-10-30T14:27:18.960Z"
   },
   {
    "duration": 43,
    "start_time": "2022-10-31T05:06:57.491Z"
   },
   {
    "duration": 527,
    "start_time": "2022-10-31T05:07:10.679Z"
   },
   {
    "duration": 22,
    "start_time": "2022-10-31T05:07:11.208Z"
   },
   {
    "duration": 13,
    "start_time": "2022-10-31T05:07:11.231Z"
   },
   {
    "duration": 9,
    "start_time": "2022-10-31T05:07:11.246Z"
   },
   {
    "duration": 9,
    "start_time": "2022-10-31T05:07:11.256Z"
   },
   {
    "duration": 39,
    "start_time": "2022-10-31T05:07:11.267Z"
   },
   {
    "duration": 4,
    "start_time": "2022-10-31T05:07:11.307Z"
   },
   {
    "duration": 10,
    "start_time": "2022-10-31T05:07:11.312Z"
   },
   {
    "duration": 14,
    "start_time": "2022-10-31T05:07:11.323Z"
   },
   {
    "duration": 7,
    "start_time": "2022-10-31T05:07:11.340Z"
   },
   {
    "duration": 9,
    "start_time": "2022-10-31T05:07:11.349Z"
   },
   {
    "duration": 54,
    "start_time": "2022-10-31T05:07:11.359Z"
   },
   {
    "duration": 10,
    "start_time": "2022-10-31T05:07:11.415Z"
   },
   {
    "duration": 5,
    "start_time": "2022-10-31T05:07:11.427Z"
   },
   {
    "duration": 11,
    "start_time": "2022-10-31T05:07:11.433Z"
   },
   {
    "duration": 19,
    "start_time": "2022-10-31T05:07:11.446Z"
   },
   {
    "duration": 42,
    "start_time": "2022-10-31T05:07:11.466Z"
   },
   {
    "duration": 4,
    "start_time": "2022-10-31T05:07:11.510Z"
   },
   {
    "duration": 13,
    "start_time": "2022-10-31T05:07:11.517Z"
   },
   {
    "duration": 8,
    "start_time": "2022-10-31T05:07:11.533Z"
   },
   {
    "duration": 5,
    "start_time": "2022-10-31T05:07:11.543Z"
   },
   {
    "duration": 45,
    "start_time": "2022-10-31T05:07:11.550Z"
   },
   {
    "duration": 6,
    "start_time": "2022-10-31T05:07:11.597Z"
   },
   {
    "duration": 4,
    "start_time": "2022-10-31T05:07:11.605Z"
   },
   {
    "duration": 86,
    "start_time": "2022-10-31T05:07:11.610Z"
   },
   {
    "duration": 1,
    "start_time": "2022-10-31T05:07:11.697Z"
   },
   {
    "duration": 0,
    "start_time": "2022-10-31T05:07:11.699Z"
   },
   {
    "duration": 0,
    "start_time": "2022-10-31T05:07:11.700Z"
   },
   {
    "duration": 0,
    "start_time": "2022-10-31T05:07:11.701Z"
   },
   {
    "duration": 0,
    "start_time": "2022-10-31T05:07:11.703Z"
   },
   {
    "duration": 0,
    "start_time": "2022-10-31T05:07:11.704Z"
   },
   {
    "duration": 9,
    "start_time": "2022-10-31T05:08:12.283Z"
   },
   {
    "duration": 9,
    "start_time": "2022-10-31T05:09:05.427Z"
   },
   {
    "duration": 1604,
    "start_time": "2022-10-31T05:18:49.533Z"
   },
   {
    "duration": 1208,
    "start_time": "2022-10-31T05:19:29.376Z"
   },
   {
    "duration": 1384,
    "start_time": "2022-10-31T05:19:51.256Z"
   },
   {
    "duration": 1393,
    "start_time": "2022-10-31T05:20:11.543Z"
   },
   {
    "duration": 10,
    "start_time": "2022-10-31T05:20:19.329Z"
   },
   {
    "duration": 1252,
    "start_time": "2022-10-31T05:20:24.127Z"
   },
   {
    "duration": 1197,
    "start_time": "2022-10-31T05:20:50.471Z"
   },
   {
    "duration": 1915,
    "start_time": "2022-10-31T05:21:14.279Z"
   },
   {
    "duration": 1160,
    "start_time": "2022-10-31T05:22:26.923Z"
   },
   {
    "duration": 1291,
    "start_time": "2022-10-31T05:22:37.531Z"
   },
   {
    "duration": 1192,
    "start_time": "2022-10-31T05:23:31.565Z"
   },
   {
    "duration": 9,
    "start_time": "2022-10-31T05:23:54.356Z"
   },
   {
    "duration": 1136,
    "start_time": "2022-10-31T05:24:06.204Z"
   },
   {
    "duration": 1160,
    "start_time": "2022-10-31T05:24:57.597Z"
   },
   {
    "duration": 1614,
    "start_time": "2022-10-31T05:25:17.532Z"
   },
   {
    "duration": 473,
    "start_time": "2022-10-31T05:26:32.775Z"
   },
   {
    "duration": 23,
    "start_time": "2022-10-31T05:26:33.250Z"
   },
   {
    "duration": 15,
    "start_time": "2022-10-31T05:26:33.275Z"
   },
   {
    "duration": 9,
    "start_time": "2022-10-31T05:26:33.292Z"
   },
   {
    "duration": 6,
    "start_time": "2022-10-31T05:26:33.302Z"
   },
   {
    "duration": 33,
    "start_time": "2022-10-31T05:26:33.309Z"
   },
   {
    "duration": 4,
    "start_time": "2022-10-31T05:26:33.344Z"
   },
   {
    "duration": 9,
    "start_time": "2022-10-31T05:26:33.350Z"
   },
   {
    "duration": 5,
    "start_time": "2022-10-31T05:26:33.390Z"
   },
   {
    "duration": 6,
    "start_time": "2022-10-31T05:26:33.401Z"
   },
   {
    "duration": 5,
    "start_time": "2022-10-31T05:26:33.408Z"
   },
   {
    "duration": 34,
    "start_time": "2022-10-31T05:26:33.414Z"
   },
   {
    "duration": 9,
    "start_time": "2022-10-31T05:26:33.450Z"
   },
   {
    "duration": 4,
    "start_time": "2022-10-31T05:26:33.491Z"
   },
   {
    "duration": 11,
    "start_time": "2022-10-31T05:26:33.496Z"
   },
   {
    "duration": 18,
    "start_time": "2022-10-31T05:26:33.508Z"
   },
   {
    "duration": 17,
    "start_time": "2022-10-31T05:26:33.528Z"
   },
   {
    "duration": 4,
    "start_time": "2022-10-31T05:26:33.546Z"
   },
   {
    "duration": 22,
    "start_time": "2022-10-31T05:26:33.551Z"
   },
   {
    "duration": 6,
    "start_time": "2022-10-31T05:26:33.592Z"
   },
   {
    "duration": 3,
    "start_time": "2022-10-31T05:26:33.600Z"
   },
   {
    "duration": 9,
    "start_time": "2022-10-31T05:26:33.604Z"
   },
   {
    "duration": 2,
    "start_time": "2022-10-31T05:26:33.615Z"
   },
   {
    "duration": 6,
    "start_time": "2022-10-31T05:26:33.618Z"
   },
   {
    "duration": 3,
    "start_time": "2022-10-31T05:26:33.626Z"
   },
   {
    "duration": 11,
    "start_time": "2022-10-31T05:26:33.631Z"
   },
   {
    "duration": 1252,
    "start_time": "2022-10-31T05:26:33.643Z"
   },
   {
    "duration": 0,
    "start_time": "2022-10-31T05:26:34.897Z"
   },
   {
    "duration": 0,
    "start_time": "2022-10-31T05:26:34.898Z"
   },
   {
    "duration": 0,
    "start_time": "2022-10-31T05:26:34.899Z"
   },
   {
    "duration": 0,
    "start_time": "2022-10-31T05:26:34.900Z"
   },
   {
    "duration": 5,
    "start_time": "2022-10-31T05:27:32.110Z"
   },
   {
    "duration": 9,
    "start_time": "2022-10-31T05:27:55.660Z"
   },
   {
    "duration": 5,
    "start_time": "2022-10-31T05:28:10.908Z"
   },
   {
    "duration": 1116,
    "start_time": "2022-10-31T05:28:34.852Z"
   },
   {
    "duration": 1089,
    "start_time": "2022-10-31T05:28:57.655Z"
   },
   {
    "duration": 1336,
    "start_time": "2022-10-31T05:29:14.799Z"
   },
   {
    "duration": 1163,
    "start_time": "2022-10-31T05:29:36.725Z"
   },
   {
    "duration": 1118,
    "start_time": "2022-10-31T05:30:51.009Z"
   },
   {
    "duration": 967,
    "start_time": "2022-10-31T05:31:00.682Z"
   },
   {
    "duration": 1259,
    "start_time": "2022-10-31T05:31:09.739Z"
   },
   {
    "duration": 1198,
    "start_time": "2022-10-31T05:31:42.779Z"
   },
   {
    "duration": 5,
    "start_time": "2022-10-31T05:32:28.378Z"
   },
   {
    "duration": 9,
    "start_time": "2022-10-31T05:32:45.858Z"
   },
   {
    "duration": 1147,
    "start_time": "2022-10-31T05:32:59.676Z"
   },
   {
    "duration": 1129,
    "start_time": "2022-10-31T05:33:26.681Z"
   },
   {
    "duration": 1156,
    "start_time": "2022-10-31T05:33:37.855Z"
   },
   {
    "duration": 6,
    "start_time": "2022-10-31T05:33:45.739Z"
   },
   {
    "duration": 9,
    "start_time": "2022-10-31T05:34:13.999Z"
   },
   {
    "duration": 4,
    "start_time": "2022-10-31T05:34:33.912Z"
   },
   {
    "duration": 9,
    "start_time": "2022-10-31T05:35:11.768Z"
   },
   {
    "duration": 3,
    "start_time": "2022-10-31T05:36:12.320Z"
   },
   {
    "duration": 9,
    "start_time": "2022-10-31T05:36:31.094Z"
   },
   {
    "duration": 9,
    "start_time": "2022-10-31T05:37:04.215Z"
   },
   {
    "duration": 3,
    "start_time": "2022-10-31T05:39:21.085Z"
   },
   {
    "duration": 15,
    "start_time": "2022-10-31T05:39:28.477Z"
   },
   {
    "duration": 12,
    "start_time": "2022-10-31T05:41:48.380Z"
   },
   {
    "duration": 8,
    "start_time": "2022-10-31T05:43:22.153Z"
   },
   {
    "duration": 8,
    "start_time": "2022-10-31T05:44:00.297Z"
   },
   {
    "duration": 2,
    "start_time": "2022-10-31T05:45:52.314Z"
   },
   {
    "duration": 7,
    "start_time": "2022-10-31T05:45:54.187Z"
   },
   {
    "duration": 4,
    "start_time": "2022-10-31T05:46:14.494Z"
   },
   {
    "duration": 8,
    "start_time": "2022-10-31T05:46:16.876Z"
   },
   {
    "duration": 3,
    "start_time": "2022-10-31T05:46:41.221Z"
   },
   {
    "duration": 15,
    "start_time": "2022-10-31T05:46:43.472Z"
   },
   {
    "duration": 2,
    "start_time": "2022-10-31T05:47:44.281Z"
   },
   {
    "duration": 7,
    "start_time": "2022-10-31T05:47:45.840Z"
   },
   {
    "duration": 3,
    "start_time": "2022-10-31T05:48:24.918Z"
   },
   {
    "duration": 15,
    "start_time": "2022-10-31T05:48:25.853Z"
   },
   {
    "duration": 2,
    "start_time": "2022-10-31T05:48:49.253Z"
   },
   {
    "duration": 7,
    "start_time": "2022-10-31T05:48:51.355Z"
   },
   {
    "duration": 4,
    "start_time": "2022-10-31T08:27:17.077Z"
   },
   {
    "duration": 8,
    "start_time": "2022-10-31T08:27:22.411Z"
   },
   {
    "duration": 4,
    "start_time": "2022-10-31T08:30:40.330Z"
   },
   {
    "duration": 4,
    "start_time": "2022-10-31T08:31:33.156Z"
   },
   {
    "duration": 1478,
    "start_time": "2022-10-31T08:32:18.579Z"
   },
   {
    "duration": 1129,
    "start_time": "2022-10-31T08:32:40.620Z"
   },
   {
    "duration": 1164,
    "start_time": "2022-10-31T08:33:12.373Z"
   },
   {
    "duration": 4,
    "start_time": "2022-10-31T08:33:27.380Z"
   },
   {
    "duration": 1167,
    "start_time": "2022-10-31T08:33:37.740Z"
   },
   {
    "duration": 1233,
    "start_time": "2022-10-31T08:33:54.469Z"
   },
   {
    "duration": 5,
    "start_time": "2022-10-31T08:34:02.621Z"
   },
   {
    "duration": 10,
    "start_time": "2022-10-31T08:34:44.181Z"
   },
   {
    "duration": 8,
    "start_time": "2022-10-31T08:34:54.311Z"
   },
   {
    "duration": 5,
    "start_time": "2022-10-31T08:36:15.167Z"
   },
   {
    "duration": 6,
    "start_time": "2022-10-31T08:36:40.177Z"
   },
   {
    "duration": 5,
    "start_time": "2022-10-31T08:39:56.341Z"
   },
   {
    "duration": 3,
    "start_time": "2022-10-31T08:44:49.859Z"
   },
   {
    "duration": 19,
    "start_time": "2022-10-31T08:45:56.676Z"
   },
   {
    "duration": 3,
    "start_time": "2022-10-31T08:46:56.165Z"
   },
   {
    "duration": 17,
    "start_time": "2022-10-31T08:47:00.287Z"
   },
   {
    "duration": 5,
    "start_time": "2022-10-31T08:48:09.576Z"
   },
   {
    "duration": 1163,
    "start_time": "2022-10-31T08:48:31.346Z"
   },
   {
    "duration": 5,
    "start_time": "2022-10-31T08:48:49.618Z"
   },
   {
    "duration": 5,
    "start_time": "2022-10-31T08:49:15.745Z"
   },
   {
    "duration": 1130,
    "start_time": "2022-10-31T08:49:33.392Z"
   },
   {
    "duration": 4,
    "start_time": "2022-10-31T08:49:53.491Z"
   },
   {
    "duration": 6,
    "start_time": "2022-10-31T08:50:13.458Z"
   },
   {
    "duration": 70,
    "start_time": "2022-10-31T08:51:14.914Z"
   },
   {
    "duration": 7,
    "start_time": "2022-10-31T08:51:43.006Z"
   },
   {
    "duration": 8,
    "start_time": "2022-10-31T08:53:51.095Z"
   },
   {
    "duration": 8,
    "start_time": "2022-10-31T08:54:21.153Z"
   },
   {
    "duration": 7,
    "start_time": "2022-10-31T08:55:02.244Z"
   },
   {
    "duration": 483,
    "start_time": "2022-10-31T08:57:04.519Z"
   },
   {
    "duration": 26,
    "start_time": "2022-10-31T08:57:05.005Z"
   },
   {
    "duration": 18,
    "start_time": "2022-10-31T08:57:05.033Z"
   },
   {
    "duration": 40,
    "start_time": "2022-10-31T08:57:05.054Z"
   },
   {
    "duration": 6,
    "start_time": "2022-10-31T08:57:05.096Z"
   },
   {
    "duration": 34,
    "start_time": "2022-10-31T08:57:05.104Z"
   },
   {
    "duration": 4,
    "start_time": "2022-10-31T08:57:05.140Z"
   },
   {
    "duration": 15,
    "start_time": "2022-10-31T08:57:05.146Z"
   },
   {
    "duration": 31,
    "start_time": "2022-10-31T08:57:05.163Z"
   },
   {
    "duration": 7,
    "start_time": "2022-10-31T08:57:05.198Z"
   },
   {
    "duration": 12,
    "start_time": "2022-10-31T08:57:05.206Z"
   },
   {
    "duration": 39,
    "start_time": "2022-10-31T08:57:05.220Z"
   },
   {
    "duration": 30,
    "start_time": "2022-10-31T08:57:05.261Z"
   },
   {
    "duration": 5,
    "start_time": "2022-10-31T08:57:05.293Z"
   },
   {
    "duration": 13,
    "start_time": "2022-10-31T08:57:05.299Z"
   },
   {
    "duration": 21,
    "start_time": "2022-10-31T08:57:05.314Z"
   },
   {
    "duration": 19,
    "start_time": "2022-10-31T08:57:05.337Z"
   },
   {
    "duration": 33,
    "start_time": "2022-10-31T08:57:05.358Z"
   },
   {
    "duration": 12,
    "start_time": "2022-10-31T08:57:05.393Z"
   },
   {
    "duration": 7,
    "start_time": "2022-10-31T08:57:05.407Z"
   },
   {
    "duration": 4,
    "start_time": "2022-10-31T08:57:05.416Z"
   },
   {
    "duration": 13,
    "start_time": "2022-10-31T08:57:05.422Z"
   },
   {
    "duration": 8,
    "start_time": "2022-10-31T08:57:05.437Z"
   },
   {
    "duration": 9,
    "start_time": "2022-10-31T08:57:05.447Z"
   },
   {
    "duration": 6,
    "start_time": "2022-10-31T08:57:05.458Z"
   },
   {
    "duration": 33,
    "start_time": "2022-10-31T08:57:05.465Z"
   },
   {
    "duration": 6,
    "start_time": "2022-10-31T08:57:05.500Z"
   },
   {
    "duration": 3,
    "start_time": "2022-10-31T08:57:05.509Z"
   },
   {
    "duration": 21,
    "start_time": "2022-10-31T08:57:05.514Z"
   },
   {
    "duration": 937,
    "start_time": "2022-10-31T08:57:05.537Z"
   },
   {
    "duration": 0,
    "start_time": "2022-10-31T08:57:06.476Z"
   },
   {
    "duration": 0,
    "start_time": "2022-10-31T08:57:06.477Z"
   },
   {
    "duration": 3,
    "start_time": "2022-10-31T08:59:36.995Z"
   },
   {
    "duration": 1220,
    "start_time": "2022-10-31T09:00:10.971Z"
   },
   {
    "duration": 3,
    "start_time": "2022-10-31T09:02:31.651Z"
   },
   {
    "duration": 12,
    "start_time": "2022-10-31T09:02:40.745Z"
   },
   {
    "duration": 12,
    "start_time": "2022-10-31T09:03:50.568Z"
   },
   {
    "duration": 11,
    "start_time": "2022-10-31T09:04:14.377Z"
   },
   {
    "duration": 6,
    "start_time": "2022-10-31T09:08:14.679Z"
   },
   {
    "duration": 16,
    "start_time": "2022-10-31T09:09:39.344Z"
   },
   {
    "duration": 34,
    "start_time": "2022-10-31T09:10:23.316Z"
   },
   {
    "duration": 18,
    "start_time": "2022-10-31T09:11:00.665Z"
   },
   {
    "duration": 11,
    "start_time": "2022-10-31T09:11:13.756Z"
   },
   {
    "duration": 15,
    "start_time": "2022-10-31T09:12:19.588Z"
   },
   {
    "duration": 16,
    "start_time": "2022-10-31T09:13:44.581Z"
   },
   {
    "duration": 3,
    "start_time": "2022-10-31T09:14:26.385Z"
   },
   {
    "duration": 7,
    "start_time": "2022-10-31T09:14:51.123Z"
   },
   {
    "duration": 16,
    "start_time": "2022-10-31T09:44:37.380Z"
   },
   {
    "duration": 7,
    "start_time": "2022-10-31T09:44:48.511Z"
   },
   {
    "duration": 16,
    "start_time": "2022-10-31T09:54:59.264Z"
   },
   {
    "duration": 45,
    "start_time": "2022-10-31T11:04:50.754Z"
   },
   {
    "duration": 660,
    "start_time": "2022-10-31T11:04:54.751Z"
   },
   {
    "duration": 23,
    "start_time": "2022-10-31T11:04:55.413Z"
   },
   {
    "duration": 14,
    "start_time": "2022-10-31T11:04:55.438Z"
   },
   {
    "duration": 13,
    "start_time": "2022-10-31T11:04:55.454Z"
   },
   {
    "duration": 7,
    "start_time": "2022-10-31T11:04:55.468Z"
   },
   {
    "duration": 53,
    "start_time": "2022-10-31T11:04:55.477Z"
   },
   {
    "duration": 3,
    "start_time": "2022-10-31T11:04:55.532Z"
   },
   {
    "duration": 12,
    "start_time": "2022-10-31T11:04:55.537Z"
   },
   {
    "duration": 4,
    "start_time": "2022-10-31T11:04:55.551Z"
   },
   {
    "duration": 9,
    "start_time": "2022-10-31T11:04:55.559Z"
   },
   {
    "duration": 5,
    "start_time": "2022-10-31T11:04:55.570Z"
   },
   {
    "duration": 63,
    "start_time": "2022-10-31T11:04:55.577Z"
   },
   {
    "duration": 10,
    "start_time": "2022-10-31T11:04:55.642Z"
   },
   {
    "duration": 8,
    "start_time": "2022-10-31T11:04:55.654Z"
   },
   {
    "duration": 15,
    "start_time": "2022-10-31T11:04:55.663Z"
   },
   {
    "duration": 42,
    "start_time": "2022-10-31T11:04:55.679Z"
   },
   {
    "duration": 24,
    "start_time": "2022-10-31T11:04:55.723Z"
   },
   {
    "duration": 5,
    "start_time": "2022-10-31T11:04:55.749Z"
   },
   {
    "duration": 22,
    "start_time": "2022-10-31T11:04:55.756Z"
   },
   {
    "duration": 39,
    "start_time": "2022-10-31T11:04:55.780Z"
   },
   {
    "duration": 6,
    "start_time": "2022-10-31T11:04:55.821Z"
   },
   {
    "duration": 26,
    "start_time": "2022-10-31T11:04:55.829Z"
   },
   {
    "duration": 36,
    "start_time": "2022-10-31T11:04:55.856Z"
   },
   {
    "duration": 3,
    "start_time": "2022-10-31T11:04:55.894Z"
   },
   {
    "duration": 13,
    "start_time": "2022-10-31T11:04:55.899Z"
   },
   {
    "duration": 27,
    "start_time": "2022-10-31T11:04:55.914Z"
   },
   {
    "duration": 19,
    "start_time": "2022-10-31T11:04:55.943Z"
   },
   {
    "duration": 5,
    "start_time": "2022-10-31T11:04:55.966Z"
   },
   {
    "duration": 19,
    "start_time": "2022-10-31T11:04:55.973Z"
   },
   {
    "duration": 41,
    "start_time": "2022-10-31T11:04:55.994Z"
   },
   {
    "duration": 750,
    "start_time": "2022-11-01T05:03:49.339Z"
   },
   {
    "duration": 22,
    "start_time": "2022-11-01T05:03:50.091Z"
   },
   {
    "duration": 15,
    "start_time": "2022-11-01T05:03:50.115Z"
   },
   {
    "duration": 9,
    "start_time": "2022-11-01T05:03:50.132Z"
   },
   {
    "duration": 7,
    "start_time": "2022-11-01T05:03:50.142Z"
   },
   {
    "duration": 41,
    "start_time": "2022-11-01T05:03:50.150Z"
   },
   {
    "duration": 4,
    "start_time": "2022-11-01T05:03:50.193Z"
   },
   {
    "duration": 11,
    "start_time": "2022-11-01T05:03:50.198Z"
   },
   {
    "duration": 25,
    "start_time": "2022-11-01T05:03:50.211Z"
   },
   {
    "duration": 6,
    "start_time": "2022-11-01T05:03:50.240Z"
   },
   {
    "duration": 4,
    "start_time": "2022-11-01T05:03:50.248Z"
   },
   {
    "duration": 35,
    "start_time": "2022-11-01T05:03:50.253Z"
   },
   {
    "duration": 10,
    "start_time": "2022-11-01T05:03:50.290Z"
   },
   {
    "duration": 33,
    "start_time": "2022-11-01T05:03:50.301Z"
   },
   {
    "duration": 17,
    "start_time": "2022-11-01T05:03:50.336Z"
   },
   {
    "duration": 20,
    "start_time": "2022-11-01T05:03:50.354Z"
   },
   {
    "duration": 18,
    "start_time": "2022-11-01T05:03:50.375Z"
   },
   {
    "duration": 4,
    "start_time": "2022-11-01T05:03:50.394Z"
   },
   {
    "duration": 13,
    "start_time": "2022-11-01T05:03:50.399Z"
   },
   {
    "duration": 29,
    "start_time": "2022-11-01T05:03:50.413Z"
   },
   {
    "duration": 3,
    "start_time": "2022-11-01T05:03:50.444Z"
   },
   {
    "duration": 14,
    "start_time": "2022-11-01T05:03:50.448Z"
   },
   {
    "duration": 21,
    "start_time": "2022-11-01T05:03:50.464Z"
   },
   {
    "duration": 4,
    "start_time": "2022-11-01T05:03:50.487Z"
   },
   {
    "duration": 12,
    "start_time": "2022-11-01T05:03:50.492Z"
   },
   {
    "duration": 51,
    "start_time": "2022-11-01T05:03:50.505Z"
   },
   {
    "duration": 14,
    "start_time": "2022-11-01T05:03:50.558Z"
   },
   {
    "duration": 6,
    "start_time": "2022-11-01T05:03:50.575Z"
   },
   {
    "duration": 22,
    "start_time": "2022-11-01T05:03:50.582Z"
   },
   {
    "duration": 42,
    "start_time": "2022-11-01T05:03:50.605Z"
   },
   {
    "duration": 25,
    "start_time": "2022-11-01T05:04:15.371Z"
   },
   {
    "duration": 38,
    "start_time": "2022-11-01T05:05:35.436Z"
   },
   {
    "duration": 26,
    "start_time": "2022-11-01T05:06:47.129Z"
   }
  ],
  "colab": {
   "name": "dpp_template_part2.ipynb",
   "provenance": []
  },
  "kernelspec": {
   "display_name": "Python 3 (ipykernel)",
   "language": "python",
   "name": "python3"
  },
  "language_info": {
   "codemirror_mode": {
    "name": "ipython",
    "version": 3
   },
   "file_extension": ".py",
   "mimetype": "text/x-python",
   "name": "python",
   "nbconvert_exporter": "python",
   "pygments_lexer": "ipython3",
   "version": "3.9.16"
  },
  "toc": {
   "base_numbering": 1,
   "nav_menu": {},
   "number_sections": true,
   "sideBar": true,
   "skip_h1_title": true,
   "title_cell": "Table of Contents",
   "title_sidebar": "Contents",
   "toc_cell": false,
   "toc_position": {},
   "toc_section_display": true,
   "toc_window_display": false
  }
 },
 "nbformat": 4,
 "nbformat_minor": 5
}
