{
 "cells": [
  {
   "cell_type": "markdown",
   "metadata": {
    "toc": true
   },
   "source": [
    "<h1>Содержание<span class=\"tocSkip\"></span></h1>\n",
    "<div class=\"toc\"><ul class=\"toc-item\"><li><span><a href=\"#Подготовка\" data-toc-modified-id=\"Подготовка-1\"><span class=\"toc-item-num\">1&nbsp;&nbsp;</span>Подготовка</a></span></li><li><span><a href=\"#Анализ\" data-toc-modified-id=\"Анализ-2\"><span class=\"toc-item-num\">2&nbsp;&nbsp;</span>Анализ</a></span></li><li><span><a href=\"#Обучение\" data-toc-modified-id=\"Обучение-3\"><span class=\"toc-item-num\">3&nbsp;&nbsp;</span>Обучение</a></span></li><li><span><a href=\"#Тестирование\" data-toc-modified-id=\"Тестирование-4\"><span class=\"toc-item-num\">4&nbsp;&nbsp;</span>Тестирование</a></span></li><li><span><a href=\"#Чек-лист-проверки\" data-toc-modified-id=\"Чек-лист-проверки-5\"><span class=\"toc-item-num\">5&nbsp;&nbsp;</span>Чек-лист проверки</a></span></li></ul></div>"
   ]
  },
  {
   "cell_type": "markdown",
   "metadata": {},
   "source": [
    "#  Прогнозирование заказов такси"
   ]
  },
  {
   "cell_type": "markdown",
   "metadata": {},
   "source": [
    "Компания «Чётенькое такси» собрала исторические данные о заказах такси в аэропортах. Чтобы привлекать больше водителей в период пиковой нагрузки, нужно спрогнозировать количество заказов такси на следующий час. Нужно построить модель для такого предсказания, и добиться, чтобы значение метрики *RMSE* на тестовой выборке было не более 48.\n",
    "\n",
    "Этапы выполнения проекта:\n",
    "\n",
    "1. Загружу данные и выполню их ресемплирование по одному часу.\n",
    "2. Проанализирую данные.\n",
    "3. Обучу разные модели с различными гиперпараметрами. Сделаю тестовую выборку размером 10% от исходных данных.\n",
    "4. Проверю данные на тестовой выборке и сделаю выводы.\n",
    "\n",
    "\n",
    "Данные лежат в файле `taxi.csv`. Количество заказов находится в столбце `num_orders`."
   ]
  },
  {
   "cell_type": "markdown",
   "metadata": {},
   "source": [
    "## Подготовка"
   ]
  },
  {
   "cell_type": "code",
   "execution_count": 1,
   "metadata": {},
   "outputs": [],
   "source": [
    "# Импортирую необходимые библиотеки.\n",
    "import matplotlib.pyplot as plt\n",
    "import numpy as np\n",
    "import pandas as pd\n",
    "from lightgbm import LGBMRegressor\n",
    "from sklearn.ensemble import RandomForestRegressor\n",
    "from sklearn.linear_model import LinearRegression\n",
    "from sklearn.metrics import mean_squared_error\n",
    "from sklearn.model_selection import GridSearchCV, TimeSeriesSplit, train_test_split, cross_val_score\n",
    "from sklearn.tree import DecisionTreeRegressor\n",
    "from statsmodels.tsa.seasonal import seasonal_decompose"
   ]
  },
  {
   "cell_type": "code",
   "execution_count": 2,
   "metadata": {
    "scrolled": true
   },
   "outputs": [
    {
     "name": "stdout",
     "output_type": "stream",
     "text": [
      "<class 'pandas.core.frame.DataFrame'>\n",
      "DatetimeIndex: 26496 entries, 2018-03-01 00:00:00 to 2018-08-31 23:50:00\n",
      "Data columns (total 1 columns):\n",
      " #   Column      Non-Null Count  Dtype\n",
      "---  ------      --------------  -----\n",
      " 0   num_orders  26496 non-null  int64\n",
      "dtypes: int64(1)\n",
      "memory usage: 414.0 KB\n"
     ]
    }
   ],
   "source": [
    "# Импортирую данные, отсортирую их по дате.\n",
    "df = pd.read_csv('/datasets/taxi.csv', index_col=[0], parse_dates=[0])\n",
    "#df = pd.read_csv('taxi.csv', index_col=[0], parse_dates=[0])\n",
    "df.sort_index(inplace=True)\n",
    "df.info()"
   ]
  },
  {
   "cell_type": "code",
   "execution_count": 3,
   "metadata": {},
   "outputs": [
    {
     "name": "stdout",
     "output_type": "stream",
     "text": [
      "<class 'pandas.core.frame.DataFrame'>\n",
      "DatetimeIndex: 4416 entries, 2018-03-01 00:00:00 to 2018-08-31 23:00:00\n",
      "Freq: H\n",
      "Data columns (total 1 columns):\n",
      " #   Column      Non-Null Count  Dtype\n",
      "---  ------      --------------  -----\n",
      " 0   num_orders  4416 non-null   int64\n",
      "dtypes: int64(1)\n",
      "memory usage: 69.0 KB\n"
     ]
    }
   ],
   "source": [
    "# Ресемплирую данные по 1 часу.\n",
    "df = df.resample('1H').sum()\n",
    "df.info()"
   ]
  },
  {
   "cell_type": "markdown",
   "metadata": {},
   "source": [
    "При загрузке датасета дату я сразу перевёл в формат DateTime и поместил его в индекс."
   ]
  },
  {
   "cell_type": "markdown",
   "metadata": {},
   "source": [
    "## Анализ"
   ]
  },
  {
   "cell_type": "code",
   "execution_count": 4,
   "metadata": {},
   "outputs": [
    {
     "data": {
      "text/html": [
       "<div>\n",
       "<style scoped>\n",
       "    .dataframe tbody tr th:only-of-type {\n",
       "        vertical-align: middle;\n",
       "    }\n",
       "\n",
       "    .dataframe tbody tr th {\n",
       "        vertical-align: top;\n",
       "    }\n",
       "\n",
       "    .dataframe thead th {\n",
       "        text-align: right;\n",
       "    }\n",
       "</style>\n",
       "<table border=\"1\" class=\"dataframe\">\n",
       "  <thead>\n",
       "    <tr style=\"text-align: right;\">\n",
       "      <th></th>\n",
       "      <th>num_orders</th>\n",
       "    </tr>\n",
       "    <tr>\n",
       "      <th>datetime</th>\n",
       "      <th></th>\n",
       "    </tr>\n",
       "  </thead>\n",
       "  <tbody>\n",
       "    <tr>\n",
       "      <th>2018-03-01 00:00:00</th>\n",
       "      <td>124</td>\n",
       "    </tr>\n",
       "    <tr>\n",
       "      <th>2018-03-01 01:00:00</th>\n",
       "      <td>85</td>\n",
       "    </tr>\n",
       "    <tr>\n",
       "      <th>2018-03-01 02:00:00</th>\n",
       "      <td>71</td>\n",
       "    </tr>\n",
       "    <tr>\n",
       "      <th>2018-03-01 03:00:00</th>\n",
       "      <td>66</td>\n",
       "    </tr>\n",
       "    <tr>\n",
       "      <th>2018-03-01 04:00:00</th>\n",
       "      <td>43</td>\n",
       "    </tr>\n",
       "    <tr>\n",
       "      <th>2018-03-01 05:00:00</th>\n",
       "      <td>6</td>\n",
       "    </tr>\n",
       "    <tr>\n",
       "      <th>2018-03-01 06:00:00</th>\n",
       "      <td>12</td>\n",
       "    </tr>\n",
       "    <tr>\n",
       "      <th>2018-03-01 07:00:00</th>\n",
       "      <td>15</td>\n",
       "    </tr>\n",
       "    <tr>\n",
       "      <th>2018-03-01 08:00:00</th>\n",
       "      <td>34</td>\n",
       "    </tr>\n",
       "    <tr>\n",
       "      <th>2018-03-01 09:00:00</th>\n",
       "      <td>69</td>\n",
       "    </tr>\n",
       "  </tbody>\n",
       "</table>\n",
       "</div>"
      ],
      "text/plain": [
       "                     num_orders\n",
       "datetime                       \n",
       "2018-03-01 00:00:00         124\n",
       "2018-03-01 01:00:00          85\n",
       "2018-03-01 02:00:00          71\n",
       "2018-03-01 03:00:00          66\n",
       "2018-03-01 04:00:00          43\n",
       "2018-03-01 05:00:00           6\n",
       "2018-03-01 06:00:00          12\n",
       "2018-03-01 07:00:00          15\n",
       "2018-03-01 08:00:00          34\n",
       "2018-03-01 09:00:00          69"
      ]
     },
     "execution_count": 4,
     "metadata": {},
     "output_type": "execute_result"
    }
   ],
   "source": [
    "df.head(10)"
   ]
  },
  {
   "cell_type": "code",
   "execution_count": 5,
   "metadata": {},
   "outputs": [
    {
     "data": {
      "text/html": [
       "<div>\n",
       "<style scoped>\n",
       "    .dataframe tbody tr th:only-of-type {\n",
       "        vertical-align: middle;\n",
       "    }\n",
       "\n",
       "    .dataframe tbody tr th {\n",
       "        vertical-align: top;\n",
       "    }\n",
       "\n",
       "    .dataframe thead th {\n",
       "        text-align: right;\n",
       "    }\n",
       "</style>\n",
       "<table border=\"1\" class=\"dataframe\">\n",
       "  <thead>\n",
       "    <tr style=\"text-align: right;\">\n",
       "      <th></th>\n",
       "      <th>num_orders</th>\n",
       "    </tr>\n",
       "  </thead>\n",
       "  <tbody>\n",
       "    <tr>\n",
       "      <th>count</th>\n",
       "      <td>4416.000000</td>\n",
       "    </tr>\n",
       "    <tr>\n",
       "      <th>mean</th>\n",
       "      <td>84.422781</td>\n",
       "    </tr>\n",
       "    <tr>\n",
       "      <th>std</th>\n",
       "      <td>45.023853</td>\n",
       "    </tr>\n",
       "    <tr>\n",
       "      <th>min</th>\n",
       "      <td>0.000000</td>\n",
       "    </tr>\n",
       "    <tr>\n",
       "      <th>25%</th>\n",
       "      <td>54.000000</td>\n",
       "    </tr>\n",
       "    <tr>\n",
       "      <th>50%</th>\n",
       "      <td>78.000000</td>\n",
       "    </tr>\n",
       "    <tr>\n",
       "      <th>75%</th>\n",
       "      <td>107.000000</td>\n",
       "    </tr>\n",
       "    <tr>\n",
       "      <th>max</th>\n",
       "      <td>462.000000</td>\n",
       "    </tr>\n",
       "  </tbody>\n",
       "</table>\n",
       "</div>"
      ],
      "text/plain": [
       "        num_orders\n",
       "count  4416.000000\n",
       "mean     84.422781\n",
       "std      45.023853\n",
       "min       0.000000\n",
       "25%      54.000000\n",
       "50%      78.000000\n",
       "75%     107.000000\n",
       "max     462.000000"
      ]
     },
     "execution_count": 5,
     "metadata": {},
     "output_type": "execute_result"
    }
   ],
   "source": [
    "df.describe()"
   ]
  },
  {
   "cell_type": "markdown",
   "metadata": {},
   "source": [
    "Имеем 4416 записей, с 01 марта по 31 августа 2018 года. По количеству заказов в час - имеем разброс: от 0 (нет заказов) до 462."
   ]
  },
  {
   "cell_type": "code",
   "execution_count": 6,
   "metadata": {
    "scrolled": true
   },
   "outputs": [
    {
     "data": {
      "image/png": "[encoded data removed]",
      "text/plain": [
       "<Figure size 936x360 with 1 Axes>"
      ]
     },
     "metadata": {
      "needs_background": "light"
     },
     "output_type": "display_data"
    }
   ],
   "source": [
    "plt.figure(figsize=(13,5))\n",
    "plt.title('Распределение количества заказов такси в час')\n",
    "df['num_orders'].plot();"
   ]
  },
  {
   "cell_type": "markdown",
   "metadata": {},
   "source": [
    "Временной ряд не стационарен. Со временем меняется его среднее значение и дисперсия. Имеются выбросы."
   ]
  },
  {
   "cell_type": "code",
   "execution_count": 7,
   "metadata": {},
   "outputs": [],
   "source": [
    "# Сделаю декомпозицию временного ряда, чтобы разложить его на тренды и сезонность\n",
    "decomposed = seasonal_decompose(df['num_orders'])"
   ]
  },
  {
   "cell_type": "markdown",
   "metadata": {},
   "source": [
    "Визуализирую тренд в середине анализируемого периода, в течение недели, с понедельника по воскресенье:"
   ]
  },
  {
   "cell_type": "code",
   "execution_count": 8,
   "metadata": {},
   "outputs": [
    {
     "data": {
      "image/png": "[encoded data removed]",
      "text/plain": [
       "<Figure size 936x360 with 1 Axes>"
      ]
     },
     "metadata": {
      "needs_background": "light"
     },
     "output_type": "display_data"
    }
   ],
   "source": [
    "plt.figure(figsize=(13,5))\n",
    "plt.title('Тренд за неделю, с пон. 04.06.18 по воскр. 10.06.18')\n",
    "decomposed.trend['2018-06-04':'2018-06-10'].plot();"
   ]
  },
  {
   "cell_type": "markdown",
   "metadata": {},
   "source": [
    "Визуализирую сезонность в середине анализируемого периода, в течение 2-х дней, в среду и в четверг:"
   ]
  },
  {
   "cell_type": "code",
   "execution_count": 9,
   "metadata": {},
   "outputs": [
    {
     "data": {
      "image/png": "[encoded data removed]",
      "text/plain": [
       "<Figure size 936x360 with 1 Axes>"
      ]
     },
     "metadata": {
      "needs_background": "light"
     },
     "output_type": "display_data"
    }
   ],
   "source": [
    "plt.figure(figsize=(13,5))\n",
    "plt.title('Сезонность за 2 дня: ср. 06.06.18 и чт. 07.06.18')\n",
    "decomposed.seasonal['2018-06-06':'2018-06-07'].plot();"
   ]
  },
  {
   "cell_type": "markdown",
   "metadata": {},
   "source": [
    "Видно, что количество заказов меняется в течение недели (ко вторнику падают, далее со среды начинается рост, с пиком в период с пятницы по воскресенье). По сезонности видим, что количество заказов меняется волнами в течении дня (связано с графиком прилёта рейсов, день-ото дня эти волны повторяются по времени)."
   ]
  },
  {
   "cell_type": "markdown",
   "metadata": {},
   "source": [
    "## Обучение"
   ]
  },
  {
   "cell_type": "code",
   "execution_count": 11,
   "metadata": {},
   "outputs": [],
   "source": [
    "# Функция подбора количества лагов и скользящего среднего\n",
    "def make_features(dframe, max_lag, rolling_mean_size):\n",
    "    df_copy = dframe.copy()\n",
    "    df_copy['month'] = df_copy.index.month\n",
    "    df_copy['day'] = df_copy.index.day\n",
    "    df_copy['dayofweek'] = df_copy.index.dayofweek\n",
    "    for lag in range(1, max_lag + 1):\n",
    "        df_copy['lag_{}'.format(lag)] = df_copy['num_orders'].shift(lag)\n",
    "    df_copy['rolling_mean'] = df_copy['num_orders'].shift().rolling(rolling_mean_size).mean()\n",
    "    \n",
    "    df_copy = df_copy.dropna()\n",
    "    feat = df_copy.drop(columns=['num_orders'])\n",
    "    targ = df_copy.num_orders\n",
    "    feat_train, feat_test, targ_train, targ_test = train_test_split(feat, targ, shuffle=False, test_size=0.1)\n",
    "\n",
    "    model = LinearRegression()\n",
    "     \n",
    "    score = -cross_val_score(model, feat_train, targ_train, scoring='neg_root_mean_squared_error', cv=TimeSeriesSplit()).mean()\n",
    "    return score"
   ]
  },
  {
   "cell_type": "code",
   "execution_count": 12,
   "metadata": {},
   "outputs": [
    {
     "name": "stdout",
     "output_type": "stream",
     "text": [
      "best_rmse: 27.03\n",
      "best_lag: 24\n",
      "best_rolling: 1\n"
     ]
    }
   ],
   "source": [
    "# Подберу оптимальное количество лагов и скользящее среднее\n",
    "best_rmse = 9999999999999999999999999\n",
    "best_lag = 0\n",
    "best_rolling = 0\n",
    "for r in range(1, 25):\n",
    "    for i in range(1, 25):\n",
    "        rmse = make_features(df, i, r)\n",
    "        if rmse < best_rmse:\n",
    "            best_rmse = rmse\n",
    "            best_lag = i\n",
    "            best_rolling = r\n",
    "print('best_rmse:', best_rmse.round(2))\n",
    "print('best_lag:', best_lag)\n",
    "print('best_rolling:', best_rolling)"
   ]
  },
  {
   "cell_type": "markdown",
   "metadata": {},
   "source": [
    "Для подбора параметров применил Линейную регрессию. Лучшее RMSE на ней получилось 27.03 при 24 логах и шириной скользящего среднего = 5.\n",
    "\n",
    "Создам признаки для горизонта прогнозирования, в соответствии с этими найденными параметрами:"
   ]
  },
  {
   "cell_type": "code",
   "execution_count": 13,
   "metadata": {},
   "outputs": [
    {
     "data": {
      "text/html": [
       "<div>\n",
       "<style scoped>\n",
       "    .dataframe tbody tr th:only-of-type {\n",
       "        vertical-align: middle;\n",
       "    }\n",
       "\n",
       "    .dataframe tbody tr th {\n",
       "        vertical-align: top;\n",
       "    }\n",
       "\n",
       "    .dataframe thead th {\n",
       "        text-align: right;\n",
       "    }\n",
       "</style>\n",
       "<table border=\"1\" class=\"dataframe\">\n",
       "  <thead>\n",
       "    <tr style=\"text-align: right;\">\n",
       "      <th></th>\n",
       "      <th>num_orders</th>\n",
       "      <th>month</th>\n",
       "      <th>day</th>\n",
       "      <th>dayofweek</th>\n",
       "      <th>lag_1</th>\n",
       "      <th>lag_2</th>\n",
       "      <th>lag_3</th>\n",
       "      <th>lag_4</th>\n",
       "      <th>lag_5</th>\n",
       "      <th>lag_6</th>\n",
       "      <th>...</th>\n",
       "      <th>lag_16</th>\n",
       "      <th>lag_17</th>\n",
       "      <th>lag_18</th>\n",
       "      <th>lag_19</th>\n",
       "      <th>lag_20</th>\n",
       "      <th>lag_21</th>\n",
       "      <th>lag_22</th>\n",
       "      <th>lag_23</th>\n",
       "      <th>lag_24</th>\n",
       "      <th>rolling_mean</th>\n",
       "    </tr>\n",
       "    <tr>\n",
       "      <th>datetime</th>\n",
       "      <th></th>\n",
       "      <th></th>\n",
       "      <th></th>\n",
       "      <th></th>\n",
       "      <th></th>\n",
       "      <th></th>\n",
       "      <th></th>\n",
       "      <th></th>\n",
       "      <th></th>\n",
       "      <th></th>\n",
       "      <th></th>\n",
       "      <th></th>\n",
       "      <th></th>\n",
       "      <th></th>\n",
       "      <th></th>\n",
       "      <th></th>\n",
       "      <th></th>\n",
       "      <th></th>\n",
       "      <th></th>\n",
       "      <th></th>\n",
       "      <th></th>\n",
       "    </tr>\n",
       "  </thead>\n",
       "  <tbody>\n",
       "    <tr>\n",
       "      <th>2018-03-01 00:00:00</th>\n",
       "      <td>124</td>\n",
       "      <td>3</td>\n",
       "      <td>1</td>\n",
       "      <td>3</td>\n",
       "      <td>NaN</td>\n",
       "      <td>NaN</td>\n",
       "      <td>NaN</td>\n",
       "      <td>NaN</td>\n",
       "      <td>NaN</td>\n",
       "      <td>NaN</td>\n",
       "      <td>...</td>\n",
       "      <td>NaN</td>\n",
       "      <td>NaN</td>\n",
       "      <td>NaN</td>\n",
       "      <td>NaN</td>\n",
       "      <td>NaN</td>\n",
       "      <td>NaN</td>\n",
       "      <td>NaN</td>\n",
       "      <td>NaN</td>\n",
       "      <td>NaN</td>\n",
       "      <td>NaN</td>\n",
       "    </tr>\n",
       "    <tr>\n",
       "      <th>2018-03-01 01:00:00</th>\n",
       "      <td>85</td>\n",
       "      <td>3</td>\n",
       "      <td>1</td>\n",
       "      <td>3</td>\n",
       "      <td>124.0</td>\n",
       "      <td>NaN</td>\n",
       "      <td>NaN</td>\n",
       "      <td>NaN</td>\n",
       "      <td>NaN</td>\n",
       "      <td>NaN</td>\n",
       "      <td>...</td>\n",
       "      <td>NaN</td>\n",
       "      <td>NaN</td>\n",
       "      <td>NaN</td>\n",
       "      <td>NaN</td>\n",
       "      <td>NaN</td>\n",
       "      <td>NaN</td>\n",
       "      <td>NaN</td>\n",
       "      <td>NaN</td>\n",
       "      <td>NaN</td>\n",
       "      <td>124.0</td>\n",
       "    </tr>\n",
       "    <tr>\n",
       "      <th>2018-03-01 02:00:00</th>\n",
       "      <td>71</td>\n",
       "      <td>3</td>\n",
       "      <td>1</td>\n",
       "      <td>3</td>\n",
       "      <td>85.0</td>\n",
       "      <td>124.0</td>\n",
       "      <td>NaN</td>\n",
       "      <td>NaN</td>\n",
       "      <td>NaN</td>\n",
       "      <td>NaN</td>\n",
       "      <td>...</td>\n",
       "      <td>NaN</td>\n",
       "      <td>NaN</td>\n",
       "      <td>NaN</td>\n",
       "      <td>NaN</td>\n",
       "      <td>NaN</td>\n",
       "      <td>NaN</td>\n",
       "      <td>NaN</td>\n",
       "      <td>NaN</td>\n",
       "      <td>NaN</td>\n",
       "      <td>85.0</td>\n",
       "    </tr>\n",
       "    <tr>\n",
       "      <th>2018-03-01 03:00:00</th>\n",
       "      <td>66</td>\n",
       "      <td>3</td>\n",
       "      <td>1</td>\n",
       "      <td>3</td>\n",
       "      <td>71.0</td>\n",
       "      <td>85.0</td>\n",
       "      <td>124.0</td>\n",
       "      <td>NaN</td>\n",
       "      <td>NaN</td>\n",
       "      <td>NaN</td>\n",
       "      <td>...</td>\n",
       "      <td>NaN</td>\n",
       "      <td>NaN</td>\n",
       "      <td>NaN</td>\n",
       "      <td>NaN</td>\n",
       "      <td>NaN</td>\n",
       "      <td>NaN</td>\n",
       "      <td>NaN</td>\n",
       "      <td>NaN</td>\n",
       "      <td>NaN</td>\n",
       "      <td>71.0</td>\n",
       "    </tr>\n",
       "    <tr>\n",
       "      <th>2018-03-01 04:00:00</th>\n",
       "      <td>43</td>\n",
       "      <td>3</td>\n",
       "      <td>1</td>\n",
       "      <td>3</td>\n",
       "      <td>66.0</td>\n",
       "      <td>71.0</td>\n",
       "      <td>85.0</td>\n",
       "      <td>124.0</td>\n",
       "      <td>NaN</td>\n",
       "      <td>NaN</td>\n",
       "      <td>...</td>\n",
       "      <td>NaN</td>\n",
       "      <td>NaN</td>\n",
       "      <td>NaN</td>\n",
       "      <td>NaN</td>\n",
       "      <td>NaN</td>\n",
       "      <td>NaN</td>\n",
       "      <td>NaN</td>\n",
       "      <td>NaN</td>\n",
       "      <td>NaN</td>\n",
       "      <td>66.0</td>\n",
       "    </tr>\n",
       "    <tr>\n",
       "      <th>2018-03-01 05:00:00</th>\n",
       "      <td>6</td>\n",
       "      <td>3</td>\n",
       "      <td>1</td>\n",
       "      <td>3</td>\n",
       "      <td>43.0</td>\n",
       "      <td>66.0</td>\n",
       "      <td>71.0</td>\n",
       "      <td>85.0</td>\n",
       "      <td>124.0</td>\n",
       "      <td>NaN</td>\n",
       "      <td>...</td>\n",
       "      <td>NaN</td>\n",
       "      <td>NaN</td>\n",
       "      <td>NaN</td>\n",
       "      <td>NaN</td>\n",
       "      <td>NaN</td>\n",
       "      <td>NaN</td>\n",
       "      <td>NaN</td>\n",
       "      <td>NaN</td>\n",
       "      <td>NaN</td>\n",
       "      <td>43.0</td>\n",
       "    </tr>\n",
       "    <tr>\n",
       "      <th>2018-03-01 06:00:00</th>\n",
       "      <td>12</td>\n",
       "      <td>3</td>\n",
       "      <td>1</td>\n",
       "      <td>3</td>\n",
       "      <td>6.0</td>\n",
       "      <td>43.0</td>\n",
       "      <td>66.0</td>\n",
       "      <td>71.0</td>\n",
       "      <td>85.0</td>\n",
       "      <td>124.0</td>\n",
       "      <td>...</td>\n",
       "      <td>NaN</td>\n",
       "      <td>NaN</td>\n",
       "      <td>NaN</td>\n",
       "      <td>NaN</td>\n",
       "      <td>NaN</td>\n",
       "      <td>NaN</td>\n",
       "      <td>NaN</td>\n",
       "      <td>NaN</td>\n",
       "      <td>NaN</td>\n",
       "      <td>6.0</td>\n",
       "    </tr>\n",
       "    <tr>\n",
       "      <th>2018-03-01 07:00:00</th>\n",
       "      <td>15</td>\n",
       "      <td>3</td>\n",
       "      <td>1</td>\n",
       "      <td>3</td>\n",
       "      <td>12.0</td>\n",
       "      <td>6.0</td>\n",
       "      <td>43.0</td>\n",
       "      <td>66.0</td>\n",
       "      <td>71.0</td>\n",
       "      <td>85.0</td>\n",
       "      <td>...</td>\n",
       "      <td>NaN</td>\n",
       "      <td>NaN</td>\n",
       "      <td>NaN</td>\n",
       "      <td>NaN</td>\n",
       "      <td>NaN</td>\n",
       "      <td>NaN</td>\n",
       "      <td>NaN</td>\n",
       "      <td>NaN</td>\n",
       "      <td>NaN</td>\n",
       "      <td>12.0</td>\n",
       "    </tr>\n",
       "    <tr>\n",
       "      <th>2018-03-01 08:00:00</th>\n",
       "      <td>34</td>\n",
       "      <td>3</td>\n",
       "      <td>1</td>\n",
       "      <td>3</td>\n",
       "      <td>15.0</td>\n",
       "      <td>12.0</td>\n",
       "      <td>6.0</td>\n",
       "      <td>43.0</td>\n",
       "      <td>66.0</td>\n",
       "      <td>71.0</td>\n",
       "      <td>...</td>\n",
       "      <td>NaN</td>\n",
       "      <td>NaN</td>\n",
       "      <td>NaN</td>\n",
       "      <td>NaN</td>\n",
       "      <td>NaN</td>\n",
       "      <td>NaN</td>\n",
       "      <td>NaN</td>\n",
       "      <td>NaN</td>\n",
       "      <td>NaN</td>\n",
       "      <td>15.0</td>\n",
       "    </tr>\n",
       "    <tr>\n",
       "      <th>2018-03-01 09:00:00</th>\n",
       "      <td>69</td>\n",
       "      <td>3</td>\n",
       "      <td>1</td>\n",
       "      <td>3</td>\n",
       "      <td>34.0</td>\n",
       "      <td>15.0</td>\n",
       "      <td>12.0</td>\n",
       "      <td>6.0</td>\n",
       "      <td>43.0</td>\n",
       "      <td>66.0</td>\n",
       "      <td>...</td>\n",
       "      <td>NaN</td>\n",
       "      <td>NaN</td>\n",
       "      <td>NaN</td>\n",
       "      <td>NaN</td>\n",
       "      <td>NaN</td>\n",
       "      <td>NaN</td>\n",
       "      <td>NaN</td>\n",
       "      <td>NaN</td>\n",
       "      <td>NaN</td>\n",
       "      <td>34.0</td>\n",
       "    </tr>\n",
       "    <tr>\n",
       "      <th>2018-03-01 10:00:00</th>\n",
       "      <td>64</td>\n",
       "      <td>3</td>\n",
       "      <td>1</td>\n",
       "      <td>3</td>\n",
       "      <td>69.0</td>\n",
       "      <td>34.0</td>\n",
       "      <td>15.0</td>\n",
       "      <td>12.0</td>\n",
       "      <td>6.0</td>\n",
       "      <td>43.0</td>\n",
       "      <td>...</td>\n",
       "      <td>NaN</td>\n",
       "      <td>NaN</td>\n",
       "      <td>NaN</td>\n",
       "      <td>NaN</td>\n",
       "      <td>NaN</td>\n",
       "      <td>NaN</td>\n",
       "      <td>NaN</td>\n",
       "      <td>NaN</td>\n",
       "      <td>NaN</td>\n",
       "      <td>69.0</td>\n",
       "    </tr>\n",
       "    <tr>\n",
       "      <th>2018-03-01 11:00:00</th>\n",
       "      <td>96</td>\n",
       "      <td>3</td>\n",
       "      <td>1</td>\n",
       "      <td>3</td>\n",
       "      <td>64.0</td>\n",
       "      <td>69.0</td>\n",
       "      <td>34.0</td>\n",
       "      <td>15.0</td>\n",
       "      <td>12.0</td>\n",
       "      <td>6.0</td>\n",
       "      <td>...</td>\n",
       "      <td>NaN</td>\n",
       "      <td>NaN</td>\n",
       "      <td>NaN</td>\n",
       "      <td>NaN</td>\n",
       "      <td>NaN</td>\n",
       "      <td>NaN</td>\n",
       "      <td>NaN</td>\n",
       "      <td>NaN</td>\n",
       "      <td>NaN</td>\n",
       "      <td>64.0</td>\n",
       "    </tr>\n",
       "    <tr>\n",
       "      <th>2018-03-01 12:00:00</th>\n",
       "      <td>30</td>\n",
       "      <td>3</td>\n",
       "      <td>1</td>\n",
       "      <td>3</td>\n",
       "      <td>96.0</td>\n",
       "      <td>64.0</td>\n",
       "      <td>69.0</td>\n",
       "      <td>34.0</td>\n",
       "      <td>15.0</td>\n",
       "      <td>12.0</td>\n",
       "      <td>...</td>\n",
       "      <td>NaN</td>\n",
       "      <td>NaN</td>\n",
       "      <td>NaN</td>\n",
       "      <td>NaN</td>\n",
       "      <td>NaN</td>\n",
       "      <td>NaN</td>\n",
       "      <td>NaN</td>\n",
       "      <td>NaN</td>\n",
       "      <td>NaN</td>\n",
       "      <td>96.0</td>\n",
       "    </tr>\n",
       "    <tr>\n",
       "      <th>2018-03-01 13:00:00</th>\n",
       "      <td>32</td>\n",
       "      <td>3</td>\n",
       "      <td>1</td>\n",
       "      <td>3</td>\n",
       "      <td>30.0</td>\n",
       "      <td>96.0</td>\n",
       "      <td>64.0</td>\n",
       "      <td>69.0</td>\n",
       "      <td>34.0</td>\n",
       "      <td>15.0</td>\n",
       "      <td>...</td>\n",
       "      <td>NaN</td>\n",
       "      <td>NaN</td>\n",
       "      <td>NaN</td>\n",
       "      <td>NaN</td>\n",
       "      <td>NaN</td>\n",
       "      <td>NaN</td>\n",
       "      <td>NaN</td>\n",
       "      <td>NaN</td>\n",
       "      <td>NaN</td>\n",
       "      <td>30.0</td>\n",
       "    </tr>\n",
       "    <tr>\n",
       "      <th>2018-03-01 14:00:00</th>\n",
       "      <td>48</td>\n",
       "      <td>3</td>\n",
       "      <td>1</td>\n",
       "      <td>3</td>\n",
       "      <td>32.0</td>\n",
       "      <td>30.0</td>\n",
       "      <td>96.0</td>\n",
       "      <td>64.0</td>\n",
       "      <td>69.0</td>\n",
       "      <td>34.0</td>\n",
       "      <td>...</td>\n",
       "      <td>NaN</td>\n",
       "      <td>NaN</td>\n",
       "      <td>NaN</td>\n",
       "      <td>NaN</td>\n",
       "      <td>NaN</td>\n",
       "      <td>NaN</td>\n",
       "      <td>NaN</td>\n",
       "      <td>NaN</td>\n",
       "      <td>NaN</td>\n",
       "      <td>32.0</td>\n",
       "    </tr>\n",
       "    <tr>\n",
       "      <th>2018-03-01 15:00:00</th>\n",
       "      <td>66</td>\n",
       "      <td>3</td>\n",
       "      <td>1</td>\n",
       "      <td>3</td>\n",
       "      <td>48.0</td>\n",
       "      <td>32.0</td>\n",
       "      <td>30.0</td>\n",
       "      <td>96.0</td>\n",
       "      <td>64.0</td>\n",
       "      <td>69.0</td>\n",
       "      <td>...</td>\n",
       "      <td>NaN</td>\n",
       "      <td>NaN</td>\n",
       "      <td>NaN</td>\n",
       "      <td>NaN</td>\n",
       "      <td>NaN</td>\n",
       "      <td>NaN</td>\n",
       "      <td>NaN</td>\n",
       "      <td>NaN</td>\n",
       "      <td>NaN</td>\n",
       "      <td>48.0</td>\n",
       "    </tr>\n",
       "    <tr>\n",
       "      <th>2018-03-01 16:00:00</th>\n",
       "      <td>43</td>\n",
       "      <td>3</td>\n",
       "      <td>1</td>\n",
       "      <td>3</td>\n",
       "      <td>66.0</td>\n",
       "      <td>48.0</td>\n",
       "      <td>32.0</td>\n",
       "      <td>30.0</td>\n",
       "      <td>96.0</td>\n",
       "      <td>64.0</td>\n",
       "      <td>...</td>\n",
       "      <td>124.0</td>\n",
       "      <td>NaN</td>\n",
       "      <td>NaN</td>\n",
       "      <td>NaN</td>\n",
       "      <td>NaN</td>\n",
       "      <td>NaN</td>\n",
       "      <td>NaN</td>\n",
       "      <td>NaN</td>\n",
       "      <td>NaN</td>\n",
       "      <td>66.0</td>\n",
       "    </tr>\n",
       "    <tr>\n",
       "      <th>2018-03-01 17:00:00</th>\n",
       "      <td>44</td>\n",
       "      <td>3</td>\n",
       "      <td>1</td>\n",
       "      <td>3</td>\n",
       "      <td>43.0</td>\n",
       "      <td>66.0</td>\n",
       "      <td>48.0</td>\n",
       "      <td>32.0</td>\n",
       "      <td>30.0</td>\n",
       "      <td>96.0</td>\n",
       "      <td>...</td>\n",
       "      <td>85.0</td>\n",
       "      <td>124.0</td>\n",
       "      <td>NaN</td>\n",
       "      <td>NaN</td>\n",
       "      <td>NaN</td>\n",
       "      <td>NaN</td>\n",
       "      <td>NaN</td>\n",
       "      <td>NaN</td>\n",
       "      <td>NaN</td>\n",
       "      <td>43.0</td>\n",
       "    </tr>\n",
       "    <tr>\n",
       "      <th>2018-03-01 18:00:00</th>\n",
       "      <td>73</td>\n",
       "      <td>3</td>\n",
       "      <td>1</td>\n",
       "      <td>3</td>\n",
       "      <td>44.0</td>\n",
       "      <td>43.0</td>\n",
       "      <td>66.0</td>\n",
       "      <td>48.0</td>\n",
       "      <td>32.0</td>\n",
       "      <td>30.0</td>\n",
       "      <td>...</td>\n",
       "      <td>71.0</td>\n",
       "      <td>85.0</td>\n",
       "      <td>124.0</td>\n",
       "      <td>NaN</td>\n",
       "      <td>NaN</td>\n",
       "      <td>NaN</td>\n",
       "      <td>NaN</td>\n",
       "      <td>NaN</td>\n",
       "      <td>NaN</td>\n",
       "      <td>44.0</td>\n",
       "    </tr>\n",
       "    <tr>\n",
       "      <th>2018-03-01 19:00:00</th>\n",
       "      <td>45</td>\n",
       "      <td>3</td>\n",
       "      <td>1</td>\n",
       "      <td>3</td>\n",
       "      <td>73.0</td>\n",
       "      <td>44.0</td>\n",
       "      <td>43.0</td>\n",
       "      <td>66.0</td>\n",
       "      <td>48.0</td>\n",
       "      <td>32.0</td>\n",
       "      <td>...</td>\n",
       "      <td>66.0</td>\n",
       "      <td>71.0</td>\n",
       "      <td>85.0</td>\n",
       "      <td>124.0</td>\n",
       "      <td>NaN</td>\n",
       "      <td>NaN</td>\n",
       "      <td>NaN</td>\n",
       "      <td>NaN</td>\n",
       "      <td>NaN</td>\n",
       "      <td>73.0</td>\n",
       "    </tr>\n",
       "    <tr>\n",
       "      <th>2018-03-01 20:00:00</th>\n",
       "      <td>61</td>\n",
       "      <td>3</td>\n",
       "      <td>1</td>\n",
       "      <td>3</td>\n",
       "      <td>45.0</td>\n",
       "      <td>73.0</td>\n",
       "      <td>44.0</td>\n",
       "      <td>43.0</td>\n",
       "      <td>66.0</td>\n",
       "      <td>48.0</td>\n",
       "      <td>...</td>\n",
       "      <td>43.0</td>\n",
       "      <td>66.0</td>\n",
       "      <td>71.0</td>\n",
       "      <td>85.0</td>\n",
       "      <td>124.0</td>\n",
       "      <td>NaN</td>\n",
       "      <td>NaN</td>\n",
       "      <td>NaN</td>\n",
       "      <td>NaN</td>\n",
       "      <td>45.0</td>\n",
       "    </tr>\n",
       "    <tr>\n",
       "      <th>2018-03-01 21:00:00</th>\n",
       "      <td>66</td>\n",
       "      <td>3</td>\n",
       "      <td>1</td>\n",
       "      <td>3</td>\n",
       "      <td>61.0</td>\n",
       "      <td>45.0</td>\n",
       "      <td>73.0</td>\n",
       "      <td>44.0</td>\n",
       "      <td>43.0</td>\n",
       "      <td>66.0</td>\n",
       "      <td>...</td>\n",
       "      <td>6.0</td>\n",
       "      <td>43.0</td>\n",
       "      <td>66.0</td>\n",
       "      <td>71.0</td>\n",
       "      <td>85.0</td>\n",
       "      <td>124.0</td>\n",
       "      <td>NaN</td>\n",
       "      <td>NaN</td>\n",
       "      <td>NaN</td>\n",
       "      <td>61.0</td>\n",
       "    </tr>\n",
       "    <tr>\n",
       "      <th>2018-03-01 22:00:00</th>\n",
       "      <td>113</td>\n",
       "      <td>3</td>\n",
       "      <td>1</td>\n",
       "      <td>3</td>\n",
       "      <td>66.0</td>\n",
       "      <td>61.0</td>\n",
       "      <td>45.0</td>\n",
       "      <td>73.0</td>\n",
       "      <td>44.0</td>\n",
       "      <td>43.0</td>\n",
       "      <td>...</td>\n",
       "      <td>12.0</td>\n",
       "      <td>6.0</td>\n",
       "      <td>43.0</td>\n",
       "      <td>66.0</td>\n",
       "      <td>71.0</td>\n",
       "      <td>85.0</td>\n",
       "      <td>124.0</td>\n",
       "      <td>NaN</td>\n",
       "      <td>NaN</td>\n",
       "      <td>66.0</td>\n",
       "    </tr>\n",
       "    <tr>\n",
       "      <th>2018-03-01 23:00:00</th>\n",
       "      <td>58</td>\n",
       "      <td>3</td>\n",
       "      <td>1</td>\n",
       "      <td>3</td>\n",
       "      <td>113.0</td>\n",
       "      <td>66.0</td>\n",
       "      <td>61.0</td>\n",
       "      <td>45.0</td>\n",
       "      <td>73.0</td>\n",
       "      <td>44.0</td>\n",
       "      <td>...</td>\n",
       "      <td>15.0</td>\n",
       "      <td>12.0</td>\n",
       "      <td>6.0</td>\n",
       "      <td>43.0</td>\n",
       "      <td>66.0</td>\n",
       "      <td>71.0</td>\n",
       "      <td>85.0</td>\n",
       "      <td>124.0</td>\n",
       "      <td>NaN</td>\n",
       "      <td>113.0</td>\n",
       "    </tr>\n",
       "    <tr>\n",
       "      <th>2018-03-02 00:00:00</th>\n",
       "      <td>90</td>\n",
       "      <td>3</td>\n",
       "      <td>2</td>\n",
       "      <td>4</td>\n",
       "      <td>58.0</td>\n",
       "      <td>113.0</td>\n",
       "      <td>66.0</td>\n",
       "      <td>61.0</td>\n",
       "      <td>45.0</td>\n",
       "      <td>73.0</td>\n",
       "      <td>...</td>\n",
       "      <td>34.0</td>\n",
       "      <td>15.0</td>\n",
       "      <td>12.0</td>\n",
       "      <td>6.0</td>\n",
       "      <td>43.0</td>\n",
       "      <td>66.0</td>\n",
       "      <td>71.0</td>\n",
       "      <td>85.0</td>\n",
       "      <td>124.0</td>\n",
       "      <td>58.0</td>\n",
       "    </tr>\n",
       "  </tbody>\n",
       "</table>\n",
       "<p>25 rows × 29 columns</p>\n",
       "</div>"
      ],
      "text/plain": [
       "                     num_orders  month  day  dayofweek  lag_1  lag_2  lag_3  \\\n",
       "datetime                                                                      \n",
       "2018-03-01 00:00:00         124      3    1          3    NaN    NaN    NaN   \n",
       "2018-03-01 01:00:00          85      3    1          3  124.0    NaN    NaN   \n",
       "2018-03-01 02:00:00          71      3    1          3   85.0  124.0    NaN   \n",
       "2018-03-01 03:00:00          66      3    1          3   71.0   85.0  124.0   \n",
       "2018-03-01 04:00:00          43      3    1          3   66.0   71.0   85.0   \n",
       "2018-03-01 05:00:00           6      3    1          3   43.0   66.0   71.0   \n",
       "2018-03-01 06:00:00          12      3    1          3    6.0   43.0   66.0   \n",
       "2018-03-01 07:00:00          15      3    1          3   12.0    6.0   43.0   \n",
       "2018-03-01 08:00:00          34      3    1          3   15.0   12.0    6.0   \n",
       "2018-03-01 09:00:00          69      3    1          3   34.0   15.0   12.0   \n",
       "2018-03-01 10:00:00          64      3    1          3   69.0   34.0   15.0   \n",
       "2018-03-01 11:00:00          96      3    1          3   64.0   69.0   34.0   \n",
       "2018-03-01 12:00:00          30      3    1          3   96.0   64.0   69.0   \n",
       "2018-03-01 13:00:00          32      3    1          3   30.0   96.0   64.0   \n",
       "2018-03-01 14:00:00          48      3    1          3   32.0   30.0   96.0   \n",
       "2018-03-01 15:00:00          66      3    1          3   48.0   32.0   30.0   \n",
       "2018-03-01 16:00:00          43      3    1          3   66.0   48.0   32.0   \n",
       "2018-03-01 17:00:00          44      3    1          3   43.0   66.0   48.0   \n",
       "2018-03-01 18:00:00          73      3    1          3   44.0   43.0   66.0   \n",
       "2018-03-01 19:00:00          45      3    1          3   73.0   44.0   43.0   \n",
       "2018-03-01 20:00:00          61      3    1          3   45.0   73.0   44.0   \n",
       "2018-03-01 21:00:00          66      3    1          3   61.0   45.0   73.0   \n",
       "2018-03-01 22:00:00         113      3    1          3   66.0   61.0   45.0   \n",
       "2018-03-01 23:00:00          58      3    1          3  113.0   66.0   61.0   \n",
       "2018-03-02 00:00:00          90      3    2          4   58.0  113.0   66.0   \n",
       "\n",
       "                     lag_4  lag_5  lag_6  ...  lag_16  lag_17  lag_18  lag_19  \\\n",
       "datetime                                  ...                                   \n",
       "2018-03-01 00:00:00    NaN    NaN    NaN  ...     NaN     NaN     NaN     NaN   \n",
       "2018-03-01 01:00:00    NaN    NaN    NaN  ...     NaN     NaN     NaN     NaN   \n",
       "2018-03-01 02:00:00    NaN    NaN    NaN  ...     NaN     NaN     NaN     NaN   \n",
       "2018-03-01 03:00:00    NaN    NaN    NaN  ...     NaN     NaN     NaN     NaN   \n",
       "2018-03-01 04:00:00  124.0    NaN    NaN  ...     NaN     NaN     NaN     NaN   \n",
       "2018-03-01 05:00:00   85.0  124.0    NaN  ...     NaN     NaN     NaN     NaN   \n",
       "2018-03-01 06:00:00   71.0   85.0  124.0  ...     NaN     NaN     NaN     NaN   \n",
       "2018-03-01 07:00:00   66.0   71.0   85.0  ...     NaN     NaN     NaN     NaN   \n",
       "2018-03-01 08:00:00   43.0   66.0   71.0  ...     NaN     NaN     NaN     NaN   \n",
       "2018-03-01 09:00:00    6.0   43.0   66.0  ...     NaN     NaN     NaN     NaN   \n",
       "2018-03-01 10:00:00   12.0    6.0   43.0  ...     NaN     NaN     NaN     NaN   \n",
       "2018-03-01 11:00:00   15.0   12.0    6.0  ...     NaN     NaN     NaN     NaN   \n",
       "2018-03-01 12:00:00   34.0   15.0   12.0  ...     NaN     NaN     NaN     NaN   \n",
       "2018-03-01 13:00:00   69.0   34.0   15.0  ...     NaN     NaN     NaN     NaN   \n",
       "2018-03-01 14:00:00   64.0   69.0   34.0  ...     NaN     NaN     NaN     NaN   \n",
       "2018-03-01 15:00:00   96.0   64.0   69.0  ...     NaN     NaN     NaN     NaN   \n",
       "2018-03-01 16:00:00   30.0   96.0   64.0  ...   124.0     NaN     NaN     NaN   \n",
       "2018-03-01 17:00:00   32.0   30.0   96.0  ...    85.0   124.0     NaN     NaN   \n",
       "2018-03-01 18:00:00   48.0   32.0   30.0  ...    71.0    85.0   124.0     NaN   \n",
       "2018-03-01 19:00:00   66.0   48.0   32.0  ...    66.0    71.0    85.0   124.0   \n",
       "2018-03-01 20:00:00   43.0   66.0   48.0  ...    43.0    66.0    71.0    85.0   \n",
       "2018-03-01 21:00:00   44.0   43.0   66.0  ...     6.0    43.0    66.0    71.0   \n",
       "2018-03-01 22:00:00   73.0   44.0   43.0  ...    12.0     6.0    43.0    66.0   \n",
       "2018-03-01 23:00:00   45.0   73.0   44.0  ...    15.0    12.0     6.0    43.0   \n",
       "2018-03-02 00:00:00   61.0   45.0   73.0  ...    34.0    15.0    12.0     6.0   \n",
       "\n",
       "                     lag_20  lag_21  lag_22  lag_23  lag_24  rolling_mean  \n",
       "datetime                                                                   \n",
       "2018-03-01 00:00:00     NaN     NaN     NaN     NaN     NaN           NaN  \n",
       "2018-03-01 01:00:00     NaN     NaN     NaN     NaN     NaN         124.0  \n",
       "2018-03-01 02:00:00     NaN     NaN     NaN     NaN     NaN          85.0  \n",
       "2018-03-01 03:00:00     NaN     NaN     NaN     NaN     NaN          71.0  \n",
       "2018-03-01 04:00:00     NaN     NaN     NaN     NaN     NaN          66.0  \n",
       "2018-03-01 05:00:00     NaN     NaN     NaN     NaN     NaN          43.0  \n",
       "2018-03-01 06:00:00     NaN     NaN     NaN     NaN     NaN           6.0  \n",
       "2018-03-01 07:00:00     NaN     NaN     NaN     NaN     NaN          12.0  \n",
       "2018-03-01 08:00:00     NaN     NaN     NaN     NaN     NaN          15.0  \n",
       "2018-03-01 09:00:00     NaN     NaN     NaN     NaN     NaN          34.0  \n",
       "2018-03-01 10:00:00     NaN     NaN     NaN     NaN     NaN          69.0  \n",
       "2018-03-01 11:00:00     NaN     NaN     NaN     NaN     NaN          64.0  \n",
       "2018-03-01 12:00:00     NaN     NaN     NaN     NaN     NaN          96.0  \n",
       "2018-03-01 13:00:00     NaN     NaN     NaN     NaN     NaN          30.0  \n",
       "2018-03-01 14:00:00     NaN     NaN     NaN     NaN     NaN          32.0  \n",
       "2018-03-01 15:00:00     NaN     NaN     NaN     NaN     NaN          48.0  \n",
       "2018-03-01 16:00:00     NaN     NaN     NaN     NaN     NaN          66.0  \n",
       "2018-03-01 17:00:00     NaN     NaN     NaN     NaN     NaN          43.0  \n",
       "2018-03-01 18:00:00     NaN     NaN     NaN     NaN     NaN          44.0  \n",
       "2018-03-01 19:00:00     NaN     NaN     NaN     NaN     NaN          73.0  \n",
       "2018-03-01 20:00:00   124.0     NaN     NaN     NaN     NaN          45.0  \n",
       "2018-03-01 21:00:00    85.0   124.0     NaN     NaN     NaN          61.0  \n",
       "2018-03-01 22:00:00    71.0    85.0   124.0     NaN     NaN          66.0  \n",
       "2018-03-01 23:00:00    66.0    71.0    85.0   124.0     NaN         113.0  \n",
       "2018-03-02 00:00:00    43.0    66.0    71.0    85.0   124.0          58.0  \n",
       "\n",
       "[25 rows x 29 columns]"
      ]
     },
     "execution_count": 13,
     "metadata": {},
     "output_type": "execute_result"
    }
   ],
   "source": [
    "data = df.copy()\n",
    "data['month'] = data.index.month\n",
    "data['day'] = data.index.day\n",
    "data['dayofweek'] = data.index.dayofweek\n",
    "for l in range(1, best_lag + 1):\n",
    "    data['lag_{}'.format(l)] = data['num_orders'].shift(l)\n",
    "data['rolling_mean'] = data['num_orders'].shift().rolling(best_rolling).mean()\n",
    "data.head(25)"
   ]
  },
  {
   "cell_type": "code",
   "execution_count": 14,
   "metadata": {},
   "outputs": [
    {
     "data": {
      "text/html": [
       "<div>\n",
       "<style scoped>\n",
       "    .dataframe tbody tr th:only-of-type {\n",
       "        vertical-align: middle;\n",
       "    }\n",
       "\n",
       "    .dataframe tbody tr th {\n",
       "        vertical-align: top;\n",
       "    }\n",
       "\n",
       "    .dataframe thead th {\n",
       "        text-align: right;\n",
       "    }\n",
       "</style>\n",
       "<table border=\"1\" class=\"dataframe\">\n",
       "  <thead>\n",
       "    <tr style=\"text-align: right;\">\n",
       "      <th></th>\n",
       "      <th>num_orders</th>\n",
       "      <th>month</th>\n",
       "      <th>day</th>\n",
       "      <th>dayofweek</th>\n",
       "      <th>lag_1</th>\n",
       "      <th>lag_2</th>\n",
       "      <th>lag_3</th>\n",
       "      <th>lag_4</th>\n",
       "      <th>lag_5</th>\n",
       "      <th>lag_6</th>\n",
       "      <th>...</th>\n",
       "      <th>lag_16</th>\n",
       "      <th>lag_17</th>\n",
       "      <th>lag_18</th>\n",
       "      <th>lag_19</th>\n",
       "      <th>lag_20</th>\n",
       "      <th>lag_21</th>\n",
       "      <th>lag_22</th>\n",
       "      <th>lag_23</th>\n",
       "      <th>lag_24</th>\n",
       "      <th>rolling_mean</th>\n",
       "    </tr>\n",
       "    <tr>\n",
       "      <th>datetime</th>\n",
       "      <th></th>\n",
       "      <th></th>\n",
       "      <th></th>\n",
       "      <th></th>\n",
       "      <th></th>\n",
       "      <th></th>\n",
       "      <th></th>\n",
       "      <th></th>\n",
       "      <th></th>\n",
       "      <th></th>\n",
       "      <th></th>\n",
       "      <th></th>\n",
       "      <th></th>\n",
       "      <th></th>\n",
       "      <th></th>\n",
       "      <th></th>\n",
       "      <th></th>\n",
       "      <th></th>\n",
       "      <th></th>\n",
       "      <th></th>\n",
       "      <th></th>\n",
       "    </tr>\n",
       "  </thead>\n",
       "  <tbody>\n",
       "    <tr>\n",
       "      <th>2018-03-02 00:00:00</th>\n",
       "      <td>90</td>\n",
       "      <td>3</td>\n",
       "      <td>2</td>\n",
       "      <td>4</td>\n",
       "      <td>58.0</td>\n",
       "      <td>113.0</td>\n",
       "      <td>66.0</td>\n",
       "      <td>61.0</td>\n",
       "      <td>45.0</td>\n",
       "      <td>73.0</td>\n",
       "      <td>...</td>\n",
       "      <td>34.0</td>\n",
       "      <td>15.0</td>\n",
       "      <td>12.0</td>\n",
       "      <td>6.0</td>\n",
       "      <td>43.0</td>\n",
       "      <td>66.0</td>\n",
       "      <td>71.0</td>\n",
       "      <td>85.0</td>\n",
       "      <td>124.0</td>\n",
       "      <td>58.0</td>\n",
       "    </tr>\n",
       "    <tr>\n",
       "      <th>2018-03-02 01:00:00</th>\n",
       "      <td>120</td>\n",
       "      <td>3</td>\n",
       "      <td>2</td>\n",
       "      <td>4</td>\n",
       "      <td>90.0</td>\n",
       "      <td>58.0</td>\n",
       "      <td>113.0</td>\n",
       "      <td>66.0</td>\n",
       "      <td>61.0</td>\n",
       "      <td>45.0</td>\n",
       "      <td>...</td>\n",
       "      <td>69.0</td>\n",
       "      <td>34.0</td>\n",
       "      <td>15.0</td>\n",
       "      <td>12.0</td>\n",
       "      <td>6.0</td>\n",
       "      <td>43.0</td>\n",
       "      <td>66.0</td>\n",
       "      <td>71.0</td>\n",
       "      <td>85.0</td>\n",
       "      <td>90.0</td>\n",
       "    </tr>\n",
       "    <tr>\n",
       "      <th>2018-03-02 02:00:00</th>\n",
       "      <td>75</td>\n",
       "      <td>3</td>\n",
       "      <td>2</td>\n",
       "      <td>4</td>\n",
       "      <td>120.0</td>\n",
       "      <td>90.0</td>\n",
       "      <td>58.0</td>\n",
       "      <td>113.0</td>\n",
       "      <td>66.0</td>\n",
       "      <td>61.0</td>\n",
       "      <td>...</td>\n",
       "      <td>64.0</td>\n",
       "      <td>69.0</td>\n",
       "      <td>34.0</td>\n",
       "      <td>15.0</td>\n",
       "      <td>12.0</td>\n",
       "      <td>6.0</td>\n",
       "      <td>43.0</td>\n",
       "      <td>66.0</td>\n",
       "      <td>71.0</td>\n",
       "      <td>120.0</td>\n",
       "    </tr>\n",
       "    <tr>\n",
       "      <th>2018-03-02 03:00:00</th>\n",
       "      <td>64</td>\n",
       "      <td>3</td>\n",
       "      <td>2</td>\n",
       "      <td>4</td>\n",
       "      <td>75.0</td>\n",
       "      <td>120.0</td>\n",
       "      <td>90.0</td>\n",
       "      <td>58.0</td>\n",
       "      <td>113.0</td>\n",
       "      <td>66.0</td>\n",
       "      <td>...</td>\n",
       "      <td>96.0</td>\n",
       "      <td>64.0</td>\n",
       "      <td>69.0</td>\n",
       "      <td>34.0</td>\n",
       "      <td>15.0</td>\n",
       "      <td>12.0</td>\n",
       "      <td>6.0</td>\n",
       "      <td>43.0</td>\n",
       "      <td>66.0</td>\n",
       "      <td>75.0</td>\n",
       "    </tr>\n",
       "    <tr>\n",
       "      <th>2018-03-02 04:00:00</th>\n",
       "      <td>20</td>\n",
       "      <td>3</td>\n",
       "      <td>2</td>\n",
       "      <td>4</td>\n",
       "      <td>64.0</td>\n",
       "      <td>75.0</td>\n",
       "      <td>120.0</td>\n",
       "      <td>90.0</td>\n",
       "      <td>58.0</td>\n",
       "      <td>113.0</td>\n",
       "      <td>...</td>\n",
       "      <td>30.0</td>\n",
       "      <td>96.0</td>\n",
       "      <td>64.0</td>\n",
       "      <td>69.0</td>\n",
       "      <td>34.0</td>\n",
       "      <td>15.0</td>\n",
       "      <td>12.0</td>\n",
       "      <td>6.0</td>\n",
       "      <td>43.0</td>\n",
       "      <td>64.0</td>\n",
       "    </tr>\n",
       "  </tbody>\n",
       "</table>\n",
       "<p>5 rows × 29 columns</p>\n",
       "</div>"
      ],
      "text/plain": [
       "                     num_orders  month  day  dayofweek  lag_1  lag_2  lag_3  \\\n",
       "datetime                                                                      \n",
       "2018-03-02 00:00:00          90      3    2          4   58.0  113.0   66.0   \n",
       "2018-03-02 01:00:00         120      3    2          4   90.0   58.0  113.0   \n",
       "2018-03-02 02:00:00          75      3    2          4  120.0   90.0   58.0   \n",
       "2018-03-02 03:00:00          64      3    2          4   75.0  120.0   90.0   \n",
       "2018-03-02 04:00:00          20      3    2          4   64.0   75.0  120.0   \n",
       "\n",
       "                     lag_4  lag_5  lag_6  ...  lag_16  lag_17  lag_18  lag_19  \\\n",
       "datetime                                  ...                                   \n",
       "2018-03-02 00:00:00   61.0   45.0   73.0  ...    34.0    15.0    12.0     6.0   \n",
       "2018-03-02 01:00:00   66.0   61.0   45.0  ...    69.0    34.0    15.0    12.0   \n",
       "2018-03-02 02:00:00  113.0   66.0   61.0  ...    64.0    69.0    34.0    15.0   \n",
       "2018-03-02 03:00:00   58.0  113.0   66.0  ...    96.0    64.0    69.0    34.0   \n",
       "2018-03-02 04:00:00   90.0   58.0  113.0  ...    30.0    96.0    64.0    69.0   \n",
       "\n",
       "                     lag_20  lag_21  lag_22  lag_23  lag_24  rolling_mean  \n",
       "datetime                                                                   \n",
       "2018-03-02 00:00:00    43.0    66.0    71.0    85.0   124.0          58.0  \n",
       "2018-03-02 01:00:00     6.0    43.0    66.0    71.0    85.0          90.0  \n",
       "2018-03-02 02:00:00    12.0     6.0    43.0    66.0    71.0         120.0  \n",
       "2018-03-02 03:00:00    15.0    12.0     6.0    43.0    66.0          75.0  \n",
       "2018-03-02 04:00:00    34.0    15.0    12.0     6.0    43.0          64.0  \n",
       "\n",
       "[5 rows x 29 columns]"
      ]
     },
     "execution_count": 14,
     "metadata": {},
     "output_type": "execute_result"
    }
   ],
   "source": [
    "# Удалю строки с пропусками в начале датасета\n",
    "data = data.dropna()\n",
    "data.head()"
   ]
  },
  {
   "cell_type": "code",
   "execution_count": 15,
   "metadata": {},
   "outputs": [],
   "source": [
    "# Выделю целевой признак\n",
    "features = data.drop(columns=['num_orders'])\n",
    "target = data.num_orders"
   ]
  },
  {
   "cell_type": "code",
   "execution_count": 16,
   "metadata": {},
   "outputs": [],
   "source": [
    "# Разделю данные на обучающую и тестовую выборки.\n",
    "features_train, features_test, target_train, target_test = train_test_split(features, target, shuffle=False, test_size=0.1)"
   ]
  },
  {
   "cell_type": "markdown",
   "metadata": {},
   "source": [
    "**I. Линейная регрессия**"
   ]
  },
  {
   "cell_type": "code",
   "execution_count": 18,
   "metadata": {},
   "outputs": [
    {
     "name": "stdout",
     "output_type": "stream",
     "text": [
      "RMSE: 27.025485513403424\n"
     ]
    }
   ],
   "source": [
    "model_lr = LinearRegression()\n",
    "rmse_lr = -cross_val_score(model_lr, features_train, target_train, scoring='neg_root_mean_squared_error',\n",
    "                           cv=TimeSeriesSplit()).mean()\n",
    "print(\"RMSE:\", rmse_lr)"
   ]
  },
  {
   "cell_type": "markdown",
   "metadata": {},
   "source": [
    "**II. Дерево решений**"
   ]
  },
  {
   "cell_type": "code",
   "execution_count": 19,
   "metadata": {
    "scrolled": true
   },
   "outputs": [
    {
     "name": "stdout",
     "output_type": "stream",
     "text": [
      "Лучшая RMSE: 29.210851045134756 при параметрах {'max_depth': 11, 'min_samples_leaf': 50}\n"
     ]
    }
   ],
   "source": [
    "model_dtr= DecisionTreeRegressor(random_state=12345)\n",
    "param_grid = {\"max_depth\" : range(10,13), 'min_samples_leaf': range(49,52)}\n",
    "gsearch = GridSearchCV(model_dtr, param_grid = param_grid, n_jobs=-1, scoring='neg_root_mean_squared_error',\n",
    "                       cv=TimeSeriesSplit())\n",
    "dtr_model = gsearch.fit(features_train,target_train)\n",
    "print(f'Лучшая RMSE: {-dtr_model.best_score_} при параметрах {dtr_model.best_params_}')"
   ]
  },
  {
   "cell_type": "markdown",
   "metadata": {},
   "source": [
    "**III. Случайный лес**"
   ]
  },
  {
   "cell_type": "code",
   "execution_count": 20,
   "metadata": {},
   "outputs": [
    {
     "name": "stdout",
     "output_type": "stream",
     "text": [
      "Лучшая RMSE: 25.742673594750734 при параметрах ,{'max_depth': 26, 'n_estimators': 467}\n"
     ]
    }
   ],
   "source": [
    "model_rfr= RandomForestRegressor(random_state=12345, n_jobs=-1)\n",
    "param_grid = {\n",
    "    \"max_depth\" : range(26,29),\n",
    "    \"n_estimators\" : range(465,468)\n",
    "}\n",
    "gsearch = GridSearchCV(model_rfr, param_grid = param_grid, n_jobs=-1, scoring='neg_root_mean_squared_error',\n",
    "                       cv=TimeSeriesSplit())\n",
    "rfr_model = gsearch.fit(features_train,target_train)\n",
    "print(f'Лучшая RMSE: {-rfr_model.best_score_} при параметрах ,{rfr_model.best_params_}')"
   ]
  },
  {
   "cell_type": "markdown",
   "metadata": {},
   "source": [
    "**IV. LGBM**"
   ]
  },
  {
   "cell_type": "code",
   "execution_count": 21,
   "metadata": {},
   "outputs": [
    {
     "name": "stdout",
     "output_type": "stream",
     "text": [
      "Лучшая RMSE: 25.431180317861315 при параметрах ,{'boosting_type': 'gbrt', 'learning_rate': 0.12, 'max_depth': 5}\n"
     ]
    }
   ],
   "source": [
    "model_lgbm = LGBMRegressor(random_state=12345, metric=rmse, n_jobs=-1)\n",
    "param_grid = {\n",
    "    'learning_rate' : np.arange(0.11, 0.14, 0.01),\n",
    "    'boosting_type' : ['gbrt', 'dart', 'goss'],\n",
    "    'max_depth' : range(3,6)\n",
    "}\n",
    "gsearch = GridSearchCV(model_lgbm, param_grid = param_grid, n_jobs=-1, scoring='neg_root_mean_squared_error',\n",
    "                       cv=TimeSeriesSplit(n_splits=5))\n",
    "lgbm_model = gsearch.fit(features_train,target_train)\n",
    "print(f'Лучшая RMSE: {-lgbm_model.best_score_} при параметрах ,{lgbm_model.best_params_}')"
   ]
  },
  {
   "cell_type": "code",
   "execution_count": 22,
   "metadata": {},
   "outputs": [],
   "source": [
    "# Запишу данные всех моделей вместе\n",
    "models = []\n",
    "models.append([round(rmse_lr, 2)])\n",
    "models.append([round(-dtr_model.best_score_, 2)])\n",
    "models.append([round(-rfr_model.best_score_, 2)])\n",
    "models.append([round(-lgbm_model.best_score_, 2)])"
   ]
  },
  {
   "cell_type": "code",
   "execution_count": 23,
   "metadata": {},
   "outputs": [],
   "source": [
    "model_table = pd.DataFrame(data=models, index=['Линейная регрессия', 'Дерево решений', 'Случайный лес', 'LightGBM'],\n",
    "                           columns=['RMSE'])"
   ]
  },
  {
   "cell_type": "code",
   "execution_count": 24,
   "metadata": {},
   "outputs": [
    {
     "data": {
      "text/html": [
       "<div>\n",
       "<style scoped>\n",
       "    .dataframe tbody tr th:only-of-type {\n",
       "        vertical-align: middle;\n",
       "    }\n",
       "\n",
       "    .dataframe tbody tr th {\n",
       "        vertical-align: top;\n",
       "    }\n",
       "\n",
       "    .dataframe thead th {\n",
       "        text-align: right;\n",
       "    }\n",
       "</style>\n",
       "<table border=\"1\" class=\"dataframe\">\n",
       "  <thead>\n",
       "    <tr style=\"text-align: right;\">\n",
       "      <th></th>\n",
       "      <th>RMSE</th>\n",
       "    </tr>\n",
       "  </thead>\n",
       "  <tbody>\n",
       "    <tr>\n",
       "      <th>Линейная регрессия</th>\n",
       "      <td>27.03</td>\n",
       "    </tr>\n",
       "    <tr>\n",
       "      <th>Дерево решений</th>\n",
       "      <td>28.94</td>\n",
       "    </tr>\n",
       "    <tr>\n",
       "      <th>Случайный лес</th>\n",
       "      <td>25.55</td>\n",
       "    </tr>\n",
       "    <tr>\n",
       "      <th>LightGBM</th>\n",
       "      <td>25.37</td>\n",
       "    </tr>\n",
       "  </tbody>\n",
       "</table>\n",
       "</div>"
      ],
      "text/plain": [
       "                     RMSE\n",
       "Линейная регрессия  27.03\n",
       "Дерево решений      28.94\n",
       "Случайный лес       25.55\n",
       "LightGBM            25.37"
      ]
     },
     "execution_count": 24,
     "metadata": {},
     "output_type": "execute_result"
    }
   ],
   "source": [
    "model_table"
   ]
  },
  {
   "cell_type": "markdown",
   "metadata": {},
   "source": [
    "**Вывод**\n",
    "\n",
    "Самая лучшая модель: LightGBM (RMSE=25.37) со следующими настройками: 'boosting_type': 'gbrt', 'learning_rate': 0.12, 'max_depth': 4"
   ]
  },
  {
   "cell_type": "markdown",
   "metadata": {},
   "source": [
    "## Тестирование"
   ]
  },
  {
   "cell_type": "code",
   "execution_count": 25,
   "metadata": {},
   "outputs": [
    {
     "name": "stdout",
     "output_type": "stream",
     "text": [
      "RMSE модели LightGBM на тестовой выборке: 41.46562880846064\n"
     ]
    }
   ],
   "source": [
    "# Протестирую наилучшую модель на тестовой выборке\n",
    "predictions = lgbm_model.predict(features_test)\n",
    "print('RMSE модели LightGBM на тестовой выборке:', mean_squared_error(target_test, predictions, squared = False))"
   ]
  },
  {
   "cell_type": "code",
   "execution_count": 26,
   "metadata": {},
   "outputs": [
    {
     "data": {
      "image/png": "[encoded data removed]",
      "text/plain": [
       "<Figure size 936x432 with 1 Axes>"
      ]
     },
     "metadata": {
      "needs_background": "light"
     },
     "output_type": "display_data"
    }
   ],
   "source": [
    "plt.figure(figsize=(13, 6)) \n",
    "plt.scatter(y=target_test, x=target_test.index, label='Реальные тестовые значения')\n",
    "plt.scatter(y=predictions, x=target_test.index, label='Предсказанные значения')\n",
    "plt.legend(loc='upper left')\n",
    "plt.title('Отличие реальных тестовых данных от предсказанных лучшей моделью LGBMRegressor')\n",
    "plt.show()"
   ]
  },
  {
   "cell_type": "markdown",
   "metadata": {},
   "source": [
    "**Выводы**\n",
    "\n",
    "Для прогнозирования количества заказов такси на следующий час в период пиковой нагрузки, были построены 4 модели предскания: 'Линейная регрессия', 'Дерево решений', 'Случайный лес', 'LightGBM'. \n",
    "\n",
    "Наиболее эффективная модель - 'LightGBM', она показала минимальную метрику RSME. \n",
    "RMSE модели на тестовой выборке (41,35) стал выше, чем на тренировочной (25.37), но удовлетворяет требованию в задании (Значение метрики RMSE на тестовой выборке должно быть не больше 48).\n",
    "\n",
    "Визуализировал результаты, показывающие предсказанные значения лучшей модели и реальные тестовые значения."
   ]
  }
 ],
 "metadata": {
  "ExecuteTimeLog": [
   {
    "duration": 55,
    "start_time": "2023-04-05T12:45:42.668Z"
   },
   {
    "duration": 1661,
    "start_time": "2023-04-05T12:58:21.087Z"
   },
   {
    "duration": 149,
    "start_time": "2023-04-05T12:58:25.885Z"
   },
   {
    "duration": 16,
    "start_time": "2023-04-05T13:00:04.587Z"
   },
   {
    "duration": 14,
    "start_time": "2023-04-05T13:00:23.356Z"
   },
   {
    "duration": 15,
    "start_time": "2023-04-05T13:00:26.341Z"
   },
   {
    "duration": 293,
    "start_time": "2023-04-05T13:00:32.406Z"
   },
   {
    "duration": 25,
    "start_time": "2023-04-05T13:11:14.532Z"
   },
   {
    "duration": 7,
    "start_time": "2023-04-05T13:16:12.171Z"
   },
   {
    "duration": 315,
    "start_time": "2023-04-05T13:24:16.546Z"
   },
   {
    "duration": 366,
    "start_time": "2023-04-05T13:29:13.635Z"
   },
   {
    "duration": 262,
    "start_time": "2023-04-05T13:30:20.028Z"
   },
   {
    "duration": 326,
    "start_time": "2023-04-05T13:31:47.405Z"
   },
   {
    "duration": 351,
    "start_time": "2023-04-05T13:32:05.948Z"
   },
   {
    "duration": 522,
    "start_time": "2023-04-05T13:32:26.820Z"
   },
   {
    "duration": 427,
    "start_time": "2023-04-05T13:32:59.670Z"
   },
   {
    "duration": 416,
    "start_time": "2023-04-05T13:33:48.514Z"
   },
   {
    "duration": 435,
    "start_time": "2023-04-05T13:34:24.163Z"
   },
   {
    "duration": 361,
    "start_time": "2023-04-05T13:34:50.938Z"
   },
   {
    "duration": 327,
    "start_time": "2023-04-05T13:36:10.685Z"
   },
   {
    "duration": 415,
    "start_time": "2023-04-05T13:36:32.226Z"
   },
   {
    "duration": 336,
    "start_time": "2023-04-05T13:41:36.901Z"
   },
   {
    "duration": 204,
    "start_time": "2023-04-05T13:43:07.172Z"
   },
   {
    "duration": 174,
    "start_time": "2023-04-05T13:43:20.397Z"
   },
   {
    "duration": 192,
    "start_time": "2023-04-05T13:43:36.869Z"
   },
   {
    "duration": 105,
    "start_time": "2023-04-05T13:47:36.189Z"
   },
   {
    "duration": 171,
    "start_time": "2023-04-05T13:57:34.356Z"
   },
   {
    "duration": 10,
    "start_time": "2023-04-05T13:57:50.640Z"
   },
   {
    "duration": 14,
    "start_time": "2023-04-05T14:02:48.837Z"
   },
   {
    "duration": 139756,
    "start_time": "2023-04-05T14:04:40.888Z"
   },
   {
    "duration": 98,
    "start_time": "2023-04-06T21:33:28.405Z"
   },
   {
    "duration": 605,
    "start_time": "2023-04-06T21:33:28.505Z"
   },
   {
    "duration": 200,
    "start_time": "2023-04-06T21:33:29.112Z"
   },
   {
    "duration": 197,
    "start_time": "2023-04-06T21:33:29.407Z"
   },
   {
    "duration": 106,
    "start_time": "2023-04-06T21:33:29.606Z"
   },
   {
    "duration": 2507,
    "start_time": "2023-04-06T21:33:29.804Z"
   },
   {
    "duration": 93,
    "start_time": "2023-04-06T21:33:32.313Z"
   },
   {
    "duration": 1593,
    "start_time": "2023-04-06T21:33:32.409Z"
   },
   {
    "duration": 1603,
    "start_time": "2023-04-06T21:33:34.004Z"
   },
   {
    "duration": 1823,
    "start_time": "2023-08-01T08:55:23.437Z"
   },
   {
    "duration": 133,
    "start_time": "2023-08-01T08:55:25.262Z"
   },
   {
    "duration": 19,
    "start_time": "2023-08-01T08:55:25.397Z"
   },
   {
    "duration": 161,
    "start_time": "2023-08-01T08:55:25.418Z"
   },
   {
    "duration": 20,
    "start_time": "2023-08-01T08:55:25.582Z"
   },
   {
    "duration": 266,
    "start_time": "2023-08-01T08:55:25.604Z"
   },
   {
    "duration": 16,
    "start_time": "2023-08-01T08:55:25.871Z"
   },
   {
    "duration": 171,
    "start_time": "2023-08-01T08:55:25.889Z"
   },
   {
    "duration": 177,
    "start_time": "2023-08-01T08:55:26.061Z"
   },
   {
    "duration": 3,
    "start_time": "2023-08-01T08:55:26.240Z"
   },
   {
    "duration": 13,
    "start_time": "2023-08-01T08:55:26.244Z"
   },
   {
    "duration": 282138,
    "start_time": "2023-08-01T08:55:26.258Z"
   },
   {
    "duration": 158,
    "start_time": "2023-08-01T09:00:08.489Z"
   },
   {
    "duration": 47,
    "start_time": "2023-08-01T09:00:08.651Z"
   },
   {
    "duration": 16,
    "start_time": "2023-08-01T09:00:08.700Z"
   },
   {
    "duration": 63,
    "start_time": "2023-08-01T09:00:08.718Z"
   },
   {
    "duration": 24,
    "start_time": "2023-08-01T09:00:08.782Z"
   },
   {
    "duration": 382,
    "start_time": "2023-08-01T09:00:08.808Z"
   },
   {
    "duration": 1190,
    "start_time": "2023-08-01T09:00:09.192Z"
   },
   {
    "duration": 563992,
    "start_time": "2023-08-01T09:00:10.383Z"
   },
   {
    "duration": 426413,
    "start_time": "2023-08-01T09:09:34.377Z"
   },
   {
    "duration": 5,
    "start_time": "2023-08-01T09:16:40.791Z"
   },
   {
    "duration": 9,
    "start_time": "2023-08-01T09:16:40.802Z"
   },
   {
    "duration": 25,
    "start_time": "2023-08-01T09:16:40.813Z"
   },
   {
    "duration": 22,
    "start_time": "2023-08-01T09:16:40.839Z"
   },
   {
    "duration": 346,
    "start_time": "2023-08-01T09:16:40.862Z"
   }
  ],
  "kernelspec": {
   "display_name": "Python 3 (ipykernel)",
   "language": "python",
   "name": "python3"
  },
  "language_info": {
   "codemirror_mode": {
    "name": "ipython",
    "version": 3
   },
   "file_extension": ".py",
   "mimetype": "text/x-python",
   "name": "python",
   "nbconvert_exporter": "python",
   "pygments_lexer": "ipython3",
   "version": "3.9.16"
  },
  "toc": {
   "base_numbering": 1,
   "nav_menu": {},
   "number_sections": true,
   "sideBar": true,
   "skip_h1_title": true,
   "title_cell": "Содержание",
   "title_sidebar": "Contents",
   "toc_cell": true,
   "toc_position": {
    "height": "calc(100% - 180px)",
    "left": "10px",
    "top": "150px",
    "width": "165px"
   },
   "toc_section_display": true,
   "toc_window_display": true
  }
 },
 "nbformat": 4,
 "nbformat_minor": 2
}
