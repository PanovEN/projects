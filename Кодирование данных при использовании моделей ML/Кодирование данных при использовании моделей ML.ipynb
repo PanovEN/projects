{
 "cells": [
  {
   "cell_type": "markdown",
   "metadata": {
    "toc": true
   },
   "source": [
    "<h1>Содержание<span class=\"tocSkip\"></span></h1>\n",
    "<div class=\"toc\"><ul class=\"toc-item\"><li><span><a href=\"#Загрузка-данных\" data-toc-modified-id=\"Загрузка-данных-1\"><span class=\"toc-item-num\">1&nbsp;&nbsp;</span>Загрузка данных</a></span></li><li><span><a href=\"#Умножение-матриц\" data-toc-modified-id=\"Умножение-матриц-2\"><span class=\"toc-item-num\">2&nbsp;&nbsp;</span>Умножение матриц</a></span></li><li><span><a href=\"#Алгоритм-преобразования\" data-toc-modified-id=\"Алгоритм-преобразования-3\"><span class=\"toc-item-num\">3&nbsp;&nbsp;</span>Алгоритм преобразования</a></span></li><li><span><a href=\"#Проверка-алгоритма\" data-toc-modified-id=\"Проверка-алгоритма-4\"><span class=\"toc-item-num\">4&nbsp;&nbsp;</span>Проверка алгоритма</a></span></li><li><span><a href=\"#Чек-лист-проверки\" data-toc-modified-id=\"Чек-лист-проверки-5\"><span class=\"toc-item-num\">5&nbsp;&nbsp;</span>Чек-лист проверки</a></span></li></ul></div>"
   ]
  },
  {
   "cell_type": "markdown",
   "metadata": {},
   "source": [
    "# Защита персональных данных клиентов"
   ]
  },
  {
   "cell_type": "markdown",
   "metadata": {},
   "source": [
    "Вам нужно защитить данные клиентов страховой компании «Хоть потоп». Разработайте такой метод преобразования данных, чтобы по ним было сложно восстановить персональную информацию. Обоснуйте корректность его работы.\n",
    "\n",
    "Нужно защитить данные, чтобы при преобразовании качество моделей машинного обучения не ухудшилось. Подбирать наилучшую модель не требуется."
   ]
  },
  {
   "cell_type": "markdown",
   "metadata": {},
   "source": [
    "## Загрузка данных"
   ]
  },
  {
   "cell_type": "code",
   "execution_count": 1,
   "metadata": {},
   "outputs": [
    {
     "name": "stdout",
     "output_type": "stream",
     "text": [
      "Collecting sweetviz\n",
      "  Downloading sweetviz-2.1.4-py3-none-any.whl (15.1 MB)\n",
      "\u001b[K     |████████████████████████████████| 15.1 MB 1.2 MB/s eta 0:00:01\n",
      "\u001b[?25hRequirement already satisfied: matplotlib>=3.1.3 in /opt/conda/lib/python3.9/site-packages (from sweetviz) (3.3.4)\n",
      "Collecting importlib-resources>=1.2.0\n",
      "  Downloading importlib_resources-5.12.0-py3-none-any.whl (36 kB)\n",
      "Requirement already satisfied: tqdm>=4.43.0 in /opt/conda/lib/python3.9/site-packages (from sweetviz) (4.61.2)\n",
      "Requirement already satisfied: jinja2>=2.11.1 in /opt/conda/lib/python3.9/site-packages (from sweetviz) (3.0.1)\n",
      "Requirement already satisfied: pandas!=1.0.0,!=1.0.1,!=1.0.2,>=0.25.3 in /opt/conda/lib/python3.9/site-packages (from sweetviz) (1.2.4)\n",
      "Requirement already satisfied: scipy>=1.3.2 in /opt/conda/lib/python3.9/site-packages (from sweetviz) (1.9.1)\n",
      "Requirement already satisfied: numpy>=1.16.0 in /opt/conda/lib/python3.9/site-packages (from sweetviz) (1.21.1)\n",
      "Requirement already satisfied: zipp>=3.1.0 in /opt/conda/lib/python3.9/site-packages (from importlib-resources>=1.2.0->sweetviz) (3.5.0)\n",
      "Requirement already satisfied: MarkupSafe>=2.0 in /opt/conda/lib/python3.9/site-packages (from jinja2>=2.11.1->sweetviz) (2.1.1)\n",
      "Requirement already satisfied: pillow>=6.2.0 in /opt/conda/lib/python3.9/site-packages (from matplotlib>=3.1.3->sweetviz) (8.4.0)\n",
      "Requirement already satisfied: cycler>=0.10 in /opt/conda/lib/python3.9/site-packages (from matplotlib>=3.1.3->sweetviz) (0.11.0)\n",
      "Requirement already satisfied: python-dateutil>=2.1 in /opt/conda/lib/python3.9/site-packages (from matplotlib>=3.1.3->sweetviz) (2.8.1)\n",
      "Requirement already satisfied: pyparsing!=2.0.4,!=2.1.2,!=2.1.6,>=2.0.3 in /opt/conda/lib/python3.9/site-packages (from matplotlib>=3.1.3->sweetviz) (2.4.7)\n",
      "Requirement already satisfied: kiwisolver>=1.0.1 in /opt/conda/lib/python3.9/site-packages (from matplotlib>=3.1.3->sweetviz) (1.4.4)\n",
      "Requirement already satisfied: pytz>=2017.3 in /opt/conda/lib/python3.9/site-packages (from pandas!=1.0.0,!=1.0.1,!=1.0.2,>=0.25.3->sweetviz) (2021.1)\n",
      "Requirement already satisfied: six>=1.5 in /opt/conda/lib/python3.9/site-packages (from python-dateutil>=2.1->matplotlib>=3.1.3->sweetviz) (1.16.0)\n",
      "Installing collected packages: importlib-resources, sweetviz\n",
      "Successfully installed importlib-resources-5.12.0 sweetviz-2.1.4\n"
     ]
    }
   ],
   "source": [
    "# Импортируем необходимые библиотеки.\n",
    "! pip install sweetviz\n",
    "import pandas as pd\n",
    "import numpy as np\n",
    "import sweetviz as sv\n",
    "from sklearn.metrics import r2_score\n",
    "from sklearn.linear_model import LinearRegression"
   ]
  },
  {
   "cell_type": "code",
   "execution_count": 2,
   "metadata": {},
   "outputs": [
    {
     "name": "stdout",
     "output_type": "stream",
     "text": [
      "<class 'pandas.core.frame.DataFrame'>\n",
      "RangeIndex: 5000 entries, 0 to 4999\n",
      "Data columns (total 5 columns):\n",
      " #   Column             Non-Null Count  Dtype  \n",
      "---  ------             --------------  -----  \n",
      " 0   Пол                5000 non-null   int64  \n",
      " 1   Возраст            5000 non-null   float64\n",
      " 2   Зарплата           5000 non-null   float64\n",
      " 3   Члены семьи        5000 non-null   int64  \n",
      " 4   Страховые выплаты  5000 non-null   int64  \n",
      "dtypes: float64(2), int64(3)\n",
      "memory usage: 195.4 KB\n"
     ]
    }
   ],
   "source": [
    "# Импортируем и изучим данные\n",
    "#df = pd.read_csv('C:\\\\datasets\\insurance.csv')\n",
    "df = pd.read_csv('/datasets/insurance.csv')\n",
    "df.info()"
   ]
  },
  {
   "cell_type": "markdown",
   "metadata": {},
   "source": []
  },
  {
   "cell_type": "code",
   "execution_count": 3,
   "metadata": {},
   "outputs": [
    {
     "data": {
      "text/html": [
       "<div>\n",
       "<style scoped>\n",
       "    .dataframe tbody tr th:only-of-type {\n",
       "        vertical-align: middle;\n",
       "    }\n",
       "\n",
       "    .dataframe tbody tr th {\n",
       "        vertical-align: top;\n",
       "    }\n",
       "\n",
       "    .dataframe thead th {\n",
       "        text-align: right;\n",
       "    }\n",
       "</style>\n",
       "<table border=\"1\" class=\"dataframe\">\n",
       "  <thead>\n",
       "    <tr style=\"text-align: right;\">\n",
       "      <th></th>\n",
       "      <th>Пол</th>\n",
       "      <th>Возраст</th>\n",
       "      <th>Зарплата</th>\n",
       "      <th>Члены семьи</th>\n",
       "      <th>Страховые выплаты</th>\n",
       "    </tr>\n",
       "  </thead>\n",
       "  <tbody>\n",
       "    <tr>\n",
       "      <th>0</th>\n",
       "      <td>1</td>\n",
       "      <td>41.0</td>\n",
       "      <td>49600.0</td>\n",
       "      <td>1</td>\n",
       "      <td>0</td>\n",
       "    </tr>\n",
       "    <tr>\n",
       "      <th>1</th>\n",
       "      <td>0</td>\n",
       "      <td>46.0</td>\n",
       "      <td>38000.0</td>\n",
       "      <td>1</td>\n",
       "      <td>1</td>\n",
       "    </tr>\n",
       "    <tr>\n",
       "      <th>2</th>\n",
       "      <td>0</td>\n",
       "      <td>29.0</td>\n",
       "      <td>21000.0</td>\n",
       "      <td>0</td>\n",
       "      <td>0</td>\n",
       "    </tr>\n",
       "    <tr>\n",
       "      <th>3</th>\n",
       "      <td>0</td>\n",
       "      <td>21.0</td>\n",
       "      <td>41700.0</td>\n",
       "      <td>2</td>\n",
       "      <td>0</td>\n",
       "    </tr>\n",
       "    <tr>\n",
       "      <th>4</th>\n",
       "      <td>1</td>\n",
       "      <td>28.0</td>\n",
       "      <td>26100.0</td>\n",
       "      <td>0</td>\n",
       "      <td>0</td>\n",
       "    </tr>\n",
       "  </tbody>\n",
       "</table>\n",
       "</div>"
      ],
      "text/plain": [
       "   Пол  Возраст  Зарплата  Члены семьи  Страховые выплаты\n",
       "0    1     41.0   49600.0            1                  0\n",
       "1    0     46.0   38000.0            1                  1\n",
       "2    0     29.0   21000.0            0                  0\n",
       "3    0     21.0   41700.0            2                  0\n",
       "4    1     28.0   26100.0            0                  0"
      ]
     },
     "execution_count": 3,
     "metadata": {},
     "output_type": "execute_result"
    }
   ],
   "source": [
    "df.head()"
   ]
  },
  {
   "cell_type": "code",
   "execution_count": 4,
   "metadata": {},
   "outputs": [
    {
     "data": {
      "application/vnd.jupyter.widget-view+json": {
       "model_id": "ddea7a969fbc498faceedf12a80efa8d",
       "version_major": 2,
       "version_minor": 0
      },
      "text/plain": [
       "                                             |          | [  0%]   00:00 -> (? left)"
      ]
     },
     "metadata": {},
     "output_type": "display_data"
    },
    {
     "name": "stdout",
     "output_type": "stream",
     "text": [
      "Report SWEETVIZ_REPORT.html was generated! NOTEBOOK/COLAB USERS: the web browser MAY not pop up, regardless, the report IS saved in your notebook/colab files.\n"
     ]
    }
   ],
   "source": [
    "# Сделаем расширенный EDA-анализ\n",
    "report = sv.analyze([df, \" EDA-анализ данных\"])\n",
    "report.show_html()"
   ]
  },
  {
   "cell_type": "code",
   "execution_count": 5,
   "metadata": {},
   "outputs": [
    {
     "data": {
      "text/plain": [
       "153"
      ]
     },
     "execution_count": 5,
     "metadata": {},
     "output_type": "execute_result"
    }
   ],
   "source": [
    "# Проверим на наличие дубликатов\n",
    "df.duplicated().sum()"
   ]
  },
  {
   "cell_type": "markdown",
   "metadata": {},
   "source": [
    "**Выводы**\n",
    "В датасете 5000 не нулевых записей, 153 дубликата. Оставим их без удаления, т.к. по условию нам нужно защитить данные. Мужчин и женщин - примерно одинаковое количество. Признаки распределены без аномалий, данные готовы для дальнейшей работы."
   ]
  },
  {
   "cell_type": "markdown",
   "metadata": {},
   "source": []
  },
  {
   "cell_type": "markdown",
   "metadata": {},
   "source": [
    "## Умножение матриц"
   ]
  },
  {
   "cell_type": "markdown",
   "metadata": {},
   "source": [
    "Для защиты данных клиентов будет использоваться метод умножения исходной матрицы признаков данных Х на случайную квадратную матрицу (обозначим её P), размером по количеству столбцов в исходной.\n",
    "\n",
    "Тогда формула предсказаний будет иметь вид:\n",
    "$$\n",
    "a' = X'w' = (XP)w'\n",
    "$$\n",
    "Новая формула обучения:\n",
    "$$\n",
    "w' = ((XP)^T XP)^{-1} (XP)^T y\n",
    "$$\n",
    "Последовательно раскроем скобки:\n",
    "$$\n",
    "w' = ((P^T X^T) XP)^{-1} P^T X^T y\n",
    "$$\n",
    "$$\n",
    "w' = (P^T (X^T X) P)^{-1} P^T X^T y\n",
    "$$\n",
    "$$\n",
    "w' = P^{-1} (X^T X)^{-1} (P^T)^{-1} P^T X^T y\n",
    "$$\n",
    "$ (P^T)^{-1} P^T $ это единичная матрица E , а матрица, умножаясь на единичную - равна себе, поэтому можно сократить запись:\n",
    "$$\n",
    "w' = P^{-1} (X^T X)^{-1} X^T y\n",
    "$$\n",
    "$ (X^T X)^{-1}$ - не будем раскрывать, так как для неквадратных матриц ($X$ и $X^T$) обратных матриц не существует\n",
    "Так как $ (X^T X)^{-1} X^T y = w $, поэтому получаем следующую формулу:\n",
    "$$\n",
    "w' = P^{-1} w\n",
    "$$\n",
    "$$\n",
    "a = Xw = XEw = XPP^{-1}w = (XP)P^{-1}w = (XP)w' = a'\n",
    "$$\n",
    "\n",
    "\n",
    "Проверим, не ухудшается ли качество модели в результате преобразования:"
   ]
  },
  {
   "cell_type": "code",
   "execution_count": 6,
   "metadata": {},
   "outputs": [],
   "source": [
    "# Разделим данные на признаки и целевой признак: features и target\n",
    "features = df.drop('Страховые выплаты', axis=1)\n",
    "target = df['Страховые выплаты']"
   ]
  },
  {
   "cell_type": "code",
   "execution_count": 7,
   "metadata": {},
   "outputs": [],
   "source": [
    "# Создадим класс Regression и напишем 2 метода fit и predict.\n",
    "class Regression:\n",
    "    def fit(self, train_features, train_target):\n",
    "        X = np.concatenate((np.ones((train_features.shape[0], 1)), train_features), axis=1)\n",
    "        y = train_target\n",
    "        w = np.linalg.inv((X.T @ X)).dot(X.T).dot(y)\n",
    "        self.w = w[1:]\n",
    "        self.w0 = w[0]\n",
    "        print(w)\n",
    "        \n",
    "    def predict(self, test_features):\n",
    "        return test_features.dot(self.w) + self.w0"
   ]
  },
  {
   "cell_type": "code",
   "execution_count": 8,
   "metadata": {},
   "outputs": [
    {
     "name": "stdout",
     "output_type": "stream",
     "text": [
      "[-9.38235504e-01  7.92580543e-03  3.57083050e-02 -1.70080492e-07\n",
      " -1.35676623e-02]\n"
     ]
    },
    {
     "data": {
      "text/plain": [
       "0.42494550286668"
      ]
     },
     "execution_count": 8,
     "metadata": {},
     "output_type": "execute_result"
    }
   ],
   "source": [
    "# Создадим модель и обучим её. Найдем её предсказания на обучающей выборке. Рассчитаем метрику R2.\n",
    "model = Regression()\n",
    "model.fit(features, target)\n",
    "predictions = model.predict(features)\n",
    "r2_score(target, predictions)"
   ]
  },
  {
   "cell_type": "code",
   "execution_count": 9,
   "metadata": {},
   "outputs": [
    {
     "data": {
      "text/plain": [
       "array([[ 0.519866  ,  0.48317294,  1.2930181 ,  0.02682421],\n",
       "       [-0.99581739, -0.80547415, -0.70593036, -0.93506952],\n",
       "       [-1.71105073, -0.74933498,  1.4569403 , -0.76785483],\n",
       "       [ 1.46122925, -1.74407392, -0.36548079,  0.31625333]])"
      ]
     },
     "execution_count": 9,
     "metadata": {},
     "output_type": "execute_result"
    }
   ],
   "source": [
    "# Создадим случайную матрицу\n",
    "random_matrix = np.random.normal(0, 1, (features.shape[1], features.shape[1]))\n",
    "random_matrix"
   ]
  },
  {
   "cell_type": "code",
   "execution_count": 10,
   "metadata": {},
   "outputs": [
    {
     "data": {
      "text/plain": [
       "array([[ 0.78973677,  0.44676743, -0.43446079,  0.19911799],\n",
       "       [ 0.33227616,  0.14166773, -0.32804629, -0.40580062],\n",
       "       [ 0.36073677, -0.20112567,  0.28628432,  0.06982325],\n",
       "       [-1.39960556, -1.51542504,  0.52913673,  0.08479199]])"
      ]
     },
     "execution_count": 10,
     "metadata": {},
     "output_type": "execute_result"
    }
   ],
   "source": [
    "# Проверим её на обратимость.\n",
    "np.linalg.inv(random_matrix)"
   ]
  },
  {
   "cell_type": "code",
   "execution_count": 11,
   "metadata": {},
   "outputs": [
    {
     "data": {
      "text/plain": [
       "array([[ 1.00000000e+00,  5.99202284e-17, -4.76769616e-17,\n",
       "         2.19082903e-17],\n",
       "       [ 1.90187286e-16,  1.00000000e+00,  3.48073126e-17,\n",
       "        -3.21695371e-17],\n",
       "       [-2.24382698e-16, -6.60318903e-17,  1.00000000e+00,\n",
       "        -7.04071107e-17],\n",
       "       [ 1.98702118e-16,  9.79186545e-17, -1.41952767e-16,\n",
       "         1.00000000e+00]])"
      ]
     },
     "execution_count": 11,
     "metadata": {},
     "output_type": "execute_result"
    }
   ],
   "source": [
    "# Теперь при перемножении исходной на обратную матрицы, должна получиться единичная матрица\n",
    "random_matrix.dot(np.linalg.inv(random_matrix))"
   ]
  },
  {
   "cell_type": "code",
   "execution_count": 12,
   "metadata": {},
   "outputs": [
    {
     "data": {
      "text/html": [
       "<div>\n",
       "<style scoped>\n",
       "    .dataframe tbody tr th:only-of-type {\n",
       "        vertical-align: middle;\n",
       "    }\n",
       "\n",
       "    .dataframe tbody tr th {\n",
       "        vertical-align: top;\n",
       "    }\n",
       "\n",
       "    .dataframe thead th {\n",
       "        text-align: right;\n",
       "    }\n",
       "</style>\n",
       "<table border=\"1\" class=\"dataframe\">\n",
       "  <thead>\n",
       "    <tr style=\"text-align: right;\">\n",
       "      <th></th>\n",
       "      <th>0</th>\n",
       "      <th>1</th>\n",
       "      <th>2</th>\n",
       "      <th>3</th>\n",
       "    </tr>\n",
       "  </thead>\n",
       "  <tbody>\n",
       "    <tr>\n",
       "      <th>0</th>\n",
       "      <td>-84906.963753</td>\n",
       "      <td>-37201.300459</td>\n",
       "      <td>72236.223464</td>\n",
       "      <td>-38123.594283</td>\n",
       "    </tr>\n",
       "    <tr>\n",
       "      <th>1</th>\n",
       "      <td>-65064.274208</td>\n",
       "      <td>-28513.525209</td>\n",
       "      <td>55330.893270</td>\n",
       "      <td>-29221.180440</td>\n",
       "    </tr>\n",
       "    <tr>\n",
       "      <th>2</th>\n",
       "      <td>-35960.944088</td>\n",
       "      <td>-15759.393377</td>\n",
       "      <td>30575.274401</td>\n",
       "      <td>-16152.068422</td>\n",
       "    </tr>\n",
       "    <tr>\n",
       "      <th>3</th>\n",
       "      <td>-71368.805255</td>\n",
       "      <td>-31267.671863</td>\n",
       "      <td>60738.855172</td>\n",
       "      <td>-32038.550316</td>\n",
       "    </tr>\n",
       "    <tr>\n",
       "      <th>4</th>\n",
       "      <td>-44685.787141</td>\n",
       "      <td>-19579.713139</td>\n",
       "      <td>38007.668899</td>\n",
       "      <td>-20067.166155</td>\n",
       "    </tr>\n",
       "  </tbody>\n",
       "</table>\n",
       "</div>"
      ],
      "text/plain": [
       "              0             1             2             3\n",
       "0 -84906.963753 -37201.300459  72236.223464 -38123.594283\n",
       "1 -65064.274208 -28513.525209  55330.893270 -29221.180440\n",
       "2 -35960.944088 -15759.393377  30575.274401 -16152.068422\n",
       "3 -71368.805255 -31267.671863  60738.855172 -32038.550316\n",
       "4 -44685.787141 -19579.713139  38007.668899 -20067.166155"
      ]
     },
     "execution_count": 12,
     "metadata": {},
     "output_type": "execute_result"
    }
   ],
   "source": [
    "# Признаки ДатаФрейма умножим на  нашу обратимую матрицу random_matrix\n",
    "features_encoded = features.dot(random_matrix)\n",
    "features_encoded.head()"
   ]
  },
  {
   "cell_type": "code",
   "execution_count": 13,
   "metadata": {},
   "outputs": [
    {
     "name": "stdout",
     "output_type": "stream",
     "text": [
      "[-0.93823499  0.01951115  0.01319811 -0.0052701  -0.06635684]\n"
     ]
    },
    {
     "data": {
      "text/plain": [
       "0.42494550286659416"
      ]
     },
     "execution_count": 13,
     "metadata": {},
     "output_type": "execute_result"
    }
   ],
   "source": [
    "# Обучим модель на новых признаках, сделаем предсказания и посчитаем R2\n",
    "model.fit(features_encoded, target)\n",
    "predictions = model.predict(features_encoded)\n",
    "r2_score(target, predictions)"
   ]
  },
  {
   "cell_type": "markdown",
   "metadata": {},
   "source": [
    "**Ответ:** Умножив признаки на случайную обратимую матрицу, качество линейной регрессии не меняется.\n",
    "\n",
    "**Обоснование:** Веса меняются под значения изменённой матрицы, так как признаки исходной матрицы и преобразованной выражаются через веса w, и качество линейной регресии остаётся неизменным."
   ]
  },
  {
   "cell_type": "markdown",
   "metadata": {},
   "source": [
    "## Алгоритм преобразования"
   ]
  },
  {
   "cell_type": "markdown",
   "metadata": {},
   "source": [
    "**Алгоритм**\n",
    "\n",
    "Будем использовать функцию кодирования исходных данных в зашифрованный вид, в которой подаваемая на вход исходная матрица будет умножаться на случайную обратимую матрицу. А для расшифровки данных будем использовать функцию декодирования, в которой подаваемая на вход зашифрованная матрица умножается на обратную нашей случайной, и возвращает исходные данные."
   ]
  },
  {
   "cell_type": "code",
   "execution_count": 14,
   "metadata": {},
   "outputs": [],
   "source": [
    "# Создадим ещё раз случайную матрицу\n",
    "random_matrix = np.random.normal(0, 1, (features.shape[1], features.shape[1]))"
   ]
  },
  {
   "cell_type": "code",
   "execution_count": 15,
   "metadata": {},
   "outputs": [
    {
     "data": {
      "text/plain": [
       "array([[ 0.15109405,  0.35811063, -0.88891339, -0.381049  ],\n",
       "       [ 0.04414609,  0.70678584, -0.42713079, -0.30895778],\n",
       "       [ 0.14096296,  0.21002147, -0.43887812, -0.88765762],\n",
       "       [ 0.67592067, -0.48139036,  0.43219712,  0.39872306]])"
      ]
     },
     "execution_count": 15,
     "metadata": {},
     "output_type": "execute_result"
    }
   ],
   "source": [
    "# Проверим её на обратимость.\n",
    "np.linalg.inv(random_matrix)"
   ]
  },
  {
   "cell_type": "code",
   "execution_count": 16,
   "metadata": {},
   "outputs": [
    {
     "data": {
      "text/plain": [
       "array([[ 1.00000000e+00,  6.29923834e-17, -3.09667861e-18,\n",
       "         6.64262802e-17],\n",
       "       [ 9.14254715e-18,  1.00000000e+00, -8.30032108e-17,\n",
       "        -1.20013726e-18],\n",
       "       [ 3.81003342e-17,  1.55882971e-18,  1.00000000e+00,\n",
       "        -5.44683838e-17],\n",
       "       [-1.02947850e-18, -3.68919280e-17,  7.22272571e-17,\n",
       "         1.00000000e+00]])"
      ]
     },
     "execution_count": 16,
     "metadata": {},
     "output_type": "execute_result"
    }
   ],
   "source": [
    "# Теперь при перемножении исходной на обратную матрицы, должна получиться единичная матрица\n",
    "random_matrix.dot(np.linalg.inv(random_matrix))"
   ]
  },
  {
   "cell_type": "code",
   "execution_count": 17,
   "metadata": {},
   "outputs": [],
   "source": [
    "# Функция шифрования\n",
    "def coding(data):\n",
    "    return data.dot(random_matrix)"
   ]
  },
  {
   "cell_type": "code",
   "execution_count": 18,
   "metadata": {},
   "outputs": [
    {
     "data": {
      "text/html": [
       "<div>\n",
       "<style scoped>\n",
       "    .dataframe tbody tr th:only-of-type {\n",
       "        vertical-align: middle;\n",
       "    }\n",
       "\n",
       "    .dataframe tbody tr th {\n",
       "        vertical-align: top;\n",
       "    }\n",
       "\n",
       "    .dataframe thead th {\n",
       "        text-align: right;\n",
       "    }\n",
       "</style>\n",
       "<table border=\"1\" class=\"dataframe\">\n",
       "  <thead>\n",
       "    <tr style=\"text-align: right;\">\n",
       "      <th></th>\n",
       "      <th>0</th>\n",
       "      <th>1</th>\n",
       "      <th>2</th>\n",
       "      <th>3</th>\n",
       "    </tr>\n",
       "  </thead>\n",
       "  <tbody>\n",
       "    <tr>\n",
       "      <th>0</th>\n",
       "      <td>-83673.409579</td>\n",
       "      <td>41879.838969</td>\n",
       "      <td>26072.355755</td>\n",
       "      <td>10533.020391</td>\n",
       "    </tr>\n",
       "    <tr>\n",
       "      <th>1</th>\n",
       "      <td>-64115.221091</td>\n",
       "      <td>32113.252765</td>\n",
       "      <td>19969.587675</td>\n",
       "      <td>8070.150103</td>\n",
       "    </tr>\n",
       "    <tr>\n",
       "      <th>2</th>\n",
       "      <td>-35435.083846</td>\n",
       "      <td>17753.681623</td>\n",
       "      <td>11035.465652</td>\n",
       "      <td>4460.113001</td>\n",
       "    </tr>\n",
       "    <tr>\n",
       "      <th>3</th>\n",
       "      <td>-70335.910496</td>\n",
       "      <td>35182.769102</td>\n",
       "      <td>21922.130404</td>\n",
       "      <td>8853.031574</td>\n",
       "    </tr>\n",
       "    <tr>\n",
       "      <th>4</th>\n",
       "      <td>-44034.729488</td>\n",
       "      <td>22050.368550</td>\n",
       "      <td>13718.349512</td>\n",
       "      <td>5543.799425</td>\n",
       "    </tr>\n",
       "  </tbody>\n",
       "</table>\n",
       "</div>"
      ],
      "text/plain": [
       "              0             1             2             3\n",
       "0 -83673.409579  41879.838969  26072.355755  10533.020391\n",
       "1 -64115.221091  32113.252765  19969.587675   8070.150103\n",
       "2 -35435.083846  17753.681623  11035.465652   4460.113001\n",
       "3 -70335.910496  35182.769102  21922.130404   8853.031574\n",
       "4 -44034.729488  22050.368550  13718.349512   5543.799425"
      ]
     },
     "execution_count": 18,
     "metadata": {},
     "output_type": "execute_result"
    }
   ],
   "source": [
    "# Шифруем\n",
    "encoded_features = coding(features)\n",
    "encoded_features.head()"
   ]
  },
  {
   "cell_type": "code",
   "execution_count": 19,
   "metadata": {},
   "outputs": [],
   "source": [
    "# Функция дешифрования\n",
    "def decoding(data):\n",
    "    decoded_data = round(abs(data.dot(np.linalg.inv(random_matrix))))\n",
    "    for i in decoded_data.iloc[:, [0, 3]]:\n",
    "        decoded_data[i] = decoded_data[i].astype(int)\n",
    "    decoded_data.columns = features.columns\n",
    "    return decoded_data"
   ]
  },
  {
   "cell_type": "code",
   "execution_count": 20,
   "metadata": {},
   "outputs": [
    {
     "data": {
      "text/html": [
       "<div>\n",
       "<style scoped>\n",
       "    .dataframe tbody tr th:only-of-type {\n",
       "        vertical-align: middle;\n",
       "    }\n",
       "\n",
       "    .dataframe tbody tr th {\n",
       "        vertical-align: top;\n",
       "    }\n",
       "\n",
       "    .dataframe thead th {\n",
       "        text-align: right;\n",
       "    }\n",
       "</style>\n",
       "<table border=\"1\" class=\"dataframe\">\n",
       "  <thead>\n",
       "    <tr style=\"text-align: right;\">\n",
       "      <th></th>\n",
       "      <th>Пол</th>\n",
       "      <th>Возраст</th>\n",
       "      <th>Зарплата</th>\n",
       "      <th>Члены семьи</th>\n",
       "    </tr>\n",
       "  </thead>\n",
       "  <tbody>\n",
       "    <tr>\n",
       "      <th>0</th>\n",
       "      <td>1</td>\n",
       "      <td>41.0</td>\n",
       "      <td>49600.0</td>\n",
       "      <td>1</td>\n",
       "    </tr>\n",
       "    <tr>\n",
       "      <th>1</th>\n",
       "      <td>0</td>\n",
       "      <td>46.0</td>\n",
       "      <td>38000.0</td>\n",
       "      <td>1</td>\n",
       "    </tr>\n",
       "    <tr>\n",
       "      <th>2</th>\n",
       "      <td>0</td>\n",
       "      <td>29.0</td>\n",
       "      <td>21000.0</td>\n",
       "      <td>0</td>\n",
       "    </tr>\n",
       "    <tr>\n",
       "      <th>3</th>\n",
       "      <td>0</td>\n",
       "      <td>21.0</td>\n",
       "      <td>41700.0</td>\n",
       "      <td>2</td>\n",
       "    </tr>\n",
       "    <tr>\n",
       "      <th>4</th>\n",
       "      <td>1</td>\n",
       "      <td>28.0</td>\n",
       "      <td>26100.0</td>\n",
       "      <td>0</td>\n",
       "    </tr>\n",
       "  </tbody>\n",
       "</table>\n",
       "</div>"
      ],
      "text/plain": [
       "   Пол  Возраст  Зарплата  Члены семьи\n",
       "0    1     41.0   49600.0            1\n",
       "1    0     46.0   38000.0            1\n",
       "2    0     29.0   21000.0            0\n",
       "3    0     21.0   41700.0            2\n",
       "4    1     28.0   26100.0            0"
      ]
     },
     "execution_count": 20,
     "metadata": {},
     "output_type": "execute_result"
    }
   ],
   "source": [
    "# Дешифруем\n",
    "decrypted_features = decoding(encoded_features)\n",
    "decrypted_features.head()"
   ]
  },
  {
   "cell_type": "code",
   "execution_count": 21,
   "metadata": {},
   "outputs": [
    {
     "data": {
      "text/html": [
       "<div>\n",
       "<style scoped>\n",
       "    .dataframe tbody tr th:only-of-type {\n",
       "        vertical-align: middle;\n",
       "    }\n",
       "\n",
       "    .dataframe tbody tr th {\n",
       "        vertical-align: top;\n",
       "    }\n",
       "\n",
       "    .dataframe thead th {\n",
       "        text-align: right;\n",
       "    }\n",
       "</style>\n",
       "<table border=\"1\" class=\"dataframe\">\n",
       "  <thead>\n",
       "    <tr style=\"text-align: right;\">\n",
       "      <th></th>\n",
       "      <th>Пол</th>\n",
       "      <th>Возраст</th>\n",
       "      <th>Зарплата</th>\n",
       "      <th>Члены семьи</th>\n",
       "    </tr>\n",
       "  </thead>\n",
       "  <tbody>\n",
       "    <tr>\n",
       "      <th>0</th>\n",
       "      <td>1</td>\n",
       "      <td>41.0</td>\n",
       "      <td>49600.0</td>\n",
       "      <td>1</td>\n",
       "    </tr>\n",
       "    <tr>\n",
       "      <th>1</th>\n",
       "      <td>0</td>\n",
       "      <td>46.0</td>\n",
       "      <td>38000.0</td>\n",
       "      <td>1</td>\n",
       "    </tr>\n",
       "    <tr>\n",
       "      <th>2</th>\n",
       "      <td>0</td>\n",
       "      <td>29.0</td>\n",
       "      <td>21000.0</td>\n",
       "      <td>0</td>\n",
       "    </tr>\n",
       "    <tr>\n",
       "      <th>3</th>\n",
       "      <td>0</td>\n",
       "      <td>21.0</td>\n",
       "      <td>41700.0</td>\n",
       "      <td>2</td>\n",
       "    </tr>\n",
       "    <tr>\n",
       "      <th>4</th>\n",
       "      <td>1</td>\n",
       "      <td>28.0</td>\n",
       "      <td>26100.0</td>\n",
       "      <td>0</td>\n",
       "    </tr>\n",
       "  </tbody>\n",
       "</table>\n",
       "</div>"
      ],
      "text/plain": [
       "   Пол  Возраст  Зарплата  Члены семьи\n",
       "0    1     41.0   49600.0            1\n",
       "1    0     46.0   38000.0            1\n",
       "2    0     29.0   21000.0            0\n",
       "3    0     21.0   41700.0            2\n",
       "4    1     28.0   26100.0            0"
      ]
     },
     "execution_count": 21,
     "metadata": {},
     "output_type": "execute_result"
    }
   ],
   "source": [
    "# Исходные данные\n",
    "features.head()"
   ]
  },
  {
   "cell_type": "markdown",
   "metadata": {},
   "source": [
    "Данные полностью восстановлены"
   ]
  },
  {
   "cell_type": "markdown",
   "metadata": {},
   "source": [
    "**Обоснование**\n",
    "\n",
    "Формула предсказаний: $ a=Xw $\n",
    "\n",
    "После умножения исходных данных на случайную матрицу Z, формула будет такой: $ a' = XZw' $ .\n",
    "\n",
    "Но $ w' = Z^{-1} w $ , поэтому $ a' = XZZ^{-1} w $\n",
    "\n",
    "$ Z*Z^{-1} $ это единичная матрица Е, убираем её.\n",
    "\n",
    "Получим итоговую формулу предсказаний: $ a' = Xw = a $ , т.е. предсказания по исходной и закодированной матрице равны."
   ]
  },
  {
   "cell_type": "markdown",
   "metadata": {},
   "source": [
    "## Проверка алгоритма"
   ]
  },
  {
   "cell_type": "code",
   "execution_count": 22,
   "metadata": {},
   "outputs": [
    {
     "data": {
      "text/plain": [
       "0.4249455028666801"
      ]
     },
     "execution_count": 22,
     "metadata": {},
     "output_type": "execute_result"
    }
   ],
   "source": [
    "# Создадим модель Линейной регрессии, обучим её, посчитаем метрику R2 для исходных данных\n",
    "model = LinearRegression()\n",
    "model.fit(features, target)\n",
    "r2_score(target, model.predict(features))"
   ]
  },
  {
   "cell_type": "code",
   "execution_count": 23,
   "metadata": {},
   "outputs": [
    {
     "data": {
      "text/plain": [
       "0.42494550286668475"
      ]
     },
     "execution_count": 23,
     "metadata": {},
     "output_type": "execute_result"
    }
   ],
   "source": [
    "# Посчитаем метрику R2 для закодированных данных\n",
    "model.fit(encoded_features, target)\n",
    "r2_score(target, model.predict(encoded_features))"
   ]
  },
  {
   "cell_type": "markdown",
   "metadata": {},
   "source": [
    "**Выводы**\n",
    "Качество метрики R2 для матрицы признаков до кодирования и для матрицы признаков после кодирования одинаковы. Метрика R2, рассчитанная по написанному нами классу линейной регресии Regression вначале, имела точно такое же значение. Алгоритм верен."
   ]
  },
  {
   "cell_type": "markdown",
   "metadata": {},
   "source": [
    "**Общий вывод:**\n",
    "\n",
    "- Умножив признаки на обратимую случайную матрицу, качество регрессии не меняется, так как Веса меняются под новые значения, (признаки исходной матрицы и преобразованной выражаются через эти веса w).\n",
    "\n",
    "- Алгоритм шифрования данных справляется для решения нашей задачи.\n",
    "\n",
    "- Зашифрованные данные можно использовать для предсказаний с помощью линейной регресии.\n",
    "\n",
    "- Алгоритм дешифрует данные без потерь.\n",
    "\n",
    "- Так как в алгоритме применён генератор случайной матрицы, она при каждом запуске будет новой, и зашифрованные данные также каждый раз будут новыми. То есть, данные сложно восстановить без кода программы.\n",
    "\n",
    "- Алгоритм удовлетворяет поставленной задаче Защиты персональных данных клиентов."
   ]
  }
 ],
 "metadata": {
  "ExecuteTimeLog": [
   {
    "duration": 7418,
    "start_time": "2023-02-21T05:03:00.411Z"
   },
   {
    "duration": 158,
    "start_time": "2023-02-21T05:03:07.831Z"
   },
   {
    "duration": 45,
    "start_time": "2023-02-21T05:04:55.976Z"
   },
   {
    "duration": 18,
    "start_time": "2023-02-21T05:05:03.606Z"
   },
   {
    "duration": 3335,
    "start_time": "2023-02-21T05:05:04.246Z"
   },
   {
    "duration": 6,
    "start_time": "2023-02-21T05:05:07.582Z"
   },
   {
    "duration": 5,
    "start_time": "2023-02-21T05:06:57.564Z"
   },
   {
    "duration": 5,
    "start_time": "2023-02-21T05:06:58.441Z"
   },
   {
    "duration": 12,
    "start_time": "2023-02-21T05:07:00.765Z"
   },
   {
    "duration": 6,
    "start_time": "2023-02-21T05:07:37.412Z"
   },
   {
    "duration": 5,
    "start_time": "2023-02-21T05:07:37.812Z"
   },
   {
    "duration": 6,
    "start_time": "2023-02-21T05:07:44.058Z"
   },
   {
    "duration": 14,
    "start_time": "2023-02-21T05:08:08.524Z"
   },
   {
    "duration": 9,
    "start_time": "2023-02-21T05:08:08.720Z"
   },
   {
    "duration": 3,
    "start_time": "2023-02-21T05:09:19.932Z"
   },
   {
    "duration": 11,
    "start_time": "2023-02-21T05:09:54.853Z"
   },
   {
    "duration": 4,
    "start_time": "2023-02-21T05:09:55.383Z"
   },
   {
    "duration": 12,
    "start_time": "2023-02-21T05:10:09.757Z"
   },
   {
    "duration": 8,
    "start_time": "2023-02-21T05:10:12.252Z"
   },
   {
    "duration": 4,
    "start_time": "2023-02-21T05:10:14.780Z"
   },
   {
    "duration": 4,
    "start_time": "2023-02-21T05:10:14.921Z"
   },
   {
    "duration": 14,
    "start_time": "2023-02-21T05:10:15.076Z"
   },
   {
    "duration": 6,
    "start_time": "2023-02-21T05:10:15.430Z"
   },
   {
    "duration": 6,
    "start_time": "2023-02-21T05:10:15.593Z"
   },
   {
    "duration": 9,
    "start_time": "2023-02-21T05:10:15.786Z"
   },
   {
    "duration": 12,
    "start_time": "2023-02-21T05:10:16.271Z"
   },
   {
    "duration": 102,
    "start_time": "2023-02-21T05:10:16.498Z"
   },
   {
    "duration": 3,
    "start_time": "2023-02-21T05:10:17.425Z"
   },
   {
    "duration": 3,
    "start_time": "2023-02-21T05:10:17.611Z"
   },
   {
    "duration": 12,
    "start_time": "2023-02-21T05:10:17.933Z"
   },
   {
    "duration": 4,
    "start_time": "2023-02-21T05:10:18.114Z"
   },
   {
    "duration": 14,
    "start_time": "2023-02-21T05:10:19.051Z"
   },
   {
    "duration": 10,
    "start_time": "2023-02-21T05:10:19.236Z"
   },
   {
    "duration": 24,
    "start_time": "2023-02-21T05:10:20.107Z"
   },
   {
    "duration": 15,
    "start_time": "2023-02-21T05:10:20.293Z"
   },
   {
    "duration": 5952,
    "start_time": "2023-02-21T13:59:38.721Z"
   },
   {
    "duration": 111,
    "start_time": "2023-02-21T13:59:44.676Z"
   },
   {
    "duration": 15,
    "start_time": "2023-02-21T13:59:44.789Z"
   },
   {
    "duration": 3343,
    "start_time": "2023-02-21T13:59:44.806Z"
   },
   {
    "duration": 7,
    "start_time": "2023-02-21T13:59:48.151Z"
   },
   {
    "duration": 5,
    "start_time": "2023-02-21T13:59:48.160Z"
   },
   {
    "duration": 7,
    "start_time": "2023-02-21T13:59:48.167Z"
   },
   {
    "duration": 46,
    "start_time": "2023-02-21T13:59:48.176Z"
   },
   {
    "duration": 97,
    "start_time": "2023-02-21T13:59:48.225Z"
   },
   {
    "duration": 19,
    "start_time": "2023-02-21T13:59:48.325Z"
   },
   {
    "duration": 80,
    "start_time": "2023-02-21T13:59:48.347Z"
   },
   {
    "duration": 91,
    "start_time": "2023-02-21T13:59:48.430Z"
   },
   {
    "duration": 14,
    "start_time": "2023-02-21T13:59:48.524Z"
   },
   {
    "duration": 14,
    "start_time": "2023-02-21T13:59:48.621Z"
   },
   {
    "duration": 6,
    "start_time": "2023-02-21T13:59:48.721Z"
   },
   {
    "duration": 11,
    "start_time": "2023-02-21T13:59:48.729Z"
   },
   {
    "duration": 100,
    "start_time": "2023-02-21T13:59:48.741Z"
   },
   {
    "duration": 89,
    "start_time": "2023-02-21T13:59:48.844Z"
   },
   {
    "duration": 3,
    "start_time": "2023-02-21T13:59:48.935Z"
   },
   {
    "duration": 80,
    "start_time": "2023-02-21T13:59:48.940Z"
   },
   {
    "duration": 14,
    "start_time": "2023-02-21T13:59:49.024Z"
   },
   {
    "duration": 107,
    "start_time": "2023-02-21T13:59:49.120Z"
   },
   {
    "duration": 104,
    "start_time": "2023-02-21T13:59:49.230Z"
   }
  ],
  "kernelspec": {
   "display_name": "Python 3 (ipykernel)",
   "language": "python",
   "name": "python3"
  },
  "language_info": {
   "codemirror_mode": {
    "name": "ipython",
    "version": 3
   },
   "file_extension": ".py",
   "mimetype": "text/x-python",
   "name": "python",
   "nbconvert_exporter": "python",
   "pygments_lexer": "ipython3",
   "version": "3.9.16"
  },
  "toc": {
   "base_numbering": 1,
   "nav_menu": {},
   "number_sections": true,
   "sideBar": false,
   "skip_h1_title": true,
   "title_cell": "Содержание",
   "title_sidebar": "Contents",
   "toc_cell": true,
   "toc_position": {
    "height": "calc(100% - 180px)",
    "left": "10px",
    "top": "150px",
    "width": "165px"
   },
   "toc_section_display": true,
   "toc_window_display": false
  },
  "vscode": {
   "interpreter": {
    "hash": "e4cce46d6be9934fbd27f9ca0432556941ea5bdf741d4f4d64c6cd7f8dfa8fba"
   }
  }
 },
 "nbformat": 4,
 "nbformat_minor": 2
}
