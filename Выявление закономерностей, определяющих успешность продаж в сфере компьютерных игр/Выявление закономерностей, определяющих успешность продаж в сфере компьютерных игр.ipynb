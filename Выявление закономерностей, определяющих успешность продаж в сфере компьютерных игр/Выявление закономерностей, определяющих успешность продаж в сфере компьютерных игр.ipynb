{
 "cells": [
  {
   "cell_type": "markdown",
   "metadata": {},
   "source": [
    "# Выявление закономерностей, определяющих успешность продаж в сфере компьютерных игр, на основе исторических данных о продажах, взятых из открытых источников."
   ]
  },
  {
   "cell_type": "markdown",
   "metadata": {},
   "source": [
    "**Цель исследования:**\n",
    "выполнить предобработку данных и изучить их, чтобы найти интересные особенности и зависимости в данных о продажах игр, оценках пользователей и экспертов, жанров и платформ. Нужно выявить определяющие успешность игры закономерности. Это позволит сделать ставку на потенциально популярный продукт и спланировать рекламные кампании интернет-магазина \"Стримчик\".\n",
    "\n",
    "**Ход исследования:**\n",
    "Данные получаю из файла /datasets/games.csv. О качестве данных ничего не известно. Поэтому прежде всего понадобится обзор данных.\n",
    "\n",
    "**Исследование пройдёт в шесть этапов:**\n",
    "\n",
    "1) Открою файл с данными и изучу общую информацию.\n",
    "\n",
    "2) Подготовлю данные (приведу в надлежащий вид заголовков столбцов, преобразую данные в нужный тип, выявлю и обработаю пропуски, подсчитаю суммарные продажи во всех регионах).\n",
    "\n",
    "3) Проведу исследовательский анализ данных (сколько игр выпускалось в разные годы, важны ли данные за все периоды, как менялись продажи по платформам, выбор платформ с наибольшими суммарными продажами и построение распределения по годам и т.д. и т.п).\n",
    "\n",
    "4) Составлю портрет пользователя каждого региона (Северная Америка, Европа, Япония), топ-5 самых популярных платформ и жанров, влияние рейтинга ESRB на продажи по регионам.\n",
    "\n",
    "5) Проверю гипотезы:\n",
    "- Средние пользовательские рейтинги платформ Xbox One и PC одинаковые;\n",
    "- Средние пользовательские рейтинги жанров Action и Sports разные\n",
    "\n",
    "6) Общие выводы."
   ]
  },
  {
   "cell_type": "code",
   "execution_count": 1,
   "metadata": {},
   "outputs": [],
   "source": [
    "# Загружаю необходимые в работе библиотеки\n",
    "import pandas as pd\n",
    "import numpy as np\n",
    "import matplotlib.pyplot as plt\n",
    "from scipy import stats as st\n",
    "import seaborn as sns"
   ]
  },
  {
   "cell_type": "markdown",
   "metadata": {},
   "source": [
    "### Открою файл с данными и изучу общую информацию. "
   ]
  },
  {
   "cell_type": "code",
   "execution_count": 2,
   "metadata": {},
   "outputs": [
    {
     "data": {
      "text/html": [
       "<div>\n",
       "<style scoped>\n",
       "    .dataframe tbody tr th:only-of-type {\n",
       "        vertical-align: middle;\n",
       "    }\n",
       "\n",
       "    .dataframe tbody tr th {\n",
       "        vertical-align: top;\n",
       "    }\n",
       "\n",
       "    .dataframe thead th {\n",
       "        text-align: right;\n",
       "    }\n",
       "</style>\n",
       "<table border=\"1\" class=\"dataframe\">\n",
       "  <thead>\n",
       "    <tr style=\"text-align: right;\">\n",
       "      <th></th>\n",
       "      <th>Name</th>\n",
       "      <th>Platform</th>\n",
       "      <th>Year_of_Release</th>\n",
       "      <th>Genre</th>\n",
       "      <th>NA_sales</th>\n",
       "      <th>EU_sales</th>\n",
       "      <th>JP_sales</th>\n",
       "      <th>Other_sales</th>\n",
       "      <th>Critic_Score</th>\n",
       "      <th>User_Score</th>\n",
       "      <th>Rating</th>\n",
       "    </tr>\n",
       "  </thead>\n",
       "  <tbody>\n",
       "    <tr>\n",
       "      <th>0</th>\n",
       "      <td>Wii Sports</td>\n",
       "      <td>Wii</td>\n",
       "      <td>2006.0</td>\n",
       "      <td>Sports</td>\n",
       "      <td>41.36</td>\n",
       "      <td>28.96</td>\n",
       "      <td>3.77</td>\n",
       "      <td>8.45</td>\n",
       "      <td>76.0</td>\n",
       "      <td>8</td>\n",
       "      <td>E</td>\n",
       "    </tr>\n",
       "    <tr>\n",
       "      <th>1</th>\n",
       "      <td>Super Mario Bros.</td>\n",
       "      <td>NES</td>\n",
       "      <td>1985.0</td>\n",
       "      <td>Platform</td>\n",
       "      <td>29.08</td>\n",
       "      <td>3.58</td>\n",
       "      <td>6.81</td>\n",
       "      <td>0.77</td>\n",
       "      <td>NaN</td>\n",
       "      <td>NaN</td>\n",
       "      <td>NaN</td>\n",
       "    </tr>\n",
       "    <tr>\n",
       "      <th>2</th>\n",
       "      <td>Mario Kart Wii</td>\n",
       "      <td>Wii</td>\n",
       "      <td>2008.0</td>\n",
       "      <td>Racing</td>\n",
       "      <td>15.68</td>\n",
       "      <td>12.76</td>\n",
       "      <td>3.79</td>\n",
       "      <td>3.29</td>\n",
       "      <td>82.0</td>\n",
       "      <td>8.3</td>\n",
       "      <td>E</td>\n",
       "    </tr>\n",
       "    <tr>\n",
       "      <th>3</th>\n",
       "      <td>Wii Sports Resort</td>\n",
       "      <td>Wii</td>\n",
       "      <td>2009.0</td>\n",
       "      <td>Sports</td>\n",
       "      <td>15.61</td>\n",
       "      <td>10.93</td>\n",
       "      <td>3.28</td>\n",
       "      <td>2.95</td>\n",
       "      <td>80.0</td>\n",
       "      <td>8</td>\n",
       "      <td>E</td>\n",
       "    </tr>\n",
       "    <tr>\n",
       "      <th>4</th>\n",
       "      <td>Pokemon Red/Pokemon Blue</td>\n",
       "      <td>GB</td>\n",
       "      <td>1996.0</td>\n",
       "      <td>Role-Playing</td>\n",
       "      <td>11.27</td>\n",
       "      <td>8.89</td>\n",
       "      <td>10.22</td>\n",
       "      <td>1.00</td>\n",
       "      <td>NaN</td>\n",
       "      <td>NaN</td>\n",
       "      <td>NaN</td>\n",
       "    </tr>\n",
       "    <tr>\n",
       "      <th>5</th>\n",
       "      <td>Tetris</td>\n",
       "      <td>GB</td>\n",
       "      <td>1989.0</td>\n",
       "      <td>Puzzle</td>\n",
       "      <td>23.20</td>\n",
       "      <td>2.26</td>\n",
       "      <td>4.22</td>\n",
       "      <td>0.58</td>\n",
       "      <td>NaN</td>\n",
       "      <td>NaN</td>\n",
       "      <td>NaN</td>\n",
       "    </tr>\n",
       "    <tr>\n",
       "      <th>6</th>\n",
       "      <td>New Super Mario Bros.</td>\n",
       "      <td>DS</td>\n",
       "      <td>2006.0</td>\n",
       "      <td>Platform</td>\n",
       "      <td>11.28</td>\n",
       "      <td>9.14</td>\n",
       "      <td>6.50</td>\n",
       "      <td>2.88</td>\n",
       "      <td>89.0</td>\n",
       "      <td>8.5</td>\n",
       "      <td>E</td>\n",
       "    </tr>\n",
       "    <tr>\n",
       "      <th>7</th>\n",
       "      <td>Wii Play</td>\n",
       "      <td>Wii</td>\n",
       "      <td>2006.0</td>\n",
       "      <td>Misc</td>\n",
       "      <td>13.96</td>\n",
       "      <td>9.18</td>\n",
       "      <td>2.93</td>\n",
       "      <td>2.84</td>\n",
       "      <td>58.0</td>\n",
       "      <td>6.6</td>\n",
       "      <td>E</td>\n",
       "    </tr>\n",
       "    <tr>\n",
       "      <th>8</th>\n",
       "      <td>New Super Mario Bros. Wii</td>\n",
       "      <td>Wii</td>\n",
       "      <td>2009.0</td>\n",
       "      <td>Platform</td>\n",
       "      <td>14.44</td>\n",
       "      <td>6.94</td>\n",
       "      <td>4.70</td>\n",
       "      <td>2.24</td>\n",
       "      <td>87.0</td>\n",
       "      <td>8.4</td>\n",
       "      <td>E</td>\n",
       "    </tr>\n",
       "    <tr>\n",
       "      <th>9</th>\n",
       "      <td>Duck Hunt</td>\n",
       "      <td>NES</td>\n",
       "      <td>1984.0</td>\n",
       "      <td>Shooter</td>\n",
       "      <td>26.93</td>\n",
       "      <td>0.63</td>\n",
       "      <td>0.28</td>\n",
       "      <td>0.47</td>\n",
       "      <td>NaN</td>\n",
       "      <td>NaN</td>\n",
       "      <td>NaN</td>\n",
       "    </tr>\n",
       "    <tr>\n",
       "      <th>10</th>\n",
       "      <td>Nintendogs</td>\n",
       "      <td>DS</td>\n",
       "      <td>2005.0</td>\n",
       "      <td>Simulation</td>\n",
       "      <td>9.05</td>\n",
       "      <td>10.95</td>\n",
       "      <td>1.93</td>\n",
       "      <td>2.74</td>\n",
       "      <td>NaN</td>\n",
       "      <td>NaN</td>\n",
       "      <td>NaN</td>\n",
       "    </tr>\n",
       "    <tr>\n",
       "      <th>11</th>\n",
       "      <td>Mario Kart DS</td>\n",
       "      <td>DS</td>\n",
       "      <td>2005.0</td>\n",
       "      <td>Racing</td>\n",
       "      <td>9.71</td>\n",
       "      <td>7.47</td>\n",
       "      <td>4.13</td>\n",
       "      <td>1.90</td>\n",
       "      <td>91.0</td>\n",
       "      <td>8.6</td>\n",
       "      <td>E</td>\n",
       "    </tr>\n",
       "    <tr>\n",
       "      <th>12</th>\n",
       "      <td>Pokemon Gold/Pokemon Silver</td>\n",
       "      <td>GB</td>\n",
       "      <td>1999.0</td>\n",
       "      <td>Role-Playing</td>\n",
       "      <td>9.00</td>\n",
       "      <td>6.18</td>\n",
       "      <td>7.20</td>\n",
       "      <td>0.71</td>\n",
       "      <td>NaN</td>\n",
       "      <td>NaN</td>\n",
       "      <td>NaN</td>\n",
       "    </tr>\n",
       "    <tr>\n",
       "      <th>13</th>\n",
       "      <td>Wii Fit</td>\n",
       "      <td>Wii</td>\n",
       "      <td>2007.0</td>\n",
       "      <td>Sports</td>\n",
       "      <td>8.92</td>\n",
       "      <td>8.03</td>\n",
       "      <td>3.60</td>\n",
       "      <td>2.15</td>\n",
       "      <td>80.0</td>\n",
       "      <td>7.7</td>\n",
       "      <td>E</td>\n",
       "    </tr>\n",
       "    <tr>\n",
       "      <th>14</th>\n",
       "      <td>Kinect Adventures!</td>\n",
       "      <td>X360</td>\n",
       "      <td>2010.0</td>\n",
       "      <td>Misc</td>\n",
       "      <td>15.00</td>\n",
       "      <td>4.89</td>\n",
       "      <td>0.24</td>\n",
       "      <td>1.69</td>\n",
       "      <td>61.0</td>\n",
       "      <td>6.3</td>\n",
       "      <td>E</td>\n",
       "    </tr>\n",
       "    <tr>\n",
       "      <th>15</th>\n",
       "      <td>Wii Fit Plus</td>\n",
       "      <td>Wii</td>\n",
       "      <td>2009.0</td>\n",
       "      <td>Sports</td>\n",
       "      <td>9.01</td>\n",
       "      <td>8.49</td>\n",
       "      <td>2.53</td>\n",
       "      <td>1.77</td>\n",
       "      <td>80.0</td>\n",
       "      <td>7.4</td>\n",
       "      <td>E</td>\n",
       "    </tr>\n",
       "    <tr>\n",
       "      <th>16</th>\n",
       "      <td>Grand Theft Auto V</td>\n",
       "      <td>PS3</td>\n",
       "      <td>2013.0</td>\n",
       "      <td>Action</td>\n",
       "      <td>7.02</td>\n",
       "      <td>9.09</td>\n",
       "      <td>0.98</td>\n",
       "      <td>3.96</td>\n",
       "      <td>97.0</td>\n",
       "      <td>8.2</td>\n",
       "      <td>M</td>\n",
       "    </tr>\n",
       "    <tr>\n",
       "      <th>17</th>\n",
       "      <td>Grand Theft Auto: San Andreas</td>\n",
       "      <td>PS2</td>\n",
       "      <td>2004.0</td>\n",
       "      <td>Action</td>\n",
       "      <td>9.43</td>\n",
       "      <td>0.40</td>\n",
       "      <td>0.41</td>\n",
       "      <td>10.57</td>\n",
       "      <td>95.0</td>\n",
       "      <td>9</td>\n",
       "      <td>M</td>\n",
       "    </tr>\n",
       "    <tr>\n",
       "      <th>18</th>\n",
       "      <td>Super Mario World</td>\n",
       "      <td>SNES</td>\n",
       "      <td>1990.0</td>\n",
       "      <td>Platform</td>\n",
       "      <td>12.78</td>\n",
       "      <td>3.75</td>\n",
       "      <td>3.54</td>\n",
       "      <td>0.55</td>\n",
       "      <td>NaN</td>\n",
       "      <td>NaN</td>\n",
       "      <td>NaN</td>\n",
       "    </tr>\n",
       "    <tr>\n",
       "      <th>19</th>\n",
       "      <td>Brain Age: Train Your Brain in Minutes a Day</td>\n",
       "      <td>DS</td>\n",
       "      <td>2005.0</td>\n",
       "      <td>Misc</td>\n",
       "      <td>4.74</td>\n",
       "      <td>9.20</td>\n",
       "      <td>4.16</td>\n",
       "      <td>2.04</td>\n",
       "      <td>77.0</td>\n",
       "      <td>7.9</td>\n",
       "      <td>E</td>\n",
       "    </tr>\n",
       "  </tbody>\n",
       "</table>\n",
       "</div>"
      ],
      "text/plain": [
       "                                            Name Platform  Year_of_Release  \\\n",
       "0                                     Wii Sports      Wii           2006.0   \n",
       "1                              Super Mario Bros.      NES           1985.0   \n",
       "2                                 Mario Kart Wii      Wii           2008.0   \n",
       "3                              Wii Sports Resort      Wii           2009.0   \n",
       "4                       Pokemon Red/Pokemon Blue       GB           1996.0   \n",
       "5                                         Tetris       GB           1989.0   \n",
       "6                          New Super Mario Bros.       DS           2006.0   \n",
       "7                                       Wii Play      Wii           2006.0   \n",
       "8                      New Super Mario Bros. Wii      Wii           2009.0   \n",
       "9                                      Duck Hunt      NES           1984.0   \n",
       "10                                    Nintendogs       DS           2005.0   \n",
       "11                                 Mario Kart DS       DS           2005.0   \n",
       "12                   Pokemon Gold/Pokemon Silver       GB           1999.0   \n",
       "13                                       Wii Fit      Wii           2007.0   \n",
       "14                            Kinect Adventures!     X360           2010.0   \n",
       "15                                  Wii Fit Plus      Wii           2009.0   \n",
       "16                            Grand Theft Auto V      PS3           2013.0   \n",
       "17                 Grand Theft Auto: San Andreas      PS2           2004.0   \n",
       "18                             Super Mario World     SNES           1990.0   \n",
       "19  Brain Age: Train Your Brain in Minutes a Day       DS           2005.0   \n",
       "\n",
       "           Genre  NA_sales  EU_sales  JP_sales  Other_sales  Critic_Score  \\\n",
       "0         Sports     41.36     28.96      3.77         8.45          76.0   \n",
       "1       Platform     29.08      3.58      6.81         0.77           NaN   \n",
       "2         Racing     15.68     12.76      3.79         3.29          82.0   \n",
       "3         Sports     15.61     10.93      3.28         2.95          80.0   \n",
       "4   Role-Playing     11.27      8.89     10.22         1.00           NaN   \n",
       "5         Puzzle     23.20      2.26      4.22         0.58           NaN   \n",
       "6       Platform     11.28      9.14      6.50         2.88          89.0   \n",
       "7           Misc     13.96      9.18      2.93         2.84          58.0   \n",
       "8       Platform     14.44      6.94      4.70         2.24          87.0   \n",
       "9        Shooter     26.93      0.63      0.28         0.47           NaN   \n",
       "10    Simulation      9.05     10.95      1.93         2.74           NaN   \n",
       "11        Racing      9.71      7.47      4.13         1.90          91.0   \n",
       "12  Role-Playing      9.00      6.18      7.20         0.71           NaN   \n",
       "13        Sports      8.92      8.03      3.60         2.15          80.0   \n",
       "14          Misc     15.00      4.89      0.24         1.69          61.0   \n",
       "15        Sports      9.01      8.49      2.53         1.77          80.0   \n",
       "16        Action      7.02      9.09      0.98         3.96          97.0   \n",
       "17        Action      9.43      0.40      0.41        10.57          95.0   \n",
       "18      Platform     12.78      3.75      3.54         0.55           NaN   \n",
       "19          Misc      4.74      9.20      4.16         2.04          77.0   \n",
       "\n",
       "   User_Score Rating  \n",
       "0           8      E  \n",
       "1         NaN    NaN  \n",
       "2         8.3      E  \n",
       "3           8      E  \n",
       "4         NaN    NaN  \n",
       "5         NaN    NaN  \n",
       "6         8.5      E  \n",
       "7         6.6      E  \n",
       "8         8.4      E  \n",
       "9         NaN    NaN  \n",
       "10        NaN    NaN  \n",
       "11        8.6      E  \n",
       "12        NaN    NaN  \n",
       "13        7.7      E  \n",
       "14        6.3      E  \n",
       "15        7.4      E  \n",
       "16        8.2      M  \n",
       "17          9      M  \n",
       "18        NaN    NaN  \n",
       "19        7.9      E  "
      ]
     },
     "execution_count": 2,
     "metadata": {},
     "output_type": "execute_result"
    }
   ],
   "source": [
    "# Открываю файл с данными\n",
    "df = pd.read_csv('/datasets/games.csv')\n",
    "df.head(20)"
   ]
  },
  {
   "cell_type": "code",
   "execution_count": 3,
   "metadata": {},
   "outputs": [
    {
     "name": "stdout",
     "output_type": "stream",
     "text": [
      "<class 'pandas.core.frame.DataFrame'>\n",
      "RangeIndex: 16715 entries, 0 to 16714\n",
      "Data columns (total 11 columns):\n",
      " #   Column           Non-Null Count  Dtype  \n",
      "---  ------           --------------  -----  \n",
      " 0   Name             16713 non-null  object \n",
      " 1   Platform         16715 non-null  object \n",
      " 2   Year_of_Release  16446 non-null  float64\n",
      " 3   Genre            16713 non-null  object \n",
      " 4   NA_sales         16715 non-null  float64\n",
      " 5   EU_sales         16715 non-null  float64\n",
      " 6   JP_sales         16715 non-null  float64\n",
      " 7   Other_sales      16715 non-null  float64\n",
      " 8   Critic_Score     8137 non-null   float64\n",
      " 9   User_Score       10014 non-null  object \n",
      " 10  Rating           9949 non-null   object \n",
      "dtypes: float64(6), object(5)\n",
      "memory usage: 1.4+ MB\n"
     ]
    },
    {
     "data": {
      "image/png": "[encoded data removed]",
      "text/plain": [
       "<Figure size 1080x1440 with 6 Axes>"
      ]
     },
     "metadata": {
      "needs_background": "light"
     },
     "output_type": "display_data"
    }
   ],
   "source": [
    "# Выведу основную информацию о датафрейме\n",
    "df.info()\n",
    "df.hist(figsize=(15,20));"
   ]
  },
  {
   "cell_type": "markdown",
   "metadata": {},
   "source": [
    "16715 записей, 11 столбцов. Количество цифровых столбцов 6 (столбец 'User_Score' необходимо будет также преобразовать в float64).\n",
    "\n",
    "Также требуется преобразование столбца \"Year_of_Release\" в тип Int.\n",
    "\n",
    "Имеем пропуски в столбцах: \"Name\", \"Year_of_Release\", \"Genre\", \"Critic_Score\", \"User_Score\", \"Rating\".\n",
    "\n",
    "По гистограммам числовых столбцов можно сделать предварительные выводы:\n",
    "- Наблюдаемый всплеск производства игр с 2002 по 2012 годы.\n",
    "- Максимальное количество продаж - в Северной Америке (около 4 млн.копий). Далее идёт Европа (3 млн.), затем Япония (1 млн.) и остальные страны (1 млн.)\n",
    "- Преобладающая оценка критиков - от 60 до 85 баллов."
   ]
  },
  {
   "cell_type": "markdown",
   "metadata": {},
   "source": [
    "### Подготовлю данные"
   ]
  },
  {
   "cell_type": "code",
   "execution_count": 4,
   "metadata": {},
   "outputs": [],
   "source": [
    "# Приведу названия столбцов к нижнему регистру\n",
    "df.columns = df.columns.str.lower()"
   ]
  },
  {
   "cell_type": "code",
   "execution_count": 5,
   "metadata": {},
   "outputs": [
    {
     "name": "stdout",
     "output_type": "stream",
     "text": [
      "      name platform  year_of_release genre  na_sales  eu_sales  jp_sales  \\\n",
      "659    NaN      GEN           1993.0   NaN      1.78      0.53      0.00   \n",
      "14244  NaN      GEN           1993.0   NaN      0.00      0.00      0.03   \n",
      "\n",
      "       other_sales  critic_score user_score rating  \n",
      "659           0.08           NaN        NaN    NaN  \n",
      "14244         0.00           NaN        NaN    NaN  \n"
     ]
    }
   ],
   "source": [
    "# Посмотрю, что за строки без названия игры\n",
    "print(df[df['name'].isna()])\n",
    "# В большинстве столбцов имеем NaN, это явный \"мусор\". Удалю эти строки, заодно избавлюсь от пропусков в столбце \"Genre\"\n",
    "df = df.dropna(subset=['name'])"
   ]
  },
  {
   "cell_type": "code",
   "execution_count": 6,
   "metadata": {},
   "outputs": [
    {
     "data": {
      "text/html": [
       "<style  type=\"text/css\" >\n",
       "#T_512be_row0_col0,#T_512be_row1_col0,#T_512be_row3_col0,#T_512be_row4_col0,#T_512be_row5_col0,#T_512be_row6_col0,#T_512be_row7_col0{\n",
       "            background-color:  #3b4cc0;\n",
       "            color:  #f1f1f1;\n",
       "        }#T_512be_row2_col0{\n",
       "            background-color:  #465ecf;\n",
       "            color:  #f1f1f1;\n",
       "        }#T_512be_row8_col0{\n",
       "            background-color:  #b40426;\n",
       "            color:  #f1f1f1;\n",
       "        }#T_512be_row9_col0,#T_512be_row10_col0{\n",
       "            background-color:  #f08b6e;\n",
       "            color:  #000000;\n",
       "        }</style><table id=\"T_512be_\" ><thead>    <tr>        <th class=\"blank level0\" ></th>        <th class=\"col_heading level0 col0\" >0</th>    </tr></thead><tbody>\n",
       "                <tr>\n",
       "                        <th id=\"T_512be_level0_row0\" class=\"row_heading level0 row0\" >name</th>\n",
       "                        <td id=\"T_512be_row0_col0\" class=\"data row0 col0\" >0.000000</td>\n",
       "            </tr>\n",
       "            <tr>\n",
       "                        <th id=\"T_512be_level0_row1\" class=\"row_heading level0 row1\" >platform</th>\n",
       "                        <td id=\"T_512be_row1_col0\" class=\"data row1 col0\" >0.000000</td>\n",
       "            </tr>\n",
       "            <tr>\n",
       "                        <th id=\"T_512be_level0_row2\" class=\"row_heading level0 row2\" >year_of_release</th>\n",
       "                        <td id=\"T_512be_row2_col0\" class=\"data row2 col0\" >2.000000</td>\n",
       "            </tr>\n",
       "            <tr>\n",
       "                        <th id=\"T_512be_level0_row3\" class=\"row_heading level0 row3\" >genre</th>\n",
       "                        <td id=\"T_512be_row3_col0\" class=\"data row3 col0\" >0.000000</td>\n",
       "            </tr>\n",
       "            <tr>\n",
       "                        <th id=\"T_512be_level0_row4\" class=\"row_heading level0 row4\" >na_sales</th>\n",
       "                        <td id=\"T_512be_row4_col0\" class=\"data row4 col0\" >0.000000</td>\n",
       "            </tr>\n",
       "            <tr>\n",
       "                        <th id=\"T_512be_level0_row5\" class=\"row_heading level0 row5\" >eu_sales</th>\n",
       "                        <td id=\"T_512be_row5_col0\" class=\"data row5 col0\" >0.000000</td>\n",
       "            </tr>\n",
       "            <tr>\n",
       "                        <th id=\"T_512be_level0_row6\" class=\"row_heading level0 row6\" >jp_sales</th>\n",
       "                        <td id=\"T_512be_row6_col0\" class=\"data row6 col0\" >0.000000</td>\n",
       "            </tr>\n",
       "            <tr>\n",
       "                        <th id=\"T_512be_level0_row7\" class=\"row_heading level0 row7\" >other_sales</th>\n",
       "                        <td id=\"T_512be_row7_col0\" class=\"data row7 col0\" >0.000000</td>\n",
       "            </tr>\n",
       "            <tr>\n",
       "                        <th id=\"T_512be_level0_row8\" class=\"row_heading level0 row8\" >critic_score</th>\n",
       "                        <td id=\"T_512be_row8_col0\" class=\"data row8 col0\" >51.000000</td>\n",
       "            </tr>\n",
       "            <tr>\n",
       "                        <th id=\"T_512be_level0_row9\" class=\"row_heading level0 row9\" >user_score</th>\n",
       "                        <td id=\"T_512be_row9_col0\" class=\"data row9 col0\" >40.000000</td>\n",
       "            </tr>\n",
       "            <tr>\n",
       "                        <th id=\"T_512be_level0_row10\" class=\"row_heading level0 row10\" >rating</th>\n",
       "                        <td id=\"T_512be_row10_col0\" class=\"data row10 col0\" >40.000000</td>\n",
       "            </tr>\n",
       "    </tbody></table>"
      ],
      "text/plain": [
       "<pandas.io.formats.style.Styler at 0x7f5024ed9fa0>"
      ]
     },
     "execution_count": 6,
     "metadata": {},
     "output_type": "execute_result"
    }
   ],
   "source": [
    "# Проверю колличество пропусков в % \n",
    "pd.DataFrame(round(df.isna().mean()*100,)).style.background_gradient('coolwarm')"
   ]
  },
  {
   "cell_type": "code",
   "execution_count": 7,
   "metadata": {},
   "outputs": [],
   "source": [
    "# Удалю строки с пропусками в годе выпуска, т..к. их всего 2%\n",
    "df = df.dropna(subset=['year_of_release'])"
   ]
  },
  {
   "cell_type": "code",
   "execution_count": 8,
   "metadata": {},
   "outputs": [
    {
     "data": {
      "text/plain": [
       "array(['8', nan, '8.3', '8.5', '6.6', '8.4', '8.6', '7.7', '6.3', '7.4',\n",
       "       '8.2', '9', '7.9', '8.1', '8.7', '7.1', '3.4', '5.3', '4.8', '3.2',\n",
       "       '8.9', '6.4', '7.8', '7.5', '2.6', '7.2', '9.2', '7', '7.3', '4.3',\n",
       "       '7.6', '5.7', '5', '9.1', '6.5', 'tbd', '8.8', '6.9', '9.4', '6.8',\n",
       "       '6.1', '6.7', '5.4', '4', '4.9', '4.5', '9.3', '6.2', '4.2', '6',\n",
       "       '3.7', '4.1', '5.8', '5.6', '5.5', '4.4', '4.6', '5.9', '3.9',\n",
       "       '3.1', '2.9', '5.2', '3.3', '4.7', '5.1', '3.5', '2.5', '1.9', '3',\n",
       "       '2.7', '2.2', '2', '9.5', '2.1', '3.6', '2.8', '1.8', '3.8', '0',\n",
       "       '1.6', '9.6', '2.4', '1.7', '1.1', '0.3', '1.5', '0.7', '1.2',\n",
       "       '2.3', '0.5', '1.3', '0.2', '0.6', '1.4', '0.9', '1', '9.7'],\n",
       "      dtype=object)"
      ]
     },
     "execution_count": 8,
     "metadata": {},
     "output_type": "execute_result"
    }
   ],
   "source": [
    "# Выясню, какие уникальные значения встречаются в \"user_score\"\n",
    "df['user_score'].unique()"
   ]
  },
  {
   "cell_type": "code",
   "execution_count": 9,
   "metadata": {},
   "outputs": [],
   "source": [
    "# Преобразую данные в нужные типы\n",
    "# В столбце 'user_score' имеется аббревиатура 'tbd', что расшифровывается, как \"To Be Determined\" (будет определено).\n",
    "# Заменю на Nan\n",
    "df.loc[df['user_score'] == 'tbd','user_score'] = np.nan\n",
    "data_types_dict = {'year_of_release': int, 'user_score': float}\n",
    "df = df.astype(data_types_dict)"
   ]
  },
  {
   "cell_type": "code",
   "execution_count": 10,
   "metadata": {},
   "outputs": [],
   "source": [
    "# Преобразую и заполню пропуски в столбце rating\n",
    "df.loc[df['rating'] == 'K-A','rating'] = 'E'\n",
    "df['rating'] = df['rating'].fillna('unknown')"
   ]
  },
  {
   "cell_type": "code",
   "execution_count": 11,
   "metadata": {},
   "outputs": [
    {
     "data": {
      "text/html": [
       "<div>\n",
       "<style scoped>\n",
       "    .dataframe tbody tr th:only-of-type {\n",
       "        vertical-align: middle;\n",
       "    }\n",
       "\n",
       "    .dataframe tbody tr th {\n",
       "        vertical-align: top;\n",
       "    }\n",
       "\n",
       "    .dataframe thead th {\n",
       "        text-align: right;\n",
       "    }\n",
       "</style>\n",
       "<table border=\"1\" class=\"dataframe\">\n",
       "  <thead>\n",
       "    <tr style=\"text-align: right;\">\n",
       "      <th></th>\n",
       "      <th>name</th>\n",
       "      <th>platform</th>\n",
       "      <th>year_of_release</th>\n",
       "      <th>genre</th>\n",
       "      <th>na_sales</th>\n",
       "      <th>eu_sales</th>\n",
       "      <th>jp_sales</th>\n",
       "      <th>other_sales</th>\n",
       "      <th>critic_score</th>\n",
       "      <th>user_score</th>\n",
       "      <th>rating</th>\n",
       "      <th>general_sales</th>\n",
       "    </tr>\n",
       "  </thead>\n",
       "  <tbody>\n",
       "    <tr>\n",
       "      <th>0</th>\n",
       "      <td>Wii Sports</td>\n",
       "      <td>Wii</td>\n",
       "      <td>2006</td>\n",
       "      <td>Sports</td>\n",
       "      <td>41.36</td>\n",
       "      <td>28.96</td>\n",
       "      <td>3.77</td>\n",
       "      <td>8.45</td>\n",
       "      <td>76.0</td>\n",
       "      <td>8.0</td>\n",
       "      <td>E</td>\n",
       "      <td>82.54</td>\n",
       "    </tr>\n",
       "    <tr>\n",
       "      <th>1</th>\n",
       "      <td>Super Mario Bros.</td>\n",
       "      <td>NES</td>\n",
       "      <td>1985</td>\n",
       "      <td>Platform</td>\n",
       "      <td>29.08</td>\n",
       "      <td>3.58</td>\n",
       "      <td>6.81</td>\n",
       "      <td>0.77</td>\n",
       "      <td>NaN</td>\n",
       "      <td>NaN</td>\n",
       "      <td>unknown</td>\n",
       "      <td>40.24</td>\n",
       "    </tr>\n",
       "    <tr>\n",
       "      <th>2</th>\n",
       "      <td>Mario Kart Wii</td>\n",
       "      <td>Wii</td>\n",
       "      <td>2008</td>\n",
       "      <td>Racing</td>\n",
       "      <td>15.68</td>\n",
       "      <td>12.76</td>\n",
       "      <td>3.79</td>\n",
       "      <td>3.29</td>\n",
       "      <td>82.0</td>\n",
       "      <td>8.3</td>\n",
       "      <td>E</td>\n",
       "      <td>35.52</td>\n",
       "    </tr>\n",
       "    <tr>\n",
       "      <th>3</th>\n",
       "      <td>Wii Sports Resort</td>\n",
       "      <td>Wii</td>\n",
       "      <td>2009</td>\n",
       "      <td>Sports</td>\n",
       "      <td>15.61</td>\n",
       "      <td>10.93</td>\n",
       "      <td>3.28</td>\n",
       "      <td>2.95</td>\n",
       "      <td>80.0</td>\n",
       "      <td>8.0</td>\n",
       "      <td>E</td>\n",
       "      <td>32.77</td>\n",
       "    </tr>\n",
       "    <tr>\n",
       "      <th>4</th>\n",
       "      <td>Pokemon Red/Pokemon Blue</td>\n",
       "      <td>GB</td>\n",
       "      <td>1996</td>\n",
       "      <td>Role-Playing</td>\n",
       "      <td>11.27</td>\n",
       "      <td>8.89</td>\n",
       "      <td>10.22</td>\n",
       "      <td>1.00</td>\n",
       "      <td>NaN</td>\n",
       "      <td>NaN</td>\n",
       "      <td>unknown</td>\n",
       "      <td>31.38</td>\n",
       "    </tr>\n",
       "  </tbody>\n",
       "</table>\n",
       "</div>"
      ],
      "text/plain": [
       "                       name platform  year_of_release         genre  na_sales  \\\n",
       "0                Wii Sports      Wii             2006        Sports     41.36   \n",
       "1         Super Mario Bros.      NES             1985      Platform     29.08   \n",
       "2            Mario Kart Wii      Wii             2008        Racing     15.68   \n",
       "3         Wii Sports Resort      Wii             2009        Sports     15.61   \n",
       "4  Pokemon Red/Pokemon Blue       GB             1996  Role-Playing     11.27   \n",
       "\n",
       "   eu_sales  jp_sales  other_sales  critic_score  user_score   rating  \\\n",
       "0     28.96      3.77         8.45          76.0         8.0        E   \n",
       "1      3.58      6.81         0.77           NaN         NaN  unknown   \n",
       "2     12.76      3.79         3.29          82.0         8.3        E   \n",
       "3     10.93      3.28         2.95          80.0         8.0        E   \n",
       "4      8.89     10.22         1.00           NaN         NaN  unknown   \n",
       "\n",
       "   general_sales  \n",
       "0          82.54  \n",
       "1          40.24  \n",
       "2          35.52  \n",
       "3          32.77  \n",
       "4          31.38  "
      ]
     },
     "execution_count": 11,
     "metadata": {},
     "output_type": "execute_result"
    }
   ],
   "source": [
    "# Посчитаю суммарные продажи во всех регионах и запишу их в отдельный столбец\n",
    "df['general_sales'] = df['na_sales'] + df['eu_sales'] + df['jp_sales'] + df['other_sales']\n",
    "df.head()"
   ]
  },
  {
   "cell_type": "code",
   "execution_count": 12,
   "metadata": {},
   "outputs": [
    {
     "data": {
      "text/html": [
       "<div>\n",
       "<style scoped>\n",
       "    .dataframe tbody tr th:only-of-type {\n",
       "        vertical-align: middle;\n",
       "    }\n",
       "\n",
       "    .dataframe tbody tr th {\n",
       "        vertical-align: top;\n",
       "    }\n",
       "\n",
       "    .dataframe thead th {\n",
       "        text-align: right;\n",
       "    }\n",
       "</style>\n",
       "<table border=\"1\" class=\"dataframe\">\n",
       "  <thead>\n",
       "    <tr style=\"text-align: right;\">\n",
       "      <th></th>\n",
       "      <th>name</th>\n",
       "      <th>platform</th>\n",
       "      <th>year_of_release</th>\n",
       "      <th>genre</th>\n",
       "      <th>na_sales</th>\n",
       "      <th>eu_sales</th>\n",
       "      <th>jp_sales</th>\n",
       "      <th>other_sales</th>\n",
       "      <th>critic_score</th>\n",
       "      <th>user_score</th>\n",
       "      <th>rating</th>\n",
       "      <th>general_sales</th>\n",
       "    </tr>\n",
       "  </thead>\n",
       "  <tbody>\n",
       "    <tr>\n",
       "      <th>16676</th>\n",
       "      <td>G1 Jockey 4 2008</td>\n",
       "      <td>PS3</td>\n",
       "      <td>2008</td>\n",
       "      <td>Sports</td>\n",
       "      <td>0.0</td>\n",
       "      <td>0.0</td>\n",
       "      <td>0.0</td>\n",
       "      <td>0.0</td>\n",
       "      <td>NaN</td>\n",
       "      <td>NaN</td>\n",
       "      <td>unknown</td>\n",
       "      <td>0.0</td>\n",
       "    </tr>\n",
       "    <tr>\n",
       "      <th>16709</th>\n",
       "      <td>SCORE International Baja 1000: The Official Game</td>\n",
       "      <td>PS2</td>\n",
       "      <td>2008</td>\n",
       "      <td>Racing</td>\n",
       "      <td>0.0</td>\n",
       "      <td>0.0</td>\n",
       "      <td>0.0</td>\n",
       "      <td>0.0</td>\n",
       "      <td>NaN</td>\n",
       "      <td>NaN</td>\n",
       "      <td>unknown</td>\n",
       "      <td>0.0</td>\n",
       "    </tr>\n",
       "  </tbody>\n",
       "</table>\n",
       "</div>"
      ],
      "text/plain": [
       "                                                   name platform  \\\n",
       "16676                                  G1 Jockey 4 2008      PS3   \n",
       "16709  SCORE International Baja 1000: The Official Game      PS2   \n",
       "\n",
       "       year_of_release   genre  na_sales  eu_sales  jp_sales  other_sales  \\\n",
       "16676             2008  Sports       0.0       0.0       0.0          0.0   \n",
       "16709             2008  Racing       0.0       0.0       0.0          0.0   \n",
       "\n",
       "       critic_score  user_score   rating  general_sales  \n",
       "16676           NaN         NaN  unknown            0.0  \n",
       "16709           NaN         NaN  unknown            0.0  "
      ]
     },
     "execution_count": 12,
     "metadata": {},
     "output_type": "execute_result"
    }
   ],
   "source": [
    "# Проверю, есть ли стрки с нулевым количеством суммарных продаж во всех регионах \n",
    "df[df['general_sales'] == 0]"
   ]
  },
  {
   "cell_type": "markdown",
   "metadata": {},
   "source": [
    "Всего 2 строки имеют значения в столбцах \"na_sales\", \"eu_sales\", \"jp_sales\" и \"other_sales\", равные нулю. Так как в данных столбцах значения о продажах указаны в миллионах копий, возможно данный факт случился из-за округления (малое количество (значительно меньше миллиона) - имеем ноль продаж). Но так как и в остальных столбцах крайне мало полезной информации, скорее всего это \"мусор\". Удаляю эти строки: "
   ]
  },
  {
   "cell_type": "code",
   "execution_count": 13,
   "metadata": {},
   "outputs": [],
   "source": [
    "df = df[df['general_sales'] != 0]"
   ]
  },
  {
   "cell_type": "code",
   "execution_count": 14,
   "metadata": {},
   "outputs": [
    {
     "name": "stdout",
     "output_type": "stream",
     "text": [
      "<class 'pandas.core.frame.DataFrame'>\n",
      "Int64Index: 16442 entries, 0 to 16714\n",
      "Data columns (total 12 columns):\n",
      " #   Column           Non-Null Count  Dtype  \n",
      "---  ------           --------------  -----  \n",
      " 0   name             16442 non-null  object \n",
      " 1   platform         16442 non-null  object \n",
      " 2   year_of_release  16442 non-null  int64  \n",
      " 3   genre            16442 non-null  object \n",
      " 4   na_sales         16442 non-null  float64\n",
      " 5   eu_sales         16442 non-null  float64\n",
      " 6   jp_sales         16442 non-null  float64\n",
      " 7   other_sales      16442 non-null  float64\n",
      " 8   critic_score     7983 non-null   float64\n",
      " 9   user_score       7463 non-null   float64\n",
      " 10  rating           16442 non-null  object \n",
      " 11  general_sales    16442 non-null  float64\n",
      "dtypes: float64(7), int64(1), object(4)\n",
      "memory usage: 1.6+ MB\n"
     ]
    }
   ],
   "source": [
    "df.info()"
   ]
  },
  {
   "cell_type": "markdown",
   "metadata": {},
   "source": [
    "**Итоги**\n",
    "1) Привёл все названия столбцов к нижнему регистру\n",
    "\n",
    "2) В столбце названия игры имелось 2 пропуска. При изучении этих строк, стало ясно, что в большинстве столбцов этих строчек имеем NaN, это явный \"мусор\". В этих же строках единственные пропуски столбца \"Genre\". Удалил эти строки.\n",
    "\n",
    "3) В столбце 'user_score' имелась аббревиатура 'tbd', что расшифровывается, как \"To Be Determined\" (будет определено). Заменил на Nan (отсутствие оценки пользователя).\n",
    "\n",
    "4) В столбце \"year_of_release\" имеем 2% пропусков. При анализе стало ясно, что часть из этих игр - год выпуска имеют в своём названии. По остальным пропускам в годе выпуска игры есть предположение, что игра выпущена до 1980 года и их год выпуска не попал в наши исторические данные. Данную гипотезу подтверждает ещё и то, что по этим играм нет никаких данных о продажах (стоят нули). Удалил строки с данными пропусками, т.к. их мало (2%).\n",
    "\n",
    "5) В столбце \"general_sales\" имел 2 пропуска. Удалил их.\n",
    "\n",
    "6) Пропуски в столбце \"critic_score\" составляют 51% и объясняется тем, что критики дают свою оценку только половине игр на рынке, что объяснимо. Оставил эти пропуски.\n",
    "\n",
    "7) Подобное объяснение и по пропускам в столбце \"rating\" - ассоциация, определяющая возрастной рейтинг игр, не в состоянии отслеживать все игры на рынке. Рейтинги К-А (старое обозначение) и Е (новое обозначение) - одно и то же. Заменил \"К-А\" на \"Е\", а все имеющиеся пропуски заполнил \"unknown\".\n",
    "\n",
    "8) Наибольшее количество пропусков в колонке \"user_score\" - 40%. Менее половины пользователей оставляют отзывы. Оставил эти пропуски."
   ]
  },
  {
   "cell_type": "markdown",
   "metadata": {},
   "source": [
    "### Исследовательский анализ данных"
   ]
  },
  {
   "cell_type": "code",
   "execution_count": 15,
   "metadata": {
    "scrolled": true
   },
   "outputs": [
    {
     "data": {
      "image/png": "[encoded data removed]",
      "text/plain": [
       "<Figure size 1224x288 with 1 Axes>"
      ]
     },
     "metadata": {
      "needs_background": "light"
     },
     "output_type": "display_data"
    }
   ],
   "source": [
    "# Проанализирую количество выпускающихся игр по годам\n",
    "df.groupby('year_of_release')['name'].count().plot(kind = 'bar', figsize = (17,4),\n",
    "                                                   title = \"Количество выпускающихся игр по годам\");"
   ]
  },
  {
   "cell_type": "markdown",
   "metadata": {},
   "source": [
    "Из диаграммы видно, что до 1994 года включительно игровой рынок находился в зачаточном состоянии, этими данными можно пренебречь:"
   ]
  },
  {
   "cell_type": "code",
   "execution_count": 16,
   "metadata": {},
   "outputs": [],
   "source": [
    "df = df.query('year_of_release > 1994')"
   ]
  },
  {
   "cell_type": "code",
   "execution_count": 17,
   "metadata": {},
   "outputs": [
    {
     "data": {
      "image/png": "[encoded data removed]",
      "text/plain": [
       "<Figure size 1224x288 with 1 Axes>"
      ]
     },
     "metadata": {
      "needs_background": "light"
     },
     "output_type": "display_data"
    }
   ],
   "source": [
    "# Построю диаграмму распределения продаж по платформам\n",
    "df.groupby('platform')['general_sales'].sum().plot(kind = 'bar', figsize = (17,4), title = \"Количество продаж по платформам\");"
   ]
  },
  {
   "cell_type": "markdown",
   "metadata": {},
   "source": [
    "Самые продаваемые платформы: DS, PS, PS2, PS3, Wii, X360"
   ]
  },
  {
   "cell_type": "markdown",
   "metadata": {},
   "source": [
    "**Построю распределение по годам для найденных популярных платформ**"
   ]
  },
  {
   "cell_type": "code",
   "execution_count": 18,
   "metadata": {},
   "outputs": [
    {
     "data": {
      "image/png": "[encoded data removed]",
      "text/plain": [
       "<Figure size 1224x288 with 1 Axes>"
      ]
     },
     "metadata": {
      "needs_background": "light"
     },
     "output_type": "display_data"
    },
    {
     "data": {
      "image/png": "[encoded data removed]",
      "text/plain": [
       "<Figure size 1224x288 with 1 Axes>"
      ]
     },
     "metadata": {
      "needs_background": "light"
     },
     "output_type": "display_data"
    },
    {
     "data": {
      "image/png": "[encoded data removed]",
      "text/plain": [
       "<Figure size 1224x288 with 1 Axes>"
      ]
     },
     "metadata": {
      "needs_background": "light"
     },
     "output_type": "display_data"
    },
    {
     "data": {
      "image/png": "[encoded data removed]",
      "text/plain": [
       "<Figure size 1224x288 with 1 Axes>"
      ]
     },
     "metadata": {
      "needs_background": "light"
     },
     "output_type": "display_data"
    },
    {
     "data": {
      "image/png": "[encoded data removed]",
      "text/plain": [
       "<Figure size 1224x288 with 1 Axes>"
      ]
     },
     "metadata": {
      "needs_background": "light"
     },
     "output_type": "display_data"
    }
   ],
   "source": [
    "list = ['PS', 'DS', 'X360', 'PS3', 'Wii']\n",
    "for i in list:\n",
    "    df[df['platform'] == i].groupby('year_of_release')['general_sales'].sum().plot(\n",
    "    kind = 'bar', figsize = (17,4), title = f\"Продажи игр на платформе {i} по годам\")\n",
    "    plt.show()"
   ]
  },
  {
   "cell_type": "code",
   "execution_count": 25,
   "metadata": {},
   "outputs": [
    {
     "name": "stdout",
     "output_type": "stream",
     "text": [
      "          year_of_release  lifetime\n",
      "platform                           \n",
      "3DO                  1995         0\n",
      "TG16                 1995         0\n",
      "GB                   1995         6\n",
      "SNES                 1995         4\n",
      "SAT                  1995         4\n",
      "NG                   1995         1\n",
      "PC                   1995        21\n",
      "PS                   1995         8\n",
      "N64                  1996         6\n",
      "PCFX                 1996         0\n",
      "DC                   1998        10\n",
      "WS                   1999         2\n",
      "PS2                  2000        11\n",
      "GBA                  2000         7\n",
      "XB                   2000         8\n",
      "GC                   2001         6\n",
      "PSP                  2004        11\n",
      "DS                   2004         9\n",
      "X360                 2005        11\n",
      "PS3                  2006        10\n",
      "Wii                  2006        10\n",
      "PSV                  2011         5\n",
      "3DS                  2011         5\n",
      "WiiU                 2012         4\n",
      "PS4                  2013         3\n",
      "XOne                 2013         3\n"
     ]
    }
   ],
   "source": [
    "# Создам таблицу с \"годом релиза платформы\" и \"сколько лет платформа продавалась\"\n",
    "platforms_lifetime = df.groupby('platform').agg({'year_of_release': ['min', 'max']})\n",
    "platforms_lifetime.columns = ['year_of_release', 'lifetime']\n",
    "platforms_lifetime['lifetime'] = platforms_lifetime['lifetime'] - platforms_lifetime['year_of_release']\n",
    "print(platforms_lifetime.sort_values(by='year_of_release'))"
   ]
  },
  {
   "cell_type": "markdown",
   "metadata": {},
   "source": [
    "Проанализировав диаграммы, а также полученную таблицу с \"годом релиза платформы\" и \"сколько лет всего платформа продавалась\", делаю выводы:\n",
    "- Средний срок \"жизни\" самых продаваемых платформ - 9 лет\n",
    "- Бум создания платформ пришёл на 1995 год (8шт.). Далее практически ежегодно выпускалась 1-2 платформы в год (в 2000году - 3шт.), до 2006 года. Далее образовалась пятилетняя пауза, и с 2011 года тенденция выпуска новых платформ возобновилась.\n",
    "- Есть платформы-долгожители (именно по факту использования): PC (персональный компьютер), время жизни - весь рассматриваемый период (21 год), и это понятно, 11 лет (PS2, PSP, X360), 10 лет (DC, PS3, Wii)\n",
    "\n",
    "Но, если проанализировать диаграмму по количеству выпускающихся игр по годам, понятно, что для построения прогноза на 2017 год \"актуальными данными\" можно считать данные с 2012 по 2015 годы (2016 год у нас не полный), т.к. игровой рынок в этот период стабилизировался.\n",
    "\n",
    "Также учитывая средний срок \"жизни\" платформ, рассматриваю только с релизом после 2009 года включительно, а это платформы 3DS, PSV, WiiU, PS4, XOne.\n",
    "Изучу теперь именно эти данные, т.к. картина в них могла принципиально измениться:"
   ]
  },
  {
   "cell_type": "code",
   "execution_count": 26,
   "metadata": {},
   "outputs": [
    {
     "data": {
      "image/png": "[encoded data removed]",
      "text/plain": [
       "<Figure size 1224x288 with 1 Axes>"
      ]
     },
     "metadata": {
      "needs_background": "light"
     },
     "output_type": "display_data"
    }
   ],
   "source": [
    "# Построю диаграмму распределения продаж по платформам с 2012 по 2016 годы\n",
    "df_actual = df[(df['year_of_release'] > 2011)]\n",
    "df_actual.groupby('platform')['general_sales'].sum().plot(kind = 'bar', figsize = (17,4),\n",
    "                                                          title = \"Количество продаж по платформам с 2012 по 2016 годы\");"
   ]
  },
  {
   "cell_type": "markdown",
   "metadata": {},
   "source": [
    "Действитеьно, лидеры оказались другими (Х360 и PS3 во внимание не беру, т.к. их продажи в 2015 году упали практически до минимума). Строю диаграммы продаж для выбранных 5 платформ:"
   ]
  },
  {
   "cell_type": "code",
   "execution_count": 27,
   "metadata": {},
   "outputs": [
    {
     "data": {
      "text/plain": [
       "array([2013, 2015, 2012, 2014, 2016])"
      ]
     },
     "execution_count": 27,
     "metadata": {},
     "output_type": "execute_result"
    }
   ],
   "source": [
    "df_actual['year_of_release'].unique()"
   ]
  },
  {
   "cell_type": "code",
   "execution_count": 28,
   "metadata": {},
   "outputs": [
    {
     "data": {
      "image/png": "[encoded data removed]",
      "text/plain": [
       "<Figure size 1224x288 with 1 Axes>"
      ]
     },
     "metadata": {
      "needs_background": "light"
     },
     "output_type": "display_data"
    }
   ],
   "source": [
    "list_new = ['3DS', 'PSV', 'WiiU', 'PS4', 'XOne']\n",
    "for i in list_new:\n",
    "    df_actual[df_actual['platform'] == i].groupby('year_of_release')['general_sales'].sum().plot(figsize = (17,4))\n",
    "plt.title(\"Продажи платформ по годам\")\n",
    "plt.legend(list_new)\n",
    "plt.show()"
   ]
  },
  {
   "cell_type": "markdown",
   "metadata": {},
   "source": [
    "- Платформа \"3DS\" начала стабильно падать с 2013 года, перспективной её считать нельзя.\n",
    "- Платформа \"WiiU\" имела пик в 2014 году, далее началось снижение. Перспективной считать нельзя.\n",
    "- Платформа \"PS4\" показывала пик в 2015 году, считаем её перспективной.\n",
    "- Платформа \"XOne\" также показывала пик в 2015 году, её также нельзя обойти без внимания.\n",
    "- Платформа \"PSV\" имела максимум продаж в 2012 году, а далее показатели ухудшались. Забываю о ней."
   ]
  },
  {
   "cell_type": "code",
   "execution_count": 34,
   "metadata": {},
   "outputs": [
    {
     "data": {
      "text/plain": [
       "<AxesSubplot:xlabel='year_of_release'>"
      ]
     },
     "execution_count": 34,
     "metadata": {},
     "output_type": "execute_result"
    },
    {
     "data": {
      "image/png": "[encoded data removed]",
      "text/plain": [
       "<Figure size 432x288 with 1 Axes>"
      ]
     },
     "metadata": {
      "needs_background": "light"
     },
     "output_type": "display_data"
    }
   ],
   "source": [
    "df_actual.pivot_table(index='year_of_release',columns='platform',values='general_sales',aggfunc='sum').plot()"
   ]
  },
  {
   "cell_type": "code",
   "execution_count": 35,
   "metadata": {},
   "outputs": [],
   "source": [
    "# Построим Ящик с усами по глобальным продажам игр на платформе PS4\n",
    "#plt.ylim(0,2.7)\n",
    "#df_actual[df_actual['platform'] == 'PS4'].boxplot(column = 'general_sales')\n",
    "#plt.title(\"Ящик с усами по глобальным продажам игр на платформе PS4\")\n",
    "#plt.show()"
   ]
  },
  {
   "cell_type": "code",
   "execution_count": 36,
   "metadata": {},
   "outputs": [],
   "source": [
    "# Построим Ящик с усами по глобальным продажам игр на платформе XOne\n",
    "#plt.ylim(0,2.7)\n",
    "#df_actual[df_actual['platform'] == 'XOne'].boxplot(column = 'general_sales')\n",
    "#plt.title(\"Ящик с усами по глобальным продажам игр на платформе XOne\")\n",
    "#plt.show()"
   ]
  },
  {
   "cell_type": "markdown",
   "metadata": {},
   "source": [
    "Графики показывают нам следующий результат: медиана у обоих - на значении около 300тысяч копий, ящик (набор данных между 1 и 3 квартилем): от 200 тысяч до 1,2 млн. у обоих платформ. Верхний ус платформы XOne располагается на 2,4 млн. копий, а для платформы PS4 - на 2,5 млн. копий (платформа перспективнее)"
   ]
  },
  {
   "cell_type": "code",
   "execution_count": 38,
   "metadata": {},
   "outputs": [
    {
     "data": {
      "image/png": "[encoded data removed]",
      "text/plain": [
       "<Figure size 1440x720 with 1 Axes>"
      ]
     },
     "metadata": {
      "needs_background": "light"
     },
     "output_type": "display_data"
    }
   ],
   "source": [
    "f, ax = plt.subplots(figsize = (20,10)) # задали размер графика\n",
    "fig = sns.boxplot(x = 'platform', y = 'general_sales', data = df_actual)\n",
    "plt.axis(ymin = 0, ymax = 2); # задали лимит по оси y"
   ]
  },
  {
   "cell_type": "markdown",
   "metadata": {},
   "source": [
    "<div class=\"alert alert-info\">\n",
    "    \n",
    "Платформа Х360 на данном рисунке показывает самые лучшие показатели, хотя она и довольно старая, и даёт ежегодное снижение продаж. Следующая по перспективности - PS4. На третьем месте XOne и Wii (имеют практически одинаковые параметры)\n",
    "</div>"
   ]
  },
  {
   "cell_type": "markdown",
   "metadata": {},
   "source": [
    "**Изучу - существует ли зависимость отзывов пользователей и критиков на продажи внутри одной из популярных платформ**"
   ]
  },
  {
   "cell_type": "code",
   "execution_count": 39,
   "metadata": {},
   "outputs": [
    {
     "data": {
      "image/png": "[encoded data removed]",
      "text/plain": [
       "<Figure size 1440x432 with 1 Axes>"
      ]
     },
     "metadata": {
      "needs_background": "light"
     },
     "output_type": "display_data"
    }
   ],
   "source": [
    "# Строю диаграмму рассеяния \"Влияние отзывов пользователей на продажи у платформы 'PS4'\"\n",
    "df_actual[df_actual['platform'] == 'PS4'].plot(x = 'user_score', y = 'general_sales', kind = 'scatter', figsize = (20,6),\n",
    "                                               title = \"Влияние отзывов пользователей на продажи у платформы 'PS4'\");"
   ]
  },
  {
   "cell_type": "code",
   "execution_count": 40,
   "metadata": {},
   "outputs": [
    {
     "data": {
      "text/plain": [
       "-0.031957110204556376"
      ]
     },
     "execution_count": 40,
     "metadata": {},
     "output_type": "execute_result"
    }
   ],
   "source": [
    "# Посчитаю корреляцию \"отзывы пользователей-продажи\" у платформы 'PS4'\n",
    "df_actual[df_actual['platform'] == 'PS4']['general_sales'].corr(df['user_score'])"
   ]
  },
  {
   "cell_type": "code",
   "execution_count": 41,
   "metadata": {},
   "outputs": [
    {
     "data": {
      "image/png": "[encoded data removed]",
      "text/plain": [
       "<Figure size 1440x432 with 1 Axes>"
      ]
     },
     "metadata": {
      "needs_background": "light"
     },
     "output_type": "display_data"
    }
   ],
   "source": [
    "# Строю диаграмму рассеяния \"Влияние отзывов критиков на продажи у платформы 'PS4'\"\n",
    "df_actual[df_actual['platform'] == 'PS4'].plot(x = 'critic_score', y = 'general_sales', kind = 'scatter', figsize = (20,6),\n",
    "                                               title = \"Влияние отзывов критиков на продажи у платформы 'PS4'\");"
   ]
  },
  {
   "cell_type": "code",
   "execution_count": 42,
   "metadata": {},
   "outputs": [
    {
     "data": {
      "text/plain": [
       "0.406567902061781"
      ]
     },
     "execution_count": 42,
     "metadata": {},
     "output_type": "execute_result"
    }
   ],
   "source": [
    "# Посчитаю корреляцию \"отзывы критиков-продажи\" у платформы 'PS4'\n",
    "df_actual[df_actual['platform'] == 'PS4']['general_sales'].corr(df['critic_score'])"
   ]
  },
  {
   "cell_type": "markdown",
   "metadata": {},
   "source": [
    "**Выводы:**\n",
    "- связь продаж с отзывами пользователей слабая, при чём наблюдается обратная зависимость (с ростом количества пользователей - продажи падают). Это может быть связано с тем, что пользователи в основном пишут отзыв только в том случае, когда они недовольны игрой.\n",
    "- влияние отзывов критиков на продажи довольно сильное и прямое (чем больше отзывов - тем выше продажи)"
   ]
  },
  {
   "cell_type": "markdown",
   "metadata": {},
   "source": [
    "*Проверю эти выводы на платформе XOne:*"
   ]
  },
  {
   "cell_type": "code",
   "execution_count": 43,
   "metadata": {},
   "outputs": [
    {
     "data": {
      "image/png": "[encoded data removed]",
      "text/plain": [
       "<Figure size 1440x432 with 1 Axes>"
      ]
     },
     "metadata": {
      "needs_background": "light"
     },
     "output_type": "display_data"
    }
   ],
   "source": [
    "# Строю диаграмму рассеяния \"Влияние отзывов пользователей на продажи\"\n",
    "df_actual[df_actual['platform'] == 'XOne'].plot(x = 'user_score', y = 'general_sales', kind = 'scatter', figsize = (20,6),\n",
    "                                                title = \"Влияние отзывов пользователей на продажи у платформы 'XOne'\");"
   ]
  },
  {
   "cell_type": "code",
   "execution_count": 44,
   "metadata": {},
   "outputs": [
    {
     "data": {
      "text/plain": [
       "-0.06892505328279412"
      ]
     },
     "execution_count": 44,
     "metadata": {},
     "output_type": "execute_result"
    }
   ],
   "source": [
    "# Посчитаю корреляцию \"отзывы пользователей-продажи\"\n",
    "df_actual[df_actual['platform'] == 'XOne']['general_sales'].corr(df['user_score'])"
   ]
  },
  {
   "cell_type": "code",
   "execution_count": 45,
   "metadata": {},
   "outputs": [
    {
     "data": {
      "image/png": "[encoded data removed]",
      "text/plain": [
       "<Figure size 1440x432 with 1 Axes>"
      ]
     },
     "metadata": {
      "needs_background": "light"
     },
     "output_type": "display_data"
    }
   ],
   "source": [
    "# Строю диаграмму рассеяния\"Влияние отзывов критиков на продажи\"\n",
    "df_actual[df_actual['platform'] == 'XOne'].plot(x = 'critic_score', y = 'general_sales', kind = 'scatter', figsize = (20,6),\n",
    "                                                title = \"Влияние отзывов критиков на продажи у платформы 'XOne'\");"
   ]
  },
  {
   "cell_type": "code",
   "execution_count": 46,
   "metadata": {},
   "outputs": [
    {
     "data": {
      "text/plain": [
       "0.41699832800840175"
      ]
     },
     "execution_count": 46,
     "metadata": {},
     "output_type": "execute_result"
    }
   ],
   "source": [
    "# Посчитаю корреляцию \"отзывы критиков-продажи\"\n",
    "df_actual[df_actual['platform'] == 'XOne']['general_sales'].corr(df['critic_score'])"
   ]
  },
  {
   "cell_type": "markdown",
   "metadata": {},
   "source": [
    "Результаты идентичны, т.е. выводы верны."
   ]
  },
  {
   "cell_type": "markdown",
   "metadata": {},
   "source": [
    "**Платформа 3DS**"
   ]
  },
  {
   "cell_type": "code",
   "execution_count": 47,
   "metadata": {},
   "outputs": [
    {
     "data": {
      "image/png": "[encoded data removed]",
      "text/plain": [
       "<Figure size 1440x432 with 1 Axes>"
      ]
     },
     "metadata": {
      "needs_background": "light"
     },
     "output_type": "display_data"
    }
   ],
   "source": [
    "# Строю диаграмму рассеяния \"Влияние отзывов пользователей на продажи\"\n",
    "df_actual[df_actual['platform'] == '3DS'].plot(x = 'user_score', y = 'general_sales', kind = 'scatter', figsize = (20,6),\n",
    "                                                title = \"Влияние отзывов пользователей на продажи у платформы '3DS'\");"
   ]
  },
  {
   "cell_type": "code",
   "execution_count": 48,
   "metadata": {},
   "outputs": [
    {
     "data": {
      "text/plain": [
       "0.19758263411038596"
      ]
     },
     "execution_count": 48,
     "metadata": {},
     "output_type": "execute_result"
    }
   ],
   "source": [
    "# Посчитаю корреляцию \"отзывы пользователей-продажи\"\n",
    "df_actual[df_actual['platform'] == '3DS']['general_sales'].corr(df['user_score'])"
   ]
  },
  {
   "cell_type": "code",
   "execution_count": 49,
   "metadata": {},
   "outputs": [
    {
     "data": {
      "image/png": "[encoded data removed]",
      "text/plain": [
       "<Figure size 1440x432 with 1 Axes>"
      ]
     },
     "metadata": {
      "needs_background": "light"
     },
     "output_type": "display_data"
    }
   ],
   "source": [
    "# Строю диаграмму рассеяния\"Влияние отзывов критиков на продажи\"\n",
    "df_actual[df_actual['platform'] == '3DS'].plot(x = 'critic_score', y = 'general_sales', kind = 'scatter', figsize = (20,6),\n",
    "                                                title = \"Влияние отзывов критиков на продажи у платформы '3DS'\");"
   ]
  },
  {
   "cell_type": "code",
   "execution_count": 50,
   "metadata": {},
   "outputs": [
    {
     "data": {
      "text/plain": [
       "0.32080286953607845"
      ]
     },
     "execution_count": 50,
     "metadata": {},
     "output_type": "execute_result"
    }
   ],
   "source": [
    "# Посчитаю корреляцию \"отзывы критиков-продажи\"\n",
    "df_actual[df_actual['platform'] == '3DS']['general_sales'].corr(df['critic_score'])"
   ]
  },
  {
   "cell_type": "markdown",
   "metadata": {},
   "source": [
    "**Платформа PC**"
   ]
  },
  {
   "cell_type": "code",
   "execution_count": 51,
   "metadata": {},
   "outputs": [
    {
     "data": {
      "image/png": "[encoded data removed]",
      "text/plain": [
       "<Figure size 1440x432 with 1 Axes>"
      ]
     },
     "metadata": {
      "needs_background": "light"
     },
     "output_type": "display_data"
    }
   ],
   "source": [
    "# Строю диаграмму рассеяния \"Влияние отзывов пользователей на продажи\"\n",
    "df_actual[df_actual['platform'] == 'PC'].plot(x = 'user_score', y = 'general_sales', kind = 'scatter', figsize = (20,6),\n",
    "                                                title = \"Влияние отзывов пользователей на продажи у платформы 'PC'\");"
   ]
  },
  {
   "cell_type": "code",
   "execution_count": 52,
   "metadata": {},
   "outputs": [
    {
     "data": {
      "text/plain": [
       "-0.12186747630735577"
      ]
     },
     "execution_count": 52,
     "metadata": {},
     "output_type": "execute_result"
    }
   ],
   "source": [
    "# Посчитаю корреляцию \"отзывы пользователей-продажи\"\n",
    "df_actual[df_actual['platform'] == 'PC']['general_sales'].corr(df['user_score'])"
   ]
  },
  {
   "cell_type": "code",
   "execution_count": 53,
   "metadata": {},
   "outputs": [
    {
     "data": {
      "image/png": "[encoded data removed]",
      "text/plain": [
       "<Figure size 1440x432 with 1 Axes>"
      ]
     },
     "metadata": {
      "needs_background": "light"
     },
     "output_type": "display_data"
    }
   ],
   "source": [
    "# Строю диаграмму рассеяния\"Влияние отзывов критиков на продажи\"\n",
    "df_actual[df_actual['platform'] == 'PC'].plot(x = 'critic_score', y = 'general_sales', kind = 'scatter', figsize = (20,6),\n",
    "                                                title = \"Влияние отзывов критиков на продажи у платформы 'PC'\");"
   ]
  },
  {
   "cell_type": "code",
   "execution_count": 54,
   "metadata": {},
   "outputs": [
    {
     "data": {
      "text/plain": [
       "0.23724324311567918"
      ]
     },
     "execution_count": 54,
     "metadata": {},
     "output_type": "execute_result"
    }
   ],
   "source": [
    "# Посчитаю корреляцию \"отзывы критиков-продажи\"\n",
    "df_actual[df_actual['platform'] == 'PC']['general_sales'].corr(df['critic_score'])"
   ]
  },
  {
   "cell_type": "markdown",
   "metadata": {},
   "source": [
    "<div class=\"alert alert-info\">\n",
    "    \n",
    "Для этих платформ получил совершенно иные результаты.\n",
    "    У \"3DS\" корреляция \"отзывы пользователей-продажи\" составила +0,2, а корреляция \"отзывы критиков-продажи\" составила +0,32. Оба вида отзывов оказывают вполне весомое влияние на продажи. Предположительно, это связано с тем, что у некоторых американских и европейских игроков с первой прошивкой Nintendo 3DS (1.0.0-0) возникала проблема, которую позже назвали «чёрный экран смерти», и покупатели с недоверием относятся к платформе (читают отзывы).\n",
    "    У \"РС\" (платформа персональных компьютеров) корреляция \"отзывы пользователей-продажи\" составила -0,12 (чуть более отрицательная, чем \"XOne\" и \"PS4\", но всё-равно значение мало, чтобы принимать во внимание), а корреляция \"отзывы критиков-продажи\" составила 0,24 (в два раза меньше, чем \"XOne\" и \"PS4\"), что также объяснимо, т.к. потребители рынка игр на ПК более прислушиваются к отзывам своих друзей, чем к сторонним отзывам.\n",
    "</div>"
   ]
  },
  {
   "cell_type": "markdown",
   "metadata": {},
   "source": [
    "**Посмотрю общее распределение игр по жанрам**"
   ]
  },
  {
   "cell_type": "code",
   "execution_count": 55,
   "metadata": {},
   "outputs": [
    {
     "data": {
      "text/html": [
       "<div>\n",
       "<style scoped>\n",
       "    .dataframe tbody tr th:only-of-type {\n",
       "        vertical-align: middle;\n",
       "    }\n",
       "\n",
       "    .dataframe tbody tr th {\n",
       "        vertical-align: top;\n",
       "    }\n",
       "\n",
       "    .dataframe thead tr th {\n",
       "        text-align: left;\n",
       "    }\n",
       "\n",
       "    .dataframe thead tr:last-of-type th {\n",
       "        text-align: right;\n",
       "    }\n",
       "</style>\n",
       "<table border=\"1\" class=\"dataframe\">\n",
       "  <thead>\n",
       "    <tr>\n",
       "      <th></th>\n",
       "      <th colspan=\"2\" halign=\"left\">general_sales</th>\n",
       "    </tr>\n",
       "    <tr>\n",
       "      <th></th>\n",
       "      <th>count</th>\n",
       "      <th>sum</th>\n",
       "    </tr>\n",
       "    <tr>\n",
       "      <th>genre</th>\n",
       "      <th></th>\n",
       "      <th></th>\n",
       "    </tr>\n",
       "  </thead>\n",
       "  <tbody>\n",
       "    <tr>\n",
       "      <th>Action</th>\n",
       "      <td>1031</td>\n",
       "      <td>441.12</td>\n",
       "    </tr>\n",
       "    <tr>\n",
       "      <th>Adventure</th>\n",
       "      <td>302</td>\n",
       "      <td>29.43</td>\n",
       "    </tr>\n",
       "    <tr>\n",
       "      <th>Fighting</th>\n",
       "      <td>109</td>\n",
       "      <td>44.49</td>\n",
       "    </tr>\n",
       "    <tr>\n",
       "      <th>Misc</th>\n",
       "      <td>192</td>\n",
       "      <td>85.04</td>\n",
       "    </tr>\n",
       "    <tr>\n",
       "      <th>Platform</th>\n",
       "      <td>85</td>\n",
       "      <td>61.00</td>\n",
       "    </tr>\n",
       "    <tr>\n",
       "      <th>Puzzle</th>\n",
       "      <td>28</td>\n",
       "      <td>4.89</td>\n",
       "    </tr>\n",
       "    <tr>\n",
       "      <th>Racing</th>\n",
       "      <td>115</td>\n",
       "      <td>53.50</td>\n",
       "    </tr>\n",
       "    <tr>\n",
       "      <th>Role-Playing</th>\n",
       "      <td>370</td>\n",
       "      <td>192.80</td>\n",
       "    </tr>\n",
       "    <tr>\n",
       "      <th>Shooter</th>\n",
       "      <td>235</td>\n",
       "      <td>304.73</td>\n",
       "    </tr>\n",
       "    <tr>\n",
       "      <th>Simulation</th>\n",
       "      <td>80</td>\n",
       "      <td>35.12</td>\n",
       "    </tr>\n",
       "    <tr>\n",
       "      <th>Sports</th>\n",
       "      <td>268</td>\n",
       "      <td>181.07</td>\n",
       "    </tr>\n",
       "    <tr>\n",
       "      <th>Strategy</th>\n",
       "      <td>71</td>\n",
       "      <td>13.34</td>\n",
       "    </tr>\n",
       "  </tbody>\n",
       "</table>\n",
       "</div>"
      ],
      "text/plain": [
       "             general_sales        \n",
       "                     count     sum\n",
       "genre                             \n",
       "Action                1031  441.12\n",
       "Adventure              302   29.43\n",
       "Fighting               109   44.49\n",
       "Misc                   192   85.04\n",
       "Platform                85   61.00\n",
       "Puzzle                  28    4.89\n",
       "Racing                 115   53.50\n",
       "Role-Playing           370  192.80\n",
       "Shooter                235  304.73\n",
       "Simulation              80   35.12\n",
       "Sports                 268  181.07\n",
       "Strategy                71   13.34"
      ]
     },
     "execution_count": 55,
     "metadata": {},
     "output_type": "execute_result"
    }
   ],
   "source": [
    "df_actual.groupby('genre').agg({'general_sales': ['count', 'sum']})"
   ]
  },
  {
   "cell_type": "code",
   "execution_count": 56,
   "metadata": {},
   "outputs": [
    {
     "name": "stdout",
     "output_type": "stream",
     "text": [
      "genre\n",
      "Adventure       0.030\n",
      "Puzzle          0.045\n",
      "Strategy        0.080\n",
      "Action          0.120\n",
      "Misc            0.120\n",
      "Simulation      0.120\n",
      "Fighting        0.130\n",
      "Racing          0.140\n",
      "Role-Playing    0.140\n",
      "Platform        0.210\n",
      "Sports          0.240\n",
      "Shooter         0.440\n",
      "Name: general_sales, dtype: float64\n"
     ]
    }
   ],
   "source": [
    "print(df_actual.groupby('genre')['general_sales'].median().sort_values())"
   ]
  },
  {
   "cell_type": "markdown",
   "metadata": {},
   "source": [
    "<div class=\"alert alert-info\">\n",
    "\n",
    "- Максимальное количество игр, и максимальное количество проданных копий - у жанра \"Экшн\" (1031 игра, 441 млн. проданных копий)\n",
    "- Жанр с низкими продажами: \"Пазлы\" (28 игр, 4,9 млн. проданных копий)\n",
    "- Но с медианными продажами ситуация иная. На первом месте - Жанр \"Шутер\" (стрелялка, 440тыс. проданных копий), на последнем - \"Адвенчура\" (приключенческая игра, 30тыс. проданных копий).\n",
    "</div>"
   ]
  },
  {
   "cell_type": "markdown",
   "metadata": {},
   "source": [
    "### Составлю портрет пользователя каждого региона"
   ]
  },
  {
   "cell_type": "code",
   "execution_count": 57,
   "metadata": {},
   "outputs": [
    {
     "data": {
      "image/png": "[encoded data removed]",
      "text/plain": [
       "<Figure size 1224x288 with 1 Axes>"
      ]
     },
     "metadata": {
      "needs_background": "light"
     },
     "output_type": "display_data"
    }
   ],
   "source": [
    "df_actual.groupby('platform')['na_sales'].sum().sort_values(ascending=False).plot(kind = 'bar', figsize = (17,4),\n",
    "                                                     title = \"Количество продаж по платформам в Северной Америке\");"
   ]
  },
  {
   "cell_type": "code",
   "execution_count": 58,
   "metadata": {},
   "outputs": [
    {
     "data": {
      "image/png": "[encoded data removed]",
      "text/plain": [
       "<Figure size 1224x288 with 1 Axes>"
      ]
     },
     "metadata": {
      "needs_background": "light"
     },
     "output_type": "display_data"
    }
   ],
   "source": [
    "df_actual.groupby('platform')['eu_sales'].sum().sort_values(ascending=False).plot(kind = 'bar', figsize = (17,4),\n",
    "                                                     title = \"Количество продаж по платформам в Европе\");"
   ]
  },
  {
   "cell_type": "code",
   "execution_count": 59,
   "metadata": {},
   "outputs": [
    {
     "data": {
      "image/png": "[encoded data removed]",
      "text/plain": [
       "<Figure size 1224x288 with 1 Axes>"
      ]
     },
     "metadata": {
      "needs_background": "light"
     },
     "output_type": "display_data"
    }
   ],
   "source": [
    "df_actual.groupby('platform')['jp_sales'].sum().sort_values(ascending=False).plot(kind = 'bar', figsize = (17,4),\n",
    "                                                     title = \"Количество продаж по платформам в Японии\");"
   ]
  },
  {
   "cell_type": "code",
   "execution_count": 60,
   "metadata": {
    "scrolled": true
   },
   "outputs": [
    {
     "data": {
      "image/png": "[encoded data removed]",
      "text/plain": [
       "<Figure size 1224x288 with 1 Axes>"
      ]
     },
     "metadata": {
      "needs_background": "light"
     },
     "output_type": "display_data"
    }
   ],
   "source": [
    "df_actual.groupby('genre')['na_sales'].sum().sort_values(ascending=False).plot(kind = 'bar', figsize = (17,4),\n",
    "                                                  title = \"Количество продаж по жанрам в Северной Америке\");"
   ]
  },
  {
   "cell_type": "code",
   "execution_count": 61,
   "metadata": {},
   "outputs": [
    {
     "data": {
      "image/png": "[encoded data removed]",
      "text/plain": [
       "<Figure size 1224x288 with 1 Axes>"
      ]
     },
     "metadata": {
      "needs_background": "light"
     },
     "output_type": "display_data"
    }
   ],
   "source": [
    "df_actual.groupby('genre')['eu_sales'].sum().sort_values(ascending=False).plot(kind = 'bar', figsize = (17,4),\n",
    "                                                  title = \"Количество продаж по жанрам в Европе\");"
   ]
  },
  {
   "cell_type": "code",
   "execution_count": 62,
   "metadata": {},
   "outputs": [
    {
     "data": {
      "image/png": "[encoded data removed]",
      "text/plain": [
       "<Figure size 1224x288 with 1 Axes>"
      ]
     },
     "metadata": {
      "needs_background": "light"
     },
     "output_type": "display_data"
    }
   ],
   "source": [
    "df_actual.groupby('genre')['jp_sales'].sum().sort_values(ascending=False).plot(kind = 'bar', figsize = (17,4),\n",
    "                                                  title = \"Количество продаж по жанрам в Японии\");"
   ]
  },
  {
   "cell_type": "code",
   "execution_count": 63,
   "metadata": {},
   "outputs": [
    {
     "data": {
      "text/plain": [
       "array(['M', 'unknown', 'E', 'E10+', 'T'], dtype=object)"
      ]
     },
     "execution_count": 63,
     "metadata": {},
     "output_type": "execute_result"
    }
   ],
   "source": [
    "# Выясню, какие уникальные значения встречаются в \"rating\"\n",
    "df_actual['rating'].unique()"
   ]
  },
  {
   "cell_type": "code",
   "execution_count": 64,
   "metadata": {},
   "outputs": [
    {
     "data": {
      "image/png": "[encoded data removed]",
      "text/plain": [
       "<Figure size 720x360 with 1 Axes>"
      ]
     },
     "metadata": {
      "needs_background": "light"
     },
     "output_type": "display_data"
    }
   ],
   "source": [
    "# Строю диаграмму рассеяния\"Влияние рейтинга ESRB на продажи\"\n",
    "df_actual.pivot_table(index = 'rating', values = 'na_sales',\n",
    "                      aggfunc = 'median').reset_index().plot(x = 'rating',\n",
    "                                                             y = 'na_sales', kind=\"scatter\", figsize = (10,5), grid = True,\n",
    "                                                             title = \"Влияние рейтинга ESRB на продажи в Северной Америке\");"
   ]
  },
  {
   "cell_type": "code",
   "execution_count": 65,
   "metadata": {},
   "outputs": [
    {
     "data": {
      "image/png": "[encoded data removed]",
      "text/plain": [
       "<Figure size 720x360 with 1 Axes>"
      ]
     },
     "metadata": {
      "needs_background": "light"
     },
     "output_type": "display_data"
    }
   ],
   "source": [
    "# Строю диаграмму рассеяния\"Влияние рейтинга ESRB на продажи\"\n",
    "df_actual.pivot_table(index = 'rating', values = 'eu_sales',\n",
    "                      aggfunc = 'median').reset_index().plot(x = 'rating',\n",
    "                                                             y = 'eu_sales', kind=\"scatter\", figsize = (10,5), grid = True,\n",
    "                                                             title = \"Влияние рейтинга ESRB на продажи в Европе\");"
   ]
  },
  {
   "cell_type": "code",
   "execution_count": 66,
   "metadata": {},
   "outputs": [
    {
     "data": {
      "image/png": "[encoded data removed]",
      "text/plain": [
       "<Figure size 720x360 with 1 Axes>"
      ]
     },
     "metadata": {
      "needs_background": "light"
     },
     "output_type": "display_data"
    }
   ],
   "source": [
    "# Строю диаграмму рассеяния\"Влияние рейтинга ESRB на продажи\"\n",
    "df_actual.pivot_table(index = 'rating', values = 'jp_sales',\n",
    "                      aggfunc = 'median').reset_index().plot(x = 'rating',\n",
    "                                                             y = 'jp_sales', kind=\"scatter\", figsize = (10,5), grid = True,\n",
    "                                                             title = \"Влияние рейтинга ESRB на продажи в Японии\");"
   ]
  },
  {
   "cell_type": "markdown",
   "metadata": {},
   "source": [
    "<div class=\"alert alert-info\">\n",
    "\n",
    "**ВЫВОДЫ**\n",
    "\n",
    "*ТОП-5 популярных платформ.* Ситуация по регионам принципиально отличается:\n",
    "- Северная Америка: X360(140млн.), PS4(105млн.), PS3(100млн.), XOne(90млн.), 3DS(55млн.)\n",
    "- Европа:           PS4(140млн.), PS3(105млн.), X360(70млн.), XOne(57млн.), 3DS(40млн.)\n",
    "- Япония:           3DS(90млн.), PS3(35млн.), PSV(20млн.), PS4(15млн.), WiiU(10млн.)\n",
    "\n",
    "*ТОП-5 популярных жанров:*\n",
    "- Северная Америка: на первом месте \"Экшн\"(175млн.). Далее идут \"Боевики\"(140млн.), \"Спортивные\"(80млн.), \"Ролевые\" (60млн.) и \"Мьюзиклы\"(30млн.).\n",
    "- Европа: практически полностью повторяет градацию популярности Северной Америки: \"Экшн\"(160млн.), \"Боевики\"(100млн.), \"Спортивные\"(65млн.), \"Ролевые\" (50млн.) и \"Погони\"(30млн.) (рейтинг чуть выше Мьюзиклов, хотя в Северной Америке у них низкая популярность).\n",
    "- Япония: восток - дело тонкое... \"Ролевые\"(65млн.), \"Экшн\"(52млн.). Остальные - значительно ниже: Мьюзикл(12млн.), Симуляции(11млн.), Экшн-бои(10млн.).\n",
    "\n",
    "*Рейтинг ESRB.*\n",
    "На продажи однозначно влияет. При чём в Америке и Европе зависимость одинаковая (самый влияемый рейтинг \"для всех\", а самые \"невлияемый\" - с возрастным цензом \"13+\", не считая \"unknown\"), а в Японии - прямо-противоположная (рейтинг \"unknown\" - на вершине, далее идёт\"13+\", а остальные рейтинги не оказывают никакого влияния.). Это связано в основном, с Японским законодательством - с 2006 года в Японии ужесточили требования к возрастным рейтингам в сфере компьютерных игр и к контролю за этим в сфере продаж. После чего продать (и соответственно купить) игру с рейтингом, отличным от \"для всех\", стало довольно сложно.\n",
    "</div>"
   ]
  },
  {
   "cell_type": "markdown",
   "metadata": {},
   "source": [
    "### Проверю гипотезы"
   ]
  },
  {
   "cell_type": "markdown",
   "metadata": {},
   "source": [
    "**Гипотеза 1 \"Средние пользовательские рейтинги платформ Xbox One, PC одинаковые\"**"
   ]
  },
  {
   "cell_type": "markdown",
   "metadata": {},
   "source": [
    "Н_0: Средние значения user_score для платформы XOne = Среднему значению user_score для платформы PC.\n",
    "\n",
    "Н_а: Средние значения user_score для платформы XOne != Среднему значению user_score для платформы PC.\n",
    "\n",
    "alpha = 0,05"
   ]
  },
  {
   "cell_type": "markdown",
   "metadata": {},
   "source": [
    "Генеральные совокупности независимы, выборочные средние нормально распределены, гипотеза двухсторонняя. Поэтому использую scipy.stats.ttest_ind"
   ]
  },
  {
   "cell_type": "code",
   "execution_count": 67,
   "metadata": {},
   "outputs": [
    {
     "name": "stdout",
     "output_type": "stream",
     "text": [
      "p-значение: 0.5535080500643738\n",
      "Не получилось отвергнуть нулевую гипотезу\n"
     ]
    }
   ],
   "source": [
    "alpha = 0.05 # критический уровень статистической значимости\n",
    "# проверю гипотезу о равенстве средних двух независимых совокупностей\n",
    "results = st.ttest_ind(\n",
    "    df_actual[df_actual['platform'] == 'XOne']['user_score'],\n",
    "    df_actual[df_actual['platform'] == 'PC']['user_score'], nan_policy='omit')\n",
    "print('p-значение:', results.pvalue) # вывожу на экран получившеся p-значение)\n",
    "\n",
    "if results.pvalue < alpha: # сравниваю получившееся p-значение с заданным уровнем статистической значимости:\n",
    "    print(\"Отвергаем нулевую гипотезу\")\n",
    "else:\n",
    "    print(\"Не получилось отвергнуть нулевую гипотезу\")"
   ]
  },
  {
   "cell_type": "markdown",
   "metadata": {},
   "source": [
    "**Гипотеза подтвердилась!**"
   ]
  },
  {
   "cell_type": "markdown",
   "metadata": {},
   "source": [
    "**Гипотеза 2 \"Средние пользовательские рейтинги жанров Action и Sports разные\"**"
   ]
  },
  {
   "cell_type": "markdown",
   "metadata": {},
   "source": [
    "Н_0: Средние значения user_score для жанра Action = Среднему значению user_score для жанра Sports.\n",
    "\n",
    "Н_а: Средние значения user_score для жанра Action != Среднему значению user_score для жанра Sports.\n",
    "\n",
    "alpha = 0,05"
   ]
  },
  {
   "cell_type": "markdown",
   "metadata": {},
   "source": [
    "Генеральные совокупности независимы, выборочные средние нормально распределены, гипотеза двухсторонняя. Поэтому также использую scipy.stats.ttest_ind. Но в данном случае если гипотеза подтвердится, когда отвергнем Н_0."
   ]
  },
  {
   "cell_type": "code",
   "execution_count": 68,
   "metadata": {},
   "outputs": [
    {
     "name": "stdout",
     "output_type": "stream",
     "text": [
      "p-значение: 3.7163089460934874e-26\n",
      "Отвергаем нулевую гипотезу\n"
     ]
    }
   ],
   "source": [
    "results = st.ttest_ind(\n",
    "    df_actual[df_actual['genre'] == 'Action']['user_score'],\n",
    "    df_actual[df_actual['genre'] == 'Sports']['user_score'], nan_policy='omit')\n",
    "print('p-значение:', results.pvalue)\n",
    "\n",
    "if results.pvalue < alpha:\n",
    "    print(\"Отвергаем нулевую гипотезу\")\n",
    "else:\n",
    "    print(\"Не получилось отвергнуть нулевую гипотезу\")"
   ]
  },
  {
   "cell_type": "markdown",
   "metadata": {},
   "source": [
    "**Гипотеза подтвердилась!**"
   ]
  },
  {
   "cell_type": "markdown",
   "metadata": {},
   "source": [
    "### Общий вывод"
   ]
  },
  {
   "cell_type": "markdown",
   "metadata": {},
   "source": [
    "В процессе проведённого исследования по выявлению закономерностей, определяющих успешность продаж в сфере компьютерных игр, на основе исторических данных о продажах, взятых из открытых источников за период с 1980 по частично 2016 год:\n",
    "1) Открыл файл с данными и изучил общую информацию. В результате определился с типами и видом имеющихся данных, что из них необходимо преобразовать, получил информацию об имеющихся пропусках. По построенным гистограммам числовых столбцов были сделаны предварительные выводы:\n",
    "- Наблюдаемый всплеск производства игр с 2002 по 2012 годы. Далее наблюдалась стабилизация рынка.\n",
    "- Максимальное количество продаж - в Северной Америке (около 4 млн.копий). Далее идёт Европа (3 млн.), затем Япония (1 млн.) и остальные страны (1 млн.)\n",
    "- Преобладающая оценка критиков - от 60 до 85 баллов.\n",
    "\n",
    "2) Произвёл подготовку данных:\n",
    "- Привёл все названия столбцов к нижнему регистру\n",
    "- В столбце названия игры имелось 2 пропуска. При изучении этих строк, стало ясно, что в большинстве столбцов этих строчек имеем NaN, это явный \"мусор\". В этих же строках единственные пропуски столбца \"Genre\". Удалил эти строки.\n",
    "- В столбце 'user_score' имелась аббревиатура 'tbd', что расшифровывается, как \"To Be Determined\" (будет определено). Заменил на Nan (отсутствие оценки пользователя).\n",
    "- В столбце \"year_of_release\" имели 2% пропусков. При анализе стало ясно, что часть из этих игр - год выпуска имеют в своём названии. По остальным пропускам в годе выпуска игры есть предположение, что игра выпущена до 1980 года и их год выпуска не попал в наши исторические данные. Данную гипотезу подтверждает ещё и то, что по этим играм нет никаких данных о продажах (стоят нули). Удалил строки с данными пропусками, т.к. их мало (2%).\n",
    "- В столбце \"general_sales\" имели 2 пропуска. Удалил их.\n",
    "- Пропуски в столбце \"critic_score\" составляют 51% и объясняется тем, что критики дают свою оценку только половине игр на рынке, что объяснимо. Оставил эти пропуски.\n",
    "- Подобное объяснение и по пропускам в столбце \"rating\" - ассоциация, определяющая возрастной рейтинг игр, не в состоянии отслеживать все игры на рынке. Рейтинги К-А (старое обозначение) и Е (новое обозначение) - одно и то же. Заменил \"К-А\" на \"Е\", а все имеющиеся пропуски заполнил \"unknown\".\n",
    "- Наибольшее количество пропусков в колонке \"user_score\" - 40%. Менее половины пользователей оставляют отзывы, при чём чаще в случаях своего недовольства игрой (преобладают отрицательные отзывы, чем положительные) Оставил эти пропуски.\n",
    "- Подсчитал суммарные продажи во всех регионах (требовался для дальнейшего анализа).\n",
    "\n",
    "3) Провёл исследовательский анализ данных:\n",
    "- Анализ количества выпускающихся игр по годам. Стало понятно, что до 1994 года включительно игровой рынок находился в зачаточном состоянии, этими данными можно пренебречь, удалил.\n",
    "- Построил диаграмму распределения продаж по платформам.\n",
    "- Построил распределение по годам для найденных популярных платформ\n",
    "- Создал таблицу с \"годом релиза платформы\" и \"сколько лет платформа продавалась\"\n",
    "- **Сделал выводы**:\n",
    "\n",
    "- Средний срок \"жизни\" самых продаваемых платформ - 9 лет\n",
    "- Бум создания платформ пришёл на 1995 год (8шт.). Далее практически ежегодно выпускалась 1-2 платформы в год (в 2000году - 3шт.), до 2006 года. Далее образовалась пятилетняя пауза, и с 2011 года тенденция выпуска новых платформ возобновилась.\n",
    "- Есть платформы-долгожители (именно по факту использования): PC (персональный компьютер), время жизни - весь рассматриваемый период (21 год), и это понятно, 11 лет (PS2, PSP, X360), 10 лет (DC, PS3, Wii)\n",
    "- Проанализировав диаграмму по количеству выпускающихся игр по годам, понятно, что для построения прогноза на 2017 год \"актуальными данными\" можно считать данные с 2012 по 2016 годы (2016 год у нас не полный), т.к. игровой рынок в этот период стабилизировался. Далее - работал исключительно с этими данными.\n",
    "\n",
    "Также учитывая средний срок \"жизни\" платформ, рассматривали только с релизом после 2009 года включительно, а это платформы 3DS, PSV, WiiU, PS4, XOne.\n",
    "Снова изучил именно эти данные и выявил 2 перспективные платформы: PS4 и Xbox One, при чём потенциал PS4 выше.\n",
    "Но после построения поксплотов для всех платформ, выяснилось, что платформа Х360 показывает самые лучшие показатели, хотя она и довольно старая, и даёт ежегодное снижение продаж. Следующая по перспективности - PS4. На третьем месте XOne и Wii (имеют практически одинаковые параметры)\n",
    "\n",
    "- Изучил - существует ли зависимость отзывов пользователей и критиков на продажи (построил диаграммы рассеяния, посчитал коэффициент корреляции). Связь продаж с отзывами пользователей слабая, при чём наблюдается обратная зависимость (с ростом количества пользователей - продажи падают). Это может быть связано с тем, что пользователи в основном пишут отзыв только в том случае, когда они недовольны игрой. Влияние отзывов критиков на продажи довольно сильное и прямое (чем больше отзывов - тем выше продажи). Проверил на платформе XOne наши выводы подтвердились.\n",
    "- Но при проведении такого же анализа на платформах 3DS и PC получил совершенно иные результаты. У \"3DS\" корреляция \"отзывы пользователей-продажи\" составила +0,2, а корреляция \"отзывы критиков-продажи\" составила +0,32. Оба вида отзывов оказывают вполне весомое влияние на продажи. Предположительно, это связано с тем, что у некоторых американских и европейских игроков с первой прошивкой Nintendo 3DS (1.0.0-0) возникала проблема, которую позже назвали «чёрный экран смерти», и покупатели с недоверием относятся к платформе (читают отзывы). У \"РС\" (платформа персональных компьютеров) корреляция \"отзывы пользователей-продажи\" составила -0,12 (чуть более отрицательная, чем \"XOne\" и \"PS4\", но всё-равно значение мало, чтобы принимать во внимание), а корреляция \"отзывы критиков-продажи\" составила 0,24 (в два раза меньше, чем \"XOne\" и \"PS4\"), что также объяснимо, т.к. потребители рынка игр на ПК более прислушиваются к отзывам своих друзей, чем к сторонним отзывам.\n",
    "- Посмотрел общее распределение игр по жанрам. Максимальное количество игр, и максимальное количество проданных копий - у жанра \"Экшн\" (1031 игра, 441 млн. проданных копий). Жанр с низкими продажами: \"Пазлы\" (28 игр, 4,9 млн. проданных копий). Но с медианными продажами ситуация иная. На первом месте - Жанр \"Шутер\" (стрелялка, 440тыс. проданных копий), на последнем - \"Адвенчура\" (приключенческая игра, 30тыс. проданных копий).\n",
    "\n",
    "4) Составил портрет пользователя каждого региона (Северная Америка, Европа, Япония), топ-5 самых популярных платформ и жанров, влияние рейтинга ESRB на продажи по регионам. Получил следующее:\n",
    "- ТОП-5 популярных платформ. Ситуация по регионам принципиально отличается:\n",
    "\n",
    "Северная Америка: X360(140млн.), PS4(105млн.), PS3(100млн.), XOne(90млн.), 3DS(55млн.)\n",
    "\n",
    "Европа: PS4(140млн.), PS3(105млн.), X360(70млн.), XOne(57млн.), 3DS(40млн.)\n",
    "\n",
    "Япония: 3DS(90млн.), PS3(35млн.), PSV(20млн.), PS4(15млн.), WiiU(10млн.)\n",
    "- ТОП-5 популярных жанров:\n",
    "\n",
    "Северная Америка: на первом месте \"Экшн\"(175млн.). Далее идут \"Боевики\"(140млн.), \"Спортивные\"(80млн.), \"Ролевые\" (60млн.) и \"Мьюзиклы\"(30млн.).\n",
    "\n",
    "Европа: практически полностью повторяет градацию популярности Северной Америки: \"Экшн\"(160млн.), \"Боевики\"(100млн.), \"Спортивные\"(65млн.), \"Ролевые\" (50млн.) и \"Погони\"(30млн.) (рейтинг чуть выше Мьюзиклов, хотя в Северной Америке у них низкая популярность).\n",
    "\n",
    "Япония: восток - дело тонкое... \"Ролевые\"(65млн.), \"Экшн\"(52млн.). Остальные - значительно ниже: Мьюзикл(12млн.), Симуляции(11млн.), Экшн-бои(10млн.).\n",
    "- Рейтинг ESRB. На продажи однозначно влияет. При чём в Америке и Европе зависимость одинаковая (самый влияемый рейтинг \"для всех\", а самые \"невлияемый\" - с возрастным цензом \"13+\", не считая \"unknown\"), а в Японии - прямо-противоположная (рейтинг \"unknown\" - на вершине, далее идёт \"13+\", а остальные рейтинги не оказывают никакого влияния). Это связано в основном, с Японским законодательством - с 2006 года в Японии ужесточили требования к возрастным рейтингам в сфере компьютерных игр и к контролю за этим в сфере продаж. После чего продать (и соответственно купить) игру с рейтингом, отличным от \"для всех\", стало довольно сложно.\n",
    "\n",
    "\n",
    "5) Проверка гипотез:\n",
    "- Гипотеза 1. \"Средние пользовательские рейтинги платформ Xbox One и PC одинаковые\". Гипотеза подтвердилась;\n",
    "- Гипотеза 2. \"Средние пользовательские рейтинги жанров Action и Sports разные\". Гипотеза также подтвердилась."
   ]
  },
  {
   "cell_type": "code",
   "execution_count": null,
   "metadata": {},
   "outputs": [],
   "source": []
  }
 ],
 "metadata": {
  "ExecuteTimeLog": [
   {
    "duration": 414,
    "start_time": "2022-11-25T04:04:04.093Z"
   },
   {
    "duration": 510,
    "start_time": "2022-11-25T04:07:23.181Z"
   },
   {
    "duration": 15,
    "start_time": "2022-11-25T04:15:37.224Z"
   },
   {
    "duration": 2,
    "start_time": "2022-11-25T04:56:12.787Z"
   },
   {
    "duration": 1169,
    "start_time": "2022-11-25T04:58:28.889Z"
   },
   {
    "duration": 3,
    "start_time": "2022-11-25T09:00:16.070Z"
   },
   {
    "duration": 16,
    "start_time": "2022-11-25T09:00:37.902Z"
   },
   {
    "duration": 87,
    "start_time": "2022-11-25T09:10:19.965Z"
   },
   {
    "duration": 90,
    "start_time": "2022-11-25T09:14:35.633Z"
   },
   {
    "duration": 374,
    "start_time": "2022-11-25T09:16:33.293Z"
   },
   {
    "duration": 81,
    "start_time": "2022-11-25T09:16:33.669Z"
   },
   {
    "duration": 1034,
    "start_time": "2022-11-25T09:16:33.752Z"
   },
   {
    "duration": 3,
    "start_time": "2022-11-25T09:16:34.788Z"
   },
   {
    "duration": 48,
    "start_time": "2022-11-25T09:16:34.792Z"
   },
   {
    "duration": 370,
    "start_time": "2022-11-25T09:19:17.073Z"
   },
   {
    "duration": 81,
    "start_time": "2022-11-25T09:19:17.445Z"
   },
   {
    "duration": 1026,
    "start_time": "2022-11-25T09:19:17.528Z"
   },
   {
    "duration": 4,
    "start_time": "2022-11-25T09:19:18.556Z"
   },
   {
    "duration": 29,
    "start_time": "2022-11-25T09:19:18.561Z"
   },
   {
    "duration": 78,
    "start_time": "2022-11-25T09:24:00.242Z"
   },
   {
    "duration": 12,
    "start_time": "2022-11-25T09:24:33.720Z"
   },
   {
    "duration": 10,
    "start_time": "2022-11-25T10:06:49.882Z"
   },
   {
    "duration": 391,
    "start_time": "2022-11-25T10:19:38.159Z"
   },
   {
    "duration": 77,
    "start_time": "2022-11-25T10:19:38.552Z"
   },
   {
    "duration": 1059,
    "start_time": "2022-11-25T10:19:38.631Z"
   },
   {
    "duration": 3,
    "start_time": "2022-11-25T10:19:39.692Z"
   },
   {
    "duration": 23,
    "start_time": "2022-11-25T10:19:39.696Z"
   },
   {
    "duration": 367,
    "start_time": "2022-11-25T10:20:40.877Z"
   },
   {
    "duration": 74,
    "start_time": "2022-11-25T10:20:41.246Z"
   },
   {
    "duration": 952,
    "start_time": "2022-11-25T10:20:41.321Z"
   },
   {
    "duration": 3,
    "start_time": "2022-11-25T10:20:42.275Z"
   },
   {
    "duration": 24,
    "start_time": "2022-11-25T10:20:42.280Z"
   },
   {
    "duration": 417,
    "start_time": "2022-11-25T10:21:42.812Z"
   },
   {
    "duration": 78,
    "start_time": "2022-11-25T10:21:43.231Z"
   },
   {
    "duration": 995,
    "start_time": "2022-11-25T10:21:43.310Z"
   },
   {
    "duration": 3,
    "start_time": "2022-11-25T10:21:44.307Z"
   },
   {
    "duration": 31,
    "start_time": "2022-11-25T10:21:44.312Z"
   },
   {
    "duration": 432,
    "start_time": "2022-11-25T10:26:40.216Z"
   },
   {
    "duration": 79,
    "start_time": "2022-11-25T10:26:40.650Z"
   },
   {
    "duration": 954,
    "start_time": "2022-11-25T10:26:40.731Z"
   },
   {
    "duration": 3,
    "start_time": "2022-11-25T10:26:41.688Z"
   },
   {
    "duration": 97,
    "start_time": "2022-11-25T10:26:41.692Z"
   },
   {
    "duration": 360,
    "start_time": "2022-11-25T10:33:42.279Z"
   },
   {
    "duration": 79,
    "start_time": "2022-11-25T10:33:42.641Z"
   },
   {
    "duration": 952,
    "start_time": "2022-11-25T10:33:42.722Z"
   },
   {
    "duration": 4,
    "start_time": "2022-11-25T10:33:43.676Z"
   },
   {
    "duration": 96,
    "start_time": "2022-11-25T10:33:43.682Z"
   },
   {
    "duration": 6,
    "start_time": "2022-11-25T10:39:57.815Z"
   },
   {
    "duration": 382,
    "start_time": "2022-11-25T10:56:24.911Z"
   },
   {
    "duration": 85,
    "start_time": "2022-11-25T10:56:25.296Z"
   },
   {
    "duration": 1083,
    "start_time": "2022-11-25T10:56:25.383Z"
   },
   {
    "duration": 2,
    "start_time": "2022-11-25T10:56:26.469Z"
   },
   {
    "duration": 30,
    "start_time": "2022-11-25T10:56:26.473Z"
   },
   {
    "duration": 7,
    "start_time": "2022-11-25T10:56:26.504Z"
   },
   {
    "duration": 5,
    "start_time": "2022-11-25T11:05:07.886Z"
   },
   {
    "duration": 10,
    "start_time": "2022-11-25T11:05:55.469Z"
   },
   {
    "duration": 13,
    "start_time": "2022-11-25T11:14:13.711Z"
   },
   {
    "duration": 13,
    "start_time": "2022-11-25T11:50:41.305Z"
   },
   {
    "duration": 370,
    "start_time": "2022-11-25T12:59:44.478Z"
   },
   {
    "duration": 80,
    "start_time": "2022-11-25T12:59:44.849Z"
   },
   {
    "duration": 994,
    "start_time": "2022-11-25T12:59:44.931Z"
   },
   {
    "duration": 10,
    "start_time": "2022-11-25T12:59:45.927Z"
   },
   {
    "duration": 18,
    "start_time": "2022-11-25T12:59:45.939Z"
   },
   {
    "duration": 6,
    "start_time": "2022-11-25T12:59:45.959Z"
   },
   {
    "duration": 29,
    "start_time": "2022-11-25T12:59:45.967Z"
   },
   {
    "duration": 45,
    "start_time": "2022-11-25T12:59:45.997Z"
   },
   {
    "duration": 363,
    "start_time": "2022-11-25T13:02:23.996Z"
   },
   {
    "duration": 74,
    "start_time": "2022-11-25T13:02:24.361Z"
   },
   {
    "duration": 995,
    "start_time": "2022-11-25T13:02:24.437Z"
   },
   {
    "duration": 2,
    "start_time": "2022-11-25T13:02:25.438Z"
   },
   {
    "duration": 23,
    "start_time": "2022-11-25T13:02:25.442Z"
   },
   {
    "duration": 5,
    "start_time": "2022-11-25T13:02:25.467Z"
   },
   {
    "duration": 98,
    "start_time": "2022-11-25T13:02:25.473Z"
   },
   {
    "duration": 0,
    "start_time": "2022-11-25T13:02:25.573Z"
   },
   {
    "duration": 5,
    "start_time": "2022-11-25T13:04:56.578Z"
   },
   {
    "duration": 427,
    "start_time": "2022-11-25T13:10:06.526Z"
   },
   {
    "duration": 80,
    "start_time": "2022-11-25T13:10:06.955Z"
   },
   {
    "duration": 1066,
    "start_time": "2022-11-25T13:10:07.037Z"
   },
   {
    "duration": 4,
    "start_time": "2022-11-25T13:10:08.106Z"
   },
   {
    "duration": 69,
    "start_time": "2022-11-25T13:10:08.112Z"
   },
   {
    "duration": 21,
    "start_time": "2022-11-25T13:10:08.183Z"
   },
   {
    "duration": 47,
    "start_time": "2022-11-25T13:10:08.206Z"
   },
   {
    "duration": 35,
    "start_time": "2022-11-25T13:10:08.255Z"
   },
   {
    "duration": 45,
    "start_time": "2022-11-25T13:10:08.292Z"
   },
   {
    "duration": 356,
    "start_time": "2022-11-25T13:11:54.883Z"
   },
   {
    "duration": 73,
    "start_time": "2022-11-25T13:11:55.241Z"
   },
   {
    "duration": 979,
    "start_time": "2022-11-25T13:11:55.315Z"
   },
   {
    "duration": 2,
    "start_time": "2022-11-25T13:11:56.296Z"
   },
   {
    "duration": 30,
    "start_time": "2022-11-25T13:11:56.300Z"
   },
   {
    "duration": 4,
    "start_time": "2022-11-25T13:11:56.332Z"
   },
   {
    "duration": 7,
    "start_time": "2022-11-25T13:11:56.338Z"
   },
   {
    "duration": 25,
    "start_time": "2022-11-25T13:11:56.346Z"
   },
   {
    "duration": 13,
    "start_time": "2022-11-25T13:11:56.373Z"
   },
   {
    "duration": 6,
    "start_time": "2022-11-25T13:30:13.446Z"
   },
   {
    "duration": 426,
    "start_time": "2022-11-25T13:35:28.831Z"
   },
   {
    "duration": 77,
    "start_time": "2022-11-25T13:35:29.258Z"
   },
   {
    "duration": 1284,
    "start_time": "2022-11-25T13:35:29.336Z"
   },
   {
    "duration": 4,
    "start_time": "2022-11-25T13:35:30.622Z"
   },
   {
    "duration": 28,
    "start_time": "2022-11-25T13:35:30.638Z"
   },
   {
    "duration": 18,
    "start_time": "2022-11-25T13:35:30.668Z"
   },
   {
    "duration": 19,
    "start_time": "2022-11-25T13:35:30.688Z"
   },
   {
    "duration": 41,
    "start_time": "2022-11-25T13:35:30.709Z"
   },
   {
    "duration": 22,
    "start_time": "2022-11-25T13:35:30.752Z"
   },
   {
    "duration": 5,
    "start_time": "2022-11-25T13:35:30.776Z"
   },
   {
    "duration": 388,
    "start_time": "2022-11-25T13:37:51.302Z"
   },
   {
    "duration": 78,
    "start_time": "2022-11-25T13:37:51.692Z"
   },
   {
    "duration": 1180,
    "start_time": "2022-11-25T13:37:51.772Z"
   },
   {
    "duration": 4,
    "start_time": "2022-11-25T13:37:52.954Z"
   },
   {
    "duration": 19,
    "start_time": "2022-11-25T13:37:52.960Z"
   },
   {
    "duration": 6,
    "start_time": "2022-11-25T13:37:52.981Z"
   },
   {
    "duration": 11,
    "start_time": "2022-11-25T13:37:52.989Z"
   },
   {
    "duration": 45,
    "start_time": "2022-11-25T13:37:53.001Z"
   },
   {
    "duration": 14,
    "start_time": "2022-11-25T13:37:53.048Z"
   },
   {
    "duration": 5,
    "start_time": "2022-11-25T13:37:53.064Z"
   },
   {
    "duration": 416,
    "start_time": "2022-11-25T13:40:46.611Z"
   },
   {
    "duration": 76,
    "start_time": "2022-11-25T13:40:47.029Z"
   },
   {
    "duration": 958,
    "start_time": "2022-11-25T13:40:47.106Z"
   },
   {
    "duration": 3,
    "start_time": "2022-11-25T13:40:48.066Z"
   },
   {
    "duration": 18,
    "start_time": "2022-11-25T13:40:48.070Z"
   },
   {
    "duration": 6,
    "start_time": "2022-11-25T13:40:48.090Z"
   },
   {
    "duration": 5,
    "start_time": "2022-11-25T13:40:48.098Z"
   },
   {
    "duration": 102,
    "start_time": "2022-11-25T13:40:48.104Z"
   },
   {
    "duration": 0,
    "start_time": "2022-11-25T13:40:48.207Z"
   },
   {
    "duration": 0,
    "start_time": "2022-11-25T13:40:48.208Z"
   },
   {
    "duration": 102,
    "start_time": "2022-11-25T13:49:40.001Z"
   },
   {
    "duration": 14,
    "start_time": "2022-11-25T13:49:56.423Z"
   },
   {
    "duration": 414,
    "start_time": "2022-11-25T13:50:57.426Z"
   },
   {
    "duration": 79,
    "start_time": "2022-11-25T13:50:57.842Z"
   },
   {
    "duration": 986,
    "start_time": "2022-11-25T13:50:57.923Z"
   },
   {
    "duration": 4,
    "start_time": "2022-11-25T13:50:58.912Z"
   },
   {
    "duration": 32,
    "start_time": "2022-11-25T13:50:58.918Z"
   },
   {
    "duration": 7,
    "start_time": "2022-11-25T13:50:58.951Z"
   },
   {
    "duration": 12,
    "start_time": "2022-11-25T13:50:58.959Z"
   },
   {
    "duration": 106,
    "start_time": "2022-11-25T13:50:58.973Z"
   },
   {
    "duration": 0,
    "start_time": "2022-11-25T13:50:59.081Z"
   },
   {
    "duration": 0,
    "start_time": "2022-11-25T13:50:59.083Z"
   },
   {
    "duration": 371,
    "start_time": "2022-11-25T13:52:28.366Z"
   },
   {
    "duration": 82,
    "start_time": "2022-11-25T13:52:28.739Z"
   },
   {
    "duration": 999,
    "start_time": "2022-11-25T13:52:28.824Z"
   },
   {
    "duration": 4,
    "start_time": "2022-11-25T13:52:29.825Z"
   },
   {
    "duration": 15,
    "start_time": "2022-11-25T13:52:29.837Z"
   },
   {
    "duration": 6,
    "start_time": "2022-11-25T13:52:29.854Z"
   },
   {
    "duration": 8,
    "start_time": "2022-11-25T13:52:29.862Z"
   },
   {
    "duration": 22,
    "start_time": "2022-11-25T13:52:29.871Z"
   },
   {
    "duration": 43,
    "start_time": "2022-11-25T13:52:29.894Z"
   },
   {
    "duration": 4,
    "start_time": "2022-11-25T13:52:29.940Z"
   },
   {
    "duration": 427,
    "start_time": "2022-11-25T13:53:06.912Z"
   },
   {
    "duration": 79,
    "start_time": "2022-11-25T13:53:07.341Z"
   },
   {
    "duration": 1036,
    "start_time": "2022-11-25T13:53:07.421Z"
   },
   {
    "duration": 4,
    "start_time": "2022-11-25T13:53:08.458Z"
   },
   {
    "duration": 18,
    "start_time": "2022-11-25T13:53:08.464Z"
   },
   {
    "duration": 7,
    "start_time": "2022-11-25T13:53:08.484Z"
   },
   {
    "duration": 8,
    "start_time": "2022-11-25T13:53:08.492Z"
   },
   {
    "duration": 52,
    "start_time": "2022-11-25T13:53:08.502Z"
   },
   {
    "duration": 16,
    "start_time": "2022-11-25T13:53:08.556Z"
   },
   {
    "duration": 5,
    "start_time": "2022-11-25T13:53:08.574Z"
   },
   {
    "duration": 366,
    "start_time": "2022-11-25T13:59:16.078Z"
   },
   {
    "duration": 84,
    "start_time": "2022-11-25T13:59:16.446Z"
   },
   {
    "duration": 1013,
    "start_time": "2022-11-25T13:59:16.531Z"
   },
   {
    "duration": 4,
    "start_time": "2022-11-25T13:59:17.547Z"
   },
   {
    "duration": 19,
    "start_time": "2022-11-25T13:59:17.553Z"
   },
   {
    "duration": 6,
    "start_time": "2022-11-25T13:59:17.574Z"
   },
   {
    "duration": 12,
    "start_time": "2022-11-25T13:59:17.582Z"
   },
   {
    "duration": 65,
    "start_time": "2022-11-25T13:59:17.596Z"
   },
   {
    "duration": 14,
    "start_time": "2022-11-25T13:59:17.663Z"
   },
   {
    "duration": 8,
    "start_time": "2022-11-25T13:59:17.681Z"
   },
   {
    "duration": 6,
    "start_time": "2022-11-25T13:59:53.600Z"
   },
   {
    "duration": 5,
    "start_time": "2022-11-25T14:01:01.519Z"
   },
   {
    "duration": 52,
    "start_time": "2022-11-25T14:24:46.011Z"
   },
   {
    "duration": 10,
    "start_time": "2022-11-25T14:30:54.924Z"
   },
   {
    "duration": 19,
    "start_time": "2022-11-25T14:31:08.844Z"
   },
   {
    "duration": 19,
    "start_time": "2022-11-25T15:13:38.945Z"
   },
   {
    "duration": 471,
    "start_time": "2022-11-26T07:54:03.120Z"
   },
   {
    "duration": 233,
    "start_time": "2022-11-26T07:54:03.593Z"
   },
   {
    "duration": 1333,
    "start_time": "2022-11-26T07:54:03.829Z"
   },
   {
    "duration": 5,
    "start_time": "2022-11-26T07:54:05.166Z"
   },
   {
    "duration": 25,
    "start_time": "2022-11-26T07:54:05.173Z"
   },
   {
    "duration": 144,
    "start_time": "2022-11-26T07:54:05.200Z"
   },
   {
    "duration": 9,
    "start_time": "2022-11-26T07:54:05.346Z"
   },
   {
    "duration": 6,
    "start_time": "2022-11-26T07:54:05.357Z"
   },
   {
    "duration": 8,
    "start_time": "2022-11-26T07:54:05.365Z"
   },
   {
    "duration": 75,
    "start_time": "2022-11-26T07:54:05.376Z"
   },
   {
    "duration": 24,
    "start_time": "2022-11-26T07:54:05.453Z"
   },
   {
    "duration": 20,
    "start_time": "2022-11-26T07:54:05.479Z"
   },
   {
    "duration": 9,
    "start_time": "2022-11-26T08:24:51.268Z"
   },
   {
    "duration": 174,
    "start_time": "2022-11-26T08:27:15.133Z"
   },
   {
    "duration": 347,
    "start_time": "2022-11-26T08:27:55.632Z"
   },
   {
    "duration": 213,
    "start_time": "2022-11-26T08:28:08.771Z"
   },
   {
    "duration": 18,
    "start_time": "2022-11-26T08:28:57.461Z"
   },
   {
    "duration": 231,
    "start_time": "2022-11-26T08:31:44.764Z"
   },
   {
    "duration": 185,
    "start_time": "2022-11-26T08:36:42.088Z"
   },
   {
    "duration": 244,
    "start_time": "2022-11-26T08:37:06.245Z"
   },
   {
    "duration": 458,
    "start_time": "2022-11-26T08:37:39.345Z"
   },
   {
    "duration": 458,
    "start_time": "2022-11-26T08:38:30.955Z"
   },
   {
    "duration": 420,
    "start_time": "2022-11-26T08:38:48.918Z"
   },
   {
    "duration": 4,
    "start_time": "2022-11-26T08:41:46.005Z"
   },
   {
    "duration": 16,
    "start_time": "2022-11-26T08:42:03.794Z"
   },
   {
    "duration": 18,
    "start_time": "2022-11-26T08:42:18.197Z"
   },
   {
    "duration": 452,
    "start_time": "2022-11-26T08:48:14.117Z"
   },
   {
    "duration": 86,
    "start_time": "2022-11-26T08:48:14.572Z"
   },
   {
    "duration": 1220,
    "start_time": "2022-11-26T08:48:14.660Z"
   },
   {
    "duration": 4,
    "start_time": "2022-11-26T08:48:15.882Z"
   },
   {
    "duration": 19,
    "start_time": "2022-11-26T08:48:15.888Z"
   },
   {
    "duration": 89,
    "start_time": "2022-11-26T08:48:15.909Z"
   },
   {
    "duration": 8,
    "start_time": "2022-11-26T08:48:15.999Z"
   },
   {
    "duration": 7,
    "start_time": "2022-11-26T08:48:16.009Z"
   },
   {
    "duration": 121,
    "start_time": "2022-11-26T08:48:16.018Z"
   },
   {
    "duration": 0,
    "start_time": "2022-11-26T08:48:16.141Z"
   },
   {
    "duration": 0,
    "start_time": "2022-11-26T08:48:16.144Z"
   },
   {
    "duration": 0,
    "start_time": "2022-11-26T08:48:16.150Z"
   },
   {
    "duration": 0,
    "start_time": "2022-11-26T08:48:16.151Z"
   },
   {
    "duration": 20,
    "start_time": "2022-11-26T08:48:49.807Z"
   },
   {
    "duration": 21,
    "start_time": "2022-11-26T08:49:05.918Z"
   },
   {
    "duration": 17,
    "start_time": "2022-11-26T08:52:46.601Z"
   },
   {
    "duration": 18,
    "start_time": "2022-11-26T08:52:53.985Z"
   },
   {
    "duration": 432,
    "start_time": "2022-11-26T08:53:02.738Z"
   },
   {
    "duration": 426,
    "start_time": "2022-11-26T09:04:58.980Z"
   },
   {
    "duration": 88,
    "start_time": "2022-11-26T09:04:59.408Z"
   },
   {
    "duration": 1375,
    "start_time": "2022-11-26T09:04:59.498Z"
   },
   {
    "duration": 4,
    "start_time": "2022-11-26T09:05:00.875Z"
   },
   {
    "duration": 39,
    "start_time": "2022-11-26T09:05:00.882Z"
   },
   {
    "duration": 83,
    "start_time": "2022-11-26T09:05:00.923Z"
   },
   {
    "duration": 9,
    "start_time": "2022-11-26T09:05:01.008Z"
   },
   {
    "duration": 13,
    "start_time": "2022-11-26T09:05:01.019Z"
   },
   {
    "duration": 39,
    "start_time": "2022-11-26T09:05:01.034Z"
   },
   {
    "duration": 39,
    "start_time": "2022-11-26T09:05:01.075Z"
   },
   {
    "duration": 16,
    "start_time": "2022-11-26T09:05:01.116Z"
   },
   {
    "duration": 15,
    "start_time": "2022-11-26T09:05:01.134Z"
   },
   {
    "duration": 437,
    "start_time": "2022-11-26T09:05:01.164Z"
   },
   {
    "duration": 23,
    "start_time": "2022-11-26T09:05:01.604Z"
   },
   {
    "duration": 406,
    "start_time": "2022-11-26T09:10:33.714Z"
   },
   {
    "duration": 93,
    "start_time": "2022-11-26T09:10:34.122Z"
   },
   {
    "duration": 1171,
    "start_time": "2022-11-26T09:10:34.217Z"
   },
   {
    "duration": 4,
    "start_time": "2022-11-26T09:10:35.390Z"
   },
   {
    "duration": 27,
    "start_time": "2022-11-26T09:10:35.396Z"
   },
   {
    "duration": 84,
    "start_time": "2022-11-26T09:10:35.425Z"
   },
   {
    "duration": 8,
    "start_time": "2022-11-26T09:10:35.510Z"
   },
   {
    "duration": 15,
    "start_time": "2022-11-26T09:10:35.520Z"
   },
   {
    "duration": 24,
    "start_time": "2022-11-26T09:10:35.537Z"
   },
   {
    "duration": 18,
    "start_time": "2022-11-26T09:10:35.565Z"
   },
   {
    "duration": 24,
    "start_time": "2022-11-26T09:10:35.585Z"
   },
   {
    "duration": 425,
    "start_time": "2022-11-26T09:10:35.611Z"
   },
   {
    "duration": 432,
    "start_time": "2022-11-26T09:11:55.336Z"
   },
   {
    "duration": 79,
    "start_time": "2022-11-26T09:11:55.770Z"
   },
   {
    "duration": 1098,
    "start_time": "2022-11-26T09:11:55.864Z"
   },
   {
    "duration": 3,
    "start_time": "2022-11-26T09:11:56.965Z"
   },
   {
    "duration": 20,
    "start_time": "2022-11-26T09:11:56.969Z"
   },
   {
    "duration": 76,
    "start_time": "2022-11-26T09:11:56.991Z"
   },
   {
    "duration": 8,
    "start_time": "2022-11-26T09:11:57.069Z"
   },
   {
    "duration": 8,
    "start_time": "2022-11-26T09:11:57.079Z"
   },
   {
    "duration": 15,
    "start_time": "2022-11-26T09:11:57.089Z"
   },
   {
    "duration": 16,
    "start_time": "2022-11-26T09:11:57.107Z"
   },
   {
    "duration": 54,
    "start_time": "2022-11-26T09:11:57.124Z"
   },
   {
    "duration": 423,
    "start_time": "2022-11-26T09:11:57.181Z"
   },
   {
    "duration": 406,
    "start_time": "2022-11-26T09:25:21.179Z"
   },
   {
    "duration": 9,
    "start_time": "2022-11-26T09:34:59.541Z"
   },
   {
    "duration": 286,
    "start_time": "2022-11-26T09:35:07.667Z"
   },
   {
    "duration": 16,
    "start_time": "2022-11-26T09:37:29.156Z"
   },
   {
    "duration": 296,
    "start_time": "2022-11-26T11:55:10.569Z"
   },
   {
    "duration": 355,
    "start_time": "2022-11-26T11:57:00.150Z"
   },
   {
    "duration": 299,
    "start_time": "2022-11-26T11:59:24.243Z"
   },
   {
    "duration": 24,
    "start_time": "2022-11-26T12:00:31.615Z"
   },
   {
    "duration": 23,
    "start_time": "2022-11-26T12:01:07.810Z"
   },
   {
    "duration": 512,
    "start_time": "2022-11-26T12:01:50.431Z"
   },
   {
    "duration": 230,
    "start_time": "2022-11-26T12:03:27.282Z"
   },
   {
    "duration": 378,
    "start_time": "2022-11-26T12:05:18.301Z"
   },
   {
    "duration": 12,
    "start_time": "2022-11-26T12:08:22.882Z"
   },
   {
    "duration": 335,
    "start_time": "2022-11-26T12:09:59.477Z"
   },
   {
    "duration": 199,
    "start_time": "2022-11-26T12:12:05.268Z"
   },
   {
    "duration": 298,
    "start_time": "2022-11-26T12:12:22.447Z"
   },
   {
    "duration": 335,
    "start_time": "2022-11-26T12:13:14.037Z"
   },
   {
    "duration": 82,
    "start_time": "2022-11-26T12:26:15.646Z"
   },
   {
    "duration": 99,
    "start_time": "2022-11-26T12:26:29.791Z"
   },
   {
    "duration": 268,
    "start_time": "2022-11-26T12:26:42.851Z"
   },
   {
    "duration": 290,
    "start_time": "2022-11-26T12:27:25.313Z"
   },
   {
    "duration": 288,
    "start_time": "2022-11-26T12:27:41.758Z"
   },
   {
    "duration": 184,
    "start_time": "2022-11-26T12:28:00.169Z"
   },
   {
    "duration": 258,
    "start_time": "2022-11-26T12:31:10.355Z"
   },
   {
    "duration": 186,
    "start_time": "2022-11-26T12:31:54.700Z"
   },
   {
    "duration": 218,
    "start_time": "2022-11-26T12:32:19.629Z"
   },
   {
    "duration": 147,
    "start_time": "2022-11-26T12:33:31.676Z"
   },
   {
    "duration": 5,
    "start_time": "2022-11-26T12:34:32.388Z"
   },
   {
    "duration": 205,
    "start_time": "2022-11-26T12:35:12.085Z"
   },
   {
    "duration": 184,
    "start_time": "2022-11-26T12:36:31.547Z"
   },
   {
    "duration": 178,
    "start_time": "2022-11-26T12:37:07.867Z"
   },
   {
    "duration": 171,
    "start_time": "2022-11-26T12:37:25.700Z"
   },
   {
    "duration": 239,
    "start_time": "2022-11-26T12:37:39.660Z"
   },
   {
    "duration": 184,
    "start_time": "2022-11-26T12:38:30.132Z"
   },
   {
    "duration": 215,
    "start_time": "2022-11-26T12:38:49.439Z"
   },
   {
    "duration": 8,
    "start_time": "2022-11-26T12:57:19.737Z"
   },
   {
    "duration": 9,
    "start_time": "2022-11-26T12:58:18.777Z"
   },
   {
    "duration": 12,
    "start_time": "2022-11-26T12:59:33.597Z"
   },
   {
    "duration": 426,
    "start_time": "2022-11-26T12:59:49.691Z"
   },
   {
    "duration": 159,
    "start_time": "2022-11-26T13:01:26.144Z"
   },
   {
    "duration": 11,
    "start_time": "2022-11-26T13:03:24.274Z"
   },
   {
    "duration": 14,
    "start_time": "2022-11-26T13:05:21.592Z"
   },
   {
    "duration": 14,
    "start_time": "2022-11-26T13:05:42.964Z"
   },
   {
    "duration": 10,
    "start_time": "2022-11-26T13:06:15.628Z"
   },
   {
    "duration": 13,
    "start_time": "2022-11-26T13:31:10.114Z"
   },
   {
    "duration": 15,
    "start_time": "2022-11-26T13:32:00.782Z"
   },
   {
    "duration": 12,
    "start_time": "2022-11-26T13:32:25.915Z"
   },
   {
    "duration": 20,
    "start_time": "2022-11-26T13:33:44.201Z"
   },
   {
    "duration": 22,
    "start_time": "2022-11-26T13:38:37.014Z"
   },
   {
    "duration": 16,
    "start_time": "2022-11-26T13:40:31.127Z"
   },
   {
    "duration": 1979,
    "start_time": "2022-11-26T13:42:19.928Z"
   },
   {
    "duration": 1253,
    "start_time": "2022-11-26T13:43:36.469Z"
   },
   {
    "duration": 1233,
    "start_time": "2022-11-26T13:44:19.994Z"
   },
   {
    "duration": 14,
    "start_time": "2022-11-26T14:00:42.677Z"
   },
   {
    "duration": 8,
    "start_time": "2022-11-26T14:05:29.315Z"
   },
   {
    "duration": 7,
    "start_time": "2022-11-26T14:05:45.323Z"
   },
   {
    "duration": 400,
    "start_time": "2022-11-26T14:05:47.889Z"
   },
   {
    "duration": 5,
    "start_time": "2022-11-26T14:06:10.617Z"
   },
   {
    "duration": 7,
    "start_time": "2022-11-26T14:08:37.415Z"
   },
   {
    "duration": 23,
    "start_time": "2022-11-26T14:09:11.399Z"
   },
   {
    "duration": 7,
    "start_time": "2022-11-26T14:13:03.672Z"
   },
   {
    "duration": 14,
    "start_time": "2022-11-26T14:14:11.111Z"
   },
   {
    "duration": 219,
    "start_time": "2022-11-26T14:26:55.818Z"
   },
   {
    "duration": 204,
    "start_time": "2022-11-26T14:29:15.683Z"
   },
   {
    "duration": 203,
    "start_time": "2022-11-26T14:29:39.125Z"
   },
   {
    "duration": 11,
    "start_time": "2022-11-26T14:57:13.268Z"
   },
   {
    "duration": 156,
    "start_time": "2022-11-26T15:09:14.381Z"
   },
   {
    "duration": 213,
    "start_time": "2022-11-26T15:11:29.621Z"
   },
   {
    "duration": 156,
    "start_time": "2022-11-26T15:12:04.380Z"
   },
   {
    "duration": 147,
    "start_time": "2022-11-26T15:13:15.951Z"
   },
   {
    "duration": 142,
    "start_time": "2022-11-26T15:13:57.665Z"
   },
   {
    "duration": 150,
    "start_time": "2022-11-26T15:14:30.422Z"
   },
   {
    "duration": 237,
    "start_time": "2022-11-26T15:24:54.108Z"
   },
   {
    "duration": 155,
    "start_time": "2022-11-26T15:25:17.746Z"
   },
   {
    "duration": 621,
    "start_time": "2022-11-26T15:33:16.489Z"
   },
   {
    "duration": 605,
    "start_time": "2022-11-26T15:33:49.738Z"
   },
   {
    "duration": 10,
    "start_time": "2022-11-26T15:35:21.597Z"
   },
   {
    "duration": 13,
    "start_time": "2022-11-26T15:36:30.294Z"
   },
   {
    "duration": 16,
    "start_time": "2022-11-26T15:37:26.142Z"
   },
   {
    "duration": 175,
    "start_time": "2022-11-26T15:41:41.244Z"
   },
   {
    "duration": 112,
    "start_time": "2022-11-26T15:42:37.835Z"
   },
   {
    "duration": 95,
    "start_time": "2022-11-26T15:48:36.035Z"
   },
   {
    "duration": 7,
    "start_time": "2022-11-26T15:49:45.879Z"
   },
   {
    "duration": 5,
    "start_time": "2022-11-26T15:50:04.843Z"
   },
   {
    "duration": 7,
    "start_time": "2022-11-26T15:50:12.809Z"
   },
   {
    "duration": 14,
    "start_time": "2022-11-26T15:52:27.931Z"
   },
   {
    "duration": 10,
    "start_time": "2022-11-26T15:53:36.026Z"
   },
   {
    "duration": 7,
    "start_time": "2022-11-26T15:53:54.892Z"
   },
   {
    "duration": 416,
    "start_time": "2022-11-26T15:56:19.590Z"
   },
   {
    "duration": 123,
    "start_time": "2022-11-26T15:57:08.107Z"
   },
   {
    "duration": 19,
    "start_time": "2022-11-26T16:15:52.068Z"
   },
   {
    "duration": 19,
    "start_time": "2022-11-26T17:29:24.267Z"
   },
   {
    "duration": 27,
    "start_time": "2022-11-26T17:30:16.885Z"
   },
   {
    "duration": 18,
    "start_time": "2022-11-26T17:38:11.471Z"
   },
   {
    "duration": 16,
    "start_time": "2022-11-26T17:39:42.846Z"
   },
   {
    "duration": 23,
    "start_time": "2022-11-26T17:41:48.000Z"
   },
   {
    "duration": 28,
    "start_time": "2022-11-26T17:44:13.473Z"
   },
   {
    "duration": 23,
    "start_time": "2022-11-26T17:44:32.110Z"
   },
   {
    "duration": 24,
    "start_time": "2022-11-26T17:44:47.304Z"
   },
   {
    "duration": 14,
    "start_time": "2022-11-26T17:45:22.255Z"
   },
   {
    "duration": 7,
    "start_time": "2022-11-26T17:45:53.581Z"
   },
   {
    "duration": 8,
    "start_time": "2022-11-26T17:58:23.358Z"
   },
   {
    "duration": 7,
    "start_time": "2022-11-26T17:59:12.624Z"
   },
   {
    "duration": 15,
    "start_time": "2022-11-26T17:59:21.771Z"
   },
   {
    "duration": 12,
    "start_time": "2022-11-26T18:00:21.901Z"
   },
   {
    "duration": 8,
    "start_time": "2022-11-26T18:00:45.838Z"
   },
   {
    "duration": 4,
    "start_time": "2022-11-26T18:01:12.831Z"
   },
   {
    "duration": 11,
    "start_time": "2022-11-26T18:01:18.581Z"
   },
   {
    "duration": 411,
    "start_time": "2022-11-26T18:01:43.474Z"
   },
   {
    "duration": 81,
    "start_time": "2022-11-26T18:01:43.887Z"
   },
   {
    "duration": 1035,
    "start_time": "2022-11-26T18:01:43.970Z"
   },
   {
    "duration": 4,
    "start_time": "2022-11-26T18:01:45.007Z"
   },
   {
    "duration": 25,
    "start_time": "2022-11-26T18:01:45.012Z"
   },
   {
    "duration": 60,
    "start_time": "2022-11-26T18:01:45.039Z"
   },
   {
    "duration": 7,
    "start_time": "2022-11-26T18:01:45.101Z"
   },
   {
    "duration": 6,
    "start_time": "2022-11-26T18:01:45.110Z"
   },
   {
    "duration": 38,
    "start_time": "2022-11-26T18:01:45.118Z"
   },
   {
    "duration": 16,
    "start_time": "2022-11-26T18:01:45.160Z"
   },
   {
    "duration": 7,
    "start_time": "2022-11-26T18:01:45.178Z"
   },
   {
    "duration": 7,
    "start_time": "2022-11-26T18:01:45.187Z"
   },
   {
    "duration": 17,
    "start_time": "2022-11-26T18:01:45.197Z"
   },
   {
    "duration": 412,
    "start_time": "2022-11-26T18:01:45.216Z"
   },
   {
    "duration": 6,
    "start_time": "2022-11-26T18:01:45.629Z"
   },
   {
    "duration": 257,
    "start_time": "2022-11-26T18:01:45.637Z"
   },
   {
    "duration": 174,
    "start_time": "2022-11-26T18:01:45.896Z"
   },
   {
    "duration": 192,
    "start_time": "2022-11-26T18:01:46.072Z"
   },
   {
    "duration": 183,
    "start_time": "2022-11-26T18:01:46.267Z"
   },
   {
    "duration": 216,
    "start_time": "2022-11-26T18:01:46.452Z"
   },
   {
    "duration": 181,
    "start_time": "2022-11-26T18:01:46.671Z"
   },
   {
    "duration": 171,
    "start_time": "2022-11-26T18:01:46.855Z"
   },
   {
    "duration": 11,
    "start_time": "2022-11-26T18:01:47.028Z"
   },
   {
    "duration": 185,
    "start_time": "2022-11-26T18:01:47.051Z"
   },
   {
    "duration": 165,
    "start_time": "2022-11-26T18:01:47.237Z"
   },
   {
    "duration": 220,
    "start_time": "2022-11-26T18:01:47.404Z"
   },
   {
    "duration": 189,
    "start_time": "2022-11-26T18:01:47.626Z"
   },
   {
    "duration": 139,
    "start_time": "2022-11-26T18:01:47.818Z"
   },
   {
    "duration": 4,
    "start_time": "2022-11-26T18:01:47.959Z"
   },
   {
    "duration": 0,
    "start_time": "2022-11-26T18:01:47.965Z"
   },
   {
    "duration": 0,
    "start_time": "2022-11-26T18:01:47.966Z"
   },
   {
    "duration": 522,
    "start_time": "2022-11-26T18:08:22.817Z"
   },
   {
    "duration": 97,
    "start_time": "2022-11-26T18:08:27.142Z"
   },
   {
    "duration": 1197,
    "start_time": "2022-11-26T18:08:44.174Z"
   },
   {
    "duration": 4,
    "start_time": "2022-11-26T18:08:56.142Z"
   },
   {
    "duration": 20,
    "start_time": "2022-11-26T18:09:01.577Z"
   },
   {
    "duration": 76,
    "start_time": "2022-11-26T18:09:06.632Z"
   },
   {
    "duration": 11,
    "start_time": "2022-11-26T18:09:11.373Z"
   },
   {
    "duration": 3,
    "start_time": "2022-11-26T18:15:45.292Z"
   },
   {
    "duration": 70,
    "start_time": "2022-11-26T18:15:50.038Z"
   },
   {
    "duration": 910,
    "start_time": "2022-11-26T18:15:56.766Z"
   },
   {
    "duration": 3,
    "start_time": "2022-11-26T18:16:51.901Z"
   },
   {
    "duration": 14,
    "start_time": "2022-11-26T18:17:01.935Z"
   },
   {
    "duration": 48,
    "start_time": "2022-11-26T18:17:01.951Z"
   },
   {
    "duration": 7,
    "start_time": "2022-11-26T18:17:13.665Z"
   },
   {
    "duration": 6,
    "start_time": "2022-11-26T18:17:16.569Z"
   },
   {
    "duration": 22,
    "start_time": "2022-11-26T18:17:24.745Z"
   },
   {
    "duration": 19,
    "start_time": "2022-11-26T18:17:33.884Z"
   },
   {
    "duration": 9,
    "start_time": "2022-11-26T18:17:42.538Z"
   },
   {
    "duration": 6,
    "start_time": "2022-11-26T18:18:21.840Z"
   },
   {
    "duration": 8,
    "start_time": "2022-11-26T18:18:41.920Z"
   },
   {
    "duration": 19,
    "start_time": "2022-11-26T18:18:57.024Z"
   },
   {
    "duration": 525,
    "start_time": "2022-11-26T18:29:06.212Z"
   },
   {
    "duration": 116,
    "start_time": "2022-11-26T18:29:09.631Z"
   },
   {
    "duration": 1383,
    "start_time": "2022-11-26T18:29:18.240Z"
   },
   {
    "duration": 4,
    "start_time": "2022-11-26T18:29:34.666Z"
   },
   {
    "duration": 25,
    "start_time": "2022-11-26T18:29:37.956Z"
   },
   {
    "duration": 67,
    "start_time": "2022-11-26T18:29:42.772Z"
   },
   {
    "duration": 10,
    "start_time": "2022-11-26T18:29:52.547Z"
   },
   {
    "duration": 6,
    "start_time": "2022-11-26T18:29:55.682Z"
   },
   {
    "duration": 15,
    "start_time": "2022-11-26T18:30:01.369Z"
   },
   {
    "duration": 24,
    "start_time": "2022-11-26T18:30:06.414Z"
   },
   {
    "duration": 24,
    "start_time": "2022-11-26T18:30:12.400Z"
   },
   {
    "duration": 6,
    "start_time": "2022-11-26T18:30:36.336Z"
   },
   {
    "duration": 15,
    "start_time": "2022-11-26T18:31:10.224Z"
   },
   {
    "duration": 474,
    "start_time": "2022-11-26T18:34:37.744Z"
   },
   {
    "duration": 7,
    "start_time": "2022-11-26T18:36:06.716Z"
   },
   {
    "duration": 324,
    "start_time": "2022-11-26T18:36:15.469Z"
   },
   {
    "duration": 202,
    "start_time": "2022-11-26T18:36:46.569Z"
   },
   {
    "duration": 221,
    "start_time": "2022-11-26T18:37:02.679Z"
   },
   {
    "duration": 201,
    "start_time": "2022-11-26T18:37:14.265Z"
   },
   {
    "duration": 209,
    "start_time": "2022-11-26T18:37:27.272Z"
   },
   {
    "duration": 224,
    "start_time": "2022-11-26T18:37:31.360Z"
   },
   {
    "duration": 238,
    "start_time": "2022-11-26T18:37:35.127Z"
   },
   {
    "duration": 14,
    "start_time": "2022-11-26T18:37:52.495Z"
   },
   {
    "duration": 215,
    "start_time": "2022-11-26T18:48:19.075Z"
   },
   {
    "duration": 431,
    "start_time": "2022-11-26T18:49:06.687Z"
   },
   {
    "duration": 88,
    "start_time": "2022-11-26T18:49:07.122Z"
   },
   {
    "duration": 1129,
    "start_time": "2022-11-26T18:49:07.212Z"
   },
   {
    "duration": 7,
    "start_time": "2022-11-26T18:49:08.352Z"
   },
   {
    "duration": 43,
    "start_time": "2022-11-26T18:49:08.364Z"
   },
   {
    "duration": 68,
    "start_time": "2022-11-26T18:49:08.410Z"
   },
   {
    "duration": 9,
    "start_time": "2022-11-26T18:49:08.479Z"
   },
   {
    "duration": 6,
    "start_time": "2022-11-26T18:49:08.490Z"
   },
   {
    "duration": 18,
    "start_time": "2022-11-26T18:49:08.498Z"
   },
   {
    "duration": 52,
    "start_time": "2022-11-26T18:49:08.519Z"
   },
   {
    "duration": 16,
    "start_time": "2022-11-26T18:49:08.573Z"
   },
   {
    "duration": 6,
    "start_time": "2022-11-26T18:49:08.590Z"
   },
   {
    "duration": 15,
    "start_time": "2022-11-26T18:49:08.598Z"
   },
   {
    "duration": 448,
    "start_time": "2022-11-26T18:49:08.615Z"
   },
   {
    "duration": 9,
    "start_time": "2022-11-26T18:49:09.068Z"
   },
   {
    "duration": 317,
    "start_time": "2022-11-26T18:49:09.079Z"
   },
   {
    "duration": 205,
    "start_time": "2022-11-26T18:49:09.397Z"
   },
   {
    "duration": 278,
    "start_time": "2022-11-26T18:49:09.604Z"
   },
   {
    "duration": 214,
    "start_time": "2022-11-26T18:49:09.884Z"
   },
   {
    "duration": 235,
    "start_time": "2022-11-26T18:49:10.100Z"
   },
   {
    "duration": 216,
    "start_time": "2022-11-26T18:49:10.336Z"
   },
   {
    "duration": 222,
    "start_time": "2022-11-26T18:49:10.556Z"
   },
   {
    "duration": 13,
    "start_time": "2022-11-26T18:49:10.781Z"
   },
   {
    "duration": 206,
    "start_time": "2022-11-26T18:49:10.796Z"
   },
   {
    "duration": 176,
    "start_time": "2022-11-26T18:49:11.004Z"
   },
   {
    "duration": 234,
    "start_time": "2022-11-26T18:49:11.182Z"
   },
   {
    "duration": 174,
    "start_time": "2022-11-26T18:49:11.418Z"
   },
   {
    "duration": 167,
    "start_time": "2022-11-26T18:49:11.597Z"
   },
   {
    "duration": 4,
    "start_time": "2022-11-26T18:49:11.771Z"
   },
   {
    "duration": 0,
    "start_time": "2022-11-26T18:49:11.777Z"
   },
   {
    "duration": 0,
    "start_time": "2022-11-26T18:49:11.779Z"
   },
   {
    "duration": 169,
    "start_time": "2022-11-26T18:57:40.952Z"
   },
   {
    "duration": 119,
    "start_time": "2022-11-26T19:07:03.598Z"
   },
   {
    "duration": 111,
    "start_time": "2022-11-26T19:07:28.796Z"
   },
   {
    "duration": 108,
    "start_time": "2022-11-26T19:09:40.423Z"
   },
   {
    "duration": 182,
    "start_time": "2022-11-26T19:15:21.879Z"
   },
   {
    "duration": 130,
    "start_time": "2022-11-26T19:15:56.623Z"
   },
   {
    "duration": 585,
    "start_time": "2022-11-26T19:22:45.605Z"
   },
   {
    "duration": 67,
    "start_time": "2022-11-26T19:25:45.017Z"
   },
   {
    "duration": 21,
    "start_time": "2022-11-26T19:26:27.378Z"
   },
   {
    "duration": 25,
    "start_time": "2022-11-26T19:26:53.810Z"
   },
   {
    "duration": 110,
    "start_time": "2022-11-26T19:27:31.781Z"
   },
   {
    "duration": 2,
    "start_time": "2022-11-26T19:28:52.996Z"
   },
   {
    "duration": 11,
    "start_time": "2022-11-26T19:32:19.674Z"
   },
   {
    "duration": 105,
    "start_time": "2022-11-26T19:34:40.948Z"
   },
   {
    "duration": 108,
    "start_time": "2022-11-26T19:34:54.292Z"
   },
   {
    "duration": 106,
    "start_time": "2022-11-26T19:35:31.202Z"
   },
   {
    "duration": 94,
    "start_time": "2022-11-26T19:35:43.621Z"
   },
   {
    "duration": 102,
    "start_time": "2022-11-26T19:35:55.628Z"
   },
   {
    "duration": 197,
    "start_time": "2022-11-26T19:36:07.858Z"
   },
   {
    "duration": 126,
    "start_time": "2022-11-26T19:39:18.180Z"
   },
   {
    "duration": 116,
    "start_time": "2022-11-26T19:40:52.422Z"
   },
   {
    "duration": 135,
    "start_time": "2022-11-26T19:42:22.152Z"
   },
   {
    "duration": 115,
    "start_time": "2022-11-26T19:42:54.504Z"
   },
   {
    "duration": 817,
    "start_time": "2022-11-27T03:38:26.381Z"
   },
   {
    "duration": 208,
    "start_time": "2022-11-27T03:38:27.200Z"
   },
   {
    "duration": 809,
    "start_time": "2022-11-27T03:38:27.409Z"
   },
   {
    "duration": 3,
    "start_time": "2022-11-27T03:38:28.220Z"
   },
   {
    "duration": 32,
    "start_time": "2022-11-27T03:38:28.225Z"
   },
   {
    "duration": 62,
    "start_time": "2022-11-27T03:38:28.259Z"
   },
   {
    "duration": 8,
    "start_time": "2022-11-27T03:38:28.322Z"
   },
   {
    "duration": 24,
    "start_time": "2022-11-27T03:38:28.331Z"
   },
   {
    "duration": 16,
    "start_time": "2022-11-27T03:38:28.356Z"
   },
   {
    "duration": 18,
    "start_time": "2022-11-27T03:38:28.375Z"
   },
   {
    "duration": 21,
    "start_time": "2022-11-27T03:38:28.395Z"
   },
   {
    "duration": 37,
    "start_time": "2022-11-27T03:38:28.418Z"
   },
   {
    "duration": 20,
    "start_time": "2022-11-27T03:38:28.457Z"
   },
   {
    "duration": 405,
    "start_time": "2022-11-27T03:38:28.479Z"
   },
   {
    "duration": 8,
    "start_time": "2022-11-27T03:38:28.886Z"
   },
   {
    "duration": 267,
    "start_time": "2022-11-27T03:38:28.896Z"
   },
   {
    "duration": 196,
    "start_time": "2022-11-27T03:38:29.165Z"
   },
   {
    "duration": 196,
    "start_time": "2022-11-27T03:38:29.362Z"
   },
   {
    "duration": 231,
    "start_time": "2022-11-27T03:38:29.560Z"
   },
   {
    "duration": 209,
    "start_time": "2022-11-27T03:38:29.793Z"
   },
   {
    "duration": 202,
    "start_time": "2022-11-27T03:38:30.003Z"
   },
   {
    "duration": 198,
    "start_time": "2022-11-27T03:38:30.207Z"
   },
   {
    "duration": 12,
    "start_time": "2022-11-27T03:38:30.407Z"
   },
   {
    "duration": 203,
    "start_time": "2022-11-27T03:38:30.421Z"
   },
   {
    "duration": 194,
    "start_time": "2022-11-27T03:38:30.626Z"
   },
   {
    "duration": 231,
    "start_time": "2022-11-27T03:38:30.821Z"
   },
   {
    "duration": 159,
    "start_time": "2022-11-27T03:38:31.055Z"
   },
   {
    "duration": 156,
    "start_time": "2022-11-27T03:38:31.217Z"
   },
   {
    "duration": 184,
    "start_time": "2022-11-27T03:38:31.374Z"
   },
   {
    "duration": 155,
    "start_time": "2022-11-27T03:38:31.560Z"
   },
   {
    "duration": 136,
    "start_time": "2022-11-27T03:38:31.716Z"
   },
   {
    "duration": 675,
    "start_time": "2022-11-27T04:48:42.838Z"
   },
   {
    "duration": 75,
    "start_time": "2022-11-27T04:48:43.515Z"
   },
   {
    "duration": 838,
    "start_time": "2022-11-27T04:48:43.592Z"
   },
   {
    "duration": 4,
    "start_time": "2022-11-27T04:48:44.432Z"
   },
   {
    "duration": 23,
    "start_time": "2022-11-27T04:48:44.438Z"
   },
   {
    "duration": 67,
    "start_time": "2022-11-27T04:48:44.463Z"
   },
   {
    "duration": 9,
    "start_time": "2022-11-27T04:48:44.550Z"
   },
   {
    "duration": 9,
    "start_time": "2022-11-27T04:48:44.561Z"
   },
   {
    "duration": 15,
    "start_time": "2022-11-27T04:48:44.572Z"
   },
   {
    "duration": 19,
    "start_time": "2022-11-27T04:48:44.590Z"
   },
   {
    "duration": 54,
    "start_time": "2022-11-27T04:48:44.611Z"
   },
   {
    "duration": 7,
    "start_time": "2022-11-27T04:48:44.667Z"
   },
   {
    "duration": 22,
    "start_time": "2022-11-27T04:48:44.676Z"
   },
   {
    "duration": 457,
    "start_time": "2022-11-27T04:48:44.699Z"
   },
   {
    "duration": 9,
    "start_time": "2022-11-27T04:48:45.158Z"
   },
   {
    "duration": 314,
    "start_time": "2022-11-27T04:48:45.169Z"
   },
   {
    "duration": 192,
    "start_time": "2022-11-27T04:48:45.484Z"
   },
   {
    "duration": 207,
    "start_time": "2022-11-27T04:48:45.678Z"
   },
   {
    "duration": 191,
    "start_time": "2022-11-27T04:48:45.887Z"
   },
   {
    "duration": 216,
    "start_time": "2022-11-27T04:48:46.080Z"
   },
   {
    "duration": 198,
    "start_time": "2022-11-27T04:48:46.298Z"
   },
   {
    "duration": 196,
    "start_time": "2022-11-27T04:48:46.498Z"
   },
   {
    "duration": 11,
    "start_time": "2022-11-27T04:48:46.696Z"
   },
   {
    "duration": 194,
    "start_time": "2022-11-27T04:48:46.709Z"
   },
   {
    "duration": 178,
    "start_time": "2022-11-27T04:48:46.905Z"
   },
   {
    "duration": 237,
    "start_time": "2022-11-27T04:48:47.085Z"
   },
   {
    "duration": 157,
    "start_time": "2022-11-27T04:48:47.323Z"
   },
   {
    "duration": 156,
    "start_time": "2022-11-27T04:48:47.483Z"
   },
   {
    "duration": 175,
    "start_time": "2022-11-27T04:48:47.641Z"
   },
   {
    "duration": 146,
    "start_time": "2022-11-27T04:48:47.818Z"
   },
   {
    "duration": 149,
    "start_time": "2022-11-27T04:48:47.967Z"
   },
   {
    "duration": 107,
    "start_time": "2022-11-27T04:48:48.118Z"
   },
   {
    "duration": 0,
    "start_time": "2022-11-27T04:48:48.226Z"
   },
   {
    "duration": 7,
    "start_time": "2022-11-27T04:50:42.314Z"
   },
   {
    "duration": 26,
    "start_time": "2022-11-27T04:51:36.397Z"
   },
   {
    "duration": 4,
    "start_time": "2022-11-27T04:55:00.935Z"
   },
   {
    "duration": 20,
    "start_time": "2022-11-27T04:55:25.394Z"
   },
   {
    "duration": 18,
    "start_time": "2022-11-27T04:56:11.293Z"
   },
   {
    "duration": 19,
    "start_time": "2022-11-27T04:57:00.786Z"
   },
   {
    "duration": 9,
    "start_time": "2022-11-27T04:57:43.435Z"
   },
   {
    "duration": 694,
    "start_time": "2022-11-27T05:08:17.739Z"
   },
   {
    "duration": 78,
    "start_time": "2022-11-27T05:08:18.436Z"
   },
   {
    "duration": 822,
    "start_time": "2022-11-27T05:08:18.516Z"
   },
   {
    "duration": 4,
    "start_time": "2022-11-27T05:08:19.350Z"
   },
   {
    "duration": 19,
    "start_time": "2022-11-27T05:08:19.356Z"
   },
   {
    "duration": 58,
    "start_time": "2022-11-27T05:08:19.377Z"
   },
   {
    "duration": 20,
    "start_time": "2022-11-27T05:08:19.437Z"
   },
   {
    "duration": 7,
    "start_time": "2022-11-27T05:08:19.459Z"
   },
   {
    "duration": 15,
    "start_time": "2022-11-27T05:08:19.467Z"
   },
   {
    "duration": 20,
    "start_time": "2022-11-27T05:08:19.486Z"
   },
   {
    "duration": 47,
    "start_time": "2022-11-27T05:08:19.508Z"
   },
   {
    "duration": 6,
    "start_time": "2022-11-27T05:08:19.557Z"
   },
   {
    "duration": 27,
    "start_time": "2022-11-27T05:08:19.565Z"
   },
   {
    "duration": 496,
    "start_time": "2022-11-27T05:08:19.596Z"
   },
   {
    "duration": 7,
    "start_time": "2022-11-27T05:08:20.094Z"
   },
   {
    "duration": 264,
    "start_time": "2022-11-27T05:08:20.102Z"
   },
   {
    "duration": 189,
    "start_time": "2022-11-27T05:08:20.368Z"
   },
   {
    "duration": 223,
    "start_time": "2022-11-27T05:08:20.559Z"
   },
   {
    "duration": 190,
    "start_time": "2022-11-27T05:08:20.784Z"
   },
   {
    "duration": 205,
    "start_time": "2022-11-27T05:08:20.976Z"
   },
   {
    "duration": 198,
    "start_time": "2022-11-27T05:08:21.183Z"
   },
   {
    "duration": 218,
    "start_time": "2022-11-27T05:08:21.384Z"
   },
   {
    "duration": 12,
    "start_time": "2022-11-27T05:08:21.604Z"
   },
   {
    "duration": 201,
    "start_time": "2022-11-27T05:08:21.618Z"
   },
   {
    "duration": 173,
    "start_time": "2022-11-27T05:08:21.820Z"
   },
   {
    "duration": 242,
    "start_time": "2022-11-27T05:08:21.994Z"
   },
   {
    "duration": 154,
    "start_time": "2022-11-27T05:08:22.238Z"
   },
   {
    "duration": 163,
    "start_time": "2022-11-27T05:08:22.395Z"
   },
   {
    "duration": 196,
    "start_time": "2022-11-27T05:08:22.560Z"
   },
   {
    "duration": 164,
    "start_time": "2022-11-27T05:08:22.758Z"
   },
   {
    "duration": 183,
    "start_time": "2022-11-27T05:08:22.925Z"
   },
   {
    "duration": 101,
    "start_time": "2022-11-27T05:08:23.110Z"
   },
   {
    "duration": 0,
    "start_time": "2022-11-27T05:08:23.213Z"
   },
   {
    "duration": 190,
    "start_time": "2022-11-27T05:13:17.275Z"
   },
   {
    "duration": 226,
    "start_time": "2022-11-27T05:14:25.768Z"
   },
   {
    "duration": 9,
    "start_time": "2022-11-27T05:18:24.262Z"
   },
   {
    "duration": 196,
    "start_time": "2022-11-27T05:22:11.440Z"
   },
   {
    "duration": 8,
    "start_time": "2022-11-27T05:23:28.586Z"
   },
   {
    "duration": 196,
    "start_time": "2022-11-27T05:26:09.957Z"
   },
   {
    "duration": 192,
    "start_time": "2022-11-27T05:28:40.272Z"
   },
   {
    "duration": 258,
    "start_time": "2022-11-27T05:38:14.523Z"
   },
   {
    "duration": 7,
    "start_time": "2022-11-27T05:40:55.911Z"
   },
   {
    "duration": 9,
    "start_time": "2022-11-27T05:43:58.234Z"
   },
   {
    "duration": 184,
    "start_time": "2022-11-27T05:44:09.266Z"
   },
   {
    "duration": 15,
    "start_time": "2022-11-27T05:57:22.225Z"
   },
   {
    "duration": 17,
    "start_time": "2022-11-27T06:25:02.101Z"
   },
   {
    "duration": 15,
    "start_time": "2022-11-27T06:28:11.407Z"
   },
   {
    "duration": 11,
    "start_time": "2022-11-27T06:29:19.061Z"
   },
   {
    "duration": 15,
    "start_time": "2022-11-27T06:29:28.456Z"
   },
   {
    "duration": 155,
    "start_time": "2022-11-27T06:30:04.940Z"
   },
   {
    "duration": 260,
    "start_time": "2022-11-27T06:32:32.925Z"
   },
   {
    "duration": 213,
    "start_time": "2022-11-27T06:38:08.647Z"
   },
   {
    "duration": 211,
    "start_time": "2022-11-27T06:41:52.898Z"
   },
   {
    "duration": 7,
    "start_time": "2022-11-27T06:44:04.792Z"
   },
   {
    "duration": 19,
    "start_time": "2022-11-27T07:17:12.730Z"
   },
   {
    "duration": 262,
    "start_time": "2022-11-27T07:24:48.179Z"
   },
   {
    "duration": 190,
    "start_time": "2022-11-27T09:02:02.104Z"
   },
   {
    "duration": 129,
    "start_time": "2022-11-27T09:13:44.473Z"
   },
   {
    "duration": 261,
    "start_time": "2022-11-27T10:45:30.833Z"
   },
   {
    "duration": 223,
    "start_time": "2022-11-27T10:46:42.987Z"
   },
   {
    "duration": 271,
    "start_time": "2022-11-27T10:51:35.345Z"
   },
   {
    "duration": 241,
    "start_time": "2022-11-27T10:53:09.081Z"
   },
   {
    "duration": 189,
    "start_time": "2022-11-27T10:54:35.459Z"
   },
   {
    "duration": 11,
    "start_time": "2022-11-27T11:00:51.764Z"
   },
   {
    "duration": 1228,
    "start_time": "2022-11-27T11:01:24.814Z"
   },
   {
    "duration": 14,
    "start_time": "2022-11-27T11:01:36.854Z"
   },
   {
    "duration": 17,
    "start_time": "2022-11-27T11:02:06.117Z"
   },
   {
    "duration": 1663,
    "start_time": "2022-11-27T11:02:23.196Z"
   },
   {
    "duration": 18,
    "start_time": "2022-11-27T11:02:44.974Z"
   },
   {
    "duration": 15,
    "start_time": "2022-11-27T11:03:33.893Z"
   },
   {
    "duration": 11,
    "start_time": "2022-11-27T11:03:46.919Z"
   },
   {
    "duration": 12,
    "start_time": "2022-11-27T11:04:15.353Z"
   },
   {
    "duration": 291,
    "start_time": "2022-11-27T11:08:29.622Z"
   },
   {
    "duration": 16,
    "start_time": "2022-11-27T11:10:46.504Z"
   },
   {
    "duration": 222,
    "start_time": "2022-11-27T11:11:04.627Z"
   },
   {
    "duration": 277,
    "start_time": "2022-11-27T11:18:56.033Z"
   },
   {
    "duration": 174,
    "start_time": "2022-11-27T11:22:11.052Z"
   },
   {
    "duration": 239,
    "start_time": "2022-11-27T11:23:51.726Z"
   },
   {
    "duration": 207,
    "start_time": "2022-11-27T11:24:12.535Z"
   },
   {
    "duration": 267,
    "start_time": "2022-11-27T11:27:09.930Z"
   },
   {
    "duration": 16,
    "start_time": "2022-11-27T11:33:15.779Z"
   },
   {
    "duration": 26,
    "start_time": "2022-11-27T11:33:47.482Z"
   },
   {
    "duration": 170,
    "start_time": "2022-11-27T11:34:58.372Z"
   },
   {
    "duration": 152,
    "start_time": "2022-11-27T11:43:35.743Z"
   },
   {
    "duration": 133,
    "start_time": "2022-11-27T11:44:20.248Z"
   },
   {
    "duration": 140,
    "start_time": "2022-11-27T11:44:37.672Z"
   },
   {
    "duration": 126,
    "start_time": "2022-11-27T11:45:24.436Z"
   },
   {
    "duration": 154,
    "start_time": "2022-11-27T11:45:48.871Z"
   },
   {
    "duration": 162,
    "start_time": "2022-11-27T11:48:29.765Z"
   },
   {
    "duration": 156,
    "start_time": "2022-11-27T11:48:49.549Z"
   },
   {
    "duration": 120,
    "start_time": "2022-11-27T11:49:13.174Z"
   },
   {
    "duration": 115,
    "start_time": "2022-11-27T11:49:41.105Z"
   },
   {
    "duration": 114,
    "start_time": "2022-11-27T11:50:06.879Z"
   },
   {
    "duration": 110,
    "start_time": "2022-11-27T11:50:26.574Z"
   },
   {
    "duration": 163,
    "start_time": "2022-11-27T11:57:27.530Z"
   },
   {
    "duration": 203,
    "start_time": "2022-11-27T11:57:51.818Z"
   },
   {
    "duration": 9,
    "start_time": "2022-11-27T11:58:12.778Z"
   },
   {
    "duration": 201,
    "start_time": "2022-11-27T11:58:39.210Z"
   },
   {
    "duration": 15,
    "start_time": "2022-11-27T11:59:13.944Z"
   },
   {
    "duration": 209,
    "start_time": "2022-11-27T12:00:00.786Z"
   },
   {
    "duration": 14,
    "start_time": "2022-11-27T12:00:20.854Z"
   },
   {
    "duration": 216,
    "start_time": "2022-11-27T12:00:54.007Z"
   },
   {
    "duration": 7,
    "start_time": "2022-11-27T12:01:17.109Z"
   },
   {
    "duration": 13,
    "start_time": "2022-11-27T12:01:53.331Z"
   },
   {
    "duration": 192,
    "start_time": "2022-11-27T12:05:17.641Z"
   },
   {
    "duration": 199,
    "start_time": "2022-11-27T12:05:43.465Z"
   },
   {
    "duration": 6,
    "start_time": "2022-11-27T12:06:04.240Z"
   },
   {
    "duration": 161,
    "start_time": "2022-11-27T12:06:54.749Z"
   },
   {
    "duration": 181,
    "start_time": "2022-11-27T12:09:17.909Z"
   },
   {
    "duration": 215,
    "start_time": "2022-11-27T12:10:45.568Z"
   },
   {
    "duration": 147,
    "start_time": "2022-11-27T12:12:28.953Z"
   },
   {
    "duration": 189,
    "start_time": "2022-11-27T12:14:56.232Z"
   },
   {
    "duration": 261,
    "start_time": "2022-11-27T12:16:14.748Z"
   },
   {
    "duration": 189,
    "start_time": "2022-11-27T12:17:38.076Z"
   },
   {
    "duration": 252,
    "start_time": "2022-11-27T12:19:35.540Z"
   },
   {
    "duration": 594,
    "start_time": "2022-11-27T16:03:19.912Z"
   },
   {
    "duration": 45,
    "start_time": "2022-11-27T16:41:54.373Z"
   },
   {
    "duration": 10,
    "start_time": "2022-11-27T16:42:14.022Z"
   },
   {
    "duration": 6,
    "start_time": "2022-11-27T16:42:50.337Z"
   },
   {
    "duration": 8,
    "start_time": "2022-11-27T16:43:03.987Z"
   },
   {
    "duration": 9,
    "start_time": "2022-11-27T16:43:33.027Z"
   },
   {
    "duration": 8,
    "start_time": "2022-11-27T16:44:17.587Z"
   },
   {
    "duration": 16,
    "start_time": "2022-11-27T16:44:58.051Z"
   },
   {
    "duration": 8,
    "start_time": "2022-11-27T16:45:11.941Z"
   },
   {
    "duration": 12,
    "start_time": "2022-11-27T16:45:38.582Z"
   },
   {
    "duration": 9,
    "start_time": "2022-11-27T16:47:03.021Z"
   },
   {
    "duration": 9,
    "start_time": "2022-11-27T16:49:15.694Z"
   },
   {
    "duration": 8,
    "start_time": "2022-11-27T16:54:25.805Z"
   },
   {
    "duration": 15,
    "start_time": "2022-11-27T16:56:02.143Z"
   },
   {
    "duration": 6,
    "start_time": "2022-11-27T17:06:00.500Z"
   },
   {
    "duration": 7,
    "start_time": "2022-11-27T17:06:40.145Z"
   },
   {
    "duration": 4,
    "start_time": "2022-11-27T17:06:56.697Z"
   },
   {
    "duration": 8,
    "start_time": "2022-11-27T17:08:48.428Z"
   },
   {
    "duration": 10,
    "start_time": "2022-11-27T17:09:14.375Z"
   },
   {
    "duration": 7,
    "start_time": "2022-11-27T17:09:29.328Z"
   },
   {
    "duration": 20,
    "start_time": "2022-11-27T17:25:47.780Z"
   },
   {
    "duration": 10,
    "start_time": "2022-11-27T17:30:06.678Z"
   },
   {
    "duration": 11,
    "start_time": "2022-11-27T17:34:05.784Z"
   },
   {
    "duration": 97,
    "start_time": "2022-11-27T17:37:31.044Z"
   },
   {
    "duration": 14,
    "start_time": "2022-11-27T17:47:07.284Z"
   },
   {
    "duration": 1531,
    "start_time": "2022-11-27T17:57:47.694Z"
   },
   {
    "duration": 171,
    "start_time": "2022-11-27T17:57:49.227Z"
   },
   {
    "duration": 1343,
    "start_time": "2022-11-27T17:57:49.401Z"
   },
   {
    "duration": 27,
    "start_time": "2022-11-27T17:57:50.746Z"
   },
   {
    "duration": 42,
    "start_time": "2022-11-27T17:57:50.797Z"
   },
   {
    "duration": 163,
    "start_time": "2022-11-27T17:57:50.844Z"
   },
   {
    "duration": 10,
    "start_time": "2022-11-27T17:57:51.010Z"
   },
   {
    "duration": 71,
    "start_time": "2022-11-27T17:57:51.022Z"
   },
   {
    "duration": 51,
    "start_time": "2022-11-27T17:57:51.095Z"
   },
   {
    "duration": 78,
    "start_time": "2022-11-27T17:57:51.149Z"
   },
   {
    "duration": 55,
    "start_time": "2022-11-27T17:57:51.232Z"
   },
   {
    "duration": 20,
    "start_time": "2022-11-27T17:57:51.295Z"
   },
   {
    "duration": 5,
    "start_time": "2022-11-27T17:57:51.317Z"
   },
   {
    "duration": 22,
    "start_time": "2022-11-27T17:57:51.326Z"
   },
   {
    "duration": 494,
    "start_time": "2022-11-27T17:57:51.350Z"
   },
   {
    "duration": 16,
    "start_time": "2022-11-27T17:57:51.846Z"
   },
   {
    "duration": 489,
    "start_time": "2022-11-27T17:57:51.866Z"
   },
   {
    "duration": 258,
    "start_time": "2022-11-27T17:57:52.357Z"
   },
   {
    "duration": 278,
    "start_time": "2022-11-27T17:57:52.616Z"
   },
   {
    "duration": 323,
    "start_time": "2022-11-27T17:57:52.895Z"
   },
   {
    "duration": 239,
    "start_time": "2022-11-27T17:57:53.220Z"
   },
   {
    "duration": 240,
    "start_time": "2022-11-27T17:57:53.461Z"
   },
   {
    "duration": 293,
    "start_time": "2022-11-27T17:57:53.703Z"
   },
   {
    "duration": 13,
    "start_time": "2022-11-27T17:57:53.998Z"
   },
   {
    "duration": 303,
    "start_time": "2022-11-27T17:57:54.012Z"
   },
   {
    "duration": 286,
    "start_time": "2022-11-27T17:57:54.317Z"
   },
   {
    "duration": 193,
    "start_time": "2022-11-27T17:57:54.605Z"
   },
   {
    "duration": 232,
    "start_time": "2022-11-27T17:57:54.803Z"
   },
   {
    "duration": 200,
    "start_time": "2022-11-27T17:57:55.037Z"
   },
   {
    "duration": 201,
    "start_time": "2022-11-27T17:57:55.239Z"
   },
   {
    "duration": 144,
    "start_time": "2022-11-27T17:57:55.442Z"
   },
   {
    "duration": 241,
    "start_time": "2022-11-27T17:57:55.588Z"
   },
   {
    "duration": 260,
    "start_time": "2022-11-27T17:57:55.831Z"
   },
   {
    "duration": 8,
    "start_time": "2022-11-27T17:57:56.093Z"
   },
   {
    "duration": 266,
    "start_time": "2022-11-27T17:57:56.102Z"
   },
   {
    "duration": 14,
    "start_time": "2022-11-27T17:57:56.370Z"
   },
   {
    "duration": 238,
    "start_time": "2022-11-27T17:57:56.393Z"
   },
   {
    "duration": 29,
    "start_time": "2022-11-27T17:57:56.634Z"
   },
   {
    "duration": 255,
    "start_time": "2022-11-27T17:57:56.672Z"
   },
   {
    "duration": 28,
    "start_time": "2022-11-27T17:57:56.929Z"
   },
   {
    "duration": 37,
    "start_time": "2022-11-27T17:57:56.963Z"
   },
   {
    "duration": 254,
    "start_time": "2022-11-27T17:57:57.003Z"
   },
   {
    "duration": 254,
    "start_time": "2022-11-27T17:57:57.259Z"
   },
   {
    "duration": 243,
    "start_time": "2022-11-27T17:57:57.515Z"
   },
   {
    "duration": 259,
    "start_time": "2022-11-27T17:57:57.770Z"
   },
   {
    "duration": 310,
    "start_time": "2022-11-27T17:57:58.030Z"
   },
   {
    "duration": 277,
    "start_time": "2022-11-27T17:57:58.342Z"
   },
   {
    "duration": 8,
    "start_time": "2022-11-27T17:57:58.621Z"
   },
   {
    "duration": 370,
    "start_time": "2022-11-27T17:57:58.631Z"
   },
   {
    "duration": 218,
    "start_time": "2022-11-27T17:57:59.010Z"
   },
   {
    "duration": 213,
    "start_time": "2022-11-27T17:57:59.230Z"
   },
   {
    "duration": 28,
    "start_time": "2022-11-27T17:57:59.445Z"
   },
   {
    "duration": 33,
    "start_time": "2022-11-27T17:57:59.488Z"
   },
   {
    "duration": 1162,
    "start_time": "2022-11-28T10:33:13.907Z"
   },
   {
    "duration": 112,
    "start_time": "2022-11-28T10:33:15.071Z"
   },
   {
    "duration": 703,
    "start_time": "2022-11-28T10:33:15.184Z"
   },
   {
    "duration": 3,
    "start_time": "2022-11-28T10:33:15.889Z"
   },
   {
    "duration": 17,
    "start_time": "2022-11-28T10:33:15.894Z"
   },
   {
    "duration": 67,
    "start_time": "2022-11-28T10:33:15.913Z"
   },
   {
    "duration": 7,
    "start_time": "2022-11-28T10:33:15.982Z"
   },
   {
    "duration": 7,
    "start_time": "2022-11-28T10:33:15.990Z"
   },
   {
    "duration": 13,
    "start_time": "2022-11-28T10:33:15.998Z"
   },
   {
    "duration": 25,
    "start_time": "2022-11-28T10:33:16.013Z"
   },
   {
    "duration": 21,
    "start_time": "2022-11-28T10:33:16.040Z"
   },
   {
    "duration": 26,
    "start_time": "2022-11-28T10:33:16.062Z"
   },
   {
    "duration": 4,
    "start_time": "2022-11-28T10:33:16.090Z"
   },
   {
    "duration": 27,
    "start_time": "2022-11-28T10:33:16.097Z"
   },
   {
    "duration": 309,
    "start_time": "2022-11-28T10:33:16.126Z"
   },
   {
    "duration": 7,
    "start_time": "2022-11-28T10:33:16.436Z"
   },
   {
    "duration": 285,
    "start_time": "2022-11-28T10:33:16.444Z"
   },
   {
    "duration": 184,
    "start_time": "2022-11-28T10:33:16.735Z"
   },
   {
    "duration": 197,
    "start_time": "2022-11-28T10:33:16.921Z"
   },
   {
    "duration": 236,
    "start_time": "2022-11-28T10:33:17.119Z"
   },
   {
    "duration": 178,
    "start_time": "2022-11-28T10:33:17.357Z"
   },
   {
    "duration": 170,
    "start_time": "2022-11-28T10:33:17.536Z"
   },
   {
    "duration": 182,
    "start_time": "2022-11-28T10:33:17.707Z"
   },
   {
    "duration": 10,
    "start_time": "2022-11-28T10:33:17.891Z"
   },
   {
    "duration": 173,
    "start_time": "2022-11-28T10:33:17.903Z"
   },
   {
    "duration": 129,
    "start_time": "2022-11-28T10:33:18.077Z"
   },
   {
    "duration": 121,
    "start_time": "2022-11-28T10:33:18.208Z"
   },
   {
    "duration": 128,
    "start_time": "2022-11-28T10:33:18.334Z"
   },
   {
    "duration": 140,
    "start_time": "2022-11-28T10:33:18.464Z"
   },
   {
    "duration": 149,
    "start_time": "2022-11-28T10:33:18.606Z"
   },
   {
    "duration": 116,
    "start_time": "2022-11-28T10:33:18.757Z"
   },
   {
    "duration": 203,
    "start_time": "2022-11-28T10:33:18.875Z"
   },
   {
    "duration": 202,
    "start_time": "2022-11-28T10:33:19.080Z"
   },
   {
    "duration": 11,
    "start_time": "2022-11-28T10:33:19.284Z"
   },
   {
    "duration": 218,
    "start_time": "2022-11-28T10:33:19.297Z"
   },
   {
    "duration": 8,
    "start_time": "2022-11-28T10:33:19.517Z"
   },
   {
    "duration": 221,
    "start_time": "2022-11-28T10:33:19.527Z"
   },
   {
    "duration": 12,
    "start_time": "2022-11-28T10:33:19.751Z"
   },
   {
    "duration": 216,
    "start_time": "2022-11-28T10:33:19.765Z"
   },
   {
    "duration": 9,
    "start_time": "2022-11-28T10:33:19.984Z"
   },
   {
    "duration": 33,
    "start_time": "2022-11-28T10:33:19.997Z"
   },
   {
    "duration": 169,
    "start_time": "2022-11-28T10:33:20.032Z"
   },
   {
    "duration": 160,
    "start_time": "2022-11-28T10:33:20.202Z"
   },
   {
    "duration": 173,
    "start_time": "2022-11-28T10:33:20.364Z"
   },
   {
    "duration": 213,
    "start_time": "2022-11-28T10:33:20.539Z"
   },
   {
    "duration": 225,
    "start_time": "2022-11-28T10:33:20.754Z"
   },
   {
    "duration": 198,
    "start_time": "2022-11-28T10:33:20.981Z"
   },
   {
    "duration": 5,
    "start_time": "2022-11-28T10:33:21.180Z"
   },
   {
    "duration": 245,
    "start_time": "2022-11-28T10:33:21.187Z"
   },
   {
    "duration": 156,
    "start_time": "2022-11-28T10:33:21.433Z"
   },
   {
    "duration": 160,
    "start_time": "2022-11-28T10:33:21.591Z"
   },
   {
    "duration": 8,
    "start_time": "2022-11-28T10:33:21.753Z"
   },
   {
    "duration": 12,
    "start_time": "2022-11-28T10:33:21.763Z"
   },
   {
    "duration": 222,
    "start_time": "2022-11-28T10:46:37.849Z"
   },
   {
    "duration": 1273,
    "start_time": "2022-11-28T11:42:25.380Z"
   },
   {
    "duration": 120,
    "start_time": "2022-11-28T11:42:31.221Z"
   },
   {
    "duration": 883,
    "start_time": "2022-11-28T11:42:34.671Z"
   },
   {
    "duration": 3,
    "start_time": "2022-11-28T11:42:48.915Z"
   },
   {
    "duration": 17,
    "start_time": "2022-11-28T11:42:51.241Z"
   },
   {
    "duration": 56,
    "start_time": "2022-11-28T11:42:57.068Z"
   },
   {
    "duration": 8,
    "start_time": "2022-11-28T11:43:02.821Z"
   },
   {
    "duration": 6,
    "start_time": "2022-11-28T11:43:05.251Z"
   },
   {
    "duration": 12,
    "start_time": "2022-11-28T11:43:09.602Z"
   },
   {
    "duration": 6,
    "start_time": "2022-11-28T11:43:11.855Z"
   },
   {
    "duration": 16,
    "start_time": "2022-11-28T11:43:16.132Z"
   },
   {
    "duration": 14,
    "start_time": "2022-11-28T11:43:19.763Z"
   },
   {
    "duration": 5,
    "start_time": "2022-11-28T11:43:24.361Z"
   },
   {
    "duration": 13,
    "start_time": "2022-11-28T11:43:27.181Z"
   },
   {
    "duration": 347,
    "start_time": "2022-11-28T11:43:35.069Z"
   },
   {
    "duration": 7,
    "start_time": "2022-11-28T11:43:48.714Z"
   },
   {
    "duration": 240,
    "start_time": "2022-11-28T11:43:55.523Z"
   },
   {
    "duration": 265,
    "start_time": "2022-11-28T11:44:08.894Z"
   },
   {
    "duration": 1121,
    "start_time": "2022-11-28T11:46:04.634Z"
   },
   {
    "duration": 2,
    "start_time": "2022-11-28T11:46:59.544Z"
   },
   {
    "duration": 2,
    "start_time": "2022-11-28T11:47:09.863Z"
   },
   {
    "duration": 2,
    "start_time": "2022-11-28T11:47:24.190Z"
   },
   {
    "duration": 2,
    "start_time": "2022-11-28T11:47:36.697Z"
   },
   {
    "duration": 3,
    "start_time": "2022-11-28T11:47:45.956Z"
   },
   {
    "duration": 4,
    "start_time": "2022-11-28T11:47:55.314Z"
   },
   {
    "duration": 17,
    "start_time": "2022-11-28T12:14:54.953Z"
   },
   {
    "duration": 201,
    "start_time": "2022-11-28T12:15:29.011Z"
   },
   {
    "duration": 179,
    "start_time": "2022-11-28T12:27:12.764Z"
   },
   {
    "duration": 197,
    "start_time": "2022-11-28T13:10:14.867Z"
   },
   {
    "duration": 158,
    "start_time": "2022-11-28T13:12:11.822Z"
   },
   {
    "duration": 63,
    "start_time": "2022-11-28T13:12:39.988Z"
   },
   {
    "duration": 151,
    "start_time": "2022-11-28T13:12:59.333Z"
   },
   {
    "duration": 148,
    "start_time": "2022-11-28T13:13:29.799Z"
   },
   {
    "duration": 47,
    "start_time": "2022-11-28T13:13:45.964Z"
   },
   {
    "duration": 240,
    "start_time": "2022-11-28T13:13:58.402Z"
   },
   {
    "duration": 168,
    "start_time": "2022-11-28T13:16:53.811Z"
   },
   {
    "duration": 181,
    "start_time": "2022-11-28T13:17:43.517Z"
   },
   {
    "duration": 164,
    "start_time": "2022-11-28T14:41:19.817Z"
   },
   {
    "duration": 170,
    "start_time": "2022-11-28T14:42:15.334Z"
   },
   {
    "duration": 178,
    "start_time": "2022-11-28T14:43:14.108Z"
   },
   {
    "duration": 207,
    "start_time": "2022-11-28T14:44:14.576Z"
   },
   {
    "duration": 158,
    "start_time": "2022-11-28T14:44:36.060Z"
   },
   {
    "duration": 5,
    "start_time": "2022-11-28T14:46:01.998Z"
   },
   {
    "duration": 174,
    "start_time": "2022-11-28T14:47:04.842Z"
   },
   {
    "duration": 148,
    "start_time": "2022-11-28T14:47:29.323Z"
   },
   {
    "duration": 198,
    "start_time": "2022-11-28T14:48:44.759Z"
   },
   {
    "duration": 284,
    "start_time": "2022-11-28T14:48:56.220Z"
   },
   {
    "duration": 236,
    "start_time": "2022-11-28T14:51:09.498Z"
   },
   {
    "duration": 2,
    "start_time": "2022-11-28T14:52:52.472Z"
   },
   {
    "duration": 3,
    "start_time": "2022-11-28T14:53:22.237Z"
   },
   {
    "duration": 2,
    "start_time": "2022-11-28T14:53:32.581Z"
   },
   {
    "duration": 2,
    "start_time": "2022-11-28T14:53:49.289Z"
   },
   {
    "duration": 2,
    "start_time": "2022-11-28T14:54:01.325Z"
   },
   {
    "duration": 192,
    "start_time": "2022-11-28T14:56:28.200Z"
   },
   {
    "duration": 340,
    "start_time": "2022-11-28T14:57:11.061Z"
   },
   {
    "duration": 264,
    "start_time": "2022-11-28T15:00:07.798Z"
   },
   {
    "duration": 13,
    "start_time": "2022-11-28T15:01:00.904Z"
   },
   {
    "duration": 219,
    "start_time": "2022-11-28T15:01:16.004Z"
   },
   {
    "duration": 233,
    "start_time": "2022-11-28T15:03:43.979Z"
   },
   {
    "duration": 414,
    "start_time": "2022-11-28T15:05:05.340Z"
   },
   {
    "duration": 417,
    "start_time": "2022-11-28T15:05:28.974Z"
   },
   {
    "duration": 313,
    "start_time": "2022-11-28T15:05:59.866Z"
   },
   {
    "duration": 368,
    "start_time": "2022-11-28T15:07:02.655Z"
   },
   {
    "duration": 388,
    "start_time": "2022-11-28T15:07:14.911Z"
   },
   {
    "duration": 233,
    "start_time": "2022-11-28T15:07:39.396Z"
   },
   {
    "duration": 313,
    "start_time": "2022-11-28T15:13:45.047Z"
   },
   {
    "duration": 351,
    "start_time": "2022-11-28T15:13:57.604Z"
   },
   {
    "duration": 266,
    "start_time": "2022-11-28T15:14:19.770Z"
   },
   {
    "duration": 255,
    "start_time": "2022-11-28T15:14:29.806Z"
   },
   {
    "duration": 123,
    "start_time": "2022-11-28T15:25:01.708Z"
   },
   {
    "duration": 221,
    "start_time": "2022-11-28T15:26:06.621Z"
   },
   {
    "duration": 219,
    "start_time": "2022-11-28T15:34:52.725Z"
   },
   {
    "duration": 330,
    "start_time": "2022-11-28T15:35:02.397Z"
   },
   {
    "duration": 270,
    "start_time": "2022-11-28T15:35:21.730Z"
   },
   {
    "duration": 336,
    "start_time": "2022-11-28T15:35:41.416Z"
   },
   {
    "duration": 334,
    "start_time": "2022-11-28T15:36:56.459Z"
   },
   {
    "duration": 234,
    "start_time": "2022-11-28T15:37:13.960Z"
   },
   {
    "duration": 399,
    "start_time": "2022-11-28T15:37:29.371Z"
   },
   {
    "duration": 244,
    "start_time": "2022-11-28T15:37:50.963Z"
   },
   {
    "duration": 230,
    "start_time": "2022-11-28T15:38:52.234Z"
   },
   {
    "duration": 261,
    "start_time": "2022-11-28T15:39:03.766Z"
   },
   {
    "duration": 236,
    "start_time": "2022-11-28T15:39:59.612Z"
   },
   {
    "duration": 342,
    "start_time": "2022-11-28T15:42:28.714Z"
   },
   {
    "duration": 488,
    "start_time": "2022-11-28T15:42:52.312Z"
   },
   {
    "duration": 348,
    "start_time": "2022-11-28T15:43:33.777Z"
   },
   {
    "duration": 347,
    "start_time": "2022-11-28T15:44:20.792Z"
   },
   {
    "duration": 248,
    "start_time": "2022-11-28T15:45:09.794Z"
   },
   {
    "duration": 225,
    "start_time": "2022-11-28T15:48:12.427Z"
   },
   {
    "duration": 221,
    "start_time": "2022-11-28T15:48:37.871Z"
   },
   {
    "duration": 351,
    "start_time": "2022-11-28T15:48:50.915Z"
   },
   {
    "duration": 249,
    "start_time": "2022-11-28T15:49:22.746Z"
   },
   {
    "duration": 116,
    "start_time": "2022-11-28T15:50:01.665Z"
   },
   {
    "duration": 265,
    "start_time": "2022-11-28T15:51:05.439Z"
   },
   {
    "duration": 109,
    "start_time": "2022-11-28T15:53:49.377Z"
   },
   {
    "duration": 124,
    "start_time": "2022-11-28T16:02:33.890Z"
   },
   {
    "duration": 57,
    "start_time": "2022-11-28T16:03:31.246Z"
   },
   {
    "duration": 240,
    "start_time": "2022-11-28T16:03:58.095Z"
   },
   {
    "duration": 422,
    "start_time": "2022-11-28T16:04:13.265Z"
   },
   {
    "duration": 309,
    "start_time": "2022-11-28T16:04:27.439Z"
   },
   {
    "duration": 2,
    "start_time": "2022-11-28T16:05:33.736Z"
   },
   {
    "duration": 2,
    "start_time": "2022-11-28T16:05:48.425Z"
   },
   {
    "duration": 44,
    "start_time": "2022-11-29T07:10:57.457Z"
   },
   {
    "duration": 152,
    "start_time": "2022-11-29T07:24:59.338Z"
   },
   {
    "duration": 7,
    "start_time": "2022-11-29T07:25:19.128Z"
   },
   {
    "duration": 157,
    "start_time": "2022-11-29T07:28:55.121Z"
   },
   {
    "duration": 164,
    "start_time": "2022-11-29T07:29:26.211Z"
   },
   {
    "duration": 8,
    "start_time": "2022-11-29T07:29:33.820Z"
   },
   {
    "duration": 1223,
    "start_time": "2022-11-29T07:29:54.595Z"
   },
   {
    "duration": 74,
    "start_time": "2022-11-29T07:29:55.820Z"
   },
   {
    "duration": 702,
    "start_time": "2022-11-29T07:29:55.898Z"
   },
   {
    "duration": 4,
    "start_time": "2022-11-29T07:29:56.602Z"
   },
   {
    "duration": 20,
    "start_time": "2022-11-29T07:29:56.608Z"
   },
   {
    "duration": 71,
    "start_time": "2022-11-29T07:29:56.630Z"
   },
   {
    "duration": 8,
    "start_time": "2022-11-29T07:29:56.702Z"
   },
   {
    "duration": 7,
    "start_time": "2022-11-29T07:29:56.711Z"
   },
   {
    "duration": 13,
    "start_time": "2022-11-29T07:29:56.720Z"
   },
   {
    "duration": 5,
    "start_time": "2022-11-29T07:29:56.735Z"
   },
   {
    "duration": 18,
    "start_time": "2022-11-29T07:29:56.741Z"
   },
   {
    "duration": 32,
    "start_time": "2022-11-29T07:29:56.760Z"
   },
   {
    "duration": 4,
    "start_time": "2022-11-29T07:29:56.795Z"
   },
   {
    "duration": 14,
    "start_time": "2022-11-29T07:29:56.801Z"
   },
   {
    "duration": 321,
    "start_time": "2022-11-29T07:29:56.816Z"
   },
   {
    "duration": 6,
    "start_time": "2022-11-29T07:29:57.139Z"
   },
   {
    "duration": 231,
    "start_time": "2022-11-29T07:29:57.146Z"
   },
   {
    "duration": 877,
    "start_time": "2022-11-29T07:29:57.378Z"
   },
   {
    "duration": 2,
    "start_time": "2022-11-29T07:29:58.257Z"
   },
   {
    "duration": 5,
    "start_time": "2022-11-29T07:29:58.261Z"
   },
   {
    "duration": 12,
    "start_time": "2022-11-29T07:29:58.267Z"
   },
   {
    "duration": 5,
    "start_time": "2022-11-29T07:29:58.282Z"
   },
   {
    "duration": 9,
    "start_time": "2022-11-29T07:29:58.289Z"
   },
   {
    "duration": 9,
    "start_time": "2022-11-29T07:29:58.299Z"
   },
   {
    "duration": 14,
    "start_time": "2022-11-29T07:29:58.309Z"
   },
   {
    "duration": 163,
    "start_time": "2022-11-29T07:29:58.325Z"
   },
   {
    "duration": 6,
    "start_time": "2022-11-29T07:29:58.491Z"
   },
   {
    "duration": 232,
    "start_time": "2022-11-29T07:29:58.501Z"
   },
   {
    "duration": 2,
    "start_time": "2022-11-29T07:29:58.735Z"
   },
   {
    "duration": 5,
    "start_time": "2022-11-29T07:29:58.739Z"
   },
   {
    "duration": 5,
    "start_time": "2022-11-29T07:29:58.745Z"
   },
   {
    "duration": 13,
    "start_time": "2022-11-29T07:29:58.751Z"
   },
   {
    "duration": 4,
    "start_time": "2022-11-29T07:29:58.766Z"
   },
   {
    "duration": 9,
    "start_time": "2022-11-29T07:29:58.771Z"
   },
   {
    "duration": 10,
    "start_time": "2022-11-29T07:29:58.782Z"
   },
   {
    "duration": 6,
    "start_time": "2022-11-29T07:29:58.794Z"
   },
   {
    "duration": 316,
    "start_time": "2022-11-29T07:29:58.802Z"
   },
   {
    "duration": 196,
    "start_time": "2022-11-29T07:29:59.119Z"
   },
   {
    "duration": 6,
    "start_time": "2022-11-29T07:29:59.317Z"
   },
   {
    "duration": 198,
    "start_time": "2022-11-29T07:29:59.324Z"
   },
   {
    "duration": 7,
    "start_time": "2022-11-29T07:29:59.523Z"
   },
   {
    "duration": 274,
    "start_time": "2022-11-29T07:29:59.531Z"
   },
   {
    "duration": 7,
    "start_time": "2022-11-29T07:29:59.807Z"
   },
   {
    "duration": 188,
    "start_time": "2022-11-29T07:29:59.815Z"
   },
   {
    "duration": 8,
    "start_time": "2022-11-29T07:30:00.006Z"
   },
   {
    "duration": 208,
    "start_time": "2022-11-29T07:30:00.016Z"
   },
   {
    "duration": 7,
    "start_time": "2022-11-29T07:30:00.226Z"
   },
   {
    "duration": 196,
    "start_time": "2022-11-29T07:30:00.235Z"
   },
   {
    "duration": 7,
    "start_time": "2022-11-29T07:30:00.433Z"
   },
   {
    "duration": 233,
    "start_time": "2022-11-29T07:30:00.441Z"
   },
   {
    "duration": 11,
    "start_time": "2022-11-29T07:30:00.676Z"
   },
   {
    "duration": 203,
    "start_time": "2022-11-29T07:30:00.690Z"
   },
   {
    "duration": 7,
    "start_time": "2022-11-29T07:30:00.896Z"
   },
   {
    "duration": 27,
    "start_time": "2022-11-29T07:30:00.906Z"
   },
   {
    "duration": 207,
    "start_time": "2022-11-29T07:30:00.935Z"
   },
   {
    "duration": 180,
    "start_time": "2022-11-29T07:30:01.144Z"
   },
   {
    "duration": 158,
    "start_time": "2022-11-29T07:30:01.326Z"
   },
   {
    "duration": 202,
    "start_time": "2022-11-29T07:30:01.486Z"
   },
   {
    "duration": 191,
    "start_time": "2022-11-29T07:30:01.690Z"
   },
   {
    "duration": 239,
    "start_time": "2022-11-29T07:30:01.884Z"
   },
   {
    "duration": 5,
    "start_time": "2022-11-29T07:30:02.124Z"
   },
   {
    "duration": 238,
    "start_time": "2022-11-29T07:30:02.130Z"
   },
   {
    "duration": 148,
    "start_time": "2022-11-29T07:30:02.370Z"
   },
   {
    "duration": 146,
    "start_time": "2022-11-29T07:30:02.519Z"
   },
   {
    "duration": 16,
    "start_time": "2022-11-29T07:30:02.666Z"
   },
   {
    "duration": 13,
    "start_time": "2022-11-29T07:30:02.685Z"
   },
   {
    "duration": 24,
    "start_time": "2022-11-29T08:55:04.378Z"
   },
   {
    "duration": 8,
    "start_time": "2022-11-29T08:56:32.176Z"
   },
   {
    "duration": 9,
    "start_time": "2022-11-29T08:56:54.073Z"
   },
   {
    "duration": 115,
    "start_time": "2022-11-29T08:58:02.724Z"
   },
   {
    "duration": 12,
    "start_time": "2022-11-29T09:11:03.387Z"
   },
   {
    "duration": 7,
    "start_time": "2022-11-29T09:11:25.995Z"
   },
   {
    "duration": 6,
    "start_time": "2022-11-29T09:11:39.830Z"
   },
   {
    "duration": 16,
    "start_time": "2022-11-29T09:13:14.990Z"
   },
   {
    "duration": 12,
    "start_time": "2022-11-29T09:13:35.319Z"
   },
   {
    "duration": 182,
    "start_time": "2022-11-29T09:21:41.721Z"
   },
   {
    "duration": 212,
    "start_time": "2022-11-29T09:23:03.873Z"
   },
   {
    "duration": 188,
    "start_time": "2022-11-29T09:24:19.153Z"
   },
   {
    "duration": 150,
    "start_time": "2022-11-29T09:24:27.110Z"
   },
   {
    "duration": 192,
    "start_time": "2022-11-29T09:24:32.143Z"
   },
   {
    "duration": 200,
    "start_time": "2022-11-29T09:24:36.421Z"
   },
   {
    "duration": 164,
    "start_time": "2022-11-29T09:24:40.248Z"
   },
   {
    "duration": 1186,
    "start_time": "2022-11-29T11:47:02.605Z"
   },
   {
    "duration": 71,
    "start_time": "2022-11-29T11:47:03.794Z"
   },
   {
    "duration": 873,
    "start_time": "2022-11-29T11:47:03.866Z"
   },
   {
    "duration": 3,
    "start_time": "2022-11-29T11:47:04.741Z"
   },
   {
    "duration": 63,
    "start_time": "2022-11-29T11:47:04.745Z"
   },
   {
    "duration": 48,
    "start_time": "2022-11-29T11:47:04.809Z"
   },
   {
    "duration": 7,
    "start_time": "2022-11-29T11:47:04.859Z"
   },
   {
    "duration": 12,
    "start_time": "2022-11-29T11:47:04.868Z"
   },
   {
    "duration": 18,
    "start_time": "2022-11-29T11:47:04.883Z"
   },
   {
    "duration": 9,
    "start_time": "2022-11-29T11:47:04.904Z"
   },
   {
    "duration": 22,
    "start_time": "2022-11-29T11:47:04.915Z"
   },
   {
    "duration": 40,
    "start_time": "2022-11-29T11:47:04.939Z"
   },
   {
    "duration": 7,
    "start_time": "2022-11-29T11:47:04.981Z"
   },
   {
    "duration": 27,
    "start_time": "2022-11-29T11:47:04.990Z"
   },
   {
    "duration": 320,
    "start_time": "2022-11-29T11:47:05.019Z"
   },
   {
    "duration": 7,
    "start_time": "2022-11-29T11:47:05.341Z"
   },
   {
    "duration": 253,
    "start_time": "2022-11-29T11:47:05.349Z"
   },
   {
    "duration": 926,
    "start_time": "2022-11-29T11:47:05.604Z"
   },
   {
    "duration": 2,
    "start_time": "2022-11-29T11:47:06.531Z"
   },
   {
    "duration": 11,
    "start_time": "2022-11-29T11:47:06.534Z"
   },
   {
    "duration": 5,
    "start_time": "2022-11-29T11:47:06.546Z"
   },
   {
    "duration": 5,
    "start_time": "2022-11-29T11:47:06.552Z"
   },
   {
    "duration": 5,
    "start_time": "2022-11-29T11:47:06.558Z"
   },
   {
    "duration": 13,
    "start_time": "2022-11-29T11:47:06.565Z"
   },
   {
    "duration": 18,
    "start_time": "2022-11-29T11:47:06.580Z"
   },
   {
    "duration": 178,
    "start_time": "2022-11-29T11:47:06.600Z"
   },
   {
    "duration": 6,
    "start_time": "2022-11-29T11:47:06.780Z"
   },
   {
    "duration": 273,
    "start_time": "2022-11-29T11:47:06.792Z"
   },
   {
    "duration": 3,
    "start_time": "2022-11-29T11:47:07.066Z"
   },
   {
    "duration": 15,
    "start_time": "2022-11-29T11:47:07.070Z"
   },
   {
    "duration": 7,
    "start_time": "2022-11-29T11:47:07.087Z"
   },
   {
    "duration": 6,
    "start_time": "2022-11-29T11:47:07.096Z"
   },
   {
    "duration": 5,
    "start_time": "2022-11-29T11:47:07.104Z"
   },
   {
    "duration": 5,
    "start_time": "2022-11-29T11:47:07.110Z"
   },
   {
    "duration": 9,
    "start_time": "2022-11-29T11:47:07.116Z"
   },
   {
    "duration": 5,
    "start_time": "2022-11-29T11:47:07.126Z"
   },
   {
    "duration": 357,
    "start_time": "2022-11-29T11:47:07.132Z"
   },
   {
    "duration": 175,
    "start_time": "2022-11-29T11:47:07.492Z"
   },
   {
    "duration": 15,
    "start_time": "2022-11-29T11:47:07.668Z"
   },
   {
    "duration": 175,
    "start_time": "2022-11-29T11:47:07.686Z"
   },
   {
    "duration": 18,
    "start_time": "2022-11-29T11:47:07.863Z"
   },
   {
    "duration": 273,
    "start_time": "2022-11-29T11:47:07.884Z"
   },
   {
    "duration": 6,
    "start_time": "2022-11-29T11:47:08.159Z"
   },
   {
    "duration": 197,
    "start_time": "2022-11-29T11:47:08.166Z"
   },
   {
    "duration": 6,
    "start_time": "2022-11-29T11:47:08.365Z"
   },
   {
    "duration": 174,
    "start_time": "2022-11-29T11:47:08.377Z"
   },
   {
    "duration": 6,
    "start_time": "2022-11-29T11:47:08.553Z"
   },
   {
    "duration": 183,
    "start_time": "2022-11-29T11:47:08.577Z"
   },
   {
    "duration": 6,
    "start_time": "2022-11-29T11:47:08.762Z"
   },
   {
    "duration": 200,
    "start_time": "2022-11-29T11:47:08.778Z"
   },
   {
    "duration": 9,
    "start_time": "2022-11-29T11:47:08.981Z"
   },
   {
    "duration": 212,
    "start_time": "2022-11-29T11:47:08.992Z"
   },
   {
    "duration": 6,
    "start_time": "2022-11-29T11:47:09.206Z"
   },
   {
    "duration": 13,
    "start_time": "2022-11-29T11:47:09.214Z"
   },
   {
    "duration": 6,
    "start_time": "2022-11-29T11:47:09.228Z"
   },
   {
    "duration": 205,
    "start_time": "2022-11-29T11:47:09.235Z"
   },
   {
    "duration": 164,
    "start_time": "2022-11-29T11:47:09.442Z"
   },
   {
    "duration": 150,
    "start_time": "2022-11-29T11:47:09.608Z"
   },
   {
    "duration": 186,
    "start_time": "2022-11-29T11:47:09.760Z"
   },
   {
    "duration": 196,
    "start_time": "2022-11-29T11:47:09.948Z"
   },
   {
    "duration": 174,
    "start_time": "2022-11-29T11:47:10.145Z"
   },
   {
    "duration": 5,
    "start_time": "2022-11-29T11:47:10.320Z"
   },
   {
    "duration": 252,
    "start_time": "2022-11-29T11:47:10.326Z"
   },
   {
    "duration": 151,
    "start_time": "2022-11-29T11:47:10.580Z"
   },
   {
    "duration": 147,
    "start_time": "2022-11-29T11:47:10.733Z"
   },
   {
    "duration": 14,
    "start_time": "2022-11-29T11:47:10.883Z"
   },
   {
    "duration": 12,
    "start_time": "2022-11-29T11:47:10.899Z"
   },
   {
    "duration": 1068,
    "start_time": "2022-11-29T19:44:29.538Z"
   },
   {
    "duration": 105,
    "start_time": "2022-11-29T19:44:30.608Z"
   },
   {
    "duration": 690,
    "start_time": "2022-11-29T19:44:30.714Z"
   },
   {
    "duration": 3,
    "start_time": "2022-11-29T19:44:31.405Z"
   },
   {
    "duration": 24,
    "start_time": "2022-11-29T19:44:31.410Z"
   },
   {
    "duration": 51,
    "start_time": "2022-11-29T19:44:31.435Z"
   },
   {
    "duration": 6,
    "start_time": "2022-11-29T19:44:31.488Z"
   },
   {
    "duration": 19,
    "start_time": "2022-11-29T19:44:31.495Z"
   },
   {
    "duration": 13,
    "start_time": "2022-11-29T19:44:31.515Z"
   },
   {
    "duration": 5,
    "start_time": "2022-11-29T19:44:31.531Z"
   },
   {
    "duration": 31,
    "start_time": "2022-11-29T19:44:31.537Z"
   },
   {
    "duration": 20,
    "start_time": "2022-11-29T19:44:31.570Z"
   },
   {
    "duration": 17,
    "start_time": "2022-11-29T19:44:31.592Z"
   },
   {
    "duration": 62,
    "start_time": "2022-11-29T19:44:31.611Z"
   },
   {
    "duration": 272,
    "start_time": "2022-11-29T19:44:31.675Z"
   },
   {
    "duration": 6,
    "start_time": "2022-11-29T19:44:31.949Z"
   },
   {
    "duration": 258,
    "start_time": "2022-11-29T19:44:31.957Z"
   },
   {
    "duration": 837,
    "start_time": "2022-11-29T19:44:32.217Z"
   },
   {
    "duration": 3,
    "start_time": "2022-11-29T19:44:33.055Z"
   },
   {
    "duration": 6,
    "start_time": "2022-11-29T19:44:33.059Z"
   },
   {
    "duration": 6,
    "start_time": "2022-11-29T19:44:33.067Z"
   },
   {
    "duration": 5,
    "start_time": "2022-11-29T19:44:33.075Z"
   },
   {
    "duration": 8,
    "start_time": "2022-11-29T19:44:33.081Z"
   },
   {
    "duration": 5,
    "start_time": "2022-11-29T19:44:33.091Z"
   },
   {
    "duration": 12,
    "start_time": "2022-11-29T19:44:33.097Z"
   },
   {
    "duration": 160,
    "start_time": "2022-11-29T19:44:33.110Z"
   },
   {
    "duration": 4,
    "start_time": "2022-11-29T19:44:33.272Z"
   },
   {
    "duration": 223,
    "start_time": "2022-11-29T19:44:33.280Z"
   },
   {
    "duration": 2,
    "start_time": "2022-11-29T19:44:33.504Z"
   },
   {
    "duration": 8,
    "start_time": "2022-11-29T19:44:33.508Z"
   },
   {
    "duration": 7,
    "start_time": "2022-11-29T19:44:33.521Z"
   },
   {
    "duration": 7,
    "start_time": "2022-11-29T19:44:33.529Z"
   },
   {
    "duration": 8,
    "start_time": "2022-11-29T19:44:33.537Z"
   },
   {
    "duration": 6,
    "start_time": "2022-11-29T19:44:33.546Z"
   },
   {
    "duration": 4,
    "start_time": "2022-11-29T19:44:33.553Z"
   },
   {
    "duration": 5,
    "start_time": "2022-11-29T19:44:33.558Z"
   },
   {
    "duration": 293,
    "start_time": "2022-11-29T19:44:33.564Z"
   },
   {
    "duration": 165,
    "start_time": "2022-11-29T19:44:33.859Z"
   },
   {
    "duration": 6,
    "start_time": "2022-11-29T19:44:34.025Z"
   },
   {
    "duration": 174,
    "start_time": "2022-11-29T19:44:34.033Z"
   },
   {
    "duration": 13,
    "start_time": "2022-11-29T19:44:34.208Z"
   },
   {
    "duration": 236,
    "start_time": "2022-11-29T19:44:34.222Z"
   },
   {
    "duration": 6,
    "start_time": "2022-11-29T19:44:34.460Z"
   },
   {
    "duration": 178,
    "start_time": "2022-11-29T19:44:34.467Z"
   },
   {
    "duration": 8,
    "start_time": "2022-11-29T19:44:34.646Z"
   },
   {
    "duration": 158,
    "start_time": "2022-11-29T19:44:34.655Z"
   },
   {
    "duration": 10,
    "start_time": "2022-11-29T19:44:34.814Z"
   },
   {
    "duration": 167,
    "start_time": "2022-11-29T19:44:34.826Z"
   },
   {
    "duration": 6,
    "start_time": "2022-11-29T19:44:34.995Z"
   },
   {
    "duration": 162,
    "start_time": "2022-11-29T19:44:35.002Z"
   },
   {
    "duration": 5,
    "start_time": "2022-11-29T19:44:35.165Z"
   },
   {
    "duration": 158,
    "start_time": "2022-11-29T19:44:35.172Z"
   },
   {
    "duration": 6,
    "start_time": "2022-11-29T19:44:35.332Z"
   },
   {
    "duration": 16,
    "start_time": "2022-11-29T19:44:35.339Z"
   },
   {
    "duration": 5,
    "start_time": "2022-11-29T19:44:35.356Z"
   },
   {
    "duration": 211,
    "start_time": "2022-11-29T19:44:35.363Z"
   },
   {
    "duration": 162,
    "start_time": "2022-11-29T19:44:35.576Z"
   },
   {
    "duration": 149,
    "start_time": "2022-11-29T19:44:35.739Z"
   },
   {
    "duration": 177,
    "start_time": "2022-11-29T19:44:35.890Z"
   },
   {
    "duration": 182,
    "start_time": "2022-11-29T19:44:36.068Z"
   },
   {
    "duration": 169,
    "start_time": "2022-11-29T19:44:36.252Z"
   },
   {
    "duration": 4,
    "start_time": "2022-11-29T19:44:36.423Z"
   },
   {
    "duration": 222,
    "start_time": "2022-11-29T19:44:36.428Z"
   },
   {
    "duration": 132,
    "start_time": "2022-11-29T19:44:36.652Z"
   },
   {
    "duration": 130,
    "start_time": "2022-11-29T19:44:36.786Z"
   },
   {
    "duration": 11,
    "start_time": "2022-11-29T19:44:36.917Z"
   },
   {
    "duration": 12,
    "start_time": "2022-11-29T19:44:36.929Z"
   },
   {
    "duration": 240,
    "start_time": "2022-11-29T19:47:04.687Z"
   },
   {
    "duration": 43,
    "start_time": "2022-11-30T02:23:06.627Z"
   },
   {
    "duration": 1270,
    "start_time": "2022-11-30T02:23:16.589Z"
   },
   {
    "duration": 118,
    "start_time": "2022-11-30T02:23:17.862Z"
   },
   {
    "duration": 694,
    "start_time": "2022-11-30T02:23:17.982Z"
   },
   {
    "duration": 2,
    "start_time": "2022-11-30T02:23:18.679Z"
   },
   {
    "duration": 16,
    "start_time": "2022-11-30T02:23:18.683Z"
   },
   {
    "duration": 73,
    "start_time": "2022-11-30T02:23:18.701Z"
   },
   {
    "duration": 6,
    "start_time": "2022-11-30T02:23:18.776Z"
   },
   {
    "duration": 4,
    "start_time": "2022-11-30T02:23:18.784Z"
   },
   {
    "duration": 11,
    "start_time": "2022-11-30T02:23:18.790Z"
   },
   {
    "duration": 24,
    "start_time": "2022-11-30T02:23:18.804Z"
   },
   {
    "duration": 49,
    "start_time": "2022-11-30T02:23:18.830Z"
   },
   {
    "duration": 21,
    "start_time": "2022-11-30T02:23:18.881Z"
   },
   {
    "duration": 6,
    "start_time": "2022-11-30T02:23:18.904Z"
   },
   {
    "duration": 21,
    "start_time": "2022-11-30T02:23:18.912Z"
   },
   {
    "duration": 306,
    "start_time": "2022-11-30T02:23:18.935Z"
   },
   {
    "duration": 6,
    "start_time": "2022-11-30T02:23:19.242Z"
   },
   {
    "duration": 227,
    "start_time": "2022-11-30T02:23:19.250Z"
   },
   {
    "duration": 849,
    "start_time": "2022-11-30T02:23:19.479Z"
   },
   {
    "duration": 2,
    "start_time": "2022-11-30T02:23:20.330Z"
   },
   {
    "duration": 9,
    "start_time": "2022-11-30T02:23:20.334Z"
   },
   {
    "duration": 7,
    "start_time": "2022-11-30T02:23:20.344Z"
   },
   {
    "duration": 41,
    "start_time": "2022-11-30T02:23:20.353Z"
   },
   {
    "duration": 8,
    "start_time": "2022-11-30T02:23:20.395Z"
   },
   {
    "duration": 6,
    "start_time": "2022-11-30T02:23:20.405Z"
   },
   {
    "duration": 11,
    "start_time": "2022-11-30T02:23:20.413Z"
   },
   {
    "duration": 153,
    "start_time": "2022-11-30T02:23:20.426Z"
   },
   {
    "duration": 5,
    "start_time": "2022-11-30T02:23:20.581Z"
   },
   {
    "duration": 229,
    "start_time": "2022-11-30T02:23:20.589Z"
   },
   {
    "duration": 2,
    "start_time": "2022-11-30T02:23:20.821Z"
   },
   {
    "duration": 5,
    "start_time": "2022-11-30T02:23:20.824Z"
   },
   {
    "duration": 6,
    "start_time": "2022-11-30T02:23:20.831Z"
   },
   {
    "duration": 4,
    "start_time": "2022-11-30T02:23:20.838Z"
   },
   {
    "duration": 4,
    "start_time": "2022-11-30T02:23:20.844Z"
   },
   {
    "duration": 284,
    "start_time": "2022-11-30T02:23:20.849Z"
   },
   {
    "duration": 3,
    "start_time": "2022-11-30T02:23:21.134Z"
   },
   {
    "duration": 41,
    "start_time": "2022-11-30T02:23:21.138Z"
   },
   {
    "duration": 13,
    "start_time": "2022-11-30T02:23:21.180Z"
   },
   {
    "duration": 282,
    "start_time": "2022-11-30T02:23:21.194Z"
   },
   {
    "duration": 184,
    "start_time": "2022-11-30T02:23:21.478Z"
   },
   {
    "duration": 6,
    "start_time": "2022-11-30T02:23:21.663Z"
   },
   {
    "duration": 263,
    "start_time": "2022-11-30T02:23:21.671Z"
   },
   {
    "duration": 7,
    "start_time": "2022-11-30T02:23:21.935Z"
   },
   {
    "duration": 171,
    "start_time": "2022-11-30T02:23:21.943Z"
   },
   {
    "duration": 8,
    "start_time": "2022-11-30T02:23:22.116Z"
   },
   {
    "duration": 174,
    "start_time": "2022-11-30T02:23:22.125Z"
   },
   {
    "duration": 7,
    "start_time": "2022-11-30T02:23:22.300Z"
   },
   {
    "duration": 172,
    "start_time": "2022-11-30T02:23:22.308Z"
   },
   {
    "duration": 6,
    "start_time": "2022-11-30T02:23:22.482Z"
   },
   {
    "duration": 173,
    "start_time": "2022-11-30T02:23:22.489Z"
   },
   {
    "duration": 6,
    "start_time": "2022-11-30T02:23:22.664Z"
   },
   {
    "duration": 175,
    "start_time": "2022-11-30T02:23:22.671Z"
   },
   {
    "duration": 9,
    "start_time": "2022-11-30T02:23:22.847Z"
   },
   {
    "duration": 173,
    "start_time": "2022-11-30T02:23:22.857Z"
   },
   {
    "duration": 6,
    "start_time": "2022-11-30T02:23:23.032Z"
   },
   {
    "duration": 16,
    "start_time": "2022-11-30T02:23:23.039Z"
   },
   {
    "duration": 5,
    "start_time": "2022-11-30T02:23:23.057Z"
   },
   {
    "duration": 178,
    "start_time": "2022-11-30T02:23:23.064Z"
   },
   {
    "duration": 169,
    "start_time": "2022-11-30T02:23:23.244Z"
   },
   {
    "duration": 154,
    "start_time": "2022-11-30T02:23:23.420Z"
   },
   {
    "duration": 180,
    "start_time": "2022-11-30T02:23:23.576Z"
   },
   {
    "duration": 180,
    "start_time": "2022-11-30T02:23:23.757Z"
   },
   {
    "duration": 254,
    "start_time": "2022-11-30T02:23:23.938Z"
   },
   {
    "duration": 5,
    "start_time": "2022-11-30T02:23:24.194Z"
   },
   {
    "duration": 152,
    "start_time": "2022-11-30T02:23:24.201Z"
   },
   {
    "duration": 140,
    "start_time": "2022-11-30T02:23:24.355Z"
   },
   {
    "duration": 144,
    "start_time": "2022-11-30T02:23:24.497Z"
   },
   {
    "duration": 8,
    "start_time": "2022-11-30T02:23:24.642Z"
   },
   {
    "duration": 12,
    "start_time": "2022-11-30T02:23:24.652Z"
   }
  ],
  "kernelspec": {
   "display_name": "Python 3 (ipykernel)",
   "language": "python",
   "name": "python3"
  },
  "language_info": {
   "codemirror_mode": {
    "name": "ipython",
    "version": 3
   },
   "file_extension": ".py",
   "mimetype": "text/x-python",
   "name": "python",
   "nbconvert_exporter": "python",
   "pygments_lexer": "ipython3",
   "version": "3.9.16"
  },
  "toc": {
   "base_numbering": 1,
   "nav_menu": {},
   "number_sections": true,
   "sideBar": true,
   "skip_h1_title": true,
   "title_cell": "Table of Contents",
   "title_sidebar": "Contents",
   "toc_cell": false,
   "toc_position": {},
   "toc_section_display": true,
   "toc_window_display": false
  }
 },
 "nbformat": 4,
 "nbformat_minor": 2
}
