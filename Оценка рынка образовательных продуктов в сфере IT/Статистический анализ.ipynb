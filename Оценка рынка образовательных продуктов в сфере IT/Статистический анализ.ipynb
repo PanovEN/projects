{
  "nbformat": 4,
  "nbformat_minor": 0,
  "metadata": {
    "colab": {
      "provenance": [],
      "toc_visible": true
    },
    "kernelspec": {
      "name": "python3",
      "display_name": "Python 3"
    },
    "language_info": {
      "name": "python"
    }
  },
  "cells": [
    {
      "cell_type": "code",
      "execution_count": null,
      "metadata": {
        "id": "mJk1tJtWEgyD"
      },
      "outputs": [],
      "source": [
        "%matplotlib inline\n",
        "import numpy as np\n",
        "import pandas as pd\n",
        "import matplotlib.pyplot as plt\n",
        "import scipy\n",
        "import scipy.stats as stats\n",
        "import seaborn as sns\n",
        "import sklearn.linear_model as lm\n",
        "import statsmodels.api as sm\n",
        "import statsmodels.formula.api as smf\n",
        "\n",
        "pd.options.display.max_rows = 8"
      ]
    },
    {
      "cell_type": "code",
      "source": [
        "# Загружаем Датасеты\n",
        "# https://docs.google.com/spreadsheets/d/1ABaaInGbLjAaMwX3KdgpP-_QDkCn7n1d/edit?usp=sharing&ouid=102462001326798095568&rtpof=true&sd=true\n",
        "!gdown --id 1ABaaInGbLjAaMwX3KdgpP-_QDkCn7n1d\n",
        "!pip install -q xlrd\n",
        "df = pd.read_excel(\"filtered_data.xlsx\")\n",
        "# https://docs.google.com/spreadsheets/d/1-3uZ6xivZ6Oo_6u-Ho-h3gsx6HRzr_E-/edit?usp=sharing&ouid=102462001326798095568&rtpof=true&sd=true\n",
        "!gdown --id 1-3uZ6xivZ6Oo_6u-Ho-h3gsx6HRzr_E-\n",
        "sk = pd.read_excel(\"skill_salary.xlsx\")\n",
        "# https://docs.google.com/spreadsheets/d/1-6CduQWv3d8S-vrC2A7pMHXfUj0JJN2i/edit?usp=sharing&ouid=102462001326798095568&rtpof=true&sd=true\n",
        "!gdown --id 1-6CduQWv3d8S-vrC2A7pMHXfUj0JJN2i\n",
        "sp = pd.read_excel(\"spec_salary.xlsx\")"
      ],
      "metadata": {
        "id": "vp3vfvKgWFN0",
        "colab": {
          "base_uri": "https://localhost:8080/"
        },
        "outputId": "22e0ee00-95a9-41d6-9231-2cc8afd55d0c"
      },
      "execution_count": null,
      "outputs": [
        {
          "output_type": "stream",
          "name": "stdout",
          "text": [
            "/usr/local/lib/python3.7/dist-packages/gdown/cli.py:131: FutureWarning: Option `--id` was deprecated in version 4.3.1 and will be removed in 5.0. You don't need to pass it anymore to use a file ID.\n",
            "  category=FutureWarning,\n",
            "Downloading...\n",
            "From: https://drive.google.com/uc?id=1ABaaInGbLjAaMwX3KdgpP-_QDkCn7n1d\n",
            "To: /content/filtered_data.xlsx\n",
            "100% 47.4M/47.4M [00:00<00:00, 69.7MB/s]\n",
            "/usr/local/lib/python3.7/dist-packages/gdown/cli.py:131: FutureWarning: Option `--id` was deprecated in version 4.3.1 and will be removed in 5.0. You don't need to pass it anymore to use a file ID.\n",
            "  category=FutureWarning,\n",
            "Downloading...\n",
            "From: https://drive.google.com/uc?id=1-3uZ6xivZ6Oo_6u-Ho-h3gsx6HRzr_E-\n",
            "To: /content/skill_salary.xlsx\n",
            "100% 5.00M/5.00M [00:00<00:00, 246MB/s]\n",
            "/usr/local/lib/python3.7/dist-packages/gdown/cli.py:131: FutureWarning: Option `--id` was deprecated in version 4.3.1 and will be removed in 5.0. You don't need to pass it anymore to use a file ID.\n",
            "  category=FutureWarning,\n",
            "Downloading...\n",
            "From: https://drive.google.com/uc?id=1-6CduQWv3d8S-vrC2A7pMHXfUj0JJN2i\n",
            "To: /content/spec_salary.xlsx\n",
            "100% 2.96M/2.96M [00:00<00:00, 59.6MB/s]\n"
          ]
        }
      ]
    },
    {
      "cell_type": "code",
      "source": [],
      "metadata": {
        "id": "16OvQM4MHyYZ"
      },
      "execution_count": null,
      "outputs": []
    },
    {
      "cell_type": "markdown",
      "source": [
        "# 1. Структурируем данные"
      ],
      "metadata": {
        "id": "mdos7guCHT0o"
      }
    },
    {
      "cell_type": "code",
      "source": [
        "df.sample()"
      ],
      "metadata": {
        "colab": {
          "base_uri": "https://localhost:8080/",
          "height": 232
        },
        "id": "rXSH8RqIHR-Z",
        "outputId": "b05f5a9c-d066-4428-a8c8-4e681dec3a01"
      },
      "execution_count": null,
      "outputs": [
        {
          "output_type": "execute_result",
          "data": {
            "text/plain": [
              "       Столбец1        id                                               name  \\\n",
              "12380     20955  52437097  Специалист / Ведущий специалист по информацион...   \n",
              "\n",
              "            schedule   experience  region  salary_from  \\\n",
              "12380  'Полный день'  'Нет опыта'  Москва          NaN   \n",
              "\n",
              "                                         key_skills_list  \\\n",
              "12380  ['информационная безопасность', 'аудит безопас...   \n",
              "\n",
              "                                    specializations_list  \\\n",
              "12380  ['компьютерная безопасность', 'сетевые техноло...   \n",
              "\n",
              "                                        description_list    city       date  \\\n",
              "12380  Род занятий: Реализация консалтинговых проекто...  Москва 2022-04-13   \n",
              "\n",
              "                                             requirement  \\\n",
              "12380  Опыт выполнения работ по аудиту и консалтингу ...   \n",
              "\n",
              "                                          responsibility  \n",
              "12380  Проведение аудитов ИБ, разработка рекомендаций...  "
            ],
            "text/html": [
              "\n",
              "  <div id=\"df-173ab14a-2ab6-4162-979b-6b941e4a477f\">\n",
              "    <div class=\"colab-df-container\">\n",
              "      <div>\n",
              "<style scoped>\n",
              "    .dataframe tbody tr th:only-of-type {\n",
              "        vertical-align: middle;\n",
              "    }\n",
              "\n",
              "    .dataframe tbody tr th {\n",
              "        vertical-align: top;\n",
              "    }\n",
              "\n",
              "    .dataframe thead th {\n",
              "        text-align: right;\n",
              "    }\n",
              "</style>\n",
              "<table border=\"1\" class=\"dataframe\">\n",
              "  <thead>\n",
              "    <tr style=\"text-align: right;\">\n",
              "      <th></th>\n",
              "      <th>Столбец1</th>\n",
              "      <th>id</th>\n",
              "      <th>name</th>\n",
              "      <th>schedule</th>\n",
              "      <th>experience</th>\n",
              "      <th>region</th>\n",
              "      <th>salary_from</th>\n",
              "      <th>key_skills_list</th>\n",
              "      <th>specializations_list</th>\n",
              "      <th>description_list</th>\n",
              "      <th>city</th>\n",
              "      <th>date</th>\n",
              "      <th>requirement</th>\n",
              "      <th>responsibility</th>\n",
              "    </tr>\n",
              "  </thead>\n",
              "  <tbody>\n",
              "    <tr>\n",
              "      <th>12380</th>\n",
              "      <td>20955</td>\n",
              "      <td>52437097</td>\n",
              "      <td>Специалист / Ведущий специалист по информацион...</td>\n",
              "      <td>'Полный день'</td>\n",
              "      <td>'Нет опыта'</td>\n",
              "      <td>Москва</td>\n",
              "      <td>NaN</td>\n",
              "      <td>['информационная безопасность', 'аудит безопас...</td>\n",
              "      <td>['компьютерная безопасность', 'сетевые техноло...</td>\n",
              "      <td>Род занятий: Реализация консалтинговых проекто...</td>\n",
              "      <td>Москва</td>\n",
              "      <td>2022-04-13</td>\n",
              "      <td>Опыт выполнения работ по аудиту и консалтингу ...</td>\n",
              "      <td>Проведение аудитов ИБ, разработка рекомендаций...</td>\n",
              "    </tr>\n",
              "  </tbody>\n",
              "</table>\n",
              "</div>\n",
              "      <button class=\"colab-df-convert\" onclick=\"convertToInteractive('df-173ab14a-2ab6-4162-979b-6b941e4a477f')\"\n",
              "              title=\"Convert this dataframe to an interactive table.\"\n",
              "              style=\"display:none;\">\n",
              "        \n",
              "  <svg xmlns=\"http://www.w3.org/2000/svg\" height=\"24px\"viewBox=\"0 0 24 24\"\n",
              "       width=\"24px\">\n",
              "    <path d=\"M0 0h24v24H0V0z\" fill=\"none\"/>\n",
              "    <path d=\"M18.56 5.44l.94 2.06.94-2.06 2.06-.94-2.06-.94-.94-2.06-.94 2.06-2.06.94zm-11 1L8.5 8.5l.94-2.06 2.06-.94-2.06-.94L8.5 2.5l-.94 2.06-2.06.94zm10 10l.94 2.06.94-2.06 2.06-.94-2.06-.94-.94-2.06-.94 2.06-2.06.94z\"/><path d=\"M17.41 7.96l-1.37-1.37c-.4-.4-.92-.59-1.43-.59-.52 0-1.04.2-1.43.59L10.3 9.45l-7.72 7.72c-.78.78-.78 2.05 0 2.83L4 21.41c.39.39.9.59 1.41.59.51 0 1.02-.2 1.41-.59l7.78-7.78 2.81-2.81c.8-.78.8-2.07 0-2.86zM5.41 20L4 18.59l7.72-7.72 1.47 1.35L5.41 20z\"/>\n",
              "  </svg>\n",
              "      </button>\n",
              "      \n",
              "  <style>\n",
              "    .colab-df-container {\n",
              "      display:flex;\n",
              "      flex-wrap:wrap;\n",
              "      gap: 12px;\n",
              "    }\n",
              "\n",
              "    .colab-df-convert {\n",
              "      background-color: #E8F0FE;\n",
              "      border: none;\n",
              "      border-radius: 50%;\n",
              "      cursor: pointer;\n",
              "      display: none;\n",
              "      fill: #1967D2;\n",
              "      height: 32px;\n",
              "      padding: 0 0 0 0;\n",
              "      width: 32px;\n",
              "    }\n",
              "\n",
              "    .colab-df-convert:hover {\n",
              "      background-color: #E2EBFA;\n",
              "      box-shadow: 0px 1px 2px rgba(60, 64, 67, 0.3), 0px 1px 3px 1px rgba(60, 64, 67, 0.15);\n",
              "      fill: #174EA6;\n",
              "    }\n",
              "\n",
              "    [theme=dark] .colab-df-convert {\n",
              "      background-color: #3B4455;\n",
              "      fill: #D2E3FC;\n",
              "    }\n",
              "\n",
              "    [theme=dark] .colab-df-convert:hover {\n",
              "      background-color: #434B5C;\n",
              "      box-shadow: 0px 1px 3px 1px rgba(0, 0, 0, 0.15);\n",
              "      filter: drop-shadow(0px 1px 2px rgba(0, 0, 0, 0.3));\n",
              "      fill: #FFFFFF;\n",
              "    }\n",
              "  </style>\n",
              "\n",
              "      <script>\n",
              "        const buttonEl =\n",
              "          document.querySelector('#df-173ab14a-2ab6-4162-979b-6b941e4a477f button.colab-df-convert');\n",
              "        buttonEl.style.display =\n",
              "          google.colab.kernel.accessAllowed ? 'block' : 'none';\n",
              "\n",
              "        async function convertToInteractive(key) {\n",
              "          const element = document.querySelector('#df-173ab14a-2ab6-4162-979b-6b941e4a477f');\n",
              "          const dataTable =\n",
              "            await google.colab.kernel.invokeFunction('convertToInteractive',\n",
              "                                                     [key], {});\n",
              "          if (!dataTable) return;\n",
              "\n",
              "          const docLinkHtml = 'Like what you see? Visit the ' +\n",
              "            '<a target=\"_blank\" href=https://colab.research.google.com/notebooks/data_table.ipynb>data table notebook</a>'\n",
              "            + ' to learn more about interactive tables.';\n",
              "          element.innerHTML = '';\n",
              "          dataTable['output_type'] = 'display_data';\n",
              "          await google.colab.output.renderOutput(dataTable, element);\n",
              "          const docLink = document.createElement('div');\n",
              "          docLink.innerHTML = docLinkHtml;\n",
              "          element.appendChild(docLink);\n",
              "        }\n",
              "      </script>\n",
              "    </div>\n",
              "  </div>\n",
              "  "
            ]
          },
          "metadata": {},
          "execution_count": 3
        }
      ]
    },
    {
      "cell_type": "code",
      "source": [
        "dframe=df[['city','salary_from','schedule','experience','key_skills_list','specializations_list']]"
      ],
      "metadata": {
        "id": "ecEG6bPzTGTZ"
      },
      "execution_count": null,
      "outputs": []
    },
    {
      "cell_type": "code",
      "source": [
        "dframe.info()"
      ],
      "metadata": {
        "colab": {
          "base_uri": "https://localhost:8080/"
        },
        "id": "a1gftcqT7GW4",
        "outputId": "09823e1b-1479-49ab-c1d1-e778ee644598"
      },
      "execution_count": null,
      "outputs": [
        {
          "output_type": "stream",
          "name": "stdout",
          "text": [
            "<class 'pandas.core.frame.DataFrame'>\n",
            "RangeIndex: 49039 entries, 0 to 49038\n",
            "Data columns (total 6 columns):\n",
            " #   Column                Non-Null Count  Dtype  \n",
            "---  ------                --------------  -----  \n",
            " 0   city                  49039 non-null  object \n",
            " 1   salary_from           20433 non-null  float64\n",
            " 2   schedule              49039 non-null  object \n",
            " 3   experience            49039 non-null  object \n",
            " 4   key_skills_list       49039 non-null  object \n",
            " 5   specializations_list  49039 non-null  object \n",
            "dtypes: float64(1), object(5)\n",
            "memory usage: 2.2+ MB\n"
          ]
        }
      ]
    },
    {
      "cell_type": "code",
      "source": [
        "dframe.tail()"
      ],
      "metadata": {
        "colab": {
          "base_uri": "https://localhost:8080/",
          "height": 206
        },
        "id": "iKLS9sjdWcfl",
        "outputId": "c8a542d4-904f-43ff-d87d-9f63a50b5d58"
      },
      "execution_count": null,
      "outputs": [
        {
          "output_type": "execute_result",
          "data": {
            "text/plain": [
              "       city  salary_from       schedule            experience  \\\n",
              "49034  Тула      30000.0  'Полный день'           'Нет опыта'   \n",
              "49035  Тула      40000.0  'Полный день'  'От 1 года до 3 лет'   \n",
              "49036  Тула          NaN  'Полный день'  'От 1 года до 3 лет'   \n",
              "49037  Тула      35000.0  'Полный день'  'От 1 года до 3 лет'   \n",
              "49038  Тула          NaN  'Полный день'           'Нет опыта'   \n",
              "\n",
              "                                         key_skills_list  \\\n",
              "49034  ['coreldraw', 'пользователь пк', 'графические ...   \n",
              "49035  ['adobe photoshop', 'coreldraw', 'креативность...   \n",
              "49036  ['adobe photoshop', 'adobe illustrator', 'core...   \n",
              "49037  ['adobe photoshop', 'adobe illustrator', 'core...   \n",
              "49038  ['организаторские навыки', 'ведение переговоро...   \n",
              "\n",
              "                                    specializations_list  \n",
              "49034  ['игровое по', 'программирование', 'разработка...  \n",
              "49035  ['игровое по', 'программирование', 'разработка...  \n",
              "49036  ['игровое по', 'программирование', 'разработка...  \n",
              "49037  ['игровое по', 'программирование', 'разработка...  \n",
              "49038  ['игровое по', 'программирование', 'разработка...  "
            ],
            "text/html": [
              "\n",
              "  <div id=\"df-72c782de-3976-4d5f-811e-6d52bd5c9051\">\n",
              "    <div class=\"colab-df-container\">\n",
              "      <div>\n",
              "<style scoped>\n",
              "    .dataframe tbody tr th:only-of-type {\n",
              "        vertical-align: middle;\n",
              "    }\n",
              "\n",
              "    .dataframe tbody tr th {\n",
              "        vertical-align: top;\n",
              "    }\n",
              "\n",
              "    .dataframe thead th {\n",
              "        text-align: right;\n",
              "    }\n",
              "</style>\n",
              "<table border=\"1\" class=\"dataframe\">\n",
              "  <thead>\n",
              "    <tr style=\"text-align: right;\">\n",
              "      <th></th>\n",
              "      <th>city</th>\n",
              "      <th>salary_from</th>\n",
              "      <th>schedule</th>\n",
              "      <th>experience</th>\n",
              "      <th>key_skills_list</th>\n",
              "      <th>specializations_list</th>\n",
              "    </tr>\n",
              "  </thead>\n",
              "  <tbody>\n",
              "    <tr>\n",
              "      <th>49034</th>\n",
              "      <td>Тула</td>\n",
              "      <td>30000.0</td>\n",
              "      <td>'Полный день'</td>\n",
              "      <td>'Нет опыта'</td>\n",
              "      <td>['coreldraw', 'пользователь пк', 'графические ...</td>\n",
              "      <td>['игровое по', 'программирование', 'разработка...</td>\n",
              "    </tr>\n",
              "    <tr>\n",
              "      <th>49035</th>\n",
              "      <td>Тула</td>\n",
              "      <td>40000.0</td>\n",
              "      <td>'Полный день'</td>\n",
              "      <td>'От 1 года до 3 лет'</td>\n",
              "      <td>['adobe photoshop', 'coreldraw', 'креативность...</td>\n",
              "      <td>['игровое по', 'программирование', 'разработка...</td>\n",
              "    </tr>\n",
              "    <tr>\n",
              "      <th>49036</th>\n",
              "      <td>Тула</td>\n",
              "      <td>NaN</td>\n",
              "      <td>'Полный день'</td>\n",
              "      <td>'От 1 года до 3 лет'</td>\n",
              "      <td>['adobe photoshop', 'adobe illustrator', 'core...</td>\n",
              "      <td>['игровое по', 'программирование', 'разработка...</td>\n",
              "    </tr>\n",
              "    <tr>\n",
              "      <th>49037</th>\n",
              "      <td>Тула</td>\n",
              "      <td>35000.0</td>\n",
              "      <td>'Полный день'</td>\n",
              "      <td>'От 1 года до 3 лет'</td>\n",
              "      <td>['adobe photoshop', 'adobe illustrator', 'core...</td>\n",
              "      <td>['игровое по', 'программирование', 'разработка...</td>\n",
              "    </tr>\n",
              "    <tr>\n",
              "      <th>49038</th>\n",
              "      <td>Тула</td>\n",
              "      <td>NaN</td>\n",
              "      <td>'Полный день'</td>\n",
              "      <td>'Нет опыта'</td>\n",
              "      <td>['организаторские навыки', 'ведение переговоро...</td>\n",
              "      <td>['игровое по', 'программирование', 'разработка...</td>\n",
              "    </tr>\n",
              "  </tbody>\n",
              "</table>\n",
              "</div>\n",
              "      <button class=\"colab-df-convert\" onclick=\"convertToInteractive('df-72c782de-3976-4d5f-811e-6d52bd5c9051')\"\n",
              "              title=\"Convert this dataframe to an interactive table.\"\n",
              "              style=\"display:none;\">\n",
              "        \n",
              "  <svg xmlns=\"http://www.w3.org/2000/svg\" height=\"24px\"viewBox=\"0 0 24 24\"\n",
              "       width=\"24px\">\n",
              "    <path d=\"M0 0h24v24H0V0z\" fill=\"none\"/>\n",
              "    <path d=\"M18.56 5.44l.94 2.06.94-2.06 2.06-.94-2.06-.94-.94-2.06-.94 2.06-2.06.94zm-11 1L8.5 8.5l.94-2.06 2.06-.94-2.06-.94L8.5 2.5l-.94 2.06-2.06.94zm10 10l.94 2.06.94-2.06 2.06-.94-2.06-.94-.94-2.06-.94 2.06-2.06.94z\"/><path d=\"M17.41 7.96l-1.37-1.37c-.4-.4-.92-.59-1.43-.59-.52 0-1.04.2-1.43.59L10.3 9.45l-7.72 7.72c-.78.78-.78 2.05 0 2.83L4 21.41c.39.39.9.59 1.41.59.51 0 1.02-.2 1.41-.59l7.78-7.78 2.81-2.81c.8-.78.8-2.07 0-2.86zM5.41 20L4 18.59l7.72-7.72 1.47 1.35L5.41 20z\"/>\n",
              "  </svg>\n",
              "      </button>\n",
              "      \n",
              "  <style>\n",
              "    .colab-df-container {\n",
              "      display:flex;\n",
              "      flex-wrap:wrap;\n",
              "      gap: 12px;\n",
              "    }\n",
              "\n",
              "    .colab-df-convert {\n",
              "      background-color: #E8F0FE;\n",
              "      border: none;\n",
              "      border-radius: 50%;\n",
              "      cursor: pointer;\n",
              "      display: none;\n",
              "      fill: #1967D2;\n",
              "      height: 32px;\n",
              "      padding: 0 0 0 0;\n",
              "      width: 32px;\n",
              "    }\n",
              "\n",
              "    .colab-df-convert:hover {\n",
              "      background-color: #E2EBFA;\n",
              "      box-shadow: 0px 1px 2px rgba(60, 64, 67, 0.3), 0px 1px 3px 1px rgba(60, 64, 67, 0.15);\n",
              "      fill: #174EA6;\n",
              "    }\n",
              "\n",
              "    [theme=dark] .colab-df-convert {\n",
              "      background-color: #3B4455;\n",
              "      fill: #D2E3FC;\n",
              "    }\n",
              "\n",
              "    [theme=dark] .colab-df-convert:hover {\n",
              "      background-color: #434B5C;\n",
              "      box-shadow: 0px 1px 3px 1px rgba(0, 0, 0, 0.15);\n",
              "      filter: drop-shadow(0px 1px 2px rgba(0, 0, 0, 0.3));\n",
              "      fill: #FFFFFF;\n",
              "    }\n",
              "  </style>\n",
              "\n",
              "      <script>\n",
              "        const buttonEl =\n",
              "          document.querySelector('#df-72c782de-3976-4d5f-811e-6d52bd5c9051 button.colab-df-convert');\n",
              "        buttonEl.style.display =\n",
              "          google.colab.kernel.accessAllowed ? 'block' : 'none';\n",
              "\n",
              "        async function convertToInteractive(key) {\n",
              "          const element = document.querySelector('#df-72c782de-3976-4d5f-811e-6d52bd5c9051');\n",
              "          const dataTable =\n",
              "            await google.colab.kernel.invokeFunction('convertToInteractive',\n",
              "                                                     [key], {});\n",
              "          if (!dataTable) return;\n",
              "\n",
              "          const docLinkHtml = 'Like what you see? Visit the ' +\n",
              "            '<a target=\"_blank\" href=https://colab.research.google.com/notebooks/data_table.ipynb>data table notebook</a>'\n",
              "            + ' to learn more about interactive tables.';\n",
              "          element.innerHTML = '';\n",
              "          dataTable['output_type'] = 'display_data';\n",
              "          await google.colab.output.renderOutput(dataTable, element);\n",
              "          const docLink = document.createElement('div');\n",
              "          docLink.innerHTML = docLinkHtml;\n",
              "          element.appendChild(docLink);\n",
              "        }\n",
              "      </script>\n",
              "    </div>\n",
              "  </div>\n",
              "  "
            ]
          },
          "metadata": {},
          "execution_count": 6
        }
      ]
    },
    {
      "cell_type": "code",
      "source": [
        "skills=sk[['key_skills_list','salary_from']]"
      ],
      "metadata": {
        "id": "KvoVVc91r8Nw"
      },
      "execution_count": null,
      "outputs": []
    },
    {
      "cell_type": "code",
      "source": [
        "skills.sample()"
      ],
      "metadata": {
        "colab": {
          "base_uri": "https://localhost:8080/",
          "height": 81
        },
        "id": "hBeE7vHHMzlN",
        "outputId": "08b5e43f-df53-4d0b-bbe1-7371fa0d254e"
      },
      "execution_count": null,
      "outputs": [
        {
          "output_type": "execute_result",
          "data": {
            "text/plain": [
              "     key_skills_list  salary_from\n",
              "7371           mysql      85000.0"
            ],
            "text/html": [
              "\n",
              "  <div id=\"df-707acee4-6981-4359-8de6-0ec5d8151cbf\">\n",
              "    <div class=\"colab-df-container\">\n",
              "      <div>\n",
              "<style scoped>\n",
              "    .dataframe tbody tr th:only-of-type {\n",
              "        vertical-align: middle;\n",
              "    }\n",
              "\n",
              "    .dataframe tbody tr th {\n",
              "        vertical-align: top;\n",
              "    }\n",
              "\n",
              "    .dataframe thead th {\n",
              "        text-align: right;\n",
              "    }\n",
              "</style>\n",
              "<table border=\"1\" class=\"dataframe\">\n",
              "  <thead>\n",
              "    <tr style=\"text-align: right;\">\n",
              "      <th></th>\n",
              "      <th>key_skills_list</th>\n",
              "      <th>salary_from</th>\n",
              "    </tr>\n",
              "  </thead>\n",
              "  <tbody>\n",
              "    <tr>\n",
              "      <th>7371</th>\n",
              "      <td>mysql</td>\n",
              "      <td>85000.0</td>\n",
              "    </tr>\n",
              "  </tbody>\n",
              "</table>\n",
              "</div>\n",
              "      <button class=\"colab-df-convert\" onclick=\"convertToInteractive('df-707acee4-6981-4359-8de6-0ec5d8151cbf')\"\n",
              "              title=\"Convert this dataframe to an interactive table.\"\n",
              "              style=\"display:none;\">\n",
              "        \n",
              "  <svg xmlns=\"http://www.w3.org/2000/svg\" height=\"24px\"viewBox=\"0 0 24 24\"\n",
              "       width=\"24px\">\n",
              "    <path d=\"M0 0h24v24H0V0z\" fill=\"none\"/>\n",
              "    <path d=\"M18.56 5.44l.94 2.06.94-2.06 2.06-.94-2.06-.94-.94-2.06-.94 2.06-2.06.94zm-11 1L8.5 8.5l.94-2.06 2.06-.94-2.06-.94L8.5 2.5l-.94 2.06-2.06.94zm10 10l.94 2.06.94-2.06 2.06-.94-2.06-.94-.94-2.06-.94 2.06-2.06.94z\"/><path d=\"M17.41 7.96l-1.37-1.37c-.4-.4-.92-.59-1.43-.59-.52 0-1.04.2-1.43.59L10.3 9.45l-7.72 7.72c-.78.78-.78 2.05 0 2.83L4 21.41c.39.39.9.59 1.41.59.51 0 1.02-.2 1.41-.59l7.78-7.78 2.81-2.81c.8-.78.8-2.07 0-2.86zM5.41 20L4 18.59l7.72-7.72 1.47 1.35L5.41 20z\"/>\n",
              "  </svg>\n",
              "      </button>\n",
              "      \n",
              "  <style>\n",
              "    .colab-df-container {\n",
              "      display:flex;\n",
              "      flex-wrap:wrap;\n",
              "      gap: 12px;\n",
              "    }\n",
              "\n",
              "    .colab-df-convert {\n",
              "      background-color: #E8F0FE;\n",
              "      border: none;\n",
              "      border-radius: 50%;\n",
              "      cursor: pointer;\n",
              "      display: none;\n",
              "      fill: #1967D2;\n",
              "      height: 32px;\n",
              "      padding: 0 0 0 0;\n",
              "      width: 32px;\n",
              "    }\n",
              "\n",
              "    .colab-df-convert:hover {\n",
              "      background-color: #E2EBFA;\n",
              "      box-shadow: 0px 1px 2px rgba(60, 64, 67, 0.3), 0px 1px 3px 1px rgba(60, 64, 67, 0.15);\n",
              "      fill: #174EA6;\n",
              "    }\n",
              "\n",
              "    [theme=dark] .colab-df-convert {\n",
              "      background-color: #3B4455;\n",
              "      fill: #D2E3FC;\n",
              "    }\n",
              "\n",
              "    [theme=dark] .colab-df-convert:hover {\n",
              "      background-color: #434B5C;\n",
              "      box-shadow: 0px 1px 3px 1px rgba(0, 0, 0, 0.15);\n",
              "      filter: drop-shadow(0px 1px 2px rgba(0, 0, 0, 0.3));\n",
              "      fill: #FFFFFF;\n",
              "    }\n",
              "  </style>\n",
              "\n",
              "      <script>\n",
              "        const buttonEl =\n",
              "          document.querySelector('#df-707acee4-6981-4359-8de6-0ec5d8151cbf button.colab-df-convert');\n",
              "        buttonEl.style.display =\n",
              "          google.colab.kernel.accessAllowed ? 'block' : 'none';\n",
              "\n",
              "        async function convertToInteractive(key) {\n",
              "          const element = document.querySelector('#df-707acee4-6981-4359-8de6-0ec5d8151cbf');\n",
              "          const dataTable =\n",
              "            await google.colab.kernel.invokeFunction('convertToInteractive',\n",
              "                                                     [key], {});\n",
              "          if (!dataTable) return;\n",
              "\n",
              "          const docLinkHtml = 'Like what you see? Visit the ' +\n",
              "            '<a target=\"_blank\" href=https://colab.research.google.com/notebooks/data_table.ipynb>data table notebook</a>'\n",
              "            + ' to learn more about interactive tables.';\n",
              "          element.innerHTML = '';\n",
              "          dataTable['output_type'] = 'display_data';\n",
              "          await google.colab.output.renderOutput(dataTable, element);\n",
              "          const docLink = document.createElement('div');\n",
              "          docLink.innerHTML = docLinkHtml;\n",
              "          element.appendChild(docLink);\n",
              "        }\n",
              "      </script>\n",
              "    </div>\n",
              "  </div>\n",
              "  "
            ]
          },
          "metadata": {},
          "execution_count": 8
        }
      ]
    },
    {
      "cell_type": "code",
      "source": [
        "spec=sp[['specializations_list','salary_from']]"
      ],
      "metadata": {
        "id": "ScNqkZVONBjq"
      },
      "execution_count": null,
      "outputs": []
    },
    {
      "cell_type": "code",
      "source": [
        "spec.tail()"
      ],
      "metadata": {
        "colab": {
          "base_uri": "https://localhost:8080/",
          "height": 206
        },
        "id": "bDUvEvqlNZWo",
        "outputId": "a1eb5aae-38fd-4009-97f0-7c4a818f9aa6"
      },
      "execution_count": null,
      "outputs": [
        {
          "output_type": "execute_result",
          "data": {
            "text/plain": [
              "       specializations_list  salary_from\n",
              "200425     программирование      35000.0\n",
              "200426           разработка      35000.0\n",
              "200427           игровое по          NaN\n",
              "200428     программирование          NaN\n",
              "200429           разработка          NaN"
            ],
            "text/html": [
              "\n",
              "  <div id=\"df-6e46e3f8-dc58-4bec-ad47-a2c0c4cfdfca\">\n",
              "    <div class=\"colab-df-container\">\n",
              "      <div>\n",
              "<style scoped>\n",
              "    .dataframe tbody tr th:only-of-type {\n",
              "        vertical-align: middle;\n",
              "    }\n",
              "\n",
              "    .dataframe tbody tr th {\n",
              "        vertical-align: top;\n",
              "    }\n",
              "\n",
              "    .dataframe thead th {\n",
              "        text-align: right;\n",
              "    }\n",
              "</style>\n",
              "<table border=\"1\" class=\"dataframe\">\n",
              "  <thead>\n",
              "    <tr style=\"text-align: right;\">\n",
              "      <th></th>\n",
              "      <th>specializations_list</th>\n",
              "      <th>salary_from</th>\n",
              "    </tr>\n",
              "  </thead>\n",
              "  <tbody>\n",
              "    <tr>\n",
              "      <th>200425</th>\n",
              "      <td>программирование</td>\n",
              "      <td>35000.0</td>\n",
              "    </tr>\n",
              "    <tr>\n",
              "      <th>200426</th>\n",
              "      <td>разработка</td>\n",
              "      <td>35000.0</td>\n",
              "    </tr>\n",
              "    <tr>\n",
              "      <th>200427</th>\n",
              "      <td>игровое по</td>\n",
              "      <td>NaN</td>\n",
              "    </tr>\n",
              "    <tr>\n",
              "      <th>200428</th>\n",
              "      <td>программирование</td>\n",
              "      <td>NaN</td>\n",
              "    </tr>\n",
              "    <tr>\n",
              "      <th>200429</th>\n",
              "      <td>разработка</td>\n",
              "      <td>NaN</td>\n",
              "    </tr>\n",
              "  </tbody>\n",
              "</table>\n",
              "</div>\n",
              "      <button class=\"colab-df-convert\" onclick=\"convertToInteractive('df-6e46e3f8-dc58-4bec-ad47-a2c0c4cfdfca')\"\n",
              "              title=\"Convert this dataframe to an interactive table.\"\n",
              "              style=\"display:none;\">\n",
              "        \n",
              "  <svg xmlns=\"http://www.w3.org/2000/svg\" height=\"24px\"viewBox=\"0 0 24 24\"\n",
              "       width=\"24px\">\n",
              "    <path d=\"M0 0h24v24H0V0z\" fill=\"none\"/>\n",
              "    <path d=\"M18.56 5.44l.94 2.06.94-2.06 2.06-.94-2.06-.94-.94-2.06-.94 2.06-2.06.94zm-11 1L8.5 8.5l.94-2.06 2.06-.94-2.06-.94L8.5 2.5l-.94 2.06-2.06.94zm10 10l.94 2.06.94-2.06 2.06-.94-2.06-.94-.94-2.06-.94 2.06-2.06.94z\"/><path d=\"M17.41 7.96l-1.37-1.37c-.4-.4-.92-.59-1.43-.59-.52 0-1.04.2-1.43.59L10.3 9.45l-7.72 7.72c-.78.78-.78 2.05 0 2.83L4 21.41c.39.39.9.59 1.41.59.51 0 1.02-.2 1.41-.59l7.78-7.78 2.81-2.81c.8-.78.8-2.07 0-2.86zM5.41 20L4 18.59l7.72-7.72 1.47 1.35L5.41 20z\"/>\n",
              "  </svg>\n",
              "      </button>\n",
              "      \n",
              "  <style>\n",
              "    .colab-df-container {\n",
              "      display:flex;\n",
              "      flex-wrap:wrap;\n",
              "      gap: 12px;\n",
              "    }\n",
              "\n",
              "    .colab-df-convert {\n",
              "      background-color: #E8F0FE;\n",
              "      border: none;\n",
              "      border-radius: 50%;\n",
              "      cursor: pointer;\n",
              "      display: none;\n",
              "      fill: #1967D2;\n",
              "      height: 32px;\n",
              "      padding: 0 0 0 0;\n",
              "      width: 32px;\n",
              "    }\n",
              "\n",
              "    .colab-df-convert:hover {\n",
              "      background-color: #E2EBFA;\n",
              "      box-shadow: 0px 1px 2px rgba(60, 64, 67, 0.3), 0px 1px 3px 1px rgba(60, 64, 67, 0.15);\n",
              "      fill: #174EA6;\n",
              "    }\n",
              "\n",
              "    [theme=dark] .colab-df-convert {\n",
              "      background-color: #3B4455;\n",
              "      fill: #D2E3FC;\n",
              "    }\n",
              "\n",
              "    [theme=dark] .colab-df-convert:hover {\n",
              "      background-color: #434B5C;\n",
              "      box-shadow: 0px 1px 3px 1px rgba(0, 0, 0, 0.15);\n",
              "      filter: drop-shadow(0px 1px 2px rgba(0, 0, 0, 0.3));\n",
              "      fill: #FFFFFF;\n",
              "    }\n",
              "  </style>\n",
              "\n",
              "      <script>\n",
              "        const buttonEl =\n",
              "          document.querySelector('#df-6e46e3f8-dc58-4bec-ad47-a2c0c4cfdfca button.colab-df-convert');\n",
              "        buttonEl.style.display =\n",
              "          google.colab.kernel.accessAllowed ? 'block' : 'none';\n",
              "\n",
              "        async function convertToInteractive(key) {\n",
              "          const element = document.querySelector('#df-6e46e3f8-dc58-4bec-ad47-a2c0c4cfdfca');\n",
              "          const dataTable =\n",
              "            await google.colab.kernel.invokeFunction('convertToInteractive',\n",
              "                                                     [key], {});\n",
              "          if (!dataTable) return;\n",
              "\n",
              "          const docLinkHtml = 'Like what you see? Visit the ' +\n",
              "            '<a target=\"_blank\" href=https://colab.research.google.com/notebooks/data_table.ipynb>data table notebook</a>'\n",
              "            + ' to learn more about interactive tables.';\n",
              "          element.innerHTML = '';\n",
              "          dataTable['output_type'] = 'display_data';\n",
              "          await google.colab.output.renderOutput(dataTable, element);\n",
              "          const docLink = document.createElement('div');\n",
              "          docLink.innerHTML = docLinkHtml;\n",
              "          element.appendChild(docLink);\n",
              "        }\n",
              "      </script>\n",
              "    </div>\n",
              "  </div>\n",
              "  "
            ]
          },
          "metadata": {},
          "execution_count": 10
        }
      ]
    },
    {
      "cell_type": "markdown",
      "source": [
        "# 2. Проанализируем типы данных"
      ],
      "metadata": {
        "id": "LoQGM38B8EeX"
      }
    },
    {
      "cell_type": "markdown",
      "source": [
        "Типы данных для датасета **dframe**:\n",
        "\n",
        "-   salary_from (Заработная плата \"От..\") - количественый, числовой, непрерывный\n",
        "-   city (город) - качественный, категориальный, номинальный\n",
        "-   schedule (график) - качественный, категориальный, номинальный. Но можно преобразовать в количественый, числовой, дискретный\n",
        "-   experience (опыт работы) - качественный, категориальный, номинальный. Но можно преобразовать в количественый, числовой, дискретный\n",
        "-   key_skills_list (ключевые навыки) - качественный, категориальный, номинальный\n",
        "-   specializations_list (специализации) - качественный, категориальный, номинальный"
      ],
      "metadata": {
        "id": "o7a-cWGY8iKA"
      }
    },
    {
      "cell_type": "markdown",
      "source": [
        "# 3. Визуализация данных"
      ],
      "metadata": {
        "id": "jsxtku-Q_sNv"
      }
    },
    {
      "cell_type": "markdown",
      "source": [
        "## Гистограммы\n",
        "\n",
        "\n"
      ],
      "metadata": {
        "id": "AY4zI1s6BPOw"
      }
    },
    {
      "cell_type": "code",
      "source": [
        "dframe['salary_from'].hist(bins=50)\n",
        "plt.xlim((1,300000))\n",
        "plt.title(\"Распределение нижней границы з/п по количеству вакансий\", fontsize = 14)\n",
        "plt.ylabel('Количество вакансий', fontsize = 12) # Подпись оси Y\n",
        "plt.xlabel('Нижняя граница з/п, руб.', fontsize = 12) # Подпись оси x\n",
        "plt.show()"
      ],
      "metadata": {
        "colab": {
          "base_uri": "https://localhost:8080/",
          "height": 299
        },
        "id": "SNZ_LmWiAIko",
        "outputId": "51a1c39c-018c-4a43-8115-3cf8b7f1c770"
      },
      "execution_count": null,
      "outputs": [
        {
          "output_type": "display_data",
          "data": {
            "text/plain": [
              "<Figure size 432x288 with 1 Axes>"
            ],
            "image/png": "[encoded data removed]"
          },
          "metadata": {
            "needs_background": "light"
          }
        }
      ]
    },
    {
      "cell_type": "markdown",
      "source": [
        "## Столбчатые диаграммы"
      ],
      "metadata": {
        "id": "g0RScCH4C7ZA"
      }
    },
    {
      "cell_type": "code",
      "source": [
        "# Выделяем наиболее \"значимые\" по количеству вакансий города\n",
        "cities=dframe['city'].value_counts()\n",
        "other=cities[cities<500]\n",
        "cities_edited=cities[cities>=500]\n",
        "cities_edited['Прочие города']=other.sum()\n",
        "city_vac_count = cities_edited.sort_values(ascending = False)"
      ],
      "metadata": {
        "id": "vtYp6tikDEDF"
      },
      "execution_count": null,
      "outputs": []
    },
    {
      "cell_type": "code",
      "source": [
        "# Строим диаграмму\n",
        "fig = plt.figure(figsize = (20, 6))\n",
        "plt.bar(city_vac_count.index,city_vac_count.values)\n",
        "\n",
        "plt.title(label = \"Количество вакансий по городам (с количеством вакансий на город более 500)\", fontsize = 14)\n",
        "plt.ylabel(\"Количество вакансий\",  fontsize = 12)\n",
        "plt.xlabel( \"Город\", size = 12)\n",
        "plt.xticks(fontsize = 10, rotation = 90) # поворот подписи на 90 градусов\n",
        "\n",
        "plt.axhline( y=100, color = 'darkgreen', linewidth=1)\n",
        "#plt.text(x=65, y=110,  s='100 вакансий', size=11, color='black')\n",
        "\n",
        "plt.show()"
      ],
      "metadata": {
        "colab": {
          "base_uri": "https://localhost:8080/",
          "height": 494
        },
        "id": "henczgM6DMJE",
        "outputId": "3fd36136-d793-489b-b3c6-592132b338fb"
      },
      "execution_count": null,
      "outputs": [
        {
          "output_type": "display_data",
          "data": {
            "text/plain": [
              "<Figure size 1440x432 with 1 Axes>"
            ],
            "image/png": "[encoded data removed]"
          },
          "metadata": {
            "needs_background": "light"
          }
        }
      ]
    },
    {
      "cell_type": "code",
      "source": [
        "# Выделяем наиболее значимые навыки\n",
        "skill_count = skills['key_skills_list'].value_counts()\n",
        "skill_edited=skill_count[skill_count>=600]\n",
        "skill_vac_count = skill_edited.sort_values(ascending = False)"
      ],
      "metadata": {
        "id": "i1hDY8JR7KQl"
      },
      "execution_count": null,
      "outputs": []
    },
    {
      "cell_type": "code",
      "source": [
        "# Строим диаграмму\n",
        "fig = plt.figure(figsize = (20, 6))\n",
        "plt.bar( skill_vac_count.index.astype('str'), skill_vac_count)\n",
        "\n",
        "plt.title(label = \"Количество упоминаний наиболее востребованных ключевых навыков (упоминались свыше 600 раз) в объявлениях\", fontsize = 14)\n",
        "plt.ylabel(\"Количество объявлений\",  fontsize = 12)\n",
        "plt.xlabel( \"Ключевые навыки\", size = 12)\n",
        "plt.xticks(fontsize = 10, rotation = 90) # поворот подписи на 90 градусов\n",
        "\n",
        "plt.show()"
      ],
      "metadata": {
        "colab": {
          "base_uri": "https://localhost:8080/",
          "height": 663
        },
        "id": "B7uOzMchIl8Q",
        "outputId": "1bdefab2-774e-40d8-909d-c2595f871d4f"
      },
      "execution_count": null,
      "outputs": [
        {
          "output_type": "display_data",
          "data": {
            "text/plain": [
              "<Figure size 1440x432 with 1 Axes>"
            ],
            "image/png": "[encoded data removed]"
          },
          "metadata": {
            "needs_background": "light"
          }
        }
      ]
    },
    {
      "cell_type": "code",
      "source": [
        "# Строим диаграмму со специализациями\n",
        "spec_count = spec['specializations_list'].value_counts()\n",
        "fig = plt.figure(figsize = (20, 6))\n",
        "plt.bar( spec_count.index.astype('str'), spec_count)\n",
        "\n",
        "plt.title(label = \"Количество упоминаний наиболее востребованных специализаций в объявлениях\", fontsize = 14)\n",
        "plt.ylabel(\"Количество объявлений\",  fontsize = 12)\n",
        "plt.xlabel( \"Специализации\", size = 12)\n",
        "plt.xticks(fontsize = 10, rotation = 90) # поворот подписи на 90 градусов\n",
        "\n",
        "plt.show()"
      ],
      "metadata": {
        "colab": {
          "base_uri": "https://localhost:8080/",
          "height": 556
        },
        "id": "b6YFRlT0DSot",
        "outputId": "70616095-bc0a-4e83-97d6-80c1441131f2"
      },
      "execution_count": null,
      "outputs": [
        {
          "output_type": "display_data",
          "data": {
            "text/plain": [
              "<Figure size 1440x432 with 1 Axes>"
            ],
            "image/png": "[encoded data removed]"
          },
          "metadata": {
            "needs_background": "light"
          }
        }
      ]
    },
    {
      "cell_type": "markdown",
      "source": [
        "# Круговые диаграммы"
      ],
      "metadata": {
        "id": "QJOwuM-hHw74"
      }
    },
    {
      "cell_type": "code",
      "source": [
        "schedule_count = dframe['schedule'].value_counts()\n",
        "\n",
        "labels = dframe['schedule'].unique()\n",
        "colors = dict(zip(labels, plt.cm.tab20.colors[:len(labels)]))\n",
        "plt.pie(schedule_count, autopct='%1.1f%%', pctdistance=1.15)\n",
        "labels =schedule_count.index\n",
        "plt.title(label = \"Количество вакансий по предлагаемому графику\", fontsize = 14)\n",
        "patches, texts = plt.pie(\n",
        "                    schedule_count.values,\n",
        "                    labels = labels,\n",
        "                    colors = [colors[key] for key in labels],\n",
        "# при отрисовке графиков сохраняем результат работы в несколько переменных ‘patches’ и ‘texts’, понадобятся нам для отрисовки легенды.\n",
        "                    textprops=dict(color=\"w\")\n",
        "# т.к. старые подписи нам стали не нужны, изменим их цвет на белый, чтобы они слились с фоном.\n",
        "                    )\n",
        "plt.legend(patches, labels, title=\"График работы\", loc=\"upper center\", bbox_to_anchor=(1, 0, 0.5, 1))\n",
        "# создаём легенду с помощью команды .legend, подавая в неё patches, лейблы labels, полпись к нашей легенде title. loc и bbox_to_anchor – отвечают за положение легенды.\n",
        "plt.show()"
      ],
      "metadata": {
        "colab": {
          "base_uri": "https://localhost:8080/",
          "height": 265
        },
        "id": "JpyLUiuMH0iv",
        "outputId": "8794ea6b-a0f7-4a79-a933-7a8a8a67f214"
      },
      "execution_count": null,
      "outputs": [
        {
          "output_type": "display_data",
          "data": {
            "text/plain": [
              "<Figure size 432x288 with 1 Axes>"
            ],
            "image/png": "[encoded data removed]"
          },
          "metadata": {}
        }
      ]
    },
    {
      "cell_type": "code",
      "source": [
        "experience_count = dframe['experience'].value_counts()\n",
        "\n",
        "plt.pie(experience_count, labels = experience_count.index, autopct='%1.1f%%', pctdistance=0.85)\n",
        "plt.title(label = \"Количество вакансий по требуемому опыту работы\", fontsize = 14)\n",
        "plt.show()"
      ],
      "metadata": {
        "colab": {
          "base_uri": "https://localhost:8080/",
          "height": 265
        },
        "id": "Ks-P50AuH776",
        "outputId": "1cc974d8-ce95-4308-bed1-1f720136064e"
      },
      "execution_count": null,
      "outputs": [
        {
          "output_type": "display_data",
          "data": {
            "text/plain": [
              "<Figure size 432x288 with 1 Axes>"
            ],
            "image/png": "[encoded data removed]"
          },
          "metadata": {}
        }
      ]
    },
    {
      "cell_type": "markdown",
      "source": [
        "# 4. Гипотеза о виде распределения для количественных показателей."
      ],
      "metadata": {
        "id": "fIW2MrvCMw_T"
      }
    },
    {
      "cell_type": "code",
      "source": [
        "dframe.drop(['city','schedule','experience','key_skills_list','specializations_list'],axis=1).describe()"
      ],
      "metadata": {
        "colab": {
          "base_uri": "https://localhost:8080/",
          "height": 300
        },
        "id": "Ayn_RSE6g47J",
        "outputId": "15625ef6-8a03-4b2b-ad4d-c0df2c3d724d"
      },
      "execution_count": null,
      "outputs": [
        {
          "output_type": "execute_result",
          "data": {
            "text/plain": [
              "          salary_from\n",
              "count    20433.000000\n",
              "mean     84319.039201\n",
              "std      66558.150523\n",
              "min          1.000000\n",
              "25%      40000.000000\n",
              "50%      62800.000000\n",
              "75%     105000.000000\n",
              "max    1000000.000000"
            ],
            "text/html": [
              "\n",
              "  <div id=\"df-21204404-d6f2-4f64-b279-547c8c7d826d\">\n",
              "    <div class=\"colab-df-container\">\n",
              "      <div>\n",
              "<style scoped>\n",
              "    .dataframe tbody tr th:only-of-type {\n",
              "        vertical-align: middle;\n",
              "    }\n",
              "\n",
              "    .dataframe tbody tr th {\n",
              "        vertical-align: top;\n",
              "    }\n",
              "\n",
              "    .dataframe thead th {\n",
              "        text-align: right;\n",
              "    }\n",
              "</style>\n",
              "<table border=\"1\" class=\"dataframe\">\n",
              "  <thead>\n",
              "    <tr style=\"text-align: right;\">\n",
              "      <th></th>\n",
              "      <th>salary_from</th>\n",
              "    </tr>\n",
              "  </thead>\n",
              "  <tbody>\n",
              "    <tr>\n",
              "      <th>count</th>\n",
              "      <td>20433.000000</td>\n",
              "    </tr>\n",
              "    <tr>\n",
              "      <th>mean</th>\n",
              "      <td>84319.039201</td>\n",
              "    </tr>\n",
              "    <tr>\n",
              "      <th>std</th>\n",
              "      <td>66558.150523</td>\n",
              "    </tr>\n",
              "    <tr>\n",
              "      <th>min</th>\n",
              "      <td>1.000000</td>\n",
              "    </tr>\n",
              "    <tr>\n",
              "      <th>25%</th>\n",
              "      <td>40000.000000</td>\n",
              "    </tr>\n",
              "    <tr>\n",
              "      <th>50%</th>\n",
              "      <td>62800.000000</td>\n",
              "    </tr>\n",
              "    <tr>\n",
              "      <th>75%</th>\n",
              "      <td>105000.000000</td>\n",
              "    </tr>\n",
              "    <tr>\n",
              "      <th>max</th>\n",
              "      <td>1000000.000000</td>\n",
              "    </tr>\n",
              "  </tbody>\n",
              "</table>\n",
              "</div>\n",
              "      <button class=\"colab-df-convert\" onclick=\"convertToInteractive('df-21204404-d6f2-4f64-b279-547c8c7d826d')\"\n",
              "              title=\"Convert this dataframe to an interactive table.\"\n",
              "              style=\"display:none;\">\n",
              "        \n",
              "  <svg xmlns=\"http://www.w3.org/2000/svg\" height=\"24px\"viewBox=\"0 0 24 24\"\n",
              "       width=\"24px\">\n",
              "    <path d=\"M0 0h24v24H0V0z\" fill=\"none\"/>\n",
              "    <path d=\"M18.56 5.44l.94 2.06.94-2.06 2.06-.94-2.06-.94-.94-2.06-.94 2.06-2.06.94zm-11 1L8.5 8.5l.94-2.06 2.06-.94-2.06-.94L8.5 2.5l-.94 2.06-2.06.94zm10 10l.94 2.06.94-2.06 2.06-.94-2.06-.94-.94-2.06-.94 2.06-2.06.94z\"/><path d=\"M17.41 7.96l-1.37-1.37c-.4-.4-.92-.59-1.43-.59-.52 0-1.04.2-1.43.59L10.3 9.45l-7.72 7.72c-.78.78-.78 2.05 0 2.83L4 21.41c.39.39.9.59 1.41.59.51 0 1.02-.2 1.41-.59l7.78-7.78 2.81-2.81c.8-.78.8-2.07 0-2.86zM5.41 20L4 18.59l7.72-7.72 1.47 1.35L5.41 20z\"/>\n",
              "  </svg>\n",
              "      </button>\n",
              "      \n",
              "  <style>\n",
              "    .colab-df-container {\n",
              "      display:flex;\n",
              "      flex-wrap:wrap;\n",
              "      gap: 12px;\n",
              "    }\n",
              "\n",
              "    .colab-df-convert {\n",
              "      background-color: #E8F0FE;\n",
              "      border: none;\n",
              "      border-radius: 50%;\n",
              "      cursor: pointer;\n",
              "      display: none;\n",
              "      fill: #1967D2;\n",
              "      height: 32px;\n",
              "      padding: 0 0 0 0;\n",
              "      width: 32px;\n",
              "    }\n",
              "\n",
              "    .colab-df-convert:hover {\n",
              "      background-color: #E2EBFA;\n",
              "      box-shadow: 0px 1px 2px rgba(60, 64, 67, 0.3), 0px 1px 3px 1px rgba(60, 64, 67, 0.15);\n",
              "      fill: #174EA6;\n",
              "    }\n",
              "\n",
              "    [theme=dark] .colab-df-convert {\n",
              "      background-color: #3B4455;\n",
              "      fill: #D2E3FC;\n",
              "    }\n",
              "\n",
              "    [theme=dark] .colab-df-convert:hover {\n",
              "      background-color: #434B5C;\n",
              "      box-shadow: 0px 1px 3px 1px rgba(0, 0, 0, 0.15);\n",
              "      filter: drop-shadow(0px 1px 2px rgba(0, 0, 0, 0.3));\n",
              "      fill: #FFFFFF;\n",
              "    }\n",
              "  </style>\n",
              "\n",
              "      <script>\n",
              "        const buttonEl =\n",
              "          document.querySelector('#df-21204404-d6f2-4f64-b279-547c8c7d826d button.colab-df-convert');\n",
              "        buttonEl.style.display =\n",
              "          google.colab.kernel.accessAllowed ? 'block' : 'none';\n",
              "\n",
              "        async function convertToInteractive(key) {\n",
              "          const element = document.querySelector('#df-21204404-d6f2-4f64-b279-547c8c7d826d');\n",
              "          const dataTable =\n",
              "            await google.colab.kernel.invokeFunction('convertToInteractive',\n",
              "                                                     [key], {});\n",
              "          if (!dataTable) return;\n",
              "\n",
              "          const docLinkHtml = 'Like what you see? Visit the ' +\n",
              "            '<a target=\"_blank\" href=https://colab.research.google.com/notebooks/data_table.ipynb>data table notebook</a>'\n",
              "            + ' to learn more about interactive tables.';\n",
              "          element.innerHTML = '';\n",
              "          dataTable['output_type'] = 'display_data';\n",
              "          await google.colab.output.renderOutput(dataTable, element);\n",
              "          const docLink = document.createElement('div');\n",
              "          docLink.innerHTML = docLinkHtml;\n",
              "          element.appendChild(docLink);\n",
              "        }\n",
              "      </script>\n",
              "    </div>\n",
              "  </div>\n",
              "  "
            ]
          },
          "metadata": {},
          "execution_count": 19
        }
      ]
    },
    {
      "cell_type": "markdown",
      "source": [
        "## Критерий Шапиро-Уилка\n",
        "\n",
        "> Работает с выборками до 5000 наблюдений\n",
        "\n",
        "\n",
        "> Гипотеза Н0: наблюдаемая выборка принадлежит нормальной генеральной совокупности, уровень значимости полагаем равным 0,05\n",
        "\n",
        "\n",
        "\n"
      ],
      "metadata": {
        "id": "VIjJgbrKNGyJ"
      }
    },
    {
      "cell_type": "markdown",
      "source": [
        "В нашем случае - 49039 наблюдений. Но всё равно проверим:"
      ],
      "metadata": {
        "id": "PQtXE8g_sU9r"
      }
    },
    {
      "cell_type": "code",
      "source": [
        "stats.shapiro(dframe['salary_from'].dropna())\n",
        "# Т.к. p-value<0,05 нулевую гипотезу о том, что критерий соответствует генеральной совокупности, отвергаем. Выборка не принадлежит нормальной генеральной совокупности. Критерий значим."
      ],
      "metadata": {
        "colab": {
          "base_uri": "https://localhost:8080/"
        },
        "id": "G9R6P-GfOOLo",
        "outputId": "7826e54e-3870-4dff-b78d-63afdda6d37e"
      },
      "execution_count": null,
      "outputs": [
        {
          "output_type": "stream",
          "name": "stderr",
          "text": [
            "/usr/local/lib/python3.7/dist-packages/scipy/stats/morestats.py:1760: UserWarning: p-value may not be accurate for N > 5000.\n",
            "  warnings.warn(\"p-value may not be accurate for N > 5000.\")\n"
          ]
        },
        {
          "output_type": "execute_result",
          "data": {
            "text/plain": [
              "ShapiroResult(statistic=0.810200572013855, pvalue=0.0)"
            ]
          },
          "metadata": {},
          "execution_count": 20
        }
      ]
    },
    {
      "cell_type": "markdown",
      "source": [
        "## Критерий асимметрии и эксцесса\n",
        "\n",
        "> Коэффициент ассиметрии, у нормально распределенной выборки он равен 0 (возможны отклонения ±1)\n",
        "\n",
        "\n",
        "> Коэффициент эксцесса, у нормально распределенной выборки он равен 3 (возможны отклонения ±1)\n",
        "\n",
        "\n",
        "\n"
      ],
      "metadata": {
        "id": "mjcxPj2fOYqv"
      }
    },
    {
      "cell_type": "code",
      "source": [
        "dframe['salary_from'].skew()"
      ],
      "metadata": {
        "colab": {
          "base_uri": "https://localhost:8080/"
        },
        "id": "BF6LKyv0g4sw",
        "outputId": "09fe87fd-191b-40c4-8ec0-8e489e3615ca"
      },
      "execution_count": null,
      "outputs": [
        {
          "output_type": "execute_result",
          "data": {
            "text/plain": [
              "2.236932394403877"
            ]
          },
          "metadata": {},
          "execution_count": 21
        }
      ]
    },
    {
      "cell_type": "markdown",
      "source": [
        "Коэффициент асимметрии. Положительный, т.к. имеем сильное смещение графика влево относительно Гауссовского колокольчика, очень большой"
      ],
      "metadata": {
        "id": "ACne2zoxVkMw"
      }
    },
    {
      "cell_type": "code",
      "source": [
        "dframe['salary_from'].kurtosis()"
      ],
      "metadata": {
        "colab": {
          "base_uri": "https://localhost:8080/"
        },
        "id": "Li5-Fpbig4bb",
        "outputId": "39e8f914-e7c5-4bee-f17a-932cdc4a635a"
      },
      "execution_count": null,
      "outputs": [
        {
          "output_type": "execute_result",
          "data": {
            "text/plain": [
              "9.25529562981705"
            ]
          },
          "metadata": {},
          "execution_count": 22
        }
      ]
    },
    {
      "cell_type": "markdown",
      "source": [
        "Коэффициент Эксцесса. Положительный, т.к. график у нас островершинен. И намного больше 3"
      ],
      "metadata": {
        "id": "9Yuq0IRRVvum"
      }
    },
    {
      "cell_type": "markdown",
      "source": [
        "## Тест д'Агостино\n",
        "\n",
        "> вычисляет итоговую статистику на основе данных, а именно, эксцесс и асимметрия, чтобы определить, отклоняется ли распределение данных от нормального распределения, названного по имени Ralph D’Agostino\n",
        "\n"
      ],
      "metadata": {
        "id": "qHU4nfleRuuL"
      }
    },
    {
      "cell_type": "code",
      "source": [
        "stats.normaltest(dframe['salary_from'].dropna())"
      ],
      "metadata": {
        "colab": {
          "base_uri": "https://localhost:8080/"
        },
        "id": "7o2RfX93R4z-",
        "outputId": "279b32fb-f607-4821-8456-35c87b7ea793"
      },
      "execution_count": null,
      "outputs": [
        {
          "output_type": "execute_result",
          "data": {
            "text/plain": [
              "NormaltestResult(statistic=10224.948602931467, pvalue=0.0)"
            ]
          },
          "metadata": {},
          "execution_count": 23
        }
      ]
    },
    {
      "cell_type": "markdown",
      "source": [
        "**ВЫВОДЫ:** По всем трём вариантам вывод получается один и тот-же: Нулевую гипотезу о том, что критерий соответствует генеральной совокупности, отвергаем. Выборка не принадлежит нормальной генеральной совокупности, не подчиняется нормальному распределению. Критерий значим."
      ],
      "metadata": {
        "id": "8yaNZZcxAX-z"
      }
    },
    {
      "cell_type": "markdown",
      "source": [
        "# 5. Оценить связь между показателями\n",
        "\n",
        "> В зависимости от типов данных, оцените связь между показателями. Используйте:\n",
        "\n",
        "*   Критерии сравнения групп для анализа связи количественных или порядковых показателей с категориальными.\n",
        "*   Анализ таблиц сопряженности для оценки связи двух категориальных признаков.\n",
        "*   Корреляционный анализ Пирсона или Спирмена для количественных или порядковых переменных."
      ],
      "metadata": {
        "id": "UEnj8G4ySbGD"
      }
    },
    {
      "cell_type": "markdown",
      "source": [
        "## Критерии сравнения групп\n",
        "\n",
        "> Анализ связи количественных или порядковых показателей с категориальными"
      ],
      "metadata": {
        "id": "m0wmnnNQUy0M"
      }
    },
    {
      "cell_type": "markdown",
      "source": [
        "Оценим средние Зарплаты по городам с максимальным количеством вакансий:"
      ],
      "metadata": {
        "id": "_ZvC1cHNhOQF"
      }
    },
    {
      "cell_type": "code",
      "source": [
        "top_city=cities[cities>=500].index\n",
        "df_city=dframe.loc[dframe['city'].isin(top_city)]\n",
        "df_city.groupby('city')[['salary_from']].mean().sort_values(by='salary_from',ascending = False)"
      ],
      "metadata": {
        "colab": {
          "base_uri": "https://localhost:8080/",
          "height": 392
        },
        "id": "jOgAoNFpaHaL",
        "outputId": "6bea3694-4f0d-43f6-8031-f8dc0d597b7b"
      },
      "execution_count": null,
      "outputs": [
        {
          "output_type": "execute_result",
          "data": {
            "text/plain": [
              "                   salary_from\n",
              "city                          \n",
              "Москва           119021.574065\n",
              "Санкт-Петербург  104077.120500\n",
              "Новосибирск      100475.201405\n",
              "Казань            91792.316940\n",
              "...                        ...\n",
              "Челябинск         73305.521053\n",
              "Самара            71084.334262\n",
              "Уфа               69577.204473\n",
              "Красноярск        63339.604938\n",
              "\n",
              "[15 rows x 1 columns]"
            ],
            "text/html": [
              "\n",
              "  <div id=\"df-b30300c6-0b16-4e8e-960f-90b648ce2204\">\n",
              "    <div class=\"colab-df-container\">\n",
              "      <div>\n",
              "<style scoped>\n",
              "    .dataframe tbody tr th:only-of-type {\n",
              "        vertical-align: middle;\n",
              "    }\n",
              "\n",
              "    .dataframe tbody tr th {\n",
              "        vertical-align: top;\n",
              "    }\n",
              "\n",
              "    .dataframe thead th {\n",
              "        text-align: right;\n",
              "    }\n",
              "</style>\n",
              "<table border=\"1\" class=\"dataframe\">\n",
              "  <thead>\n",
              "    <tr style=\"text-align: right;\">\n",
              "      <th></th>\n",
              "      <th>salary_from</th>\n",
              "    </tr>\n",
              "    <tr>\n",
              "      <th>city</th>\n",
              "      <th></th>\n",
              "    </tr>\n",
              "  </thead>\n",
              "  <tbody>\n",
              "    <tr>\n",
              "      <th>Москва</th>\n",
              "      <td>119021.574065</td>\n",
              "    </tr>\n",
              "    <tr>\n",
              "      <th>Санкт-Петербург</th>\n",
              "      <td>104077.120500</td>\n",
              "    </tr>\n",
              "    <tr>\n",
              "      <th>Новосибирск</th>\n",
              "      <td>100475.201405</td>\n",
              "    </tr>\n",
              "    <tr>\n",
              "      <th>Казань</th>\n",
              "      <td>91792.316940</td>\n",
              "    </tr>\n",
              "    <tr>\n",
              "      <th>...</th>\n",
              "      <td>...</td>\n",
              "    </tr>\n",
              "    <tr>\n",
              "      <th>Челябинск</th>\n",
              "      <td>73305.521053</td>\n",
              "    </tr>\n",
              "    <tr>\n",
              "      <th>Самара</th>\n",
              "      <td>71084.334262</td>\n",
              "    </tr>\n",
              "    <tr>\n",
              "      <th>Уфа</th>\n",
              "      <td>69577.204473</td>\n",
              "    </tr>\n",
              "    <tr>\n",
              "      <th>Красноярск</th>\n",
              "      <td>63339.604938</td>\n",
              "    </tr>\n",
              "  </tbody>\n",
              "</table>\n",
              "<p>15 rows × 1 columns</p>\n",
              "</div>\n",
              "      <button class=\"colab-df-convert\" onclick=\"convertToInteractive('df-b30300c6-0b16-4e8e-960f-90b648ce2204')\"\n",
              "              title=\"Convert this dataframe to an interactive table.\"\n",
              "              style=\"display:none;\">\n",
              "        \n",
              "  <svg xmlns=\"http://www.w3.org/2000/svg\" height=\"24px\"viewBox=\"0 0 24 24\"\n",
              "       width=\"24px\">\n",
              "    <path d=\"M0 0h24v24H0V0z\" fill=\"none\"/>\n",
              "    <path d=\"M18.56 5.44l.94 2.06.94-2.06 2.06-.94-2.06-.94-.94-2.06-.94 2.06-2.06.94zm-11 1L8.5 8.5l.94-2.06 2.06-.94-2.06-.94L8.5 2.5l-.94 2.06-2.06.94zm10 10l.94 2.06.94-2.06 2.06-.94-2.06-.94-.94-2.06-.94 2.06-2.06.94z\"/><path d=\"M17.41 7.96l-1.37-1.37c-.4-.4-.92-.59-1.43-.59-.52 0-1.04.2-1.43.59L10.3 9.45l-7.72 7.72c-.78.78-.78 2.05 0 2.83L4 21.41c.39.39.9.59 1.41.59.51 0 1.02-.2 1.41-.59l7.78-7.78 2.81-2.81c.8-.78.8-2.07 0-2.86zM5.41 20L4 18.59l7.72-7.72 1.47 1.35L5.41 20z\"/>\n",
              "  </svg>\n",
              "      </button>\n",
              "      \n",
              "  <style>\n",
              "    .colab-df-container {\n",
              "      display:flex;\n",
              "      flex-wrap:wrap;\n",
              "      gap: 12px;\n",
              "    }\n",
              "\n",
              "    .colab-df-convert {\n",
              "      background-color: #E8F0FE;\n",
              "      border: none;\n",
              "      border-radius: 50%;\n",
              "      cursor: pointer;\n",
              "      display: none;\n",
              "      fill: #1967D2;\n",
              "      height: 32px;\n",
              "      padding: 0 0 0 0;\n",
              "      width: 32px;\n",
              "    }\n",
              "\n",
              "    .colab-df-convert:hover {\n",
              "      background-color: #E2EBFA;\n",
              "      box-shadow: 0px 1px 2px rgba(60, 64, 67, 0.3), 0px 1px 3px 1px rgba(60, 64, 67, 0.15);\n",
              "      fill: #174EA6;\n",
              "    }\n",
              "\n",
              "    [theme=dark] .colab-df-convert {\n",
              "      background-color: #3B4455;\n",
              "      fill: #D2E3FC;\n",
              "    }\n",
              "\n",
              "    [theme=dark] .colab-df-convert:hover {\n",
              "      background-color: #434B5C;\n",
              "      box-shadow: 0px 1px 3px 1px rgba(0, 0, 0, 0.15);\n",
              "      filter: drop-shadow(0px 1px 2px rgba(0, 0, 0, 0.3));\n",
              "      fill: #FFFFFF;\n",
              "    }\n",
              "  </style>\n",
              "\n",
              "      <script>\n",
              "        const buttonEl =\n",
              "          document.querySelector('#df-b30300c6-0b16-4e8e-960f-90b648ce2204 button.colab-df-convert');\n",
              "        buttonEl.style.display =\n",
              "          google.colab.kernel.accessAllowed ? 'block' : 'none';\n",
              "\n",
              "        async function convertToInteractive(key) {\n",
              "          const element = document.querySelector('#df-b30300c6-0b16-4e8e-960f-90b648ce2204');\n",
              "          const dataTable =\n",
              "            await google.colab.kernel.invokeFunction('convertToInteractive',\n",
              "                                                     [key], {});\n",
              "          if (!dataTable) return;\n",
              "\n",
              "          const docLinkHtml = 'Like what you see? Visit the ' +\n",
              "            '<a target=\"_blank\" href=https://colab.research.google.com/notebooks/data_table.ipynb>data table notebook</a>'\n",
              "            + ' to learn more about interactive tables.';\n",
              "          element.innerHTML = '';\n",
              "          dataTable['output_type'] = 'display_data';\n",
              "          await google.colab.output.renderOutput(dataTable, element);\n",
              "          const docLink = document.createElement('div');\n",
              "          docLink.innerHTML = docLinkHtml;\n",
              "          element.appendChild(docLink);\n",
              "        }\n",
              "      </script>\n",
              "    </div>\n",
              "  </div>\n",
              "  "
            ]
          },
          "metadata": {},
          "execution_count": 24
        }
      ]
    },
    {
      "cell_type": "code",
      "source": [
        "df_city.groupby('city')[['salary_from']].count().sort_values(by='salary_from',ascending = False)"
      ],
      "metadata": {
        "colab": {
          "base_uri": "https://localhost:8080/",
          "height": 392
        },
        "id": "exewgbK1iSiB",
        "outputId": "21470e62-0f26-4cc8-9d6e-febaba64dfdb"
      },
      "execution_count": null,
      "outputs": [
        {
          "output_type": "execute_result",
          "data": {
            "text/plain": [
              "                 salary_from\n",
              "city                        \n",
              "Москва                  4010\n",
              "Санкт-Петербург         2000\n",
              "Новосибирск              854\n",
              "Екатеринбург             790\n",
              "...                      ...\n",
              "Воронеж                  313\n",
              "Уфа                      313\n",
              "Томск                    297\n",
              "Пермь                    286\n",
              "\n",
              "[15 rows x 1 columns]"
            ],
            "text/html": [
              "\n",
              "  <div id=\"df-eb38a204-e4f1-485e-915f-89269ae080c4\">\n",
              "    <div class=\"colab-df-container\">\n",
              "      <div>\n",
              "<style scoped>\n",
              "    .dataframe tbody tr th:only-of-type {\n",
              "        vertical-align: middle;\n",
              "    }\n",
              "\n",
              "    .dataframe tbody tr th {\n",
              "        vertical-align: top;\n",
              "    }\n",
              "\n",
              "    .dataframe thead th {\n",
              "        text-align: right;\n",
              "    }\n",
              "</style>\n",
              "<table border=\"1\" class=\"dataframe\">\n",
              "  <thead>\n",
              "    <tr style=\"text-align: right;\">\n",
              "      <th></th>\n",
              "      <th>salary_from</th>\n",
              "    </tr>\n",
              "    <tr>\n",
              "      <th>city</th>\n",
              "      <th></th>\n",
              "    </tr>\n",
              "  </thead>\n",
              "  <tbody>\n",
              "    <tr>\n",
              "      <th>Москва</th>\n",
              "      <td>4010</td>\n",
              "    </tr>\n",
              "    <tr>\n",
              "      <th>Санкт-Петербург</th>\n",
              "      <td>2000</td>\n",
              "    </tr>\n",
              "    <tr>\n",
              "      <th>Новосибирск</th>\n",
              "      <td>854</td>\n",
              "    </tr>\n",
              "    <tr>\n",
              "      <th>Екатеринбург</th>\n",
              "      <td>790</td>\n",
              "    </tr>\n",
              "    <tr>\n",
              "      <th>...</th>\n",
              "      <td>...</td>\n",
              "    </tr>\n",
              "    <tr>\n",
              "      <th>Воронеж</th>\n",
              "      <td>313</td>\n",
              "    </tr>\n",
              "    <tr>\n",
              "      <th>Уфа</th>\n",
              "      <td>313</td>\n",
              "    </tr>\n",
              "    <tr>\n",
              "      <th>Томск</th>\n",
              "      <td>297</td>\n",
              "    </tr>\n",
              "    <tr>\n",
              "      <th>Пермь</th>\n",
              "      <td>286</td>\n",
              "    </tr>\n",
              "  </tbody>\n",
              "</table>\n",
              "<p>15 rows × 1 columns</p>\n",
              "</div>\n",
              "      <button class=\"colab-df-convert\" onclick=\"convertToInteractive('df-eb38a204-e4f1-485e-915f-89269ae080c4')\"\n",
              "              title=\"Convert this dataframe to an interactive table.\"\n",
              "              style=\"display:none;\">\n",
              "        \n",
              "  <svg xmlns=\"http://www.w3.org/2000/svg\" height=\"24px\"viewBox=\"0 0 24 24\"\n",
              "       width=\"24px\">\n",
              "    <path d=\"M0 0h24v24H0V0z\" fill=\"none\"/>\n",
              "    <path d=\"M18.56 5.44l.94 2.06.94-2.06 2.06-.94-2.06-.94-.94-2.06-.94 2.06-2.06.94zm-11 1L8.5 8.5l.94-2.06 2.06-.94-2.06-.94L8.5 2.5l-.94 2.06-2.06.94zm10 10l.94 2.06.94-2.06 2.06-.94-2.06-.94-.94-2.06-.94 2.06-2.06.94z\"/><path d=\"M17.41 7.96l-1.37-1.37c-.4-.4-.92-.59-1.43-.59-.52 0-1.04.2-1.43.59L10.3 9.45l-7.72 7.72c-.78.78-.78 2.05 0 2.83L4 21.41c.39.39.9.59 1.41.59.51 0 1.02-.2 1.41-.59l7.78-7.78 2.81-2.81c.8-.78.8-2.07 0-2.86zM5.41 20L4 18.59l7.72-7.72 1.47 1.35L5.41 20z\"/>\n",
              "  </svg>\n",
              "      </button>\n",
              "      \n",
              "  <style>\n",
              "    .colab-df-container {\n",
              "      display:flex;\n",
              "      flex-wrap:wrap;\n",
              "      gap: 12px;\n",
              "    }\n",
              "\n",
              "    .colab-df-convert {\n",
              "      background-color: #E8F0FE;\n",
              "      border: none;\n",
              "      border-radius: 50%;\n",
              "      cursor: pointer;\n",
              "      display: none;\n",
              "      fill: #1967D2;\n",
              "      height: 32px;\n",
              "      padding: 0 0 0 0;\n",
              "      width: 32px;\n",
              "    }\n",
              "\n",
              "    .colab-df-convert:hover {\n",
              "      background-color: #E2EBFA;\n",
              "      box-shadow: 0px 1px 2px rgba(60, 64, 67, 0.3), 0px 1px 3px 1px rgba(60, 64, 67, 0.15);\n",
              "      fill: #174EA6;\n",
              "    }\n",
              "\n",
              "    [theme=dark] .colab-df-convert {\n",
              "      background-color: #3B4455;\n",
              "      fill: #D2E3FC;\n",
              "    }\n",
              "\n",
              "    [theme=dark] .colab-df-convert:hover {\n",
              "      background-color: #434B5C;\n",
              "      box-shadow: 0px 1px 3px 1px rgba(0, 0, 0, 0.15);\n",
              "      filter: drop-shadow(0px 1px 2px rgba(0, 0, 0, 0.3));\n",
              "      fill: #FFFFFF;\n",
              "    }\n",
              "  </style>\n",
              "\n",
              "      <script>\n",
              "        const buttonEl =\n",
              "          document.querySelector('#df-eb38a204-e4f1-485e-915f-89269ae080c4 button.colab-df-convert');\n",
              "        buttonEl.style.display =\n",
              "          google.colab.kernel.accessAllowed ? 'block' : 'none';\n",
              "\n",
              "        async function convertToInteractive(key) {\n",
              "          const element = document.querySelector('#df-eb38a204-e4f1-485e-915f-89269ae080c4');\n",
              "          const dataTable =\n",
              "            await google.colab.kernel.invokeFunction('convertToInteractive',\n",
              "                                                     [key], {});\n",
              "          if (!dataTable) return;\n",
              "\n",
              "          const docLinkHtml = 'Like what you see? Visit the ' +\n",
              "            '<a target=\"_blank\" href=https://colab.research.google.com/notebooks/data_table.ipynb>data table notebook</a>'\n",
              "            + ' to learn more about interactive tables.';\n",
              "          element.innerHTML = '';\n",
              "          dataTable['output_type'] = 'display_data';\n",
              "          await google.colab.output.renderOutput(dataTable, element);\n",
              "          const docLink = document.createElement('div');\n",
              "          docLink.innerHTML = docLinkHtml;\n",
              "          element.appendChild(docLink);\n",
              "        }\n",
              "      </script>\n",
              "    </div>\n",
              "  </div>\n",
              "  "
            ]
          },
          "metadata": {},
          "execution_count": 25
        }
      ]
    },
    {
      "cell_type": "markdown",
      "source": [
        "Сравниваем зарплаты по городам.\n",
        "* Строим Боксплоты (Город/Зарплата):"
      ],
      "metadata": {
        "id": "V91oBxyD501r"
      }
    },
    {
      "cell_type": "code",
      "source": [
        "f, ax = plt.subplots(figsize=(6, 7))\n",
        "fig = sns.boxplot(x='salary_from', y='city', data=df_city)\n",
        "plt.axis(xmin=0, xmax=370000) #Задаём лимиты по оси Х"
      ],
      "metadata": {
        "colab": {
          "base_uri": "https://localhost:8080/",
          "height": 460
        },
        "id": "wYZEhxVQVq0-",
        "outputId": "83dab43c-bb1c-437c-d99b-1ca86efefaf8"
      },
      "execution_count": null,
      "outputs": [
        {
          "output_type": "execute_result",
          "data": {
            "text/plain": [
              "(0.0, 370000.0, 14.5, -0.5)"
            ]
          },
          "metadata": {},
          "execution_count": 26
        },
        {
          "output_type": "display_data",
          "data": {
            "text/plain": [
              "<Figure size 432x504 with 1 Axes>"
            ],
            "image/png": "[encoded data removed]"
          },
          "metadata": {
            "needs_background": "light"
          }
        }
      ]
    },
    {
      "cell_type": "markdown",
      "source": [
        "Оценим средние Зарплаты по максимально востребованным навыкам на рынке труда:"
      ],
      "metadata": {
        "id": "FfqWD0pOXsNQ"
      }
    },
    {
      "cell_type": "code",
      "source": [
        "# Избавляемся от NaN в зарплате:\n",
        "skills_not_nan=pd.notnull(skills['salary_from'])\n",
        "skills_clean_salary=skills[skills_not_nan]"
      ],
      "metadata": {
        "id": "0_ew7ueCfKfd"
      },
      "execution_count": null,
      "outputs": []
    },
    {
      "cell_type": "code",
      "source": [
        "# Выделяем наиболее значимые навыки, рассчитываем среднюю ЗП по каждому навыку, сортируем их по убыванию ЗП\n",
        "top_skills=skill_count[skill_count>=1000].index\n",
        "df_skills=skills_clean_salary.loc[skills_clean_salary['key_skills_list'].isin(top_skills)]\n",
        "df_skills.groupby('key_skills_list')[['salary_from']].mean().sort_values(by='salary_from',ascending = False)"
      ],
      "metadata": {
        "colab": {
          "base_uri": "https://localhost:8080/",
          "height": 392
        },
        "id": "cL36lvqOY__R",
        "outputId": "78ad66a7-c297-4053-b34e-64bb2baef7ac"
      },
      "execution_count": null,
      "outputs": [
        {
          "output_type": "execute_result",
          "data": {
            "text/plain": [
              "                                 salary_from\n",
              "key_skills_list                             \n",
              "docker                         166435.770751\n",
              "java                           158429.498476\n",
              "postgresql                     143068.800425\n",
              "python                         141576.761434\n",
              "...                                      ...\n",
              "windows 7                       49550.747801\n",
              "настройка сетевых подключений   48773.455240\n",
              "настройка по                    46485.399752\n",
              "настройка пк                    46192.455021\n",
              "\n",
              "[38 rows x 1 columns]"
            ],
            "text/html": [
              "\n",
              "  <div id=\"df-3c6a4f81-559f-44f7-9149-aa656faeff76\">\n",
              "    <div class=\"colab-df-container\">\n",
              "      <div>\n",
              "<style scoped>\n",
              "    .dataframe tbody tr th:only-of-type {\n",
              "        vertical-align: middle;\n",
              "    }\n",
              "\n",
              "    .dataframe tbody tr th {\n",
              "        vertical-align: top;\n",
              "    }\n",
              "\n",
              "    .dataframe thead th {\n",
              "        text-align: right;\n",
              "    }\n",
              "</style>\n",
              "<table border=\"1\" class=\"dataframe\">\n",
              "  <thead>\n",
              "    <tr style=\"text-align: right;\">\n",
              "      <th></th>\n",
              "      <th>salary_from</th>\n",
              "    </tr>\n",
              "    <tr>\n",
              "      <th>key_skills_list</th>\n",
              "      <th></th>\n",
              "    </tr>\n",
              "  </thead>\n",
              "  <tbody>\n",
              "    <tr>\n",
              "      <th>docker</th>\n",
              "      <td>166435.770751</td>\n",
              "    </tr>\n",
              "    <tr>\n",
              "      <th>java</th>\n",
              "      <td>158429.498476</td>\n",
              "    </tr>\n",
              "    <tr>\n",
              "      <th>postgresql</th>\n",
              "      <td>143068.800425</td>\n",
              "    </tr>\n",
              "    <tr>\n",
              "      <th>python</th>\n",
              "      <td>141576.761434</td>\n",
              "    </tr>\n",
              "    <tr>\n",
              "      <th>...</th>\n",
              "      <td>...</td>\n",
              "    </tr>\n",
              "    <tr>\n",
              "      <th>windows 7</th>\n",
              "      <td>49550.747801</td>\n",
              "    </tr>\n",
              "    <tr>\n",
              "      <th>настройка сетевых подключений</th>\n",
              "      <td>48773.455240</td>\n",
              "    </tr>\n",
              "    <tr>\n",
              "      <th>настройка по</th>\n",
              "      <td>46485.399752</td>\n",
              "    </tr>\n",
              "    <tr>\n",
              "      <th>настройка пк</th>\n",
              "      <td>46192.455021</td>\n",
              "    </tr>\n",
              "  </tbody>\n",
              "</table>\n",
              "<p>38 rows × 1 columns</p>\n",
              "</div>\n",
              "      <button class=\"colab-df-convert\" onclick=\"convertToInteractive('df-3c6a4f81-559f-44f7-9149-aa656faeff76')\"\n",
              "              title=\"Convert this dataframe to an interactive table.\"\n",
              "              style=\"display:none;\">\n",
              "        \n",
              "  <svg xmlns=\"http://www.w3.org/2000/svg\" height=\"24px\"viewBox=\"0 0 24 24\"\n",
              "       width=\"24px\">\n",
              "    <path d=\"M0 0h24v24H0V0z\" fill=\"none\"/>\n",
              "    <path d=\"M18.56 5.44l.94 2.06.94-2.06 2.06-.94-2.06-.94-.94-2.06-.94 2.06-2.06.94zm-11 1L8.5 8.5l.94-2.06 2.06-.94-2.06-.94L8.5 2.5l-.94 2.06-2.06.94zm10 10l.94 2.06.94-2.06 2.06-.94-2.06-.94-.94-2.06-.94 2.06-2.06.94z\"/><path d=\"M17.41 7.96l-1.37-1.37c-.4-.4-.92-.59-1.43-.59-.52 0-1.04.2-1.43.59L10.3 9.45l-7.72 7.72c-.78.78-.78 2.05 0 2.83L4 21.41c.39.39.9.59 1.41.59.51 0 1.02-.2 1.41-.59l7.78-7.78 2.81-2.81c.8-.78.8-2.07 0-2.86zM5.41 20L4 18.59l7.72-7.72 1.47 1.35L5.41 20z\"/>\n",
              "  </svg>\n",
              "      </button>\n",
              "      \n",
              "  <style>\n",
              "    .colab-df-container {\n",
              "      display:flex;\n",
              "      flex-wrap:wrap;\n",
              "      gap: 12px;\n",
              "    }\n",
              "\n",
              "    .colab-df-convert {\n",
              "      background-color: #E8F0FE;\n",
              "      border: none;\n",
              "      border-radius: 50%;\n",
              "      cursor: pointer;\n",
              "      display: none;\n",
              "      fill: #1967D2;\n",
              "      height: 32px;\n",
              "      padding: 0 0 0 0;\n",
              "      width: 32px;\n",
              "    }\n",
              "\n",
              "    .colab-df-convert:hover {\n",
              "      background-color: #E2EBFA;\n",
              "      box-shadow: 0px 1px 2px rgba(60, 64, 67, 0.3), 0px 1px 3px 1px rgba(60, 64, 67, 0.15);\n",
              "      fill: #174EA6;\n",
              "    }\n",
              "\n",
              "    [theme=dark] .colab-df-convert {\n",
              "      background-color: #3B4455;\n",
              "      fill: #D2E3FC;\n",
              "    }\n",
              "\n",
              "    [theme=dark] .colab-df-convert:hover {\n",
              "      background-color: #434B5C;\n",
              "      box-shadow: 0px 1px 3px 1px rgba(0, 0, 0, 0.15);\n",
              "      filter: drop-shadow(0px 1px 2px rgba(0, 0, 0, 0.3));\n",
              "      fill: #FFFFFF;\n",
              "    }\n",
              "  </style>\n",
              "\n",
              "      <script>\n",
              "        const buttonEl =\n",
              "          document.querySelector('#df-3c6a4f81-559f-44f7-9149-aa656faeff76 button.colab-df-convert');\n",
              "        buttonEl.style.display =\n",
              "          google.colab.kernel.accessAllowed ? 'block' : 'none';\n",
              "\n",
              "        async function convertToInteractive(key) {\n",
              "          const element = document.querySelector('#df-3c6a4f81-559f-44f7-9149-aa656faeff76');\n",
              "          const dataTable =\n",
              "            await google.colab.kernel.invokeFunction('convertToInteractive',\n",
              "                                                     [key], {});\n",
              "          if (!dataTable) return;\n",
              "\n",
              "          const docLinkHtml = 'Like what you see? Visit the ' +\n",
              "            '<a target=\"_blank\" href=https://colab.research.google.com/notebooks/data_table.ipynb>data table notebook</a>'\n",
              "            + ' to learn more about interactive tables.';\n",
              "          element.innerHTML = '';\n",
              "          dataTable['output_type'] = 'display_data';\n",
              "          await google.colab.output.renderOutput(dataTable, element);\n",
              "          const docLink = document.createElement('div');\n",
              "          docLink.innerHTML = docLinkHtml;\n",
              "          element.appendChild(docLink);\n",
              "        }\n",
              "      </script>\n",
              "    </div>\n",
              "  </div>\n",
              "  "
            ]
          },
          "metadata": {},
          "execution_count": 28
        }
      ]
    },
    {
      "cell_type": "code",
      "source": [
        "# Анализируем наиболее значимые навыки по количеству их упоминаний в вакансиях\n",
        "df_skills.groupby('key_skills_list')[['salary_from']].count().sort_values(by='salary_from',ascending = False)"
      ],
      "metadata": {
        "colab": {
          "base_uri": "https://localhost:8080/",
          "height": 392
        },
        "id": "q_W8Vbx5XioD",
        "outputId": "dc1939e3-f632-4c40-90d2-c57cb2ca97f4"
      },
      "execution_count": null,
      "outputs": [
        {
          "output_type": "execute_result",
          "data": {
            "text/plain": [
              "                 salary_from\n",
              "key_skills_list             \n",
              "git                     2020\n",
              "linux                   1670\n",
              "sql                     1580\n",
              "javascript              1505\n",
              "...                      ...\n",
              "ms powerpoint            355\n",
              "atlassian jira           353\n",
              "тестирование             323\n",
              "bash                     230\n",
              "\n",
              "[38 rows x 1 columns]"
            ],
            "text/html": [
              "\n",
              "  <div id=\"df-c04f5dad-33f4-4a20-96c2-28477752783b\">\n",
              "    <div class=\"colab-df-container\">\n",
              "      <div>\n",
              "<style scoped>\n",
              "    .dataframe tbody tr th:only-of-type {\n",
              "        vertical-align: middle;\n",
              "    }\n",
              "\n",
              "    .dataframe tbody tr th {\n",
              "        vertical-align: top;\n",
              "    }\n",
              "\n",
              "    .dataframe thead th {\n",
              "        text-align: right;\n",
              "    }\n",
              "</style>\n",
              "<table border=\"1\" class=\"dataframe\">\n",
              "  <thead>\n",
              "    <tr style=\"text-align: right;\">\n",
              "      <th></th>\n",
              "      <th>salary_from</th>\n",
              "    </tr>\n",
              "    <tr>\n",
              "      <th>key_skills_list</th>\n",
              "      <th></th>\n",
              "    </tr>\n",
              "  </thead>\n",
              "  <tbody>\n",
              "    <tr>\n",
              "      <th>git</th>\n",
              "      <td>2020</td>\n",
              "    </tr>\n",
              "    <tr>\n",
              "      <th>linux</th>\n",
              "      <td>1670</td>\n",
              "    </tr>\n",
              "    <tr>\n",
              "      <th>sql</th>\n",
              "      <td>1580</td>\n",
              "    </tr>\n",
              "    <tr>\n",
              "      <th>javascript</th>\n",
              "      <td>1505</td>\n",
              "    </tr>\n",
              "    <tr>\n",
              "      <th>...</th>\n",
              "      <td>...</td>\n",
              "    </tr>\n",
              "    <tr>\n",
              "      <th>ms powerpoint</th>\n",
              "      <td>355</td>\n",
              "    </tr>\n",
              "    <tr>\n",
              "      <th>atlassian jira</th>\n",
              "      <td>353</td>\n",
              "    </tr>\n",
              "    <tr>\n",
              "      <th>тестирование</th>\n",
              "      <td>323</td>\n",
              "    </tr>\n",
              "    <tr>\n",
              "      <th>bash</th>\n",
              "      <td>230</td>\n",
              "    </tr>\n",
              "  </tbody>\n",
              "</table>\n",
              "<p>38 rows × 1 columns</p>\n",
              "</div>\n",
              "      <button class=\"colab-df-convert\" onclick=\"convertToInteractive('df-c04f5dad-33f4-4a20-96c2-28477752783b')\"\n",
              "              title=\"Convert this dataframe to an interactive table.\"\n",
              "              style=\"display:none;\">\n",
              "        \n",
              "  <svg xmlns=\"http://www.w3.org/2000/svg\" height=\"24px\"viewBox=\"0 0 24 24\"\n",
              "       width=\"24px\">\n",
              "    <path d=\"M0 0h24v24H0V0z\" fill=\"none\"/>\n",
              "    <path d=\"M18.56 5.44l.94 2.06.94-2.06 2.06-.94-2.06-.94-.94-2.06-.94 2.06-2.06.94zm-11 1L8.5 8.5l.94-2.06 2.06-.94-2.06-.94L8.5 2.5l-.94 2.06-2.06.94zm10 10l.94 2.06.94-2.06 2.06-.94-2.06-.94-.94-2.06-.94 2.06-2.06.94z\"/><path d=\"M17.41 7.96l-1.37-1.37c-.4-.4-.92-.59-1.43-.59-.52 0-1.04.2-1.43.59L10.3 9.45l-7.72 7.72c-.78.78-.78 2.05 0 2.83L4 21.41c.39.39.9.59 1.41.59.51 0 1.02-.2 1.41-.59l7.78-7.78 2.81-2.81c.8-.78.8-2.07 0-2.86zM5.41 20L4 18.59l7.72-7.72 1.47 1.35L5.41 20z\"/>\n",
              "  </svg>\n",
              "      </button>\n",
              "      \n",
              "  <style>\n",
              "    .colab-df-container {\n",
              "      display:flex;\n",
              "      flex-wrap:wrap;\n",
              "      gap: 12px;\n",
              "    }\n",
              "\n",
              "    .colab-df-convert {\n",
              "      background-color: #E8F0FE;\n",
              "      border: none;\n",
              "      border-radius: 50%;\n",
              "      cursor: pointer;\n",
              "      display: none;\n",
              "      fill: #1967D2;\n",
              "      height: 32px;\n",
              "      padding: 0 0 0 0;\n",
              "      width: 32px;\n",
              "    }\n",
              "\n",
              "    .colab-df-convert:hover {\n",
              "      background-color: #E2EBFA;\n",
              "      box-shadow: 0px 1px 2px rgba(60, 64, 67, 0.3), 0px 1px 3px 1px rgba(60, 64, 67, 0.15);\n",
              "      fill: #174EA6;\n",
              "    }\n",
              "\n",
              "    [theme=dark] .colab-df-convert {\n",
              "      background-color: #3B4455;\n",
              "      fill: #D2E3FC;\n",
              "    }\n",
              "\n",
              "    [theme=dark] .colab-df-convert:hover {\n",
              "      background-color: #434B5C;\n",
              "      box-shadow: 0px 1px 3px 1px rgba(0, 0, 0, 0.15);\n",
              "      filter: drop-shadow(0px 1px 2px rgba(0, 0, 0, 0.3));\n",
              "      fill: #FFFFFF;\n",
              "    }\n",
              "  </style>\n",
              "\n",
              "      <script>\n",
              "        const buttonEl =\n",
              "          document.querySelector('#df-c04f5dad-33f4-4a20-96c2-28477752783b button.colab-df-convert');\n",
              "        buttonEl.style.display =\n",
              "          google.colab.kernel.accessAllowed ? 'block' : 'none';\n",
              "\n",
              "        async function convertToInteractive(key) {\n",
              "          const element = document.querySelector('#df-c04f5dad-33f4-4a20-96c2-28477752783b');\n",
              "          const dataTable =\n",
              "            await google.colab.kernel.invokeFunction('convertToInteractive',\n",
              "                                                     [key], {});\n",
              "          if (!dataTable) return;\n",
              "\n",
              "          const docLinkHtml = 'Like what you see? Visit the ' +\n",
              "            '<a target=\"_blank\" href=https://colab.research.google.com/notebooks/data_table.ipynb>data table notebook</a>'\n",
              "            + ' to learn more about interactive tables.';\n",
              "          element.innerHTML = '';\n",
              "          dataTable['output_type'] = 'display_data';\n",
              "          await google.colab.output.renderOutput(dataTable, element);\n",
              "          const docLink = document.createElement('div');\n",
              "          docLink.innerHTML = docLinkHtml;\n",
              "          element.appendChild(docLink);\n",
              "        }\n",
              "      </script>\n",
              "    </div>\n",
              "  </div>\n",
              "  "
            ]
          },
          "metadata": {},
          "execution_count": 29
        }
      ]
    },
    {
      "cell_type": "markdown",
      "source": [
        "Строим Боксплоты (Навыки/Зарплата):"
      ],
      "metadata": {
        "id": "TnykDay2feVJ"
      }
    },
    {
      "cell_type": "code",
      "source": [
        "f, ax = plt.subplots(figsize=(7, 12))\n",
        "fig = sns.boxplot(x='salary_from', y='key_skills_list', data=df_skills)\n",
        "plt.axis(xmin=0, xmax=450000) #Задаём лимиты по оси Х"
      ],
      "metadata": {
        "colab": {
          "base_uri": "https://localhost:8080/",
          "height": 732
        },
        "id": "MiZZYH-jdx5x",
        "outputId": "10779222-17f7-44d6-90fa-9203641c062e"
      },
      "execution_count": null,
      "outputs": [
        {
          "output_type": "execute_result",
          "data": {
            "text/plain": [
              "(0.0, 450000.0, 37.5, -0.5)"
            ]
          },
          "metadata": {},
          "execution_count": 30
        },
        {
          "output_type": "display_data",
          "data": {
            "text/plain": [
              "<Figure size 504x864 with 1 Axes>"
            ],
            "image/png": "[encoded data removed]"
          },
          "metadata": {
            "needs_background": "light"
          }
        }
      ]
    },
    {
      "cell_type": "markdown",
      "source": [
        "Оценим средние Зарплаты по максимально востребованным специализациям на рынке труда:"
      ],
      "metadata": {
        "id": "ujY8E82ahbi0"
      }
    },
    {
      "cell_type": "code",
      "source": [
        "# Избавляемся от NaN в зарплате:\n",
        "spec_not_nan=pd.notnull(spec['salary_from'])\n",
        "spec_clean_salary=spec[spec_not_nan]"
      ],
      "metadata": {
        "id": "GziaAiJgmbPC"
      },
      "execution_count": null,
      "outputs": []
    },
    {
      "cell_type": "code",
      "source": [
        "# Рассчитываем среднюю ЗП по каждой специализации, сортируем их по убыванию ЗП\n",
        "spec_clean_salary.groupby('specializations_list')[['salary_from']].mean().sort_values(by='salary_from',ascending = False)"
      ],
      "metadata": {
        "colab": {
          "base_uri": "https://localhost:8080/",
          "height": 392
        },
        "id": "CLQXds8SoSkW",
        "outputId": "a6a08c62-899a-4b8b-f4c7-4ba3648c148f"
      },
      "execution_count": null,
      "outputs": [
        {
          "output_type": "execute_result",
          "data": {
            "text/plain": [
              "                             salary_from\n",
              "specializations_list                    \n",
              "информационные технологии  141036.458950\n",
              "мультимедиа                122574.677966\n",
              "web мастер                 111546.679056\n",
              "web инженер                111543.463735\n",
              "...                                  ...\n",
              "игровое по                  62999.820531\n",
              "интернет                    56052.887798\n",
              "системный администратор     55300.297922\n",
              "helpdesk                    54611.330996\n",
              "\n",
              "[15 rows x 1 columns]"
            ],
            "text/html": [
              "\n",
              "  <div id=\"df-2ed45c87-575e-4e5d-9afa-278740e466e7\">\n",
              "    <div class=\"colab-df-container\">\n",
              "      <div>\n",
              "<style scoped>\n",
              "    .dataframe tbody tr th:only-of-type {\n",
              "        vertical-align: middle;\n",
              "    }\n",
              "\n",
              "    .dataframe tbody tr th {\n",
              "        vertical-align: top;\n",
              "    }\n",
              "\n",
              "    .dataframe thead th {\n",
              "        text-align: right;\n",
              "    }\n",
              "</style>\n",
              "<table border=\"1\" class=\"dataframe\">\n",
              "  <thead>\n",
              "    <tr style=\"text-align: right;\">\n",
              "      <th></th>\n",
              "      <th>salary_from</th>\n",
              "    </tr>\n",
              "    <tr>\n",
              "      <th>specializations_list</th>\n",
              "      <th></th>\n",
              "    </tr>\n",
              "  </thead>\n",
              "  <tbody>\n",
              "    <tr>\n",
              "      <th>информационные технологии</th>\n",
              "      <td>141036.458950</td>\n",
              "    </tr>\n",
              "    <tr>\n",
              "      <th>мультимедиа</th>\n",
              "      <td>122574.677966</td>\n",
              "    </tr>\n",
              "    <tr>\n",
              "      <th>web мастер</th>\n",
              "      <td>111546.679056</td>\n",
              "    </tr>\n",
              "    <tr>\n",
              "      <th>web инженер</th>\n",
              "      <td>111543.463735</td>\n",
              "    </tr>\n",
              "    <tr>\n",
              "      <th>...</th>\n",
              "      <td>...</td>\n",
              "    </tr>\n",
              "    <tr>\n",
              "      <th>игровое по</th>\n",
              "      <td>62999.820531</td>\n",
              "    </tr>\n",
              "    <tr>\n",
              "      <th>интернет</th>\n",
              "      <td>56052.887798</td>\n",
              "    </tr>\n",
              "    <tr>\n",
              "      <th>системный администратор</th>\n",
              "      <td>55300.297922</td>\n",
              "    </tr>\n",
              "    <tr>\n",
              "      <th>helpdesk</th>\n",
              "      <td>54611.330996</td>\n",
              "    </tr>\n",
              "  </tbody>\n",
              "</table>\n",
              "<p>15 rows × 1 columns</p>\n",
              "</div>\n",
              "      <button class=\"colab-df-convert\" onclick=\"convertToInteractive('df-2ed45c87-575e-4e5d-9afa-278740e466e7')\"\n",
              "              title=\"Convert this dataframe to an interactive table.\"\n",
              "              style=\"display:none;\">\n",
              "        \n",
              "  <svg xmlns=\"http://www.w3.org/2000/svg\" height=\"24px\"viewBox=\"0 0 24 24\"\n",
              "       width=\"24px\">\n",
              "    <path d=\"M0 0h24v24H0V0z\" fill=\"none\"/>\n",
              "    <path d=\"M18.56 5.44l.94 2.06.94-2.06 2.06-.94-2.06-.94-.94-2.06-.94 2.06-2.06.94zm-11 1L8.5 8.5l.94-2.06 2.06-.94-2.06-.94L8.5 2.5l-.94 2.06-2.06.94zm10 10l.94 2.06.94-2.06 2.06-.94-2.06-.94-.94-2.06-.94 2.06-2.06.94z\"/><path d=\"M17.41 7.96l-1.37-1.37c-.4-.4-.92-.59-1.43-.59-.52 0-1.04.2-1.43.59L10.3 9.45l-7.72 7.72c-.78.78-.78 2.05 0 2.83L4 21.41c.39.39.9.59 1.41.59.51 0 1.02-.2 1.41-.59l7.78-7.78 2.81-2.81c.8-.78.8-2.07 0-2.86zM5.41 20L4 18.59l7.72-7.72 1.47 1.35L5.41 20z\"/>\n",
              "  </svg>\n",
              "      </button>\n",
              "      \n",
              "  <style>\n",
              "    .colab-df-container {\n",
              "      display:flex;\n",
              "      flex-wrap:wrap;\n",
              "      gap: 12px;\n",
              "    }\n",
              "\n",
              "    .colab-df-convert {\n",
              "      background-color: #E8F0FE;\n",
              "      border: none;\n",
              "      border-radius: 50%;\n",
              "      cursor: pointer;\n",
              "      display: none;\n",
              "      fill: #1967D2;\n",
              "      height: 32px;\n",
              "      padding: 0 0 0 0;\n",
              "      width: 32px;\n",
              "    }\n",
              "\n",
              "    .colab-df-convert:hover {\n",
              "      background-color: #E2EBFA;\n",
              "      box-shadow: 0px 1px 2px rgba(60, 64, 67, 0.3), 0px 1px 3px 1px rgba(60, 64, 67, 0.15);\n",
              "      fill: #174EA6;\n",
              "    }\n",
              "\n",
              "    [theme=dark] .colab-df-convert {\n",
              "      background-color: #3B4455;\n",
              "      fill: #D2E3FC;\n",
              "    }\n",
              "\n",
              "    [theme=dark] .colab-df-convert:hover {\n",
              "      background-color: #434B5C;\n",
              "      box-shadow: 0px 1px 3px 1px rgba(0, 0, 0, 0.15);\n",
              "      filter: drop-shadow(0px 1px 2px rgba(0, 0, 0, 0.3));\n",
              "      fill: #FFFFFF;\n",
              "    }\n",
              "  </style>\n",
              "\n",
              "      <script>\n",
              "        const buttonEl =\n",
              "          document.querySelector('#df-2ed45c87-575e-4e5d-9afa-278740e466e7 button.colab-df-convert');\n",
              "        buttonEl.style.display =\n",
              "          google.colab.kernel.accessAllowed ? 'block' : 'none';\n",
              "\n",
              "        async function convertToInteractive(key) {\n",
              "          const element = document.querySelector('#df-2ed45c87-575e-4e5d-9afa-278740e466e7');\n",
              "          const dataTable =\n",
              "            await google.colab.kernel.invokeFunction('convertToInteractive',\n",
              "                                                     [key], {});\n",
              "          if (!dataTable) return;\n",
              "\n",
              "          const docLinkHtml = 'Like what you see? Visit the ' +\n",
              "            '<a target=\"_blank\" href=https://colab.research.google.com/notebooks/data_table.ipynb>data table notebook</a>'\n",
              "            + ' to learn more about interactive tables.';\n",
              "          element.innerHTML = '';\n",
              "          dataTable['output_type'] = 'display_data';\n",
              "          await google.colab.output.renderOutput(dataTable, element);\n",
              "          const docLink = document.createElement('div');\n",
              "          docLink.innerHTML = docLinkHtml;\n",
              "          element.appendChild(docLink);\n",
              "        }\n",
              "      </script>\n",
              "    </div>\n",
              "  </div>\n",
              "  "
            ]
          },
          "metadata": {},
          "execution_count": 32
        }
      ]
    },
    {
      "cell_type": "code",
      "source": [
        "# Анализируем специализации по количеству их упоминаний в вакансиях\n",
        "spec_clean_salary.groupby('specializations_list')[['salary_from']].count().sort_values(by='salary_from',ascending = False)"
      ],
      "metadata": {
        "colab": {
          "base_uri": "https://localhost:8080/",
          "height": 392
        },
        "id": "5ZZWu8w0o1lj",
        "outputId": "af7c0c18-2ed4-4585-d7c2-ff72ab4fd941"
      },
      "execution_count": null,
      "outputs": [
        {
          "output_type": "execute_result",
          "data": {
            "text/plain": [
              "                           salary_from\n",
              "specializations_list                  \n",
              "инженер                          15426\n",
              "программирование                 10971\n",
              "разработка                       10971\n",
              "helpdesk                          7843\n",
              "...                                ...\n",
              "компьютерная безопасность         1107\n",
              "информационные технологии          743\n",
              "тестирование                       662\n",
              "мультимедиа                        295\n",
              "\n",
              "[15 rows x 1 columns]"
            ],
            "text/html": [
              "\n",
              "  <div id=\"df-48066ba8-fa10-47d4-80e9-98c3f7b4a438\">\n",
              "    <div class=\"colab-df-container\">\n",
              "      <div>\n",
              "<style scoped>\n",
              "    .dataframe tbody tr th:only-of-type {\n",
              "        vertical-align: middle;\n",
              "    }\n",
              "\n",
              "    .dataframe tbody tr th {\n",
              "        vertical-align: top;\n",
              "    }\n",
              "\n",
              "    .dataframe thead th {\n",
              "        text-align: right;\n",
              "    }\n",
              "</style>\n",
              "<table border=\"1\" class=\"dataframe\">\n",
              "  <thead>\n",
              "    <tr style=\"text-align: right;\">\n",
              "      <th></th>\n",
              "      <th>salary_from</th>\n",
              "    </tr>\n",
              "    <tr>\n",
              "      <th>specializations_list</th>\n",
              "      <th></th>\n",
              "    </tr>\n",
              "  </thead>\n",
              "  <tbody>\n",
              "    <tr>\n",
              "      <th>инженер</th>\n",
              "      <td>15426</td>\n",
              "    </tr>\n",
              "    <tr>\n",
              "      <th>программирование</th>\n",
              "      <td>10971</td>\n",
              "    </tr>\n",
              "    <tr>\n",
              "      <th>разработка</th>\n",
              "      <td>10971</td>\n",
              "    </tr>\n",
              "    <tr>\n",
              "      <th>helpdesk</th>\n",
              "      <td>7843</td>\n",
              "    </tr>\n",
              "    <tr>\n",
              "      <th>...</th>\n",
              "      <td>...</td>\n",
              "    </tr>\n",
              "    <tr>\n",
              "      <th>компьютерная безопасность</th>\n",
              "      <td>1107</td>\n",
              "    </tr>\n",
              "    <tr>\n",
              "      <th>информационные технологии</th>\n",
              "      <td>743</td>\n",
              "    </tr>\n",
              "    <tr>\n",
              "      <th>тестирование</th>\n",
              "      <td>662</td>\n",
              "    </tr>\n",
              "    <tr>\n",
              "      <th>мультимедиа</th>\n",
              "      <td>295</td>\n",
              "    </tr>\n",
              "  </tbody>\n",
              "</table>\n",
              "<p>15 rows × 1 columns</p>\n",
              "</div>\n",
              "      <button class=\"colab-df-convert\" onclick=\"convertToInteractive('df-48066ba8-fa10-47d4-80e9-98c3f7b4a438')\"\n",
              "              title=\"Convert this dataframe to an interactive table.\"\n",
              "              style=\"display:none;\">\n",
              "        \n",
              "  <svg xmlns=\"http://www.w3.org/2000/svg\" height=\"24px\"viewBox=\"0 0 24 24\"\n",
              "       width=\"24px\">\n",
              "    <path d=\"M0 0h24v24H0V0z\" fill=\"none\"/>\n",
              "    <path d=\"M18.56 5.44l.94 2.06.94-2.06 2.06-.94-2.06-.94-.94-2.06-.94 2.06-2.06.94zm-11 1L8.5 8.5l.94-2.06 2.06-.94-2.06-.94L8.5 2.5l-.94 2.06-2.06.94zm10 10l.94 2.06.94-2.06 2.06-.94-2.06-.94-.94-2.06-.94 2.06-2.06.94z\"/><path d=\"M17.41 7.96l-1.37-1.37c-.4-.4-.92-.59-1.43-.59-.52 0-1.04.2-1.43.59L10.3 9.45l-7.72 7.72c-.78.78-.78 2.05 0 2.83L4 21.41c.39.39.9.59 1.41.59.51 0 1.02-.2 1.41-.59l7.78-7.78 2.81-2.81c.8-.78.8-2.07 0-2.86zM5.41 20L4 18.59l7.72-7.72 1.47 1.35L5.41 20z\"/>\n",
              "  </svg>\n",
              "      </button>\n",
              "      \n",
              "  <style>\n",
              "    .colab-df-container {\n",
              "      display:flex;\n",
              "      flex-wrap:wrap;\n",
              "      gap: 12px;\n",
              "    }\n",
              "\n",
              "    .colab-df-convert {\n",
              "      background-color: #E8F0FE;\n",
              "      border: none;\n",
              "      border-radius: 50%;\n",
              "      cursor: pointer;\n",
              "      display: none;\n",
              "      fill: #1967D2;\n",
              "      height: 32px;\n",
              "      padding: 0 0 0 0;\n",
              "      width: 32px;\n",
              "    }\n",
              "\n",
              "    .colab-df-convert:hover {\n",
              "      background-color: #E2EBFA;\n",
              "      box-shadow: 0px 1px 2px rgba(60, 64, 67, 0.3), 0px 1px 3px 1px rgba(60, 64, 67, 0.15);\n",
              "      fill: #174EA6;\n",
              "    }\n",
              "\n",
              "    [theme=dark] .colab-df-convert {\n",
              "      background-color: #3B4455;\n",
              "      fill: #D2E3FC;\n",
              "    }\n",
              "\n",
              "    [theme=dark] .colab-df-convert:hover {\n",
              "      background-color: #434B5C;\n",
              "      box-shadow: 0px 1px 3px 1px rgba(0, 0, 0, 0.15);\n",
              "      filter: drop-shadow(0px 1px 2px rgba(0, 0, 0, 0.3));\n",
              "      fill: #FFFFFF;\n",
              "    }\n",
              "  </style>\n",
              "\n",
              "      <script>\n",
              "        const buttonEl =\n",
              "          document.querySelector('#df-48066ba8-fa10-47d4-80e9-98c3f7b4a438 button.colab-df-convert');\n",
              "        buttonEl.style.display =\n",
              "          google.colab.kernel.accessAllowed ? 'block' : 'none';\n",
              "\n",
              "        async function convertToInteractive(key) {\n",
              "          const element = document.querySelector('#df-48066ba8-fa10-47d4-80e9-98c3f7b4a438');\n",
              "          const dataTable =\n",
              "            await google.colab.kernel.invokeFunction('convertToInteractive',\n",
              "                                                     [key], {});\n",
              "          if (!dataTable) return;\n",
              "\n",
              "          const docLinkHtml = 'Like what you see? Visit the ' +\n",
              "            '<a target=\"_blank\" href=https://colab.research.google.com/notebooks/data_table.ipynb>data table notebook</a>'\n",
              "            + ' to learn more about interactive tables.';\n",
              "          element.innerHTML = '';\n",
              "          dataTable['output_type'] = 'display_data';\n",
              "          await google.colab.output.renderOutput(dataTable, element);\n",
              "          const docLink = document.createElement('div');\n",
              "          docLink.innerHTML = docLinkHtml;\n",
              "          element.appendChild(docLink);\n",
              "        }\n",
              "      </script>\n",
              "    </div>\n",
              "  </div>\n",
              "  "
            ]
          },
          "metadata": {},
          "execution_count": 33
        }
      ]
    },
    {
      "cell_type": "markdown",
      "source": [
        "Строим Боксплоты (Специализация/Зарплата):"
      ],
      "metadata": {
        "id": "leFJLkntpj2e"
      }
    },
    {
      "cell_type": "code",
      "source": [
        "f, ax = plt.subplots(figsize=(7, 12))\n",
        "fig = sns.boxplot(x='salary_from', y='specializations_list', data=spec_clean_salary)\n",
        "plt.axis(xmin=0, xmax=450000) #Задаём лимиты по оси Х"
      ],
      "metadata": {
        "colab": {
          "base_uri": "https://localhost:8080/",
          "height": 732
        },
        "id": "j7IrC9aepo5O",
        "outputId": "30b45c86-21bb-4fcd-d3d6-242c774e39e4"
      },
      "execution_count": null,
      "outputs": [
        {
          "output_type": "execute_result",
          "data": {
            "text/plain": [
              "(0.0, 450000.0, 14.5, -0.5)"
            ]
          },
          "metadata": {},
          "execution_count": 34
        },
        {
          "output_type": "display_data",
          "data": {
            "text/plain": [
              "<Figure size 504x864 with 1 Axes>"
            ],
            "image/png": "[encoded data removed]"
          },
          "metadata": {
            "needs_background": "light"
          }
        }
      ]
    },
    {
      "cell_type": "markdown",
      "source": [
        "### Сравниваем график работы и заработную плату:"
      ],
      "metadata": {
        "id": "tIMikfnqWnTM"
      }
    },
    {
      "cell_type": "code",
      "source": [
        "dframe.groupby('schedule')[['salary_from']].mean() # оцениваем \"среднее\" зарплаты по вариантам рабочего графика"
      ],
      "metadata": {
        "colab": {
          "base_uri": "https://localhost:8080/",
          "height": 238
        },
        "id": "d9Vz1lXCuUYx",
        "outputId": "cc6f2935-5784-4d90-9d2c-1aa8f1648dd7"
      },
      "execution_count": null,
      "outputs": [
        {
          "output_type": "execute_result",
          "data": {
            "text/plain": [
              "                      salary_from\n",
              "schedule                         \n",
              "'Вахтовый метод'    124000.000000\n",
              "'Гибкий график'      98305.310705\n",
              "'Полный день'        80201.924251\n",
              "'Сменный график'     44886.940270\n",
              "'Удаленная работа'   99831.902365"
            ],
            "text/html": [
              "\n",
              "  <div id=\"df-08d0de50-1ad0-4a2c-8863-93615fbbfa3c\">\n",
              "    <div class=\"colab-df-container\">\n",
              "      <div>\n",
              "<style scoped>\n",
              "    .dataframe tbody tr th:only-of-type {\n",
              "        vertical-align: middle;\n",
              "    }\n",
              "\n",
              "    .dataframe tbody tr th {\n",
              "        vertical-align: top;\n",
              "    }\n",
              "\n",
              "    .dataframe thead th {\n",
              "        text-align: right;\n",
              "    }\n",
              "</style>\n",
              "<table border=\"1\" class=\"dataframe\">\n",
              "  <thead>\n",
              "    <tr style=\"text-align: right;\">\n",
              "      <th></th>\n",
              "      <th>salary_from</th>\n",
              "    </tr>\n",
              "    <tr>\n",
              "      <th>schedule</th>\n",
              "      <th></th>\n",
              "    </tr>\n",
              "  </thead>\n",
              "  <tbody>\n",
              "    <tr>\n",
              "      <th>'Вахтовый метод'</th>\n",
              "      <td>124000.000000</td>\n",
              "    </tr>\n",
              "    <tr>\n",
              "      <th>'Гибкий график'</th>\n",
              "      <td>98305.310705</td>\n",
              "    </tr>\n",
              "    <tr>\n",
              "      <th>'Полный день'</th>\n",
              "      <td>80201.924251</td>\n",
              "    </tr>\n",
              "    <tr>\n",
              "      <th>'Сменный график'</th>\n",
              "      <td>44886.940270</td>\n",
              "    </tr>\n",
              "    <tr>\n",
              "      <th>'Удаленная работа'</th>\n",
              "      <td>99831.902365</td>\n",
              "    </tr>\n",
              "  </tbody>\n",
              "</table>\n",
              "</div>\n",
              "      <button class=\"colab-df-convert\" onclick=\"convertToInteractive('df-08d0de50-1ad0-4a2c-8863-93615fbbfa3c')\"\n",
              "              title=\"Convert this dataframe to an interactive table.\"\n",
              "              style=\"display:none;\">\n",
              "        \n",
              "  <svg xmlns=\"http://www.w3.org/2000/svg\" height=\"24px\"viewBox=\"0 0 24 24\"\n",
              "       width=\"24px\">\n",
              "    <path d=\"M0 0h24v24H0V0z\" fill=\"none\"/>\n",
              "    <path d=\"M18.56 5.44l.94 2.06.94-2.06 2.06-.94-2.06-.94-.94-2.06-.94 2.06-2.06.94zm-11 1L8.5 8.5l.94-2.06 2.06-.94-2.06-.94L8.5 2.5l-.94 2.06-2.06.94zm10 10l.94 2.06.94-2.06 2.06-.94-2.06-.94-.94-2.06-.94 2.06-2.06.94z\"/><path d=\"M17.41 7.96l-1.37-1.37c-.4-.4-.92-.59-1.43-.59-.52 0-1.04.2-1.43.59L10.3 9.45l-7.72 7.72c-.78.78-.78 2.05 0 2.83L4 21.41c.39.39.9.59 1.41.59.51 0 1.02-.2 1.41-.59l7.78-7.78 2.81-2.81c.8-.78.8-2.07 0-2.86zM5.41 20L4 18.59l7.72-7.72 1.47 1.35L5.41 20z\"/>\n",
              "  </svg>\n",
              "      </button>\n",
              "      \n",
              "  <style>\n",
              "    .colab-df-container {\n",
              "      display:flex;\n",
              "      flex-wrap:wrap;\n",
              "      gap: 12px;\n",
              "    }\n",
              "\n",
              "    .colab-df-convert {\n",
              "      background-color: #E8F0FE;\n",
              "      border: none;\n",
              "      border-radius: 50%;\n",
              "      cursor: pointer;\n",
              "      display: none;\n",
              "      fill: #1967D2;\n",
              "      height: 32px;\n",
              "      padding: 0 0 0 0;\n",
              "      width: 32px;\n",
              "    }\n",
              "\n",
              "    .colab-df-convert:hover {\n",
              "      background-color: #E2EBFA;\n",
              "      box-shadow: 0px 1px 2px rgba(60, 64, 67, 0.3), 0px 1px 3px 1px rgba(60, 64, 67, 0.15);\n",
              "      fill: #174EA6;\n",
              "    }\n",
              "\n",
              "    [theme=dark] .colab-df-convert {\n",
              "      background-color: #3B4455;\n",
              "      fill: #D2E3FC;\n",
              "    }\n",
              "\n",
              "    [theme=dark] .colab-df-convert:hover {\n",
              "      background-color: #434B5C;\n",
              "      box-shadow: 0px 1px 3px 1px rgba(0, 0, 0, 0.15);\n",
              "      filter: drop-shadow(0px 1px 2px rgba(0, 0, 0, 0.3));\n",
              "      fill: #FFFFFF;\n",
              "    }\n",
              "  </style>\n",
              "\n",
              "      <script>\n",
              "        const buttonEl =\n",
              "          document.querySelector('#df-08d0de50-1ad0-4a2c-8863-93615fbbfa3c button.colab-df-convert');\n",
              "        buttonEl.style.display =\n",
              "          google.colab.kernel.accessAllowed ? 'block' : 'none';\n",
              "\n",
              "        async function convertToInteractive(key) {\n",
              "          const element = document.querySelector('#df-08d0de50-1ad0-4a2c-8863-93615fbbfa3c');\n",
              "          const dataTable =\n",
              "            await google.colab.kernel.invokeFunction('convertToInteractive',\n",
              "                                                     [key], {});\n",
              "          if (!dataTable) return;\n",
              "\n",
              "          const docLinkHtml = 'Like what you see? Visit the ' +\n",
              "            '<a target=\"_blank\" href=https://colab.research.google.com/notebooks/data_table.ipynb>data table notebook</a>'\n",
              "            + ' to learn more about interactive tables.';\n",
              "          element.innerHTML = '';\n",
              "          dataTable['output_type'] = 'display_data';\n",
              "          await google.colab.output.renderOutput(dataTable, element);\n",
              "          const docLink = document.createElement('div');\n",
              "          docLink.innerHTML = docLinkHtml;\n",
              "          element.appendChild(docLink);\n",
              "        }\n",
              "      </script>\n",
              "    </div>\n",
              "  </div>\n",
              "  "
            ]
          },
          "metadata": {},
          "execution_count": 35
        }
      ]
    },
    {
      "cell_type": "code",
      "source": [
        "# Сравниваем количество объявлений по вариантам рабочего графика.\n",
        "dframe.groupby('schedule')[['salary_from']].count()"
      ],
      "metadata": {
        "colab": {
          "base_uri": "https://localhost:8080/",
          "height": 238
        },
        "id": "rB2yqTudxcTF",
        "outputId": "bebebbba-8484-4f59-83c7-8ab73b76fac4"
      },
      "execution_count": null,
      "outputs": [
        {
          "output_type": "execute_result",
          "data": {
            "text/plain": [
              "                    salary_from\n",
              "schedule                       \n",
              "'Вахтовый метод'             90\n",
              "'Гибкий график'             766\n",
              "'Полный день'             14746\n",
              "'Сменный график'            519\n",
              "'Удаленная работа'         4312"
            ],
            "text/html": [
              "\n",
              "  <div id=\"df-918ad26a-8e13-45aa-95f8-686742fe9204\">\n",
              "    <div class=\"colab-df-container\">\n",
              "      <div>\n",
              "<style scoped>\n",
              "    .dataframe tbody tr th:only-of-type {\n",
              "        vertical-align: middle;\n",
              "    }\n",
              "\n",
              "    .dataframe tbody tr th {\n",
              "        vertical-align: top;\n",
              "    }\n",
              "\n",
              "    .dataframe thead th {\n",
              "        text-align: right;\n",
              "    }\n",
              "</style>\n",
              "<table border=\"1\" class=\"dataframe\">\n",
              "  <thead>\n",
              "    <tr style=\"text-align: right;\">\n",
              "      <th></th>\n",
              "      <th>salary_from</th>\n",
              "    </tr>\n",
              "    <tr>\n",
              "      <th>schedule</th>\n",
              "      <th></th>\n",
              "    </tr>\n",
              "  </thead>\n",
              "  <tbody>\n",
              "    <tr>\n",
              "      <th>'Вахтовый метод'</th>\n",
              "      <td>90</td>\n",
              "    </tr>\n",
              "    <tr>\n",
              "      <th>'Гибкий график'</th>\n",
              "      <td>766</td>\n",
              "    </tr>\n",
              "    <tr>\n",
              "      <th>'Полный день'</th>\n",
              "      <td>14746</td>\n",
              "    </tr>\n",
              "    <tr>\n",
              "      <th>'Сменный график'</th>\n",
              "      <td>519</td>\n",
              "    </tr>\n",
              "    <tr>\n",
              "      <th>'Удаленная работа'</th>\n",
              "      <td>4312</td>\n",
              "    </tr>\n",
              "  </tbody>\n",
              "</table>\n",
              "</div>\n",
              "      <button class=\"colab-df-convert\" onclick=\"convertToInteractive('df-918ad26a-8e13-45aa-95f8-686742fe9204')\"\n",
              "              title=\"Convert this dataframe to an interactive table.\"\n",
              "              style=\"display:none;\">\n",
              "        \n",
              "  <svg xmlns=\"http://www.w3.org/2000/svg\" height=\"24px\"viewBox=\"0 0 24 24\"\n",
              "       width=\"24px\">\n",
              "    <path d=\"M0 0h24v24H0V0z\" fill=\"none\"/>\n",
              "    <path d=\"M18.56 5.44l.94 2.06.94-2.06 2.06-.94-2.06-.94-.94-2.06-.94 2.06-2.06.94zm-11 1L8.5 8.5l.94-2.06 2.06-.94-2.06-.94L8.5 2.5l-.94 2.06-2.06.94zm10 10l.94 2.06.94-2.06 2.06-.94-2.06-.94-.94-2.06-.94 2.06-2.06.94z\"/><path d=\"M17.41 7.96l-1.37-1.37c-.4-.4-.92-.59-1.43-.59-.52 0-1.04.2-1.43.59L10.3 9.45l-7.72 7.72c-.78.78-.78 2.05 0 2.83L4 21.41c.39.39.9.59 1.41.59.51 0 1.02-.2 1.41-.59l7.78-7.78 2.81-2.81c.8-.78.8-2.07 0-2.86zM5.41 20L4 18.59l7.72-7.72 1.47 1.35L5.41 20z\"/>\n",
              "  </svg>\n",
              "      </button>\n",
              "      \n",
              "  <style>\n",
              "    .colab-df-container {\n",
              "      display:flex;\n",
              "      flex-wrap:wrap;\n",
              "      gap: 12px;\n",
              "    }\n",
              "\n",
              "    .colab-df-convert {\n",
              "      background-color: #E8F0FE;\n",
              "      border: none;\n",
              "      border-radius: 50%;\n",
              "      cursor: pointer;\n",
              "      display: none;\n",
              "      fill: #1967D2;\n",
              "      height: 32px;\n",
              "      padding: 0 0 0 0;\n",
              "      width: 32px;\n",
              "    }\n",
              "\n",
              "    .colab-df-convert:hover {\n",
              "      background-color: #E2EBFA;\n",
              "      box-shadow: 0px 1px 2px rgba(60, 64, 67, 0.3), 0px 1px 3px 1px rgba(60, 64, 67, 0.15);\n",
              "      fill: #174EA6;\n",
              "    }\n",
              "\n",
              "    [theme=dark] .colab-df-convert {\n",
              "      background-color: #3B4455;\n",
              "      fill: #D2E3FC;\n",
              "    }\n",
              "\n",
              "    [theme=dark] .colab-df-convert:hover {\n",
              "      background-color: #434B5C;\n",
              "      box-shadow: 0px 1px 3px 1px rgba(0, 0, 0, 0.15);\n",
              "      filter: drop-shadow(0px 1px 2px rgba(0, 0, 0, 0.3));\n",
              "      fill: #FFFFFF;\n",
              "    }\n",
              "  </style>\n",
              "\n",
              "      <script>\n",
              "        const buttonEl =\n",
              "          document.querySelector('#df-918ad26a-8e13-45aa-95f8-686742fe9204 button.colab-df-convert');\n",
              "        buttonEl.style.display =\n",
              "          google.colab.kernel.accessAllowed ? 'block' : 'none';\n",
              "\n",
              "        async function convertToInteractive(key) {\n",
              "          const element = document.querySelector('#df-918ad26a-8e13-45aa-95f8-686742fe9204');\n",
              "          const dataTable =\n",
              "            await google.colab.kernel.invokeFunction('convertToInteractive',\n",
              "                                                     [key], {});\n",
              "          if (!dataTable) return;\n",
              "\n",
              "          const docLinkHtml = 'Like what you see? Visit the ' +\n",
              "            '<a target=\"_blank\" href=https://colab.research.google.com/notebooks/data_table.ipynb>data table notebook</a>'\n",
              "            + ' to learn more about interactive tables.';\n",
              "          element.innerHTML = '';\n",
              "          dataTable['output_type'] = 'display_data';\n",
              "          await google.colab.output.renderOutput(dataTable, element);\n",
              "          const docLink = document.createElement('div');\n",
              "          docLink.innerHTML = docLinkHtml;\n",
              "          element.appendChild(docLink);\n",
              "        }\n",
              "      </script>\n",
              "    </div>\n",
              "  </div>\n",
              "  "
            ]
          },
          "metadata": {},
          "execution_count": 36
        }
      ]
    },
    {
      "cell_type": "markdown",
      "source": [
        "Рисуем боксплоты Зарплата/График, предварительно обработав данные от выбросов:"
      ],
      "metadata": {
        "id": "xl7jp1Ll0bjL"
      }
    },
    {
      "cell_type": "code",
      "source": [
        "dframe1 = dframe.drop(dframe.loc[(df['salary_from'] > 595000)].index)\n",
        "list_schedule = dframe.schedule.unique()\n",
        "\n",
        "for text in list_schedule:\n",
        "  percentile3 = np.percentile(dframe1[dframe1['schedule'] == text]['salary_from'].dropna(), 3) # 3% процентиль\n",
        "  percentile97 = np.percentile(dframe1[dframe1['schedule'] == text]['salary_from'].dropna(), 97) # 97% процентиль\n",
        "  dframe1 = dframe1.drop(dframe1.loc[(dframe1['schedule'] == text) & (dframe1['salary_from'] > percentile3) & (dframe1['salary_from'] < percentile97)].index)\n",
        "\n",
        "dframe2 = dframe1.drop(dframe1.loc[(dframe1['schedule'] == \"'Вахтовый метод'\") & (dframe1['salary_from'] > 495000)].index)\n",
        "f, ax = plt.subplots(figsize=(6, 6))\n",
        "fig = sns.boxplot(x='schedule', y='salary_from', data = dframe2)\n",
        "plt.xticks(fontsize = 10, rotation = 90) # поворот подписи на 90 градусов\n",
        "plt.show()"
      ],
      "metadata": {
        "colab": {
          "base_uri": "https://localhost:8080/",
          "height": 480
        },
        "id": "tqx49-zs2OFA",
        "outputId": "b5d6639b-76fa-460b-ce37-887e1745ae3e"
      },
      "execution_count": null,
      "outputs": [
        {
          "output_type": "display_data",
          "data": {
            "text/plain": [
              "<Figure size 432x432 with 1 Axes>"
            ],
            "image/png": "[encoded data removed]"
          },
          "metadata": {
            "needs_background": "light"
          }
        }
      ]
    },
    {
      "cell_type": "markdown",
      "source": [
        "Данные Количественны, Данные Не нормальные, Совокупностей более 2-х, Совокупности Независимы, Значит применяем метод Краскала-Уолиса"
      ],
      "metadata": {
        "id": "S6JrcvbM9w3T"
      }
    },
    {
      "cell_type": "code",
      "source": [
        "dfd1=np.array(dframe2[dframe2['schedule']==\"'Сменный график'\"]['salary_from'])\n",
        "dfd2=np.array(dframe2[dframe2['schedule']==\"'Полный день'\"]['salary_from'])\n",
        "dfd3=np.array(dframe2[dframe2['schedule']==\"'Гибкий график'\"]['salary_from'])\n",
        "dfd4=np.array(dframe2[dframe2['schedule']==\"'Удаленная работа'\"]['salary_from'])\n",
        "dfd5=np.array(dframe2[dframe2['schedule']==\"'Вахтовый метод'\"]['salary_from'])\n",
        "stats.mstats.kruskalwallis(dfd1,dfd2,dfd3,dfd4,dfd5)"
      ],
      "metadata": {
        "colab": {
          "base_uri": "https://localhost:8080/"
        },
        "id": "xUm7KCX7Z6xS",
        "outputId": "e74cdf87-7812-49d6-db78-13577f7ab7eb"
      },
      "execution_count": null,
      "outputs": [
        {
          "output_type": "execute_result",
          "data": {
            "text/plain": [
              "KruskalResult(statistic=82.74397424429604, pvalue=4.5651296821451876e-17)"
            ]
          },
          "metadata": {},
          "execution_count": 38
        }
      ]
    },
    {
      "cell_type": "markdown",
      "source": [
        "pvalue < 0.05, значит нулевая гипотеза отклоняется, критерий значим, на ЗП влияет сильно!"
      ],
      "metadata": {
        "id": "KFJcqSr9C5Gx"
      }
    },
    {
      "cell_type": "markdown",
      "source": [
        "# Сравниваем опыт работы и заработную плату:"
      ],
      "metadata": {
        "id": "DPmJ398v1wGT"
      }
    },
    {
      "cell_type": "code",
      "source": [
        "dframe.groupby('experience')[['salary_from']].mean() # оцениваем \"среднее\" зарплаты по опыту работы"
      ],
      "metadata": {
        "colab": {
          "base_uri": "https://localhost:8080/",
          "height": 206
        },
        "id": "IthR8oAq2Fnn",
        "outputId": "0985fe6c-bb21-49f1-8820-a4694f786f53"
      },
      "execution_count": null,
      "outputs": [
        {
          "output_type": "execute_result",
          "data": {
            "text/plain": [
              "                        salary_from\n",
              "experience                         \n",
              "'Более 6 лет'         175138.703297\n",
              "'Нет опыта'            36190.293527\n",
              "'От 1 года до 3 лет'   76003.396158\n",
              "'От 3 до 6 лет'       126036.864063"
            ],
            "text/html": [
              "\n",
              "  <div id=\"df-8de320f8-ba0f-4b80-885a-8128a0812b85\">\n",
              "    <div class=\"colab-df-container\">\n",
              "      <div>\n",
              "<style scoped>\n",
              "    .dataframe tbody tr th:only-of-type {\n",
              "        vertical-align: middle;\n",
              "    }\n",
              "\n",
              "    .dataframe tbody tr th {\n",
              "        vertical-align: top;\n",
              "    }\n",
              "\n",
              "    .dataframe thead th {\n",
              "        text-align: right;\n",
              "    }\n",
              "</style>\n",
              "<table border=\"1\" class=\"dataframe\">\n",
              "  <thead>\n",
              "    <tr style=\"text-align: right;\">\n",
              "      <th></th>\n",
              "      <th>salary_from</th>\n",
              "    </tr>\n",
              "    <tr>\n",
              "      <th>experience</th>\n",
              "      <th></th>\n",
              "    </tr>\n",
              "  </thead>\n",
              "  <tbody>\n",
              "    <tr>\n",
              "      <th>'Более 6 лет'</th>\n",
              "      <td>175138.703297</td>\n",
              "    </tr>\n",
              "    <tr>\n",
              "      <th>'Нет опыта'</th>\n",
              "      <td>36190.293527</td>\n",
              "    </tr>\n",
              "    <tr>\n",
              "      <th>'От 1 года до 3 лет'</th>\n",
              "      <td>76003.396158</td>\n",
              "    </tr>\n",
              "    <tr>\n",
              "      <th>'От 3 до 6 лет'</th>\n",
              "      <td>126036.864063</td>\n",
              "    </tr>\n",
              "  </tbody>\n",
              "</table>\n",
              "</div>\n",
              "      <button class=\"colab-df-convert\" onclick=\"convertToInteractive('df-8de320f8-ba0f-4b80-885a-8128a0812b85')\"\n",
              "              title=\"Convert this dataframe to an interactive table.\"\n",
              "              style=\"display:none;\">\n",
              "        \n",
              "  <svg xmlns=\"http://www.w3.org/2000/svg\" height=\"24px\"viewBox=\"0 0 24 24\"\n",
              "       width=\"24px\">\n",
              "    <path d=\"M0 0h24v24H0V0z\" fill=\"none\"/>\n",
              "    <path d=\"M18.56 5.44l.94 2.06.94-2.06 2.06-.94-2.06-.94-.94-2.06-.94 2.06-2.06.94zm-11 1L8.5 8.5l.94-2.06 2.06-.94-2.06-.94L8.5 2.5l-.94 2.06-2.06.94zm10 10l.94 2.06.94-2.06 2.06-.94-2.06-.94-.94-2.06-.94 2.06-2.06.94z\"/><path d=\"M17.41 7.96l-1.37-1.37c-.4-.4-.92-.59-1.43-.59-.52 0-1.04.2-1.43.59L10.3 9.45l-7.72 7.72c-.78.78-.78 2.05 0 2.83L4 21.41c.39.39.9.59 1.41.59.51 0 1.02-.2 1.41-.59l7.78-7.78 2.81-2.81c.8-.78.8-2.07 0-2.86zM5.41 20L4 18.59l7.72-7.72 1.47 1.35L5.41 20z\"/>\n",
              "  </svg>\n",
              "      </button>\n",
              "      \n",
              "  <style>\n",
              "    .colab-df-container {\n",
              "      display:flex;\n",
              "      flex-wrap:wrap;\n",
              "      gap: 12px;\n",
              "    }\n",
              "\n",
              "    .colab-df-convert {\n",
              "      background-color: #E8F0FE;\n",
              "      border: none;\n",
              "      border-radius: 50%;\n",
              "      cursor: pointer;\n",
              "      display: none;\n",
              "      fill: #1967D2;\n",
              "      height: 32px;\n",
              "      padding: 0 0 0 0;\n",
              "      width: 32px;\n",
              "    }\n",
              "\n",
              "    .colab-df-convert:hover {\n",
              "      background-color: #E2EBFA;\n",
              "      box-shadow: 0px 1px 2px rgba(60, 64, 67, 0.3), 0px 1px 3px 1px rgba(60, 64, 67, 0.15);\n",
              "      fill: #174EA6;\n",
              "    }\n",
              "\n",
              "    [theme=dark] .colab-df-convert {\n",
              "      background-color: #3B4455;\n",
              "      fill: #D2E3FC;\n",
              "    }\n",
              "\n",
              "    [theme=dark] .colab-df-convert:hover {\n",
              "      background-color: #434B5C;\n",
              "      box-shadow: 0px 1px 3px 1px rgba(0, 0, 0, 0.15);\n",
              "      filter: drop-shadow(0px 1px 2px rgba(0, 0, 0, 0.3));\n",
              "      fill: #FFFFFF;\n",
              "    }\n",
              "  </style>\n",
              "\n",
              "      <script>\n",
              "        const buttonEl =\n",
              "          document.querySelector('#df-8de320f8-ba0f-4b80-885a-8128a0812b85 button.colab-df-convert');\n",
              "        buttonEl.style.display =\n",
              "          google.colab.kernel.accessAllowed ? 'block' : 'none';\n",
              "\n",
              "        async function convertToInteractive(key) {\n",
              "          const element = document.querySelector('#df-8de320f8-ba0f-4b80-885a-8128a0812b85');\n",
              "          const dataTable =\n",
              "            await google.colab.kernel.invokeFunction('convertToInteractive',\n",
              "                                                     [key], {});\n",
              "          if (!dataTable) return;\n",
              "\n",
              "          const docLinkHtml = 'Like what you see? Visit the ' +\n",
              "            '<a target=\"_blank\" href=https://colab.research.google.com/notebooks/data_table.ipynb>data table notebook</a>'\n",
              "            + ' to learn more about interactive tables.';\n",
              "          element.innerHTML = '';\n",
              "          dataTable['output_type'] = 'display_data';\n",
              "          await google.colab.output.renderOutput(dataTable, element);\n",
              "          const docLink = document.createElement('div');\n",
              "          docLink.innerHTML = docLinkHtml;\n",
              "          element.appendChild(docLink);\n",
              "        }\n",
              "      </script>\n",
              "    </div>\n",
              "  </div>\n",
              "  "
            ]
          },
          "metadata": {},
          "execution_count": 39
        }
      ]
    },
    {
      "cell_type": "code",
      "source": [
        "# Сравниваем количество объявлений по требуемому опыту работы.\n",
        "dframe.groupby('experience')[['salary_from']].count()"
      ],
      "metadata": {
        "colab": {
          "base_uri": "https://localhost:8080/",
          "height": 206
        },
        "id": "qLZJ-ll92FWQ",
        "outputId": "003e06c9-03fc-4556-c013-587aeb25a90e"
      },
      "execution_count": null,
      "outputs": [
        {
          "output_type": "execute_result",
          "data": {
            "text/plain": [
              "                      salary_from\n",
              "experience                       \n",
              "'Более 6 лет'                 546\n",
              "'Нет опыта'                  3785\n",
              "'От 1 года до 3 лет'        10776\n",
              "'От 3 до 6 лет'              5326"
            ],
            "text/html": [
              "\n",
              "  <div id=\"df-ad3c6585-83e5-4092-8702-eb18de536059\">\n",
              "    <div class=\"colab-df-container\">\n",
              "      <div>\n",
              "<style scoped>\n",
              "    .dataframe tbody tr th:only-of-type {\n",
              "        vertical-align: middle;\n",
              "    }\n",
              "\n",
              "    .dataframe tbody tr th {\n",
              "        vertical-align: top;\n",
              "    }\n",
              "\n",
              "    .dataframe thead th {\n",
              "        text-align: right;\n",
              "    }\n",
              "</style>\n",
              "<table border=\"1\" class=\"dataframe\">\n",
              "  <thead>\n",
              "    <tr style=\"text-align: right;\">\n",
              "      <th></th>\n",
              "      <th>salary_from</th>\n",
              "    </tr>\n",
              "    <tr>\n",
              "      <th>experience</th>\n",
              "      <th></th>\n",
              "    </tr>\n",
              "  </thead>\n",
              "  <tbody>\n",
              "    <tr>\n",
              "      <th>'Более 6 лет'</th>\n",
              "      <td>546</td>\n",
              "    </tr>\n",
              "    <tr>\n",
              "      <th>'Нет опыта'</th>\n",
              "      <td>3785</td>\n",
              "    </tr>\n",
              "    <tr>\n",
              "      <th>'От 1 года до 3 лет'</th>\n",
              "      <td>10776</td>\n",
              "    </tr>\n",
              "    <tr>\n",
              "      <th>'От 3 до 6 лет'</th>\n",
              "      <td>5326</td>\n",
              "    </tr>\n",
              "  </tbody>\n",
              "</table>\n",
              "</div>\n",
              "      <button class=\"colab-df-convert\" onclick=\"convertToInteractive('df-ad3c6585-83e5-4092-8702-eb18de536059')\"\n",
              "              title=\"Convert this dataframe to an interactive table.\"\n",
              "              style=\"display:none;\">\n",
              "        \n",
              "  <svg xmlns=\"http://www.w3.org/2000/svg\" height=\"24px\"viewBox=\"0 0 24 24\"\n",
              "       width=\"24px\">\n",
              "    <path d=\"M0 0h24v24H0V0z\" fill=\"none\"/>\n",
              "    <path d=\"M18.56 5.44l.94 2.06.94-2.06 2.06-.94-2.06-.94-.94-2.06-.94 2.06-2.06.94zm-11 1L8.5 8.5l.94-2.06 2.06-.94-2.06-.94L8.5 2.5l-.94 2.06-2.06.94zm10 10l.94 2.06.94-2.06 2.06-.94-2.06-.94-.94-2.06-.94 2.06-2.06.94z\"/><path d=\"M17.41 7.96l-1.37-1.37c-.4-.4-.92-.59-1.43-.59-.52 0-1.04.2-1.43.59L10.3 9.45l-7.72 7.72c-.78.78-.78 2.05 0 2.83L4 21.41c.39.39.9.59 1.41.59.51 0 1.02-.2 1.41-.59l7.78-7.78 2.81-2.81c.8-.78.8-2.07 0-2.86zM5.41 20L4 18.59l7.72-7.72 1.47 1.35L5.41 20z\"/>\n",
              "  </svg>\n",
              "      </button>\n",
              "      \n",
              "  <style>\n",
              "    .colab-df-container {\n",
              "      display:flex;\n",
              "      flex-wrap:wrap;\n",
              "      gap: 12px;\n",
              "    }\n",
              "\n",
              "    .colab-df-convert {\n",
              "      background-color: #E8F0FE;\n",
              "      border: none;\n",
              "      border-radius: 50%;\n",
              "      cursor: pointer;\n",
              "      display: none;\n",
              "      fill: #1967D2;\n",
              "      height: 32px;\n",
              "      padding: 0 0 0 0;\n",
              "      width: 32px;\n",
              "    }\n",
              "\n",
              "    .colab-df-convert:hover {\n",
              "      background-color: #E2EBFA;\n",
              "      box-shadow: 0px 1px 2px rgba(60, 64, 67, 0.3), 0px 1px 3px 1px rgba(60, 64, 67, 0.15);\n",
              "      fill: #174EA6;\n",
              "    }\n",
              "\n",
              "    [theme=dark] .colab-df-convert {\n",
              "      background-color: #3B4455;\n",
              "      fill: #D2E3FC;\n",
              "    }\n",
              "\n",
              "    [theme=dark] .colab-df-convert:hover {\n",
              "      background-color: #434B5C;\n",
              "      box-shadow: 0px 1px 3px 1px rgba(0, 0, 0, 0.15);\n",
              "      filter: drop-shadow(0px 1px 2px rgba(0, 0, 0, 0.3));\n",
              "      fill: #FFFFFF;\n",
              "    }\n",
              "  </style>\n",
              "\n",
              "      <script>\n",
              "        const buttonEl =\n",
              "          document.querySelector('#df-ad3c6585-83e5-4092-8702-eb18de536059 button.colab-df-convert');\n",
              "        buttonEl.style.display =\n",
              "          google.colab.kernel.accessAllowed ? 'block' : 'none';\n",
              "\n",
              "        async function convertToInteractive(key) {\n",
              "          const element = document.querySelector('#df-ad3c6585-83e5-4092-8702-eb18de536059');\n",
              "          const dataTable =\n",
              "            await google.colab.kernel.invokeFunction('convertToInteractive',\n",
              "                                                     [key], {});\n",
              "          if (!dataTable) return;\n",
              "\n",
              "          const docLinkHtml = 'Like what you see? Visit the ' +\n",
              "            '<a target=\"_blank\" href=https://colab.research.google.com/notebooks/data_table.ipynb>data table notebook</a>'\n",
              "            + ' to learn more about interactive tables.';\n",
              "          element.innerHTML = '';\n",
              "          dataTable['output_type'] = 'display_data';\n",
              "          await google.colab.output.renderOutput(dataTable, element);\n",
              "          const docLink = document.createElement('div');\n",
              "          docLink.innerHTML = docLinkHtml;\n",
              "          element.appendChild(docLink);\n",
              "        }\n",
              "      </script>\n",
              "    </div>\n",
              "  </div>\n",
              "  "
            ]
          },
          "metadata": {},
          "execution_count": 40
        }
      ]
    },
    {
      "cell_type": "markdown",
      "source": [
        "Рисуем боксплоты Зарплата/Опыт, предварительно обработав данные от выбросов:"
      ],
      "metadata": {
        "id": "s5c4DZUf3NsO"
      }
    },
    {
      "cell_type": "code",
      "source": [
        "dframe3=dframe\n",
        "list_experience = dframe.experience.unique()\n",
        "\n",
        "for text in list_experience:\n",
        "  percentile3 = np.percentile(dframe3[dframe3['experience'] == text]['salary_from'].dropna(), 3) # 3% процентиль\n",
        "  percentile97 = np.percentile(dframe3[dframe3['experience'] == text]['salary_from'].dropna(), 97) # 97% процентиль\n",
        "  dframe3 = dframe3.drop(dframe3.loc[(dframe3['experience'] == text) & (dframe3['salary_from'] > percentile3) & (dframe3['salary_from'] < percentile97)].index)\n",
        "\n",
        "dframe4 = dframe3.drop(dframe3.loc[(dframe3['experience'] == \"'От 3 до 6 лет'\") & (dframe3['salary_from'] > 900000)].index)\n",
        "f, ax = plt.subplots(figsize=(6, 6))\n",
        "fig = sns.boxplot(x='experience', y='salary_from', data = dframe4)\n",
        "plt.xticks(fontsize = 10, rotation = 90) # поворот подписи на 90 градусов\n",
        "plt.show()"
      ],
      "metadata": {
        "colab": {
          "base_uri": "https://localhost:8080/",
          "height": 481
        },
        "id": "M8kZnWDG4GFg",
        "outputId": "a45589dd-2343-442d-86d4-ed276a6ea13c"
      },
      "execution_count": null,
      "outputs": [
        {
          "output_type": "display_data",
          "data": {
            "text/plain": [
              "<Figure size 432x432 with 1 Axes>"
            ],
            "image/png": "[encoded data removed]"
          },
          "metadata": {
            "needs_background": "light"
          }
        }
      ]
    },
    {
      "cell_type": "markdown",
      "source": [
        "Данные Количественны, Данные Не нормальные, Совокупностей более 2-х, Совокупности Независимы, Значит применяем метод Краскала-Уолиса"
      ],
      "metadata": {
        "id": "dzPB42Si8fqu"
      }
    },
    {
      "cell_type": "code",
      "source": [
        "dfo1=np.array(dframe4[dframe4['experience']==\"'Нет опыта'\"]['salary_from'])\n",
        "dfo2=np.array(dframe4[dframe4['experience']==\"'От 1 года до 3 лет'\"]['salary_from'])\n",
        "dfo3=np.array(dframe4[dframe4['experience']==\"'От 3 до 6 лет'\"]['salary_from'])\n",
        "dfo4=np.array(dframe4[dframe4['experience']==\"'Более 6 лет'\"]['salary_from'])\n",
        "stats.mstats.kruskalwallis(dfo1,dfo2,dfo3,dfo4)"
      ],
      "metadata": {
        "colab": {
          "base_uri": "https://localhost:8080/"
        },
        "id": "8e4M3U7g4Q4N",
        "outputId": "2f2d5017-74c1-4d1a-c335-3d10da0174aa"
      },
      "execution_count": null,
      "outputs": [
        {
          "output_type": "execute_result",
          "data": {
            "text/plain": [
              "KruskalResult(statistic=326.8290320229038, pvalue=1.5502458435536625e-70)"
            ]
          },
          "metadata": {},
          "execution_count": 42
        }
      ]
    },
    {
      "cell_type": "markdown",
      "source": [
        "pvalue < 0.05, значит нулевая гипотеза отклоняется, критерий значим, на ЗП влияет сильно!"
      ],
      "metadata": {
        "id": "6uo0zFOT-myD"
      }
    },
    {
      "cell_type": "markdown",
      "source": [
        "## Анализ таблиц сопряженности\n",
        "\n",
        "> Оценки связи двух категориальных признаков\n",
        "\n",
        "> Метод позволяет оценить статистическую значимость различий двух относительных показателей (частот, долей).\n",
        "\n",
        "\n",
        "\n",
        "\n",
        "\n"
      ],
      "metadata": {
        "id": "heRMQ2cCcUs8"
      }
    },
    {
      "cell_type": "code",
      "source": [
        "wd=pd.crosstab(dframe['experience'],dframe['schedule']); wd"
      ],
      "metadata": {
        "colab": {
          "base_uri": "https://localhost:8080/",
          "height": 206
        },
        "id": "_HnjzHCbcgXS",
        "outputId": "af1563fe-3579-48b2-f17d-7c71e407ef4d"
      },
      "execution_count": null,
      "outputs": [
        {
          "output_type": "execute_result",
          "data": {
            "text/plain": [
              "schedule              'Вахтовый метод'  'Гибкий график'  'Полный день'  \\\n",
              "experience                                                               \n",
              "'Более 6 лет'                       14               42           1296   \n",
              "'Нет опыта'                          9              257           3607   \n",
              "'От 1 года до 3 лет'                50             1162          19215   \n",
              "'От 3 до 6 лет'                     98              608          11654   \n",
              "\n",
              "schedule              'Сменный график'  'Удаленная работа'  \n",
              "experience                                                  \n",
              "'Более 6 лет'                        3                 263  \n",
              "'Нет опыта'                        273                1901  \n",
              "'От 1 года до 3 лет'               539                4600  \n",
              "'От 3 до 6 лет'                     65                3383  "
            ],
            "text/html": [
              "\n",
              "  <div id=\"df-7ac8f2b6-3d7d-4e95-bd89-c15f002fc6ec\">\n",
              "    <div class=\"colab-df-container\">\n",
              "      <div>\n",
              "<style scoped>\n",
              "    .dataframe tbody tr th:only-of-type {\n",
              "        vertical-align: middle;\n",
              "    }\n",
              "\n",
              "    .dataframe tbody tr th {\n",
              "        vertical-align: top;\n",
              "    }\n",
              "\n",
              "    .dataframe thead th {\n",
              "        text-align: right;\n",
              "    }\n",
              "</style>\n",
              "<table border=\"1\" class=\"dataframe\">\n",
              "  <thead>\n",
              "    <tr style=\"text-align: right;\">\n",
              "      <th>schedule</th>\n",
              "      <th>'Вахтовый метод'</th>\n",
              "      <th>'Гибкий график'</th>\n",
              "      <th>'Полный день'</th>\n",
              "      <th>'Сменный график'</th>\n",
              "      <th>'Удаленная работа'</th>\n",
              "    </tr>\n",
              "    <tr>\n",
              "      <th>experience</th>\n",
              "      <th></th>\n",
              "      <th></th>\n",
              "      <th></th>\n",
              "      <th></th>\n",
              "      <th></th>\n",
              "    </tr>\n",
              "  </thead>\n",
              "  <tbody>\n",
              "    <tr>\n",
              "      <th>'Более 6 лет'</th>\n",
              "      <td>14</td>\n",
              "      <td>42</td>\n",
              "      <td>1296</td>\n",
              "      <td>3</td>\n",
              "      <td>263</td>\n",
              "    </tr>\n",
              "    <tr>\n",
              "      <th>'Нет опыта'</th>\n",
              "      <td>9</td>\n",
              "      <td>257</td>\n",
              "      <td>3607</td>\n",
              "      <td>273</td>\n",
              "      <td>1901</td>\n",
              "    </tr>\n",
              "    <tr>\n",
              "      <th>'От 1 года до 3 лет'</th>\n",
              "      <td>50</td>\n",
              "      <td>1162</td>\n",
              "      <td>19215</td>\n",
              "      <td>539</td>\n",
              "      <td>4600</td>\n",
              "    </tr>\n",
              "    <tr>\n",
              "      <th>'От 3 до 6 лет'</th>\n",
              "      <td>98</td>\n",
              "      <td>608</td>\n",
              "      <td>11654</td>\n",
              "      <td>65</td>\n",
              "      <td>3383</td>\n",
              "    </tr>\n",
              "  </tbody>\n",
              "</table>\n",
              "</div>\n",
              "      <button class=\"colab-df-convert\" onclick=\"convertToInteractive('df-7ac8f2b6-3d7d-4e95-bd89-c15f002fc6ec')\"\n",
              "              title=\"Convert this dataframe to an interactive table.\"\n",
              "              style=\"display:none;\">\n",
              "        \n",
              "  <svg xmlns=\"http://www.w3.org/2000/svg\" height=\"24px\"viewBox=\"0 0 24 24\"\n",
              "       width=\"24px\">\n",
              "    <path d=\"M0 0h24v24H0V0z\" fill=\"none\"/>\n",
              "    <path d=\"M18.56 5.44l.94 2.06.94-2.06 2.06-.94-2.06-.94-.94-2.06-.94 2.06-2.06.94zm-11 1L8.5 8.5l.94-2.06 2.06-.94-2.06-.94L8.5 2.5l-.94 2.06-2.06.94zm10 10l.94 2.06.94-2.06 2.06-.94-2.06-.94-.94-2.06-.94 2.06-2.06.94z\"/><path d=\"M17.41 7.96l-1.37-1.37c-.4-.4-.92-.59-1.43-.59-.52 0-1.04.2-1.43.59L10.3 9.45l-7.72 7.72c-.78.78-.78 2.05 0 2.83L4 21.41c.39.39.9.59 1.41.59.51 0 1.02-.2 1.41-.59l7.78-7.78 2.81-2.81c.8-.78.8-2.07 0-2.86zM5.41 20L4 18.59l7.72-7.72 1.47 1.35L5.41 20z\"/>\n",
              "  </svg>\n",
              "      </button>\n",
              "      \n",
              "  <style>\n",
              "    .colab-df-container {\n",
              "      display:flex;\n",
              "      flex-wrap:wrap;\n",
              "      gap: 12px;\n",
              "    }\n",
              "\n",
              "    .colab-df-convert {\n",
              "      background-color: #E8F0FE;\n",
              "      border: none;\n",
              "      border-radius: 50%;\n",
              "      cursor: pointer;\n",
              "      display: none;\n",
              "      fill: #1967D2;\n",
              "      height: 32px;\n",
              "      padding: 0 0 0 0;\n",
              "      width: 32px;\n",
              "    }\n",
              "\n",
              "    .colab-df-convert:hover {\n",
              "      background-color: #E2EBFA;\n",
              "      box-shadow: 0px 1px 2px rgba(60, 64, 67, 0.3), 0px 1px 3px 1px rgba(60, 64, 67, 0.15);\n",
              "      fill: #174EA6;\n",
              "    }\n",
              "\n",
              "    [theme=dark] .colab-df-convert {\n",
              "      background-color: #3B4455;\n",
              "      fill: #D2E3FC;\n",
              "    }\n",
              "\n",
              "    [theme=dark] .colab-df-convert:hover {\n",
              "      background-color: #434B5C;\n",
              "      box-shadow: 0px 1px 3px 1px rgba(0, 0, 0, 0.15);\n",
              "      filter: drop-shadow(0px 1px 2px rgba(0, 0, 0, 0.3));\n",
              "      fill: #FFFFFF;\n",
              "    }\n",
              "  </style>\n",
              "\n",
              "      <script>\n",
              "        const buttonEl =\n",
              "          document.querySelector('#df-7ac8f2b6-3d7d-4e95-bd89-c15f002fc6ec button.colab-df-convert');\n",
              "        buttonEl.style.display =\n",
              "          google.colab.kernel.accessAllowed ? 'block' : 'none';\n",
              "\n",
              "        async function convertToInteractive(key) {\n",
              "          const element = document.querySelector('#df-7ac8f2b6-3d7d-4e95-bd89-c15f002fc6ec');\n",
              "          const dataTable =\n",
              "            await google.colab.kernel.invokeFunction('convertToInteractive',\n",
              "                                                     [key], {});\n",
              "          if (!dataTable) return;\n",
              "\n",
              "          const docLinkHtml = 'Like what you see? Visit the ' +\n",
              "            '<a target=\"_blank\" href=https://colab.research.google.com/notebooks/data_table.ipynb>data table notebook</a>'\n",
              "            + ' to learn more about interactive tables.';\n",
              "          element.innerHTML = '';\n",
              "          dataTable['output_type'] = 'display_data';\n",
              "          await google.colab.output.renderOutput(dataTable, element);\n",
              "          const docLink = document.createElement('div');\n",
              "          docLink.innerHTML = docLinkHtml;\n",
              "          element.appendChild(docLink);\n",
              "        }\n",
              "      </script>\n",
              "    </div>\n",
              "  </div>\n",
              "  "
            ]
          },
          "metadata": {},
          "execution_count": 43
        }
      ]
    },
    {
      "cell_type": "code",
      "source": [
        "fig = plt.figure(figsize = (10, 10))\n",
        "plt.title(label = \"Связь опыта работы с графиком работы в объявлениях\", fontsize = 14)\n",
        "c=sns.countplot(x=dframe['experience'], hue=dframe['schedule'])\n",
        "c.set_xlabel(\"Опыт работы\", size = 12)\n",
        "c.set_ylabel(\"Количество объявлений\",  fontsize = 12)"
      ],
      "metadata": {
        "colab": {
          "base_uri": "https://localhost:8080/",
          "height": 643
        },
        "id": "QMys-B9yckcJ",
        "outputId": "6bc72f20-294c-4d76-b217-817d13a1ea0b"
      },
      "execution_count": null,
      "outputs": [
        {
          "output_type": "execute_result",
          "data": {
            "text/plain": [
              "Text(0, 0.5, 'Количество объявлений')"
            ]
          },
          "metadata": {},
          "execution_count": 44
        },
        {
          "output_type": "display_data",
          "data": {
            "text/plain": [
              "<Figure size 720x720 with 1 Axes>"
            ],
            "image/png": "[encoded data removed]"
          },
          "metadata": {
            "needs_background": "light"
          }
        }
      ]
    },
    {
      "cell_type": "code",
      "source": [
        "chi2, prob, df, expected = scipy.stats.chi2_contingency(wd)\n",
        "output = \"test Statistics: {}\\ndegrees of freedom: {}\\np-value: {}\\n\"\n",
        "\n",
        "print(output.format( chi2, df, prob))"
      ],
      "metadata": {
        "colab": {
          "base_uri": "https://localhost:8080/"
        },
        "id": "UD7Bfkc5clg0",
        "outputId": "d3f119a4-c1c6-4f16-927d-8aa8464942b3"
      },
      "execution_count": null,
      "outputs": [
        {
          "output_type": "stream",
          "name": "stdout",
          "text": [
            "test Statistics: 1169.943455817406\n",
            "degrees of freedom: 12\n",
            "p-value: 5.131227358584599e-243\n",
            "\n"
          ]
        }
      ]
    },
    {
      "cell_type": "markdown",
      "source": [
        "p-value < 0.05 Нулевую гипотезу отвергаем, показатели значимы. Значит, при построении модели регрессии, не нужно включать в неё оба этих параметра, а только какой-либо один."
      ],
      "metadata": {
        "id": "D7E7vgajNho3"
      }
    },
    {
      "cell_type": "markdown",
      "source": [
        "## Корреляционный анализ Пирсона или Спирмена, Кендалла\n",
        "\n",
        "> Для количественных или порядковых переменных\n",
        "\n"
      ],
      "metadata": {
        "id": "dvAK0B-8dBHV"
      }
    },
    {
      "cell_type": "code",
      "source": [
        "dframe.plot('experience','salary_from',kind=\"scatter\") # Строим диаграмму рассеяния - зависимость Зарплаты от Опыта."
      ],
      "metadata": {
        "id": "tFCI4E-SXiaa",
        "colab": {
          "base_uri": "https://localhost:8080/",
          "height": 307
        },
        "outputId": "cebe0980-24a9-44d7-a51b-709d1fc6550f"
      },
      "execution_count": null,
      "outputs": [
        {
          "output_type": "execute_result",
          "data": {
            "text/plain": [
              "<matplotlib.axes._subplots.AxesSubplot at 0x7f98c5b70b10>"
            ]
          },
          "metadata": {},
          "execution_count": 46
        },
        {
          "output_type": "display_data",
          "data": {
            "text/plain": [
              "<Figure size 432x288 with 1 Axes>"
            ],
            "image/png": "[encoded data removed]"
          },
          "metadata": {
            "needs_background": "light"
          }
        }
      ]
    },
    {
      "cell_type": "code",
      "source": [
        "dframe.plot('salary_from','schedule',kind=\"scatter\") # Строим диаграмму рассеяния - зависимость Зарплаты от Графика."
      ],
      "metadata": {
        "id": "hs2lIxANXiLi",
        "colab": {
          "base_uri": "https://localhost:8080/",
          "height": 297
        },
        "outputId": "36c6a2b7-65ea-4202-a478-ab6fe27919ba"
      },
      "execution_count": null,
      "outputs": [
        {
          "output_type": "execute_result",
          "data": {
            "text/plain": [
              "<matplotlib.axes._subplots.AxesSubplot at 0x7f98c6b2b610>"
            ]
          },
          "metadata": {},
          "execution_count": 47
        },
        {
          "output_type": "display_data",
          "data": {
            "text/plain": [
              "<Figure size 432x288 with 1 Axes>"
            ],
            "image/png": "[encoded data removed]"
          },
          "metadata": {
            "needs_background": "light"
          }
        }
      ]
    },
    {
      "cell_type": "markdown",
      "source": [
        "Так как \"Опыт\" имеет всего 4 значения, а \"график\" - 5 значений, данные диаграммы рассеяния не очень наглядны."
      ],
      "metadata": {
        "id": "8vxnzWumWq3S"
      }
    },
    {
      "cell_type": "code",
      "source": [
        "# Приведём столбцы Опыт и График - к числовому виду\n",
        "def category_in_number(category):\n",
        "  x=0\n",
        "  for text in checklist:\n",
        "    if text == category:\n",
        "      result = x\n",
        "    x+=1\n",
        "  return result\n",
        "\n",
        "checklist=[\"'Сменный график'\", \"'Вахтовый метод'\", \"'Полный день'\",\n",
        "       \"'Гибкий график'\", \"'Удаленная работа'\"]\n",
        "dframe['schedule_number']=dframe.schedule.apply(category_in_number)\n",
        "checklist=[\"'Нет опыта'\", \"'От 1 года до 3 лет'\", \"'От 3 до 6 лет'\",\n",
        "       \"'Более 6 лет'\"]\n",
        "dframe['experience_number']=dframe.experience.apply(category_in_number)"
      ],
      "metadata": {
        "id": "Il_NMfgen1K_"
      },
      "execution_count": null,
      "outputs": []
    },
    {
      "cell_type": "code",
      "source": [
        "dframe[['salary_from','experience_number','schedule_number']].corr(method='spearman')"
      ],
      "metadata": {
        "colab": {
          "base_uri": "https://localhost:8080/",
          "height": 143
        },
        "id": "1WVJOoD8Xa-d",
        "outputId": "eeb90aaf-3b4b-4db6-f0f7-9ad62c2ea037"
      },
      "execution_count": null,
      "outputs": [
        {
          "output_type": "execute_result",
          "data": {
            "text/plain": [
              "                   salary_from  experience_number  schedule_number\n",
              "salary_from           1.000000           0.594565         0.060513\n",
              "experience_number     0.594565           1.000000        -0.024267\n",
              "schedule_number       0.060513          -0.024267         1.000000"
            ],
            "text/html": [
              "\n",
              "  <div id=\"df-6661dc40-c304-48ca-9b48-9c725aa589d4\">\n",
              "    <div class=\"colab-df-container\">\n",
              "      <div>\n",
              "<style scoped>\n",
              "    .dataframe tbody tr th:only-of-type {\n",
              "        vertical-align: middle;\n",
              "    }\n",
              "\n",
              "    .dataframe tbody tr th {\n",
              "        vertical-align: top;\n",
              "    }\n",
              "\n",
              "    .dataframe thead th {\n",
              "        text-align: right;\n",
              "    }\n",
              "</style>\n",
              "<table border=\"1\" class=\"dataframe\">\n",
              "  <thead>\n",
              "    <tr style=\"text-align: right;\">\n",
              "      <th></th>\n",
              "      <th>salary_from</th>\n",
              "      <th>experience_number</th>\n",
              "      <th>schedule_number</th>\n",
              "    </tr>\n",
              "  </thead>\n",
              "  <tbody>\n",
              "    <tr>\n",
              "      <th>salary_from</th>\n",
              "      <td>1.000000</td>\n",
              "      <td>0.594565</td>\n",
              "      <td>0.060513</td>\n",
              "    </tr>\n",
              "    <tr>\n",
              "      <th>experience_number</th>\n",
              "      <td>0.594565</td>\n",
              "      <td>1.000000</td>\n",
              "      <td>-0.024267</td>\n",
              "    </tr>\n",
              "    <tr>\n",
              "      <th>schedule_number</th>\n",
              "      <td>0.060513</td>\n",
              "      <td>-0.024267</td>\n",
              "      <td>1.000000</td>\n",
              "    </tr>\n",
              "  </tbody>\n",
              "</table>\n",
              "</div>\n",
              "      <button class=\"colab-df-convert\" onclick=\"convertToInteractive('df-6661dc40-c304-48ca-9b48-9c725aa589d4')\"\n",
              "              title=\"Convert this dataframe to an interactive table.\"\n",
              "              style=\"display:none;\">\n",
              "        \n",
              "  <svg xmlns=\"http://www.w3.org/2000/svg\" height=\"24px\"viewBox=\"0 0 24 24\"\n",
              "       width=\"24px\">\n",
              "    <path d=\"M0 0h24v24H0V0z\" fill=\"none\"/>\n",
              "    <path d=\"M18.56 5.44l.94 2.06.94-2.06 2.06-.94-2.06-.94-.94-2.06-.94 2.06-2.06.94zm-11 1L8.5 8.5l.94-2.06 2.06-.94-2.06-.94L8.5 2.5l-.94 2.06-2.06.94zm10 10l.94 2.06.94-2.06 2.06-.94-2.06-.94-.94-2.06-.94 2.06-2.06.94z\"/><path d=\"M17.41 7.96l-1.37-1.37c-.4-.4-.92-.59-1.43-.59-.52 0-1.04.2-1.43.59L10.3 9.45l-7.72 7.72c-.78.78-.78 2.05 0 2.83L4 21.41c.39.39.9.59 1.41.59.51 0 1.02-.2 1.41-.59l7.78-7.78 2.81-2.81c.8-.78.8-2.07 0-2.86zM5.41 20L4 18.59l7.72-7.72 1.47 1.35L5.41 20z\"/>\n",
              "  </svg>\n",
              "      </button>\n",
              "      \n",
              "  <style>\n",
              "    .colab-df-container {\n",
              "      display:flex;\n",
              "      flex-wrap:wrap;\n",
              "      gap: 12px;\n",
              "    }\n",
              "\n",
              "    .colab-df-convert {\n",
              "      background-color: #E8F0FE;\n",
              "      border: none;\n",
              "      border-radius: 50%;\n",
              "      cursor: pointer;\n",
              "      display: none;\n",
              "      fill: #1967D2;\n",
              "      height: 32px;\n",
              "      padding: 0 0 0 0;\n",
              "      width: 32px;\n",
              "    }\n",
              "\n",
              "    .colab-df-convert:hover {\n",
              "      background-color: #E2EBFA;\n",
              "      box-shadow: 0px 1px 2px rgba(60, 64, 67, 0.3), 0px 1px 3px 1px rgba(60, 64, 67, 0.15);\n",
              "      fill: #174EA6;\n",
              "    }\n",
              "\n",
              "    [theme=dark] .colab-df-convert {\n",
              "      background-color: #3B4455;\n",
              "      fill: #D2E3FC;\n",
              "    }\n",
              "\n",
              "    [theme=dark] .colab-df-convert:hover {\n",
              "      background-color: #434B5C;\n",
              "      box-shadow: 0px 1px 3px 1px rgba(0, 0, 0, 0.15);\n",
              "      filter: drop-shadow(0px 1px 2px rgba(0, 0, 0, 0.3));\n",
              "      fill: #FFFFFF;\n",
              "    }\n",
              "  </style>\n",
              "\n",
              "      <script>\n",
              "        const buttonEl =\n",
              "          document.querySelector('#df-6661dc40-c304-48ca-9b48-9c725aa589d4 button.colab-df-convert');\n",
              "        buttonEl.style.display =\n",
              "          google.colab.kernel.accessAllowed ? 'block' : 'none';\n",
              "\n",
              "        async function convertToInteractive(key) {\n",
              "          const element = document.querySelector('#df-6661dc40-c304-48ca-9b48-9c725aa589d4');\n",
              "          const dataTable =\n",
              "            await google.colab.kernel.invokeFunction('convertToInteractive',\n",
              "                                                     [key], {});\n",
              "          if (!dataTable) return;\n",
              "\n",
              "          const docLinkHtml = 'Like what you see? Visit the ' +\n",
              "            '<a target=\"_blank\" href=https://colab.research.google.com/notebooks/data_table.ipynb>data table notebook</a>'\n",
              "            + ' to learn more about interactive tables.';\n",
              "          element.innerHTML = '';\n",
              "          dataTable['output_type'] = 'display_data';\n",
              "          await google.colab.output.renderOutput(dataTable, element);\n",
              "          const docLink = document.createElement('div');\n",
              "          docLink.innerHTML = docLinkHtml;\n",
              "          element.appendChild(docLink);\n",
              "        }\n",
              "      </script>\n",
              "    </div>\n",
              "  </div>\n",
              "  "
            ]
          },
          "metadata": {},
          "execution_count": 49
        }
      ]
    },
    {
      "cell_type": "markdown",
      "source": [
        "**Ранговая корреляция Спирмена**\n",
        "Программа берёт все наши количественные показатели, каждый сортирует, меньшему присваивает 1-е значение и т.д. по порядку, делает это для каждого столбца, и сопоставляет их все.\n",
        "Показывает степень тесноты между ранжировками.\n",
        "- Зарплата с опытом работы 0,59 - хороший положительный коэффициент - ранги близки, связь сильная.\n",
        "- Зарплата с графиком работы 0,06 - очень слабый положительный коэффициент - ранги практически отсутствуют, влияние слабое.\n",
        "- Опыт работы с Графиком работы -0,02 - очень слабая противоположность рангов, друг на друга влияют очень слабо."
      ],
      "metadata": {
        "id": "8a8n8c2F4BpQ"
      }
    },
    {
      "cell_type": "markdown",
      "source": [
        "Визуализируем. Интенсивность цвета-степень связи параметров:"
      ],
      "metadata": {
        "id": "DMh1Y8gmBFcs"
      }
    },
    {
      "cell_type": "code",
      "source": [
        "num = ['salary_from','experience_number','schedule_number']\n",
        "hm = sns.heatmap(dframe[num].corr(),annot=True)"
      ],
      "metadata": {
        "colab": {
          "base_uri": "https://localhost:8080/",
          "height": 359
        },
        "id": "4NvIqRZWAqjs",
        "outputId": "77ecde30-6ee6-4fd5-f89d-a150498bd52f"
      },
      "execution_count": null,
      "outputs": [
        {
          "output_type": "display_data",
          "data": {
            "text/plain": [
              "<Figure size 432x288 with 2 Axes>"
            ],
            "image/png": "[encoded data removed]"
          },
          "metadata": {
            "needs_background": "light"
          }
        }
      ]
    },
    {
      "cell_type": "markdown",
      "source": [
        "Чтобы однозначно ответить-значима корреляция или нет, одного коррелляционного коэффициента мало. Нужно применить соответствующщий критерий (проверить гипотезу о незначимости коэффициента).\n",
        "Рассчитаем парные коэффициенты для наших показателей:"
      ],
      "metadata": {
        "id": "GN_1XHzOBXyy"
      }
    },
    {
      "cell_type": "code",
      "source": [
        "# Избавляемся от NaN в зарплате:\n",
        "dframe_not_nan=pd.notnull(dframe['salary_from'])\n",
        "dframe_clean_salary=dframe[dframe_not_nan]"
      ],
      "metadata": {
        "id": "zWsmXzNhHnhz"
      },
      "execution_count": null,
      "outputs": []
    },
    {
      "cell_type": "code",
      "source": [
        "scipy.stats.spearmanr(dframe_clean_salary.salary_from, dframe_clean_salary.experience_number)"
      ],
      "metadata": {
        "colab": {
          "base_uri": "https://localhost:8080/"
        },
        "id": "e4s2P5baF5Yj",
        "outputId": "c2165496-fc9c-4046-cc47-476bd37d223c"
      },
      "execution_count": null,
      "outputs": [
        {
          "output_type": "execute_result",
          "data": {
            "text/plain": [
              "SpearmanrResult(correlation=0.5945653923675026, pvalue=0.0)"
            ]
          },
          "metadata": {},
          "execution_count": 52
        }
      ]
    },
    {
      "cell_type": "code",
      "source": [
        "scipy.stats.spearmanr(dframe_clean_salary.salary_from, dframe_clean_salary.schedule_number)"
      ],
      "metadata": {
        "colab": {
          "base_uri": "https://localhost:8080/"
        },
        "id": "eLxnuGyAGwls",
        "outputId": "e12b5629-8d37-43ce-ae1f-5e12d9c4aab6"
      },
      "execution_count": null,
      "outputs": [
        {
          "output_type": "execute_result",
          "data": {
            "text/plain": [
              "SpearmanrResult(correlation=0.06051292366193586, pvalue=4.8278705318960254e-18)"
            ]
          },
          "metadata": {},
          "execution_count": 53
        }
      ]
    },
    {
      "cell_type": "code",
      "source": [
        "scipy.stats.spearmanr(dframe.schedule_number, dframe.experience_number)"
      ],
      "metadata": {
        "colab": {
          "base_uri": "https://localhost:8080/"
        },
        "id": "GKEdwPPCArxW",
        "outputId": "33687e8f-b1aa-4714-e46f-a2003deee1c2"
      },
      "execution_count": null,
      "outputs": [
        {
          "output_type": "execute_result",
          "data": {
            "text/plain": [
              "SpearmanrResult(correlation=-0.02426668040570009, pvalue=7.68166489391925e-08)"
            ]
          },
          "metadata": {},
          "execution_count": 54
        }
      ]
    },
    {
      "cell_type": "markdown",
      "source": [
        "- Первая цифра - значение парного коррелляционного коэфициента;\n",
        "- Вторая цифра - p-value для гипотезы о незначимости этого коэффициента (о равенстве его нулю)\n",
        "- Все сделанные нами ранее выводы подтвердились"
      ],
      "metadata": {
        "id": "EwzKwiEuCmPl"
      }
    },
    {
      "cell_type": "markdown",
      "source": [
        "# 6. Регрессионная модель"
      ],
      "metadata": {
        "id": "kUQz_FvBdakF"
      }
    },
    {
      "cell_type": "code",
      "source": [
        "# Диаграмма рассеяния\n",
        "b=sns.set(style=\"darkgrid\")\n",
        "b=sns.jointplot('experience_number', 'salary_from', data=dframe_clean_salary, kind=\"reg\")\n",
        "b.ax_joint.set_xlabel('Нет опыта   от1до3лет   от3до6лет   более 6лет')\n",
        "b.ax_joint.set_ylabel('Начальная Заработная плата')"
      ],
      "metadata": {
        "colab": {
          "base_uri": "https://localhost:8080/",
          "height": 509
        },
        "id": "YemqiVD-dp3t",
        "outputId": "47fc4963-07ff-4598-efc0-4d28dd0bae50"
      },
      "execution_count": null,
      "outputs": [
        {
          "output_type": "stream",
          "name": "stderr",
          "text": [
            "/usr/local/lib/python3.7/dist-packages/seaborn/_decorators.py:43: FutureWarning: Pass the following variables as keyword args: x, y. From version 0.12, the only valid positional argument will be `data`, and passing other arguments without an explicit keyword will result in an error or misinterpretation.\n",
            "  FutureWarning\n"
          ]
        },
        {
          "output_type": "execute_result",
          "data": {
            "text/plain": [
              "Text(23.125, 0.5, 'Начальная Заработная плата')"
            ]
          },
          "metadata": {},
          "execution_count": 58
        },
        {
          "output_type": "display_data",
          "data": {
            "text/plain": [
              "<Figure size 432x432 with 3 Axes>"
            ],
            "image/png": "[encoded data removed]"
          },
          "metadata": {}
        }
      ]
    },
    {
      "cell_type": "markdown",
      "source": [
        "- По графику видим, что есть выраженная зависимостьть Y от Х, также построен доверительный интервал + проекции остатков на каждую ось + гистограммы + оценка плотностей.\n",
        "Конечно, линейная регрессия в данном случае не годится. Применим модель множественной регрессии"
      ],
      "metadata": {
        "id": "woDdMYoKQyCA"
      }
    },
    {
      "cell_type": "markdown",
      "source": [
        "# Модель множественной регрессии OLS"
      ],
      "metadata": {
        "id": "YjnhPuPbbt2I"
      }
    },
    {
      "cell_type": "code",
      "source": [
        "resultsm = smf.ols('salary_from ~ C(experience_number)', data=dframe_clean_salary).fit()\n",
        "resultsm.summary()"
      ],
      "metadata": {
        "colab": {
          "base_uri": "https://localhost:8080/",
          "height": 494
        },
        "id": "glC0ZVNTEnwt",
        "outputId": "2f6b8456-5934-48c3-f505-ae07348a6b08"
      },
      "execution_count": null,
      "outputs": [
        {
          "output_type": "execute_result",
          "data": {
            "text/plain": [
              "<class 'statsmodels.iolib.summary.Summary'>\n",
              "\"\"\"\n",
              "                            OLS Regression Results                            \n",
              "==============================================================================\n",
              "Dep. Variable:            salary_from   R-squared:                       0.257\n",
              "Model:                            OLS   Adj. R-squared:                  0.257\n",
              "Method:                 Least Squares   F-statistic:                     2359.\n",
              "Date:                Thu, 29 Sep 2022   Prob (F-statistic):               0.00\n",
              "Time:                        02:39:26   Log-Likelihood:            -2.5288e+05\n",
              "No. Observations:               20433   AIC:                         5.058e+05\n",
              "Df Residuals:                   20429   BIC:                         5.058e+05\n",
              "Df Model:                           3                                         \n",
              "Covariance Type:            nonrobust                                         \n",
              "=============================================================================================\n",
              "                                coef    std err          t      P>|t|      [0.025      0.975]\n",
              "---------------------------------------------------------------------------------------------\n",
              "Intercept                  3.619e+04    932.436     38.813      0.000    3.44e+04     3.8e+04\n",
              "C(experience_number)[T.1]  3.981e+04   1083.891     36.732      0.000    3.77e+04    4.19e+04\n",
              "C(experience_number)[T.2]  8.985e+04   1219.555     73.672      0.000    8.75e+04    9.22e+04\n",
              "C(experience_number)[T.3]  1.389e+05   2626.133     52.910      0.000    1.34e+05    1.44e+05\n",
              "==============================================================================\n",
              "Omnibus:                    11109.059   Durbin-Watson:                   1.413\n",
              "Prob(Omnibus):                  0.000   Jarque-Bera (JB):           148110.799\n",
              "Skew:                           2.329   Prob(JB):                         0.00\n",
              "Kurtosis:                      15.340   Cond. No.                         7.98\n",
              "==============================================================================\n",
              "\n",
              "Notes:\n",
              "[1] Standard Errors assume that the covariance matrix of the errors is correctly specified.\n",
              "\"\"\""
            ],
            "text/html": [
              "<table class=\"simpletable\">\n",
              "<caption>OLS Regression Results</caption>\n",
              "<tr>\n",
              "  <th>Dep. Variable:</th>       <td>salary_from</td>   <th>  R-squared:         </th>  <td>   0.257</td>  \n",
              "</tr>\n",
              "<tr>\n",
              "  <th>Model:</th>                   <td>OLS</td>       <th>  Adj. R-squared:    </th>  <td>   0.257</td>  \n",
              "</tr>\n",
              "<tr>\n",
              "  <th>Method:</th>             <td>Least Squares</td>  <th>  F-statistic:       </th>  <td>   2359.</td>  \n",
              "</tr>\n",
              "<tr>\n",
              "  <th>Date:</th>             <td>Thu, 29 Sep 2022</td> <th>  Prob (F-statistic):</th>   <td>  0.00</td>   \n",
              "</tr>\n",
              "<tr>\n",
              "  <th>Time:</th>                 <td>02:39:26</td>     <th>  Log-Likelihood:    </th> <td>-2.5288e+05</td>\n",
              "</tr>\n",
              "<tr>\n",
              "  <th>No. Observations:</th>      <td> 20433</td>      <th>  AIC:               </th>  <td>5.058e+05</td> \n",
              "</tr>\n",
              "<tr>\n",
              "  <th>Df Residuals:</th>          <td> 20429</td>      <th>  BIC:               </th>  <td>5.058e+05</td> \n",
              "</tr>\n",
              "<tr>\n",
              "  <th>Df Model:</th>              <td>     3</td>      <th>                     </th>      <td> </td>     \n",
              "</tr>\n",
              "<tr>\n",
              "  <th>Covariance Type:</th>      <td>nonrobust</td>    <th>                     </th>      <td> </td>     \n",
              "</tr>\n",
              "</table>\n",
              "<table class=\"simpletable\">\n",
              "<tr>\n",
              "              <td></td>                 <th>coef</th>     <th>std err</th>      <th>t</th>      <th>P>|t|</th>  <th>[0.025</th>    <th>0.975]</th>  \n",
              "</tr>\n",
              "<tr>\n",
              "  <th>Intercept</th>                 <td> 3.619e+04</td> <td>  932.436</td> <td>   38.813</td> <td> 0.000</td> <td> 3.44e+04</td> <td>  3.8e+04</td>\n",
              "</tr>\n",
              "<tr>\n",
              "  <th>C(experience_number)[T.1]</th> <td> 3.981e+04</td> <td> 1083.891</td> <td>   36.732</td> <td> 0.000</td> <td> 3.77e+04</td> <td> 4.19e+04</td>\n",
              "</tr>\n",
              "<tr>\n",
              "  <th>C(experience_number)[T.2]</th> <td> 8.985e+04</td> <td> 1219.555</td> <td>   73.672</td> <td> 0.000</td> <td> 8.75e+04</td> <td> 9.22e+04</td>\n",
              "</tr>\n",
              "<tr>\n",
              "  <th>C(experience_number)[T.3]</th> <td> 1.389e+05</td> <td> 2626.133</td> <td>   52.910</td> <td> 0.000</td> <td> 1.34e+05</td> <td> 1.44e+05</td>\n",
              "</tr>\n",
              "</table>\n",
              "<table class=\"simpletable\">\n",
              "<tr>\n",
              "  <th>Omnibus:</th>       <td>11109.059</td> <th>  Durbin-Watson:     </th>  <td>   1.413</td> \n",
              "</tr>\n",
              "<tr>\n",
              "  <th>Prob(Omnibus):</th>  <td> 0.000</td>   <th>  Jarque-Bera (JB):  </th> <td>148110.799</td>\n",
              "</tr>\n",
              "<tr>\n",
              "  <th>Skew:</th>           <td> 2.329</td>   <th>  Prob(JB):          </th>  <td>    0.00</td> \n",
              "</tr>\n",
              "<tr>\n",
              "  <th>Kurtosis:</th>       <td>15.340</td>   <th>  Cond. No.          </th>  <td>    7.98</td> \n",
              "</tr>\n",
              "</table><br/><br/>Notes:<br/>[1] Standard Errors assume that the covariance matrix of the errors is correctly specified."
            ]
          },
          "metadata": {},
          "execution_count": 51
        }
      ]
    },
    {
      "cell_type": "markdown",
      "source": [
        "Нас интересует R-squared(коэффициент Детерминации) = 25,7%; \"Adj.R-squared\"(скорректированный коэффициент Детерминации); F-statistic(статистика Фишера); Prob(F-statistic) = p-value = 0, очень надёжно отклоняем гипотезу о незначимости модели, наша модель статистически-значима; Intercept(своб.член) = 3.619e+04; std err(разброс знач-ий для своб.члена и \"стоимости за единицу опытности\"); t(статистики Стьюдента для проверки о незначимости); P>|t|(p-value для гипотезы о том, что параметры нам не нужны)-равны 0, гипотеза отклоняется; [0.025\t0.975] - доверительные интервалы. Для анализа остатков: Jarque-Bera(JB)-критерий Жарка-Бера; Skew(коэффициент Асимметрии); Kurtosis(коэффициент Эксцесса без смещения); Prob(JB)-(p-value)=0 < 0,05 - Нулевую гипотезу отклоняем (шумы ненормально распределены); Durbin-Watson:(статистика Дарбина-Ватсона про некоррелированность наблюдений) = 1,413 - выборка наша пространственная, корреляции быть не должно"
      ],
      "metadata": {
        "id": "mn-wGIa8lcYM"
      }
    },
    {
      "cell_type": "markdown",
      "source": [
        "# 7. Формулируем гипотезу и проверяем её"
      ],
      "metadata": {
        "id": "rPPQOTOfTzov"
      }
    },
    {
      "cell_type": "markdown",
      "source": [
        "**Статистическая гипотеза:**\n",
        "Заработная плата не связана с графиком работы."
      ],
      "metadata": {
        "id": "q0I6ZnWZIaOE"
      }
    },
    {
      "cell_type": "markdown",
      "source": [
        "- Датасет у нас подготовлен (dframe_clean_salary - удалены строки с отсутствущей заработной платой), целевые данные для проверки гипотезы: salary_from (начальная заработная плата) и schedule_number (закодированный от 0 до 4 вариант графика работы)"
      ],
      "metadata": {
        "id": "TuknXrabPshy"
      }
    },
    {
      "cell_type": "code",
      "source": [
        "# Диаграмма рассеяния\n",
        "h=sns.set(style=\"darkgrid\")\n",
        "h=sns.jointplot('schedule_number', 'salary_from', data=dframe_clean_salary, kind=\"reg\")\n",
        "h.ax_joint.set_xlabel('Удаленно  Полный день  Сменный  Гибкий  Вахтовый')\n",
        "h.ax_joint.set_ylabel('Начальная Заработная плата')"
      ],
      "metadata": {
        "colab": {
          "base_uri": "https://localhost:8080/",
          "height": 509
        },
        "id": "yCuD_vCYRN6t",
        "outputId": "13aae597-7d14-4871-9a2d-1a555831d8da"
      },
      "execution_count": null,
      "outputs": [
        {
          "output_type": "stream",
          "name": "stderr",
          "text": [
            "/usr/local/lib/python3.7/dist-packages/seaborn/_decorators.py:43: FutureWarning: Pass the following variables as keyword args: x, y. From version 0.12, the only valid positional argument will be `data`, and passing other arguments without an explicit keyword will result in an error or misinterpretation.\n",
            "  FutureWarning\n"
          ]
        },
        {
          "output_type": "execute_result",
          "data": {
            "text/plain": [
              "Text(23.125, 0.5, 'Начальная Заработная плата')"
            ]
          },
          "metadata": {},
          "execution_count": 66
        },
        {
          "output_type": "display_data",
          "data": {
            "text/plain": [
              "<Figure size 432x432 with 3 Axes>"
            ],
            "image/png": "[encoded data removed]"
          },
          "metadata": {}
        }
      ]
    },
    {
      "cell_type": "code",
      "source": [
        "# Проверяем гипотезу:\n",
        "resultsm2 = smf.ols('salary_from ~ C(schedule_number)', data=dframe_clean_salary).fit()\n",
        "resultsm2.summary()"
      ],
      "metadata": {
        "colab": {
          "base_uri": "https://localhost:8080/",
          "height": 516
        },
        "id": "IiR70Ak9Lccq",
        "outputId": "e071257c-de1a-45a1-a1f2-5116d0a1c7c7"
      },
      "execution_count": null,
      "outputs": [
        {
          "output_type": "execute_result",
          "data": {
            "text/plain": [
              "<class 'statsmodels.iolib.summary.Summary'>\n",
              "\"\"\"\n",
              "                            OLS Regression Results                            \n",
              "==============================================================================\n",
              "Dep. Variable:            salary_from   R-squared:                       0.026\n",
              "Model:                            OLS   Adj. R-squared:                  0.026\n",
              "Method:                 Least Squares   F-statistic:                     138.3\n",
              "Date:                Thu, 29 Sep 2022   Prob (F-statistic):          8.34e-117\n",
              "Time:                        02:39:26   Log-Likelihood:            -2.5565e+05\n",
              "No. Observations:               20433   AIC:                         5.113e+05\n",
              "Df Residuals:                   20428   BIC:                         5.113e+05\n",
              "Df Model:                           4                                         \n",
              "Covariance Type:            nonrobust                                         \n",
              "===========================================================================================\n",
              "                              coef    std err          t      P>|t|      [0.025      0.975]\n",
              "-------------------------------------------------------------------------------------------\n",
              "Intercept                4.489e+04   2883.093     15.569      0.000    3.92e+04    5.05e+04\n",
              "C(schedule_number)[T.1]  7.911e+04   7499.738     10.549      0.000    6.44e+04    9.38e+04\n",
              "C(schedule_number)[T.2]  3.531e+04   2933.391     12.039      0.000    2.96e+04    4.11e+04\n",
              "C(schedule_number)[T.3]  5.342e+04   3734.185     14.305      0.000    4.61e+04    6.07e+04\n",
              "C(schedule_number)[T.4]  5.494e+04   3051.672     18.005      0.000     4.9e+04    6.09e+04\n",
              "==============================================================================\n",
              "Omnibus:                    10006.636   Durbin-Watson:                   1.214\n",
              "Prob(Omnibus):                  0.000   Jarque-Bera (JB):            92430.423\n",
              "Skew:                           2.156   Prob(JB):                         0.00\n",
              "Kurtosis:                      12.485   Cond. No.                         22.4\n",
              "==============================================================================\n",
              "\n",
              "Notes:\n",
              "[1] Standard Errors assume that the covariance matrix of the errors is correctly specified.\n",
              "\"\"\""
            ],
            "text/html": [
              "<table class=\"simpletable\">\n",
              "<caption>OLS Regression Results</caption>\n",
              "<tr>\n",
              "  <th>Dep. Variable:</th>       <td>salary_from</td>   <th>  R-squared:         </th>  <td>   0.026</td>  \n",
              "</tr>\n",
              "<tr>\n",
              "  <th>Model:</th>                   <td>OLS</td>       <th>  Adj. R-squared:    </th>  <td>   0.026</td>  \n",
              "</tr>\n",
              "<tr>\n",
              "  <th>Method:</th>             <td>Least Squares</td>  <th>  F-statistic:       </th>  <td>   138.3</td>  \n",
              "</tr>\n",
              "<tr>\n",
              "  <th>Date:</th>             <td>Thu, 29 Sep 2022</td> <th>  Prob (F-statistic):</th>  <td>8.34e-117</td> \n",
              "</tr>\n",
              "<tr>\n",
              "  <th>Time:</th>                 <td>02:39:26</td>     <th>  Log-Likelihood:    </th> <td>-2.5565e+05</td>\n",
              "</tr>\n",
              "<tr>\n",
              "  <th>No. Observations:</th>      <td> 20433</td>      <th>  AIC:               </th>  <td>5.113e+05</td> \n",
              "</tr>\n",
              "<tr>\n",
              "  <th>Df Residuals:</th>          <td> 20428</td>      <th>  BIC:               </th>  <td>5.113e+05</td> \n",
              "</tr>\n",
              "<tr>\n",
              "  <th>Df Model:</th>              <td>     4</td>      <th>                     </th>      <td> </td>     \n",
              "</tr>\n",
              "<tr>\n",
              "  <th>Covariance Type:</th>      <td>nonrobust</td>    <th>                     </th>      <td> </td>     \n",
              "</tr>\n",
              "</table>\n",
              "<table class=\"simpletable\">\n",
              "<tr>\n",
              "             <td></td>                <th>coef</th>     <th>std err</th>      <th>t</th>      <th>P>|t|</th>  <th>[0.025</th>    <th>0.975]</th>  \n",
              "</tr>\n",
              "<tr>\n",
              "  <th>Intercept</th>               <td> 4.489e+04</td> <td> 2883.093</td> <td>   15.569</td> <td> 0.000</td> <td> 3.92e+04</td> <td> 5.05e+04</td>\n",
              "</tr>\n",
              "<tr>\n",
              "  <th>C(schedule_number)[T.1]</th> <td> 7.911e+04</td> <td> 7499.738</td> <td>   10.549</td> <td> 0.000</td> <td> 6.44e+04</td> <td> 9.38e+04</td>\n",
              "</tr>\n",
              "<tr>\n",
              "  <th>C(schedule_number)[T.2]</th> <td> 3.531e+04</td> <td> 2933.391</td> <td>   12.039</td> <td> 0.000</td> <td> 2.96e+04</td> <td> 4.11e+04</td>\n",
              "</tr>\n",
              "<tr>\n",
              "  <th>C(schedule_number)[T.3]</th> <td> 5.342e+04</td> <td> 3734.185</td> <td>   14.305</td> <td> 0.000</td> <td> 4.61e+04</td> <td> 6.07e+04</td>\n",
              "</tr>\n",
              "<tr>\n",
              "  <th>C(schedule_number)[T.4]</th> <td> 5.494e+04</td> <td> 3051.672</td> <td>   18.005</td> <td> 0.000</td> <td>  4.9e+04</td> <td> 6.09e+04</td>\n",
              "</tr>\n",
              "</table>\n",
              "<table class=\"simpletable\">\n",
              "<tr>\n",
              "  <th>Omnibus:</th>       <td>10006.636</td> <th>  Durbin-Watson:     </th> <td>   1.214</td> \n",
              "</tr>\n",
              "<tr>\n",
              "  <th>Prob(Omnibus):</th>  <td> 0.000</td>   <th>  Jarque-Bera (JB):  </th> <td>92430.423</td>\n",
              "</tr>\n",
              "<tr>\n",
              "  <th>Skew:</th>           <td> 2.156</td>   <th>  Prob(JB):          </th> <td>    0.00</td> \n",
              "</tr>\n",
              "<tr>\n",
              "  <th>Kurtosis:</th>       <td>12.485</td>   <th>  Cond. No.          </th> <td>    22.4</td> \n",
              "</tr>\n",
              "</table><br/><br/>Notes:<br/>[1] Standard Errors assume that the covariance matrix of the errors is correctly specified."
            ]
          },
          "metadata": {},
          "execution_count": 52
        }
      ]
    },
    {
      "cell_type": "markdown",
      "source": [
        "Видим, что данный критерий значим (p-value везде <0.05), наша нулевая гипотеза отклоняется, график работы влияет на Заработную плату"
      ],
      "metadata": {
        "id": "9z8485LNN9Up"
      }
    },
    {
      "cell_type": "markdown",
      "source": [
        "# ВЫВОДЫ\n",
        "График работы также влияет на уровень заработной платы, но по сравнению с опытом работы - в меньшей степени. Это наглядно видно в результате анализа таблиц сопряженности, по тепловым картам."
      ],
      "metadata": {
        "id": "WvtspYDKYDY7"
      }
    },
    {
      "cell_type": "markdown",
      "source": [
        "# Общие результаты проведённого анализа\n",
        "И Опыт работы, и график работы - оказывают влияние на уровень заработной платы. Опыт - имеет сильное влияние, график - в меньшей степени."
      ],
      "metadata": {
        "id": "l_VENPQQomMm"
      }
    },
    {
      "cell_type": "markdown",
      "source": [
        "Спасибо за представленное решение Рекомендации: Корреляционный анализ Пирсона или Спирмена проводится для количественных или порядковых переменных. У Вас зачет"
      ],
      "metadata": {
        "id": "HZpITgUOeXTx"
      }
    }
  ]
}
